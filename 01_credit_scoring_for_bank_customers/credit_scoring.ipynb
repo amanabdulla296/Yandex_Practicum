{
 "cells": [
  {
   "cell_type": "markdown",
   "metadata": {},
   "source": [
    "# Analyzing borrowers’ risk of defaulting\n",
    "\n",
    "Your project is to prepare a report for a bank’s loan division. You’ll need to find out if a customer’s marital status and number of children has an impact on whether they will default on a loan. The bank already has some data on customers’ credit worthiness.\n",
    "\n",
    "Your report will be considered when building a **credit scoring** of a potential customer. A ** credit scoring ** is used to evaluate the ability of a potential borrower to repay their loan.\n",
    "\n",
    "Here is brief steps we are going to implement:\n",
    "- import necessary libraries\n",
    "- open and get familier ourselves with the data\n",
    "- check if there are missing values\n",
    "- fix missin values\n",
    "- check and fix duplicates\n",
    "- categorize data according to the questions\n",
    "- answer the questions from the description of project"
   ]
  },
  {
   "cell_type": "markdown",
   "metadata": {},
   "source": [
    "---"
   ]
  },
  {
   "cell_type": "markdown",
   "metadata": {},
   "source": [
    "## Open the data file and have a look at the general information. "
   ]
  },
  {
   "cell_type": "code",
   "execution_count": 67,
   "metadata": {
    "scrolled": true
   },
   "outputs": [],
   "source": [
    "# import all required dependencies\n",
    "import pandas as pd\n",
    "\n",
    "# import NLTK and stemmer for working with texts\n",
    "import nltk\n",
    "from nltk.stem import SnowballStemmer\n",
    "stemmer = SnowballStemmer('english')\n",
    "from collections import Counter\n",
    "\n",
    "#read the data and assign it to the credit_data variable\n",
    "credit_data = pd.read_csv('credit_scoring_eng.csv')"
   ]
  },
  {
   "cell_type": "code",
   "execution_count": 68,
   "metadata": {
    "scrolled": false
   },
   "outputs": [
    {
     "data": {
      "text/html": [
       "<div>\n",
       "<style scoped>\n",
       "    .dataframe tbody tr th:only-of-type {\n",
       "        vertical-align: middle;\n",
       "    }\n",
       "\n",
       "    .dataframe tbody tr th {\n",
       "        vertical-align: top;\n",
       "    }\n",
       "\n",
       "    .dataframe thead th {\n",
       "        text-align: right;\n",
       "    }\n",
       "</style>\n",
       "<table border=\"1\" class=\"dataframe\">\n",
       "  <thead>\n",
       "    <tr style=\"text-align: right;\">\n",
       "      <th></th>\n",
       "      <th>children</th>\n",
       "      <th>days_employed</th>\n",
       "      <th>dob_years</th>\n",
       "      <th>education</th>\n",
       "      <th>education_id</th>\n",
       "      <th>family_status</th>\n",
       "      <th>family_status_id</th>\n",
       "      <th>gender</th>\n",
       "      <th>income_type</th>\n",
       "      <th>debt</th>\n",
       "      <th>total_income</th>\n",
       "      <th>purpose</th>\n",
       "    </tr>\n",
       "  </thead>\n",
       "  <tbody>\n",
       "    <tr>\n",
       "      <th>8155</th>\n",
       "      <td>0</td>\n",
       "      <td>-2388.270288</td>\n",
       "      <td>36</td>\n",
       "      <td>secondary education</td>\n",
       "      <td>1</td>\n",
       "      <td>divorced</td>\n",
       "      <td>3</td>\n",
       "      <td>M</td>\n",
       "      <td>employee</td>\n",
       "      <td>0</td>\n",
       "      <td>40173.748</td>\n",
       "      <td>construction of own property</td>\n",
       "    </tr>\n",
       "    <tr>\n",
       "      <th>5245</th>\n",
       "      <td>0</td>\n",
       "      <td>337704.080257</td>\n",
       "      <td>61</td>\n",
       "      <td>secondary education</td>\n",
       "      <td>1</td>\n",
       "      <td>widow / widower</td>\n",
       "      <td>2</td>\n",
       "      <td>M</td>\n",
       "      <td>retiree</td>\n",
       "      <td>1</td>\n",
       "      <td>10176.089</td>\n",
       "      <td>getting an education</td>\n",
       "    </tr>\n",
       "    <tr>\n",
       "      <th>9484</th>\n",
       "      <td>0</td>\n",
       "      <td>-923.801907</td>\n",
       "      <td>50</td>\n",
       "      <td>bachelor's degree</td>\n",
       "      <td>0</td>\n",
       "      <td>divorced</td>\n",
       "      <td>3</td>\n",
       "      <td>F</td>\n",
       "      <td>civil servant</td>\n",
       "      <td>0</td>\n",
       "      <td>69608.000</td>\n",
       "      <td>property</td>\n",
       "    </tr>\n",
       "    <tr>\n",
       "      <th>16874</th>\n",
       "      <td>0</td>\n",
       "      <td>-454.390441</td>\n",
       "      <td>52</td>\n",
       "      <td>secondary education</td>\n",
       "      <td>1</td>\n",
       "      <td>married</td>\n",
       "      <td>0</td>\n",
       "      <td>F</td>\n",
       "      <td>employee</td>\n",
       "      <td>0</td>\n",
       "      <td>34136.222</td>\n",
       "      <td>university education</td>\n",
       "    </tr>\n",
       "    <tr>\n",
       "      <th>3488</th>\n",
       "      <td>2</td>\n",
       "      <td>-4719.667259</td>\n",
       "      <td>56</td>\n",
       "      <td>bachelor's degree</td>\n",
       "      <td>0</td>\n",
       "      <td>married</td>\n",
       "      <td>0</td>\n",
       "      <td>M</td>\n",
       "      <td>employee</td>\n",
       "      <td>0</td>\n",
       "      <td>38778.026</td>\n",
       "      <td>car</td>\n",
       "    </tr>\n",
       "  </tbody>\n",
       "</table>\n",
       "</div>"
      ],
      "text/plain": [
       "       children  days_employed  dob_years            education  education_id  \\\n",
       "8155          0   -2388.270288         36  secondary education             1   \n",
       "5245          0  337704.080257         61  secondary education             1   \n",
       "9484          0    -923.801907         50    bachelor's degree             0   \n",
       "16874         0    -454.390441         52  secondary education             1   \n",
       "3488          2   -4719.667259         56    bachelor's degree             0   \n",
       "\n",
       "         family_status  family_status_id gender    income_type  debt  \\\n",
       "8155          divorced                 3      M       employee     0   \n",
       "5245   widow / widower                 2      M        retiree     1   \n",
       "9484          divorced                 3      F  civil servant     0   \n",
       "16874          married                 0      F       employee     0   \n",
       "3488           married                 0      M       employee     0   \n",
       "\n",
       "       total_income                       purpose  \n",
       "8155      40173.748  construction of own property  \n",
       "5245      10176.089          getting an education  \n",
       "9484      69608.000                      property  \n",
       "16874     34136.222          university education  \n",
       "3488      38778.026                           car  "
      ]
     },
     "execution_count": 68,
     "metadata": {},
     "output_type": "execute_result"
    }
   ],
   "source": [
    "#get familiarize with datas by sample 5 rows of data\n",
    "credit_data.sample(5)"
   ]
  },
  {
   "cell_type": "markdown",
   "metadata": {},
   "source": [
    "> it is better experience to have sample rows from data rather than just head of data, therefore ```sample()``` method is applied.\n",
    "\n",
    "> ```dob_years``` column name is not clear at a first glance, but in the description of data it was provided that it is an age of customers. If so, let's change the column name to ```customer_age```. Other column names seems clear!"
   ]
  },
  {
   "cell_type": "code",
   "execution_count": 69,
   "metadata": {
    "scrolled": true
   },
   "outputs": [],
   "source": [
    "#rename the column name\n",
    "credit_data.rename(columns={'dob_years':'customer_age'}, inplace=True)"
   ]
  },
  {
   "cell_type": "code",
   "execution_count": 70,
   "metadata": {
    "scrolled": true
   },
   "outputs": [
    {
     "name": "stdout",
     "output_type": "stream",
     "text": [
      "Table has 21525 rows, 12 columns  and 258300 observations in total.\n",
      "\n",
      "\n",
      "Datatypes of columns are as follow:\n",
      "----------\n",
      "<class 'pandas.core.frame.DataFrame'>\n",
      "RangeIndex: 21525 entries, 0 to 21524\n",
      "Data columns (total 12 columns):\n",
      " #   Column            Non-Null Count  Dtype  \n",
      "---  ------            --------------  -----  \n",
      " 0   children          21525 non-null  int64  \n",
      " 1   days_employed     19351 non-null  float64\n",
      " 2   customer_age      21525 non-null  int64  \n",
      " 3   education         21525 non-null  object \n",
      " 4   education_id      21525 non-null  int64  \n",
      " 5   family_status     21525 non-null  object \n",
      " 6   family_status_id  21525 non-null  int64  \n",
      " 7   gender            21525 non-null  object \n",
      " 8   income_type       21525 non-null  object \n",
      " 9   debt              21525 non-null  int64  \n",
      " 10  total_income      19351 non-null  float64\n",
      " 11  purpose           21525 non-null  object \n",
      "dtypes: float64(2), int64(5), object(5)\n",
      "memory usage: 2.0+ MB\n"
     ]
    }
   ],
   "source": [
    "# get know about the shape of data and info about each column's datatype\n",
    "print('Table has {} rows, {} columns  and {} observations in total.'\n",
    "      .format(credit_data.shape[0], credit_data.shape[1], (credit_data.shape[0]*credit_data.shape[1])))\n",
    "print()\n",
    "print()\n",
    "print('Datatypes of columns are as follow:')\n",
    "print('----------')\n",
    "credit_data.info()"
   ]
  },
  {
   "cell_type": "markdown",
   "metadata": {},
   "source": [
    "### Conclusion\n",
    "\n",
    "The required Python library - ```Pandas``` is imported and the provided data is opened successfully. With the printing of the head of the table, it has been observed that all columns stated in the job description are present! But the name of the ```dob_years``` column changed to ```customer_age``` for the sake of understanding.\n",
    "\n",
    "The data contains  ```12``` columns, where 5 of them contains ```int64``` and another 5 contains ```object``` as well as 2 contains ```float64``` data types. There are ```21525``` rows in data, which make ```238300``` observations in total."
   ]
  },
  {
   "cell_type": "markdown",
   "metadata": {},
   "source": [
    "---"
   ]
  },
  {
   "cell_type": "markdown",
   "metadata": {},
   "source": [
    "## Data preprocessing"
   ]
  },
  {
   "cell_type": "markdown",
   "metadata": {},
   "source": [
    "### Processing missing values"
   ]
  },
  {
   "cell_type": "code",
   "execution_count": 71,
   "metadata": {},
   "outputs": [
    {
     "data": {
      "text/plain": [
       "4348"
      ]
     },
     "execution_count": 71,
     "metadata": {},
     "output_type": "execute_result"
    }
   ],
   "source": [
    "# check total number of missing observations in the data\n",
    "credit_data.isnull().sum().sum()"
   ]
  },
  {
   "cell_type": "markdown",
   "metadata": {},
   "source": [
    "> It is ovserved that there are ```4348``` missing observations in whole table, which makes just 1,8% of total observations. Before doing anything with this missing data, let's check which columns have missing value and is there any pattern related to missing values!"
   ]
  },
  {
   "cell_type": "code",
   "execution_count": 72,
   "metadata": {
    "scrolled": true
   },
   "outputs": [
    {
     "data": {
      "text/plain": [
       "children             0.000000\n",
       "days_employed       10.099884\n",
       "customer_age         0.000000\n",
       "education            0.000000\n",
       "education_id         0.000000\n",
       "family_status        0.000000\n",
       "family_status_id     0.000000\n",
       "gender               0.000000\n",
       "income_type          0.000000\n",
       "debt                 0.000000\n",
       "total_income        10.099884\n",
       "purpose              0.000000\n",
       "dtype: float64"
      ]
     },
     "execution_count": 72,
     "metadata": {},
     "output_type": "execute_result"
    }
   ],
   "source": [
    "# check percentage of missing values in each column\n",
    "credit_data.isnull().sum()*100/len(credit_data)"
   ]
  },
  {
   "cell_type": "markdown",
   "metadata": {},
   "source": [
    "> Only ```days_employed```and ```total_income``` columns have missing values. Number of missing values in both of them are exactly equal. Seems like they are related!"
   ]
  },
  {
   "cell_type": "code",
   "execution_count": 73,
   "metadata": {
    "scrolled": true
   },
   "outputs": [
    {
     "data": {
      "text/html": [
       "<div>\n",
       "<style scoped>\n",
       "    .dataframe tbody tr th:only-of-type {\n",
       "        vertical-align: middle;\n",
       "    }\n",
       "\n",
       "    .dataframe tbody tr th {\n",
       "        vertical-align: top;\n",
       "    }\n",
       "\n",
       "    .dataframe thead th {\n",
       "        text-align: right;\n",
       "    }\n",
       "</style>\n",
       "<table border=\"1\" class=\"dataframe\">\n",
       "  <thead>\n",
       "    <tr style=\"text-align: right;\">\n",
       "      <th></th>\n",
       "      <th>children</th>\n",
       "      <th>days_employed</th>\n",
       "      <th>customer_age</th>\n",
       "      <th>education</th>\n",
       "      <th>education_id</th>\n",
       "      <th>family_status</th>\n",
       "      <th>family_status_id</th>\n",
       "      <th>gender</th>\n",
       "      <th>income_type</th>\n",
       "      <th>debt</th>\n",
       "      <th>total_income</th>\n",
       "      <th>purpose</th>\n",
       "    </tr>\n",
       "  </thead>\n",
       "  <tbody>\n",
       "    <tr>\n",
       "      <th>9607</th>\n",
       "      <td>2</td>\n",
       "      <td>NaN</td>\n",
       "      <td>42</td>\n",
       "      <td>bachelor's degree</td>\n",
       "      <td>0</td>\n",
       "      <td>married</td>\n",
       "      <td>0</td>\n",
       "      <td>F</td>\n",
       "      <td>employee</td>\n",
       "      <td>0</td>\n",
       "      <td>NaN</td>\n",
       "      <td>profile education</td>\n",
       "    </tr>\n",
       "    <tr>\n",
       "      <th>8051</th>\n",
       "      <td>1</td>\n",
       "      <td>NaN</td>\n",
       "      <td>44</td>\n",
       "      <td>secondary education</td>\n",
       "      <td>1</td>\n",
       "      <td>married</td>\n",
       "      <td>0</td>\n",
       "      <td>M</td>\n",
       "      <td>business</td>\n",
       "      <td>0</td>\n",
       "      <td>NaN</td>\n",
       "      <td>getting an education</td>\n",
       "    </tr>\n",
       "    <tr>\n",
       "      <th>10310</th>\n",
       "      <td>0</td>\n",
       "      <td>NaN</td>\n",
       "      <td>57</td>\n",
       "      <td>secondary education</td>\n",
       "      <td>1</td>\n",
       "      <td>married</td>\n",
       "      <td>0</td>\n",
       "      <td>M</td>\n",
       "      <td>employee</td>\n",
       "      <td>0</td>\n",
       "      <td>NaN</td>\n",
       "      <td>buying my own car</td>\n",
       "    </tr>\n",
       "    <tr>\n",
       "      <th>980</th>\n",
       "      <td>0</td>\n",
       "      <td>NaN</td>\n",
       "      <td>53</td>\n",
       "      <td>bachelor's degree</td>\n",
       "      <td>0</td>\n",
       "      <td>married</td>\n",
       "      <td>0</td>\n",
       "      <td>F</td>\n",
       "      <td>employee</td>\n",
       "      <td>0</td>\n",
       "      <td>NaN</td>\n",
       "      <td>getting an education</td>\n",
       "    </tr>\n",
       "    <tr>\n",
       "      <th>5802</th>\n",
       "      <td>0</td>\n",
       "      <td>NaN</td>\n",
       "      <td>29</td>\n",
       "      <td>bachelor's degree</td>\n",
       "      <td>0</td>\n",
       "      <td>married</td>\n",
       "      <td>0</td>\n",
       "      <td>F</td>\n",
       "      <td>employee</td>\n",
       "      <td>0</td>\n",
       "      <td>NaN</td>\n",
       "      <td>transactions with commercial real estate</td>\n",
       "    </tr>\n",
       "    <tr>\n",
       "      <th>991</th>\n",
       "      <td>1</td>\n",
       "      <td>NaN</td>\n",
       "      <td>39</td>\n",
       "      <td>secondary education</td>\n",
       "      <td>1</td>\n",
       "      <td>married</td>\n",
       "      <td>0</td>\n",
       "      <td>F</td>\n",
       "      <td>employee</td>\n",
       "      <td>0</td>\n",
       "      <td>NaN</td>\n",
       "      <td>getting an education</td>\n",
       "    </tr>\n",
       "    <tr>\n",
       "      <th>3612</th>\n",
       "      <td>0</td>\n",
       "      <td>NaN</td>\n",
       "      <td>40</td>\n",
       "      <td>bachelor's degree</td>\n",
       "      <td>0</td>\n",
       "      <td>married</td>\n",
       "      <td>0</td>\n",
       "      <td>M</td>\n",
       "      <td>retiree</td>\n",
       "      <td>0</td>\n",
       "      <td>NaN</td>\n",
       "      <td>housing renovation</td>\n",
       "    </tr>\n",
       "    <tr>\n",
       "      <th>12658</th>\n",
       "      <td>0</td>\n",
       "      <td>NaN</td>\n",
       "      <td>64</td>\n",
       "      <td>secondary education</td>\n",
       "      <td>1</td>\n",
       "      <td>married</td>\n",
       "      <td>0</td>\n",
       "      <td>M</td>\n",
       "      <td>retiree</td>\n",
       "      <td>0</td>\n",
       "      <td>NaN</td>\n",
       "      <td>car purchase</td>\n",
       "    </tr>\n",
       "    <tr>\n",
       "      <th>21271</th>\n",
       "      <td>2</td>\n",
       "      <td>NaN</td>\n",
       "      <td>42</td>\n",
       "      <td>secondary education</td>\n",
       "      <td>1</td>\n",
       "      <td>civil partnership</td>\n",
       "      <td>1</td>\n",
       "      <td>M</td>\n",
       "      <td>employee</td>\n",
       "      <td>1</td>\n",
       "      <td>NaN</td>\n",
       "      <td>transactions with my real estate</td>\n",
       "    </tr>\n",
       "    <tr>\n",
       "      <th>8456</th>\n",
       "      <td>0</td>\n",
       "      <td>NaN</td>\n",
       "      <td>71</td>\n",
       "      <td>secondary education</td>\n",
       "      <td>1</td>\n",
       "      <td>married</td>\n",
       "      <td>0</td>\n",
       "      <td>M</td>\n",
       "      <td>retiree</td>\n",
       "      <td>0</td>\n",
       "      <td>NaN</td>\n",
       "      <td>transactions with commercial real estate</td>\n",
       "    </tr>\n",
       "  </tbody>\n",
       "</table>\n",
       "</div>"
      ],
      "text/plain": [
       "       children  days_employed  customer_age            education  \\\n",
       "9607          2            NaN            42    bachelor's degree   \n",
       "8051          1            NaN            44  secondary education   \n",
       "10310         0            NaN            57  secondary education   \n",
       "980           0            NaN            53    bachelor's degree   \n",
       "5802          0            NaN            29    bachelor's degree   \n",
       "991           1            NaN            39  secondary education   \n",
       "3612          0            NaN            40    bachelor's degree   \n",
       "12658         0            NaN            64  secondary education   \n",
       "21271         2            NaN            42  secondary education   \n",
       "8456          0            NaN            71  secondary education   \n",
       "\n",
       "       education_id      family_status  family_status_id gender income_type  \\\n",
       "9607              0            married                 0      F    employee   \n",
       "8051              1            married                 0      M    business   \n",
       "10310             1            married                 0      M    employee   \n",
       "980               0            married                 0      F    employee   \n",
       "5802              0            married                 0      F    employee   \n",
       "991               1            married                 0      F    employee   \n",
       "3612              0            married                 0      M     retiree   \n",
       "12658             1            married                 0      M     retiree   \n",
       "21271             1  civil partnership                 1      M    employee   \n",
       "8456              1            married                 0      M     retiree   \n",
       "\n",
       "       debt  total_income                                   purpose  \n",
       "9607      0           NaN                         profile education  \n",
       "8051      0           NaN                      getting an education  \n",
       "10310     0           NaN                         buying my own car  \n",
       "980       0           NaN                      getting an education  \n",
       "5802      0           NaN  transactions with commercial real estate  \n",
       "991       0           NaN                      getting an education  \n",
       "3612      0           NaN                        housing renovation  \n",
       "12658     0           NaN                              car purchase  \n",
       "21271     1           NaN          transactions with my real estate  \n",
       "8456      0           NaN  transactions with commercial real estate  "
      ]
     },
     "execution_count": 73,
     "metadata": {},
     "output_type": "execute_result"
    }
   ],
   "source": [
    "#retrieve data with rows that contain missing value on any of the columns\n",
    "# and randomly select 10 or more rows with the sample() method\n",
    "credit_data[credit_data.isnull().any(axis=1)].sample(10)"
   ]
  },
  {
   "cell_type": "code",
   "execution_count": 74,
   "metadata": {},
   "outputs": [
    {
     "data": {
      "text/plain": [
       "employee         1105\n",
       "business          508\n",
       "retiree           413\n",
       "civil servant     147\n",
       "entrepreneur        1\n",
       "Name: income_type, dtype: int64"
      ]
     },
     "execution_count": 74,
     "metadata": {},
     "output_type": "execute_result"
    }
   ],
   "source": [
    "# check 'income_type' of rows with missing values \n",
    "credit_data[credit_data.isnull().any(axis=1)]['income_type'].value_counts()"
   ]
  },
  {
   "cell_type": "markdown",
   "metadata": {},
   "source": [
    "> It can be seen that when the value of ```days_employed``` is missing, the value of ```total_income``` is also missing at the same rows. At first glance, it gives an impression that if the person is not employed, then he/she will not have an income and therefore both of them are simultaneously empty. But, when we check the ```income_type``` column, it is stated that most of these people are employee or so, who should have an income. That means either they were left intentionally blank or they are due to a technical error."
   ]
  },
  {
   "cell_type": "markdown",
   "metadata": {},
   "source": [
    "> Around 10% of rows in ```days_employed``` and ```total_income``` columns are missing. We can not throw them away. Let's try to fill them with the help of other columns."
   ]
  },
  {
   "cell_type": "code",
   "execution_count": 75,
   "metadata": {
    "scrolled": false
   },
   "outputs": [
    {
     "data": {
      "text/html": [
       "<div>\n",
       "<style scoped>\n",
       "    .dataframe tbody tr th:only-of-type {\n",
       "        vertical-align: middle;\n",
       "    }\n",
       "\n",
       "    .dataframe tbody tr th {\n",
       "        vertical-align: top;\n",
       "    }\n",
       "\n",
       "    .dataframe thead tr th {\n",
       "        text-align: left;\n",
       "    }\n",
       "\n",
       "    .dataframe thead tr:last-of-type th {\n",
       "        text-align: right;\n",
       "    }\n",
       "</style>\n",
       "<table border=\"1\" class=\"dataframe\">\n",
       "  <thead>\n",
       "    <tr>\n",
       "      <th></th>\n",
       "      <th></th>\n",
       "      <th colspan=\"2\" halign=\"left\">total_income</th>\n",
       "    </tr>\n",
       "    <tr>\n",
       "      <th></th>\n",
       "      <th></th>\n",
       "      <th>mean</th>\n",
       "      <th>median</th>\n",
       "    </tr>\n",
       "    <tr>\n",
       "      <th>income_type</th>\n",
       "      <th>gender</th>\n",
       "      <th></th>\n",
       "      <th></th>\n",
       "    </tr>\n",
       "  </thead>\n",
       "  <tbody>\n",
       "    <tr>\n",
       "      <th rowspan=\"3\" valign=\"top\">business</th>\n",
       "      <th>F</th>\n",
       "      <td>29475.489877</td>\n",
       "      <td>25731.3245</td>\n",
       "    </tr>\n",
       "    <tr>\n",
       "      <th>M</th>\n",
       "      <td>37284.334474</td>\n",
       "      <td>31491.0080</td>\n",
       "    </tr>\n",
       "    <tr>\n",
       "      <th>XNA</th>\n",
       "      <td>32624.825000</td>\n",
       "      <td>32624.8250</td>\n",
       "    </tr>\n",
       "    <tr>\n",
       "      <th rowspan=\"2\" valign=\"top\">civil servant</th>\n",
       "      <th>F</th>\n",
       "      <td>24908.849830</td>\n",
       "      <td>21917.1980</td>\n",
       "    </tr>\n",
       "    <tr>\n",
       "      <th>M</th>\n",
       "      <td>34036.170503</td>\n",
       "      <td>29754.3915</td>\n",
       "    </tr>\n",
       "    <tr>\n",
       "      <th rowspan=\"2\" valign=\"top\">employee</th>\n",
       "      <th>F</th>\n",
       "      <td>23818.105441</td>\n",
       "      <td>20898.4980</td>\n",
       "    </tr>\n",
       "    <tr>\n",
       "      <th>M</th>\n",
       "      <td>28956.563225</td>\n",
       "      <td>25945.7880</td>\n",
       "    </tr>\n",
       "    <tr>\n",
       "      <th rowspan=\"2\" valign=\"top\">entrepreneur</th>\n",
       "      <th>F</th>\n",
       "      <td>79866.103000</td>\n",
       "      <td>79866.1030</td>\n",
       "    </tr>\n",
       "    <tr>\n",
       "      <th>M</th>\n",
       "      <td>NaN</td>\n",
       "      <td>NaN</td>\n",
       "    </tr>\n",
       "    <tr>\n",
       "      <th>paternity / maternity leave</th>\n",
       "      <th>F</th>\n",
       "      <td>8612.661000</td>\n",
       "      <td>8612.6610</td>\n",
       "    </tr>\n",
       "    <tr>\n",
       "      <th rowspan=\"2\" valign=\"top\">retiree</th>\n",
       "      <th>F</th>\n",
       "      <td>21446.167378</td>\n",
       "      <td>18529.2465</td>\n",
       "    </tr>\n",
       "    <tr>\n",
       "      <th>M</th>\n",
       "      <td>24117.476626</td>\n",
       "      <td>20918.3620</td>\n",
       "    </tr>\n",
       "    <tr>\n",
       "      <th>student</th>\n",
       "      <th>M</th>\n",
       "      <td>15712.260000</td>\n",
       "      <td>15712.2600</td>\n",
       "    </tr>\n",
       "    <tr>\n",
       "      <th rowspan=\"2\" valign=\"top\">unemployed</th>\n",
       "      <th>F</th>\n",
       "      <td>32435.602000</td>\n",
       "      <td>32435.6020</td>\n",
       "    </tr>\n",
       "    <tr>\n",
       "      <th>M</th>\n",
       "      <td>9593.119000</td>\n",
       "      <td>9593.1190</td>\n",
       "    </tr>\n",
       "  </tbody>\n",
       "</table>\n",
       "</div>"
      ],
      "text/plain": [
       "                                    total_income            \n",
       "                                            mean      median\n",
       "income_type                 gender                          \n",
       "business                    F       29475.489877  25731.3245\n",
       "                            M       37284.334474  31491.0080\n",
       "                            XNA     32624.825000  32624.8250\n",
       "civil servant               F       24908.849830  21917.1980\n",
       "                            M       34036.170503  29754.3915\n",
       "employee                    F       23818.105441  20898.4980\n",
       "                            M       28956.563225  25945.7880\n",
       "entrepreneur                F       79866.103000  79866.1030\n",
       "                            M                NaN         NaN\n",
       "paternity / maternity leave F        8612.661000   8612.6610\n",
       "retiree                     F       21446.167378  18529.2465\n",
       "                            M       24117.476626  20918.3620\n",
       "student                     M       15712.260000  15712.2600\n",
       "unemployed                  F       32435.602000  32435.6020\n",
       "                            M        9593.119000   9593.1190"
      ]
     },
     "execution_count": 75,
     "metadata": {},
     "output_type": "execute_result"
    }
   ],
   "source": [
    "# group observations according to income_type and gender, \n",
    "#hen retrieve mean and median of total_income\n",
    "credit_data.groupby(['income_type','gender']).agg(\n",
    "    {'total_income': ['mean', 'median']})"
   ]
  },
  {
   "cell_type": "markdown",
   "metadata": {},
   "source": [
    "> It is obvious that incomes of people doing different jobs are not equal and another sad truth is that average income of males and females are also not equal.\n",
    "\n",
    "> Another issue with the data is that ```gender``` column has a strange value of \"XNA\", let's fix it first."
   ]
  },
  {
   "cell_type": "code",
   "execution_count": 76,
   "metadata": {
    "scrolled": false
   },
   "outputs": [
    {
     "data": {
      "text/plain": [
       "F      14236\n",
       "M       7288\n",
       "XNA        1\n",
       "Name: gender, dtype: int64"
      ]
     },
     "execution_count": 76,
     "metadata": {},
     "output_type": "execute_result"
    }
   ],
   "source": [
    "# find how many different values in gender column\n",
    "credit_data.gender.value_counts()"
   ]
  },
  {
   "cell_type": "markdown",
   "metadata": {},
   "source": [
    "> only one row has value of 'XNA' for ```gender``` column. Most probably this is typos. The good thing is that its median value is very close to males' median. So we can assume it as a male and change its value to 'M'"
   ]
  },
  {
   "cell_type": "code",
   "execution_count": 77,
   "metadata": {},
   "outputs": [],
   "source": [
    "# change value of XNA to M\n",
    "credit_data.loc[credit_data.gender == 'XNA', 'gender'] = 'M'"
   ]
  },
  {
   "cell_type": "code",
   "execution_count": 78,
   "metadata": {},
   "outputs": [
    {
     "data": {
      "text/plain": [
       "F    14236\n",
       "M     7289\n",
       "Name: gender, dtype: int64"
      ]
     },
     "execution_count": 78,
     "metadata": {},
     "output_type": "execute_result"
    }
   ],
   "source": [
    "# check if the issue was fixed\n",
    "credit_data.gender.value_counts()"
   ]
  },
  {
   "cell_type": "code",
   "execution_count": 79,
   "metadata": {
    "scrolled": true
   },
   "outputs": [
    {
     "data": {
      "text/html": [
       "<div>\n",
       "<style scoped>\n",
       "    .dataframe tbody tr th:only-of-type {\n",
       "        vertical-align: middle;\n",
       "    }\n",
       "\n",
       "    .dataframe tbody tr th {\n",
       "        vertical-align: top;\n",
       "    }\n",
       "\n",
       "    .dataframe thead tr th {\n",
       "        text-align: left;\n",
       "    }\n",
       "\n",
       "    .dataframe thead tr:last-of-type th {\n",
       "        text-align: right;\n",
       "    }\n",
       "</style>\n",
       "<table border=\"1\" class=\"dataframe\">\n",
       "  <thead>\n",
       "    <tr>\n",
       "      <th></th>\n",
       "      <th></th>\n",
       "      <th colspan=\"2\" halign=\"left\">total_income</th>\n",
       "    </tr>\n",
       "    <tr>\n",
       "      <th></th>\n",
       "      <th></th>\n",
       "      <th>mean</th>\n",
       "      <th>median</th>\n",
       "    </tr>\n",
       "    <tr>\n",
       "      <th>income_type</th>\n",
       "      <th>gender</th>\n",
       "      <th></th>\n",
       "      <th></th>\n",
       "    </tr>\n",
       "  </thead>\n",
       "  <tbody>\n",
       "    <tr>\n",
       "      <th rowspan=\"2\" valign=\"top\">business</th>\n",
       "      <th>F</th>\n",
       "      <td>29475.489877</td>\n",
       "      <td>25731.3245</td>\n",
       "    </tr>\n",
       "    <tr>\n",
       "      <th>M</th>\n",
       "      <td>37281.604826</td>\n",
       "      <td>31498.3750</td>\n",
       "    </tr>\n",
       "    <tr>\n",
       "      <th rowspan=\"2\" valign=\"top\">civil servant</th>\n",
       "      <th>F</th>\n",
       "      <td>24908.849830</td>\n",
       "      <td>21917.1980</td>\n",
       "    </tr>\n",
       "    <tr>\n",
       "      <th>M</th>\n",
       "      <td>34036.170503</td>\n",
       "      <td>29754.3915</td>\n",
       "    </tr>\n",
       "    <tr>\n",
       "      <th rowspan=\"2\" valign=\"top\">employee</th>\n",
       "      <th>F</th>\n",
       "      <td>23818.105441</td>\n",
       "      <td>20898.4980</td>\n",
       "    </tr>\n",
       "    <tr>\n",
       "      <th>M</th>\n",
       "      <td>28956.563225</td>\n",
       "      <td>25945.7880</td>\n",
       "    </tr>\n",
       "    <tr>\n",
       "      <th rowspan=\"2\" valign=\"top\">entrepreneur</th>\n",
       "      <th>F</th>\n",
       "      <td>79866.103000</td>\n",
       "      <td>79866.1030</td>\n",
       "    </tr>\n",
       "    <tr>\n",
       "      <th>M</th>\n",
       "      <td>NaN</td>\n",
       "      <td>NaN</td>\n",
       "    </tr>\n",
       "    <tr>\n",
       "      <th>paternity / maternity leave</th>\n",
       "      <th>F</th>\n",
       "      <td>8612.661000</td>\n",
       "      <td>8612.6610</td>\n",
       "    </tr>\n",
       "    <tr>\n",
       "      <th rowspan=\"2\" valign=\"top\">retiree</th>\n",
       "      <th>F</th>\n",
       "      <td>21446.167378</td>\n",
       "      <td>18529.2465</td>\n",
       "    </tr>\n",
       "    <tr>\n",
       "      <th>M</th>\n",
       "      <td>24117.476626</td>\n",
       "      <td>20918.3620</td>\n",
       "    </tr>\n",
       "    <tr>\n",
       "      <th>student</th>\n",
       "      <th>M</th>\n",
       "      <td>15712.260000</td>\n",
       "      <td>15712.2600</td>\n",
       "    </tr>\n",
       "    <tr>\n",
       "      <th rowspan=\"2\" valign=\"top\">unemployed</th>\n",
       "      <th>F</th>\n",
       "      <td>32435.602000</td>\n",
       "      <td>32435.6020</td>\n",
       "    </tr>\n",
       "    <tr>\n",
       "      <th>M</th>\n",
       "      <td>9593.119000</td>\n",
       "      <td>9593.1190</td>\n",
       "    </tr>\n",
       "  </tbody>\n",
       "</table>\n",
       "</div>"
      ],
      "text/plain": [
       "                                    total_income            \n",
       "                                            mean      median\n",
       "income_type                 gender                          \n",
       "business                    F       29475.489877  25731.3245\n",
       "                            M       37281.604826  31498.3750\n",
       "civil servant               F       24908.849830  21917.1980\n",
       "                            M       34036.170503  29754.3915\n",
       "employee                    F       23818.105441  20898.4980\n",
       "                            M       28956.563225  25945.7880\n",
       "entrepreneur                F       79866.103000  79866.1030\n",
       "                            M                NaN         NaN\n",
       "paternity / maternity leave F        8612.661000   8612.6610\n",
       "retiree                     F       21446.167378  18529.2465\n",
       "                            M       24117.476626  20918.3620\n",
       "student                     M       15712.260000  15712.2600\n",
       "unemployed                  F       32435.602000  32435.6020\n",
       "                            M        9593.119000   9593.1190"
      ]
     },
     "execution_count": 79,
     "metadata": {},
     "output_type": "execute_result"
    }
   ],
   "source": [
    "# after fixing XNA, group observations according to income_type and gender, \n",
    "#hen retrieve mean and median of total_income\n",
    "credit_data.groupby(['income_type','gender']).agg(\n",
    "    {'total_income': ['mean', 'median']})"
   ]
  },
  {
   "cell_type": "markdown",
   "metadata": {},
   "source": [
    "> when we compare mean and median values, it can be seen that mostly there a big difference. That is due to the skewness of total income. Therefore, let's use median values of ```total_income``` grouped by ```income_type``` and ```gender``` columns in oder to fill missing values. "
   ]
  },
  {
   "cell_type": "code",
   "execution_count": 80,
   "metadata": {},
   "outputs": [],
   "source": [
    "# fill missing values in total_income according to the condition of income_type\n",
    "# and gender columns\n",
    "credit_data.loc[((credit_data.total_income.isnull())&(credit_data.gender=='F')&\n",
    "                 (credit_data.income_type == 'retiree')),'total_income']=218529.2465\n",
    "credit_data.loc[((credit_data.total_income.isnull())&(credit_data.gender=='M')&\n",
    "                 (credit_data.income_type == 'retiree')),'total_income']=20918.3620\n",
    "credit_data.loc[((credit_data.total_income.isnull())&(credit_data.gender=='F')&\n",
    "                 (credit_data.income_type == 'employee')),'total_income']=20898.4980\n",
    "credit_data.loc[((credit_data.total_income.isnull())&(credit_data.gender=='M')&\n",
    "                 (credit_data.income_type == 'employee')),'total_income']=25945.7880\n",
    "credit_data.loc[((credit_data.total_income.isnull())&(credit_data.gender=='F')&\n",
    "                 (credit_data.income_type == 'civil servant')),'total_income']=21917.1980\n",
    "credit_data.loc[((credit_data.total_income.isnull())&(credit_data.gender=='M')&\n",
    "                 (credit_data.income_type == 'civil servant')),'total_income']=29754.3915\n",
    "credit_data.loc[((credit_data.total_income.isnull())&(credit_data.gender=='F')&\n",
    "                 (credit_data.income_type == 'business')),'total_income']=25731.3245\n",
    "credit_data.loc[((credit_data.total_income.isnull())&(credit_data.gender=='M')&\n",
    "                 (credit_data.income_type == 'business')),'total_income']=31498.3750\n",
    "credit_data.loc[((credit_data.total_income.isnull())&\n",
    "                 (credit_data.income_type == 'entrepreneur')),'total_income']=79866.1030"
   ]
  },
  {
   "cell_type": "code",
   "execution_count": 81,
   "metadata": {},
   "outputs": [
    {
     "data": {
      "text/plain": [
       "0"
      ]
     },
     "execution_count": 81,
     "metadata": {},
     "output_type": "execute_result"
    }
   ],
   "source": [
    "#check if all missings were fixed in total_income column\n",
    "credit_data.total_income.isnull().sum()"
   ]
  },
  {
   "cell_type": "markdown",
   "metadata": {},
   "source": [
    "> Missing values of ```total_income``` was fixed. Now we need to fill missing values of ```days_employed``` column. We can apply exactly the same method as used to fill ```total_income```. However ```days_employed``` columns values are weird, there are negative values and very large positive numbers like 395302. Let's try to understand what are they, why they look like that?"
   ]
  },
  {
   "cell_type": "code",
   "execution_count": 82,
   "metadata": {},
   "outputs": [
    {
     "data": {
      "text/plain": [
       "retiree       3443\n",
       "unemployed       2\n",
       "Name: income_type, dtype: int64"
      ]
     },
     "execution_count": 82,
     "metadata": {},
     "output_type": "execute_result"
    }
   ],
   "source": [
    "credit_data[credit_data.days_employed > 0]['income_type'].value_counts()"
   ]
  },
  {
   "cell_type": "code",
   "execution_count": 83,
   "metadata": {},
   "outputs": [
    {
     "data": {
      "text/plain": [
       "employee                       10014\n",
       "business                        4577\n",
       "civil servant                   1312\n",
       "student                            1\n",
       "entrepreneur                       1\n",
       "paternity / maternity leave        1\n",
       "Name: income_type, dtype: int64"
      ]
     },
     "execution_count": 83,
     "metadata": {},
     "output_type": "execute_result"
    }
   ],
   "source": [
    "credit_data.loc[credit_data.days_employed <= 0]['income_type'].value_counts()"
   ]
  },
  {
   "cell_type": "markdown",
   "metadata": {},
   "source": [
    "> When we analyze the ```days_employed``` column together with ```income_type``` column together. We have observed that, ```days_emploayed``` contains large positive numbers only in case when ```income_type``` is either retiree or unemployed! Otherwise, i.e. for any other ```income_type``` they are negative numbers. From here, it can be concluded that \"-\" sign was used to differentiate between employed vs unemployed.\n",
    "\n",
    "> Moreover, when we devide positive numbers to 365 in order to get years, we got unrealistic years as employed.\n",
    "\n",
    "**At this point it is not clear what the numbers in ```days_employed``` actually mean.**\n",
    "\n",
    "> However, these column is not important currently. Let's simply fill the missing values as we did ```total_income``` column (but omitting ```gender``` column)."
   ]
  },
  {
   "cell_type": "code",
   "execution_count": 84,
   "metadata": {},
   "outputs": [
    {
     "data": {
      "text/html": [
       "<div>\n",
       "<style scoped>\n",
       "    .dataframe tbody tr th:only-of-type {\n",
       "        vertical-align: middle;\n",
       "    }\n",
       "\n",
       "    .dataframe tbody tr th {\n",
       "        vertical-align: top;\n",
       "    }\n",
       "\n",
       "    .dataframe thead tr th {\n",
       "        text-align: left;\n",
       "    }\n",
       "\n",
       "    .dataframe thead tr:last-of-type th {\n",
       "        text-align: right;\n",
       "    }\n",
       "</style>\n",
       "<table border=\"1\" class=\"dataframe\">\n",
       "  <thead>\n",
       "    <tr>\n",
       "      <th></th>\n",
       "      <th colspan=\"2\" halign=\"left\">days_employed</th>\n",
       "    </tr>\n",
       "    <tr>\n",
       "      <th></th>\n",
       "      <th>mean</th>\n",
       "      <th>median</th>\n",
       "    </tr>\n",
       "    <tr>\n",
       "      <th>income_type</th>\n",
       "      <th></th>\n",
       "      <th></th>\n",
       "    </tr>\n",
       "  </thead>\n",
       "  <tbody>\n",
       "    <tr>\n",
       "      <th>business</th>\n",
       "      <td>-2111.524398</td>\n",
       "      <td>-1547.382223</td>\n",
       "    </tr>\n",
       "    <tr>\n",
       "      <th>civil servant</th>\n",
       "      <td>-3399.896902</td>\n",
       "      <td>-2689.368353</td>\n",
       "    </tr>\n",
       "    <tr>\n",
       "      <th>employee</th>\n",
       "      <td>-2326.499216</td>\n",
       "      <td>-1574.202821</td>\n",
       "    </tr>\n",
       "    <tr>\n",
       "      <th>entrepreneur</th>\n",
       "      <td>-520.848083</td>\n",
       "      <td>-520.848083</td>\n",
       "    </tr>\n",
       "    <tr>\n",
       "      <th>paternity / maternity leave</th>\n",
       "      <td>-3296.759962</td>\n",
       "      <td>-3296.759962</td>\n",
       "    </tr>\n",
       "    <tr>\n",
       "      <th>retiree</th>\n",
       "      <td>365003.491245</td>\n",
       "      <td>365213.306266</td>\n",
       "    </tr>\n",
       "    <tr>\n",
       "      <th>student</th>\n",
       "      <td>-578.751554</td>\n",
       "      <td>-578.751554</td>\n",
       "    </tr>\n",
       "    <tr>\n",
       "      <th>unemployed</th>\n",
       "      <td>366413.652744</td>\n",
       "      <td>366413.652744</td>\n",
       "    </tr>\n",
       "  </tbody>\n",
       "</table>\n",
       "</div>"
      ],
      "text/plain": [
       "                             days_employed               \n",
       "                                      mean         median\n",
       "income_type                                              \n",
       "business                      -2111.524398   -1547.382223\n",
       "civil servant                 -3399.896902   -2689.368353\n",
       "employee                      -2326.499216   -1574.202821\n",
       "entrepreneur                   -520.848083    -520.848083\n",
       "paternity / maternity leave   -3296.759962   -3296.759962\n",
       "retiree                      365003.491245  365213.306266\n",
       "student                        -578.751554    -578.751554\n",
       "unemployed                   366413.652744  366413.652744"
      ]
     },
     "execution_count": 84,
     "metadata": {},
     "output_type": "execute_result"
    }
   ],
   "source": [
    "# get mean and median values of days_employed according to income_type\n",
    "credit_data.groupby(['income_type']).agg({'days_employed': ['mean', 'median']})"
   ]
  },
  {
   "cell_type": "markdown",
   "metadata": {},
   "source": [
    "> Here also, mean and median values differentiate a lot due to outlier. Therefore let's use median values to fill missing values."
   ]
  },
  {
   "cell_type": "code",
   "execution_count": 85,
   "metadata": {},
   "outputs": [],
   "source": [
    "#fill missing values in days_employed columns with the median values\n",
    "credit_data.loc[((credit_data.days_employed.isnull())&\n",
    "                 (credit_data.income_type == 'retiree')),'days_employed']=365213.306266\n",
    "credit_data.loc[((credit_data.days_employed.isnull())&\n",
    "                 (credit_data.income_type == 'employee')),'days_employed']=-1574.202821\n",
    "credit_data.loc[((credit_data.days_employed.isnull())&\n",
    "                 (credit_data.income_type == 'civil servant')),'days_employed']=-2689.368353\n",
    "credit_data.loc[((credit_data.days_employed.isnull())&\n",
    "                 (credit_data.income_type == 'business')),'days_employed']=-1547.382223\n",
    "credit_data.loc[((credit_data.days_employed.isnull())&\n",
    "                 (credit_data.income_type == 'entrepreneur')),'days_employed']=366413.652744"
   ]
  },
  {
   "cell_type": "code",
   "execution_count": 86,
   "metadata": {},
   "outputs": [
    {
     "data": {
      "text/plain": [
       "0"
      ]
     },
     "execution_count": 86,
     "metadata": {},
     "output_type": "execute_result"
    }
   ],
   "source": [
    "# check if all missing values of data was fixed\n",
    "credit_data.isnull().sum().sum()"
   ]
  },
  {
   "cell_type": "markdown",
   "metadata": {},
   "source": [
    "### Conclusion\n",
    "\n",
    "There were missing values in ```days_employed``` and ```total_income``` columns. In total 10% of values were missing in each of the columns. Missing values were occurring in the same rows for the two columns. \n",
    "The total income of different job types and gender was not equal. Moreover, there was an outlier in the data which resulted in different mean and median values. Hence, missing values of the ```total_income``` column are filled according to the median values of total income depending on ```income_type``` and ``` gender``` columns.\n",
    "Missing values of ```days_employed``` column was filled with median values days employed depending on ```income_type```. However, it was observed that **retiree** and **unemployed** customers assigned with relatively large positive numbers, in contrast, **employee**, **business** etc customers assigned with negative numbers. Actually, negative numbers can be converted to years by taking absolute value and dividing the value with 365. However, a positive number resulted in very large unrealistic years. So at this point, no further work done on the ```days_employed``` column."
   ]
  },
  {
   "cell_type": "markdown",
   "metadata": {},
   "source": [
    "---"
   ]
  },
  {
   "cell_type": "markdown",
   "metadata": {},
   "source": [
    "### Data type replacement"
   ]
  },
  {
   "cell_type": "code",
   "execution_count": 87,
   "metadata": {},
   "outputs": [
    {
     "name": "stdout",
     "output_type": "stream",
     "text": [
      "<class 'pandas.core.frame.DataFrame'>\n",
      "RangeIndex: 21525 entries, 0 to 21524\n",
      "Data columns (total 12 columns):\n",
      " #   Column            Non-Null Count  Dtype  \n",
      "---  ------            --------------  -----  \n",
      " 0   children          21525 non-null  int64  \n",
      " 1   days_employed     21525 non-null  float64\n",
      " 2   customer_age      21525 non-null  int64  \n",
      " 3   education         21525 non-null  object \n",
      " 4   education_id      21525 non-null  int64  \n",
      " 5   family_status     21525 non-null  object \n",
      " 6   family_status_id  21525 non-null  int64  \n",
      " 7   gender            21525 non-null  object \n",
      " 8   income_type       21525 non-null  object \n",
      " 9   debt              21525 non-null  int64  \n",
      " 10  total_income      21525 non-null  float64\n",
      " 11  purpose           21525 non-null  object \n",
      "dtypes: float64(2), int64(5), object(5)\n",
      "memory usage: 2.0+ MB\n"
     ]
    }
   ],
   "source": [
    "credit_data.info()"
   ]
  },
  {
   "cell_type": "code",
   "execution_count": 88,
   "metadata": {
    "scrolled": true
   },
   "outputs": [
    {
     "data": {
      "text/html": [
       "<div>\n",
       "<style scoped>\n",
       "    .dataframe tbody tr th:only-of-type {\n",
       "        vertical-align: middle;\n",
       "    }\n",
       "\n",
       "    .dataframe tbody tr th {\n",
       "        vertical-align: top;\n",
       "    }\n",
       "\n",
       "    .dataframe thead th {\n",
       "        text-align: right;\n",
       "    }\n",
       "</style>\n",
       "<table border=\"1\" class=\"dataframe\">\n",
       "  <thead>\n",
       "    <tr style=\"text-align: right;\">\n",
       "      <th></th>\n",
       "      <th>children</th>\n",
       "      <th>days_employed</th>\n",
       "      <th>customer_age</th>\n",
       "      <th>education_id</th>\n",
       "      <th>family_status_id</th>\n",
       "      <th>debt</th>\n",
       "      <th>total_income</th>\n",
       "    </tr>\n",
       "  </thead>\n",
       "  <tbody>\n",
       "    <tr>\n",
       "      <th>count</th>\n",
       "      <td>21525.000000</td>\n",
       "      <td>21525.000000</td>\n",
       "      <td>21525.000000</td>\n",
       "      <td>21525.000000</td>\n",
       "      <td>21525.000000</td>\n",
       "      <td>21525.000000</td>\n",
       "      <td>21525.000000</td>\n",
       "    </tr>\n",
       "    <tr>\n",
       "      <th>mean</th>\n",
       "      <td>0.538908</td>\n",
       "      <td>63567.543970</td>\n",
       "      <td>43.293380</td>\n",
       "      <td>0.817236</td>\n",
       "      <td>0.972544</td>\n",
       "      <td>0.080883</td>\n",
       "      <td>29706.305172</td>\n",
       "    </tr>\n",
       "    <tr>\n",
       "      <th>std</th>\n",
       "      <td>1.381587</td>\n",
       "      <td>141164.838543</td>\n",
       "      <td>12.574584</td>\n",
       "      <td>0.548138</td>\n",
       "      <td>1.420324</td>\n",
       "      <td>0.272661</td>\n",
       "      <td>28956.024285</td>\n",
       "    </tr>\n",
       "    <tr>\n",
       "      <th>min</th>\n",
       "      <td>-1.000000</td>\n",
       "      <td>-18388.949901</td>\n",
       "      <td>0.000000</td>\n",
       "      <td>0.000000</td>\n",
       "      <td>0.000000</td>\n",
       "      <td>0.000000</td>\n",
       "      <td>3306.762000</td>\n",
       "    </tr>\n",
       "    <tr>\n",
       "      <th>25%</th>\n",
       "      <td>0.000000</td>\n",
       "      <td>-2570.047544</td>\n",
       "      <td>33.000000</td>\n",
       "      <td>1.000000</td>\n",
       "      <td>0.000000</td>\n",
       "      <td>0.000000</td>\n",
       "      <td>17247.708000</td>\n",
       "    </tr>\n",
       "    <tr>\n",
       "      <th>50%</th>\n",
       "      <td>0.000000</td>\n",
       "      <td>-1355.683356</td>\n",
       "      <td>42.000000</td>\n",
       "      <td>1.000000</td>\n",
       "      <td>0.000000</td>\n",
       "      <td>0.000000</td>\n",
       "      <td>23520.274000</td>\n",
       "    </tr>\n",
       "    <tr>\n",
       "      <th>75%</th>\n",
       "      <td>1.000000</td>\n",
       "      <td>-316.061820</td>\n",
       "      <td>53.000000</td>\n",
       "      <td>1.000000</td>\n",
       "      <td>1.000000</td>\n",
       "      <td>0.000000</td>\n",
       "      <td>32083.737000</td>\n",
       "    </tr>\n",
       "    <tr>\n",
       "      <th>max</th>\n",
       "      <td>20.000000</td>\n",
       "      <td>401755.400475</td>\n",
       "      <td>75.000000</td>\n",
       "      <td>4.000000</td>\n",
       "      <td>4.000000</td>\n",
       "      <td>1.000000</td>\n",
       "      <td>362496.645000</td>\n",
       "    </tr>\n",
       "  </tbody>\n",
       "</table>\n",
       "</div>"
      ],
      "text/plain": [
       "           children  days_employed  customer_age  education_id  \\\n",
       "count  21525.000000   21525.000000  21525.000000  21525.000000   \n",
       "mean       0.538908   63567.543970     43.293380      0.817236   \n",
       "std        1.381587  141164.838543     12.574584      0.548138   \n",
       "min       -1.000000  -18388.949901      0.000000      0.000000   \n",
       "25%        0.000000   -2570.047544     33.000000      1.000000   \n",
       "50%        0.000000   -1355.683356     42.000000      1.000000   \n",
       "75%        1.000000    -316.061820     53.000000      1.000000   \n",
       "max       20.000000  401755.400475     75.000000      4.000000   \n",
       "\n",
       "       family_status_id          debt   total_income  \n",
       "count      21525.000000  21525.000000   21525.000000  \n",
       "mean           0.972544      0.080883   29706.305172  \n",
       "std            1.420324      0.272661   28956.024285  \n",
       "min            0.000000      0.000000    3306.762000  \n",
       "25%            0.000000      0.000000   17247.708000  \n",
       "50%            0.000000      0.000000   23520.274000  \n",
       "75%            1.000000      0.000000   32083.737000  \n",
       "max            4.000000      1.000000  362496.645000  "
      ]
     },
     "execution_count": 88,
     "metadata": {},
     "output_type": "execute_result"
    }
   ],
   "source": [
    "# get insight about the descriptive statistics of columns which stores numerical values!\n",
    "credit_data.describe()"
   ]
  },
  {
   "cell_type": "markdown",
   "metadata": {},
   "source": [
    "> From the descriptive statistics and information about columns, we can see that max/min numbers for ```children, customer_age, education_id, family_status_id, debt``` columns are between -128 and 127. That means instead of using ```int64``` data type, we can use ```int8``` which will save memory (currently 2.0+ MB).\n",
    "\n",
    "> ```days_employed``` and ```total_income``` columns also have a floating point data type. For the sake of simplicity, lets get rid of the points or simply convert them into integer numbers.\n",
    "\n",
    "> Also we have an issue with ```children``` columns, which says mininum value is -1 and max is 20. These values are unrealistic. Seems like a typos. \n",
    "\n",
    ">Let's fix these issues one by one. "
   ]
  },
  {
   "cell_type": "code",
   "execution_count": 89,
   "metadata": {
    "scrolled": true
   },
   "outputs": [],
   "source": [
    "#loop thourgh give columns and change their data type into int8\n",
    "for col in ['children', 'customer_age', 'education_id', 'family_status_id', 'debt']:\n",
    "    credit_data[col] = credit_data[col].astype('int8')\n",
    "\n",
    "# convert into int64 from float64 for two columns\n",
    "credit_data.days_employed = credit_data.days_employed.astype('int64')\n",
    "credit_data.total_income = credit_data.total_income.astype('int64')"
   ]
  },
  {
   "cell_type": "code",
   "execution_count": 90,
   "metadata": {},
   "outputs": [
    {
     "data": {
      "text/plain": [
       " 0     14149\n",
       " 1      4818\n",
       " 2      2055\n",
       " 3       330\n",
       " 20       76\n",
       "-1        47\n",
       " 4        41\n",
       " 5         9\n",
       "Name: children, dtype: int64"
      ]
     },
     "execution_count": 90,
     "metadata": {},
     "output_type": "execute_result"
    }
   ],
   "source": [
    "# check number of different value in children column\n",
    "credit_data.children.value_counts()"
   ]
  },
  {
   "cell_type": "code",
   "execution_count": 91,
   "metadata": {},
   "outputs": [
    {
     "data": {
      "text/plain": [
       "0    14149\n",
       "1     4865\n",
       "2     2131\n",
       "3      330\n",
       "4       41\n",
       "5        9\n",
       "Name: children, dtype: int64"
      ]
     },
     "execution_count": 91,
     "metadata": {},
     "output_type": "execute_result"
    }
   ],
   "source": [
    "#change values of the children column with values of -1 and 20 to 1 and 2 respectively.\n",
    "credit_data.loc[(credit_data['children'] == -1), 'children'] = 1\n",
    "credit_data.loc[(credit_data['children'] == 20), 'children'] = 2\n",
    "\n",
    "#check if it worked\n",
    "credit_data.children.value_counts()"
   ]
  },
  {
   "cell_type": "code",
   "execution_count": 92,
   "metadata": {
    "scrolled": true
   },
   "outputs": [
    {
     "name": "stdout",
     "output_type": "stream",
     "text": [
      "<class 'pandas.core.frame.DataFrame'>\n",
      "RangeIndex: 21525 entries, 0 to 21524\n",
      "Data columns (total 12 columns):\n",
      " #   Column            Non-Null Count  Dtype \n",
      "---  ------            --------------  ----- \n",
      " 0   children          21525 non-null  int8  \n",
      " 1   days_employed     21525 non-null  int64 \n",
      " 2   customer_age      21525 non-null  int8  \n",
      " 3   education         21525 non-null  object\n",
      " 4   education_id      21525 non-null  int8  \n",
      " 5   family_status     21525 non-null  object\n",
      " 6   family_status_id  21525 non-null  int8  \n",
      " 7   gender            21525 non-null  object\n",
      " 8   income_type       21525 non-null  object\n",
      " 9   debt              21525 non-null  int8  \n",
      " 10  total_income      21525 non-null  int64 \n",
      " 11  purpose           21525 non-null  object\n",
      "dtypes: int64(2), int8(5), object(5)\n",
      "memory usage: 1.3+ MB\n"
     ]
    }
   ],
   "source": [
    "#check if all worked\n",
    "credit_data.info()"
   ]
  },
  {
   "cell_type": "markdown",
   "metadata": {},
   "source": [
    "> Now memory decreased from 2.0+MB to 1.3+MB and data type of columns changed. By the way, it is easy to read the ```days_employed``` and ```total_income``` columns."
   ]
  },
  {
   "cell_type": "markdown",
   "metadata": {},
   "source": [
    "### Conclusion\n",
    "\n",
    "Data type of ```'children', 'customer_age', 'education_id', 'family_status_id', 'debt'``` columns changed from ```int64``` to ```int8``` to save memory. Also, it was hard to read values of ```days_employed and total_income``` columns due to the floating points. These columns' data type also changed to ```int64``` from ```float64```. There are artefacts observed in ```childrens``` column, such as -1 or 20 children. This was assumed as typing mistakes and these values changed to 1 and 2, respectively."
   ]
  },
  {
   "cell_type": "markdown",
   "metadata": {},
   "source": [
    "---"
   ]
  },
  {
   "cell_type": "markdown",
   "metadata": {},
   "source": [
    "### Processing duplicates"
   ]
  },
  {
   "cell_type": "code",
   "execution_count": 93,
   "metadata": {},
   "outputs": [
    {
     "data": {
      "text/plain": [
       "54"
      ]
     },
     "execution_count": 93,
     "metadata": {},
     "output_type": "execute_result"
    }
   ],
   "source": [
    "#find number of duplicated rows in data\n",
    "credit_data.duplicated().sum()"
   ]
  },
  {
   "cell_type": "code",
   "execution_count": 94,
   "metadata": {
    "scrolled": false
   },
   "outputs": [
    {
     "name": "stdout",
     "output_type": "stream",
     "text": [
      "[\"bachelor's degree\" 'secondary education' 'Secondary Education'\n",
      " 'SECONDARY EDUCATION' \"BACHELOR'S DEGREE\" 'some college'\n",
      " 'primary education' \"Bachelor's Degree\" 'SOME COLLEGE' 'Some College'\n",
      " 'PRIMARY EDUCATION' 'Primary Education' 'Graduate Degree'\n",
      " 'GRADUATE DEGREE' 'graduate degree']\n",
      "\n",
      "['married' 'civil partnership' 'widow / widower' 'divorced' 'unmarried']\n",
      "\n",
      "['employee' 'retiree' 'business' 'civil servant' 'unemployed'\n",
      " 'entrepreneur' 'student' 'paternity / maternity leave']\n",
      "\n",
      "['purchase of the house' 'car purchase' 'supplementary education'\n",
      " 'to have a wedding' 'housing transactions' 'education' 'having a wedding'\n",
      " 'purchase of the house for my family' 'buy real estate'\n",
      " 'buy commercial real estate' 'buy residential real estate'\n",
      " 'construction of own property' 'property' 'building a property'\n",
      " 'buying a second-hand car' 'buying my own car'\n",
      " 'transactions with commercial real estate' 'building a real estate'\n",
      " 'housing' 'transactions with my real estate' 'cars' 'to become educated'\n",
      " 'second-hand car purchase' 'getting an education' 'car'\n",
      " 'wedding ceremony' 'to get a supplementary education'\n",
      " 'purchase of my own house' 'real estate transactions'\n",
      " 'getting higher education' 'to own a car' 'purchase of a car'\n",
      " 'profile education' 'university education'\n",
      " 'buying property for renting out' 'to buy a car' 'housing renovation'\n",
      " 'going to university']\n"
     ]
    }
   ],
   "source": [
    "# print unique values in categorical columns, to check if there is low/uppercase issue\n",
    "print(credit_data.education.unique())\n",
    "print()\n",
    "print(credit_data.family_status.unique())\n",
    "print()\n",
    "print(credit_data.income_type.unique())\n",
    "print()\n",
    "print(credit_data.purpose.unique())"
   ]
  },
  {
   "cell_type": "markdown",
   "metadata": {},
   "source": [
    "> It is obvious that education column has a lowercase and uppercase words. We should convert them all into lowercase\n",
    "\n",
    "> Also, in ```purpose``` columns, they purposes are described with different words. For that we will use NLTK library and make a new column which contains purpose categories."
   ]
  },
  {
   "cell_type": "code",
   "execution_count": 95,
   "metadata": {
    "scrolled": true
   },
   "outputs": [
    {
     "data": {
      "text/plain": [
       "array([\"bachelor's degree\", 'secondary education', 'some college',\n",
       "       'primary education', 'graduate degree'], dtype=object)"
      ]
     },
     "execution_count": 95,
     "metadata": {},
     "output_type": "execute_result"
    }
   ],
   "source": [
    "# convert all values in education column into lower case.\n",
    "credit_data.education = credit_data.education.str.lower()\n",
    "credit_data.education.unique()"
   ]
  },
  {
   "cell_type": "code",
   "execution_count": 96,
   "metadata": {
    "scrolled": true
   },
   "outputs": [
    {
     "data": {
      "text/plain": [
       "[('a', 5130),\n",
       " ('real', 4478),\n",
       " ('estat', 4478),\n",
       " ('car', 4315),\n",
       " ('buy', 4004),\n",
       " ('hous', 3820),\n",
       " ('educ', 3526),\n",
       " ('purchas', 3314),\n",
       " ('to', 3081),\n",
       " ('of', 2998),\n",
       " ('transact', 2610),\n",
       " ('properti', 2542),\n",
       " ('my', 2396),\n",
       " ('wed', 2348),\n",
       " ('own', 2240),\n",
       " ('have', 1551),\n",
       " ('get', 1316),\n",
       " ('commerci', 1315),\n",
       " ('for', 1294),\n",
       " ('the', 1288),\n",
       " ('with', 1281),\n",
       " ('build', 1246),\n",
       " ('second-hand', 968),\n",
       " ('univers', 949),\n",
       " ('supplementari', 909),\n",
       " ('ceremoni', 797),\n",
       " ('rent', 653),\n",
       " ('out', 653),\n",
       " ('famili', 641),\n",
       " ('construct', 635),\n",
       " ('renov', 612),\n",
       " ('residenti', 607),\n",
       " ('go', 496),\n",
       " ('an', 443),\n",
       " ('profil', 436),\n",
       " ('higher', 426),\n",
       " ('becom', 412)]"
      ]
     },
     "execution_count": 96,
     "metadata": {},
     "output_type": "execute_result"
    }
   ],
   "source": [
    "# collect purposes in all rows, and then make a big list containing all words\n",
    "# go through all words and get their stems. Sort stems according to their frequency with Counter\n",
    "words_list =[]\n",
    "for sentence in credit_data.purpose:\n",
    "    words = nltk.word_tokenize(sentence)\n",
    "    for word in words:\n",
    "        stemmed = stemmer.stem(word)\n",
    "        words_list.append(stemmed)\n",
    "Counter(words_list).most_common()"
   ]
  },
  {
   "cell_type": "code",
   "execution_count": 97,
   "metadata": {},
   "outputs": [
    {
     "name": "stdout",
     "output_type": "stream",
     "text": [
      "house\n"
     ]
    }
   ],
   "source": [
    "# construct a function, that goes thorough pupose column and \n",
    "#cagetorize them according to the stems\n",
    "def purpose_shorter(purpose):\n",
    "    \"\"\"takes purpose, makes lsit of words in it and then obtains stems of those words, \n",
    "    while producing list of stems. Later it checks each purpose if it contains \n",
    "    specific stem, then assing categories: house, car, education and wedding\"\"\"\n",
    "    stems =[]\n",
    "    words = nltk.word_tokenize(purpose)\n",
    "    for word in words:\n",
    "        stemmed = stemmer.stem(word)\n",
    "        stems.append(stemmed)\n",
    "    if ('hous' in stems) or ('properti' in stems) or ('estat' in stems):\n",
    "        return 'house'\n",
    "    if 'car' in stems:\n",
    "        return 'car'\n",
    "    if ('educ'in stems) or ('univers' in stems):\n",
    "        return 'education'\n",
    "    if 'wed' in stems:\n",
    "        return 'wedding'\n",
    "    else:\n",
    "        return float('NaN')\n",
    "\n",
    "        \n",
    "# check if the function is working properly\n",
    "print(purpose_shorter(credit_data.purpose[0]))"
   ]
  },
  {
   "cell_type": "code",
   "execution_count": 98,
   "metadata": {
    "scrolled": true
   },
   "outputs": [
    {
     "data": {
      "text/html": [
       "<div>\n",
       "<style scoped>\n",
       "    .dataframe tbody tr th:only-of-type {\n",
       "        vertical-align: middle;\n",
       "    }\n",
       "\n",
       "    .dataframe tbody tr th {\n",
       "        vertical-align: top;\n",
       "    }\n",
       "\n",
       "    .dataframe thead th {\n",
       "        text-align: right;\n",
       "    }\n",
       "</style>\n",
       "<table border=\"1\" class=\"dataframe\">\n",
       "  <thead>\n",
       "    <tr style=\"text-align: right;\">\n",
       "      <th></th>\n",
       "      <th>children</th>\n",
       "      <th>days_employed</th>\n",
       "      <th>customer_age</th>\n",
       "      <th>education</th>\n",
       "      <th>education_id</th>\n",
       "      <th>family_status</th>\n",
       "      <th>family_status_id</th>\n",
       "      <th>gender</th>\n",
       "      <th>income_type</th>\n",
       "      <th>debt</th>\n",
       "      <th>total_income</th>\n",
       "      <th>purpose</th>\n",
       "      <th>purpose_category</th>\n",
       "    </tr>\n",
       "  </thead>\n",
       "  <tbody>\n",
       "    <tr>\n",
       "      <th>15541</th>\n",
       "      <td>0</td>\n",
       "      <td>-1196</td>\n",
       "      <td>42</td>\n",
       "      <td>secondary education</td>\n",
       "      <td>1</td>\n",
       "      <td>civil partnership</td>\n",
       "      <td>1</td>\n",
       "      <td>F</td>\n",
       "      <td>employee</td>\n",
       "      <td>0</td>\n",
       "      <td>56059</td>\n",
       "      <td>buy real estate</td>\n",
       "      <td>house</td>\n",
       "    </tr>\n",
       "    <tr>\n",
       "      <th>18572</th>\n",
       "      <td>0</td>\n",
       "      <td>-11618</td>\n",
       "      <td>46</td>\n",
       "      <td>secondary education</td>\n",
       "      <td>1</td>\n",
       "      <td>unmarried</td>\n",
       "      <td>4</td>\n",
       "      <td>F</td>\n",
       "      <td>employee</td>\n",
       "      <td>0</td>\n",
       "      <td>26314</td>\n",
       "      <td>housing</td>\n",
       "      <td>house</td>\n",
       "    </tr>\n",
       "    <tr>\n",
       "      <th>6315</th>\n",
       "      <td>0</td>\n",
       "      <td>-941</td>\n",
       "      <td>33</td>\n",
       "      <td>secondary education</td>\n",
       "      <td>1</td>\n",
       "      <td>civil partnership</td>\n",
       "      <td>1</td>\n",
       "      <td>F</td>\n",
       "      <td>employee</td>\n",
       "      <td>0</td>\n",
       "      <td>20762</td>\n",
       "      <td>having a wedding</td>\n",
       "      <td>wedding</td>\n",
       "    </tr>\n",
       "    <tr>\n",
       "      <th>8892</th>\n",
       "      <td>1</td>\n",
       "      <td>-3094</td>\n",
       "      <td>46</td>\n",
       "      <td>bachelor's degree</td>\n",
       "      <td>0</td>\n",
       "      <td>married</td>\n",
       "      <td>0</td>\n",
       "      <td>F</td>\n",
       "      <td>employee</td>\n",
       "      <td>0</td>\n",
       "      <td>62075</td>\n",
       "      <td>buying property for renting out</td>\n",
       "      <td>house</td>\n",
       "    </tr>\n",
       "    <tr>\n",
       "      <th>7651</th>\n",
       "      <td>1</td>\n",
       "      <td>-1774</td>\n",
       "      <td>42</td>\n",
       "      <td>bachelor's degree</td>\n",
       "      <td>0</td>\n",
       "      <td>married</td>\n",
       "      <td>0</td>\n",
       "      <td>F</td>\n",
       "      <td>employee</td>\n",
       "      <td>0</td>\n",
       "      <td>19542</td>\n",
       "      <td>construction of own property</td>\n",
       "      <td>house</td>\n",
       "    </tr>\n",
       "  </tbody>\n",
       "</table>\n",
       "</div>"
      ],
      "text/plain": [
       "       children  days_employed  customer_age            education  \\\n",
       "15541         0          -1196            42  secondary education   \n",
       "18572         0         -11618            46  secondary education   \n",
       "6315          0           -941            33  secondary education   \n",
       "8892          1          -3094            46    bachelor's degree   \n",
       "7651          1          -1774            42    bachelor's degree   \n",
       "\n",
       "       education_id      family_status  family_status_id gender income_type  \\\n",
       "15541             1  civil partnership                 1      F    employee   \n",
       "18572             1          unmarried                 4      F    employee   \n",
       "6315              1  civil partnership                 1      F    employee   \n",
       "8892              0            married                 0      F    employee   \n",
       "7651              0            married                 0      F    employee   \n",
       "\n",
       "       debt  total_income                          purpose purpose_category  \n",
       "15541     0         56059                  buy real estate            house  \n",
       "18572     0         26314                          housing            house  \n",
       "6315      0         20762                 having a wedding          wedding  \n",
       "8892      0         62075  buying property for renting out            house  \n",
       "7651      0         19542     construction of own property            house  "
      ]
     },
     "execution_count": 98,
     "metadata": {},
     "output_type": "execute_result"
    }
   ],
   "source": [
    "#apply the function the data and make a new column\n",
    "credit_data['purpose_category'] = credit_data.purpose.apply(purpose_shorter)\n",
    "\n",
    "#check new data\n",
    "credit_data.sample(5)"
   ]
  },
  {
   "cell_type": "markdown",
   "metadata": {},
   "source": [
    "> Now we can drop intial ```purpose``` column, in that way we can better see the duplicates in our data. Because, maybe purpose of the applicant is recorded with different words, such as \"house\",\"real estate\", \"buying house\" or \"housing\" etc."
   ]
  },
  {
   "cell_type": "code",
   "execution_count": 99,
   "metadata": {},
   "outputs": [],
   "source": [
    "#drop purpose column\n",
    "credit_data.drop('purpose', inplace=True, axis=1)"
   ]
  },
  {
   "cell_type": "code",
   "execution_count": 100,
   "metadata": {
    "scrolled": true
   },
   "outputs": [
    {
     "data": {
      "text/html": [
       "<div>\n",
       "<style scoped>\n",
       "    .dataframe tbody tr th:only-of-type {\n",
       "        vertical-align: middle;\n",
       "    }\n",
       "\n",
       "    .dataframe tbody tr th {\n",
       "        vertical-align: top;\n",
       "    }\n",
       "\n",
       "    .dataframe thead th {\n",
       "        text-align: right;\n",
       "    }\n",
       "</style>\n",
       "<table border=\"1\" class=\"dataframe\">\n",
       "  <thead>\n",
       "    <tr style=\"text-align: right;\">\n",
       "      <th></th>\n",
       "      <th>children</th>\n",
       "      <th>days_employed</th>\n",
       "      <th>customer_age</th>\n",
       "      <th>education</th>\n",
       "      <th>education_id</th>\n",
       "      <th>family_status</th>\n",
       "      <th>family_status_id</th>\n",
       "      <th>gender</th>\n",
       "      <th>income_type</th>\n",
       "      <th>debt</th>\n",
       "      <th>total_income</th>\n",
       "      <th>purpose_category</th>\n",
       "    </tr>\n",
       "  </thead>\n",
       "  <tbody>\n",
       "    <tr>\n",
       "      <th>0</th>\n",
       "      <td>1</td>\n",
       "      <td>-8437</td>\n",
       "      <td>42</td>\n",
       "      <td>bachelor's degree</td>\n",
       "      <td>0</td>\n",
       "      <td>married</td>\n",
       "      <td>0</td>\n",
       "      <td>F</td>\n",
       "      <td>employee</td>\n",
       "      <td>0</td>\n",
       "      <td>40620</td>\n",
       "      <td>house</td>\n",
       "    </tr>\n",
       "    <tr>\n",
       "      <th>1</th>\n",
       "      <td>1</td>\n",
       "      <td>-4024</td>\n",
       "      <td>36</td>\n",
       "      <td>secondary education</td>\n",
       "      <td>1</td>\n",
       "      <td>married</td>\n",
       "      <td>0</td>\n",
       "      <td>F</td>\n",
       "      <td>employee</td>\n",
       "      <td>0</td>\n",
       "      <td>17932</td>\n",
       "      <td>car</td>\n",
       "    </tr>\n",
       "    <tr>\n",
       "      <th>2</th>\n",
       "      <td>0</td>\n",
       "      <td>-5623</td>\n",
       "      <td>33</td>\n",
       "      <td>secondary education</td>\n",
       "      <td>1</td>\n",
       "      <td>married</td>\n",
       "      <td>0</td>\n",
       "      <td>M</td>\n",
       "      <td>employee</td>\n",
       "      <td>0</td>\n",
       "      <td>23341</td>\n",
       "      <td>house</td>\n",
       "    </tr>\n",
       "  </tbody>\n",
       "</table>\n",
       "</div>"
      ],
      "text/plain": [
       "   children  days_employed  customer_age            education  education_id  \\\n",
       "0         1          -8437            42    bachelor's degree             0   \n",
       "1         1          -4024            36  secondary education             1   \n",
       "2         0          -5623            33  secondary education             1   \n",
       "\n",
       "  family_status  family_status_id gender income_type  debt  total_income  \\\n",
       "0       married                 0      F    employee     0         40620   \n",
       "1       married                 0      F    employee     0         17932   \n",
       "2       married                 0      M    employee     0         23341   \n",
       "\n",
       "  purpose_category  \n",
       "0            house  \n",
       "1              car  \n",
       "2            house  "
      ]
     },
     "execution_count": 100,
     "metadata": {},
     "output_type": "execute_result"
    }
   ],
   "source": [
    "# check new state of data\n",
    "credit_data.head(3)"
   ]
  },
  {
   "cell_type": "code",
   "execution_count": 101,
   "metadata": {},
   "outputs": [
    {
     "data": {
      "text/plain": [
       "405"
      ]
     },
     "execution_count": 101,
     "metadata": {},
     "output_type": "execute_result"
    }
   ],
   "source": [
    "credit_data.duplicated().sum()"
   ]
  },
  {
   "cell_type": "code",
   "execution_count": 102,
   "metadata": {},
   "outputs": [
    {
     "data": {
      "text/plain": [
       "1.8815331010452963"
      ]
     },
     "execution_count": 102,
     "metadata": {},
     "output_type": "execute_result"
    }
   ],
   "source": [
    "# what percentage of rows duplicated\n",
    "credit_data.duplicated().sum()*100/len(credit_data)"
   ]
  },
  {
   "cell_type": "code",
   "execution_count": 103,
   "metadata": {},
   "outputs": [],
   "source": [
    "credit_data.drop_duplicates(inplace=True)"
   ]
  },
  {
   "cell_type": "markdown",
   "metadata": {},
   "source": [
    "### Conclusion\n",
    "\n",
    "In the beginning, there were only **54** duplicates. But after converting all strings into lowercase and organizing purpose into categories, we have **405** duplicated rows.\n",
    "In our data, we do not have a unique identifier for each customer. That makes things a little bit confusing. But the good thing is we have 12 columns in total, which lowers the probability of different customers having the same indicators. Additionally, duplicated rows are less than 2% of total rows. Based on these we can drop all duplicated rows."
   ]
  },
  {
   "cell_type": "markdown",
   "metadata": {},
   "source": [
    "---"
   ]
  },
  {
   "cell_type": "markdown",
   "metadata": {},
   "source": [
    "### Categorizing Data"
   ]
  },
  {
   "cell_type": "markdown",
   "metadata": {},
   "source": [
    "> According to the questions asked to us, we need to categorize our ```total_income``` column. Note that we have already categorized the ```purpose```` column in previous section."
   ]
  },
  {
   "cell_type": "code",
   "execution_count": 104,
   "metadata": {
    "scrolled": true
   },
   "outputs": [
    {
     "data": {
      "text/plain": [
       "count     21120.000000\n",
       "mean      28756.044176\n",
       "std       25634.289197\n",
       "min        3306.000000\n",
       "25%       17089.000000\n",
       "50%       23458.500000\n",
       "75%       32050.750000\n",
       "max      362496.000000\n",
       "Name: total_income, dtype: float64"
      ]
     },
     "execution_count": 104,
     "metadata": {},
     "output_type": "execute_result"
    }
   ],
   "source": [
    "# get an insight about the diestrubition of values in total_income column\n",
    "credit_data.total_income.describe()"
   ]
  },
  {
   "cell_type": "markdown",
   "metadata": {},
   "source": [
    "> Let's categorize ```total_income``` data using its quartiles. 1st quartile (25%) would be **low**, 2nd quartile (50%) - **medium**, 3rd quartile (75%) - **high** and anything else higher than 75% would be **very high** income categories."
   ]
  },
  {
   "cell_type": "code",
   "execution_count": 105,
   "metadata": {},
   "outputs": [],
   "source": [
    "#write a function that makes category according to the amount of total income\n",
    "def income_categorizer(income):\n",
    "    if income < 17089:\n",
    "        return 'low'\n",
    "    if income < 23458.5:\n",
    "        return 'middle'\n",
    "    if income < 32050.75:\n",
    "        return 'high'\n",
    "    else:\n",
    "        return 'very high'\n",
    "\n",
    "#apply the fucntion to the data\n",
    "credit_data['income_level'] = credit_data['total_income'].apply(income_categorizer)"
   ]
  },
  {
   "cell_type": "code",
   "execution_count": 106,
   "metadata": {
    "scrolled": false
   },
   "outputs": [
    {
     "data": {
      "text/html": [
       "<div>\n",
       "<style scoped>\n",
       "    .dataframe tbody tr th:only-of-type {\n",
       "        vertical-align: middle;\n",
       "    }\n",
       "\n",
       "    .dataframe tbody tr th {\n",
       "        vertical-align: top;\n",
       "    }\n",
       "\n",
       "    .dataframe thead th {\n",
       "        text-align: right;\n",
       "    }\n",
       "</style>\n",
       "<table border=\"1\" class=\"dataframe\">\n",
       "  <thead>\n",
       "    <tr style=\"text-align: right;\">\n",
       "      <th></th>\n",
       "      <th>children</th>\n",
       "      <th>days_employed</th>\n",
       "      <th>customer_age</th>\n",
       "      <th>education</th>\n",
       "      <th>education_id</th>\n",
       "      <th>family_status</th>\n",
       "      <th>family_status_id</th>\n",
       "      <th>gender</th>\n",
       "      <th>income_type</th>\n",
       "      <th>debt</th>\n",
       "      <th>total_income</th>\n",
       "      <th>purpose_category</th>\n",
       "      <th>income_level</th>\n",
       "    </tr>\n",
       "  </thead>\n",
       "  <tbody>\n",
       "    <tr>\n",
       "      <th>0</th>\n",
       "      <td>1</td>\n",
       "      <td>-8437</td>\n",
       "      <td>42</td>\n",
       "      <td>bachelor's degree</td>\n",
       "      <td>0</td>\n",
       "      <td>married</td>\n",
       "      <td>0</td>\n",
       "      <td>F</td>\n",
       "      <td>employee</td>\n",
       "      <td>0</td>\n",
       "      <td>40620</td>\n",
       "      <td>house</td>\n",
       "      <td>very high</td>\n",
       "    </tr>\n",
       "    <tr>\n",
       "      <th>1</th>\n",
       "      <td>1</td>\n",
       "      <td>-4024</td>\n",
       "      <td>36</td>\n",
       "      <td>secondary education</td>\n",
       "      <td>1</td>\n",
       "      <td>married</td>\n",
       "      <td>0</td>\n",
       "      <td>F</td>\n",
       "      <td>employee</td>\n",
       "      <td>0</td>\n",
       "      <td>17932</td>\n",
       "      <td>car</td>\n",
       "      <td>middle</td>\n",
       "    </tr>\n",
       "    <tr>\n",
       "      <th>2</th>\n",
       "      <td>0</td>\n",
       "      <td>-5623</td>\n",
       "      <td>33</td>\n",
       "      <td>secondary education</td>\n",
       "      <td>1</td>\n",
       "      <td>married</td>\n",
       "      <td>0</td>\n",
       "      <td>M</td>\n",
       "      <td>employee</td>\n",
       "      <td>0</td>\n",
       "      <td>23341</td>\n",
       "      <td>house</td>\n",
       "      <td>middle</td>\n",
       "    </tr>\n",
       "    <tr>\n",
       "      <th>3</th>\n",
       "      <td>3</td>\n",
       "      <td>-4124</td>\n",
       "      <td>32</td>\n",
       "      <td>secondary education</td>\n",
       "      <td>1</td>\n",
       "      <td>married</td>\n",
       "      <td>0</td>\n",
       "      <td>M</td>\n",
       "      <td>employee</td>\n",
       "      <td>0</td>\n",
       "      <td>42820</td>\n",
       "      <td>education</td>\n",
       "      <td>very high</td>\n",
       "    </tr>\n",
       "    <tr>\n",
       "      <th>4</th>\n",
       "      <td>0</td>\n",
       "      <td>340266</td>\n",
       "      <td>53</td>\n",
       "      <td>secondary education</td>\n",
       "      <td>1</td>\n",
       "      <td>civil partnership</td>\n",
       "      <td>1</td>\n",
       "      <td>F</td>\n",
       "      <td>retiree</td>\n",
       "      <td>0</td>\n",
       "      <td>25378</td>\n",
       "      <td>wedding</td>\n",
       "      <td>high</td>\n",
       "    </tr>\n",
       "  </tbody>\n",
       "</table>\n",
       "</div>"
      ],
      "text/plain": [
       "   children  days_employed  customer_age            education  education_id  \\\n",
       "0         1          -8437            42    bachelor's degree             0   \n",
       "1         1          -4024            36  secondary education             1   \n",
       "2         0          -5623            33  secondary education             1   \n",
       "3         3          -4124            32  secondary education             1   \n",
       "4         0         340266            53  secondary education             1   \n",
       "\n",
       "       family_status  family_status_id gender income_type  debt  total_income  \\\n",
       "0            married                 0      F    employee     0         40620   \n",
       "1            married                 0      F    employee     0         17932   \n",
       "2            married                 0      M    employee     0         23341   \n",
       "3            married                 0      M    employee     0         42820   \n",
       "4  civil partnership                 1      F     retiree     0         25378   \n",
       "\n",
       "  purpose_category income_level  \n",
       "0            house    very high  \n",
       "1              car       middle  \n",
       "2            house       middle  \n",
       "3        education    very high  \n",
       "4          wedding         high  "
      ]
     },
     "execution_count": 106,
     "metadata": {},
     "output_type": "execute_result"
    }
   ],
   "source": [
    "# check new data with income category\n",
    "credit_data.head()"
   ]
  },
  {
   "cell_type": "markdown",
   "metadata": {},
   "source": [
    "### Conclusion\n",
    "\n",
    "Categorization of the purposes was performed in the previous task. So here we have categorized total_income each customer get according to if they are below or above the specific quartile of the data. Briefly:\n",
    "\n",
    "1st quartile (25%) - **low**\n",
    "\n",
    "2nd quartile (50%) - **medium**\n",
    "\n",
    "3rd quartile (75%) - **high** \n",
    "\n",
    "higher than 75% - **very high**."
   ]
  },
  {
   "cell_type": "markdown",
   "metadata": {},
   "source": [
    "---"
   ]
  },
  {
   "cell_type": "markdown",
   "metadata": {},
   "source": [
    "## Answering the questions"
   ]
  },
  {
   "cell_type": "markdown",
   "metadata": {},
   "source": [
    "- Is there a relation between having kids and repaying a loan on time?"
   ]
  },
  {
   "cell_type": "code",
   "execution_count": 107,
   "metadata": {
    "scrolled": true
   },
   "outputs": [
    {
     "data": {
      "text/html": [
       "<div>\n",
       "<style scoped>\n",
       "    .dataframe tbody tr th:only-of-type {\n",
       "        vertical-align: middle;\n",
       "    }\n",
       "\n",
       "    .dataframe tbody tr th {\n",
       "        vertical-align: top;\n",
       "    }\n",
       "\n",
       "    .dataframe thead tr th {\n",
       "        text-align: left;\n",
       "    }\n",
       "\n",
       "    .dataframe thead tr:last-of-type th {\n",
       "        text-align: right;\n",
       "    }\n",
       "</style>\n",
       "<table border=\"1\" class=\"dataframe\">\n",
       "  <thead>\n",
       "    <tr>\n",
       "      <th></th>\n",
       "      <th colspan=\"6\" halign=\"left\">debt</th>\n",
       "    </tr>\n",
       "    <tr>\n",
       "      <th></th>\n",
       "      <th colspan=\"6\" halign=\"left\">count</th>\n",
       "    </tr>\n",
       "    <tr>\n",
       "      <th>children</th>\n",
       "      <th>0</th>\n",
       "      <th>1</th>\n",
       "      <th>2</th>\n",
       "      <th>3</th>\n",
       "      <th>4</th>\n",
       "      <th>5</th>\n",
       "    </tr>\n",
       "    <tr>\n",
       "      <th>debt</th>\n",
       "      <th></th>\n",
       "      <th></th>\n",
       "      <th></th>\n",
       "      <th></th>\n",
       "      <th></th>\n",
       "      <th></th>\n",
       "    </tr>\n",
       "  </thead>\n",
       "  <tbody>\n",
       "    <tr>\n",
       "      <th>0</th>\n",
       "      <td>12768.0</td>\n",
       "      <td>4353.0</td>\n",
       "      <td>1913.0</td>\n",
       "      <td>302.0</td>\n",
       "      <td>36.0</td>\n",
       "      <td>9.0</td>\n",
       "    </tr>\n",
       "    <tr>\n",
       "      <th>1</th>\n",
       "      <td>1061.0</td>\n",
       "      <td>445.0</td>\n",
       "      <td>202.0</td>\n",
       "      <td>27.0</td>\n",
       "      <td>4.0</td>\n",
       "      <td>NaN</td>\n",
       "    </tr>\n",
       "  </tbody>\n",
       "</table>\n",
       "</div>"
      ],
      "text/plain": [
       "             debt                                  \n",
       "            count                                  \n",
       "children        0       1       2      3     4    5\n",
       "debt                                               \n",
       "0         12768.0  4353.0  1913.0  302.0  36.0  9.0\n",
       "1          1061.0   445.0   202.0   27.0   4.0  NaN"
      ]
     },
     "execution_count": 107,
     "metadata": {},
     "output_type": "execute_result"
    }
   ],
   "source": [
    "# constuct a pivot table with counting customer number \n",
    "#who defauled or not according to their number of children\n",
    "pivot_table_kid = credit_data.pivot_table(\n",
    "    index='debt', columns='children', aggfunc={'debt':['count']})\n",
    "pivot_table_kid"
   ]
  },
  {
   "cell_type": "code",
   "execution_count": 108,
   "metadata": {},
   "outputs": [
    {
     "data": {
      "text/html": [
       "<div>\n",
       "<style scoped>\n",
       "    .dataframe tbody tr th:only-of-type {\n",
       "        vertical-align: middle;\n",
       "    }\n",
       "\n",
       "    .dataframe tbody tr th {\n",
       "        vertical-align: top;\n",
       "    }\n",
       "\n",
       "    .dataframe thead tr th {\n",
       "        text-align: left;\n",
       "    }\n",
       "\n",
       "    .dataframe thead tr:last-of-type th {\n",
       "        text-align: right;\n",
       "    }\n",
       "</style>\n",
       "<table border=\"1\" class=\"dataframe\">\n",
       "  <thead>\n",
       "    <tr>\n",
       "      <th></th>\n",
       "      <th colspan=\"6\" halign=\"left\">debt</th>\n",
       "    </tr>\n",
       "    <tr>\n",
       "      <th></th>\n",
       "      <th colspan=\"6\" halign=\"left\">count</th>\n",
       "    </tr>\n",
       "    <tr>\n",
       "      <th>children</th>\n",
       "      <th>0</th>\n",
       "      <th>1</th>\n",
       "      <th>2</th>\n",
       "      <th>3</th>\n",
       "      <th>4</th>\n",
       "      <th>5</th>\n",
       "    </tr>\n",
       "    <tr>\n",
       "      <th>debt</th>\n",
       "      <th></th>\n",
       "      <th></th>\n",
       "      <th></th>\n",
       "      <th></th>\n",
       "      <th></th>\n",
       "      <th></th>\n",
       "    </tr>\n",
       "  </thead>\n",
       "  <tbody>\n",
       "    <tr>\n",
       "      <th>0</th>\n",
       "      <td>12768.000000</td>\n",
       "      <td>4353.000000</td>\n",
       "      <td>1913.000000</td>\n",
       "      <td>302.000000</td>\n",
       "      <td>36.0</td>\n",
       "      <td>9.0</td>\n",
       "    </tr>\n",
       "    <tr>\n",
       "      <th>1</th>\n",
       "      <td>1061.000000</td>\n",
       "      <td>445.000000</td>\n",
       "      <td>202.000000</td>\n",
       "      <td>27.000000</td>\n",
       "      <td>4.0</td>\n",
       "      <td>NaN</td>\n",
       "    </tr>\n",
       "    <tr>\n",
       "      <th>defaulted %</th>\n",
       "      <td>7.672283</td>\n",
       "      <td>9.274698</td>\n",
       "      <td>9.550827</td>\n",
       "      <td>8.206687</td>\n",
       "      <td>10.0</td>\n",
       "      <td>NaN</td>\n",
       "    </tr>\n",
       "  </tbody>\n",
       "</table>\n",
       "</div>"
      ],
      "text/plain": [
       "                     debt                                                 \n",
       "                    count                                                 \n",
       "children                0            1            2           3     4    5\n",
       "debt                                                                      \n",
       "0            12768.000000  4353.000000  1913.000000  302.000000  36.0  9.0\n",
       "1             1061.000000   445.000000   202.000000   27.000000   4.0  NaN\n",
       "defaulted %      7.672283     9.274698     9.550827    8.206687  10.0  NaN"
      ]
     },
     "execution_count": 108,
     "metadata": {},
     "output_type": "execute_result"
    }
   ],
   "source": [
    "#calculate the percentage of customers who defaulted out of total customers\n",
    "# and add this percantge as a third row of the pivot table\n",
    "pivot_table_kid.loc['defaulted %'] = pivot_table_kid.loc[1]*100/(pivot_table_kid.loc[0] + pivot_table_kid.loc[1])\n",
    "pivot_table_kid"
   ]
  },
  {
   "cell_type": "markdown",
   "metadata": {},
   "source": [
    "### Conclusion\n",
    "\n",
    "Most of the customers don't have any children and they have the lowest percentage of customers who defaulted. It is hard to compare data in this way because the population of customers with a high number of kids (e.g. there are only 329 people with three kid, while 12829 people without the kid) are significantly low than people who do not have a kid. Consequently, we can say that defaulting is not strongly related to having a kid."
   ]
  },
  {
   "cell_type": "markdown",
   "metadata": {},
   "source": [
    "- Is there a relation between marital status and repaying a loan on time?"
   ]
  },
  {
   "cell_type": "code",
   "execution_count": 109,
   "metadata": {
    "scrolled": false
   },
   "outputs": [
    {
     "data": {
      "text/html": [
       "<div>\n",
       "<style scoped>\n",
       "    .dataframe tbody tr th:only-of-type {\n",
       "        vertical-align: middle;\n",
       "    }\n",
       "\n",
       "    .dataframe tbody tr th {\n",
       "        vertical-align: top;\n",
       "    }\n",
       "\n",
       "    .dataframe thead tr th {\n",
       "        text-align: left;\n",
       "    }\n",
       "\n",
       "    .dataframe thead tr:last-of-type th {\n",
       "        text-align: right;\n",
       "    }\n",
       "</style>\n",
       "<table border=\"1\" class=\"dataframe\">\n",
       "  <thead>\n",
       "    <tr>\n",
       "      <th></th>\n",
       "      <th colspan=\"5\" halign=\"left\">debt</th>\n",
       "    </tr>\n",
       "    <tr>\n",
       "      <th></th>\n",
       "      <th colspan=\"5\" halign=\"left\">count</th>\n",
       "    </tr>\n",
       "    <tr>\n",
       "      <th>family_status</th>\n",
       "      <th>civil partnership</th>\n",
       "      <th>divorced</th>\n",
       "      <th>married</th>\n",
       "      <th>unmarried</th>\n",
       "      <th>widow / widower</th>\n",
       "    </tr>\n",
       "    <tr>\n",
       "      <th>debt</th>\n",
       "      <th></th>\n",
       "      <th></th>\n",
       "      <th></th>\n",
       "      <th></th>\n",
       "      <th></th>\n",
       "    </tr>\n",
       "  </thead>\n",
       "  <tbody>\n",
       "    <tr>\n",
       "      <th>0</th>\n",
       "      <td>3736.000000</td>\n",
       "      <td>1108.000000</td>\n",
       "      <td>11147.000000</td>\n",
       "      <td>2510.000000</td>\n",
       "      <td>880.000000</td>\n",
       "    </tr>\n",
       "    <tr>\n",
       "      <th>1</th>\n",
       "      <td>388.000000</td>\n",
       "      <td>85.000000</td>\n",
       "      <td>929.000000</td>\n",
       "      <td>274.000000</td>\n",
       "      <td>63.000000</td>\n",
       "    </tr>\n",
       "    <tr>\n",
       "      <th>defaulted %</th>\n",
       "      <td>9.408341</td>\n",
       "      <td>7.124895</td>\n",
       "      <td>7.692945</td>\n",
       "      <td>9.841954</td>\n",
       "      <td>6.680806</td>\n",
       "    </tr>\n",
       "  </tbody>\n",
       "</table>\n",
       "</div>"
      ],
      "text/plain": [
       "                           debt                                          \\\n",
       "                          count                                           \n",
       "family_status civil partnership     divorced       married    unmarried   \n",
       "debt                                                                      \n",
       "0                   3736.000000  1108.000000  11147.000000  2510.000000   \n",
       "1                    388.000000    85.000000    929.000000   274.000000   \n",
       "defaulted %            9.408341     7.124895      7.692945     9.841954   \n",
       "\n",
       "                               \n",
       "                               \n",
       "family_status widow / widower  \n",
       "debt                           \n",
       "0                  880.000000  \n",
       "1                   63.000000  \n",
       "defaulted %          6.680806  "
      ]
     },
     "execution_count": 109,
     "metadata": {},
     "output_type": "execute_result"
    }
   ],
   "source": [
    "# make a pivot table as in previous task\n",
    "pivot_marital = credit_data.pivot_table(index='debt', columns='family_status',  aggfunc={'debt':['count']})\n",
    "pivot_marital.loc['defaulted %'] = pivot_marital.loc[1]*100/(pivot_marital.loc[0] + pivot_marital.loc[1])\n",
    "pivot_marital"
   ]
  },
  {
   "cell_type": "markdown",
   "metadata": {},
   "source": [
    "### Conclusion\n",
    "\n",
    "Based on the percentages of customers who defaulted, we can say that people who are **unmarried** or **civil partnership** has a higher defaulting rate. Maybe, that kind of people feels less responsibility :). In contrast, **widow** or **divorced** people are more likely to pay their debts on time."
   ]
  },
  {
   "cell_type": "markdown",
   "metadata": {},
   "source": [
    "- Is there a relation between income level and repaying a loan on time?"
   ]
  },
  {
   "cell_type": "code",
   "execution_count": 110,
   "metadata": {
    "scrolled": true
   },
   "outputs": [
    {
     "data": {
      "text/html": [
       "<div>\n",
       "<style scoped>\n",
       "    .dataframe tbody tr th:only-of-type {\n",
       "        vertical-align: middle;\n",
       "    }\n",
       "\n",
       "    .dataframe tbody tr th {\n",
       "        vertical-align: top;\n",
       "    }\n",
       "\n",
       "    .dataframe thead tr th {\n",
       "        text-align: left;\n",
       "    }\n",
       "\n",
       "    .dataframe thead tr:last-of-type th {\n",
       "        text-align: right;\n",
       "    }\n",
       "</style>\n",
       "<table border=\"1\" class=\"dataframe\">\n",
       "  <thead>\n",
       "    <tr>\n",
       "      <th></th>\n",
       "      <th colspan=\"4\" halign=\"left\">debt</th>\n",
       "    </tr>\n",
       "    <tr>\n",
       "      <th></th>\n",
       "      <th colspan=\"4\" halign=\"left\">count</th>\n",
       "    </tr>\n",
       "    <tr>\n",
       "      <th>income_level</th>\n",
       "      <th>high</th>\n",
       "      <th>low</th>\n",
       "      <th>middle</th>\n",
       "      <th>very high</th>\n",
       "    </tr>\n",
       "    <tr>\n",
       "      <th>debt</th>\n",
       "      <th></th>\n",
       "      <th></th>\n",
       "      <th></th>\n",
       "      <th></th>\n",
       "    </tr>\n",
       "  </thead>\n",
       "  <tbody>\n",
       "    <tr>\n",
       "      <th>0</th>\n",
       "      <td>4805.000000</td>\n",
       "      <td>4863.00000</td>\n",
       "      <td>4815.000000</td>\n",
       "      <td>4898.000000</td>\n",
       "    </tr>\n",
       "    <tr>\n",
       "      <th>1</th>\n",
       "      <td>475.000000</td>\n",
       "      <td>416.00000</td>\n",
       "      <td>466.000000</td>\n",
       "      <td>382.000000</td>\n",
       "    </tr>\n",
       "    <tr>\n",
       "      <th>defaulted %</th>\n",
       "      <td>8.996212</td>\n",
       "      <td>7.88028</td>\n",
       "      <td>8.824086</td>\n",
       "      <td>7.234848</td>\n",
       "    </tr>\n",
       "  </tbody>\n",
       "</table>\n",
       "</div>"
      ],
      "text/plain": [
       "                     debt                                      \n",
       "                    count                                      \n",
       "income_level         high         low       middle    very high\n",
       "debt                                                           \n",
       "0             4805.000000  4863.00000  4815.000000  4898.000000\n",
       "1              475.000000   416.00000   466.000000   382.000000\n",
       "defaulted %      8.996212     7.88028     8.824086     7.234848"
      ]
     },
     "execution_count": 110,
     "metadata": {},
     "output_type": "execute_result"
    }
   ],
   "source": [
    "# make a pivot table as in previous task\n",
    "pivot_income = credit_data.pivot_table(index='debt', columns='income_level',  aggfunc={'debt':['count']})\n",
    "pivot_income.loc['defaulted %'] = pivot_income.loc[1]*100/(pivot_income.loc[0] + pivot_income.loc[1])\n",
    "pivot_income"
   ]
  },
  {
   "cell_type": "markdown",
   "metadata": {},
   "source": [
    "### Conclusion\n",
    "\n",
    "There is no clear correlation between income level and defaulting. However, based on the percentages, we can say that people with **very high** and **low** income are more responsible for their debts. Whereas **middle** and **high** income people more likely to default."
   ]
  },
  {
   "cell_type": "markdown",
   "metadata": {},
   "source": [
    "- How do different loan purposes affect on-time repayment of the loan?"
   ]
  },
  {
   "cell_type": "code",
   "execution_count": 111,
   "metadata": {
    "scrolled": true
   },
   "outputs": [
    {
     "data": {
      "text/html": [
       "<div>\n",
       "<style scoped>\n",
       "    .dataframe tbody tr th:only-of-type {\n",
       "        vertical-align: middle;\n",
       "    }\n",
       "\n",
       "    .dataframe tbody tr th {\n",
       "        vertical-align: top;\n",
       "    }\n",
       "\n",
       "    .dataframe thead tr th {\n",
       "        text-align: left;\n",
       "    }\n",
       "\n",
       "    .dataframe thead tr:last-of-type th {\n",
       "        text-align: right;\n",
       "    }\n",
       "</style>\n",
       "<table border=\"1\" class=\"dataframe\">\n",
       "  <thead>\n",
       "    <tr>\n",
       "      <th></th>\n",
       "      <th colspan=\"4\" halign=\"left\">debt</th>\n",
       "    </tr>\n",
       "    <tr>\n",
       "      <th></th>\n",
       "      <th colspan=\"4\" halign=\"left\">count</th>\n",
       "    </tr>\n",
       "    <tr>\n",
       "      <th>purpose_category</th>\n",
       "      <th>car</th>\n",
       "      <th>education</th>\n",
       "      <th>house</th>\n",
       "      <th>wedding</th>\n",
       "    </tr>\n",
       "    <tr>\n",
       "      <th>debt</th>\n",
       "      <th></th>\n",
       "      <th></th>\n",
       "      <th></th>\n",
       "      <th></th>\n",
       "    </tr>\n",
       "  </thead>\n",
       "  <tbody>\n",
       "    <tr>\n",
       "      <th>0</th>\n",
       "      <td>3870.000000</td>\n",
       "      <td>3594.000000</td>\n",
       "      <td>9797.000000</td>\n",
       "      <td>2120.000000</td>\n",
       "    </tr>\n",
       "    <tr>\n",
       "      <th>1</th>\n",
       "      <td>402.000000</td>\n",
       "      <td>370.000000</td>\n",
       "      <td>781.000000</td>\n",
       "      <td>186.000000</td>\n",
       "    </tr>\n",
       "    <tr>\n",
       "      <th>defaulted %</th>\n",
       "      <td>9.410112</td>\n",
       "      <td>9.334006</td>\n",
       "      <td>7.383248</td>\n",
       "      <td>8.065915</td>\n",
       "    </tr>\n",
       "  </tbody>\n",
       "</table>\n",
       "</div>"
      ],
      "text/plain": [
       "                         debt                                       \n",
       "                        count                                       \n",
       "purpose_category          car    education        house      wedding\n",
       "debt                                                                \n",
       "0                 3870.000000  3594.000000  9797.000000  2120.000000\n",
       "1                  402.000000   370.000000   781.000000   186.000000\n",
       "defaulted %          9.410112     9.334006     7.383248     8.065915"
      ]
     },
     "execution_count": 111,
     "metadata": {},
     "output_type": "execute_result"
    }
   ],
   "source": [
    "# make a pivot table as in prevous task\n",
    "pivot_purpose = credit_data.pivot_table(index='debt', columns='purpose_category',  aggfunc={'debt':['count']})\n",
    "pivot_purpose.loc['defaulted %'] = pivot_purpose.loc[1]*100/(pivot_purpose.loc[0] + pivot_purpose.loc[1])\n",
    "pivot_purpose"
   ]
  },
  {
   "cell_type": "markdown",
   "metadata": {},
   "source": [
    "### Conclusion\n",
    "\n",
    "People who have borrowed money for construction or buying a house are less likely to default compared to other purposes. While people who had a purpose of **car** or **education** has a higher risk of default."
   ]
  },
  {
   "cell_type": "markdown",
   "metadata": {},
   "source": [
    "---"
   ]
  },
  {
   "cell_type": "markdown",
   "metadata": {},
   "source": [
    "## General conclusion\n",
    "\n",
    "The data about bank customer's debt repaying was successfully opened and analyzed. Missing values were detected, which might be intentionally left blank or technical error, and these missing values were filled using median values depending on values of other indicators. The number of duplicates increased when categorical columns are changed to lower case and the purpose column was changed to a shorter purpose category. Each question asked initially was answered depending on the data. However, there was not drastic relationship observed."
   ]
  },
  {
   "cell_type": "markdown",
   "metadata": {},
   "source": [
    "## Project Readiness Checklist\n",
    "\n",
    "Put 'x' in the completed points. Then press Shift + Enter."
   ]
  },
  {
   "cell_type": "markdown",
   "metadata": {},
   "source": [
    "- [x]  file open;\n",
    "- [x]  file examined;\n",
    "- [x]  missing values defined;\n",
    "- [x]  missing values are filled;\n",
    "- [x]  an explanation of which missing value types were detected;\n",
    "- [x]  explanation for the possible causes of missing values;\n",
    "- [x]  an explanation of how the blanks are filled;\n",
    "- [x]  replaced the real data type with an integer;\n",
    "- [x]  an explanation of which method is used to change the data type and why;\n",
    "- [x]  duplicates deleted;\n",
    "- [x]  an explanation of which method is used to find and remove duplicates;\n",
    "- [x]  description of the possible reasons for the appearance of duplicates in the data;\n",
    "- [x]  data is categorized;\n",
    "- [x]  an explanation of the principle of data categorization;\n",
    "- [x]  an answer to the question \"Is there a relation between having kids and repaying a loan on time?\";\n",
    "- [x]  an answer to the question \" Is there a relation between marital status and repaying a loan on time?\";\n",
    "- [x]   an answer to the question \" Is there a relation between income level and repaying a loan on time?\";\n",
    "- [x]  an answer to the question \" How do different loan purposes affect on-time repayment of the loan?\"\n",
    "- [x]  conclusions are present on each stage;\n",
    "- [x]  a general conclusion is made."
   ]
  }
 ],
 "metadata": {
  "kernelspec": {
   "display_name": "Python 3",
   "language": "python",
   "name": "python3"
  },
  "language_info": {
   "codemirror_mode": {
    "name": "ipython",
    "version": 3
   },
   "file_extension": ".py",
   "mimetype": "text/x-python",
   "name": "python",
   "nbconvert_exporter": "python",
   "pygments_lexer": "ipython3",
   "version": "3.8.5"
  },
  "toc": {
   "base_numbering": 1,
   "nav_menu": {},
   "number_sections": true,
   "sideBar": true,
   "skip_h1_title": true,
   "title_cell": "Table of Contents",
   "title_sidebar": "Contents",
   "toc_cell": false,
   "toc_position": {},
   "toc_section_display": true,
   "toc_window_display": true
  }
 },
 "nbformat": 4,
 "nbformat_minor": 2
}

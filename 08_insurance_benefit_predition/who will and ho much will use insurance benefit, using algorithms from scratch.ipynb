{
 "cells": [
  {
   "cell_type": "markdown",
   "metadata": {},
   "source": [
    "# Who will benefit insurance?"
   ]
  },
  {
   "cell_type": "markdown",
   "metadata": {},
   "source": [
    "## 1. Data Preprocessing & Exploration\n",
    "\n",
    "### 1.1 Initialization"
   ]
  },
  {
   "cell_type": "code",
   "execution_count": 1,
   "metadata": {},
   "outputs": [],
   "source": [
    "import numpy as np\n",
    "import pandas as pd\n",
    "import math\n",
    "\n",
    "import seaborn as sns\n",
    "\n",
    "import sklearn.linear_model\n",
    "import sklearn.metrics\n",
    "import sklearn.neighbors\n",
    "import sklearn.preprocessing\n",
    "\n",
    "from sklearn.model_selection import train_test_split"
   ]
  },
  {
   "cell_type": "markdown",
   "metadata": {},
   "source": [
    "> All necessary Python libraries would be imported here!"
   ]
  },
  {
   "cell_type": "markdown",
   "metadata": {},
   "source": [
    "### 1.2 Load Data"
   ]
  },
  {
   "cell_type": "markdown",
   "metadata": {},
   "source": [
    "Load data and conduct a basic check that it's free from obvious issues."
   ]
  },
  {
   "cell_type": "code",
   "execution_count": 29,
   "metadata": {},
   "outputs": [
    {
     "data": {
      "text/html": [
       "<div>\n",
       "<style scoped>\n",
       "    .dataframe tbody tr th:only-of-type {\n",
       "        vertical-align: middle;\n",
       "    }\n",
       "\n",
       "    .dataframe tbody tr th {\n",
       "        vertical-align: top;\n",
       "    }\n",
       "\n",
       "    .dataframe thead th {\n",
       "        text-align: right;\n",
       "    }\n",
       "</style>\n",
       "<table border=\"1\" class=\"dataframe\">\n",
       "  <thead>\n",
       "    <tr style=\"text-align: right;\">\n",
       "      <th></th>\n",
       "      <th>Gender</th>\n",
       "      <th>Age</th>\n",
       "      <th>Salary</th>\n",
       "      <th>Family members</th>\n",
       "      <th>Insurance benefits</th>\n",
       "    </tr>\n",
       "  </thead>\n",
       "  <tbody>\n",
       "    <tr>\n",
       "      <th>0</th>\n",
       "      <td>1</td>\n",
       "      <td>41.0</td>\n",
       "      <td>49600.0</td>\n",
       "      <td>1</td>\n",
       "      <td>0</td>\n",
       "    </tr>\n",
       "    <tr>\n",
       "      <th>1</th>\n",
       "      <td>0</td>\n",
       "      <td>46.0</td>\n",
       "      <td>38000.0</td>\n",
       "      <td>1</td>\n",
       "      <td>1</td>\n",
       "    </tr>\n",
       "    <tr>\n",
       "      <th>2</th>\n",
       "      <td>0</td>\n",
       "      <td>29.0</td>\n",
       "      <td>21000.0</td>\n",
       "      <td>0</td>\n",
       "      <td>0</td>\n",
       "    </tr>\n",
       "    <tr>\n",
       "      <th>3</th>\n",
       "      <td>0</td>\n",
       "      <td>21.0</td>\n",
       "      <td>41700.0</td>\n",
       "      <td>2</td>\n",
       "      <td>0</td>\n",
       "    </tr>\n",
       "    <tr>\n",
       "      <th>4</th>\n",
       "      <td>1</td>\n",
       "      <td>28.0</td>\n",
       "      <td>26100.0</td>\n",
       "      <td>0</td>\n",
       "      <td>0</td>\n",
       "    </tr>\n",
       "  </tbody>\n",
       "</table>\n",
       "</div>"
      ],
      "text/plain": [
       "   Gender   Age   Salary  Family members  Insurance benefits\n",
       "0       1  41.0  49600.0               1                   0\n",
       "1       0  46.0  38000.0               1                   1\n",
       "2       0  29.0  21000.0               0                   0\n",
       "3       0  21.0  41700.0               2                   0\n",
       "4       1  28.0  26100.0               0                   0"
      ]
     },
     "execution_count": 29,
     "metadata": {},
     "output_type": "execute_result"
    }
   ],
   "source": [
    "df = pd.read_csv(\"insurance_us.csv\")\n",
    "df.head()"
   ]
  },
  {
   "cell_type": "markdown",
   "metadata": {},
   "source": [
    "We rename the colums to make the code look more consistent with its style."
   ]
  },
  {
   "cell_type": "code",
   "execution_count": 30,
   "metadata": {},
   "outputs": [],
   "source": [
    "df = df.rename(\n",
    "    columns={\n",
    "        \"Gender\": \"gender\",\n",
    "        \"Age\": \"age\",\n",
    "        \"Salary\": \"income\",\n",
    "        \"Family members\": \"family_members\",\n",
    "        \"Insurance benefits\": \"insurance_benefits\",\n",
    "    }\n",
    ")"
   ]
  },
  {
   "cell_type": "code",
   "execution_count": 31,
   "metadata": {
    "scrolled": true
   },
   "outputs": [
    {
     "data": {
      "text/html": [
       "<div>\n",
       "<style scoped>\n",
       "    .dataframe tbody tr th:only-of-type {\n",
       "        vertical-align: middle;\n",
       "    }\n",
       "\n",
       "    .dataframe tbody tr th {\n",
       "        vertical-align: top;\n",
       "    }\n",
       "\n",
       "    .dataframe thead th {\n",
       "        text-align: right;\n",
       "    }\n",
       "</style>\n",
       "<table border=\"1\" class=\"dataframe\">\n",
       "  <thead>\n",
       "    <tr style=\"text-align: right;\">\n",
       "      <th></th>\n",
       "      <th>gender</th>\n",
       "      <th>age</th>\n",
       "      <th>income</th>\n",
       "      <th>family_members</th>\n",
       "      <th>insurance_benefits</th>\n",
       "    </tr>\n",
       "  </thead>\n",
       "  <tbody>\n",
       "    <tr>\n",
       "      <th>78</th>\n",
       "      <td>0</td>\n",
       "      <td>43.0</td>\n",
       "      <td>34900.0</td>\n",
       "      <td>0</td>\n",
       "      <td>1</td>\n",
       "    </tr>\n",
       "    <tr>\n",
       "      <th>2604</th>\n",
       "      <td>0</td>\n",
       "      <td>18.0</td>\n",
       "      <td>55100.0</td>\n",
       "      <td>0</td>\n",
       "      <td>0</td>\n",
       "    </tr>\n",
       "    <tr>\n",
       "      <th>3897</th>\n",
       "      <td>0</td>\n",
       "      <td>25.0</td>\n",
       "      <td>23700.0</td>\n",
       "      <td>0</td>\n",
       "      <td>0</td>\n",
       "    </tr>\n",
       "    <tr>\n",
       "      <th>3266</th>\n",
       "      <td>1</td>\n",
       "      <td>29.0</td>\n",
       "      <td>27200.0</td>\n",
       "      <td>3</td>\n",
       "      <td>0</td>\n",
       "    </tr>\n",
       "    <tr>\n",
       "      <th>2340</th>\n",
       "      <td>0</td>\n",
       "      <td>42.0</td>\n",
       "      <td>52400.0</td>\n",
       "      <td>0</td>\n",
       "      <td>1</td>\n",
       "    </tr>\n",
       "    <tr>\n",
       "      <th>2825</th>\n",
       "      <td>0</td>\n",
       "      <td>35.0</td>\n",
       "      <td>54300.0</td>\n",
       "      <td>0</td>\n",
       "      <td>0</td>\n",
       "    </tr>\n",
       "    <tr>\n",
       "      <th>115</th>\n",
       "      <td>1</td>\n",
       "      <td>23.0</td>\n",
       "      <td>33000.0</td>\n",
       "      <td>1</td>\n",
       "      <td>0</td>\n",
       "    </tr>\n",
       "    <tr>\n",
       "      <th>1055</th>\n",
       "      <td>1</td>\n",
       "      <td>30.0</td>\n",
       "      <td>37300.0</td>\n",
       "      <td>2</td>\n",
       "      <td>0</td>\n",
       "    </tr>\n",
       "    <tr>\n",
       "      <th>728</th>\n",
       "      <td>0</td>\n",
       "      <td>40.0</td>\n",
       "      <td>32500.0</td>\n",
       "      <td>1</td>\n",
       "      <td>0</td>\n",
       "    </tr>\n",
       "    <tr>\n",
       "      <th>1178</th>\n",
       "      <td>1</td>\n",
       "      <td>18.0</td>\n",
       "      <td>58400.0</td>\n",
       "      <td>2</td>\n",
       "      <td>0</td>\n",
       "    </tr>\n",
       "  </tbody>\n",
       "</table>\n",
       "</div>"
      ],
      "text/plain": [
       "      gender   age   income  family_members  insurance_benefits\n",
       "78         0  43.0  34900.0               0                   1\n",
       "2604       0  18.0  55100.0               0                   0\n",
       "3897       0  25.0  23700.0               0                   0\n",
       "3266       1  29.0  27200.0               3                   0\n",
       "2340       0  42.0  52400.0               0                   1\n",
       "2825       0  35.0  54300.0               0                   0\n",
       "115        1  23.0  33000.0               1                   0\n",
       "1055       1  30.0  37300.0               2                   0\n",
       "728        0  40.0  32500.0               1                   0\n",
       "1178       1  18.0  58400.0               2                   0"
      ]
     },
     "execution_count": 31,
     "metadata": {},
     "output_type": "execute_result"
    }
   ],
   "source": [
    "df.sample(10)"
   ]
  },
  {
   "cell_type": "code",
   "execution_count": 32,
   "metadata": {},
   "outputs": [
    {
     "name": "stdout",
     "output_type": "stream",
     "text": [
      "<class 'pandas.core.frame.DataFrame'>\n",
      "RangeIndex: 5000 entries, 0 to 4999\n",
      "Data columns (total 5 columns):\n",
      " #   Column              Non-Null Count  Dtype  \n",
      "---  ------              --------------  -----  \n",
      " 0   gender              5000 non-null   int64  \n",
      " 1   age                 5000 non-null   float64\n",
      " 2   income              5000 non-null   float64\n",
      " 3   family_members      5000 non-null   int64  \n",
      " 4   insurance_benefits  5000 non-null   int64  \n",
      "dtypes: float64(2), int64(3)\n",
      "memory usage: 195.4 KB\n"
     ]
    }
   ],
   "source": [
    "df.info()"
   ]
  },
  {
   "cell_type": "code",
   "execution_count": 33,
   "metadata": {},
   "outputs": [],
   "source": [
    "# we may want to fix the age type (from float to int) though this is not critical\n",
    "\n",
    "# write your conversion here if you choose:\n",
    "df[\"age\"] = df[\"age\"].astype(\"int\")"
   ]
  },
  {
   "cell_type": "code",
   "execution_count": 34,
   "metadata": {},
   "outputs": [
    {
     "name": "stdout",
     "output_type": "stream",
     "text": [
      "<class 'pandas.core.frame.DataFrame'>\n",
      "RangeIndex: 5000 entries, 0 to 4999\n",
      "Data columns (total 5 columns):\n",
      " #   Column              Non-Null Count  Dtype  \n",
      "---  ------              --------------  -----  \n",
      " 0   gender              5000 non-null   int64  \n",
      " 1   age                 5000 non-null   int32  \n",
      " 2   income              5000 non-null   float64\n",
      " 3   family_members      5000 non-null   int64  \n",
      " 4   insurance_benefits  5000 non-null   int64  \n",
      "dtypes: float64(1), int32(1), int64(3)\n",
      "memory usage: 175.9 KB\n"
     ]
    }
   ],
   "source": [
    "# check to see that the conversion was successful\n",
    "df.info()"
   ]
  },
  {
   "cell_type": "code",
   "execution_count": 35,
   "metadata": {},
   "outputs": [
    {
     "data": {
      "text/plain": [
       "gender                0\n",
       "age                   0\n",
       "income                0\n",
       "family_members        0\n",
       "insurance_benefits    0\n",
       "dtype: int64"
      ]
     },
     "execution_count": 35,
     "metadata": {},
     "output_type": "execute_result"
    }
   ],
   "source": [
    "# check for the missing values\n",
    "df.isna().sum()"
   ]
  },
  {
   "cell_type": "code",
   "execution_count": 36,
   "metadata": {},
   "outputs": [
    {
     "data": {
      "text/html": [
       "<div>\n",
       "<style scoped>\n",
       "    .dataframe tbody tr th:only-of-type {\n",
       "        vertical-align: middle;\n",
       "    }\n",
       "\n",
       "    .dataframe tbody tr th {\n",
       "        vertical-align: top;\n",
       "    }\n",
       "\n",
       "    .dataframe thead th {\n",
       "        text-align: right;\n",
       "    }\n",
       "</style>\n",
       "<table border=\"1\" class=\"dataframe\">\n",
       "  <thead>\n",
       "    <tr style=\"text-align: right;\">\n",
       "      <th></th>\n",
       "      <th>gender</th>\n",
       "      <th>age</th>\n",
       "      <th>income</th>\n",
       "      <th>family_members</th>\n",
       "      <th>insurance_benefits</th>\n",
       "    </tr>\n",
       "  </thead>\n",
       "  <tbody>\n",
       "    <tr>\n",
       "      <th>count</th>\n",
       "      <td>5000.000000</td>\n",
       "      <td>5000.000000</td>\n",
       "      <td>5000.000000</td>\n",
       "      <td>5000.000000</td>\n",
       "      <td>5000.000000</td>\n",
       "    </tr>\n",
       "    <tr>\n",
       "      <th>mean</th>\n",
       "      <td>0.499000</td>\n",
       "      <td>30.952800</td>\n",
       "      <td>39916.360000</td>\n",
       "      <td>1.194200</td>\n",
       "      <td>0.148000</td>\n",
       "    </tr>\n",
       "    <tr>\n",
       "      <th>std</th>\n",
       "      <td>0.500049</td>\n",
       "      <td>8.440807</td>\n",
       "      <td>9900.083569</td>\n",
       "      <td>1.091387</td>\n",
       "      <td>0.463183</td>\n",
       "    </tr>\n",
       "    <tr>\n",
       "      <th>min</th>\n",
       "      <td>0.000000</td>\n",
       "      <td>18.000000</td>\n",
       "      <td>5300.000000</td>\n",
       "      <td>0.000000</td>\n",
       "      <td>0.000000</td>\n",
       "    </tr>\n",
       "    <tr>\n",
       "      <th>25%</th>\n",
       "      <td>0.000000</td>\n",
       "      <td>24.000000</td>\n",
       "      <td>33300.000000</td>\n",
       "      <td>0.000000</td>\n",
       "      <td>0.000000</td>\n",
       "    </tr>\n",
       "    <tr>\n",
       "      <th>50%</th>\n",
       "      <td>0.000000</td>\n",
       "      <td>30.000000</td>\n",
       "      <td>40200.000000</td>\n",
       "      <td>1.000000</td>\n",
       "      <td>0.000000</td>\n",
       "    </tr>\n",
       "    <tr>\n",
       "      <th>75%</th>\n",
       "      <td>1.000000</td>\n",
       "      <td>37.000000</td>\n",
       "      <td>46600.000000</td>\n",
       "      <td>2.000000</td>\n",
       "      <td>0.000000</td>\n",
       "    </tr>\n",
       "    <tr>\n",
       "      <th>max</th>\n",
       "      <td>1.000000</td>\n",
       "      <td>65.000000</td>\n",
       "      <td>79000.000000</td>\n",
       "      <td>6.000000</td>\n",
       "      <td>5.000000</td>\n",
       "    </tr>\n",
       "  </tbody>\n",
       "</table>\n",
       "</div>"
      ],
      "text/plain": [
       "            gender          age        income  family_members  \\\n",
       "count  5000.000000  5000.000000   5000.000000     5000.000000   \n",
       "mean      0.499000    30.952800  39916.360000        1.194200   \n",
       "std       0.500049     8.440807   9900.083569        1.091387   \n",
       "min       0.000000    18.000000   5300.000000        0.000000   \n",
       "25%       0.000000    24.000000  33300.000000        0.000000   \n",
       "50%       0.000000    30.000000  40200.000000        1.000000   \n",
       "75%       1.000000    37.000000  46600.000000        2.000000   \n",
       "max       1.000000    65.000000  79000.000000        6.000000   \n",
       "\n",
       "       insurance_benefits  \n",
       "count         5000.000000  \n",
       "mean             0.148000  \n",
       "std              0.463183  \n",
       "min              0.000000  \n",
       "25%              0.000000  \n",
       "50%              0.000000  \n",
       "75%              0.000000  \n",
       "max              5.000000  "
      ]
     },
     "execution_count": 36,
     "metadata": {},
     "output_type": "execute_result"
    }
   ],
   "source": [
    "# now have a look at the data's descriptive statistics.\n",
    "# Does everything look okay?\n",
    "df.describe()"
   ]
  },
  {
   "cell_type": "code",
   "execution_count": 37,
   "metadata": {},
   "outputs": [
    {
     "data": {
      "text/plain": [
       "153"
      ]
     },
     "execution_count": 37,
     "metadata": {},
     "output_type": "execute_result"
    }
   ],
   "source": [
    "# check for duplicated rows, if any\n",
    "df.duplicated().sum()"
   ]
  },
  {
   "cell_type": "code",
   "execution_count": 38,
   "metadata": {},
   "outputs": [
    {
     "data": {
      "text/html": [
       "<div>\n",
       "<style scoped>\n",
       "    .dataframe tbody tr th:only-of-type {\n",
       "        vertical-align: middle;\n",
       "    }\n",
       "\n",
       "    .dataframe tbody tr th {\n",
       "        vertical-align: top;\n",
       "    }\n",
       "\n",
       "    .dataframe thead th {\n",
       "        text-align: right;\n",
       "    }\n",
       "</style>\n",
       "<table border=\"1\" class=\"dataframe\">\n",
       "  <thead>\n",
       "    <tr style=\"text-align: right;\">\n",
       "      <th></th>\n",
       "      <th>gender</th>\n",
       "      <th>age</th>\n",
       "      <th>income</th>\n",
       "      <th>family_members</th>\n",
       "      <th>insurance_benefits</th>\n",
       "    </tr>\n",
       "  </thead>\n",
       "  <tbody>\n",
       "    <tr>\n",
       "      <th>1751</th>\n",
       "      <td>0</td>\n",
       "      <td>19</td>\n",
       "      <td>38600.0</td>\n",
       "      <td>0</td>\n",
       "      <td>0</td>\n",
       "    </tr>\n",
       "    <tr>\n",
       "      <th>3268</th>\n",
       "      <td>0</td>\n",
       "      <td>19</td>\n",
       "      <td>38600.0</td>\n",
       "      <td>0</td>\n",
       "      <td>0</td>\n",
       "    </tr>\n",
       "    <tr>\n",
       "      <th>851</th>\n",
       "      <td>0</td>\n",
       "      <td>19</td>\n",
       "      <td>51700.0</td>\n",
       "      <td>0</td>\n",
       "      <td>0</td>\n",
       "    </tr>\n",
       "    <tr>\n",
       "      <th>2853</th>\n",
       "      <td>0</td>\n",
       "      <td>19</td>\n",
       "      <td>51700.0</td>\n",
       "      <td>0</td>\n",
       "      <td>0</td>\n",
       "    </tr>\n",
       "    <tr>\n",
       "      <th>688</th>\n",
       "      <td>0</td>\n",
       "      <td>20</td>\n",
       "      <td>35800.0</td>\n",
       "      <td>0</td>\n",
       "      <td>0</td>\n",
       "    </tr>\n",
       "    <tr>\n",
       "      <th>785</th>\n",
       "      <td>0</td>\n",
       "      <td>20</td>\n",
       "      <td>35800.0</td>\n",
       "      <td>0</td>\n",
       "      <td>0</td>\n",
       "    </tr>\n",
       "    <tr>\n",
       "      <th>1313</th>\n",
       "      <td>0</td>\n",
       "      <td>20</td>\n",
       "      <td>36800.0</td>\n",
       "      <td>0</td>\n",
       "      <td>0</td>\n",
       "    </tr>\n",
       "    <tr>\n",
       "      <th>2654</th>\n",
       "      <td>0</td>\n",
       "      <td>20</td>\n",
       "      <td>36800.0</td>\n",
       "      <td>0</td>\n",
       "      <td>0</td>\n",
       "    </tr>\n",
       "    <tr>\n",
       "      <th>3918</th>\n",
       "      <td>0</td>\n",
       "      <td>20</td>\n",
       "      <td>41500.0</td>\n",
       "      <td>2</td>\n",
       "      <td>0</td>\n",
       "    </tr>\n",
       "    <tr>\n",
       "      <th>4125</th>\n",
       "      <td>0</td>\n",
       "      <td>20</td>\n",
       "      <td>41500.0</td>\n",
       "      <td>2</td>\n",
       "      <td>0</td>\n",
       "    </tr>\n",
       "  </tbody>\n",
       "</table>\n",
       "</div>"
      ],
      "text/plain": [
       "      gender  age   income  family_members  insurance_benefits\n",
       "1751       0   19  38600.0               0                   0\n",
       "3268       0   19  38600.0               0                   0\n",
       "851        0   19  51700.0               0                   0\n",
       "2853       0   19  51700.0               0                   0\n",
       "688        0   20  35800.0               0                   0\n",
       "785        0   20  35800.0               0                   0\n",
       "1313       0   20  36800.0               0                   0\n",
       "2654       0   20  36800.0               0                   0\n",
       "3918       0   20  41500.0               2                   0\n",
       "4125       0   20  41500.0               2                   0"
      ]
     },
     "execution_count": 38,
     "metadata": {},
     "output_type": "execute_result"
    }
   ],
   "source": [
    "# retreiev which rows were repeated\n",
    "duplicates = df.duplicated(keep=False)\n",
    "df.loc[duplicates].sort_values([\"gender\", \"age\", \"income\"]).head(10)"
   ]
  },
  {
   "cell_type": "markdown",
   "metadata": {},
   "source": [
    "In total, there were 153 rows with duplicates. However, we are not sure if they are exact duplicates or unique customers with similar parameters. Since, we don't have a customer_id column, which tells definitely if they are duplicates, for now, we decided to continue with all data (without dropping duplicates)."
   ]
  },
  {
   "cell_type": "markdown",
   "metadata": {},
   "source": [
    "### 1.3 Conclusion\n",
    "Data has been loaded successfully, it has 5000 rows and 5 columns. Column names have been edited for convenience. Missing values did not exist in the dataset. However, there were 153 duplicated rows. Due to, we don't have a unique ID column for each customer, we are not completely sure if these findings are duplicates or customers with similar properties. Therefore, we decided to continue without dropping the duplicated values."
   ]
  },
  {
   "cell_type": "markdown",
   "metadata": {},
   "source": [
    "## 2. EDA"
   ]
  },
  {
   "cell_type": "markdown",
   "metadata": {},
   "source": [
    "Let's quickly check whether there are certain groups of customers by looking at the pair plot."
   ]
  },
  {
   "cell_type": "code",
   "execution_count": 39,
   "metadata": {},
   "outputs": [
    {
     "data": {
      "image/png": "[encoded data removed]",
      "text/plain": [
       "<Figure size 864x864 with 30 Axes>"
      ]
     },
     "metadata": {
      "needs_background": "light"
     },
     "output_type": "display_data"
    }
   ],
   "source": [
    "g = sns.pairplot(df, kind=\"scatter\")\n",
    "g.fig.set_size_inches(12, 12)"
   ]
  },
  {
   "cell_type": "markdown",
   "metadata": {},
   "source": [
    "### 2.1 Conclusion\n",
    "Ok, it is a bit difficult to spot obvious groups (clusters) as it is difficult to combine several variables simultaneously (to analyze multivariate distributions). That's where LA and ML can be quite handy."
   ]
  },
  {
   "cell_type": "markdown",
   "metadata": {},
   "source": [
    "## 3. Task 1. Similar Customers"
   ]
  },
  {
   "cell_type": "markdown",
   "metadata": {},
   "source": [
    "In the language of ML, it is necessary to develop a procedure that returns k nearest neighbors (objects) for a given object based on the distance between the objects.\n",
    "\n",
    "You may want to review the following lessons (chapter -> lesson)\n",
    "- Distance Between Vectors -> Euclidean Distance\n",
    "- Distance Between Vectors -> Manhattan Distance\n",
    "\n",
    "To solve the task, we can try different distance metrics."
   ]
  },
  {
   "cell_type": "markdown",
   "metadata": {},
   "source": [
    "Write a function that returns k nearest neighbors for an $n^{th}$ object based on a specified distance metric. The number of received insurance benefits should not be taken into account for this task. \n",
    "\n",
    "You can use a ready implementation of the kNN algorithm from scikit-learn (check [the link](https://scikit-learn.org/stable/modules/generated/sklearn.neighbors.NearestNeighbors.html#sklearn.neighbors.NearestNeighbors)) or use your own.\n",
    "\n",
    "Test it for four combination of two cases\n",
    "- Scaling\n",
    "  - the data is not scaled\n",
    "  - the data is scaled with the [MaxAbsScaler](https://scikit-learn.org/stable/modules/generated/sklearn.preprocessing.MaxAbsScaler.html) scaler\n",
    "- Distance Metrics\n",
    "  - Euclidean\n",
    "  - Manhattan\n",
    "\n",
    "Answer these questions:\n",
    "- Does the data being not scaled affect the kNN algorithm? If so, how does that appear?\n",
    "- How similar are the results using the Manhattan distance metric (regardless of the scaling)?"
   ]
  },
  {
   "cell_type": "code",
   "execution_count": 40,
   "metadata": {},
   "outputs": [],
   "source": [
    "feature_names = [\"gender\", \"age\", \"income\", \"family_members\"]"
   ]
  },
  {
   "cell_type": "code",
   "execution_count": 41,
   "metadata": {},
   "outputs": [],
   "source": [
    "def get_knn(df, n, k, metric):\n",
    "\n",
    "    \"\"\"\n",
    "    Returns k nearest neighbors\n",
    "\n",
    "    :param df: pandas DataFrame used to find similar objects within\n",
    "    :param n: object no for which the nearest neighbours are looked for\n",
    "    :param k: the number of the nearest neighbours to return\n",
    "    :param metric: name of distance metric\n",
    "    \"\"\"\n",
    "\n",
    "    nbrs = sklearn.neighbors.NearestNeighbors(metric=metric)\n",
    "    nbrs.fit(df[feature_names])\n",
    "    nbrs_distances, nbrs_indices = nbrs.kneighbors(\n",
    "        [df.iloc[n][feature_names]], k, return_distance=True\n",
    "    )\n",
    "\n",
    "    df_res = pd.concat(\n",
    "        [\n",
    "            df.iloc[nbrs_indices[0]],\n",
    "            pd.DataFrame(nbrs_distances.T, index=nbrs_indices[0], columns=[\"distance\"]),\n",
    "        ],\n",
    "        axis=1,\n",
    "    )\n",
    "\n",
    "    return df_res"
   ]
  },
  {
   "cell_type": "markdown",
   "metadata": {},
   "source": [
    "Scaling the data."
   ]
  },
  {
   "cell_type": "code",
   "execution_count": 42,
   "metadata": {},
   "outputs": [],
   "source": [
    "# columns need to be scaled\n",
    "feature_names = [\"gender\", \"age\", \"income\", \"family_members\"]\n",
    "\n",
    "# fit the scaler\n",
    "transformer_mas = sklearn.preprocessing.MaxAbsScaler().fit(df[feature_names].to_numpy())\n",
    "\n",
    "# apply the scaler\n",
    "df_scaled = df.copy()\n",
    "df_scaled.loc[:, feature_names] = transformer_mas.transform(\n",
    "    df[feature_names].to_numpy()\n",
    ")"
   ]
  },
  {
   "cell_type": "code",
   "execution_count": 43,
   "metadata": {},
   "outputs": [
    {
     "data": {
      "text/html": [
       "<div>\n",
       "<style scoped>\n",
       "    .dataframe tbody tr th:only-of-type {\n",
       "        vertical-align: middle;\n",
       "    }\n",
       "\n",
       "    .dataframe tbody tr th {\n",
       "        vertical-align: top;\n",
       "    }\n",
       "\n",
       "    .dataframe thead th {\n",
       "        text-align: right;\n",
       "    }\n",
       "</style>\n",
       "<table border=\"1\" class=\"dataframe\">\n",
       "  <thead>\n",
       "    <tr style=\"text-align: right;\">\n",
       "      <th></th>\n",
       "      <th>gender</th>\n",
       "      <th>age</th>\n",
       "      <th>income</th>\n",
       "      <th>family_members</th>\n",
       "      <th>insurance_benefits</th>\n",
       "    </tr>\n",
       "  </thead>\n",
       "  <tbody>\n",
       "    <tr>\n",
       "      <th>2296</th>\n",
       "      <td>1.0</td>\n",
       "      <td>0.476923</td>\n",
       "      <td>0.381013</td>\n",
       "      <td>0.000000</td>\n",
       "      <td>0</td>\n",
       "    </tr>\n",
       "    <tr>\n",
       "      <th>2285</th>\n",
       "      <td>0.0</td>\n",
       "      <td>0.553846</td>\n",
       "      <td>0.673418</td>\n",
       "      <td>0.333333</td>\n",
       "      <td>0</td>\n",
       "    </tr>\n",
       "    <tr>\n",
       "      <th>2240</th>\n",
       "      <td>0.0</td>\n",
       "      <td>0.923077</td>\n",
       "      <td>0.353165</td>\n",
       "      <td>0.000000</td>\n",
       "      <td>4</td>\n",
       "    </tr>\n",
       "    <tr>\n",
       "      <th>3504</th>\n",
       "      <td>0.0</td>\n",
       "      <td>0.523077</td>\n",
       "      <td>0.344304</td>\n",
       "      <td>0.000000</td>\n",
       "      <td>0</td>\n",
       "    </tr>\n",
       "    <tr>\n",
       "      <th>3603</th>\n",
       "      <td>0.0</td>\n",
       "      <td>0.661538</td>\n",
       "      <td>0.434177</td>\n",
       "      <td>0.333333</td>\n",
       "      <td>1</td>\n",
       "    </tr>\n",
       "  </tbody>\n",
       "</table>\n",
       "</div>"
      ],
      "text/plain": [
       "      gender       age    income  family_members  insurance_benefits\n",
       "2296     1.0  0.476923  0.381013        0.000000                   0\n",
       "2285     0.0  0.553846  0.673418        0.333333                   0\n",
       "2240     0.0  0.923077  0.353165        0.000000                   4\n",
       "3504     0.0  0.523077  0.344304        0.000000                   0\n",
       "3603     0.0  0.661538  0.434177        0.333333                   1"
      ]
     },
     "execution_count": 43,
     "metadata": {},
     "output_type": "execute_result"
    }
   ],
   "source": [
    "# check the random 5 rows of data\n",
    "df_scaled.sample(5)"
   ]
  },
  {
   "cell_type": "markdown",
   "metadata": {},
   "source": [
    "Now, let's get similar records for a given one for every combination"
   ]
  },
  {
   "cell_type": "code",
   "execution_count": 44,
   "metadata": {},
   "outputs": [
    {
     "data": {
      "text/html": [
       "<div>\n",
       "<style scoped>\n",
       "    .dataframe tbody tr th:only-of-type {\n",
       "        vertical-align: middle;\n",
       "    }\n",
       "\n",
       "    .dataframe tbody tr th {\n",
       "        vertical-align: top;\n",
       "    }\n",
       "\n",
       "    .dataframe thead th {\n",
       "        text-align: right;\n",
       "    }\n",
       "</style>\n",
       "<table border=\"1\" class=\"dataframe\">\n",
       "  <thead>\n",
       "    <tr style=\"text-align: right;\">\n",
       "      <th></th>\n",
       "      <th>gender</th>\n",
       "      <th>age</th>\n",
       "      <th>income</th>\n",
       "      <th>family_members</th>\n",
       "      <th>distance</th>\n",
       "    </tr>\n",
       "  </thead>\n",
       "  <tbody>\n",
       "    <tr>\n",
       "      <th>0</th>\n",
       "      <td>1</td>\n",
       "      <td>41</td>\n",
       "      <td>49600.0</td>\n",
       "      <td>1</td>\n",
       "      <td>0.000000</td>\n",
       "    </tr>\n",
       "    <tr>\n",
       "      <th>2022</th>\n",
       "      <td>1</td>\n",
       "      <td>41</td>\n",
       "      <td>49600.0</td>\n",
       "      <td>0</td>\n",
       "      <td>1.000000</td>\n",
       "    </tr>\n",
       "    <tr>\n",
       "      <th>1225</th>\n",
       "      <td>0</td>\n",
       "      <td>42</td>\n",
       "      <td>49600.0</td>\n",
       "      <td>0</td>\n",
       "      <td>1.732051</td>\n",
       "    </tr>\n",
       "    <tr>\n",
       "      <th>4031</th>\n",
       "      <td>1</td>\n",
       "      <td>44</td>\n",
       "      <td>49600.0</td>\n",
       "      <td>2</td>\n",
       "      <td>3.162278</td>\n",
       "    </tr>\n",
       "    <tr>\n",
       "      <th>3424</th>\n",
       "      <td>0</td>\n",
       "      <td>38</td>\n",
       "      <td>49600.0</td>\n",
       "      <td>0</td>\n",
       "      <td>3.316625</td>\n",
       "    </tr>\n",
       "    <tr>\n",
       "      <th>815</th>\n",
       "      <td>1</td>\n",
       "      <td>37</td>\n",
       "      <td>49600.0</td>\n",
       "      <td>2</td>\n",
       "      <td>4.123106</td>\n",
       "    </tr>\n",
       "    <tr>\n",
       "      <th>4661</th>\n",
       "      <td>0</td>\n",
       "      <td>45</td>\n",
       "      <td>49600.0</td>\n",
       "      <td>0</td>\n",
       "      <td>4.242641</td>\n",
       "    </tr>\n",
       "    <tr>\n",
       "      <th>2125</th>\n",
       "      <td>0</td>\n",
       "      <td>37</td>\n",
       "      <td>49600.0</td>\n",
       "      <td>2</td>\n",
       "      <td>4.242641</td>\n",
       "    </tr>\n",
       "    <tr>\n",
       "      <th>2349</th>\n",
       "      <td>1</td>\n",
       "      <td>46</td>\n",
       "      <td>49600.0</td>\n",
       "      <td>2</td>\n",
       "      <td>5.099020</td>\n",
       "    </tr>\n",
       "    <tr>\n",
       "      <th>3900</th>\n",
       "      <td>1</td>\n",
       "      <td>36</td>\n",
       "      <td>49600.0</td>\n",
       "      <td>0</td>\n",
       "      <td>5.099020</td>\n",
       "    </tr>\n",
       "  </tbody>\n",
       "</table>\n",
       "</div>"
      ],
      "text/plain": [
       "      gender  age   income  family_members  distance\n",
       "0          1   41  49600.0               1  0.000000\n",
       "2022       1   41  49600.0               0  1.000000\n",
       "1225       0   42  49600.0               0  1.732051\n",
       "4031       1   44  49600.0               2  3.162278\n",
       "3424       0   38  49600.0               0  3.316625\n",
       "815        1   37  49600.0               2  4.123106\n",
       "4661       0   45  49600.0               0  4.242641\n",
       "2125       0   37  49600.0               2  4.242641\n",
       "2349       1   46  49600.0               2  5.099020\n",
       "3900       1   36  49600.0               0  5.099020"
      ]
     },
     "execution_count": 44,
     "metadata": {},
     "output_type": "execute_result"
    }
   ],
   "source": [
    "# Use Euclidean distance with not scaled data and find 10 nearest neighbors for the 1st row\n",
    "get_knn(df[feature_names], 0, 10, \"euclidean\")"
   ]
  },
  {
   "cell_type": "code",
   "execution_count": 45,
   "metadata": {},
   "outputs": [
    {
     "data": {
      "text/html": [
       "<div>\n",
       "<style scoped>\n",
       "    .dataframe tbody tr th:only-of-type {\n",
       "        vertical-align: middle;\n",
       "    }\n",
       "\n",
       "    .dataframe tbody tr th {\n",
       "        vertical-align: top;\n",
       "    }\n",
       "\n",
       "    .dataframe thead th {\n",
       "        text-align: right;\n",
       "    }\n",
       "</style>\n",
       "<table border=\"1\" class=\"dataframe\">\n",
       "  <thead>\n",
       "    <tr style=\"text-align: right;\">\n",
       "      <th></th>\n",
       "      <th>gender</th>\n",
       "      <th>age</th>\n",
       "      <th>income</th>\n",
       "      <th>family_members</th>\n",
       "      <th>distance</th>\n",
       "    </tr>\n",
       "  </thead>\n",
       "  <tbody>\n",
       "    <tr>\n",
       "      <th>0</th>\n",
       "      <td>1</td>\n",
       "      <td>41</td>\n",
       "      <td>49600.0</td>\n",
       "      <td>1</td>\n",
       "      <td>0.0</td>\n",
       "    </tr>\n",
       "    <tr>\n",
       "      <th>2022</th>\n",
       "      <td>1</td>\n",
       "      <td>41</td>\n",
       "      <td>49600.0</td>\n",
       "      <td>0</td>\n",
       "      <td>1.0</td>\n",
       "    </tr>\n",
       "    <tr>\n",
       "      <th>1225</th>\n",
       "      <td>0</td>\n",
       "      <td>42</td>\n",
       "      <td>49600.0</td>\n",
       "      <td>0</td>\n",
       "      <td>3.0</td>\n",
       "    </tr>\n",
       "    <tr>\n",
       "      <th>4031</th>\n",
       "      <td>1</td>\n",
       "      <td>44</td>\n",
       "      <td>49600.0</td>\n",
       "      <td>2</td>\n",
       "      <td>4.0</td>\n",
       "    </tr>\n",
       "    <tr>\n",
       "      <th>815</th>\n",
       "      <td>1</td>\n",
       "      <td>37</td>\n",
       "      <td>49600.0</td>\n",
       "      <td>2</td>\n",
       "      <td>5.0</td>\n",
       "    </tr>\n",
       "    <tr>\n",
       "      <th>3424</th>\n",
       "      <td>0</td>\n",
       "      <td>38</td>\n",
       "      <td>49600.0</td>\n",
       "      <td>0</td>\n",
       "      <td>5.0</td>\n",
       "    </tr>\n",
       "    <tr>\n",
       "      <th>2125</th>\n",
       "      <td>0</td>\n",
       "      <td>37</td>\n",
       "      <td>49600.0</td>\n",
       "      <td>2</td>\n",
       "      <td>6.0</td>\n",
       "    </tr>\n",
       "    <tr>\n",
       "      <th>3900</th>\n",
       "      <td>1</td>\n",
       "      <td>36</td>\n",
       "      <td>49600.0</td>\n",
       "      <td>0</td>\n",
       "      <td>6.0</td>\n",
       "    </tr>\n",
       "    <tr>\n",
       "      <th>2349</th>\n",
       "      <td>1</td>\n",
       "      <td>46</td>\n",
       "      <td>49600.0</td>\n",
       "      <td>2</td>\n",
       "      <td>6.0</td>\n",
       "    </tr>\n",
       "    <tr>\n",
       "      <th>4661</th>\n",
       "      <td>0</td>\n",
       "      <td>45</td>\n",
       "      <td>49600.0</td>\n",
       "      <td>0</td>\n",
       "      <td>6.0</td>\n",
       "    </tr>\n",
       "  </tbody>\n",
       "</table>\n",
       "</div>"
      ],
      "text/plain": [
       "      gender  age   income  family_members  distance\n",
       "0          1   41  49600.0               1       0.0\n",
       "2022       1   41  49600.0               0       1.0\n",
       "1225       0   42  49600.0               0       3.0\n",
       "4031       1   44  49600.0               2       4.0\n",
       "815        1   37  49600.0               2       5.0\n",
       "3424       0   38  49600.0               0       5.0\n",
       "2125       0   37  49600.0               2       6.0\n",
       "3900       1   36  49600.0               0       6.0\n",
       "2349       1   46  49600.0               2       6.0\n",
       "4661       0   45  49600.0               0       6.0"
      ]
     },
     "execution_count": 45,
     "metadata": {},
     "output_type": "execute_result"
    }
   ],
   "source": [
    "# Use Manhattan (city block) distance with not scaled data and find 10 nearest neighbors for the 1st row\n",
    "get_knn(df[feature_names], 0, 10, \"manhattan\")"
   ]
  },
  {
   "cell_type": "code",
   "execution_count": 46,
   "metadata": {
    "scrolled": true
   },
   "outputs": [
    {
     "data": {
      "text/html": [
       "<div>\n",
       "<style scoped>\n",
       "    .dataframe tbody tr th:only-of-type {\n",
       "        vertical-align: middle;\n",
       "    }\n",
       "\n",
       "    .dataframe tbody tr th {\n",
       "        vertical-align: top;\n",
       "    }\n",
       "\n",
       "    .dataframe thead th {\n",
       "        text-align: right;\n",
       "    }\n",
       "</style>\n",
       "<table border=\"1\" class=\"dataframe\">\n",
       "  <thead>\n",
       "    <tr style=\"text-align: right;\">\n",
       "      <th></th>\n",
       "      <th>gender</th>\n",
       "      <th>age</th>\n",
       "      <th>income</th>\n",
       "      <th>family_members</th>\n",
       "      <th>distance</th>\n",
       "    </tr>\n",
       "  </thead>\n",
       "  <tbody>\n",
       "    <tr>\n",
       "      <th>0</th>\n",
       "      <td>1.0</td>\n",
       "      <td>0.630769</td>\n",
       "      <td>0.627848</td>\n",
       "      <td>0.166667</td>\n",
       "      <td>0.000000</td>\n",
       "    </tr>\n",
       "    <tr>\n",
       "      <th>2689</th>\n",
       "      <td>1.0</td>\n",
       "      <td>0.630769</td>\n",
       "      <td>0.634177</td>\n",
       "      <td>0.166667</td>\n",
       "      <td>0.006329</td>\n",
       "    </tr>\n",
       "    <tr>\n",
       "      <th>133</th>\n",
       "      <td>1.0</td>\n",
       "      <td>0.615385</td>\n",
       "      <td>0.636709</td>\n",
       "      <td>0.166667</td>\n",
       "      <td>0.017754</td>\n",
       "    </tr>\n",
       "    <tr>\n",
       "      <th>4869</th>\n",
       "      <td>1.0</td>\n",
       "      <td>0.646154</td>\n",
       "      <td>0.637975</td>\n",
       "      <td>0.166667</td>\n",
       "      <td>0.018418</td>\n",
       "    </tr>\n",
       "    <tr>\n",
       "      <th>3275</th>\n",
       "      <td>1.0</td>\n",
       "      <td>0.646154</td>\n",
       "      <td>0.651899</td>\n",
       "      <td>0.166667</td>\n",
       "      <td>0.028550</td>\n",
       "    </tr>\n",
       "    <tr>\n",
       "      <th>1567</th>\n",
       "      <td>1.0</td>\n",
       "      <td>0.615385</td>\n",
       "      <td>0.602532</td>\n",
       "      <td>0.166667</td>\n",
       "      <td>0.029624</td>\n",
       "    </tr>\n",
       "    <tr>\n",
       "      <th>2103</th>\n",
       "      <td>1.0</td>\n",
       "      <td>0.630769</td>\n",
       "      <td>0.596203</td>\n",
       "      <td>0.166667</td>\n",
       "      <td>0.031646</td>\n",
       "    </tr>\n",
       "    <tr>\n",
       "      <th>3365</th>\n",
       "      <td>1.0</td>\n",
       "      <td>0.630769</td>\n",
       "      <td>0.596203</td>\n",
       "      <td>0.166667</td>\n",
       "      <td>0.031646</td>\n",
       "    </tr>\n",
       "    <tr>\n",
       "      <th>124</th>\n",
       "      <td>1.0</td>\n",
       "      <td>0.661538</td>\n",
       "      <td>0.635443</td>\n",
       "      <td>0.166667</td>\n",
       "      <td>0.031693</td>\n",
       "    </tr>\n",
       "    <tr>\n",
       "      <th>3636</th>\n",
       "      <td>1.0</td>\n",
       "      <td>0.615385</td>\n",
       "      <td>0.600000</td>\n",
       "      <td>0.166667</td>\n",
       "      <td>0.031815</td>\n",
       "    </tr>\n",
       "  </tbody>\n",
       "</table>\n",
       "</div>"
      ],
      "text/plain": [
       "      gender       age    income  family_members  distance\n",
       "0        1.0  0.630769  0.627848        0.166667  0.000000\n",
       "2689     1.0  0.630769  0.634177        0.166667  0.006329\n",
       "133      1.0  0.615385  0.636709        0.166667  0.017754\n",
       "4869     1.0  0.646154  0.637975        0.166667  0.018418\n",
       "3275     1.0  0.646154  0.651899        0.166667  0.028550\n",
       "1567     1.0  0.615385  0.602532        0.166667  0.029624\n",
       "2103     1.0  0.630769  0.596203        0.166667  0.031646\n",
       "3365     1.0  0.630769  0.596203        0.166667  0.031646\n",
       "124      1.0  0.661538  0.635443        0.166667  0.031693\n",
       "3636     1.0  0.615385  0.600000        0.166667  0.031815"
      ]
     },
     "execution_count": 46,
     "metadata": {},
     "output_type": "execute_result"
    }
   ],
   "source": [
    "# Use Euclidean distance with the scaled data and find 10 nearest neighbors for the 1st row\n",
    "get_knn(df_scaled[feature_names], 0, 10, \"euclidean\")"
   ]
  },
  {
   "cell_type": "code",
   "execution_count": 47,
   "metadata": {},
   "outputs": [
    {
     "data": {
      "text/html": [
       "<div>\n",
       "<style scoped>\n",
       "    .dataframe tbody tr th:only-of-type {\n",
       "        vertical-align: middle;\n",
       "    }\n",
       "\n",
       "    .dataframe tbody tr th {\n",
       "        vertical-align: top;\n",
       "    }\n",
       "\n",
       "    .dataframe thead th {\n",
       "        text-align: right;\n",
       "    }\n",
       "</style>\n",
       "<table border=\"1\" class=\"dataframe\">\n",
       "  <thead>\n",
       "    <tr style=\"text-align: right;\">\n",
       "      <th></th>\n",
       "      <th>gender</th>\n",
       "      <th>age</th>\n",
       "      <th>income</th>\n",
       "      <th>family_members</th>\n",
       "      <th>distance</th>\n",
       "    </tr>\n",
       "  </thead>\n",
       "  <tbody>\n",
       "    <tr>\n",
       "      <th>0</th>\n",
       "      <td>1.0</td>\n",
       "      <td>0.630769</td>\n",
       "      <td>0.627848</td>\n",
       "      <td>0.166667</td>\n",
       "      <td>0.000000</td>\n",
       "    </tr>\n",
       "    <tr>\n",
       "      <th>2689</th>\n",
       "      <td>1.0</td>\n",
       "      <td>0.630769</td>\n",
       "      <td>0.634177</td>\n",
       "      <td>0.166667</td>\n",
       "      <td>0.006329</td>\n",
       "    </tr>\n",
       "    <tr>\n",
       "      <th>133</th>\n",
       "      <td>1.0</td>\n",
       "      <td>0.615385</td>\n",
       "      <td>0.636709</td>\n",
       "      <td>0.166667</td>\n",
       "      <td>0.024245</td>\n",
       "    </tr>\n",
       "    <tr>\n",
       "      <th>4869</th>\n",
       "      <td>1.0</td>\n",
       "      <td>0.646154</td>\n",
       "      <td>0.637975</td>\n",
       "      <td>0.166667</td>\n",
       "      <td>0.025511</td>\n",
       "    </tr>\n",
       "    <tr>\n",
       "      <th>3365</th>\n",
       "      <td>1.0</td>\n",
       "      <td>0.630769</td>\n",
       "      <td>0.596203</td>\n",
       "      <td>0.166667</td>\n",
       "      <td>0.031646</td>\n",
       "    </tr>\n",
       "    <tr>\n",
       "      <th>2103</th>\n",
       "      <td>1.0</td>\n",
       "      <td>0.630769</td>\n",
       "      <td>0.596203</td>\n",
       "      <td>0.166667</td>\n",
       "      <td>0.031646</td>\n",
       "    </tr>\n",
       "    <tr>\n",
       "      <th>124</th>\n",
       "      <td>1.0</td>\n",
       "      <td>0.661538</td>\n",
       "      <td>0.635443</td>\n",
       "      <td>0.166667</td>\n",
       "      <td>0.038364</td>\n",
       "    </tr>\n",
       "    <tr>\n",
       "      <th>4305</th>\n",
       "      <td>1.0</td>\n",
       "      <td>0.630769</td>\n",
       "      <td>0.588608</td>\n",
       "      <td>0.166667</td>\n",
       "      <td>0.039241</td>\n",
       "    </tr>\n",
       "    <tr>\n",
       "      <th>3275</th>\n",
       "      <td>1.0</td>\n",
       "      <td>0.646154</td>\n",
       "      <td>0.651899</td>\n",
       "      <td>0.166667</td>\n",
       "      <td>0.039435</td>\n",
       "    </tr>\n",
       "    <tr>\n",
       "      <th>1567</th>\n",
       "      <td>1.0</td>\n",
       "      <td>0.615385</td>\n",
       "      <td>0.602532</td>\n",
       "      <td>0.166667</td>\n",
       "      <td>0.040701</td>\n",
       "    </tr>\n",
       "  </tbody>\n",
       "</table>\n",
       "</div>"
      ],
      "text/plain": [
       "      gender       age    income  family_members  distance\n",
       "0        1.0  0.630769  0.627848        0.166667  0.000000\n",
       "2689     1.0  0.630769  0.634177        0.166667  0.006329\n",
       "133      1.0  0.615385  0.636709        0.166667  0.024245\n",
       "4869     1.0  0.646154  0.637975        0.166667  0.025511\n",
       "3365     1.0  0.630769  0.596203        0.166667  0.031646\n",
       "2103     1.0  0.630769  0.596203        0.166667  0.031646\n",
       "124      1.0  0.661538  0.635443        0.166667  0.038364\n",
       "4305     1.0  0.630769  0.588608        0.166667  0.039241\n",
       "3275     1.0  0.646154  0.651899        0.166667  0.039435\n",
       "1567     1.0  0.615385  0.602532        0.166667  0.040701"
      ]
     },
     "execution_count": 47,
     "metadata": {},
     "output_type": "execute_result"
    }
   ],
   "source": [
    "# Use Manhattan (city block) distance with the scaled data and find 10 nearest neighbors for the 1st row\n",
    "get_knn(df_scaled[feature_names], 0, 10, \"manhattan\")"
   ]
  },
  {
   "cell_type": "markdown",
   "metadata": {},
   "source": [
    "Answers to the questions"
   ]
  },
  {
   "cell_type": "markdown",
   "metadata": {},
   "source": [
    "**Does the data being not scaled affect the kNN algorithm? If so, how does that appear?** \n",
    "\n",
    "> Yes, data scaling will strongly affect the outcome of the model. For instance, with data being not scaled, the closest distance to the 1st row was the 2022nd row (for both metrics), while for scaled data the closest one was the 2689th row.\n",
    "The reason is that, features have different magnitude and during the calculation of distance (does not matter if it is Euclidean or Manhattan), numbers with different magnitudes are added up. Not-scaled data will have some columns, like salary, numbers in thousand range, while other columns, like age, are usually less than a hundred. Therefore, for distance-based algorithms scaling the data is crucial."
   ]
  },
  {
   "cell_type": "markdown",
   "metadata": {},
   "source": [
    "**How similar are the results using the Manhattan distance metric (regardless of the scaling)?** \n",
    "\n",
    "> The first 3 nearest neighbors are identical for both metrics, regardless of the scaling. However, starting from the 4th one results differ a little bit."
   ]
  },
  {
   "cell_type": "markdown",
   "metadata": {},
   "source": [
    "## 4. Task 2. Is Customer Likely to Receive Insurance Benefit?"
   ]
  },
  {
   "cell_type": "markdown",
   "metadata": {},
   "source": [
    "In terms of machine learning we can look at this like a binary classification task."
   ]
  },
  {
   "cell_type": "markdown",
   "metadata": {},
   "source": [
    "With `insurance_benefits` being more than zero as the target, evaluate whether the kNN classification approach can do better than a dummy model.\n",
    "\n",
    "Instructions:\n",
    "- Build a KNN-based classifier and measure its quality with the F1 metric for k=1..10 for both the original data and the scaled one. That'd be interesting to see how k may influece the evaluation metric, and whether scaling the data makes any difference. You can use a ready implemention of the kNN classification algorithm from scikit-learn (check [the link](https://scikit-learn.org/stable/modules/generated/sklearn.neighbors.KNeighborsClassifier.html)) or use your own.\n",
    "- Build the dummy model which is just random for this case. It should return \"1\" with some probability. Let's test the model with four probability values: 0, the probability of paying any insurance benefit, 0.5, 1.\n",
    "\n",
    "The probability of paying any insurance benefit can be defined as\n",
    "\n",
    "$$\n",
    "P\\{\\text{insurance benefit received}\\}=\\frac{\\text{number of clients received any insurance benefit}}{\\text{total number of clients}}.\n",
    "$$\n",
    "\n",
    "Split the whole data in the 70:30 proportion for the training/testing parts."
   ]
  },
  {
   "cell_type": "code",
   "execution_count": 48,
   "metadata": {},
   "outputs": [
    {
     "data": {
      "text/html": [
       "<div>\n",
       "<style scoped>\n",
       "    .dataframe tbody tr th:only-of-type {\n",
       "        vertical-align: middle;\n",
       "    }\n",
       "\n",
       "    .dataframe tbody tr th {\n",
       "        vertical-align: top;\n",
       "    }\n",
       "\n",
       "    .dataframe thead th {\n",
       "        text-align: right;\n",
       "    }\n",
       "</style>\n",
       "<table border=\"1\" class=\"dataframe\">\n",
       "  <thead>\n",
       "    <tr style=\"text-align: right;\">\n",
       "      <th></th>\n",
       "      <th>gender</th>\n",
       "      <th>age</th>\n",
       "      <th>income</th>\n",
       "      <th>family_members</th>\n",
       "      <th>insurance_benefits</th>\n",
       "      <th>insurance_benefits_received</th>\n",
       "    </tr>\n",
       "  </thead>\n",
       "  <tbody>\n",
       "    <tr>\n",
       "      <th>0</th>\n",
       "      <td>1</td>\n",
       "      <td>41</td>\n",
       "      <td>49600.0</td>\n",
       "      <td>1</td>\n",
       "      <td>0</td>\n",
       "      <td>0</td>\n",
       "    </tr>\n",
       "    <tr>\n",
       "      <th>1</th>\n",
       "      <td>0</td>\n",
       "      <td>46</td>\n",
       "      <td>38000.0</td>\n",
       "      <td>1</td>\n",
       "      <td>1</td>\n",
       "      <td>1</td>\n",
       "    </tr>\n",
       "    <tr>\n",
       "      <th>2</th>\n",
       "      <td>0</td>\n",
       "      <td>29</td>\n",
       "      <td>21000.0</td>\n",
       "      <td>0</td>\n",
       "      <td>0</td>\n",
       "      <td>0</td>\n",
       "    </tr>\n",
       "    <tr>\n",
       "      <th>3</th>\n",
       "      <td>0</td>\n",
       "      <td>21</td>\n",
       "      <td>41700.0</td>\n",
       "      <td>2</td>\n",
       "      <td>0</td>\n",
       "      <td>0</td>\n",
       "    </tr>\n",
       "    <tr>\n",
       "      <th>4</th>\n",
       "      <td>1</td>\n",
       "      <td>28</td>\n",
       "      <td>26100.0</td>\n",
       "      <td>0</td>\n",
       "      <td>0</td>\n",
       "      <td>0</td>\n",
       "    </tr>\n",
       "  </tbody>\n",
       "</table>\n",
       "</div>"
      ],
      "text/plain": [
       "   gender  age   income  family_members  insurance_benefits  \\\n",
       "0       1   41  49600.0               1                   0   \n",
       "1       0   46  38000.0               1                   1   \n",
       "2       0   29  21000.0               0                   0   \n",
       "3       0   21  41700.0               2                   0   \n",
       "4       1   28  26100.0               0                   0   \n",
       "\n",
       "   insurance_benefits_received  \n",
       "0                            0  \n",
       "1                            1  \n",
       "2                            0  \n",
       "3                            0  \n",
       "4                            0  "
      ]
     },
     "execution_count": 48,
     "metadata": {},
     "output_type": "execute_result"
    }
   ],
   "source": [
    "# calculate the target\n",
    "\n",
    "df[\"insurance_benefits_received\"] = (\n",
    "    df[\"insurance_benefits\"].map(lambda x: x > 0).astype(\"int\")\n",
    ")\n",
    "df.head()"
   ]
  },
  {
   "cell_type": "code",
   "execution_count": 49,
   "metadata": {},
   "outputs": [
    {
     "data": {
      "text/plain": [
       "0    4436\n",
       "1     564\n",
       "Name: insurance_benefits_received, dtype: int64"
      ]
     },
     "metadata": {},
     "output_type": "display_data"
    },
    {
     "name": "stdout",
     "output_type": "stream",
     "text": [
      "Only 11.28% of customers benefited from the insurance. Data is imbalanced!\n"
     ]
    }
   ],
   "source": [
    "# check for the class imbalance with value_counts()\n",
    "\n",
    "display(df[\"insurance_benefits_received\"].value_counts())\n",
    "\n",
    "print(\n",
    "    f\"Only {564/len(df):.2%} of customers benefited from the insurance. Data is imbalanced!\"\n",
    ")"
   ]
  },
  {
   "cell_type": "code",
   "execution_count": 50,
   "metadata": {},
   "outputs": [],
   "source": [
    "# function to be used to calcualte F1 score of the model and its confusion matrix\n",
    "def eval_classifier(y_true, y_pred):\n",
    "\n",
    "    f1_score = sklearn.metrics.f1_score(y_true, y_pred)\n",
    "    print(f\"F1: {f1_score:.2f}\")\n",
    "\n",
    "    cm = sklearn.metrics.confusion_matrix(y_true, y_pred)\n",
    "    print(\"Confusion Matrix\")\n",
    "    print(cm)"
   ]
  },
  {
   "cell_type": "code",
   "execution_count": 51,
   "metadata": {},
   "outputs": [],
   "source": [
    "# generating output of a random model\n",
    "\n",
    "\n",
    "def rnd_model_predict(P, size, seed=42):\n",
    "\n",
    "    rng = np.random.default_rng(seed=seed)\n",
    "    return rng.binomial(n=1, p=P, size=size)"
   ]
  },
  {
   "cell_type": "code",
   "execution_count": 52,
   "metadata": {},
   "outputs": [
    {
     "name": "stdout",
     "output_type": "stream",
     "text": [
      "The probability: 0.00\n",
      "F1: 0.00\n",
      "Confusion Matrix\n",
      "[[4436    0]\n",
      " [ 564    0]]\n",
      "\n",
      "The probability: 0.11\n",
      "F1: 0.12\n",
      "Confusion Matrix\n",
      "[[3957  479]\n",
      " [ 497   67]]\n",
      "\n",
      "The probability: 0.50\n",
      "F1: 0.20\n",
      "Confusion Matrix\n",
      "[[2280 2156]\n",
      " [ 265  299]]\n",
      "\n",
      "The probability: 1.00\n",
      "F1: 0.20\n",
      "Confusion Matrix\n",
      "[[   0 4436]\n",
      " [   0  564]]\n",
      "\n"
     ]
    }
   ],
   "source": [
    "# check the performance of random model\n",
    "for P in [0, df[\"insurance_benefits_received\"].sum() / len(df), 0.5, 1]:\n",
    "\n",
    "    print(f\"The probability: {P:.2f}\")\n",
    "    y_pred_rnd = rnd_model_predict(P=P, size=len(df))\n",
    "\n",
    "    eval_classifier(df[\"insurance_benefits_received\"], y_pred_rnd)\n",
    "\n",
    "    print()"
   ]
  },
  {
   "cell_type": "markdown",
   "metadata": {},
   "source": [
    "The highest score the dummy model has achieved was only F1_score=0.2. This mdoel assumed all customers will benefit from the insurance, which led to very low precision (TP/(TP+FP) (too much false positive outcomes)."
   ]
  },
  {
   "cell_type": "code",
   "execution_count": 53,
   "metadata": {},
   "outputs": [],
   "source": [
    "# produce feature and target columns from not-scaled data\n",
    "X = df[feature_names]\n",
    "y = df[\"insurance_benefits_received\"]\n",
    "\n",
    "# produce only feature columns from scaled data, we can use target column of not-scaled data\n",
    "X_s = df_scaled[feature_names]\n",
    "\n",
    "# Produce training and testing datasets with test_size=30%\n",
    "X_train, X_test, y_train, y_test, X_s_train, X_s_test = train_test_split(\n",
    "    X, y, X_s, test_size=0.3, random_state=234\n",
    ")"
   ]
  },
  {
   "cell_type": "code",
   "execution_count": 54,
   "metadata": {},
   "outputs": [
    {
     "name": "stdout",
     "output_type": "stream",
     "text": [
      "F1 score and confusion matrix for k= 1\n",
      "F1: 0.67\n",
      "Confusion Matrix\n",
      "[[1294   28]\n",
      " [  75  103]]\n",
      "==================================================\n",
      "F1 score and confusion matrix for k= 2\n",
      "F1: 0.37\n",
      "Confusion Matrix\n",
      "[[1317    5]\n",
      " [ 136   42]]\n",
      "==================================================\n",
      "F1 score and confusion matrix for k= 3\n",
      "F1: 0.38\n",
      "Confusion Matrix\n",
      "[[1304   18]\n",
      " [ 132   46]]\n",
      "==================================================\n",
      "F1 score and confusion matrix for k= 4\n",
      "F1: 0.22\n",
      "Confusion Matrix\n",
      "[[1317    5]\n",
      " [ 155   23]]\n",
      "==================================================\n",
      "F1 score and confusion matrix for k= 5\n",
      "F1: 0.23\n",
      "Confusion Matrix\n",
      "[[1317    5]\n",
      " [ 154   24]]\n",
      "==================================================\n",
      "F1 score and confusion matrix for k= 6\n",
      "F1: 0.11\n",
      "Confusion Matrix\n",
      "[[1322    0]\n",
      " [ 168   10]]\n",
      "==================================================\n",
      "F1 score and confusion matrix for k= 7\n",
      "F1: 0.13\n",
      "Confusion Matrix\n",
      "[[1322    0]\n",
      " [ 166   12]]\n",
      "==================================================\n",
      "F1 score and confusion matrix for k= 8\n",
      "F1: 0.03\n",
      "Confusion Matrix\n",
      "[[1322    0]\n",
      " [ 175    3]]\n",
      "==================================================\n",
      "F1 score and confusion matrix for k= 9\n",
      "F1: 0.04\n",
      "Confusion Matrix\n",
      "[[1322    0]\n",
      " [ 174    4]]\n",
      "==================================================\n",
      "F1 score and confusion matrix for k= 10\n",
      "F1: 0.03\n",
      "Confusion Matrix\n",
      "[[1322    0]\n",
      " [ 175    3]]\n",
      "==================================================\n"
     ]
    }
   ],
   "source": [
    "# check the performance of the model using not-scaled data and k from 1 to 10\n",
    "for k in range(1, 11):\n",
    "    print(\"F1 score and confusion matrix for k=\", k)\n",
    "    model = sklearn.neighbors.KNeighborsClassifier(n_neighbors=k)\n",
    "    model.fit(X_train, y_train)\n",
    "    y_pred = model.predict(X_test)\n",
    "    eval_classifier(y_test, y_pred)\n",
    "    print(\"=\" * 50)"
   ]
  },
  {
   "cell_type": "markdown",
   "metadata": {},
   "source": [
    "Here, a kNN classification model was trained with not-scaled data and tried to predict the number of customers who benefited from the insurance of the testing dataset. When **k=1, F1_score was 0.67**, which is comparably better than the dummy model. However, when **k was increased from 1 to 10, the F1 score decreased significantly**, and finally, at k=10 it was 0.03, which is way worse than the dummy model."
   ]
  },
  {
   "cell_type": "code",
   "execution_count": 55,
   "metadata": {},
   "outputs": [
    {
     "name": "stdout",
     "output_type": "stream",
     "text": [
      "F1 score and confusion matrix for k= 1\n",
      "F1: 0.93\n",
      "Confusion Matrix\n",
      "[[1317    5]\n",
      " [  19  159]]\n",
      "==================================================\n",
      "F1 score and confusion matrix for k= 2\n",
      "F1: 0.92\n",
      "Confusion Matrix\n",
      "[[1322    0]\n",
      " [  25  153]]\n",
      "==================================================\n",
      "F1 score and confusion matrix for k= 3\n",
      "F1: 0.92\n",
      "Confusion Matrix\n",
      "[[1315    7]\n",
      " [  19  159]]\n",
      "==================================================\n",
      "F1 score and confusion matrix for k= 4\n",
      "F1: 0.91\n",
      "Confusion Matrix\n",
      "[[1318    4]\n",
      " [  26  152]]\n",
      "==================================================\n",
      "F1 score and confusion matrix for k= 5\n",
      "F1: 0.92\n",
      "Confusion Matrix\n",
      "[[1315    7]\n",
      " [  21  157]]\n",
      "==================================================\n",
      "F1 score and confusion matrix for k= 6\n",
      "F1: 0.91\n",
      "Confusion Matrix\n",
      "[[1322    0]\n",
      " [  30  148]]\n",
      "==================================================\n",
      "F1 score and confusion matrix for k= 7\n",
      "F1: 0.92\n",
      "Confusion Matrix\n",
      "[[1321    1]\n",
      " [  26  152]]\n",
      "==================================================\n",
      "F1 score and confusion matrix for k= 8\n",
      "F1: 0.90\n",
      "Confusion Matrix\n",
      "[[1322    0]\n",
      " [  32  146]]\n",
      "==================================================\n",
      "F1 score and confusion matrix for k= 9\n",
      "F1: 0.92\n",
      "Confusion Matrix\n",
      "[[1321    1]\n",
      " [  27  151]]\n",
      "==================================================\n",
      "F1 score and confusion matrix for k= 10\n",
      "F1: 0.90\n",
      "Confusion Matrix\n",
      "[[1322    0]\n",
      " [  32  146]]\n",
      "==================================================\n"
     ]
    }
   ],
   "source": [
    "# check the performance of the model using the scaled data and k from 1 to 10\n",
    "for k in range(1, 11):\n",
    "    print(\"F1 score and confusion matrix for k=\", k)\n",
    "    model = sklearn.neighbors.KNeighborsClassifier(n_neighbors=k)\n",
    "    model.fit(X_s_train, y_train)\n",
    "    y_pred = model.predict(X_s_test)\n",
    "    eval_classifier(y_test, y_pred)\n",
    "    print(\"=\" * 50)"
   ]
  },
  {
   "cell_type": "markdown",
   "metadata": {},
   "source": [
    "However, results were dramatically changed when features were scaled. F1 score for the model with trained data was 0.93 at k=1, this is significantly better than the dummy model or model trained with not-scaled data. Also, contrary to the previous model (which was trained with not-scaled data), here (when the model trained with scaled data) with increasing k from 1 to 10, the F1 score did not change dramatically. When k=10, the F1 score was 0.90, which is much better than the dummy and not-scaled data trained model.\n",
    "\n",
    "Here, once more we have witnessed the importance of scaling data for a nearest-neighbor model!"
   ]
  },
  {
   "cell_type": "markdown",
   "metadata": {},
   "source": [
    "## 5. Task 3. Regression (with Linear Regression)"
   ]
  },
  {
   "cell_type": "markdown",
   "metadata": {},
   "source": [
    "With `insurance_benefits` as the target, evaluate what RMSE would be for a Linear Regression model."
   ]
  },
  {
   "cell_type": "markdown",
   "metadata": {},
   "source": [
    "Build your own implementation of LR. For that, recall how the linear regression task's solution is formulated in terms of LA. Check RMSE for both the original data and the scaled one. Can you see any difference in RMSE between these two cases?\n",
    "\n",
    "Let's denote\n",
    "- $X$ — feature matrix, each row is a case, each column is a feature, the first column consists of unities\n",
    "- $y$ — target (a vector)\n",
    "- $\\hat{y}$ — estimated tagret (a vector)\n",
    "- $w$ — weight vector\n",
    "\n",
    "The task of linear regression in the language of matrices can be formulated as\n",
    "\n",
    "$$\n",
    "y = Xw\n",
    "$$\n",
    "\n",
    "The training objective then is to find such $w$ that it would minimize the L2-distance (MSE) between $Xw$ and $y$:\n",
    "\n",
    "$$\n",
    "\\min_w d_2(Xw, y) \\quad \\text{or} \\quad \\min_w \\text{MSE}(Xw, y)\n",
    "$$\n",
    "\n",
    "It appears that there is analytical solution for the above:\n",
    "\n",
    "$$\n",
    "w = (X^T X)^{-1} X^T y\n",
    "$$\n",
    "\n",
    "The formula above can be used to find the weights $w$ and the latter can be used to calculate predicted values\n",
    "\n",
    "$$\n",
    "\\hat{y} = X_{val}w\n",
    "$$"
   ]
  },
  {
   "cell_type": "markdown",
   "metadata": {},
   "source": [
    "Split the whole data in the 70:30 proportion for the training/validation parts. Use the RMSE metric for the model evaluation."
   ]
  },
  {
   "cell_type": "code",
   "execution_count": 56,
   "metadata": {},
   "outputs": [],
   "source": [
    "# linear regression class\n",
    "class MyLinearRegression:\n",
    "    def __init__(self):\n",
    "\n",
    "        self.weights = None\n",
    "\n",
    "    # fitting the model\n",
    "    def fit(self, X, y):\n",
    "\n",
    "        # adding the unities\n",
    "        X2 = np.append(np.ones([len(X), 1]), X, axis=1)\n",
    "        self.weights = (np.linalg.inv(X2.T.dot(X2))).dot(X2.T).dot(y)\n",
    "\n",
    "    # predicting the y\n",
    "    def predict(self, X):\n",
    "\n",
    "        # adding the unities\n",
    "        X2 = np.append(np.ones([len(X), 1]), X, axis=1)\n",
    "        y_pred = X2.dot(self.weights)\n",
    "\n",
    "        return y_pred"
   ]
  },
  {
   "cell_type": "code",
   "execution_count": 57,
   "metadata": {},
   "outputs": [],
   "source": [
    "# a function to evaluate the performance of the regression model\n",
    "def eval_regressor(y_true, y_pred):\n",
    "\n",
    "    rmse = math.sqrt(sklearn.metrics.mean_squared_error(y_true, y_pred))\n",
    "    print(f\"RMSE: {rmse:.2f}\")\n",
    "\n",
    "    r2_score = math.sqrt(sklearn.metrics.r2_score(y_true, y_pred))\n",
    "    print(f\"R2: {r2_score:.2f}\")"
   ]
  },
  {
   "cell_type": "markdown",
   "metadata": {},
   "source": [
    "### 5.1 Linear regression using not-scaled data"
   ]
  },
  {
   "cell_type": "code",
   "execution_count": 58,
   "metadata": {},
   "outputs": [
    {
     "name": "stdout",
     "output_type": "stream",
     "text": [
      "Weights for Linear regression model which was trained with not-scaled data:\n",
      " [-9.43539012e-01  3.57495491e-02  1.64272726e-02 -2.60743659e-07\n",
      " -1.16902127e-02]\n",
      "RMSE: 0.34\n",
      "R2: 0.66\n"
     ]
    }
   ],
   "source": [
    "X = df[[\"age\", \"gender\", \"income\", \"family_members\"]].to_numpy()\n",
    "y = df[\"insurance_benefits\"].to_numpy()\n",
    "\n",
    "X_train, X_test, y_train, y_test = train_test_split(\n",
    "    X, y, test_size=0.3, random_state=12345\n",
    ")\n",
    "\n",
    "lr = MyLinearRegression()\n",
    "\n",
    "lr.fit(X_train, y_train)\n",
    "print(\n",
    "    \"Weights for Linear regression model which was trained with not-scaled data:\\n\",\n",
    "    lr.weights,\n",
    ")\n",
    "\n",
    "y_test_pred = lr.predict(X_test)\n",
    "eval_regressor(y_test, y_test_pred)"
   ]
  },
  {
   "cell_type": "markdown",
   "metadata": {},
   "source": [
    "### 5.2 Linear regression using not-scaled data"
   ]
  },
  {
   "cell_type": "code",
   "execution_count": 59,
   "metadata": {},
   "outputs": [
    {
     "name": "stdout",
     "output_type": "stream",
     "text": [
      "Weights for Linear regression model which was trained with scaled data:\n",
      " [-0.94353901  2.32372069  0.01642727 -0.02059875 -0.07014128]\n",
      "RMSE: 0.34\n",
      "R2: 0.66\n"
     ]
    }
   ],
   "source": [
    "X_s = df_scaled[[\"age\", \"gender\", \"income\", \"family_members\"]].to_numpy()\n",
    "y_s = df_scaled[\"insurance_benefits\"].to_numpy()\n",
    "\n",
    "X_train_s, X_test_s, y_train_s, y_test_s = train_test_split(\n",
    "    X_s, y_s, test_size=0.3, random_state=12345\n",
    ")\n",
    "\n",
    "lr = MyLinearRegression()\n",
    "\n",
    "lr.fit(X_train_s, y_train_s)\n",
    "print(\n",
    "    \"Weights for Linear regression model which was trained with scaled data:\\n\",\n",
    "    lr.weights,\n",
    ")\n",
    "\n",
    "y_test_pred_s = lr.predict(X_test_s)\n",
    "eval_regressor(y_test_s, y_test_pred_s)"
   ]
  },
  {
   "cell_type": "markdown",
   "metadata": {},
   "source": [
    "Here, a Linear regression model with scaled and not-scaled data has been benchmarked. Results show that R2 and RMSE scores are identical, meaning that data scaling did not affect the model performance for the linear regression model. The reason is, weights (*w*) have been adjusted depending on the data scale. For example, the weight for the `income` of not-scaled data was **-2.6e-07**, while it is only **-0.021** for scaled data."
   ]
  },
  {
   "cell_type": "markdown",
   "metadata": {},
   "source": [
    "## 6. Task 4. Obfuscating Data"
   ]
  },
  {
   "cell_type": "markdown",
   "metadata": {},
   "source": [
    "It is best to obfuscate data by multiplying the numerical features (remember, they can be seen as the matrix $X$) by an invertible matrix $P$. \n",
    "\n",
    "$$\n",
    "X' = X \\times P\n",
    "$$\n",
    "\n",
    "Try to do that and check how the features' values will look like after the transformation. By the way, the intertible property is important here so make sure that $P$ is indeed invertible.\n",
    "\n",
    "You may want to review the 'Matrices and Matrix Operations -> Matrix Mupliplication' lesson to recall the rule of matrix multiplication and its implementation with NumPy."
   ]
  },
  {
   "cell_type": "code",
   "execution_count": 60,
   "metadata": {},
   "outputs": [],
   "source": [
    "personal_info_column_list = [\"gender\", \"age\", \"income\", \"family_members\"]\n",
    "df_pn = df[personal_info_column_list]"
   ]
  },
  {
   "cell_type": "code",
   "execution_count": 61,
   "metadata": {},
   "outputs": [],
   "source": [
    "X = df_pn.to_numpy()"
   ]
  },
  {
   "cell_type": "markdown",
   "metadata": {},
   "source": [
    "Generating a random matrix $P$."
   ]
  },
  {
   "cell_type": "code",
   "execution_count": 62,
   "metadata": {},
   "outputs": [],
   "source": [
    "rng = np.random.default_rng(seed=42)\n",
    "P = rng.random(size=(X.shape[1], X.shape[1]))"
   ]
  },
  {
   "cell_type": "markdown",
   "metadata": {},
   "source": [
    "Checking the matrix $P$ is invertible"
   ]
  },
  {
   "cell_type": "code",
   "execution_count": 63,
   "metadata": {},
   "outputs": [
    {
     "data": {
      "text/plain": [
       "array([[0.77395605, 0.43887844, 0.85859792, 0.69736803],\n",
       "       [0.09417735, 0.97562235, 0.7611397 , 0.78606431],\n",
       "       [0.12811363, 0.45038594, 0.37079802, 0.92676499],\n",
       "       [0.64386512, 0.82276161, 0.4434142 , 0.22723872]])"
      ]
     },
     "metadata": {},
     "output_type": "display_data"
    },
    {
     "data": {
      "text/plain": [
       "array([[ 0.41467992, -1.43783972,  0.62798546,  1.14001268],\n",
       "       [-1.06101789,  0.44219337,  0.1329549 ,  1.18425933],\n",
       "       [ 1.42362442,  1.60461607, -2.0553823 , -1.53699695],\n",
       "       [-0.11128575, -0.65813802,  1.74995517, -0.11816316]])"
      ]
     },
     "execution_count": 63,
     "metadata": {},
     "output_type": "execute_result"
    }
   ],
   "source": [
    "display(P)\n",
    "np.linalg.inv(P)"
   ]
  },
  {
   "cell_type": "markdown",
   "metadata": {},
   "source": [
    "Can you guess the customers' ages or income after the transformation?"
   ]
  },
  {
   "cell_type": "code",
   "execution_count": 64,
   "metadata": {},
   "outputs": [
    {
     "data": {
      "text/plain": [
       "array([[1.00e+00, 4.10e+01, 4.96e+04, 1.00e+00],\n",
       "       [0.00e+00, 4.60e+01, 3.80e+04, 1.00e+00],\n",
       "       [0.00e+00, 2.90e+01, 2.10e+04, 0.00e+00],\n",
       "       [0.00e+00, 2.10e+01, 4.17e+04, 2.00e+00],\n",
       "       [1.00e+00, 2.80e+01, 2.61e+04, 0.00e+00]])"
      ]
     },
     "metadata": {},
     "output_type": "display_data"
    },
    {
     "data": {
      "text/plain": [
       "array([[ 6359.71527314, 22380.40467609, 18424.09074184, 46000.69669016],\n",
       "       [ 4873.29406479, 17160.36702982, 14125.78076133, 35253.45577301],\n",
       "       [ 2693.11742928,  9486.397744  ,  7808.83156024, 19484.86063067],\n",
       "       [ 5345.60393712, 18803.22720286, 15479.14837264, 38663.06186284],\n",
       "       [ 3347.17673462, 11782.82928336,  9699.99894205, 24211.27337753]])"
      ]
     },
     "execution_count": 64,
     "metadata": {},
     "output_type": "execute_result"
    }
   ],
   "source": [
    "# display the first 5 rows of original matrix\n",
    "display(X[:5])\n",
    "\n",
    "# transforms the original matrix by multiplying it with invertible matrix P\n",
    "X_t = X.dot(P)\n",
    "\n",
    "# display the first 5 rows of transformed matrix, compare them\n",
    "X_t[:5]"
   ]
  },
  {
   "cell_type": "markdown",
   "metadata": {},
   "source": [
    "Can you recover the original data from $X'$ if you know $P$? Try to check that with calculations by moving $P$ from the right side of the formula above to the left one. The rules of matrix multiplcation are really helpful here."
   ]
  },
  {
   "cell_type": "code",
   "execution_count": 65,
   "metadata": {},
   "outputs": [],
   "source": [
    "X_r = X_t.dot(np.linalg.inv(P))"
   ]
  },
  {
   "cell_type": "markdown",
   "metadata": {},
   "source": [
    "Print all three cases for a few customers\n",
    "- The original data\n",
    "- The transformed one\n",
    "- The reversed (recovered) one"
   ]
  },
  {
   "cell_type": "code",
   "execution_count": 66,
   "metadata": {},
   "outputs": [
    {
     "name": "stdout",
     "output_type": "stream",
     "text": [
      "==================== Original matrix ====================\n",
      "[[1.00e+00 4.10e+01 4.96e+04 1.00e+00]\n",
      " [0.00e+00 4.60e+01 3.80e+04 1.00e+00]\n",
      " [0.00e+00 2.90e+01 2.10e+04 0.00e+00]]\n",
      "\n",
      "==================== Transformed matrix ====================\n",
      "[[ 6359.71527314 22380.40467609 18424.09074184 46000.69669016]\n",
      " [ 4873.29406479 17160.36702982 14125.78076133 35253.45577301]\n",
      " [ 2693.11742928  9486.397744    7808.83156024 19484.86063067]]\n",
      "\n",
      "==================== Recovered matrix ====================\n",
      "[[ 1.00000000e+00  4.10000000e+01  4.96000000e+04  1.00000000e+00]\n",
      " [-3.18323146e-12  4.60000000e+01  3.80000000e+04  1.00000000e+00]\n",
      " [ 1.36424205e-12  2.90000000e+01  2.10000000e+04  0.00000000e+00]]\n"
     ]
    }
   ],
   "source": [
    "print(\"=\" * 20, \"Original matrix\", \"=\" * 20)\n",
    "print(X[:3])\n",
    "print()\n",
    "print(\"=\" * 20, \"Transformed matrix\", \"=\" * 20)\n",
    "print(X_t[:3])\n",
    "print()\n",
    "print(\"=\" * 20, \"Recovered matrix\", \"=\" * 20)\n",
    "print(X_r[:3])"
   ]
  },
  {
   "cell_type": "markdown",
   "metadata": {},
   "source": [
    "**You can probably see that some values are not exactly the same as they are in the original data. What might be the reason for that?**\n",
    "\n",
    "\n",
    "If we compare the 3rd value of the first column, we can see that for original data it is 0, but for recovered data, it is -6.23e-13, which is also almost zero. This difference arises from the precision NumPy uses when multiplying numbers."
   ]
  },
  {
   "cell_type": "markdown",
   "metadata": {},
   "source": [
    "## 7. Proof That Data Obfuscation Can Work with LR"
   ]
  },
  {
   "cell_type": "markdown",
   "metadata": {},
   "source": [
    "The regression task has been solved with linear regression in this project. Your next task is to prove _analytically_ that the given obfuscation method won't affect linear regression in terms of predicted values i.e. their values will remain the same. Can you believe that? Well, you don't have to, you should prove it!"
   ]
  },
  {
   "cell_type": "markdown",
   "metadata": {},
   "source": [
    "So, the data is obfuscated and there is $X \\times P$ instead of just $X$ now. Consequently, there are other weights $w_P$ as\n",
    "$$\n",
    "w = (X^T X)^{-1} X^T y \\quad \\Rightarrow \\quad w_P = [(XP)^T XP]^{-1} (XP)^T y\n",
    "$$\n",
    "\n",
    "How would $w$ and $w_P$ be linked if you simplify the formula for $w_P$ above? \n",
    "\n",
    "What would be predicted values with $w_P$? \n",
    "\n",
    "What does that mean for the quality of linear regression if you measure it with RMSE?\n",
    "\n",
    "Check Appendix B Properties of Matrices in the end of the notebook. There are useful formulas in there!\n",
    "\n",
    "No code is necessary in this section, only analytical explanation!"
   ]
  },
  {
   "cell_type": "markdown",
   "metadata": {},
   "source": [
    "---"
   ]
  },
  {
   "cell_type": "markdown",
   "metadata": {},
   "source": [
    "**Answer** to the question \n",
    "\n",
    "*How would $w$ and $w_P$ be linked if you simplify the formula for $w_P$ above?*"
   ]
  },
  {
   "cell_type": "markdown",
   "metadata": {},
   "source": [
    "---"
   ]
  },
  {
   "cell_type": "markdown",
   "metadata": {},
   "source": [
    "$$w_P = [(XP)^T XP]^{-1} (XP)^T y$$\n",
    "Let's expand the first product $ (XP) ^ T $\n",
    "\n",
    "$$w_P = [P^TX^T XP]^{-1} (XP)^T y$$\n",
    "\n",
    "Now, re-arrange inside the square bracket:\n",
    "$$w_P = (P^T (X^T X)P)^{-1} (XP)^T y$$\n",
    "\n",
    "Expand the brackets $ (P ^ T (X ^ T X) P) ^ {- 1} $:\n",
    "\n",
    "$$\n",
    "w_P = P^{-1} (X^T X)^{-1} (P^T)^{-1} P^T X^T y\n",
    "$$\n",
    "\n",
    "Since $ P $ is reversible, the product $ (P ^ T) ^ {- 1} P ^ T $ should be equal to $ E $ (an identity matrix):\n",
    "\n",
    "$$\n",
    "w_P = P^{-1} (X^T X)^{-1} E X^T y\n",
    "$$\n",
    "\n",
    "Since multiplication of any matrix with identity matrix is equal to itself:\n",
    "\n",
    "$$\n",
    "w_P = P^{-1} (X^T X)^{-1} X^T y\n",
    "$$\n",
    "\n",
    "Now the last part of the equation is exactly same as $w$, let's replace it:\n",
    "\n",
    "$$\n",
    "w_P = P^{-1} w\n",
    "$$"
   ]
  },
  {
   "cell_type": "markdown",
   "metadata": {},
   "source": [
    "---"
   ]
  },
  {
   "cell_type": "markdown",
   "metadata": {},
   "source": [
    "**Answer** to the question \n",
    "\n",
    "*What would be predicted values with $w_P$?*"
   ]
  },
  {
   "cell_type": "markdown",
   "metadata": {},
   "source": [
    "---"
   ]
  },
  {
   "cell_type": "markdown",
   "metadata": {},
   "source": [
    "With our original $w$ calculation of target is as following:\n",
    "\n",
    "$$\n",
    "a = Xw\n",
    "$$\n",
    "\n",
    "Similar equation is applicabale for $w_P$:\n",
    "\n",
    "$$\n",
    "a' = X'w_P\n",
    "$$\n",
    "\n",
    "Here, $X' = X P$ and $w_P = P^{-1} w$, therefore:\n",
    "\n",
    "$$\n",
    "a' = X P P^{-1} w\n",
    "$$\n",
    "\n",
    "Again, $P P^{-1}$ would be equal to $E$ and then multiplication of $X$ with indentity matrix would be itself:\n",
    "\n",
    "$$\n",
    "a' = X w = a\n",
    "$$"
   ]
  },
  {
   "cell_type": "markdown",
   "metadata": {},
   "source": [
    "---"
   ]
  },
  {
   "cell_type": "markdown",
   "metadata": {},
   "source": [
    "**Answer** to the question \n",
    "\n",
    "*What does that mean for the quality of linear regression if you measure it with RMSE?*\n",
    "\n",
    "In answer to the previous question, we have shown that $a'$ would be as same as $a$, and model quality metrics (RMSE or R2) also rely on values of target (here $a$ or $a'$). Since final predicted values are same for both original and transformed datasets, we can expect identical RMSE values."
   ]
  },
  {
   "cell_type": "markdown",
   "metadata": {},
   "source": [
    "## 8. Test Linear Regression With Data Obfuscation"
   ]
  },
  {
   "cell_type": "markdown",
   "metadata": {},
   "source": [
    "Now, let's prove Linear Regression can work computationally with the chosen obfuscation transformation.\n",
    "\n",
    "Build a procedure or a class that runs Linear Regression optionally with the obfuscation. You can use either a ready implementation of Linear Regression from sciki-learn or your own.\n",
    "\n",
    "Run Linear Regression for the original data and the obfuscated one, compare the predicted values and the RMSE, $R^2$ metric values. Is there any difference?"
   ]
  },
  {
   "cell_type": "markdown",
   "metadata": {},
   "source": [
    "**Procedure**\n",
    "\n",
    "- Create a square matrix $P$ of random numbers.\n",
    "- Check that it is invertible. If not, repeat the first point until we get an invertible matrix.\n",
    "- Our Matrix was invertible!\n",
    "- Use $XP$ as the new feature matrix"
   ]
  },
  {
   "cell_type": "code",
   "execution_count": 67,
   "metadata": {},
   "outputs": [
    {
     "name": "stdout",
     "output_type": "stream",
     "text": [
      "np.linalg.inv() function can run without any error for matrix $P$, that means our matrix is invertible!\n"
     ]
    }
   ],
   "source": [
    "# Matrix P will be created using random number\n",
    "rng = np.random.default_rng(seed=234)\n",
    "P = rng.random(size=(X.shape[1], X.shape[1]))\n",
    "\n",
    "np.linalg.inv(P)\n",
    "print(\n",
    "    \"np.linalg.inv() function can run without any error for matrix $P$, that means our matrix is invertible!\"\n",
    ")"
   ]
  },
  {
   "cell_type": "code",
   "execution_count": 68,
   "metadata": {},
   "outputs": [],
   "source": [
    "personal_info_column_list = [\"gender\", \"age\", \"income\", \"family_members\"]\n",
    "df_pn = df[personal_info_column_list]\n",
    "\n",
    "X = df_pn.to_numpy()\n",
    "y = df[\"insurance_benefits\"].to_numpy()"
   ]
  },
  {
   "cell_type": "code",
   "execution_count": 69,
   "metadata": {},
   "outputs": [
    {
     "name": "stdout",
     "output_type": "stream",
     "text": [
      "RMSE: 0.33\n",
      "R2: 0.65\n"
     ]
    }
   ],
   "source": [
    "# let's first split data into training and testing sets:\n",
    "X_train, X_test, y_train, y_test = train_test_split(\n",
    "    X, y, test_size=0.3, random_state=234\n",
    ")\n",
    "\n",
    "\n",
    "# we will use the Linearregression class, which was created previously built in section 6\n",
    "lr = MyLinearRegression()\n",
    "\n",
    "lr.fit(X_train, y_train)\n",
    "y_pred = lr.predict(X_test)\n",
    "eval_regressor(y_test, y_pred)"
   ]
  },
  {
   "cell_type": "code",
   "execution_count": 70,
   "metadata": {},
   "outputs": [
    {
     "name": "stdout",
     "output_type": "stream",
     "text": [
      "RMSE: 0.33\n",
      "R2: 0.65\n"
     ]
    }
   ],
   "source": [
    "# now let's obfuscate dataset first and repeat the same steps as above\n",
    "X_t = X.dot(P)\n",
    "\n",
    "# let's first split data into training and testing sets:\n",
    "X_t_train, X_t_test, y_t_train, y_t_test = train_test_split(\n",
    "    X_t, y, test_size=0.3, random_state=234\n",
    ")\n",
    "\n",
    "\n",
    "# we will use the Linearregression class, which was created previously built in section 6\n",
    "lr = MyLinearRegression()\n",
    "\n",
    "lr.fit(X_t_train, y_t_train)\n",
    "y_t_pred = lr.predict(X_t_test)\n",
    "eval_regressor(y_t_test, y_t_pred)"
   ]
  },
  {
   "cell_type": "markdown",
   "metadata": {},
   "source": [
    "We already proved mathematically that the RMSE score for original and obfuscated data should be the same, in the previous section. Indeed, here we observed that both original and obfuscated data has the same RMSE values of 0.33."
   ]
  },
  {
   "cell_type": "markdown",
   "metadata": {},
   "source": [
    "## 9. Summary"
   ]
  },
  {
   "cell_type": "markdown",
   "metadata": {},
   "source": [
    "- 1 Dataset with **5000 rows and 5 columns** has been imported. For convenience, column names were changed to lower case and whitespaces have been removed. **There were not any errors** in the data (Missing values were not observed and descriptive statistics were not abnormal).\n",
    "\n",
    "- 2 EDA has been performed, but due to the multivariate distributions, useful data were not obtained from it.\n",
    "\n",
    "- 3 To find similar customers, a model has been developed. This model will find similar customers to provided customers. Here, it was observed that scaling of data is very important to find correct similar customers.\n",
    "\n",
    "- 4 Using the K-nearest neighbors algorithm, a classification model has been developed, which will determine if the new customer is likely to receive insurance benefits or not. The F1 score of the model was 0.93. And it should be noted that data scaling was very important to correctly detect customers who are going to benefit from the insurance. (without data scaling F1 score was 0.67. Moreover, performance of the developed model benchmarked with a random (dummy) model and it as observed that our model was performing way more accurate than the dummy model (F1 score 0.2 vs 0.93)\n",
    "\n",
    "- 5 Then a Linear regression model has been developed to predict exactly how many insurance benefits would a customer utilize. The developed model has not been affected by data scaling. As the result developed model has RMSE and R2 scores of 0.34 and 0.66, respectively.\n",
    "\n",
    "- 6 Finally, to protect the sensitive personal information of customers, a data masking (data obfuscation) strategy has been developed and the correctness of the strategy has been proved mathematically. Then the developed strategy has been tested, whether it will affect the model performance or not. As the result, it was observed that model quality was resistant to the developed data obfuscation strategy."
   ]
  },
  {
   "cell_type": "markdown",
   "metadata": {},
   "source": [
    "# Appendices \n",
    "\n",
    "## Appendix A: Writing Formulas in Jupyter Notebooks"
   ]
  },
  {
   "cell_type": "markdown",
   "metadata": {},
   "source": [
    "You can write formulas in your Jupyter Notebook in a markup language provided by a high-quality publishing system called $\\LaTeX$ (pronounced \"Lah-tech\"), and they will look like formulas in textbooks.\n",
    "\n",
    "To put a formula in a text, put the dollar sign (\\\\$) before and after the formula's text e.g. $\\frac{1}{2} \\times \\frac{3}{2} = \\frac{3}{4}$ or $y = x^2, x \\ge 1$.\n",
    "\n",
    "If a formula should be in its own paragraph, put the double dollar sign (\\\\$\\\\$) before and after the formula text e.g.\n",
    "\n",
    "$$\n",
    "\\bar{x} = \\frac{1}{n}\\sum_{i=1}^{n} x_i.\n",
    "$$\n",
    "\n",
    "The markup language of [LaTeX](https://en.wikipedia.org/wiki/LaTeX) is very popular among people who use formulas in their articles, books and texts. It can be complex but its basics are easy. Check this two page [cheatsheet](http://tug.ctan.org/info/undergradmath/undergradmath.pdf) for learning how to compose the most common formulas."
   ]
  },
  {
   "cell_type": "markdown",
   "metadata": {},
   "source": [
    "## Appendix B: Properties of Matrices"
   ]
  },
  {
   "cell_type": "markdown",
   "metadata": {},
   "source": [
    "Matrices have many properties in Linear Algebra. A few of them are listed here which can help with the analytical proof in this project."
   ]
  },
  {
   "cell_type": "markdown",
   "metadata": {},
   "source": [
    "<table>\n",
    "<tr>\n",
    "<td>Distributivity</td><td>$A(B+C)=AB+AC$</td>\n",
    "</tr>\n",
    "<tr>\n",
    "<td>Non-commutativity</td><td>$AB \\neq BA$</td>\n",
    "</tr>\n",
    "<tr>\n",
    "<td>Associative property of multiplication</td><td>$(AB)C = A(BC)$</td>\n",
    "</tr>\n",
    "<tr>\n",
    "<td>Multiplicative identity property</td><td>$IA = AI = A$</td>\n",
    "</tr>\n",
    "<tr>\n",
    "<td></td><td>$A^{-1}A = AA^{-1} = I$\n",
    "</td>\n",
    "</tr>    \n",
    "<tr>\n",
    "<td></td><td>$(AB)^{-1} = B^{-1}A^{-1}$</td>\n",
    "</tr>    \n",
    "<tr>\n",
    "<td>Reversivity of the transpose of a product of matrices,</td><td>$(AB)^T = B^TA^T$</td>\n",
    "</tr>    \n",
    "</table>"
   ]
  }
 ],
 "metadata": {
  "ExecuteTimeLog": [
   {
    "duration": 1146,
    "start_time": "2021-07-12T10:15:07.702Z"
   },
   {
    "duration": 1521,
    "start_time": "2021-07-12T10:15:17.189Z"
   },
   {
    "duration": 650,
    "start_time": "2021-07-12T10:15:34.747Z"
   },
   {
    "duration": 4,
    "start_time": "2021-07-12T10:15:52.460Z"
   },
   {
    "duration": 12,
    "start_time": "2021-07-12T10:15:58.419Z"
   },
   {
    "duration": 4,
    "start_time": "2021-07-12T10:16:23.733Z"
   },
   {
    "duration": 9,
    "start_time": "2021-07-12T10:16:24.593Z"
   },
   {
    "duration": 7,
    "start_time": "2021-07-12T10:16:44.962Z"
   },
   {
    "duration": 189,
    "start_time": "2021-07-12T10:17:29.366Z"
   },
   {
    "duration": 6,
    "start_time": "2021-07-12T10:17:35.724Z"
   },
   {
    "duration": 5,
    "start_time": "2021-07-12T10:20:00.887Z"
   },
   {
    "duration": 6,
    "start_time": "2021-07-12T10:20:12.080Z"
   },
   {
    "duration": 6,
    "start_time": "2021-07-12T10:20:15.031Z"
   },
   {
    "duration": 6,
    "start_time": "2021-07-12T10:20:15.315Z"
   },
   {
    "duration": 3,
    "start_time": "2021-07-12T10:21:47.469Z"
   },
   {
    "duration": 7,
    "start_time": "2021-07-12T10:21:48.808Z"
   },
   {
    "duration": 22,
    "start_time": "2021-07-12T10:22:07.134Z"
   },
   {
    "duration": 6,
    "start_time": "2021-07-12T10:23:07.153Z"
   },
   {
    "duration": 5191,
    "start_time": "2021-07-12T10:24:11.712Z"
   },
   {
    "duration": 5263,
    "start_time": "2021-07-12T10:25:08.895Z"
   },
   {
    "duration": 4,
    "start_time": "2021-07-12T10:26:15.228Z"
   },
   {
    "duration": 7458,
    "start_time": "2021-07-12T10:27:46.197Z"
   },
   {
    "duration": 3,
    "start_time": "2021-07-12T10:44:05.684Z"
   },
   {
    "duration": 180,
    "start_time": "2021-07-12T10:55:11.639Z"
   },
   {
    "duration": 11,
    "start_time": "2021-07-12T10:55:14.633Z"
   },
   {
    "duration": 10,
    "start_time": "2021-07-12T10:55:15.834Z"
   },
   {
    "duration": 4,
    "start_time": "2021-07-12T11:11:55.817Z"
   },
   {
    "duration": 11,
    "start_time": "2021-07-12T11:11:58.759Z"
   },
   {
    "duration": 10,
    "start_time": "2021-07-12T11:11:59.264Z"
   },
   {
    "duration": 342,
    "start_time": "2021-07-12T11:13:25.251Z"
   },
   {
    "duration": 4,
    "start_time": "2021-07-12T11:14:19.810Z"
   },
   {
    "duration": 11,
    "start_time": "2021-07-12T11:14:20.888Z"
   },
   {
    "duration": 10,
    "start_time": "2021-07-12T11:14:21.476Z"
   },
   {
    "duration": 15,
    "start_time": "2021-07-12T11:14:23.014Z"
   },
   {
    "duration": 14,
    "start_time": "2021-07-12T11:15:05.378Z"
   },
   {
    "duration": 24,
    "start_time": "2021-07-12T11:15:26.102Z"
   },
   {
    "duration": 22,
    "start_time": "2021-07-12T11:15:51.224Z"
   },
   {
    "duration": 15,
    "start_time": "2021-07-12T11:16:51.581Z"
   },
   {
    "duration": 15,
    "start_time": "2021-07-12T11:16:55.318Z"
   },
   {
    "duration": 22,
    "start_time": "2021-07-12T11:17:14.620Z"
   },
   {
    "duration": 23,
    "start_time": "2021-07-12T11:17:16.016Z"
   },
   {
    "duration": 15,
    "start_time": "2021-07-12T11:18:43.908Z"
   },
   {
    "duration": 22,
    "start_time": "2021-07-12T11:18:50.628Z"
   },
   {
    "duration": 24,
    "start_time": "2021-07-12T11:18:55.272Z"
   },
   {
    "duration": 3,
    "start_time": "2021-07-12T11:29:06.905Z"
   },
   {
    "duration": 5,
    "start_time": "2021-07-12T11:29:12.162Z"
   },
   {
    "duration": 7,
    "start_time": "2021-07-12T11:29:24.232Z"
   },
   {
    "duration": 7,
    "start_time": "2021-07-12T11:29:42.692Z"
   },
   {
    "duration": 8,
    "start_time": "2021-07-12T11:30:08.628Z"
   },
   {
    "duration": 8,
    "start_time": "2021-07-12T11:30:11.943Z"
   },
   {
    "duration": 20,
    "start_time": "2021-07-12T11:32:44.881Z"
   },
   {
    "duration": 19,
    "start_time": "2021-07-12T11:32:57.823Z"
   },
   {
    "duration": 20,
    "start_time": "2021-07-12T11:33:02.275Z"
   },
   {
    "duration": 20,
    "start_time": "2021-07-12T11:33:10.321Z"
   },
   {
    "duration": 21,
    "start_time": "2021-07-12T11:34:23.120Z"
   },
   {
    "duration": 22,
    "start_time": "2021-07-12T11:34:30.070Z"
   },
   {
    "duration": 21,
    "start_time": "2021-07-12T11:34:41.902Z"
   },
   {
    "duration": 19,
    "start_time": "2021-07-12T11:34:53.406Z"
   },
   {
    "duration": 22,
    "start_time": "2021-07-12T11:34:56.958Z"
   },
   {
    "duration": 18,
    "start_time": "2021-07-12T11:35:31.864Z"
   },
   {
    "duration": 18,
    "start_time": "2021-07-12T11:35:45.329Z"
   },
   {
    "duration": 202,
    "start_time": "2021-07-12T11:36:13.944Z"
   },
   {
    "duration": 22,
    "start_time": "2021-07-12T11:42:49.086Z"
   },
   {
    "duration": 59,
    "start_time": "2021-07-12T11:45:08.075Z"
   },
   {
    "duration": 19,
    "start_time": "2021-07-12T11:45:12.614Z"
   },
   {
    "duration": 11,
    "start_time": "2021-07-12T11:46:06.873Z"
   },
   {
    "duration": 8,
    "start_time": "2021-07-12T11:46:27.641Z"
   },
   {
    "duration": 8,
    "start_time": "2021-07-12T11:46:34.963Z"
   },
   {
    "duration": 4,
    "start_time": "2021-07-12T11:46:44.933Z"
   },
   {
    "duration": 10,
    "start_time": "2021-07-12T11:46:52.170Z"
   },
   {
    "duration": 10,
    "start_time": "2021-07-12T11:46:57.576Z"
   },
   {
    "duration": 9,
    "start_time": "2021-07-12T11:48:24.608Z"
   },
   {
    "duration": 194,
    "start_time": "2021-07-12T11:48:31.963Z"
   },
   {
    "duration": 9,
    "start_time": "2021-07-12T11:48:35.263Z"
   },
   {
    "duration": 9,
    "start_time": "2021-07-12T11:48:51.284Z"
   },
   {
    "duration": 9,
    "start_time": "2021-07-12T11:49:20.939Z"
   },
   {
    "duration": 9,
    "start_time": "2021-07-12T11:49:25.753Z"
   },
   {
    "duration": 4,
    "start_time": "2021-07-12T11:49:43.129Z"
   },
   {
    "duration": 184,
    "start_time": "2021-07-12T11:49:44.700Z"
   },
   {
    "duration": 195,
    "start_time": "2021-07-12T11:50:20.048Z"
   },
   {
    "duration": 4,
    "start_time": "2021-07-12T11:51:30.398Z"
   },
   {
    "duration": 186,
    "start_time": "2021-07-12T11:51:33.800Z"
   },
   {
    "duration": 176,
    "start_time": "2021-07-12T11:52:11.733Z"
   },
   {
    "duration": 4,
    "start_time": "2021-07-12T11:52:33.544Z"
   },
   {
    "duration": 11,
    "start_time": "2021-07-12T11:52:37.047Z"
   },
   {
    "duration": 11,
    "start_time": "2021-07-12T11:52:38.220Z"
   },
   {
    "duration": 365,
    "start_time": "2021-07-12T11:52:41.732Z"
   },
   {
    "duration": 3,
    "start_time": "2021-07-12T11:52:58.768Z"
   },
   {
    "duration": 10,
    "start_time": "2021-07-12T11:53:00.212Z"
   },
   {
    "duration": 11,
    "start_time": "2021-07-12T11:53:00.603Z"
   },
   {
    "duration": 15,
    "start_time": "2021-07-12T11:53:02.484Z"
   },
   {
    "duration": 6,
    "start_time": "2021-07-12T11:53:11.650Z"
   },
   {
    "duration": 6,
    "start_time": "2021-07-12T11:53:22.400Z"
   },
   {
    "duration": 8,
    "start_time": "2021-07-12T11:53:37.198Z"
   },
   {
    "duration": 4,
    "start_time": "2021-07-12T11:55:42.107Z"
   },
   {
    "duration": 67,
    "start_time": "2021-07-12T11:56:57.113Z"
   },
   {
    "duration": 19,
    "start_time": "2021-07-12T11:57:48.286Z"
   },
   {
    "duration": 17,
    "start_time": "2021-07-12T11:58:49.488Z"
   },
   {
    "duration": 116,
    "start_time": "2021-07-12T11:58:54.520Z"
   },
   {
    "duration": 7,
    "start_time": "2021-07-12T12:04:24.227Z"
   },
   {
    "duration": 6,
    "start_time": "2021-07-12T12:04:36.697Z"
   },
   {
    "duration": 6,
    "start_time": "2021-07-12T12:04:50.339Z"
   },
   {
    "duration": 6,
    "start_time": "2021-07-12T12:05:07.318Z"
   },
   {
    "duration": 7,
    "start_time": "2021-07-12T12:05:13.695Z"
   },
   {
    "duration": 6,
    "start_time": "2021-07-12T12:05:44.398Z"
   },
   {
    "duration": 5,
    "start_time": "2021-07-12T12:05:52.204Z"
   },
   {
    "duration": 6,
    "start_time": "2021-07-12T12:05:57.875Z"
   },
   {
    "duration": 6,
    "start_time": "2021-07-12T12:06:10.105Z"
   },
   {
    "duration": 7,
    "start_time": "2021-07-12T12:07:35.005Z"
   },
   {
    "duration": 5,
    "start_time": "2021-07-12T12:07:41.097Z"
   },
   {
    "duration": 5,
    "start_time": "2021-07-12T12:07:44.271Z"
   },
   {
    "duration": 5,
    "start_time": "2021-07-12T12:07:47.406Z"
   },
   {
    "duration": 5,
    "start_time": "2021-07-12T12:07:51.101Z"
   },
   {
    "duration": 4838,
    "start_time": "2021-07-12T12:07:55.389Z"
   },
   {
    "duration": 6,
    "start_time": "2021-07-12T12:08:01.833Z"
   },
   {
    "duration": 6,
    "start_time": "2021-07-12T12:08:39.630Z"
   },
   {
    "duration": 8,
    "start_time": "2021-07-12T12:08:40.562Z"
   },
   {
    "duration": 8,
    "start_time": "2021-07-12T12:09:07.881Z"
   },
   {
    "duration": 5,
    "start_time": "2021-07-12T12:09:40.075Z"
   },
   {
    "duration": 6,
    "start_time": "2021-07-12T12:09:46.096Z"
   },
   {
    "duration": 190,
    "start_time": "2021-07-12T12:09:51.178Z"
   },
   {
    "duration": 186,
    "start_time": "2021-07-12T12:10:04.714Z"
   },
   {
    "duration": 255,
    "start_time": "2021-07-12T12:10:17.422Z"
   },
   {
    "duration": 5,
    "start_time": "2021-07-12T12:10:28.131Z"
   },
   {
    "duration": 5,
    "start_time": "2021-07-12T12:10:31.885Z"
   },
   {
    "duration": 9,
    "start_time": "2021-07-12T12:10:47.827Z"
   },
   {
    "duration": 8,
    "start_time": "2021-07-12T12:10:57.428Z"
   },
   {
    "duration": 9,
    "start_time": "2021-07-12T12:11:10.308Z"
   },
   {
    "duration": 8,
    "start_time": "2021-07-12T12:11:17.407Z"
   },
   {
    "duration": 11,
    "start_time": "2021-07-12T12:11:31.943Z"
   },
   {
    "duration": 4,
    "start_time": "2021-07-12T12:11:59.769Z"
   },
   {
    "duration": 4,
    "start_time": "2021-07-12T12:12:12.120Z"
   },
   {
    "duration": 61,
    "start_time": "2021-07-12T12:13:15.758Z"
   },
   {
    "duration": 4,
    "start_time": "2021-07-12T12:13:20.837Z"
   },
   {
    "duration": 9,
    "start_time": "2021-07-12T12:13:25.012Z"
   },
   {
    "duration": 64,
    "start_time": "2021-07-12T12:13:47.798Z"
   },
   {
    "duration": 9,
    "start_time": "2021-07-12T12:13:52.203Z"
   },
   {
    "duration": 13,
    "start_time": "2021-07-12T12:13:58.508Z"
   },
   {
    "duration": 187,
    "start_time": "2021-07-12T12:14:19.125Z"
   },
   {
    "duration": 189,
    "start_time": "2021-07-12T12:14:34.947Z"
   },
   {
    "duration": 241,
    "start_time": "2021-07-12T12:15:18.940Z"
   },
   {
    "duration": 180,
    "start_time": "2021-07-12T12:15:44.893Z"
   },
   {
    "duration": 285,
    "start_time": "2021-07-12T12:15:51.670Z"
   },
   {
    "duration": 4,
    "start_time": "2021-07-12T12:16:03.876Z"
   },
   {
    "duration": 11,
    "start_time": "2021-07-12T12:16:07.348Z"
   },
   {
    "duration": 10,
    "start_time": "2021-07-12T12:16:25.330Z"
   },
   {
    "duration": 2,
    "start_time": "2021-07-12T12:16:48.385Z"
   },
   {
    "duration": 4,
    "start_time": "2021-07-12T12:16:50.572Z"
   },
   {
    "duration": 10,
    "start_time": "2021-07-12T12:16:53.664Z"
   },
   {
    "duration": 10,
    "start_time": "2021-07-12T12:16:55.420Z"
   },
   {
    "duration": 17,
    "start_time": "2021-07-12T12:17:02.649Z"
   },
   {
    "duration": 14,
    "start_time": "2021-07-12T12:17:32.814Z"
   },
   {
    "duration": 21,
    "start_time": "2021-07-12T12:17:37.074Z"
   },
   {
    "duration": 25,
    "start_time": "2021-07-12T12:17:47.055Z"
   },
   {
    "duration": 25,
    "start_time": "2021-07-12T12:17:54.184Z"
   },
   {
    "duration": 16,
    "start_time": "2021-07-12T12:18:20.598Z"
   },
   {
    "duration": 17,
    "start_time": "2021-07-12T12:18:25.371Z"
   },
   {
    "duration": 1108,
    "start_time": "2021-07-13T07:58:30.788Z"
   },
   {
    "duration": 18,
    "start_time": "2021-07-13T07:58:35.217Z"
   },
   {
    "duration": 5,
    "start_time": "2021-07-13T07:58:37.723Z"
   },
   {
    "duration": 14,
    "start_time": "2021-07-13T07:58:39.186Z"
   },
   {
    "duration": 7,
    "start_time": "2021-07-13T07:58:39.910Z"
   },
   {
    "duration": 4,
    "start_time": "2021-07-13T07:58:41.252Z"
   },
   {
    "duration": 6,
    "start_time": "2021-07-13T07:58:41.968Z"
   },
   {
    "duration": 22,
    "start_time": "2021-07-13T07:58:43.111Z"
   },
   {
    "duration": 25,
    "start_time": "2021-07-13T07:58:51.239Z"
   },
   {
    "duration": 4,
    "start_time": "2021-07-13T07:58:53.693Z"
   },
   {
    "duration": 10,
    "start_time": "2021-07-13T07:58:54.380Z"
   },
   {
    "duration": 6,
    "start_time": "2021-07-13T07:58:55.225Z"
   },
   {
    "duration": 3,
    "start_time": "2021-07-13T07:58:56.006Z"
   },
   {
    "duration": 8,
    "start_time": "2021-07-13T07:58:56.659Z"
   },
   {
    "duration": 22,
    "start_time": "2021-07-13T07:58:57.576Z"
   },
   {
    "duration": 6,
    "start_time": "2021-07-13T07:58:59.027Z"
   },
   {
    "duration": 7941,
    "start_time": "2021-07-13T07:59:28.462Z"
   },
   {
    "duration": 2,
    "start_time": "2021-07-13T07:59:41.012Z"
   },
   {
    "duration": 4,
    "start_time": "2021-07-13T07:59:46.605Z"
   },
   {
    "duration": 11,
    "start_time": "2021-07-13T08:00:35.770Z"
   },
   {
    "duration": 10,
    "start_time": "2021-07-13T08:00:39.384Z"
   },
   {
    "duration": 16,
    "start_time": "2021-07-13T08:00:46.301Z"
   },
   {
    "duration": 17,
    "start_time": "2021-07-13T08:00:49.206Z"
   },
   {
    "duration": 23,
    "start_time": "2021-07-13T08:00:50.127Z"
   },
   {
    "duration": 22,
    "start_time": "2021-07-13T08:00:51.169Z"
   },
   {
    "duration": 14,
    "start_time": "2021-07-13T08:03:03.517Z"
   },
   {
    "duration": 7084,
    "start_time": "2021-07-13T08:19:57.236Z"
   },
   {
    "duration": 5,
    "start_time": "2021-07-13T08:24:11.070Z"
   },
   {
    "duration": 14,
    "start_time": "2021-07-13T08:24:15.233Z"
   },
   {
    "duration": 98,
    "start_time": "2021-07-13T08:24:43.683Z"
   },
   {
    "duration": 14,
    "start_time": "2021-07-13T08:24:54.811Z"
   },
   {
    "duration": 90,
    "start_time": "2021-07-13T08:25:37.260Z"
   },
   {
    "duration": 16,
    "start_time": "2021-07-13T08:26:52.390Z"
   },
   {
    "duration": 10,
    "start_time": "2021-07-13T08:26:58.059Z"
   },
   {
    "duration": 7479,
    "start_time": "2021-07-13T08:27:31.677Z"
   },
   {
    "duration": 7,
    "start_time": "2021-07-13T08:27:54.769Z"
   },
   {
    "duration": 3,
    "start_time": "2021-07-13T08:30:38.726Z"
   },
   {
    "duration": 3,
    "start_time": "2021-07-13T08:30:39.817Z"
   },
   {
    "duration": 212,
    "start_time": "2021-07-13T08:31:14.419Z"
   },
   {
    "duration": 781,
    "start_time": "2021-07-13T08:32:52.820Z"
   },
   {
    "duration": 3,
    "start_time": "2021-07-13T08:33:26.197Z"
   },
   {
    "duration": 3,
    "start_time": "2021-07-13T08:33:26.897Z"
   },
   {
    "duration": 29,
    "start_time": "2021-07-13T08:33:27.604Z"
   },
   {
    "duration": 6,
    "start_time": "2021-07-13T08:49:34.491Z"
   },
   {
    "duration": 4,
    "start_time": "2021-07-13T08:51:16.711Z"
   },
   {
    "duration": 11,
    "start_time": "2021-07-13T08:51:20.666Z"
   },
   {
    "duration": 17,
    "start_time": "2021-07-13T08:51:37.317Z"
   },
   {
    "duration": 7,
    "start_time": "2021-07-13T08:51:40.873Z"
   },
   {
    "duration": 7670,
    "start_time": "2021-07-13T08:55:49.407Z"
   },
   {
    "duration": 9,
    "start_time": "2021-07-13T08:57:47.333Z"
   },
   {
    "duration": 360,
    "start_time": "2021-07-13T09:05:13.584Z"
   },
   {
    "duration": 363,
    "start_time": "2021-07-13T09:06:44.221Z"
   },
   {
    "duration": 433,
    "start_time": "2021-07-13T09:06:48.607Z"
   },
   {
    "duration": 287,
    "start_time": "2021-07-13T09:07:48.778Z"
   },
   {
    "duration": 8,
    "start_time": "2021-07-13T09:08:15.492Z"
   },
   {
    "duration": 409,
    "start_time": "2021-07-13T09:08:16.440Z"
   },
   {
    "duration": 510,
    "start_time": "2021-07-13T09:08:20.475Z"
   },
   {
    "duration": 6,
    "start_time": "2021-07-13T09:10:51.636Z"
   },
   {
    "duration": 7,
    "start_time": "2021-07-13T09:11:01.891Z"
   },
   {
    "duration": 33,
    "start_time": "2021-07-13T09:11:56.665Z"
   },
   {
    "duration": 406,
    "start_time": "2021-07-13T09:13:15.634Z"
   },
   {
    "duration": 496,
    "start_time": "2021-07-13T09:13:38.128Z"
   },
   {
    "duration": 9,
    "start_time": "2021-07-13T09:17:59.702Z"
   },
   {
    "duration": 455,
    "start_time": "2021-07-13T09:18:00.332Z"
   },
   {
    "duration": 8,
    "start_time": "2021-07-13T09:19:29.502Z"
   },
   {
    "duration": 398,
    "start_time": "2021-07-13T09:19:31.992Z"
   },
   {
    "duration": 5,
    "start_time": "2021-07-13T09:44:50.245Z"
   },
   {
    "duration": 3,
    "start_time": "2021-07-13T09:44:52.629Z"
   },
   {
    "duration": 589,
    "start_time": "2021-07-13T09:45:18.909Z"
   },
   {
    "duration": 3,
    "start_time": "2021-07-13T09:45:50.436Z"
   },
   {
    "duration": 10,
    "start_time": "2021-07-13T09:45:58.926Z"
   },
   {
    "duration": 3,
    "start_time": "2021-07-13T09:48:01.784Z"
   },
   {
    "duration": 15,
    "start_time": "2021-07-13T09:49:33.516Z"
   },
   {
    "duration": 10,
    "start_time": "2021-07-13T09:54:43.696Z"
   },
   {
    "duration": 9,
    "start_time": "2021-07-13T09:55:03.401Z"
   },
   {
    "duration": 10,
    "start_time": "2021-07-13T10:01:09.728Z"
   },
   {
    "duration": 10,
    "start_time": "2021-07-13T10:01:36.949Z"
   },
   {
    "duration": 4,
    "start_time": "2021-07-13T10:08:57.146Z"
   },
   {
    "duration": 3,
    "start_time": "2021-07-13T10:09:05.882Z"
   },
   {
    "duration": 3,
    "start_time": "2021-07-13T10:09:06.416Z"
   },
   {
    "duration": 3,
    "start_time": "2021-07-13T10:09:07.737Z"
   },
   {
    "duration": 4,
    "start_time": "2021-07-13T10:09:09.069Z"
   },
   {
    "duration": 4,
    "start_time": "2021-07-13T10:09:15.394Z"
   },
   {
    "duration": 4,
    "start_time": "2021-07-13T10:09:19.924Z"
   },
   {
    "duration": 260,
    "start_time": "2021-07-13T10:16:21.391Z"
   },
   {
    "duration": 5,
    "start_time": "2021-07-13T10:16:31.493Z"
   },
   {
    "duration": 274,
    "start_time": "2021-07-13T10:16:41.259Z"
   },
   {
    "duration": 6,
    "start_time": "2021-07-13T10:16:49.274Z"
   },
   {
    "duration": 4,
    "start_time": "2021-07-13T10:19:59.224Z"
   },
   {
    "duration": 254,
    "start_time": "2021-07-13T10:20:04.274Z"
   },
   {
    "duration": 3,
    "start_time": "2021-07-13T10:20:10.811Z"
   },
   {
    "duration": 4,
    "start_time": "2021-07-13T10:20:19.277Z"
   },
   {
    "duration": 7,
    "start_time": "2021-07-13T10:20:57.050Z"
   },
   {
    "duration": 6,
    "start_time": "2021-07-13T10:21:06.743Z"
   },
   {
    "duration": 8,
    "start_time": "2021-07-13T10:22:21.283Z"
   },
   {
    "duration": 8,
    "start_time": "2021-07-13T10:22:45.072Z"
   },
   {
    "duration": 7,
    "start_time": "2021-07-13T10:23:08.542Z"
   },
   {
    "duration": 5,
    "start_time": "2021-07-13T10:30:35.537Z"
   },
   {
    "duration": 6,
    "start_time": "2021-07-13T10:30:55.047Z"
   },
   {
    "duration": 6,
    "start_time": "2021-07-13T10:31:02.727Z"
   },
   {
    "duration": 3,
    "start_time": "2021-07-13T10:31:46.749Z"
   },
   {
    "duration": 4,
    "start_time": "2021-07-13T10:33:26.070Z"
   },
   {
    "duration": 5,
    "start_time": "2021-07-13T10:33:42.857Z"
   },
   {
    "duration": 6,
    "start_time": "2021-07-13T10:33:49.640Z"
   },
   {
    "duration": 5,
    "start_time": "2021-07-13T10:33:57.533Z"
   },
   {
    "duration": 5,
    "start_time": "2021-07-13T10:35:10.631Z"
   },
   {
    "duration": 4,
    "start_time": "2021-07-13T10:35:27.495Z"
   },
   {
    "duration": 5,
    "start_time": "2021-07-13T10:35:54.618Z"
   },
   {
    "duration": 6,
    "start_time": "2021-07-13T10:36:35.319Z"
   },
   {
    "duration": 7,
    "start_time": "2021-07-13T10:37:25.426Z"
   },
   {
    "duration": 7,
    "start_time": "2021-07-13T10:37:38.833Z"
   },
   {
    "duration": 6,
    "start_time": "2021-07-13T10:37:47.268Z"
   },
   {
    "duration": 6,
    "start_time": "2021-07-13T10:38:09.225Z"
   },
   {
    "duration": 5,
    "start_time": "2021-07-13T10:38:23.171Z"
   },
   {
    "duration": 6,
    "start_time": "2021-07-13T10:38:39.064Z"
   },
   {
    "duration": 9,
    "start_time": "2021-07-13T11:35:40.138Z"
   },
   {
    "duration": 5,
    "start_time": "2021-07-13T11:36:06.823Z"
   },
   {
    "duration": 8,
    "start_time": "2021-07-13T11:36:55.546Z"
   },
   {
    "duration": 10,
    "start_time": "2021-07-13T11:37:14.497Z"
   },
   {
    "duration": 260,
    "start_time": "2021-07-13T11:37:27.992Z"
   },
   {
    "duration": 653,
    "start_time": "2021-07-13T11:46:34.135Z"
   },
   {
    "duration": 3,
    "start_time": "2021-07-13T11:46:42.007Z"
   },
   {
    "duration": 5,
    "start_time": "2021-07-13T11:46:45.760Z"
   },
   {
    "duration": 254,
    "start_time": "2021-07-13T11:46:50.241Z"
   },
   {
    "duration": 262,
    "start_time": "2021-07-13T11:47:10.739Z"
   },
   {
    "duration": 294,
    "start_time": "2021-07-13T11:47:21.545Z"
   },
   {
    "duration": 4,
    "start_time": "2021-07-13T11:47:26.035Z"
   },
   {
    "duration": 345,
    "start_time": "2021-07-13T11:48:07.865Z"
   },
   {
    "duration": 260,
    "start_time": "2021-07-13T11:48:12.123Z"
   },
   {
    "duration": 278,
    "start_time": "2021-07-13T11:48:18.626Z"
   },
   {
    "duration": 4,
    "start_time": "2021-07-13T11:48:28.052Z"
   },
   {
    "duration": 299,
    "start_time": "2021-07-13T11:48:42.572Z"
   },
   {
    "duration": 4,
    "start_time": "2021-07-13T11:48:47.877Z"
   },
   {
    "duration": 5,
    "start_time": "2021-07-13T11:51:52.285Z"
   },
   {
    "duration": 277,
    "start_time": "2021-07-13T11:54:29.880Z"
   },
   {
    "duration": 267,
    "start_time": "2021-07-13T12:00:26.772Z"
   },
   {
    "duration": 446,
    "start_time": "2021-07-13T12:00:54.254Z"
   },
   {
    "duration": 11,
    "start_time": "2021-07-13T12:38:36.271Z"
   },
   {
    "duration": 3,
    "start_time": "2021-07-13T12:40:25.178Z"
   },
   {
    "duration": 15,
    "start_time": "2021-07-13T12:40:53.128Z"
   },
   {
    "duration": 7,
    "start_time": "2021-07-13T12:45:02.789Z"
   },
   {
    "duration": 7,
    "start_time": "2021-07-13T12:46:35.153Z"
   },
   {
    "duration": 7,
    "start_time": "2021-07-13T12:47:00.936Z"
   },
   {
    "duration": 8,
    "start_time": "2021-07-13T12:49:57.955Z"
   },
   {
    "duration": 1148,
    "start_time": "2021-07-13T12:50:42.643Z"
   },
   {
    "duration": 24,
    "start_time": "2021-07-13T12:50:43.792Z"
   },
   {
    "duration": 4,
    "start_time": "2021-07-13T12:50:43.817Z"
   },
   {
    "duration": 13,
    "start_time": "2021-07-13T12:50:43.823Z"
   },
   {
    "duration": 7,
    "start_time": "2021-07-13T12:50:43.837Z"
   },
   {
    "duration": 5,
    "start_time": "2021-07-13T12:50:43.846Z"
   },
   {
    "duration": 8,
    "start_time": "2021-07-13T12:50:43.852Z"
   },
   {
    "duration": 19,
    "start_time": "2021-07-13T12:50:43.862Z"
   },
   {
    "duration": 6806,
    "start_time": "2021-07-13T12:50:43.884Z"
   },
   {
    "duration": 3,
    "start_time": "2021-07-13T12:50:50.692Z"
   },
   {
    "duration": 8,
    "start_time": "2021-07-13T12:50:50.697Z"
   },
   {
    "duration": 31,
    "start_time": "2021-07-13T12:50:50.707Z"
   },
   {
    "duration": 9,
    "start_time": "2021-07-13T12:50:50.740Z"
   },
   {
    "duration": 19,
    "start_time": "2021-07-13T12:50:50.750Z"
   },
   {
    "duration": 14,
    "start_time": "2021-07-13T12:50:50.770Z"
   },
   {
    "duration": 21,
    "start_time": "2021-07-13T12:50:50.785Z"
   },
   {
    "duration": 43,
    "start_time": "2021-07-13T12:50:50.808Z"
   },
   {
    "duration": 9,
    "start_time": "2021-07-13T12:50:50.852Z"
   },
   {
    "duration": 20,
    "start_time": "2021-07-13T12:50:50.863Z"
   },
   {
    "duration": 9,
    "start_time": "2021-07-13T12:50:50.884Z"
   },
   {
    "duration": 5,
    "start_time": "2021-07-13T12:50:50.894Z"
   },
   {
    "duration": 46,
    "start_time": "2021-07-13T12:50:50.900Z"
   },
   {
    "duration": 8,
    "start_time": "2021-07-13T12:50:50.949Z"
   },
   {
    "duration": 492,
    "start_time": "2021-07-13T12:50:50.959Z"
   },
   {
    "duration": 513,
    "start_time": "2021-07-13T12:50:51.453Z"
   },
   {
    "duration": 4,
    "start_time": "2021-07-13T12:50:51.967Z"
   },
   {
    "duration": 6,
    "start_time": "2021-07-13T12:50:51.973Z"
   },
   {
    "duration": 13,
    "start_time": "2021-07-13T12:50:51.981Z"
   },
   {
    "duration": 100,
    "start_time": "2021-07-13T12:50:52.042Z"
   },
   {
    "duration": 5,
    "start_time": "2021-07-13T12:50:52.144Z"
   },
   {
    "duration": 90,
    "start_time": "2021-07-13T12:50:52.151Z"
   },
   {
    "duration": 3,
    "start_time": "2021-07-13T12:50:52.243Z"
   },
   {
    "duration": 11,
    "start_time": "2021-07-13T12:50:52.247Z"
   },
   {
    "duration": 7,
    "start_time": "2021-07-13T12:50:52.259Z"
   },
   {
    "duration": 75,
    "start_time": "2021-07-13T12:50:52.267Z"
   },
   {
    "duration": 8,
    "start_time": "2021-07-13T12:50:52.344Z"
   },
   {
    "duration": 89,
    "start_time": "2021-07-13T12:50:52.354Z"
   },
   {
    "duration": 9,
    "start_time": "2021-07-13T12:50:52.445Z"
   },
   {
    "duration": 88,
    "start_time": "2021-07-13T12:50:52.456Z"
   },
   {
    "duration": 6,
    "start_time": "2021-07-13T12:54:00.608Z"
   },
   {
    "duration": 6,
    "start_time": "2021-07-13T12:54:14.016Z"
   },
   {
    "duration": 4,
    "start_time": "2021-07-13T13:15:05.727Z"
   },
   {
    "duration": 4,
    "start_time": "2021-07-13T13:15:06.338Z"
   },
   {
    "duration": 3,
    "start_time": "2021-07-13T13:15:07.600Z"
   },
   {
    "duration": 7,
    "start_time": "2021-07-13T13:15:10.957Z"
   },
   {
    "duration": 7,
    "start_time": "2021-07-13T13:15:17.320Z"
   },
   {
    "duration": 4,
    "start_time": "2021-07-13T13:15:22.099Z"
   },
   {
    "duration": 6,
    "start_time": "2021-07-13T13:15:25.480Z"
   },
   {
    "duration": 1125,
    "start_time": "2021-07-13T13:20:55.960Z"
   },
   {
    "duration": 24,
    "start_time": "2021-07-13T13:20:57.087Z"
   },
   {
    "duration": 5,
    "start_time": "2021-07-13T13:20:57.113Z"
   },
   {
    "duration": 11,
    "start_time": "2021-07-13T13:20:57.120Z"
   },
   {
    "duration": 9,
    "start_time": "2021-07-13T13:20:57.133Z"
   },
   {
    "duration": 7,
    "start_time": "2021-07-13T13:20:57.145Z"
   },
   {
    "duration": 9,
    "start_time": "2021-07-13T13:20:57.154Z"
   },
   {
    "duration": 4,
    "start_time": "2021-07-13T13:20:57.166Z"
   },
   {
    "duration": 25,
    "start_time": "2021-07-13T13:20:57.172Z"
   },
   {
    "duration": 7381,
    "start_time": "2021-07-13T13:20:57.199Z"
   },
   {
    "duration": 2,
    "start_time": "2021-07-13T13:21:04.582Z"
   },
   {
    "duration": 6,
    "start_time": "2021-07-13T13:21:04.586Z"
   },
   {
    "duration": 12,
    "start_time": "2021-07-13T13:21:04.594Z"
   },
   {
    "duration": 33,
    "start_time": "2021-07-13T13:21:04.608Z"
   },
   {
    "duration": 15,
    "start_time": "2021-07-13T13:21:04.643Z"
   },
   {
    "duration": 13,
    "start_time": "2021-07-13T13:21:04.660Z"
   },
   {
    "duration": 20,
    "start_time": "2021-07-13T13:21:04.674Z"
   },
   {
    "duration": 51,
    "start_time": "2021-07-13T13:21:04.696Z"
   },
   {
    "duration": 9,
    "start_time": "2021-07-13T13:21:04.749Z"
   },
   {
    "duration": 13,
    "start_time": "2021-07-13T13:21:04.759Z"
   },
   {
    "duration": 2,
    "start_time": "2021-07-13T13:21:04.774Z"
   },
   {
    "duration": 8,
    "start_time": "2021-07-13T13:21:04.778Z"
   },
   {
    "duration": 32,
    "start_time": "2021-07-13T13:21:04.789Z"
   },
   {
    "duration": 20,
    "start_time": "2021-07-13T13:21:04.823Z"
   },
   {
    "duration": 449,
    "start_time": "2021-07-13T13:21:04.845Z"
   },
   {
    "duration": 531,
    "start_time": "2021-07-13T13:21:05.295Z"
   },
   {
    "duration": 4,
    "start_time": "2021-07-13T13:21:05.828Z"
   },
   {
    "duration": 3,
    "start_time": "2021-07-13T13:21:05.840Z"
   },
   {
    "duration": 10,
    "start_time": "2021-07-13T13:21:05.845Z"
   },
   {
    "duration": 86,
    "start_time": "2021-07-13T13:21:05.857Z"
   },
   {
    "duration": 5,
    "start_time": "2021-07-13T13:21:05.945Z"
   },
   {
    "duration": 90,
    "start_time": "2021-07-13T13:21:05.952Z"
   },
   {
    "duration": 7,
    "start_time": "2021-07-13T13:21:06.044Z"
   },
   {
    "duration": 10,
    "start_time": "2021-07-13T13:21:06.053Z"
   },
   {
    "duration": 6,
    "start_time": "2021-07-13T13:21:06.065Z"
   },
   {
    "duration": 68,
    "start_time": "2021-07-13T13:21:06.073Z"
   },
   {
    "duration": 6,
    "start_time": "2021-07-13T13:21:06.142Z"
   },
   {
    "duration": 10,
    "start_time": "2021-07-13T13:21:06.150Z"
   },
   {
    "duration": 82,
    "start_time": "2021-07-13T13:21:06.162Z"
   },
   {
    "duration": 8,
    "start_time": "2021-07-13T13:21:06.247Z"
   },
   {
    "duration": 1095,
    "start_time": "2021-07-13T20:12:49.148Z"
   },
   {
    "duration": 25,
    "start_time": "2021-07-13T20:12:50.245Z"
   },
   {
    "duration": 4,
    "start_time": "2021-07-13T20:12:50.271Z"
   },
   {
    "duration": 13,
    "start_time": "2021-07-13T20:12:50.277Z"
   },
   {
    "duration": 5,
    "start_time": "2021-07-13T20:12:50.291Z"
   },
   {
    "duration": 3,
    "start_time": "2021-07-13T20:12:50.298Z"
   },
   {
    "duration": 7,
    "start_time": "2021-07-13T20:12:50.302Z"
   },
   {
    "duration": 5,
    "start_time": "2021-07-13T20:12:50.311Z"
   },
   {
    "duration": 22,
    "start_time": "2021-07-13T20:12:50.317Z"
   },
   {
    "duration": 7448,
    "start_time": "2021-07-13T20:12:50.341Z"
   },
   {
    "duration": 3,
    "start_time": "2021-07-13T20:12:57.791Z"
   },
   {
    "duration": 5,
    "start_time": "2021-07-13T20:12:57.795Z"
   },
   {
    "duration": 12,
    "start_time": "2021-07-13T20:12:57.802Z"
   },
   {
    "duration": 9,
    "start_time": "2021-07-13T20:12:57.816Z"
   },
   {
    "duration": 18,
    "start_time": "2021-07-13T20:12:57.826Z"
   },
   {
    "duration": 47,
    "start_time": "2021-07-13T20:12:57.846Z"
   },
   {
    "duration": 21,
    "start_time": "2021-07-13T20:12:57.895Z"
   },
   {
    "duration": 21,
    "start_time": "2021-07-13T20:12:57.917Z"
   },
   {
    "duration": 9,
    "start_time": "2021-07-13T20:12:57.939Z"
   },
   {
    "duration": 10,
    "start_time": "2021-07-13T20:12:57.949Z"
   },
   {
    "duration": 26,
    "start_time": "2021-07-13T20:12:57.960Z"
   },
   {
    "duration": 5,
    "start_time": "2021-07-13T20:12:57.987Z"
   },
   {
    "duration": 31,
    "start_time": "2021-07-13T20:12:57.995Z"
   },
   {
    "duration": 8,
    "start_time": "2021-07-13T20:12:58.028Z"
   },
   {
    "duration": 476,
    "start_time": "2021-07-13T20:12:58.037Z"
   },
   {
    "duration": 554,
    "start_time": "2021-07-13T20:12:58.515Z"
   },
   {
    "duration": 4,
    "start_time": "2021-07-13T20:12:59.071Z"
   },
   {
    "duration": 4,
    "start_time": "2021-07-13T20:12:59.085Z"
   },
   {
    "duration": 14,
    "start_time": "2021-07-13T20:12:59.091Z"
   },
   {
    "duration": 84,
    "start_time": "2021-07-13T20:12:59.107Z"
   },
   {
    "duration": 5,
    "start_time": "2021-07-13T20:12:59.193Z"
   },
   {
    "duration": 4,
    "start_time": "2021-07-13T20:12:59.286Z"
   },
   {
    "duration": 6,
    "start_time": "2021-07-13T20:12:59.292Z"
   },
   {
    "duration": 92,
    "start_time": "2021-07-13T20:12:59.300Z"
   },
   {
    "duration": 8,
    "start_time": "2021-07-13T20:12:59.394Z"
   },
   {
    "duration": 3,
    "start_time": "2021-07-13T20:12:59.485Z"
   },
   {
    "duration": 10,
    "start_time": "2021-07-13T20:12:59.490Z"
   },
   {
    "duration": 88,
    "start_time": "2021-07-13T20:12:59.502Z"
   },
   {
    "duration": 10,
    "start_time": "2021-07-13T20:12:59.592Z"
   },
   {
    "duration": 11,
    "start_time": "2021-07-13T20:12:59.684Z"
   },
   {
    "duration": 4,
    "start_time": "2021-07-14T12:38:27.788Z"
   },
   {
    "duration": 97,
    "start_time": "2021-07-14T12:38:27.794Z"
   },
   {
    "duration": 4,
    "start_time": "2021-07-14T12:38:27.894Z"
   },
   {
    "duration": 12,
    "start_time": "2021-07-14T12:38:27.900Z"
   },
   {
    "duration": 8,
    "start_time": "2021-07-14T12:38:27.913Z"
   },
   {
    "duration": 4,
    "start_time": "2021-07-14T12:38:27.922Z"
   },
   {
    "duration": 13,
    "start_time": "2021-07-14T12:38:27.928Z"
   },
   {
    "duration": 5,
    "start_time": "2021-07-14T12:38:27.942Z"
   },
   {
    "duration": 52,
    "start_time": "2021-07-14T12:38:27.948Z"
   },
   {
    "duration": 7672,
    "start_time": "2021-07-14T12:38:28.001Z"
   },
   {
    "duration": 2,
    "start_time": "2021-07-14T12:38:35.674Z"
   },
   {
    "duration": 7,
    "start_time": "2021-07-14T12:38:35.678Z"
   },
   {
    "duration": 13,
    "start_time": "2021-07-14T12:38:35.687Z"
   },
   {
    "duration": 9,
    "start_time": "2021-07-14T12:38:35.701Z"
   },
   {
    "duration": 14,
    "start_time": "2021-07-14T12:38:35.711Z"
   },
   {
    "duration": 14,
    "start_time": "2021-07-14T12:38:35.726Z"
   },
   {
    "duration": 55,
    "start_time": "2021-07-14T12:38:35.741Z"
   },
   {
    "duration": 23,
    "start_time": "2021-07-14T12:38:35.798Z"
   },
   {
    "duration": 16,
    "start_time": "2021-07-14T12:38:35.823Z"
   },
   {
    "duration": 16,
    "start_time": "2021-07-14T12:38:35.841Z"
   },
   {
    "duration": 4,
    "start_time": "2021-07-14T12:38:35.859Z"
   },
   {
    "duration": 21,
    "start_time": "2021-07-14T12:38:35.865Z"
   },
   {
    "duration": 38,
    "start_time": "2021-07-14T12:38:35.887Z"
   },
   {
    "duration": 8,
    "start_time": "2021-07-14T12:38:35.927Z"
   },
   {
    "duration": 472,
    "start_time": "2021-07-14T12:38:35.937Z"
   },
   {
    "duration": 558,
    "start_time": "2021-07-14T12:38:36.411Z"
   },
   {
    "duration": 14,
    "start_time": "2021-07-14T12:38:36.971Z"
   },
   {
    "duration": 4,
    "start_time": "2021-07-14T12:38:36.990Z"
   },
   {
    "duration": 13,
    "start_time": "2021-07-14T12:38:36.996Z"
   },
   {
    "duration": 82,
    "start_time": "2021-07-14T12:38:37.011Z"
   },
   {
    "duration": 94,
    "start_time": "2021-07-14T12:38:37.095Z"
   },
   {
    "duration": 9,
    "start_time": "2021-07-14T12:38:37.192Z"
   },
   {
    "duration": 4,
    "start_time": "2021-07-14T12:38:37.285Z"
   },
   {
    "duration": 11,
    "start_time": "2021-07-14T12:38:37.290Z"
   },
   {
    "duration": 83,
    "start_time": "2021-07-14T12:38:37.303Z"
   },
   {
    "duration": 4,
    "start_time": "2021-07-14T12:38:37.388Z"
   },
   {
    "duration": 96,
    "start_time": "2021-07-14T12:38:37.394Z"
   },
   {
    "duration": 93,
    "start_time": "2021-07-14T12:38:37.492Z"
   },
   {
    "duration": 26,
    "start_time": "2021-07-14T12:38:37.588Z"
   },
   {
    "duration": 8,
    "start_time": "2021-07-14T12:38:37.686Z"
   },
   {
    "duration": 1573,
    "start_time": "2021-07-14T13:49:02.250Z"
   },
   {
    "duration": 38,
    "start_time": "2021-07-14T13:49:05.712Z"
   },
   {
    "duration": 8,
    "start_time": "2021-07-14T13:49:07.159Z"
   },
   {
    "duration": 19,
    "start_time": "2021-07-14T13:49:08.479Z"
   },
   {
    "duration": 11,
    "start_time": "2021-07-14T13:49:09.416Z"
   },
   {
    "duration": 5,
    "start_time": "2021-07-14T13:49:10.304Z"
   },
   {
    "duration": 9,
    "start_time": "2021-07-14T13:49:12.490Z"
   },
   {
    "duration": 7,
    "start_time": "2021-07-14T13:49:13.648Z"
   },
   {
    "duration": 35,
    "start_time": "2021-07-14T13:49:16.104Z"
   },
   {
    "duration": 8,
    "start_time": "2021-07-14T13:49:28.929Z"
   },
   {
    "duration": 10,
    "start_time": "2021-07-14T13:50:13.330Z"
   },
   {
    "duration": 24,
    "start_time": "2021-07-14T13:50:38.296Z"
   },
   {
    "duration": 457,
    "start_time": "2021-07-14T13:51:30.451Z"
   },
   {
    "duration": 24,
    "start_time": "2021-07-14T13:51:50.817Z"
   },
   {
    "duration": 24,
    "start_time": "2021-07-14T13:53:13.865Z"
   },
   {
    "duration": 7,
    "start_time": "2021-07-14T13:54:27.673Z"
   },
   {
    "duration": 19,
    "start_time": "2021-07-14T13:54:44.362Z"
   },
   {
    "duration": 4,
    "start_time": "2021-07-14T14:55:48.679Z"
   },
   {
    "duration": 251,
    "start_time": "2021-07-14T14:55:49.293Z"
   },
   {
    "duration": 7,
    "start_time": "2021-07-14T14:55:49.571Z"
   },
   {
    "duration": 13,
    "start_time": "2021-07-14T14:55:49.877Z"
   },
   {
    "duration": 9,
    "start_time": "2021-07-14T14:55:50.048Z"
   },
   {
    "duration": 5,
    "start_time": "2021-07-14T14:55:50.212Z"
   },
   {
    "duration": 9,
    "start_time": "2021-07-14T14:55:50.388Z"
   },
   {
    "duration": 7,
    "start_time": "2021-07-14T14:55:50.549Z"
   },
   {
    "duration": 33,
    "start_time": "2021-07-14T14:55:51.229Z"
   },
   {
    "duration": 7,
    "start_time": "2021-07-14T14:55:51.756Z"
   },
   {
    "duration": 25,
    "start_time": "2021-07-14T14:55:52.341Z"
   },
   {
    "duration": 14242,
    "start_time": "2021-07-14T14:55:55.876Z"
   },
   {
    "duration": 4,
    "start_time": "2021-07-14T14:56:10.121Z"
   },
   {
    "duration": 6,
    "start_time": "2021-07-14T14:56:11.589Z"
   },
   {
    "duration": 15,
    "start_time": "2021-07-14T14:56:13.348Z"
   },
   {
    "duration": 15,
    "start_time": "2021-07-14T14:56:14.229Z"
   },
   {
    "duration": 25,
    "start_time": "2021-07-14T14:56:15.644Z"
   },
   {
    "duration": 23,
    "start_time": "2021-07-14T14:56:16.334Z"
   },
   {
    "duration": 36,
    "start_time": "2021-07-14T14:56:16.862Z"
   },
   {
    "duration": 42,
    "start_time": "2021-07-14T14:56:17.429Z"
   },
   {
    "duration": 17,
    "start_time": "2021-07-14T14:56:21.861Z"
   },
   {
    "duration": 10,
    "start_time": "2021-07-14T14:56:22.988Z"
   },
   {
    "duration": 4,
    "start_time": "2021-07-14T14:56:23.582Z"
   },
   {
    "duration": 4,
    "start_time": "2021-07-14T14:56:24.276Z"
   },
   {
    "duration": 46,
    "start_time": "2021-07-14T14:56:25.037Z"
   },
   {
    "duration": 13,
    "start_time": "2021-07-14T14:56:26.357Z"
   },
   {
    "duration": 744,
    "start_time": "2021-07-14T14:56:26.973Z"
   },
   {
    "duration": 929,
    "start_time": "2021-07-14T14:56:29.204Z"
   },
   {
    "duration": 6,
    "start_time": "2021-07-14T14:56:35.052Z"
   },
   {
    "duration": 5,
    "start_time": "2021-07-14T14:56:35.708Z"
   },
   {
    "duration": 15,
    "start_time": "2021-07-14T14:56:36.940Z"
   },
   {
    "duration": 26,
    "start_time": "2021-07-14T14:56:38.356Z"
   },
   {
    "duration": 6,
    "start_time": "2021-07-14T14:56:41.428Z"
   },
   {
    "duration": 4,
    "start_time": "2021-07-14T14:56:41.901Z"
   },
   {
    "duration": 4,
    "start_time": "2021-07-14T14:56:43.013Z"
   },
   {
    "duration": 8,
    "start_time": "2021-07-14T14:56:44.053Z"
   },
   {
    "duration": 8,
    "start_time": "2021-07-14T14:56:45.517Z"
   },
   {
    "duration": 5,
    "start_time": "2021-07-14T14:56:46.726Z"
   },
   {
    "duration": 8,
    "start_time": "2021-07-14T14:56:47.861Z"
   },
   {
    "duration": 6,
    "start_time": "2021-07-14T14:56:59.821Z"
   },
   {
    "duration": 6,
    "start_time": "2021-07-14T14:57:00.221Z"
   },
   {
    "duration": 11,
    "start_time": "2021-07-14T14:57:00.757Z"
   },
   {
    "duration": 12,
    "start_time": "2021-07-14T14:57:02.557Z"
   },
   {
    "duration": 1162,
    "start_time": "2021-07-15T13:05:39.173Z"
   },
   {
    "duration": 25,
    "start_time": "2021-07-15T13:05:40.337Z"
   },
   {
    "duration": 3,
    "start_time": "2021-07-15T13:05:40.366Z"
   },
   {
    "duration": 10,
    "start_time": "2021-07-15T13:05:40.370Z"
   },
   {
    "duration": 11,
    "start_time": "2021-07-15T13:05:40.381Z"
   },
   {
    "duration": 3,
    "start_time": "2021-07-15T13:05:40.393Z"
   },
   {
    "duration": 9,
    "start_time": "2021-07-15T13:05:40.398Z"
   },
   {
    "duration": 6,
    "start_time": "2021-07-15T13:05:40.408Z"
   },
   {
    "duration": 27,
    "start_time": "2021-07-15T13:05:40.415Z"
   },
   {
    "duration": 5,
    "start_time": "2021-07-15T13:05:40.443Z"
   },
   {
    "duration": 12,
    "start_time": "2021-07-15T13:05:40.449Z"
   },
   {
    "duration": 6933,
    "start_time": "2021-07-15T13:05:40.463Z"
   },
   {
    "duration": 2,
    "start_time": "2021-07-15T13:05:47.399Z"
   },
   {
    "duration": 12,
    "start_time": "2021-07-15T13:05:47.403Z"
   },
   {
    "duration": 11,
    "start_time": "2021-07-15T13:05:47.417Z"
   },
   {
    "duration": 9,
    "start_time": "2021-07-15T13:05:47.429Z"
   },
   {
    "duration": 15,
    "start_time": "2021-07-15T13:05:47.439Z"
   },
   {
    "duration": 47,
    "start_time": "2021-07-15T13:05:47.456Z"
   },
   {
    "duration": 21,
    "start_time": "2021-07-15T13:05:47.505Z"
   },
   {
    "duration": 20,
    "start_time": "2021-07-15T13:05:47.528Z"
   },
   {
    "duration": 10,
    "start_time": "2021-07-15T13:05:47.549Z"
   },
   {
    "duration": 32,
    "start_time": "2021-07-15T13:05:47.561Z"
   },
   {
    "duration": 4,
    "start_time": "2021-07-15T13:05:47.596Z"
   },
   {
    "duration": 6,
    "start_time": "2021-07-15T13:05:47.602Z"
   },
   {
    "duration": 33,
    "start_time": "2021-07-15T13:05:47.609Z"
   },
   {
    "duration": 7,
    "start_time": "2021-07-15T13:05:47.644Z"
   },
   {
    "duration": 480,
    "start_time": "2021-07-15T13:05:47.653Z"
   },
   {
    "duration": 552,
    "start_time": "2021-07-15T13:05:48.134Z"
   },
   {
    "duration": 4,
    "start_time": "2021-07-15T13:05:48.691Z"
   },
   {
    "duration": 7,
    "start_time": "2021-07-15T13:05:48.697Z"
   },
   {
    "duration": 11,
    "start_time": "2021-07-15T13:05:48.706Z"
   },
   {
    "duration": 77,
    "start_time": "2021-07-15T13:05:48.720Z"
   },
   {
    "duration": 92,
    "start_time": "2021-07-15T13:05:48.800Z"
   },
   {
    "duration": 6,
    "start_time": "2021-07-15T13:05:48.893Z"
   },
   {
    "duration": 6,
    "start_time": "2021-07-15T13:05:48.901Z"
   },
   {
    "duration": 83,
    "start_time": "2021-07-15T13:05:48.908Z"
   },
   {
    "duration": 7,
    "start_time": "2021-07-15T13:05:48.993Z"
   },
   {
    "duration": 3,
    "start_time": "2021-07-15T13:05:49.001Z"
   },
   {
    "duration": 86,
    "start_time": "2021-07-15T13:05:49.006Z"
   },
   {
    "duration": 5,
    "start_time": "2021-07-15T13:05:49.094Z"
   },
   {
    "duration": 8,
    "start_time": "2021-07-15T13:05:49.101Z"
   },
   {
    "duration": 97,
    "start_time": "2021-07-15T13:05:49.111Z"
   },
   {
    "duration": 93,
    "start_time": "2021-07-15T13:05:49.210Z"
   }
  ],
  "kernelspec": {
   "display_name": "Python 3",
   "language": "python",
   "name": "python3"
  },
  "language_info": {
   "codemirror_mode": {
    "name": "ipython",
    "version": 3
   },
   "file_extension": ".py",
   "mimetype": "text/x-python",
   "name": "python",
   "nbconvert_exporter": "python",
   "pygments_lexer": "ipython3",
   "version": "3.8.10"
  },
  "toc": {
   "base_numbering": 1,
   "nav_menu": {},
   "number_sections": true,
   "sideBar": true,
   "skip_h1_title": true,
   "title_cell": "Table of Contents",
   "title_sidebar": "Contents",
   "toc_cell": false,
   "toc_position": {
    "height": "calc(100% - 180px)",
    "left": "10px",
    "top": "150px",
    "width": "165px"
   },
   "toc_section_display": true,
   "toc_window_display": true
  }
 },
 "nbformat": 4,
 "nbformat_minor": 4
}
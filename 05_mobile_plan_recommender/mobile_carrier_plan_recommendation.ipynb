{
 "cells": [
  {
   "cell_type": "markdown",
   "source": [
    "# Recommendation of new plan for users of Megaline depending on user behavior"
   ],
   "metadata": {
    "collapsed": false,
    "pycharm": {
     "name": "#%% md\n"
    }
   }
  },
  {
   "cell_type": "markdown",
   "metadata": {},
   "source": [
    "## 1. Loading data file\n",
    "All necessary Python libraries will be imported in this step. Then, data file will be loaded and check for issues, if any!"
   ]
  },
  {
   "cell_type": "code",
   "execution_count": 29,
   "metadata": {},
   "outputs": [],
   "source": [
    "# required libraries\n",
    "import pandas as pd\n",
    "import numpy as np\n",
    "from sklearn.model_selection import train_test_split\n",
    "from sklearn.tree import DecisionTreeClassifier\n",
    "from sklearn.ensemble import RandomForestClassifier\n",
    "from sklearn.linear_model import LogisticRegression\n",
    "from sklearn.metrics import accuracy_score\n",
    "import matplotlib.pyplot as plt\n",
    "import seaborn as sns"
   ]
  },
  {
   "cell_type": "code",
   "execution_count": 30,
   "metadata": {},
   "outputs": [
    {
     "data": {
      "text/html": [
       "<div>\n",
       "<style scoped>\n",
       "    .dataframe tbody tr th:only-of-type {\n",
       "        vertical-align: middle;\n",
       "    }\n",
       "\n",
       "    .dataframe tbody tr th {\n",
       "        vertical-align: top;\n",
       "    }\n",
       "\n",
       "    .dataframe thead th {\n",
       "        text-align: right;\n",
       "    }\n",
       "</style>\n",
       "<table border=\"1\" class=\"dataframe\">\n",
       "  <thead>\n",
       "    <tr style=\"text-align: right;\">\n",
       "      <th></th>\n",
       "      <th>calls</th>\n",
       "      <th>minutes</th>\n",
       "      <th>messages</th>\n",
       "      <th>mb_used</th>\n",
       "      <th>is_ultra</th>\n",
       "    </tr>\n",
       "  </thead>\n",
       "  <tbody>\n",
       "    <tr>\n",
       "      <th>0</th>\n",
       "      <td>40.0</td>\n",
       "      <td>311.90</td>\n",
       "      <td>83.0</td>\n",
       "      <td>19915.42</td>\n",
       "      <td>0</td>\n",
       "    </tr>\n",
       "    <tr>\n",
       "      <th>1</th>\n",
       "      <td>85.0</td>\n",
       "      <td>516.75</td>\n",
       "      <td>56.0</td>\n",
       "      <td>22696.96</td>\n",
       "      <td>0</td>\n",
       "    </tr>\n",
       "    <tr>\n",
       "      <th>2</th>\n",
       "      <td>77.0</td>\n",
       "      <td>467.66</td>\n",
       "      <td>86.0</td>\n",
       "      <td>21060.45</td>\n",
       "      <td>0</td>\n",
       "    </tr>\n",
       "    <tr>\n",
       "      <th>3</th>\n",
       "      <td>106.0</td>\n",
       "      <td>745.53</td>\n",
       "      <td>81.0</td>\n",
       "      <td>8437.39</td>\n",
       "      <td>1</td>\n",
       "    </tr>\n",
       "    <tr>\n",
       "      <th>4</th>\n",
       "      <td>66.0</td>\n",
       "      <td>418.74</td>\n",
       "      <td>1.0</td>\n",
       "      <td>14502.75</td>\n",
       "      <td>0</td>\n",
       "    </tr>\n",
       "  </tbody>\n",
       "</table>\n",
       "</div>"
      ],
      "text/plain": [
       "   calls  minutes  messages   mb_used  is_ultra\n",
       "0   40.0   311.90      83.0  19915.42         0\n",
       "1   85.0   516.75      56.0  22696.96         0\n",
       "2   77.0   467.66      86.0  21060.45         0\n",
       "3  106.0   745.53      81.0   8437.39         1\n",
       "4   66.0   418.74       1.0  14502.75         0"
      ]
     },
     "execution_count": 30,
     "metadata": {},
     "output_type": "execute_result"
    }
   ],
   "source": [
    "df=pd.read_csv('users_behavior.csv')\n",
    "df.head()"
   ]
  },
  {
   "cell_type": "code",
   "execution_count": 31,
   "metadata": {
    "scrolled": true
   },
   "outputs": [
    {
     "name": "stdout",
     "output_type": "stream",
     "text": [
      "<class 'pandas.core.frame.DataFrame'>\n",
      "RangeIndex: 3214 entries, 0 to 3213\n",
      "Data columns (total 5 columns):\n",
      " #   Column    Non-Null Count  Dtype  \n",
      "---  ------    --------------  -----  \n",
      " 0   calls     3214 non-null   float64\n",
      " 1   minutes   3214 non-null   float64\n",
      " 2   messages  3214 non-null   float64\n",
      " 3   mb_used   3214 non-null   float64\n",
      " 4   is_ultra  3214 non-null   int64  \n",
      "dtypes: float64(4), int64(1)\n",
      "memory usage: 125.7 KB\n"
     ]
    }
   ],
   "source": [
    "df.info()"
   ]
  },
  {
   "cell_type": "code",
   "execution_count": 32,
   "metadata": {
    "scrolled": true
   },
   "outputs": [
    {
     "data": {
      "text/html": [
       "<div>\n",
       "<style scoped>\n",
       "    .dataframe tbody tr th:only-of-type {\n",
       "        vertical-align: middle;\n",
       "    }\n",
       "\n",
       "    .dataframe tbody tr th {\n",
       "        vertical-align: top;\n",
       "    }\n",
       "\n",
       "    .dataframe thead th {\n",
       "        text-align: right;\n",
       "    }\n",
       "</style>\n",
       "<table border=\"1\" class=\"dataframe\">\n",
       "  <thead>\n",
       "    <tr style=\"text-align: right;\">\n",
       "      <th></th>\n",
       "      <th>calls</th>\n",
       "      <th>minutes</th>\n",
       "      <th>messages</th>\n",
       "      <th>mb_used</th>\n",
       "      <th>is_ultra</th>\n",
       "    </tr>\n",
       "  </thead>\n",
       "  <tbody>\n",
       "    <tr>\n",
       "      <th>count</th>\n",
       "      <td>3214.000000</td>\n",
       "      <td>3214.000000</td>\n",
       "      <td>3214.000000</td>\n",
       "      <td>3214.000000</td>\n",
       "      <td>3214.000000</td>\n",
       "    </tr>\n",
       "    <tr>\n",
       "      <th>mean</th>\n",
       "      <td>63.038892</td>\n",
       "      <td>438.208787</td>\n",
       "      <td>38.281269</td>\n",
       "      <td>17207.673836</td>\n",
       "      <td>0.306472</td>\n",
       "    </tr>\n",
       "    <tr>\n",
       "      <th>std</th>\n",
       "      <td>33.236368</td>\n",
       "      <td>234.569872</td>\n",
       "      <td>36.148326</td>\n",
       "      <td>7570.968246</td>\n",
       "      <td>0.461100</td>\n",
       "    </tr>\n",
       "    <tr>\n",
       "      <th>min</th>\n",
       "      <td>0.000000</td>\n",
       "      <td>0.000000</td>\n",
       "      <td>0.000000</td>\n",
       "      <td>0.000000</td>\n",
       "      <td>0.000000</td>\n",
       "    </tr>\n",
       "    <tr>\n",
       "      <th>25%</th>\n",
       "      <td>40.000000</td>\n",
       "      <td>274.575000</td>\n",
       "      <td>9.000000</td>\n",
       "      <td>12491.902500</td>\n",
       "      <td>0.000000</td>\n",
       "    </tr>\n",
       "    <tr>\n",
       "      <th>50%</th>\n",
       "      <td>62.000000</td>\n",
       "      <td>430.600000</td>\n",
       "      <td>30.000000</td>\n",
       "      <td>16943.235000</td>\n",
       "      <td>0.000000</td>\n",
       "    </tr>\n",
       "    <tr>\n",
       "      <th>75%</th>\n",
       "      <td>82.000000</td>\n",
       "      <td>571.927500</td>\n",
       "      <td>57.000000</td>\n",
       "      <td>21424.700000</td>\n",
       "      <td>1.000000</td>\n",
       "    </tr>\n",
       "    <tr>\n",
       "      <th>max</th>\n",
       "      <td>244.000000</td>\n",
       "      <td>1632.060000</td>\n",
       "      <td>224.000000</td>\n",
       "      <td>49745.730000</td>\n",
       "      <td>1.000000</td>\n",
       "    </tr>\n",
       "  </tbody>\n",
       "</table>\n",
       "</div>"
      ],
      "text/plain": [
       "             calls      minutes     messages       mb_used     is_ultra\n",
       "count  3214.000000  3214.000000  3214.000000   3214.000000  3214.000000\n",
       "mean     63.038892   438.208787    38.281269  17207.673836     0.306472\n",
       "std      33.236368   234.569872    36.148326   7570.968246     0.461100\n",
       "min       0.000000     0.000000     0.000000      0.000000     0.000000\n",
       "25%      40.000000   274.575000     9.000000  12491.902500     0.000000\n",
       "50%      62.000000   430.600000    30.000000  16943.235000     0.000000\n",
       "75%      82.000000   571.927500    57.000000  21424.700000     1.000000\n",
       "max     244.000000  1632.060000   224.000000  49745.730000     1.000000"
      ]
     },
     "execution_count": 32,
     "metadata": {},
     "output_type": "execute_result"
    }
   ],
   "source": [
    "df.describe()"
   ]
  },
  {
   "cell_type": "code",
   "execution_count": 33,
   "metadata": {},
   "outputs": [
    {
     "data": {
      "text/plain": [
       "calls       0\n",
       "minutes     0\n",
       "messages    0\n",
       "mb_used     0\n",
       "is_ultra    0\n",
       "dtype: int64"
      ]
     },
     "execution_count": 33,
     "metadata": {},
     "output_type": "execute_result"
    }
   ],
   "source": [
    "df.isna().sum()"
   ]
  },
  {
   "cell_type": "code",
   "execution_count": 34,
   "metadata": {
    "scrolled": true
   },
   "outputs": [
    {
     "data": {
      "text/plain": [
       "0"
      ]
     },
     "execution_count": 34,
     "metadata": {},
     "output_type": "execute_result"
    }
   ],
   "source": [
    "df.duplicated().sum()"
   ]
  },
  {
   "cell_type": "code",
   "execution_count": 35,
   "metadata": {},
   "outputs": [
    {
     "data": {
      "text/html": [
       "<style  type=\"text/css\" >\n",
       "#T_cdbb051c_d03e_11eb_8807_3c77e6ef43aarow0_col0,#T_cdbb051c_d03e_11eb_8807_3c77e6ef43aarow1_col1,#T_cdbb051c_d03e_11eb_8807_3c77e6ef43aarow2_col2,#T_cdbb051c_d03e_11eb_8807_3c77e6ef43aarow3_col3,#T_cdbb051c_d03e_11eb_8807_3c77e6ef43aarow4_col4{\n",
       "            background-color:  #023858;\n",
       "            color:  #f1f1f1;\n",
       "        }#T_cdbb051c_d03e_11eb_8807_3c77e6ef43aarow0_col1,#T_cdbb051c_d03e_11eb_8807_3c77e6ef43aarow1_col0{\n",
       "            background-color:  #023d60;\n",
       "            color:  #f1f1f1;\n",
       "        }#T_cdbb051c_d03e_11eb_8807_3c77e6ef43aarow0_col2,#T_cdbb051c_d03e_11eb_8807_3c77e6ef43aarow1_col2,#T_cdbb051c_d03e_11eb_8807_3c77e6ef43aarow2_col1,#T_cdbb051c_d03e_11eb_8807_3c77e6ef43aarow3_col2,#T_cdbb051c_d03e_11eb_8807_3c77e6ef43aarow3_col4,#T_cdbb051c_d03e_11eb_8807_3c77e6ef43aarow4_col3{\n",
       "            background-color:  #fff7fb;\n",
       "            color:  #000000;\n",
       "        }#T_cdbb051c_d03e_11eb_8807_3c77e6ef43aarow0_col3,#T_cdbb051c_d03e_11eb_8807_3c77e6ef43aarow1_col3{\n",
       "            background-color:  #ebe6f2;\n",
       "            color:  #000000;\n",
       "        }#T_cdbb051c_d03e_11eb_8807_3c77e6ef43aarow0_col4,#T_cdbb051c_d03e_11eb_8807_3c77e6ef43aarow2_col4{\n",
       "            background-color:  #faf2f8;\n",
       "            color:  #000000;\n",
       "        }#T_cdbb051c_d03e_11eb_8807_3c77e6ef43aarow1_col4{\n",
       "            background-color:  #f9f2f8;\n",
       "            color:  #000000;\n",
       "        }#T_cdbb051c_d03e_11eb_8807_3c77e6ef43aarow2_col0,#T_cdbb051c_d03e_11eb_8807_3c77e6ef43aarow4_col2{\n",
       "            background-color:  #fef6fb;\n",
       "            color:  #000000;\n",
       "        }#T_cdbb051c_d03e_11eb_8807_3c77e6ef43aarow2_col3{\n",
       "            background-color:  #fbf3f9;\n",
       "            color:  #000000;\n",
       "        }#T_cdbb051c_d03e_11eb_8807_3c77e6ef43aarow3_col0{\n",
       "            background-color:  #eee9f3;\n",
       "            color:  #000000;\n",
       "        }#T_cdbb051c_d03e_11eb_8807_3c77e6ef43aarow3_col1{\n",
       "            background-color:  #efe9f3;\n",
       "            color:  #000000;\n",
       "        }#T_cdbb051c_d03e_11eb_8807_3c77e6ef43aarow4_col0,#T_cdbb051c_d03e_11eb_8807_3c77e6ef43aarow4_col1{\n",
       "            background-color:  #fef6fa;\n",
       "            color:  #000000;\n",
       "        }</style><table id=\"T_cdbb051c_d03e_11eb_8807_3c77e6ef43aa\" ><thead>    <tr>        <th class=\"blank level0\" ></th>        <th class=\"col_heading level0 col0\" >calls</th>        <th class=\"col_heading level0 col1\" >minutes</th>        <th class=\"col_heading level0 col2\" >messages</th>        <th class=\"col_heading level0 col3\" >mb_used</th>        <th class=\"col_heading level0 col4\" >is_ultra</th>    </tr></thead><tbody>\n",
       "                <tr>\n",
       "                        <th id=\"T_cdbb051c_d03e_11eb_8807_3c77e6ef43aalevel0_row0\" class=\"row_heading level0 row0\" >calls</th>\n",
       "                        <td id=\"T_cdbb051c_d03e_11eb_8807_3c77e6ef43aarow0_col0\" class=\"data row0 col0\" >1.000000</td>\n",
       "                        <td id=\"T_cdbb051c_d03e_11eb_8807_3c77e6ef43aarow0_col1\" class=\"data row0 col1\" >0.982000</td>\n",
       "                        <td id=\"T_cdbb051c_d03e_11eb_8807_3c77e6ef43aarow0_col2\" class=\"data row0 col2\" >0.177000</td>\n",
       "                        <td id=\"T_cdbb051c_d03e_11eb_8807_3c77e6ef43aarow0_col3\" class=\"data row0 col3\" >0.286000</td>\n",
       "                        <td id=\"T_cdbb051c_d03e_11eb_8807_3c77e6ef43aarow0_col4\" class=\"data row0 col4\" >0.207000</td>\n",
       "            </tr>\n",
       "            <tr>\n",
       "                        <th id=\"T_cdbb051c_d03e_11eb_8807_3c77e6ef43aalevel0_row1\" class=\"row_heading level0 row1\" >minutes</th>\n",
       "                        <td id=\"T_cdbb051c_d03e_11eb_8807_3c77e6ef43aarow1_col0\" class=\"data row1 col0\" >0.982000</td>\n",
       "                        <td id=\"T_cdbb051c_d03e_11eb_8807_3c77e6ef43aarow1_col1\" class=\"data row1 col1\" >1.000000</td>\n",
       "                        <td id=\"T_cdbb051c_d03e_11eb_8807_3c77e6ef43aarow1_col2\" class=\"data row1 col2\" >0.173000</td>\n",
       "                        <td id=\"T_cdbb051c_d03e_11eb_8807_3c77e6ef43aarow1_col3\" class=\"data row1 col3\" >0.281000</td>\n",
       "                        <td id=\"T_cdbb051c_d03e_11eb_8807_3c77e6ef43aarow1_col4\" class=\"data row1 col4\" >0.207000</td>\n",
       "            </tr>\n",
       "            <tr>\n",
       "                        <th id=\"T_cdbb051c_d03e_11eb_8807_3c77e6ef43aalevel0_row2\" class=\"row_heading level0 row2\" >messages</th>\n",
       "                        <td id=\"T_cdbb051c_d03e_11eb_8807_3c77e6ef43aarow2_col0\" class=\"data row2 col0\" >0.177000</td>\n",
       "                        <td id=\"T_cdbb051c_d03e_11eb_8807_3c77e6ef43aarow2_col1\" class=\"data row2 col1\" >0.173000</td>\n",
       "                        <td id=\"T_cdbb051c_d03e_11eb_8807_3c77e6ef43aarow2_col2\" class=\"data row2 col2\" >1.000000</td>\n",
       "                        <td id=\"T_cdbb051c_d03e_11eb_8807_3c77e6ef43aarow2_col3\" class=\"data row2 col3\" >0.196000</td>\n",
       "                        <td id=\"T_cdbb051c_d03e_11eb_8807_3c77e6ef43aarow2_col4\" class=\"data row2 col4\" >0.204000</td>\n",
       "            </tr>\n",
       "            <tr>\n",
       "                        <th id=\"T_cdbb051c_d03e_11eb_8807_3c77e6ef43aalevel0_row3\" class=\"row_heading level0 row3\" >mb_used</th>\n",
       "                        <td id=\"T_cdbb051c_d03e_11eb_8807_3c77e6ef43aarow3_col0\" class=\"data row3 col0\" >0.286000</td>\n",
       "                        <td id=\"T_cdbb051c_d03e_11eb_8807_3c77e6ef43aarow3_col1\" class=\"data row3 col1\" >0.281000</td>\n",
       "                        <td id=\"T_cdbb051c_d03e_11eb_8807_3c77e6ef43aarow3_col2\" class=\"data row3 col2\" >0.196000</td>\n",
       "                        <td id=\"T_cdbb051c_d03e_11eb_8807_3c77e6ef43aarow3_col3\" class=\"data row3 col3\" >1.000000</td>\n",
       "                        <td id=\"T_cdbb051c_d03e_11eb_8807_3c77e6ef43aarow3_col4\" class=\"data row3 col4\" >0.199000</td>\n",
       "            </tr>\n",
       "            <tr>\n",
       "                        <th id=\"T_cdbb051c_d03e_11eb_8807_3c77e6ef43aalevel0_row4\" class=\"row_heading level0 row4\" >is_ultra</th>\n",
       "                        <td id=\"T_cdbb051c_d03e_11eb_8807_3c77e6ef43aarow4_col0\" class=\"data row4 col0\" >0.207000</td>\n",
       "                        <td id=\"T_cdbb051c_d03e_11eb_8807_3c77e6ef43aarow4_col1\" class=\"data row4 col1\" >0.207000</td>\n",
       "                        <td id=\"T_cdbb051c_d03e_11eb_8807_3c77e6ef43aarow4_col2\" class=\"data row4 col2\" >0.204000</td>\n",
       "                        <td id=\"T_cdbb051c_d03e_11eb_8807_3c77e6ef43aarow4_col3\" class=\"data row4 col3\" >0.199000</td>\n",
       "                        <td id=\"T_cdbb051c_d03e_11eb_8807_3c77e6ef43aarow4_col4\" class=\"data row4 col4\" >1.000000</td>\n",
       "            </tr>\n",
       "    </tbody></table>"
      ],
      "text/plain": [
       "<pandas.io.formats.style.Styler at 0x2b62a9e44f0>"
      ]
     },
     "execution_count": 35,
     "metadata": {},
     "output_type": "execute_result"
    }
   ],
   "source": [
    "#check correlation betwwen columns\n",
    "df.corr(method='pearson').round(3).style.background_gradient(axis=1)"
   ]
  },
  {
   "cell_type": "code",
   "execution_count": 37,
   "metadata": {},
   "outputs": [
    {
     "data": {
      "text/html": [
       "<div>\n",
       "<style scoped>\n",
       "    .dataframe tbody tr th:only-of-type {\n",
       "        vertical-align: middle;\n",
       "    }\n",
       "\n",
       "    .dataframe tbody tr th {\n",
       "        vertical-align: top;\n",
       "    }\n",
       "\n",
       "    .dataframe thead th {\n",
       "        text-align: right;\n",
       "    }\n",
       "</style>\n",
       "<table border=\"1\" class=\"dataframe\">\n",
       "  <thead>\n",
       "    <tr style=\"text-align: right;\">\n",
       "      <th></th>\n",
       "      <th>calls</th>\n",
       "      <th>messages</th>\n",
       "      <th>mb_used</th>\n",
       "      <th>is_ultra</th>\n",
       "    </tr>\n",
       "  </thead>\n",
       "  <tbody>\n",
       "    <tr>\n",
       "      <th>0</th>\n",
       "      <td>40.0</td>\n",
       "      <td>83.0</td>\n",
       "      <td>19915.42</td>\n",
       "      <td>0</td>\n",
       "    </tr>\n",
       "    <tr>\n",
       "      <th>1</th>\n",
       "      <td>85.0</td>\n",
       "      <td>56.0</td>\n",
       "      <td>22696.96</td>\n",
       "      <td>0</td>\n",
       "    </tr>\n",
       "    <tr>\n",
       "      <th>2</th>\n",
       "      <td>77.0</td>\n",
       "      <td>86.0</td>\n",
       "      <td>21060.45</td>\n",
       "      <td>0</td>\n",
       "    </tr>\n",
       "    <tr>\n",
       "      <th>3</th>\n",
       "      <td>106.0</td>\n",
       "      <td>81.0</td>\n",
       "      <td>8437.39</td>\n",
       "      <td>1</td>\n",
       "    </tr>\n",
       "    <tr>\n",
       "      <th>4</th>\n",
       "      <td>66.0</td>\n",
       "      <td>1.0</td>\n",
       "      <td>14502.75</td>\n",
       "      <td>0</td>\n",
       "    </tr>\n",
       "  </tbody>\n",
       "</table>\n",
       "</div>"
      ],
      "text/plain": [
       "   calls  messages   mb_used  is_ultra\n",
       "0   40.0      83.0  19915.42         0\n",
       "1   85.0      56.0  22696.96         0\n",
       "2   77.0      86.0  21060.45         0\n",
       "3  106.0      81.0   8437.39         1\n",
       "4   66.0       1.0  14502.75         0"
      ]
     },
     "execution_count": 37,
     "metadata": {},
     "output_type": "execute_result"
    }
   ],
   "source": [
    "#correlation between calls and minutes columns were so high, thereby one was dropped\n",
    "df=df.drop('minutes', axis=1)\n",
    "df.head()"
   ]
  },
  {
   "cell_type": "markdown",
   "metadata": {},
   "source": [
    "### 1.1 Conclusion\n",
    "Data (with 5 columns and 3214 rows) has been successfully loaded and check for missing values, data types, duplicates and for other possible issues. No critical issue has been observed so far. We are ready to split our data into training and validation datasets."
   ]
  },
  {
   "cell_type": "markdown",
   "metadata": {},
   "source": [
    "## 2. Splitting into training, validation and testing sets"
   ]
  },
  {
   "cell_type": "code",
   "execution_count": 38,
   "metadata": {},
   "outputs": [
    {
     "name": "stdout",
     "output_type": "stream",
     "text": [
      "Ratios of each dataset to full data: \n",
      "Training: 0.6 \n",
      "Validation: 0.2 \n",
      "Test: 0.2\n"
     ]
    }
   ],
   "source": [
    "# get training data as 60% of full data\n",
    "df_train, df_rest = train_test_split(df, test_size=0.4, random_state=234) #assign random=234 to replicate\n",
    "\n",
    "# now divide rest into two parts to get validation and test datasets\n",
    "df_valid, df_test = train_test_split(df_rest, test_size=0.5, random_state=234)\n",
    "\n",
    "#check the ratio of each dataset to full dataset\n",
    "ratios=(round(len(df_train)/len(df), 2),\n",
    "        round(len(df_valid)/len(df), 2),\n",
    "        round(len(df_test)/len(df), 2))\n",
    "print('Ratios of each dataset to full data: \\nTraining:', ratios[0], '\\nValidation:', ratios[1], '\\nTest:', ratios[2])"
   ]
  },
  {
   "cell_type": "code",
   "execution_count": 39,
   "metadata": {},
   "outputs": [
    {
     "name": "stdout",
     "output_type": "stream",
     "text": [
      "Mission complete!\n"
     ]
    }
   ],
   "source": [
    "#prepare feature and target data for each dataset\n",
    "#training dataset\n",
    "try:\n",
    "    features_train=df_train.drop('is_ultra', axis=1)\n",
    "    target_train=df_train['is_ultra']\n",
    "\n",
    "    #validation dataset\n",
    "    features_valid=df_valid.drop('is_ultra', axis=1)\n",
    "    target_valid=df_valid['is_ultra']\n",
    "\n",
    "\n",
    "    #testing dataset\n",
    "    features_test=df_test.drop('is_ultra', axis=1)\n",
    "    target_test=df_test['is_ultra']\n",
    "    print('Mission complete!')\n",
    "except:\n",
    "    print('Something went wrong!')"
   ]
  },
  {
   "cell_type": "markdown",
   "metadata": {},
   "source": [
    "### 2.1 Conclusion\n",
    "We have been provided with only one dataset, there is no test dataset. Hence we will divide our whole data into three parts: training, validation and testing datasets with ratios of 3:1:1. With the `train_test_split` function of the SKlearn library, we can divide data into two parts only. Therefore, first, we will produce a training dataset consisting of 60% of the whole data, then divide the rest into two equal parts, where each will make 20% of whole data.\n",
    "\n",
    "We have to build a model that suggests either the **Ultra** or the **Smart** plan, depending on how many `calls, minutes, messages and internet` used by a subscriber.  So, the `is_ultra` column is our target, and the `calls, minutes, messages and internet` columns are our features. Features and target data has been prepared for the training, validation and testing datasets. "
   ]
  },
  {
   "cell_type": "markdown",
   "metadata": {},
   "source": [
    "## 3. Applying different models\n",
    "Our model should tell us 1 if a subscriber needs the **Ultra** plan, or 0 if a subscriber needs the **Smart** plan. Hence, we will build a classification model. We will use DecisionTreeClassifier, RandomForestClassifier and LogisticRegression classification models of sklearn. We will tune basic but important hyperparameters of each model and compare their accuracy."
   ]
  },
  {
   "cell_type": "markdown",
   "metadata": {},
   "source": [
    "### 3.1 DecisionTreeClassifier"
   ]
  },
  {
   "cell_type": "code",
   "execution_count": 40,
   "metadata": {},
   "outputs": [],
   "source": [
    "#build a decision tree model using different max_depth values and compare the accuracies\n",
    "#instead of trying each one by one, do it in for loop\n",
    "depth=[]      #list for max_depth values\n",
    "dt_accu_t=[]  #list for accuracy of training data\n",
    "dt_accu_v=[]  #list for accuracy of validation data\n",
    "for i in range(1,10):\n",
    "    dt_model=DecisionTreeClassifier(random_state=234, max_depth=i)\n",
    "    dt_model.fit(features_train, target_train)\n",
    "    dt_accu_v.append(dt_model.score(features_valid, target_valid))\n",
    "    dt_accu_t.append(dt_model.score(features_train, target_train))\n",
    "    depth.append(i)"
   ]
  },
  {
   "cell_type": "code",
   "execution_count": 41,
   "metadata": {},
   "outputs": [],
   "source": [
    "# build a function, that makes a table for easy visualition using hyperparameter value, accuracy of the model using\\\n",
    "#training data and validation data\n",
    "def scorer(train, valid, col):\n",
    "    scores=pd.DataFrame([train, valid], columns=col, index=['train', 'valid'])\\\n",
    "        .round(3).style.background_gradient(axis=1)\n",
    "    return scores"
   ]
  },
  {
   "cell_type": "code",
   "execution_count": 42,
   "metadata": {},
   "outputs": [
    {
     "data": {
      "text/html": [
       "<style  type=\"text/css\" >\n",
       "#T_e34eb2f1_d03e_11eb_9838_3c77e6ef43aarow0_col0,#T_e34eb2f1_d03e_11eb_9838_3c77e6ef43aarow1_col0{\n",
       "            background-color:  #fff7fb;\n",
       "            color:  #000000;\n",
       "        }#T_e34eb2f1_d03e_11eb_9838_3c77e6ef43aarow0_col1{\n",
       "            background-color:  #cdd0e5;\n",
       "            color:  #000000;\n",
       "        }#T_e34eb2f1_d03e_11eb_9838_3c77e6ef43aarow0_col2{\n",
       "            background-color:  #9cb9d9;\n",
       "            color:  #000000;\n",
       "        }#T_e34eb2f1_d03e_11eb_9838_3c77e6ef43aarow0_col3{\n",
       "            background-color:  #6da6cd;\n",
       "            color:  #000000;\n",
       "        }#T_e34eb2f1_d03e_11eb_9838_3c77e6ef43aarow0_col4{\n",
       "            background-color:  #4c99c5;\n",
       "            color:  #000000;\n",
       "        }#T_e34eb2f1_d03e_11eb_9838_3c77e6ef43aarow0_col5{\n",
       "            background-color:  #328dbf;\n",
       "            color:  #000000;\n",
       "        }#T_e34eb2f1_d03e_11eb_9838_3c77e6ef43aarow0_col6{\n",
       "            background-color:  #056ba9;\n",
       "            color:  #f1f1f1;\n",
       "        }#T_e34eb2f1_d03e_11eb_9838_3c77e6ef43aarow0_col7,#T_e34eb2f1_d03e_11eb_9838_3c77e6ef43aarow1_col4{\n",
       "            background-color:  #03517e;\n",
       "            color:  #f1f1f1;\n",
       "        }#T_e34eb2f1_d03e_11eb_9838_3c77e6ef43aarow0_col8,#T_e34eb2f1_d03e_11eb_9838_3c77e6ef43aarow1_col3{\n",
       "            background-color:  #023858;\n",
       "            color:  #f1f1f1;\n",
       "        }#T_e34eb2f1_d03e_11eb_9838_3c77e6ef43aarow1_col1{\n",
       "            background-color:  #0f76b3;\n",
       "            color:  #f1f1f1;\n",
       "        }#T_e34eb2f1_d03e_11eb_9838_3c77e6ef43aarow1_col2{\n",
       "            background-color:  #04649e;\n",
       "            color:  #f1f1f1;\n",
       "        }#T_e34eb2f1_d03e_11eb_9838_3c77e6ef43aarow1_col5{\n",
       "            background-color:  #0872b1;\n",
       "            color:  #f1f1f1;\n",
       "        }#T_e34eb2f1_d03e_11eb_9838_3c77e6ef43aarow1_col6{\n",
       "            background-color:  #045f95;\n",
       "            color:  #f1f1f1;\n",
       "        }#T_e34eb2f1_d03e_11eb_9838_3c77e6ef43aarow1_col7,#T_e34eb2f1_d03e_11eb_9838_3c77e6ef43aarow1_col8{\n",
       "            background-color:  #348ebf;\n",
       "            color:  #000000;\n",
       "        }</style><table id=\"T_e34eb2f1_d03e_11eb_9838_3c77e6ef43aa\" ><thead>    <tr>        <th class=\"blank level0\" ></th>        <th class=\"col_heading level0 col0\" >1</th>        <th class=\"col_heading level0 col1\" >2</th>        <th class=\"col_heading level0 col2\" >3</th>        <th class=\"col_heading level0 col3\" >4</th>        <th class=\"col_heading level0 col4\" >5</th>        <th class=\"col_heading level0 col5\" >6</th>        <th class=\"col_heading level0 col6\" >7</th>        <th class=\"col_heading level0 col7\" >8</th>        <th class=\"col_heading level0 col8\" >9</th>    </tr></thead><tbody>\n",
       "                <tr>\n",
       "                        <th id=\"T_e34eb2f1_d03e_11eb_9838_3c77e6ef43aalevel0_row0\" class=\"row_heading level0 row0\" >train</th>\n",
       "                        <td id=\"T_e34eb2f1_d03e_11eb_9838_3c77e6ef43aarow0_col0\" class=\"data row0 col0\" >0.767000</td>\n",
       "                        <td id=\"T_e34eb2f1_d03e_11eb_9838_3c77e6ef43aarow0_col1\" class=\"data row0 col1\" >0.795000</td>\n",
       "                        <td id=\"T_e34eb2f1_d03e_11eb_9838_3c77e6ef43aarow0_col2\" class=\"data row0 col2\" >0.810000</td>\n",
       "                        <td id=\"T_e34eb2f1_d03e_11eb_9838_3c77e6ef43aarow0_col3\" class=\"data row0 col3\" >0.822000</td>\n",
       "                        <td id=\"T_e34eb2f1_d03e_11eb_9838_3c77e6ef43aarow0_col4\" class=\"data row0 col4\" >0.829000</td>\n",
       "                        <td id=\"T_e34eb2f1_d03e_11eb_9838_3c77e6ef43aarow0_col5\" class=\"data row0 col5\" >0.835000</td>\n",
       "                        <td id=\"T_e34eb2f1_d03e_11eb_9838_3c77e6ef43aarow0_col6\" class=\"data row0 col6\" >0.850000</td>\n",
       "                        <td id=\"T_e34eb2f1_d03e_11eb_9838_3c77e6ef43aarow0_col7\" class=\"data row0 col7\" >0.864000</td>\n",
       "                        <td id=\"T_e34eb2f1_d03e_11eb_9838_3c77e6ef43aarow0_col8\" class=\"data row0 col8\" >0.874000</td>\n",
       "            </tr>\n",
       "            <tr>\n",
       "                        <th id=\"T_e34eb2f1_d03e_11eb_9838_3c77e6ef43aalevel0_row1\" class=\"row_heading level0 row1\" >valid</th>\n",
       "                        <td id=\"T_e34eb2f1_d03e_11eb_9838_3c77e6ef43aarow1_col0\" class=\"data row1 col0\" >0.723000</td>\n",
       "                        <td id=\"T_e34eb2f1_d03e_11eb_9838_3c77e6ef43aarow1_col1\" class=\"data row1 col1\" >0.770000</td>\n",
       "                        <td id=\"T_e34eb2f1_d03e_11eb_9838_3c77e6ef43aarow1_col2\" class=\"data row1 col2\" >0.776000</td>\n",
       "                        <td id=\"T_e34eb2f1_d03e_11eb_9838_3c77e6ef43aarow1_col3\" class=\"data row1 col3\" >0.788000</td>\n",
       "                        <td id=\"T_e34eb2f1_d03e_11eb_9838_3c77e6ef43aarow1_col4\" class=\"data row1 col4\" >0.782000</td>\n",
       "                        <td id=\"T_e34eb2f1_d03e_11eb_9838_3c77e6ef43aarow1_col5\" class=\"data row1 col5\" >0.771000</td>\n",
       "                        <td id=\"T_e34eb2f1_d03e_11eb_9838_3c77e6ef43aarow1_col6\" class=\"data row1 col6\" >0.778000</td>\n",
       "                        <td id=\"T_e34eb2f1_d03e_11eb_9838_3c77e6ef43aarow1_col7\" class=\"data row1 col7\" >0.764000</td>\n",
       "                        <td id=\"T_e34eb2f1_d03e_11eb_9838_3c77e6ef43aarow1_col8\" class=\"data row1 col8\" >0.764000</td>\n",
       "            </tr>\n",
       "    </tbody></table>"
      ],
      "text/plain": [
       "<pandas.io.formats.style.Styler at 0x2b6300b3af0>"
      ]
     },
     "execution_count": 42,
     "metadata": {},
     "output_type": "execute_result"
    }
   ],
   "source": [
    "#table of max_depth and accuracy values\n",
    "dt_scores=scorer(dt_accu_t, dt_accu_v, depth)\n",
    "dt_scores"
   ]
  },
  {
   "cell_type": "markdown",
   "metadata": {},
   "source": [
    "### 3.2 RandomForestClassifier"
   ]
  },
  {
   "cell_type": "code",
   "execution_count": 43,
   "metadata": {},
   "outputs": [],
   "source": [
    "#build a RandomForest model using different number of trees (n_estimators), compare accuracy scores \n",
    "rf_accu_v=[]\n",
    "rf_accu_t=[]\n",
    "estimators=[1, 10 , 20, 30, 40, 50, 60, 70, 80, 90, 100]\n",
    "for i in estimators:\n",
    "    rf_model=RandomForestClassifier(random_state=234, n_estimators=i)\n",
    "    rf_model.fit(features_train, target_train)\n",
    "    rf_accu_v.append(rf_model.score(features_valid, target_valid))\n",
    "    rf_accu_t.append(rf_model.score(features_train, target_train))"
   ]
  },
  {
   "cell_type": "code",
   "execution_count": 44,
   "metadata": {},
   "outputs": [
    {
     "data": {
      "text/html": [
       "<style  type=\"text/css\" >\n",
       "#T_e72124c3_d03e_11eb_b1b1_3c77e6ef43aarow0_col0,#T_e72124c3_d03e_11eb_b1b1_3c77e6ef43aarow1_col0{\n",
       "            background-color:  #fff7fb;\n",
       "            color:  #000000;\n",
       "        }#T_e72124c3_d03e_11eb_b1b1_3c77e6ef43aarow0_col1{\n",
       "            background-color:  #04649e;\n",
       "            color:  #f1f1f1;\n",
       "        }#T_e72124c3_d03e_11eb_b1b1_3c77e6ef43aarow0_col2,#T_e72124c3_d03e_11eb_b1b1_3c77e6ef43aarow1_col3{\n",
       "            background-color:  #034a74;\n",
       "            color:  #f1f1f1;\n",
       "        }#T_e72124c3_d03e_11eb_b1b1_3c77e6ef43aarow0_col3,#T_e72124c3_d03e_11eb_b1b1_3c77e6ef43aarow1_col7,#T_e72124c3_d03e_11eb_b1b1_3c77e6ef43aarow1_col8{\n",
       "            background-color:  #023f64;\n",
       "            color:  #f1f1f1;\n",
       "        }#T_e72124c3_d03e_11eb_b1b1_3c77e6ef43aarow0_col4,#T_e72124c3_d03e_11eb_b1b1_3c77e6ef43aarow0_col5{\n",
       "            background-color:  #023a5b;\n",
       "            color:  #f1f1f1;\n",
       "        }#T_e72124c3_d03e_11eb_b1b1_3c77e6ef43aarow0_col6,#T_e72124c3_d03e_11eb_b1b1_3c77e6ef43aarow0_col7,#T_e72124c3_d03e_11eb_b1b1_3c77e6ef43aarow0_col8,#T_e72124c3_d03e_11eb_b1b1_3c77e6ef43aarow0_col9,#T_e72124c3_d03e_11eb_b1b1_3c77e6ef43aarow0_col10,#T_e72124c3_d03e_11eb_b1b1_3c77e6ef43aarow1_col9{\n",
       "            background-color:  #023858;\n",
       "            color:  #f1f1f1;\n",
       "        }#T_e72124c3_d03e_11eb_b1b1_3c77e6ef43aarow1_col1{\n",
       "            background-color:  #0a73b2;\n",
       "            color:  #f1f1f1;\n",
       "        }#T_e72124c3_d03e_11eb_b1b1_3c77e6ef43aarow1_col2{\n",
       "            background-color:  #056ba7;\n",
       "            color:  #f1f1f1;\n",
       "        }#T_e72124c3_d03e_11eb_b1b1_3c77e6ef43aarow1_col4{\n",
       "            background-color:  #045280;\n",
       "            color:  #f1f1f1;\n",
       "        }#T_e72124c3_d03e_11eb_b1b1_3c77e6ef43aarow1_col5{\n",
       "            background-color:  #045c90;\n",
       "            color:  #f1f1f1;\n",
       "        }#T_e72124c3_d03e_11eb_b1b1_3c77e6ef43aarow1_col6{\n",
       "            background-color:  #045687;\n",
       "            color:  #f1f1f1;\n",
       "        }#T_e72124c3_d03e_11eb_b1b1_3c77e6ef43aarow1_col10{\n",
       "            background-color:  #03476f;\n",
       "            color:  #f1f1f1;\n",
       "        }</style><table id=\"T_e72124c3_d03e_11eb_b1b1_3c77e6ef43aa\" ><thead>    <tr>        <th class=\"blank level0\" ></th>        <th class=\"col_heading level0 col0\" >1</th>        <th class=\"col_heading level0 col1\" >10</th>        <th class=\"col_heading level0 col2\" >20</th>        <th class=\"col_heading level0 col3\" >30</th>        <th class=\"col_heading level0 col4\" >40</th>        <th class=\"col_heading level0 col5\" >50</th>        <th class=\"col_heading level0 col6\" >60</th>        <th class=\"col_heading level0 col7\" >70</th>        <th class=\"col_heading level0 col8\" >80</th>        <th class=\"col_heading level0 col9\" >90</th>        <th class=\"col_heading level0 col10\" >100</th>    </tr></thead><tbody>\n",
       "                <tr>\n",
       "                        <th id=\"T_e72124c3_d03e_11eb_b1b1_3c77e6ef43aalevel0_row0\" class=\"row_heading level0 row0\" >train</th>\n",
       "                        <td id=\"T_e72124c3_d03e_11eb_b1b1_3c77e6ef43aarow0_col0\" class=\"data row0 col0\" >0.898000</td>\n",
       "                        <td id=\"T_e72124c3_d03e_11eb_b1b1_3c77e6ef43aarow0_col1\" class=\"data row0 col1\" >0.981000</td>\n",
       "                        <td id=\"T_e72124c3_d03e_11eb_b1b1_3c77e6ef43aarow0_col2\" class=\"data row0 col2\" >0.993000</td>\n",
       "                        <td id=\"T_e72124c3_d03e_11eb_b1b1_3c77e6ef43aarow0_col3\" class=\"data row0 col3\" >0.997000</td>\n",
       "                        <td id=\"T_e72124c3_d03e_11eb_b1b1_3c77e6ef43aarow0_col4\" class=\"data row0 col4\" >0.999000</td>\n",
       "                        <td id=\"T_e72124c3_d03e_11eb_b1b1_3c77e6ef43aarow0_col5\" class=\"data row0 col5\" >0.999000</td>\n",
       "                        <td id=\"T_e72124c3_d03e_11eb_b1b1_3c77e6ef43aarow0_col6\" class=\"data row0 col6\" >1.000000</td>\n",
       "                        <td id=\"T_e72124c3_d03e_11eb_b1b1_3c77e6ef43aarow0_col7\" class=\"data row0 col7\" >1.000000</td>\n",
       "                        <td id=\"T_e72124c3_d03e_11eb_b1b1_3c77e6ef43aarow0_col8\" class=\"data row0 col8\" >1.000000</td>\n",
       "                        <td id=\"T_e72124c3_d03e_11eb_b1b1_3c77e6ef43aarow0_col9\" class=\"data row0 col9\" >1.000000</td>\n",
       "                        <td id=\"T_e72124c3_d03e_11eb_b1b1_3c77e6ef43aarow0_col10\" class=\"data row0 col10\" >1.000000</td>\n",
       "            </tr>\n",
       "            <tr>\n",
       "                        <th id=\"T_e72124c3_d03e_11eb_b1b1_3c77e6ef43aalevel0_row1\" class=\"row_heading level0 row1\" >valid</th>\n",
       "                        <td id=\"T_e72124c3_d03e_11eb_b1b1_3c77e6ef43aarow1_col0\" class=\"data row1 col0\" >0.720000</td>\n",
       "                        <td id=\"T_e72124c3_d03e_11eb_b1b1_3c77e6ef43aarow1_col1\" class=\"data row1 col1\" >0.773000</td>\n",
       "                        <td id=\"T_e72124c3_d03e_11eb_b1b1_3c77e6ef43aarow1_col2\" class=\"data row1 col2\" >0.776000</td>\n",
       "                        <td id=\"T_e72124c3_d03e_11eb_b1b1_3c77e6ef43aarow1_col3\" class=\"data row1 col3\" >0.787000</td>\n",
       "                        <td id=\"T_e72124c3_d03e_11eb_b1b1_3c77e6ef43aarow1_col4\" class=\"data row1 col4\" >0.785000</td>\n",
       "                        <td id=\"T_e72124c3_d03e_11eb_b1b1_3c77e6ef43aarow1_col5\" class=\"data row1 col5\" >0.782000</td>\n",
       "                        <td id=\"T_e72124c3_d03e_11eb_b1b1_3c77e6ef43aarow1_col6\" class=\"data row1 col6\" >0.784000</td>\n",
       "                        <td id=\"T_e72124c3_d03e_11eb_b1b1_3c77e6ef43aarow1_col7\" class=\"data row1 col7\" >0.790000</td>\n",
       "                        <td id=\"T_e72124c3_d03e_11eb_b1b1_3c77e6ef43aarow1_col8\" class=\"data row1 col8\" >0.790000</td>\n",
       "                        <td id=\"T_e72124c3_d03e_11eb_b1b1_3c77e6ef43aarow1_col9\" class=\"data row1 col9\" >0.792000</td>\n",
       "                        <td id=\"T_e72124c3_d03e_11eb_b1b1_3c77e6ef43aarow1_col10\" class=\"data row1 col10\" >0.788000</td>\n",
       "            </tr>\n",
       "    </tbody></table>"
      ],
      "text/plain": [
       "<pandas.io.formats.style.Styler at 0x2b63069ddf0>"
      ]
     },
     "execution_count": 44,
     "metadata": {},
     "output_type": "execute_result"
    }
   ],
   "source": [
    "#use previously built function to make a table\n",
    "rf_scores=scorer(rf_accu_t, rf_accu_v, estimators)\n",
    "rf_scores"
   ]
  },
  {
   "cell_type": "markdown",
   "metadata": {},
   "source": [
    "### 3.3 LogisticRegression"
   ]
  },
  {
   "cell_type": "code",
   "execution_count": 45,
   "metadata": {},
   "outputs": [
    {
     "name": "stdout",
     "output_type": "stream",
     "text": [
      "Accuracy of logistic regression model using training data: 0.741 with validation data: 0.708\n"
     ]
    }
   ],
   "source": [
    "# build a logisticregression model and compare accuracy using training and validation data\n",
    "lg_model=LogisticRegression(random_state=234, solver='liblinear')\n",
    "\n",
    "#fit and check accuracy\n",
    "lg_model.fit(features_train, target_train)\n",
    "lg_accu_v=lg_model.score(features_valid, target_valid)\n",
    "lg_accu_t=lg_model.score(features_train, target_train)\n",
    "\n",
    "\n",
    "#print the results\n",
    "print('Accuracy of logistic regression model using training data:', round(lg_accu_t, 3),\n",
    "     'with validation data:', round(lg_accu_v, 3))"
   ]
  },
  {
   "cell_type": "markdown",
   "metadata": {},
   "source": [
    "### 3.4 Conclusion\n",
    "Three different classification models were compared: `DecisionTree, RandomForest and LogisticRegression`. And important parameters of models were tuned to get optimal possible scores. The highest accuracy was achieved with the `RandomForest` model, **0.795**, with the number of 10 trees. Further increasing the number of trees did not affect the result much. Runner-up was the `DecisionTree` model with an accuracy of **0.778** (max_depth of 5). The `LogisticRegression` model achieved an accuracy of **0.723** only."
   ]
  },
  {
   "cell_type": "markdown",
   "metadata": {},
   "source": [
    "## 4. Checking quality of the model\n",
    "RandomForest model performed best. Hence we will use it with the number of estimators as 10 to check its accuracy with the testing dataset. More the data, the higher the accuracy of the model. Therefore, here we decided to combine our previous training and validation datasets to make more data for training our model."
   ]
  },
  {
   "cell_type": "code",
   "execution_count": 46,
   "metadata": {},
   "outputs": [],
   "source": [
    "#build a RandomFOrestClassifier model with n_estimators=10\n",
    "final_model=RandomForestClassifier(random_state=234, n_estimators=90)"
   ]
  },
  {
   "cell_type": "code",
   "execution_count": 47,
   "metadata": {},
   "outputs": [
    {
     "data": {
      "text/plain": [
       "1928"
      ]
     },
     "metadata": {},
     "output_type": "display_data"
    },
    {
     "data": {
      "text/plain": [
       "643"
      ]
     },
     "metadata": {},
     "output_type": "display_data"
    },
    {
     "data": {
      "text/plain": [
       "643"
      ]
     },
     "execution_count": 47,
     "metadata": {},
     "output_type": "execute_result"
    }
   ],
   "source": [
    "#number of observations in each previous datasets\n",
    "display(len(df_train))\n",
    "display(len(df_valid))\n",
    "len(df_test)"
   ]
  },
  {
   "cell_type": "code",
   "execution_count": 48,
   "metadata": {},
   "outputs": [
    {
     "name": "stdout",
     "output_type": "stream",
     "text": [
      "Accuracy of model is: 0.787\n"
     ]
    }
   ],
   "source": [
    "#combine training and validation datasets\n",
    "train_big=pd.concat([df_train, df_valid])\n",
    "\n",
    "#prepare features and target data\n",
    "features_train_big=train_big.drop('is_ultra', axis=1)\n",
    "target_train_big=train_big['is_ultra']\n",
    "\n",
    "#train the model using training dataset\n",
    "final_model.fit(features_train_big, target_train_big)\n",
    "\n",
    "\n",
    "#check the accuracy of the model\n",
    "accu_test=final_model.score(features_test, target_test)\n",
    "\n",
    "print('Accuracy of model is:', round(accu_test, 3))"
   ]
  },
  {
   "cell_type": "markdown",
   "metadata": {},
   "source": [
    "### 4.1 Conclusion\n",
    "A model has been built using `RandomForestClassifier, using 90 trees`. The amount of data affects the accuracy of a model. Therefore, to increase the number of observation for training the model, the previous training dataset has been combined with the validation dataset. Then the accuracy of the model has been tested and its **accuracy was 0.787**."
   ]
  },
  {
   "cell_type": "markdown",
   "metadata": {},
   "source": [
    "## 5. Sanity check\n",
    "We will create fake answers using random ones and zeros. Then we check the accuracy of our model using these fake answers.\n",
    "Let's follow three options to make fake answers:\n",
    "- random mixture of ones and zeros;\n",
    "- only ones;\n",
    "- only zeros."
   ]
  },
  {
   "cell_type": "code",
   "execution_count": 49,
   "metadata": {
    "scrolled": true
   },
   "outputs": [
    {
     "name": "stdout",
     "output_type": "stream",
     "text": [
      "If the model randomly retrieves ones and zeros, then its accuracy would be: 0.505\n"
     ]
    }
   ],
   "source": [
    "#create random ones and zeros\n",
    "size=len(target_test)  #length of array\n",
    "np.random.seed(234)  #to replicate the results\n",
    "\n",
    "#create the Pandas Seris object\n",
    "target_rand=pd.Series(np.random.randint(2, size=size))\n",
    "\n",
    "#check how many of fake answers were correctly matched\n",
    "accu_random=accuracy_score(target_rand, target_test) \n",
    "\n",
    "#print the result\n",
    "print('If the model randomly retrieves ones and zeros, then its accuracy would be:', round(accu_random, 3))"
   ]
  },
  {
   "cell_type": "code",
   "execution_count": 50,
   "metadata": {},
   "outputs": [
    {
     "name": "stdout",
     "output_type": "stream",
     "text": [
      "If the model retrieves only ones, then its accuracy would be: 0.331\n"
     ]
    }
   ],
   "source": [
    "#create only ones\n",
    "size=len(target_test)  #length of array\n",
    "\n",
    "#create the Pandas Seris object\n",
    "target_ones=pd.Series(np.ones(size))\n",
    "\n",
    "#check how many of fake answers were correctly matched\n",
    "accu_ones=accuracy_score(target_ones, target_test)\n",
    "\n",
    "\n",
    "#print the result\n",
    "print('If the model retrieves only ones, then its accuracy would be:', round(accu_ones, 3))"
   ]
  },
  {
   "cell_type": "code",
   "execution_count": 51,
   "metadata": {},
   "outputs": [
    {
     "name": "stdout",
     "output_type": "stream",
     "text": [
      "If the model retrieves only zeros, then its accuracy would be: 0.669\n"
     ]
    }
   ],
   "source": [
    "#create only zeros\n",
    "size=len(target_test)  #length of array\n",
    "\n",
    "#create the Pandas Seris object\n",
    "target_zeros=pd.Series(np.zeros(size))\n",
    "\n",
    "#check how many of fake answers were correctly matched\n",
    "accu_zeros=accuracy_score(target_zeros, target_test)\n",
    "\n",
    "\n",
    "#print the result\n",
    "print('If the model retrieves only zeros, then its accuracy would be:', round(accu_zeros, 3))"
   ]
  },
  {
   "cell_type": "markdown",
   "metadata": {},
   "source": [
    "## 5.1 Conclusion\n",
    "Sanity check of the model has been performed with three different approaches.\n",
    "- If the model recommends the **Ultra** and **smart** plans randomly, then accuracy would be 0.505;\n",
    "- If the model recommends only the **Ultra** plan for everyone, then the accuracy would be only 0.331;\n",
    "- If the model recommends only **Smart** plan for everyone, then the accuracy would be 00.669.\n",
    "\n",
    "Compared to these three fake answers our model performed very well, with an accuracy of 0.782."
   ]
  },
  {
   "cell_type": "markdown",
   "metadata": {},
   "source": [
    "## 6. Summary\n",
    "- Data with 5 columns and 3214 rows has been loaded and check for missing values, data types, duplicates and other possible issues. No critical issue has been observed so far.\n",
    "\n",
    "\n",
    "- The whole data has been divided into three parts: training, validation and testing datasets with ratios of 3:1:1 or 60%, 20% and 20% of whole data.\n",
    "\n",
    "\n",
    "- A model that suggests either the **Ultra** or the **Smart** plan, depending on how many `calls, minutes, messages and internet` used by a subscriber has been planned.  So, the `is_ultra` column was assigned a target, and the `calls, minutes, messages and internet` columns were assigned as features.\n",
    "\n",
    "\n",
    "- Three different classification models have been compared: `DecisionTree, RandomForest and LogisticRegression`. And important parameters of models have been tuned to get optimal possible scores. The highest accuracy was achieved with the `RandomForest` model, **0.795**, with the number of 10 trees. Further increasing the number of trees did not affect the result much. Runner-up was the `DecisionTree` model with an accuracy of **0.778** (max_depth of 5). The `LogisticRegression` model achieved an accuracy of **0.723** only.\n",
    "\n",
    "\n",
    "- A model has been built using `RandomForestClassifier, using 10 trees`, based on the previous task. The amount of data affects the accuracy of a model. Therefore, to increase the number of observation for training the model, the previous training dataset has been combined with the validation dataset. Then the accuracy of the model has been tested and its **accuracy was 0.782**.\n",
    "\n",
    "\n",
    "- Sanity check of the model has been performed with three different approaches.\n",
    "    - If the model recommends the **Ultra** and **smart** plans randomly, then accuracy would be 0.505;\n",
    "    - If the model recommends only the **Ultra** plan for everyone, then the accuracy would be only 0.331;\n",
    "    - If the model recommends only **Smart** plan for everyone, then the accuracy would be 00.669.\n",
    "\n",
    "    Compared to these three fake answers our model performed very well, with an accuracy of 0.782."
   ]
  }
 ],
 "metadata": {
  "ExecuteTimeLog": [
   {
    "duration": 328,
    "start_time": "2021-06-15T09:48:25.822Z"
   },
   {
    "duration": 736,
    "start_time": "2021-06-15T09:48:31.806Z"
   },
   {
    "duration": 1958,
    "start_time": "2021-06-15T09:48:32.544Z"
   },
   {
    "duration": 41,
    "start_time": "2021-06-15T09:48:51.767Z"
   },
   {
    "duration": 7,
    "start_time": "2021-06-15T09:49:30.502Z"
   },
   {
    "duration": 9,
    "start_time": "2021-06-15T09:49:49.071Z"
   },
   {
    "duration": 9,
    "start_time": "2021-06-15T09:50:02.190Z"
   },
   {
    "duration": 34,
    "start_time": "2021-06-15T09:50:58.063Z"
   },
   {
    "duration": 554,
    "start_time": "2021-06-15T11:09:32.233Z"
   },
   {
    "duration": 5,
    "start_time": "2021-06-15T11:19:36.993Z"
   },
   {
    "duration": 9,
    "start_time": "2021-06-15T11:19:54.562Z"
   },
   {
    "duration": 6,
    "start_time": "2021-06-15T11:20:15.289Z"
   },
   {
    "duration": 11,
    "start_time": "2021-06-15T11:21:01.970Z"
   },
   {
    "duration": 12,
    "start_time": "2021-06-15T11:21:09.257Z"
   },
   {
    "duration": 12,
    "start_time": "2021-06-15T11:21:14.513Z"
   },
   {
    "duration": 6,
    "start_time": "2021-06-15T11:21:25.225Z"
   },
   {
    "duration": 704,
    "start_time": "2021-06-15T11:22:29.850Z"
   },
   {
    "duration": 699,
    "start_time": "2021-06-15T11:22:57.002Z"
   },
   {
    "duration": 12,
    "start_time": "2021-06-15T11:23:35.634Z"
   },
   {
    "duration": 5,
    "start_time": "2021-06-15T11:27:45.587Z"
   },
   {
    "duration": 5,
    "start_time": "2021-06-15T11:32:00.747Z"
   },
   {
    "duration": 17,
    "start_time": "2021-06-15T11:32:10.218Z"
   },
   {
    "duration": 15,
    "start_time": "2021-06-15T11:33:48.708Z"
   },
   {
    "duration": 12,
    "start_time": "2021-06-15T11:33:54.707Z"
   },
   {
    "duration": 11,
    "start_time": "2021-06-15T11:36:15.803Z"
   },
   {
    "duration": 9,
    "start_time": "2021-06-15T11:36:28.642Z"
   },
   {
    "duration": 11,
    "start_time": "2021-06-15T11:43:01.155Z"
   },
   {
    "duration": 365,
    "start_time": "2021-06-15T11:44:39.259Z"
   },
   {
    "duration": 6,
    "start_time": "2021-06-15T11:45:00.003Z"
   },
   {
    "duration": 299,
    "start_time": "2021-06-15T12:00:14.402Z"
   },
   {
    "duration": 13,
    "start_time": "2021-06-15T12:00:27.132Z"
   },
   {
    "duration": 18,
    "start_time": "2021-06-15T12:03:16.443Z"
   },
   {
    "duration": 607,
    "start_time": "2021-06-15T12:05:28.149Z"
   },
   {
    "duration": 67,
    "start_time": "2021-06-15T12:05:36.739Z"
   },
   {
    "duration": 187,
    "start_time": "2021-06-15T12:05:53.476Z"
   },
   {
    "duration": 290,
    "start_time": "2021-06-15T12:07:26.659Z"
   },
   {
    "duration": 66,
    "start_time": "2021-06-15T12:07:32.892Z"
   },
   {
    "duration": 286,
    "start_time": "2021-06-15T12:07:34.107Z"
   },
   {
    "duration": 13,
    "start_time": "2021-06-15T12:07:44.715Z"
   },
   {
    "duration": 66,
    "start_time": "2021-06-15T12:08:15.612Z"
   },
   {
    "duration": 5,
    "start_time": "2021-06-15T12:08:17.107Z"
   },
   {
    "duration": 67,
    "start_time": "2021-06-15T12:08:48.412Z"
   },
   {
    "duration": 5,
    "start_time": "2021-06-15T12:08:49.363Z"
   },
   {
    "duration": 292,
    "start_time": "2021-06-15T12:08:50.773Z"
   },
   {
    "duration": 298,
    "start_time": "2021-06-15T12:15:21.955Z"
   },
   {
    "duration": 82,
    "start_time": "2021-06-15T12:15:24.885Z"
   },
   {
    "duration": 6,
    "start_time": "2021-06-15T12:15:25.148Z"
   },
   {
    "duration": 17,
    "start_time": "2021-06-15T12:15:31.894Z"
   },
   {
    "duration": 327,
    "start_time": "2021-06-15T12:15:45.396Z"
   },
   {
    "duration": 332,
    "start_time": "2021-06-15T12:15:58.573Z"
   },
   {
    "duration": 6,
    "start_time": "2021-06-15T12:19:41.302Z"
   },
   {
    "duration": 7,
    "start_time": "2021-06-15T12:19:50.356Z"
   },
   {
    "duration": 6,
    "start_time": "2021-06-15T12:20:11.444Z"
   },
   {
    "duration": 6,
    "start_time": "2021-06-15T12:20:20.941Z"
   },
   {
    "duration": 291,
    "start_time": "2021-06-15T12:23:02.974Z"
   },
   {
    "duration": 91,
    "start_time": "2021-06-15T12:23:12.206Z"
   },
   {
    "duration": 353,
    "start_time": "2021-06-15T12:23:15.285Z"
   },
   {
    "duration": 3313,
    "start_time": "2021-06-15T12:23:17.804Z"
   },
   {
    "duration": 320,
    "start_time": "2021-06-15T12:23:43.092Z"
   },
   {
    "duration": 334,
    "start_time": "2021-06-15T12:24:12.609Z"
   },
   {
    "duration": 302,
    "start_time": "2021-06-15T12:25:21.645Z"
   },
   {
    "duration": 24,
    "start_time": "2021-06-15T12:28:57.110Z"
   },
   {
    "duration": 18,
    "start_time": "2021-06-15T12:31:56.960Z"
   },
   {
    "duration": 313,
    "start_time": "2021-06-15T12:33:28.514Z"
   },
   {
    "duration": 279,
    "start_time": "2021-06-15T12:34:02.597Z"
   },
   {
    "duration": 295,
    "start_time": "2021-06-15T12:35:47.271Z"
   },
   {
    "duration": 263,
    "start_time": "2021-06-15T12:36:35.518Z"
   },
   {
    "duration": 257,
    "start_time": "2021-06-15T12:36:45.629Z"
   },
   {
    "duration": 11,
    "start_time": "2021-06-15T12:37:25.004Z"
   },
   {
    "duration": 79,
    "start_time": "2021-06-15T12:37:33.431Z"
   },
   {
    "duration": 297,
    "start_time": "2021-06-15T12:37:38.405Z"
   },
   {
    "duration": 5,
    "start_time": "2021-06-15T12:38:03.197Z"
   },
   {
    "duration": 6,
    "start_time": "2021-06-15T12:38:09.244Z"
   },
   {
    "duration": 5,
    "start_time": "2021-06-15T12:38:25.572Z"
   },
   {
    "duration": 5,
    "start_time": "2021-06-15T12:38:32.620Z"
   },
   {
    "duration": 77,
    "start_time": "2021-06-15T12:39:03.933Z"
   },
   {
    "duration": 6,
    "start_time": "2021-06-15T12:39:07.380Z"
   },
   {
    "duration": 6,
    "start_time": "2021-06-15T12:39:11.085Z"
   },
   {
    "duration": 269,
    "start_time": "2021-06-15T12:39:14.126Z"
   },
   {
    "duration": 11,
    "start_time": "2021-06-15T12:39:25.159Z"
   },
   {
    "duration": 346,
    "start_time": "2021-06-15T12:39:37.725Z"
   },
   {
    "duration": 4,
    "start_time": "2021-06-15T12:42:02.637Z"
   },
   {
    "duration": 4,
    "start_time": "2021-06-15T12:42:29.669Z"
   },
   {
    "duration": 308,
    "start_time": "2021-06-15T12:42:35.709Z"
   },
   {
    "duration": 4,
    "start_time": "2021-06-15T12:42:42.693Z"
   },
   {
    "duration": 4,
    "start_time": "2021-06-15T12:42:55.254Z"
   },
   {
    "duration": 12,
    "start_time": "2021-06-15T12:42:55.764Z"
   },
   {
    "duration": 4,
    "start_time": "2021-06-15T12:44:26.613Z"
   },
   {
    "duration": 11,
    "start_time": "2021-06-15T12:44:27.088Z"
   },
   {
    "duration": 3278,
    "start_time": "2021-06-15T12:45:09.605Z"
   },
   {
    "duration": 5,
    "start_time": "2021-06-15T12:45:46.693Z"
   },
   {
    "duration": 11,
    "start_time": "2021-06-15T12:45:55.669Z"
   },
   {
    "duration": 23,
    "start_time": "2021-06-15T12:46:50.182Z"
   },
   {
    "duration": 83,
    "start_time": "2021-06-15T12:47:12.557Z"
   },
   {
    "duration": 4,
    "start_time": "2021-06-15T12:47:13.109Z"
   },
   {
    "duration": 11,
    "start_time": "2021-06-15T12:47:13.877Z"
   },
   {
    "duration": 473,
    "start_time": "2021-06-15T12:47:37.646Z"
   },
   {
    "duration": 3240,
    "start_time": "2021-06-15T12:47:42.725Z"
   },
   {
    "duration": 12,
    "start_time": "2021-06-15T12:47:55.554Z"
   },
   {
    "duration": 318,
    "start_time": "2021-06-15T12:48:06.269Z"
   },
   {
    "duration": 24,
    "start_time": "2021-06-15T12:48:10.454Z"
   },
   {
    "duration": 19,
    "start_time": "2021-06-15T12:55:02.509Z"
   },
   {
    "duration": 17,
    "start_time": "2021-06-15T12:55:22.958Z"
   },
   {
    "duration": 5,
    "start_time": "2021-06-15T12:57:06.918Z"
   },
   {
    "duration": 18,
    "start_time": "2021-06-15T12:57:13.533Z"
   },
   {
    "duration": 320,
    "start_time": "2021-06-15T13:01:10.551Z"
   },
   {
    "duration": 4,
    "start_time": "2021-06-15T13:01:16.165Z"
   },
   {
    "duration": 592,
    "start_time": "2021-06-15T13:01:16.789Z"
   },
   {
    "duration": 93,
    "start_time": "2021-06-15T13:01:31.270Z"
   },
   {
    "duration": 276,
    "start_time": "2021-06-15T15:37:37.800Z"
   },
   {
    "duration": 4,
    "start_time": "2021-06-15T15:37:50.468Z"
   },
   {
    "duration": 6,
    "start_time": "2021-06-15T15:37:54.948Z"
   },
   {
    "duration": 7,
    "start_time": "2021-06-15T15:39:28.250Z"
   },
   {
    "duration": 3,
    "start_time": "2021-06-15T15:40:13.210Z"
   },
   {
    "duration": 258,
    "start_time": "2021-06-15T15:40:56.665Z"
   },
   {
    "duration": 298,
    "start_time": "2021-06-15T15:41:05.137Z"
   },
   {
    "duration": 8,
    "start_time": "2021-06-15T15:41:32.897Z"
   },
   {
    "duration": 261,
    "start_time": "2021-06-15T15:41:53.121Z"
   },
   {
    "duration": 7,
    "start_time": "2021-06-15T15:41:57.385Z"
   },
   {
    "duration": 5,
    "start_time": "2021-06-15T15:42:14.273Z"
   },
   {
    "duration": 262,
    "start_time": "2021-06-15T15:42:40.994Z"
   },
   {
    "duration": 6,
    "start_time": "2021-06-15T15:42:45.153Z"
   },
   {
    "duration": 6,
    "start_time": "2021-06-15T15:42:51.233Z"
   },
   {
    "duration": 6,
    "start_time": "2021-06-15T15:42:58.466Z"
   },
   {
    "duration": 290,
    "start_time": "2021-06-15T15:43:04.105Z"
   },
   {
    "duration": 4,
    "start_time": "2021-06-15T15:45:11.195Z"
   },
   {
    "duration": 6,
    "start_time": "2021-06-15T15:45:14.561Z"
   },
   {
    "duration": 7,
    "start_time": "2021-06-15T15:45:23.521Z"
   },
   {
    "duration": 266,
    "start_time": "2021-06-15T15:45:27.922Z"
   },
   {
    "duration": 8,
    "start_time": "2021-06-15T15:50:08.267Z"
   },
   {
    "duration": 12,
    "start_time": "2021-06-15T15:50:13.234Z"
   },
   {
    "duration": 7,
    "start_time": "2021-06-15T15:50:31.114Z"
   },
   {
    "duration": 13,
    "start_time": "2021-06-15T15:51:07.106Z"
   },
   {
    "duration": 11,
    "start_time": "2021-06-15T15:51:18.299Z"
   },
   {
    "duration": 6,
    "start_time": "2021-06-15T15:53:28.723Z"
   },
   {
    "duration": 9,
    "start_time": "2021-06-15T15:53:36.914Z"
   },
   {
    "duration": 9,
    "start_time": "2021-06-15T15:54:33.050Z"
   },
   {
    "duration": 9,
    "start_time": "2021-06-15T15:54:36.441Z"
   },
   {
    "duration": 8,
    "start_time": "2021-06-15T15:54:37.057Z"
   },
   {
    "duration": 9,
    "start_time": "2021-06-15T15:54:37.595Z"
   },
   {
    "duration": 9,
    "start_time": "2021-06-15T15:54:38.145Z"
   },
   {
    "duration": 8,
    "start_time": "2021-06-15T15:54:38.513Z"
   },
   {
    "duration": 10,
    "start_time": "2021-06-15T15:54:38.761Z"
   },
   {
    "duration": 10,
    "start_time": "2021-06-15T15:54:38.961Z"
   },
   {
    "duration": 9,
    "start_time": "2021-06-15T15:54:39.137Z"
   },
   {
    "duration": 9,
    "start_time": "2021-06-15T15:54:39.297Z"
   },
   {
    "duration": 9,
    "start_time": "2021-06-15T15:54:39.456Z"
   },
   {
    "duration": 9,
    "start_time": "2021-06-15T15:54:39.617Z"
   },
   {
    "duration": 12,
    "start_time": "2021-06-15T15:55:06.241Z"
   },
   {
    "duration": 12,
    "start_time": "2021-06-15T15:55:06.865Z"
   },
   {
    "duration": 11,
    "start_time": "2021-06-15T15:55:07.472Z"
   },
   {
    "duration": 11,
    "start_time": "2021-06-15T15:55:08.281Z"
   },
   {
    "duration": 11,
    "start_time": "2021-06-15T15:55:17.722Z"
   },
   {
    "duration": 8,
    "start_time": "2021-06-15T15:55:19.313Z"
   },
   {
    "duration": 9,
    "start_time": "2021-06-15T15:55:19.930Z"
   },
   {
    "duration": 9,
    "start_time": "2021-06-15T15:55:20.465Z"
   },
   {
    "duration": 11,
    "start_time": "2021-06-15T15:55:22.529Z"
   },
   {
    "duration": 11,
    "start_time": "2021-06-15T15:55:23.081Z"
   },
   {
    "duration": 11,
    "start_time": "2021-06-15T15:55:23.377Z"
   },
   {
    "duration": 11,
    "start_time": "2021-06-15T15:55:23.611Z"
   },
   {
    "duration": 13,
    "start_time": "2021-06-15T15:55:23.818Z"
   },
   {
    "duration": 12,
    "start_time": "2021-06-15T15:55:24.000Z"
   },
   {
    "duration": 12,
    "start_time": "2021-06-15T15:55:25.824Z"
   },
   {
    "duration": 13,
    "start_time": "2021-06-15T15:55:26.833Z"
   },
   {
    "duration": 12,
    "start_time": "2021-06-15T15:55:27.697Z"
   },
   {
    "duration": 5,
    "start_time": "2021-06-15T15:59:43.445Z"
   },
   {
    "duration": 7,
    "start_time": "2021-06-15T16:00:06.307Z"
   },
   {
    "duration": 262,
    "start_time": "2021-06-15T16:02:00.244Z"
   },
   {
    "duration": 4,
    "start_time": "2021-06-15T16:02:39.899Z"
   },
   {
    "duration": 1571,
    "start_time": "2021-06-16T09:47:25.845Z"
   },
   {
    "duration": 35,
    "start_time": "2021-06-16T09:47:32.148Z"
   },
   {
    "duration": 13,
    "start_time": "2021-06-16T09:47:37.354Z"
   },
   {
    "duration": 32,
    "start_time": "2021-06-16T09:48:13.186Z"
   },
   {
    "duration": 9,
    "start_time": "2021-06-16T09:48:13.928Z"
   },
   {
    "duration": 34,
    "start_time": "2021-06-16T09:48:14.449Z"
   },
   {
    "duration": 9,
    "start_time": "2021-06-16T09:48:15.080Z"
   },
   {
    "duration": 8,
    "start_time": "2021-06-16T09:48:15.970Z"
   },
   {
    "duration": 8,
    "start_time": "2021-06-16T09:48:32.649Z"
   },
   {
    "duration": 421,
    "start_time": "2021-06-16T09:49:04.209Z"
   },
   {
    "duration": 7,
    "start_time": "2021-06-16T09:49:09.425Z"
   },
   {
    "duration": 13,
    "start_time": "2021-06-16T09:49:09.689Z"
   },
   {
    "duration": 7,
    "start_time": "2021-06-16T09:49:10.401Z"
   },
   {
    "duration": 4,
    "start_time": "2021-06-16T09:49:36.944Z"
   },
   {
    "duration": 5,
    "start_time": "2021-06-16T09:49:51.090Z"
   },
   {
    "duration": 8,
    "start_time": "2021-06-16T09:50:12.497Z"
   },
   {
    "duration": 6,
    "start_time": "2021-06-16T09:50:24.793Z"
   },
   {
    "duration": 4,
    "start_time": "2021-06-16T10:04:32.933Z"
   },
   {
    "duration": 30,
    "start_time": "2021-06-16T10:04:33.113Z"
   },
   {
    "duration": 9,
    "start_time": "2021-06-16T10:04:33.768Z"
   },
   {
    "duration": 32,
    "start_time": "2021-06-16T10:04:35.953Z"
   },
   {
    "duration": 280,
    "start_time": "2021-06-16T10:57:49.151Z"
   },
   {
    "duration": 15,
    "start_time": "2021-06-16T10:59:13.180Z"
   },
   {
    "duration": 162,
    "start_time": "2021-06-16T11:01:36.499Z"
   },
   {
    "duration": 90,
    "start_time": "2021-06-16T11:01:46.970Z"
   },
   {
    "duration": 115,
    "start_time": "2021-06-16T11:02:00.000Z"
   },
   {
    "duration": 83,
    "start_time": "2021-06-16T11:02:26.986Z"
   },
   {
    "duration": 94,
    "start_time": "2021-06-16T11:02:32.354Z"
   },
   {
    "duration": 13,
    "start_time": "2021-06-16T11:03:26.283Z"
   },
   {
    "duration": 12,
    "start_time": "2021-06-16T11:03:31.825Z"
   },
   {
    "duration": 13,
    "start_time": "2021-06-16T11:03:38.699Z"
   },
   {
    "duration": 254,
    "start_time": "2021-06-16T11:16:55.321Z"
   },
   {
    "duration": 20,
    "start_time": "2021-06-16T11:16:59.814Z"
   },
   {
    "duration": 8,
    "start_time": "2021-06-16T11:17:20.830Z"
   },
   {
    "duration": 9,
    "start_time": "2021-06-16T11:18:28.211Z"
   },
   {
    "duration": 12,
    "start_time": "2021-06-16T11:18:49.123Z"
   },
   {
    "duration": 8,
    "start_time": "2021-06-16T11:18:53.972Z"
   },
   {
    "duration": 124,
    "start_time": "2021-06-16T11:24:41.465Z"
   },
   {
    "duration": 5,
    "start_time": "2021-06-16T11:26:26.547Z"
   },
   {
    "duration": 23,
    "start_time": "2021-06-16T11:26:52.143Z"
   },
   {
    "duration": 7,
    "start_time": "2021-06-16T11:27:24.759Z"
   },
   {
    "duration": 513,
    "start_time": "2021-06-16T11:27:33.779Z"
   },
   {
    "duration": 780,
    "start_time": "2021-06-16T11:27:47.402Z"
   },
   {
    "duration": 814,
    "start_time": "2021-06-16T11:28:47.788Z"
   },
   {
    "duration": 13,
    "start_time": "2021-06-16T11:28:53.109Z"
   },
   {
    "duration": 263,
    "start_time": "2021-06-16T11:32:11.317Z"
   },
   {
    "duration": 291,
    "start_time": "2021-06-16T11:32:26.302Z"
   },
   {
    "duration": 4,
    "start_time": "2021-06-16T11:33:57.372Z"
   },
   {
    "duration": 21,
    "start_time": "2021-06-16T11:34:03.253Z"
   },
   {
    "duration": 6,
    "start_time": "2021-06-16T11:35:00.861Z"
   },
   {
    "duration": 11,
    "start_time": "2021-06-16T11:35:04.523Z"
   },
   {
    "duration": 317,
    "start_time": "2021-06-16T11:35:21.820Z"
   },
   {
    "duration": 376,
    "start_time": "2021-06-16T11:35:29.301Z"
   },
   {
    "duration": 27,
    "start_time": "2021-06-16T11:35:35.444Z"
   },
   {
    "duration": 23,
    "start_time": "2021-06-16T11:35:53.156Z"
   },
   {
    "duration": 24,
    "start_time": "2021-06-16T11:36:03.356Z"
   },
   {
    "duration": 5,
    "start_time": "2021-06-16T11:37:12.847Z"
   },
   {
    "duration": 16,
    "start_time": "2021-06-16T11:37:14.516Z"
   },
   {
    "duration": 4,
    "start_time": "2021-06-16T11:38:47.236Z"
   },
   {
    "duration": 18,
    "start_time": "2021-06-16T11:38:52.691Z"
   },
   {
    "duration": 6,
    "start_time": "2021-06-16T11:40:58.861Z"
   },
   {
    "duration": 17,
    "start_time": "2021-06-16T11:41:01.531Z"
   },
   {
    "duration": 18,
    "start_time": "2021-06-16T11:41:02.372Z"
   },
   {
    "duration": 5,
    "start_time": "2021-06-16T11:43:35.838Z"
   },
   {
    "duration": 822,
    "start_time": "2021-06-16T11:43:36.836Z"
   },
   {
    "duration": 6,
    "start_time": "2021-06-16T11:44:11.316Z"
   },
   {
    "duration": 65,
    "start_time": "2021-06-16T11:44:11.883Z"
   },
   {
    "duration": 5,
    "start_time": "2021-06-16T11:44:46.428Z"
   },
   {
    "duration": 23,
    "start_time": "2021-06-16T11:44:46.899Z"
   },
   {
    "duration": 36,
    "start_time": "2021-06-16T11:44:54.283Z"
   },
   {
    "duration": 59,
    "start_time": "2021-06-16T11:46:36.004Z"
   },
   {
    "duration": 5,
    "start_time": "2021-06-16T11:47:27.677Z"
   },
   {
    "duration": 30,
    "start_time": "2021-06-16T11:47:29.088Z"
   },
   {
    "duration": 80,
    "start_time": "2021-06-16T11:54:09.907Z"
   },
   {
    "duration": 5,
    "start_time": "2021-06-16T11:54:11.172Z"
   },
   {
    "duration": 29,
    "start_time": "2021-06-16T11:54:11.692Z"
   },
   {
    "duration": 302,
    "start_time": "2021-06-16T11:54:43.133Z"
   },
   {
    "duration": 3465,
    "start_time": "2021-06-16T11:54:53.531Z"
   },
   {
    "duration": 32,
    "start_time": "2021-06-16T11:54:56.999Z"
   },
   {
    "duration": 5,
    "start_time": "2021-06-16T12:02:19.614Z"
   },
   {
    "duration": 35,
    "start_time": "2021-06-16T12:02:20.958Z"
   },
   {
    "duration": 3397,
    "start_time": "2021-06-16T12:02:23.454Z"
   },
   {
    "duration": 580,
    "start_time": "2021-06-16T12:02:26.856Z"
   },
   {
    "duration": 4,
    "start_time": "2021-06-16T12:03:06.077Z"
   },
   {
    "duration": 31,
    "start_time": "2021-06-16T12:03:06.573Z"
   },
   {
    "duration": 3422,
    "start_time": "2021-06-16T12:03:08.275Z"
   },
   {
    "duration": 59,
    "start_time": "2021-06-16T12:03:11.700Z"
   },
   {
    "duration": 5,
    "start_time": "2021-06-16T12:03:41.702Z"
   },
   {
    "duration": 38,
    "start_time": "2021-06-16T12:03:42.149Z"
   },
   {
    "duration": 3691,
    "start_time": "2021-06-16T12:03:44.437Z"
   },
   {
    "duration": 52,
    "start_time": "2021-06-16T12:03:48.131Z"
   },
   {
    "duration": 34,
    "start_time": "2021-06-16T12:08:00.274Z"
   },
   {
    "duration": 26,
    "start_time": "2021-06-16T12:08:23.042Z"
   },
   {
    "duration": 29,
    "start_time": "2021-06-16T12:08:34.813Z"
   },
   {
    "duration": 5,
    "start_time": "2021-06-16T12:22:16.666Z"
   },
   {
    "duration": 96,
    "start_time": "2021-06-16T12:27:38.253Z"
   },
   {
    "duration": 88,
    "start_time": "2021-06-16T12:27:47.450Z"
   },
   {
    "duration": 92,
    "start_time": "2021-06-16T12:27:52.667Z"
   },
   {
    "duration": 264,
    "start_time": "2021-06-16T12:31:08.748Z"
   },
   {
    "duration": 6,
    "start_time": "2021-06-16T12:31:15.799Z"
   },
   {
    "duration": 6,
    "start_time": "2021-06-16T12:31:24.917Z"
   },
   {
    "duration": 7,
    "start_time": "2021-06-16T12:31:38.215Z"
   },
   {
    "duration": 11,
    "start_time": "2021-06-16T12:31:53.279Z"
   },
   {
    "duration": 8,
    "start_time": "2021-06-16T12:42:44.817Z"
   },
   {
    "duration": 10,
    "start_time": "2021-06-16T12:42:47.800Z"
   },
   {
    "duration": 270,
    "start_time": "2021-06-16T12:48:48.306Z"
   },
   {
    "duration": 13,
    "start_time": "2021-06-16T12:48:53.872Z"
   },
   {
    "duration": 8,
    "start_time": "2021-06-16T12:49:12.807Z"
   },
   {
    "duration": 6,
    "start_time": "2021-06-16T12:49:22.886Z"
   },
   {
    "duration": 9,
    "start_time": "2021-06-16T12:49:30.774Z"
   },
   {
    "duration": 9,
    "start_time": "2021-06-16T12:49:36.414Z"
   },
   {
    "duration": 10,
    "start_time": "2021-06-16T12:49:37.254Z"
   },
   {
    "duration": 9,
    "start_time": "2021-06-16T12:50:48.479Z"
   },
   {
    "duration": 8,
    "start_time": "2021-06-16T12:52:08.894Z"
   },
   {
    "duration": 8,
    "start_time": "2021-06-16T12:53:50.885Z"
   },
   {
    "duration": 10,
    "start_time": "2021-06-16T12:54:03.110Z"
   },
   {
    "duration": 8,
    "start_time": "2021-06-16T12:54:16.342Z"
   },
   {
    "duration": 6,
    "start_time": "2021-06-16T12:54:27.415Z"
   },
   {
    "duration": 5,
    "start_time": "2021-06-16T13:09:49.893Z"
   },
   {
    "duration": 34,
    "start_time": "2021-06-16T13:09:49.900Z"
   },
   {
    "duration": 7,
    "start_time": "2021-06-16T13:09:49.938Z"
   },
   {
    "duration": 35,
    "start_time": "2021-06-16T13:09:49.948Z"
   },
   {
    "duration": 7,
    "start_time": "2021-06-16T13:09:49.985Z"
   },
   {
    "duration": 12,
    "start_time": "2021-06-16T13:09:49.994Z"
   },
   {
    "duration": 16,
    "start_time": "2021-06-16T13:09:50.009Z"
   },
   {
    "duration": 34,
    "start_time": "2021-06-16T13:09:50.029Z"
   },
   {
    "duration": 105,
    "start_time": "2021-06-16T13:09:50.066Z"
   },
   {
    "duration": 5,
    "start_time": "2021-06-16T13:09:50.174Z"
   },
   {
    "duration": 37,
    "start_time": "2021-06-16T13:09:50.181Z"
   },
   {
    "duration": 3324,
    "start_time": "2021-06-16T13:09:50.221Z"
   },
   {
    "duration": 37,
    "start_time": "2021-06-16T13:09:53.547Z"
   },
   {
    "duration": 23,
    "start_time": "2021-06-16T13:09:53.586Z"
   },
   {
    "duration": 3,
    "start_time": "2021-06-16T13:09:53.612Z"
   },
   {
    "duration": 41,
    "start_time": "2021-06-16T13:09:53.618Z"
   },
   {
    "duration": 103,
    "start_time": "2021-06-16T13:09:53.662Z"
   },
   {
    "duration": 8,
    "start_time": "2021-06-16T13:09:53.768Z"
   },
   {
    "duration": 13,
    "start_time": "2021-06-16T13:09:53.779Z"
   },
   {
    "duration": 8,
    "start_time": "2021-06-16T13:09:53.794Z"
   },
   {
    "duration": 1583,
    "start_time": "2021-06-17T09:04:49.169Z"
   },
   {
    "duration": 92,
    "start_time": "2021-06-17T09:04:50.754Z"
   },
   {
    "duration": 10,
    "start_time": "2021-06-17T09:04:50.848Z"
   },
   {
    "duration": 41,
    "start_time": "2021-06-17T09:04:50.860Z"
   },
   {
    "duration": 7,
    "start_time": "2021-06-17T09:04:50.904Z"
   },
   {
    "duration": 17,
    "start_time": "2021-06-17T09:04:50.936Z"
   },
   {
    "duration": 14,
    "start_time": "2021-06-17T09:04:50.956Z"
   },
   {
    "duration": 10,
    "start_time": "2021-06-17T09:04:50.973Z"
   },
   {
    "duration": 105,
    "start_time": "2021-06-17T09:04:50.985Z"
   },
   {
    "duration": 4,
    "start_time": "2021-06-17T09:04:51.092Z"
   },
   {
    "duration": 78414,
    "start_time": "2021-06-17T09:04:51.098Z"
   },
   {
    "duration": 3184,
    "start_time": "2021-06-17T09:06:09.515Z"
   },
   {
    "duration": 42,
    "start_time": "2021-06-17T09:06:12.702Z"
   },
   {
    "duration": 28,
    "start_time": "2021-06-17T09:06:12.747Z"
   },
   {
    "duration": 3,
    "start_time": "2021-06-17T09:06:12.778Z"
   },
   {
    "duration": 45,
    "start_time": "2021-06-17T09:06:12.784Z"
   },
   {
    "duration": 96,
    "start_time": "2021-06-17T09:06:12.831Z"
   },
   {
    "duration": 8,
    "start_time": "2021-06-17T09:06:12.930Z"
   },
   {
    "duration": 18,
    "start_time": "2021-06-17T09:06:12.941Z"
   },
   {
    "duration": 9,
    "start_time": "2021-06-17T09:06:12.962Z"
   }
  ],
  "kernelspec": {
   "display_name": "Python 3",
   "language": "python",
   "name": "python3"
  },
  "language_info": {
   "codemirror_mode": {
    "name": "ipython",
    "version": 3
   },
   "file_extension": ".py",
   "mimetype": "text/x-python",
   "name": "python",
   "nbconvert_exporter": "python",
   "pygments_lexer": "ipython3",
   "version": "3.8.5"
  },
  "toc": {
   "base_numbering": 1,
   "nav_menu": {},
   "number_sections": true,
   "sideBar": true,
   "skip_h1_title": true,
   "title_cell": "Table of Contents",
   "title_sidebar": "Contents",
   "toc_cell": false,
   "toc_position": {},
   "toc_section_display": true,
   "toc_window_display": false
  }
 },
 "nbformat": 4,
 "nbformat_minor": 4
}
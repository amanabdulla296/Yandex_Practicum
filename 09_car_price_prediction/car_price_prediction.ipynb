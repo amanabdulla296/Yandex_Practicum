{
 "cells": [
  {
   "cell_type": "markdown",
   "metadata": {},
   "source": [
    "# Optimal algorithm for price prediction"
   ]
  },
  {
   "cell_type": "markdown",
   "metadata": {},
   "source": [
    "## 1. Data preparation"
   ]
  },
  {
   "cell_type": "markdown",
   "metadata": {},
   "source": [
    "### 1.1 Data loading"
   ]
  },
  {
   "cell_type": "code",
   "execution_count": 2,
   "metadata": {},
   "outputs": [],
   "source": [
    "# required libraries\n",
    "import pandas as pd\n",
    "import numpy as np\n",
    "import matplotlib.pyplot as plt\n",
    "import seaborn as sns\n",
    "\n",
    "from sklearn.model_selection import train_test_split, cross_val_score\n",
    "from sklearn.preprocessing import StandardScaler, OrdinalEncoder\n",
    "from sklearn.metrics import r2_score, mean_squared_error\n",
    "from sklearn.linear_model import LinearRegression\n",
    "from sklearn.ensemble import RandomForestRegressor\n",
    "\n",
    "from catboost import CatBoostRegressor\n",
    "from lightgbm import LGBMRegressor\n",
    "import xgboost as xgb\n",
    "\n",
    "import time\n",
    "import warnings\n",
    "\n",
    "warnings.filterwarnings(\"ignore\")"
   ]
  },
  {
   "cell_type": "code",
   "execution_count": 4,
   "metadata": {
    "scrolled": true
   },
   "outputs": [
    {
     "data": {
      "text/html": [
       "<div>\n",
       "<style scoped>\n",
       "    .dataframe tbody tr th:only-of-type {\n",
       "        vertical-align: middle;\n",
       "    }\n",
       "\n",
       "    .dataframe tbody tr th {\n",
       "        vertical-align: top;\n",
       "    }\n",
       "\n",
       "    .dataframe thead th {\n",
       "        text-align: right;\n",
       "    }\n",
       "</style>\n",
       "<table border=\"1\" class=\"dataframe\">\n",
       "  <thead>\n",
       "    <tr style=\"text-align: right;\">\n",
       "      <th></th>\n",
       "      <th>DateCrawled</th>\n",
       "      <th>Price</th>\n",
       "      <th>VehicleType</th>\n",
       "      <th>RegistrationYear</th>\n",
       "      <th>Gearbox</th>\n",
       "      <th>Power</th>\n",
       "      <th>Model</th>\n",
       "      <th>Mileage</th>\n",
       "      <th>RegistrationMonth</th>\n",
       "      <th>FuelType</th>\n",
       "      <th>Brand</th>\n",
       "      <th>NotRepaired</th>\n",
       "      <th>DateCreated</th>\n",
       "      <th>NumberOfPictures</th>\n",
       "      <th>PostalCode</th>\n",
       "      <th>LastSeen</th>\n",
       "    </tr>\n",
       "  </thead>\n",
       "  <tbody>\n",
       "    <tr>\n",
       "      <th>0</th>\n",
       "      <td>24/03/2016 11:52</td>\n",
       "      <td>480</td>\n",
       "      <td>NaN</td>\n",
       "      <td>1993</td>\n",
       "      <td>manual</td>\n",
       "      <td>0</td>\n",
       "      <td>golf</td>\n",
       "      <td>150000</td>\n",
       "      <td>0</td>\n",
       "      <td>petrol</td>\n",
       "      <td>volkswagen</td>\n",
       "      <td>NaN</td>\n",
       "      <td>24/03/2016 00:00</td>\n",
       "      <td>0</td>\n",
       "      <td>70435</td>\n",
       "      <td>07/04/2016 03:16</td>\n",
       "    </tr>\n",
       "    <tr>\n",
       "      <th>1</th>\n",
       "      <td>24/03/2016 10:58</td>\n",
       "      <td>18300</td>\n",
       "      <td>coupe</td>\n",
       "      <td>2011</td>\n",
       "      <td>manual</td>\n",
       "      <td>190</td>\n",
       "      <td>NaN</td>\n",
       "      <td>125000</td>\n",
       "      <td>5</td>\n",
       "      <td>gasoline</td>\n",
       "      <td>audi</td>\n",
       "      <td>yes</td>\n",
       "      <td>24/03/2016 00:00</td>\n",
       "      <td>0</td>\n",
       "      <td>66954</td>\n",
       "      <td>07/04/2016 01:46</td>\n",
       "    </tr>\n",
       "    <tr>\n",
       "      <th>2</th>\n",
       "      <td>14/03/2016 12:52</td>\n",
       "      <td>9800</td>\n",
       "      <td>suv</td>\n",
       "      <td>2004</td>\n",
       "      <td>auto</td>\n",
       "      <td>163</td>\n",
       "      <td>grand</td>\n",
       "      <td>125000</td>\n",
       "      <td>8</td>\n",
       "      <td>gasoline</td>\n",
       "      <td>jeep</td>\n",
       "      <td>NaN</td>\n",
       "      <td>14/03/2016 00:00</td>\n",
       "      <td>0</td>\n",
       "      <td>90480</td>\n",
       "      <td>05/04/2016 12:47</td>\n",
       "    </tr>\n",
       "    <tr>\n",
       "      <th>3</th>\n",
       "      <td>17/03/2016 16:54</td>\n",
       "      <td>1500</td>\n",
       "      <td>small</td>\n",
       "      <td>2001</td>\n",
       "      <td>manual</td>\n",
       "      <td>75</td>\n",
       "      <td>golf</td>\n",
       "      <td>150000</td>\n",
       "      <td>6</td>\n",
       "      <td>petrol</td>\n",
       "      <td>volkswagen</td>\n",
       "      <td>no</td>\n",
       "      <td>17/03/2016 00:00</td>\n",
       "      <td>0</td>\n",
       "      <td>91074</td>\n",
       "      <td>17/03/2016 17:40</td>\n",
       "    </tr>\n",
       "    <tr>\n",
       "      <th>4</th>\n",
       "      <td>31/03/2016 17:25</td>\n",
       "      <td>3600</td>\n",
       "      <td>small</td>\n",
       "      <td>2008</td>\n",
       "      <td>manual</td>\n",
       "      <td>69</td>\n",
       "      <td>fabia</td>\n",
       "      <td>90000</td>\n",
       "      <td>7</td>\n",
       "      <td>gasoline</td>\n",
       "      <td>skoda</td>\n",
       "      <td>no</td>\n",
       "      <td>31/03/2016 00:00</td>\n",
       "      <td>0</td>\n",
       "      <td>60437</td>\n",
       "      <td>06/04/2016 10:17</td>\n",
       "    </tr>\n",
       "  </tbody>\n",
       "</table>\n",
       "</div>"
      ],
      "text/plain": [
       "        DateCrawled  Price VehicleType  RegistrationYear Gearbox  Power  \\\n",
       "0  24/03/2016 11:52    480         NaN              1993  manual      0   \n",
       "1  24/03/2016 10:58  18300       coupe              2011  manual    190   \n",
       "2  14/03/2016 12:52   9800         suv              2004    auto    163   \n",
       "3  17/03/2016 16:54   1500       small              2001  manual     75   \n",
       "4  31/03/2016 17:25   3600       small              2008  manual     69   \n",
       "\n",
       "   Model  Mileage  RegistrationMonth  FuelType       Brand NotRepaired  \\\n",
       "0   golf   150000                  0    petrol  volkswagen         NaN   \n",
       "1    NaN   125000                  5  gasoline        audi         yes   \n",
       "2  grand   125000                  8  gasoline        jeep         NaN   \n",
       "3   golf   150000                  6    petrol  volkswagen          no   \n",
       "4  fabia    90000                  7  gasoline       skoda          no   \n",
       "\n",
       "        DateCreated  NumberOfPictures  PostalCode          LastSeen  \n",
       "0  24/03/2016 00:00                 0       70435  07/04/2016 03:16  \n",
       "1  24/03/2016 00:00                 0       66954  07/04/2016 01:46  \n",
       "2  14/03/2016 00:00                 0       90480  05/04/2016 12:47  \n",
       "3  17/03/2016 00:00                 0       91074  17/03/2016 17:40  \n",
       "4  31/03/2016 00:00                 0       60437  06/04/2016 10:17  "
      ]
     },
     "execution_count": 4,
     "metadata": {},
     "output_type": "execute_result"
    }
   ],
   "source": [
    "# load the data\n",
    "df = pd.read_csv(\"car_data.csv\", parse_dates=True, infer_datetime_format=True)\n",
    "df.head()"
   ]
  },
  {
   "cell_type": "code",
   "execution_count": 5,
   "metadata": {},
   "outputs": [
    {
     "name": "stdout",
     "output_type": "stream",
     "text": [
      "<class 'pandas.core.frame.DataFrame'>\n",
      "RangeIndex: 354369 entries, 0 to 354368\n",
      "Data columns (total 16 columns):\n",
      " #   Column             Non-Null Count   Dtype \n",
      "---  ------             --------------   ----- \n",
      " 0   DateCrawled        354369 non-null  object\n",
      " 1   Price              354369 non-null  int64 \n",
      " 2   VehicleType        316879 non-null  object\n",
      " 3   RegistrationYear   354369 non-null  int64 \n",
      " 4   Gearbox            334536 non-null  object\n",
      " 5   Power              354369 non-null  int64 \n",
      " 6   Model              334664 non-null  object\n",
      " 7   Mileage            354369 non-null  int64 \n",
      " 8   RegistrationMonth  354369 non-null  int64 \n",
      " 9   FuelType           321474 non-null  object\n",
      " 10  Brand              354369 non-null  object\n",
      " 11  NotRepaired        283215 non-null  object\n",
      " 12  DateCreated        354369 non-null  object\n",
      " 13  NumberOfPictures   354369 non-null  int64 \n",
      " 14  PostalCode         354369 non-null  int64 \n",
      " 15  LastSeen           354369 non-null  object\n",
      "dtypes: int64(7), object(9)\n",
      "memory usage: 43.3+ MB\n"
     ]
    }
   ],
   "source": [
    "# print out the info about data\n",
    "df.info()"
   ]
  },
  {
   "cell_type": "code",
   "execution_count": 6,
   "metadata": {},
   "outputs": [
    {
     "data": {
      "text/html": [
       "<style type=\"text/css\">\n",
       "#T_d61a7_row0_col0, #T_d61a7_row0_col1, #T_d61a7_row1_col0, #T_d61a7_row1_col1, #T_d61a7_row3_col0, #T_d61a7_row3_col1, #T_d61a7_row5_col0, #T_d61a7_row5_col1, #T_d61a7_row7_col0, #T_d61a7_row7_col1, #T_d61a7_row8_col0, #T_d61a7_row8_col1, #T_d61a7_row10_col0, #T_d61a7_row10_col1, #T_d61a7_row12_col0, #T_d61a7_row12_col1, #T_d61a7_row13_col0, #T_d61a7_row13_col1, #T_d61a7_row14_col0, #T_d61a7_row14_col1, #T_d61a7_row15_col0, #T_d61a7_row15_col1 {\n",
       "  background-color: #fff7fb;\n",
       "  color: #000000;\n",
       "}\n",
       "#T_d61a7_row2_col0, #T_d61a7_row2_col1 {\n",
       "  background-color: #67a4cc;\n",
       "  color: #f1f1f1;\n",
       "}\n",
       "#T_d61a7_row4_col0, #T_d61a7_row4_col1 {\n",
       "  background-color: #c6cce3;\n",
       "  color: #000000;\n",
       "}\n",
       "#T_d61a7_row6_col0, #T_d61a7_row6_col1 {\n",
       "  background-color: #c8cde4;\n",
       "  color: #000000;\n",
       "}\n",
       "#T_d61a7_row9_col0, #T_d61a7_row9_col1 {\n",
       "  background-color: #83afd3;\n",
       "  color: #f1f1f1;\n",
       "}\n",
       "#T_d61a7_row11_col0, #T_d61a7_row11_col1 {\n",
       "  background-color: #023858;\n",
       "  color: #f1f1f1;\n",
       "}\n",
       "</style>\n",
       "<table id=\"T_d61a7_\">\n",
       "  <thead>\n",
       "    <tr>\n",
       "      <th class=\"blank level0\" >&nbsp;</th>\n",
       "      <th class=\"col_heading level0 col0\" >Number of missings</th>\n",
       "      <th class=\"col_heading level0 col1\" >% of missings</th>\n",
       "    </tr>\n",
       "  </thead>\n",
       "  <tbody>\n",
       "    <tr>\n",
       "      <th id=\"T_d61a7_level0_row0\" class=\"row_heading level0 row0\" >DateCrawled</th>\n",
       "      <td id=\"T_d61a7_row0_col0\" class=\"data row0 col0\" >0</td>\n",
       "      <td id=\"T_d61a7_row0_col1\" class=\"data row0 col1\" >0.000000</td>\n",
       "    </tr>\n",
       "    <tr>\n",
       "      <th id=\"T_d61a7_level0_row1\" class=\"row_heading level0 row1\" >Price</th>\n",
       "      <td id=\"T_d61a7_row1_col0\" class=\"data row1 col0\" >0</td>\n",
       "      <td id=\"T_d61a7_row1_col1\" class=\"data row1 col1\" >0.000000</td>\n",
       "    </tr>\n",
       "    <tr>\n",
       "      <th id=\"T_d61a7_level0_row2\" class=\"row_heading level0 row2\" >VehicleType</th>\n",
       "      <td id=\"T_d61a7_row2_col0\" class=\"data row2 col0\" >37490</td>\n",
       "      <td id=\"T_d61a7_row2_col1\" class=\"data row2 col1\" >10.579368</td>\n",
       "    </tr>\n",
       "    <tr>\n",
       "      <th id=\"T_d61a7_level0_row3\" class=\"row_heading level0 row3\" >RegistrationYear</th>\n",
       "      <td id=\"T_d61a7_row3_col0\" class=\"data row3 col0\" >0</td>\n",
       "      <td id=\"T_d61a7_row3_col1\" class=\"data row3 col1\" >0.000000</td>\n",
       "    </tr>\n",
       "    <tr>\n",
       "      <th id=\"T_d61a7_level0_row4\" class=\"row_heading level0 row4\" >Gearbox</th>\n",
       "      <td id=\"T_d61a7_row4_col0\" class=\"data row4 col0\" >19833</td>\n",
       "      <td id=\"T_d61a7_row4_col1\" class=\"data row4 col1\" >5.596709</td>\n",
       "    </tr>\n",
       "    <tr>\n",
       "      <th id=\"T_d61a7_level0_row5\" class=\"row_heading level0 row5\" >Power</th>\n",
       "      <td id=\"T_d61a7_row5_col0\" class=\"data row5 col0\" >0</td>\n",
       "      <td id=\"T_d61a7_row5_col1\" class=\"data row5 col1\" >0.000000</td>\n",
       "    </tr>\n",
       "    <tr>\n",
       "      <th id=\"T_d61a7_level0_row6\" class=\"row_heading level0 row6\" >Model</th>\n",
       "      <td id=\"T_d61a7_row6_col0\" class=\"data row6 col0\" >19705</td>\n",
       "      <td id=\"T_d61a7_row6_col1\" class=\"data row6 col1\" >5.560588</td>\n",
       "    </tr>\n",
       "    <tr>\n",
       "      <th id=\"T_d61a7_level0_row7\" class=\"row_heading level0 row7\" >Mileage</th>\n",
       "      <td id=\"T_d61a7_row7_col0\" class=\"data row7 col0\" >0</td>\n",
       "      <td id=\"T_d61a7_row7_col1\" class=\"data row7 col1\" >0.000000</td>\n",
       "    </tr>\n",
       "    <tr>\n",
       "      <th id=\"T_d61a7_level0_row8\" class=\"row_heading level0 row8\" >RegistrationMonth</th>\n",
       "      <td id=\"T_d61a7_row8_col0\" class=\"data row8 col0\" >0</td>\n",
       "      <td id=\"T_d61a7_row8_col1\" class=\"data row8 col1\" >0.000000</td>\n",
       "    </tr>\n",
       "    <tr>\n",
       "      <th id=\"T_d61a7_level0_row9\" class=\"row_heading level0 row9\" >FuelType</th>\n",
       "      <td id=\"T_d61a7_row9_col0\" class=\"data row9 col0\" >32895</td>\n",
       "      <td id=\"T_d61a7_row9_col1\" class=\"data row9 col1\" >9.282697</td>\n",
       "    </tr>\n",
       "    <tr>\n",
       "      <th id=\"T_d61a7_level0_row10\" class=\"row_heading level0 row10\" >Brand</th>\n",
       "      <td id=\"T_d61a7_row10_col0\" class=\"data row10 col0\" >0</td>\n",
       "      <td id=\"T_d61a7_row10_col1\" class=\"data row10 col1\" >0.000000</td>\n",
       "    </tr>\n",
       "    <tr>\n",
       "      <th id=\"T_d61a7_level0_row11\" class=\"row_heading level0 row11\" >NotRepaired</th>\n",
       "      <td id=\"T_d61a7_row11_col0\" class=\"data row11 col0\" >71154</td>\n",
       "      <td id=\"T_d61a7_row11_col1\" class=\"data row11 col1\" >20.079070</td>\n",
       "    </tr>\n",
       "    <tr>\n",
       "      <th id=\"T_d61a7_level0_row12\" class=\"row_heading level0 row12\" >DateCreated</th>\n",
       "      <td id=\"T_d61a7_row12_col0\" class=\"data row12 col0\" >0</td>\n",
       "      <td id=\"T_d61a7_row12_col1\" class=\"data row12 col1\" >0.000000</td>\n",
       "    </tr>\n",
       "    <tr>\n",
       "      <th id=\"T_d61a7_level0_row13\" class=\"row_heading level0 row13\" >NumberOfPictures</th>\n",
       "      <td id=\"T_d61a7_row13_col0\" class=\"data row13 col0\" >0</td>\n",
       "      <td id=\"T_d61a7_row13_col1\" class=\"data row13 col1\" >0.000000</td>\n",
       "    </tr>\n",
       "    <tr>\n",
       "      <th id=\"T_d61a7_level0_row14\" class=\"row_heading level0 row14\" >PostalCode</th>\n",
       "      <td id=\"T_d61a7_row14_col0\" class=\"data row14 col0\" >0</td>\n",
       "      <td id=\"T_d61a7_row14_col1\" class=\"data row14 col1\" >0.000000</td>\n",
       "    </tr>\n",
       "    <tr>\n",
       "      <th id=\"T_d61a7_level0_row15\" class=\"row_heading level0 row15\" >LastSeen</th>\n",
       "      <td id=\"T_d61a7_row15_col0\" class=\"data row15 col0\" >0</td>\n",
       "      <td id=\"T_d61a7_row15_col1\" class=\"data row15 col1\" >0.000000</td>\n",
       "    </tr>\n",
       "  </tbody>\n",
       "</table>\n"
      ],
      "text/plain": [
       "<pandas.io.formats.style.Styler at 0x22199b29520>"
      ]
     },
     "metadata": {},
     "output_type": "display_data"
    }
   ],
   "source": [
    "# calcualte number of missing values and their percentages in each columns of every data file\n",
    "def missing_data(list_of_dfs, list_of_names=None):\n",
    "    for i in range(len(list_of_dfs)):\n",
    "        df = list_of_dfs[i]\n",
    "        col_names = df.columns.tolist()\n",
    "        na_per_col = df.isna().sum().tolist()\n",
    "        na_percentage = (df.isna().sum() / len(df) * 100).tolist()\n",
    "        if list_of_names != None:\n",
    "            print(\"=\" * 20, \"Missing values of\", list_of_names[i], \"=\" * 20)\n",
    "        display(\n",
    "            pd.DataFrame(\n",
    "                list(zip(na_per_col, na_percentage)),\n",
    "                columns=[\"Number of missings\", \"% of missings\"],\n",
    "                index=col_names,\n",
    "            ).style.background_gradient(axis=0)\n",
    "        )\n",
    "\n",
    "\n",
    "# apply the function\n",
    "missing_data([df])"
   ]
  },
  {
   "cell_type": "markdown",
   "metadata": {},
   "source": [
    "columns_with_missing_values = ['vehicletype','gearbox', 'model', 'fueltype', 'notrepaired'] "
   ]
  },
  {
   "cell_type": "code",
   "execution_count": 7,
   "metadata": {},
   "outputs": [
    {
     "data": {
      "text/plain": [
       "262"
      ]
     },
     "metadata": {},
     "output_type": "display_data"
    },
    {
     "name": "stdout",
     "output_type": "stream",
     "text": [
      "Percentage of duplicated rows is 0.07%.\n"
     ]
    }
   ],
   "source": [
    "# check for number of duplicated rows\n",
    "display(df.duplicated().sum())\n",
    "print(f\"Percentage of duplicated rows is {df.duplicated().sum()/len(df):.2%}.\")"
   ]
  },
  {
   "cell_type": "code",
   "execution_count": 8,
   "metadata": {},
   "outputs": [
    {
     "data": {
      "text/html": [
       "<div>\n",
       "<style scoped>\n",
       "    .dataframe tbody tr th:only-of-type {\n",
       "        vertical-align: middle;\n",
       "    }\n",
       "\n",
       "    .dataframe tbody tr th {\n",
       "        vertical-align: top;\n",
       "    }\n",
       "\n",
       "    .dataframe thead th {\n",
       "        text-align: right;\n",
       "    }\n",
       "</style>\n",
       "<table border=\"1\" class=\"dataframe\">\n",
       "  <thead>\n",
       "    <tr style=\"text-align: right;\">\n",
       "      <th></th>\n",
       "      <th>DateCrawled</th>\n",
       "      <th>Price</th>\n",
       "      <th>VehicleType</th>\n",
       "      <th>RegistrationYear</th>\n",
       "      <th>Gearbox</th>\n",
       "      <th>Power</th>\n",
       "      <th>Model</th>\n",
       "      <th>Mileage</th>\n",
       "      <th>RegistrationMonth</th>\n",
       "      <th>FuelType</th>\n",
       "      <th>Brand</th>\n",
       "      <th>NotRepaired</th>\n",
       "      <th>DateCreated</th>\n",
       "      <th>NumberOfPictures</th>\n",
       "      <th>PostalCode</th>\n",
       "      <th>LastSeen</th>\n",
       "    </tr>\n",
       "  </thead>\n",
       "  <tbody>\n",
       "    <tr>\n",
       "      <th>90786</th>\n",
       "      <td>01/04/2016 05:02</td>\n",
       "      <td>6199</td>\n",
       "      <td>coupe</td>\n",
       "      <td>1999</td>\n",
       "      <td>manual</td>\n",
       "      <td>193</td>\n",
       "      <td>3er</td>\n",
       "      <td>150000</td>\n",
       "      <td>5</td>\n",
       "      <td>petrol</td>\n",
       "      <td>bmw</td>\n",
       "      <td>no</td>\n",
       "      <td>01/04/2016 00:00</td>\n",
       "      <td>0</td>\n",
       "      <td>99974</td>\n",
       "      <td>07/04/2016 06:15</td>\n",
       "    </tr>\n",
       "    <tr>\n",
       "      <th>87112</th>\n",
       "      <td>01/04/2016 05:02</td>\n",
       "      <td>6199</td>\n",
       "      <td>coupe</td>\n",
       "      <td>1999</td>\n",
       "      <td>manual</td>\n",
       "      <td>193</td>\n",
       "      <td>3er</td>\n",
       "      <td>150000</td>\n",
       "      <td>5</td>\n",
       "      <td>petrol</td>\n",
       "      <td>bmw</td>\n",
       "      <td>no</td>\n",
       "      <td>01/04/2016 00:00</td>\n",
       "      <td>0</td>\n",
       "      <td>99974</td>\n",
       "      <td>07/04/2016 06:15</td>\n",
       "    </tr>\n",
       "    <tr>\n",
       "      <th>45825</th>\n",
       "      <td>01/04/2016 10:38</td>\n",
       "      <td>3499</td>\n",
       "      <td>small</td>\n",
       "      <td>2005</td>\n",
       "      <td>manual</td>\n",
       "      <td>86</td>\n",
       "      <td>getz</td>\n",
       "      <td>50000</td>\n",
       "      <td>5</td>\n",
       "      <td>petrol</td>\n",
       "      <td>hyundai</td>\n",
       "      <td>no</td>\n",
       "      <td>01/04/2016 00:00</td>\n",
       "      <td>0</td>\n",
       "      <td>47800</td>\n",
       "      <td>07/04/2016 06:46</td>\n",
       "    </tr>\n",
       "    <tr>\n",
       "      <th>142496</th>\n",
       "      <td>01/04/2016 10:38</td>\n",
       "      <td>3499</td>\n",
       "      <td>small</td>\n",
       "      <td>2005</td>\n",
       "      <td>manual</td>\n",
       "      <td>86</td>\n",
       "      <td>getz</td>\n",
       "      <td>50000</td>\n",
       "      <td>5</td>\n",
       "      <td>petrol</td>\n",
       "      <td>hyundai</td>\n",
       "      <td>no</td>\n",
       "      <td>01/04/2016 00:00</td>\n",
       "      <td>0</td>\n",
       "      <td>47800</td>\n",
       "      <td>07/04/2016 06:46</td>\n",
       "    </tr>\n",
       "    <tr>\n",
       "      <th>12578</th>\n",
       "      <td>01/04/2016 12:57</td>\n",
       "      <td>1499</td>\n",
       "      <td>wagon</td>\n",
       "      <td>1995</td>\n",
       "      <td>manual</td>\n",
       "      <td>150</td>\n",
       "      <td>5er</td>\n",
       "      <td>150000</td>\n",
       "      <td>6</td>\n",
       "      <td>petrol</td>\n",
       "      <td>bmw</td>\n",
       "      <td>no</td>\n",
       "      <td>01/04/2016 00:00</td>\n",
       "      <td>0</td>\n",
       "      <td>25821</td>\n",
       "      <td>07/04/2016 09:44</td>\n",
       "    </tr>\n",
       "    <tr>\n",
       "      <th>...</th>\n",
       "      <td>...</td>\n",
       "      <td>...</td>\n",
       "      <td>...</td>\n",
       "      <td>...</td>\n",
       "      <td>...</td>\n",
       "      <td>...</td>\n",
       "      <td>...</td>\n",
       "      <td>...</td>\n",
       "      <td>...</td>\n",
       "      <td>...</td>\n",
       "      <td>...</td>\n",
       "      <td>...</td>\n",
       "      <td>...</td>\n",
       "      <td>...</td>\n",
       "      <td>...</td>\n",
       "      <td>...</td>\n",
       "    </tr>\n",
       "    <tr>\n",
       "      <th>68628</th>\n",
       "      <td>31/03/2016 19:51</td>\n",
       "      <td>999</td>\n",
       "      <td>small</td>\n",
       "      <td>1998</td>\n",
       "      <td>manual</td>\n",
       "      <td>60</td>\n",
       "      <td>corsa</td>\n",
       "      <td>150000</td>\n",
       "      <td>5</td>\n",
       "      <td>petrol</td>\n",
       "      <td>opel</td>\n",
       "      <td>no</td>\n",
       "      <td>31/03/2016 00:00</td>\n",
       "      <td>0</td>\n",
       "      <td>85111</td>\n",
       "      <td>06/04/2016 14:18</td>\n",
       "    </tr>\n",
       "    <tr>\n",
       "      <th>228351</th>\n",
       "      <td>31/03/2016 20:25</td>\n",
       "      <td>9600</td>\n",
       "      <td>sedan</td>\n",
       "      <td>2006</td>\n",
       "      <td>manual</td>\n",
       "      <td>226</td>\n",
       "      <td>focus</td>\n",
       "      <td>125000</td>\n",
       "      <td>4</td>\n",
       "      <td>petrol</td>\n",
       "      <td>ford</td>\n",
       "      <td>no</td>\n",
       "      <td>31/03/2016 00:00</td>\n",
       "      <td>0</td>\n",
       "      <td>55469</td>\n",
       "      <td>06/04/2016 14:15</td>\n",
       "    </tr>\n",
       "    <tr>\n",
       "      <th>27192</th>\n",
       "      <td>31/03/2016 20:25</td>\n",
       "      <td>9600</td>\n",
       "      <td>sedan</td>\n",
       "      <td>2006</td>\n",
       "      <td>manual</td>\n",
       "      <td>226</td>\n",
       "      <td>focus</td>\n",
       "      <td>125000</td>\n",
       "      <td>4</td>\n",
       "      <td>petrol</td>\n",
       "      <td>ford</td>\n",
       "      <td>no</td>\n",
       "      <td>31/03/2016 00:00</td>\n",
       "      <td>0</td>\n",
       "      <td>55469</td>\n",
       "      <td>06/04/2016 14:15</td>\n",
       "    </tr>\n",
       "    <tr>\n",
       "      <th>30499</th>\n",
       "      <td>31/03/2016 23:51</td>\n",
       "      <td>5999</td>\n",
       "      <td>wagon</td>\n",
       "      <td>2007</td>\n",
       "      <td>manual</td>\n",
       "      <td>120</td>\n",
       "      <td>astra</td>\n",
       "      <td>150000</td>\n",
       "      <td>3</td>\n",
       "      <td>gasoline</td>\n",
       "      <td>opel</td>\n",
       "      <td>no</td>\n",
       "      <td>31/03/2016 00:00</td>\n",
       "      <td>0</td>\n",
       "      <td>95482</td>\n",
       "      <td>07/04/2016 00:17</td>\n",
       "    </tr>\n",
       "    <tr>\n",
       "      <th>165358</th>\n",
       "      <td>31/03/2016 23:51</td>\n",
       "      <td>5999</td>\n",
       "      <td>wagon</td>\n",
       "      <td>2007</td>\n",
       "      <td>manual</td>\n",
       "      <td>120</td>\n",
       "      <td>astra</td>\n",
       "      <td>150000</td>\n",
       "      <td>3</td>\n",
       "      <td>gasoline</td>\n",
       "      <td>opel</td>\n",
       "      <td>no</td>\n",
       "      <td>31/03/2016 00:00</td>\n",
       "      <td>0</td>\n",
       "      <td>95482</td>\n",
       "      <td>07/04/2016 00:17</td>\n",
       "    </tr>\n",
       "  </tbody>\n",
       "</table>\n",
       "<p>524 rows × 16 columns</p>\n",
       "</div>"
      ],
      "text/plain": [
       "             DateCrawled  Price VehicleType  RegistrationYear Gearbox  Power  \\\n",
       "90786   01/04/2016 05:02   6199       coupe              1999  manual    193   \n",
       "87112   01/04/2016 05:02   6199       coupe              1999  manual    193   \n",
       "45825   01/04/2016 10:38   3499       small              2005  manual     86   \n",
       "142496  01/04/2016 10:38   3499       small              2005  manual     86   \n",
       "12578   01/04/2016 12:57   1499       wagon              1995  manual    150   \n",
       "...                  ...    ...         ...               ...     ...    ...   \n",
       "68628   31/03/2016 19:51    999       small              1998  manual     60   \n",
       "228351  31/03/2016 20:25   9600       sedan              2006  manual    226   \n",
       "27192   31/03/2016 20:25   9600       sedan              2006  manual    226   \n",
       "30499   31/03/2016 23:51   5999       wagon              2007  manual    120   \n",
       "165358  31/03/2016 23:51   5999       wagon              2007  manual    120   \n",
       "\n",
       "        Model  Mileage  RegistrationMonth  FuelType    Brand NotRepaired  \\\n",
       "90786     3er   150000                  5    petrol      bmw          no   \n",
       "87112     3er   150000                  5    petrol      bmw          no   \n",
       "45825    getz    50000                  5    petrol  hyundai          no   \n",
       "142496   getz    50000                  5    petrol  hyundai          no   \n",
       "12578     5er   150000                  6    petrol      bmw          no   \n",
       "...       ...      ...                ...       ...      ...         ...   \n",
       "68628   corsa   150000                  5    petrol     opel          no   \n",
       "228351  focus   125000                  4    petrol     ford          no   \n",
       "27192   focus   125000                  4    petrol     ford          no   \n",
       "30499   astra   150000                  3  gasoline     opel          no   \n",
       "165358  astra   150000                  3  gasoline     opel          no   \n",
       "\n",
       "             DateCreated  NumberOfPictures  PostalCode          LastSeen  \n",
       "90786   01/04/2016 00:00                 0       99974  07/04/2016 06:15  \n",
       "87112   01/04/2016 00:00                 0       99974  07/04/2016 06:15  \n",
       "45825   01/04/2016 00:00                 0       47800  07/04/2016 06:46  \n",
       "142496  01/04/2016 00:00                 0       47800  07/04/2016 06:46  \n",
       "12578   01/04/2016 00:00                 0       25821  07/04/2016 09:44  \n",
       "...                  ...               ...         ...               ...  \n",
       "68628   31/03/2016 00:00                 0       85111  06/04/2016 14:18  \n",
       "228351  31/03/2016 00:00                 0       55469  06/04/2016 14:15  \n",
       "27192   31/03/2016 00:00                 0       55469  06/04/2016 14:15  \n",
       "30499   31/03/2016 00:00                 0       95482  07/04/2016 00:17  \n",
       "165358  31/03/2016 00:00                 0       95482  07/04/2016 00:17  \n",
       "\n",
       "[524 rows x 16 columns]"
      ]
     },
     "execution_count": 8,
     "metadata": {},
     "output_type": "execute_result"
    }
   ],
   "source": [
    "# retreiev which rows were repeated\n",
    "duplicates = df.duplicated(keep=False)\n",
    "df.loc[duplicates].sort_values([\"DateCrawled\"])"
   ]
  },
  {
   "cell_type": "markdown",
   "metadata": {},
   "source": [
    "> **Issues identified so far: \n",
    "- Columns names should be in lowercase;\n",
    "- data types of several columns;\n",
    "- 5 columns have missing values and `power` col has zeros, should be dealed;\n",
    "- 262 duplicated values for now (after filling missing values these may increase)"
   ]
  },
  {
   "cell_type": "markdown",
   "metadata": {},
   "source": [
    "### 1.2 Preprocessing"
   ]
  },
  {
   "cell_type": "markdown",
   "metadata": {},
   "source": [
    "#### 1.2.1 Columns names"
   ]
  },
  {
   "cell_type": "code",
   "execution_count": 9,
   "metadata": {
    "scrolled": true
   },
   "outputs": [
    {
     "data": {
      "text/html": [
       "<div>\n",
       "<style scoped>\n",
       "    .dataframe tbody tr th:only-of-type {\n",
       "        vertical-align: middle;\n",
       "    }\n",
       "\n",
       "    .dataframe tbody tr th {\n",
       "        vertical-align: top;\n",
       "    }\n",
       "\n",
       "    .dataframe thead th {\n",
       "        text-align: right;\n",
       "    }\n",
       "</style>\n",
       "<table border=\"1\" class=\"dataframe\">\n",
       "  <thead>\n",
       "    <tr style=\"text-align: right;\">\n",
       "      <th></th>\n",
       "      <th>datecrawled</th>\n",
       "      <th>price</th>\n",
       "      <th>vehicletype</th>\n",
       "      <th>registrationyear</th>\n",
       "      <th>gearbox</th>\n",
       "      <th>power</th>\n",
       "      <th>model</th>\n",
       "      <th>mileage</th>\n",
       "      <th>registrationmonth</th>\n",
       "      <th>fueltype</th>\n",
       "      <th>brand</th>\n",
       "      <th>notrepaired</th>\n",
       "      <th>datecreated</th>\n",
       "      <th>numberofpictures</th>\n",
       "      <th>postalcode</th>\n",
       "      <th>lastseen</th>\n",
       "    </tr>\n",
       "  </thead>\n",
       "  <tbody>\n",
       "    <tr>\n",
       "      <th>0</th>\n",
       "      <td>24/03/2016 11:52</td>\n",
       "      <td>480</td>\n",
       "      <td>NaN</td>\n",
       "      <td>1993</td>\n",
       "      <td>manual</td>\n",
       "      <td>0</td>\n",
       "      <td>golf</td>\n",
       "      <td>150000</td>\n",
       "      <td>0</td>\n",
       "      <td>petrol</td>\n",
       "      <td>volkswagen</td>\n",
       "      <td>NaN</td>\n",
       "      <td>24/03/2016 00:00</td>\n",
       "      <td>0</td>\n",
       "      <td>70435</td>\n",
       "      <td>07/04/2016 03:16</td>\n",
       "    </tr>\n",
       "  </tbody>\n",
       "</table>\n",
       "</div>"
      ],
      "text/plain": [
       "        datecrawled  price vehicletype  registrationyear gearbox  power model  \\\n",
       "0  24/03/2016 11:52    480         NaN              1993  manual      0  golf   \n",
       "\n",
       "   mileage  registrationmonth fueltype       brand notrepaired  \\\n",
       "0   150000                  0   petrol  volkswagen         NaN   \n",
       "\n",
       "        datecreated  numberofpictures  postalcode          lastseen  \n",
       "0  24/03/2016 00:00                 0       70435  07/04/2016 03:16  "
      ]
     },
     "execution_count": 9,
     "metadata": {},
     "output_type": "execute_result"
    }
   ],
   "source": [
    "# convert column names to lowercase\n",
    "df.columns = df.columns.str.lower().str.strip()\n",
    "df.head(1)"
   ]
  },
  {
   "cell_type": "markdown",
   "metadata": {},
   "source": [
    "#### 1.2.2 Column dtypes"
   ]
  },
  {
   "cell_type": "code",
   "execution_count": 10,
   "metadata": {},
   "outputs": [
    {
     "data": {
      "text/plain": [
       "datecrawled          datetime64[ns]\n",
       "price                         int64\n",
       "vehicletype                  object\n",
       "registrationyear              int64\n",
       "gearbox                      object\n",
       "power                         int64\n",
       "model                        object\n",
       "mileage                       int64\n",
       "registrationmonth             int64\n",
       "fueltype                     object\n",
       "brand                        object\n",
       "notrepaired                  object\n",
       "datecreated          datetime64[ns]\n",
       "numberofpictures              int64\n",
       "postalcode                    int64\n",
       "lastseen             datetime64[ns]\n",
       "dtype: object"
      ]
     },
     "execution_count": 10,
     "metadata": {},
     "output_type": "execute_result"
    }
   ],
   "source": [
    "df[[\"datecrawled\", \"datecreated\", \"lastseen\"]] = df[\n",
    "    [\"datecrawled\", \"datecreated\", \"lastseen\"]\n",
    "].apply(pd.to_datetime, infer_datetime_format=True)\n",
    "df.dtypes"
   ]
  },
  {
   "cell_type": "markdown",
   "metadata": {},
   "source": [
    "#### 1.2.3 Missing values"
   ]
  },
  {
   "cell_type": "code",
   "execution_count": 11,
   "metadata": {},
   "outputs": [
    {
     "data": {
      "text/plain": [
       "datecrawled          0\n",
       "price                0\n",
       "vehicletype          0\n",
       "registrationyear     0\n",
       "gearbox              0\n",
       "power                0\n",
       "model                0\n",
       "mileage              0\n",
       "registrationmonth    0\n",
       "fueltype             0\n",
       "brand                0\n",
       "notrepaired          0\n",
       "datecreated          0\n",
       "numberofpictures     0\n",
       "postalcode           0\n",
       "lastseen             0\n",
       "dtype: int64"
      ]
     },
     "execution_count": 11,
     "metadata": {},
     "output_type": "execute_result"
    }
   ],
   "source": [
    "columns_with_missing_values = [\n",
    "    \"vehicletype\",\n",
    "    \"gearbox\",\n",
    "    \"model\",\n",
    "    \"fueltype\",\n",
    "    \"notrepaired\",\n",
    "]\n",
    "df[columns_with_missing_values] = df[columns_with_missing_values].fillna(\"unknown\")\n",
    "df.isna().sum()"
   ]
  },
  {
   "cell_type": "markdown",
   "metadata": {},
   "source": [
    "#### 1.2.4 Duplicates"
   ]
  },
  {
   "cell_type": "code",
   "execution_count": 12,
   "metadata": {
    "scrolled": true
   },
   "outputs": [
    {
     "name": "stdout",
     "output_type": "stream",
     "text": [
      "Number of duplicated rows 262 and total number of rows 354369.\n",
      "\n",
      "==================== After dropping ducplicates ====================\n",
      "Number of duplicated rows 0 and total number of rows 354107.\n"
     ]
    }
   ],
   "source": [
    "print(\n",
    "    f\"Number of duplicated rows {df.duplicated().sum()} and total number of rows {df.shape[0]}.\"\n",
    ")\n",
    "df = df.drop_duplicates()\n",
    "print()\n",
    "print(\"=\" * 20, \"After dropping ducplicates\", \"=\" * 20)\n",
    "print(\n",
    "    f\"Number of duplicated rows {df.duplicated().sum()} and total number of rows {df.shape[0]}.\"\n",
    ")"
   ]
  },
  {
   "cell_type": "markdown",
   "metadata": {},
   "source": [
    "#### 1.2.5 Create an age column"
   ]
  },
  {
   "cell_type": "code",
   "execution_count": 13,
   "metadata": {
    "scrolled": true
   },
   "outputs": [
    {
     "data": {
      "text/plain": [
       "(count    354107.000000\n",
       " mean       2004.235355\n",
       " std          90.261168\n",
       " min        1000.000000\n",
       " 25%        1999.000000\n",
       " 50%        2003.000000\n",
       " 75%        2008.000000\n",
       " max        9999.000000\n",
       " Name: registrationyear, dtype: float64,\n",
       " count    354107.000000\n",
       " mean       2015.999924\n",
       " std           0.009049\n",
       " min        2014.000000\n",
       " 25%        2016.000000\n",
       " 50%        2016.000000\n",
       " 75%        2016.000000\n",
       " max        2016.000000\n",
       " Name: datecreated, dtype: float64)"
      ]
     },
     "execution_count": 13,
     "metadata": {},
     "output_type": "execute_result"
    }
   ],
   "source": [
    "# check descriptive statistics of registrationyear and datecrated columns\n",
    "df.registrationyear.describe(), df.datecreated.dt.year.describe()"
   ]
  },
  {
   "cell_type": "code",
   "execution_count": 14,
   "metadata": {
    "scrolled": true
   },
   "outputs": [
    {
     "data": {
      "text/plain": [
       "4.121635550836329"
      ]
     },
     "metadata": {},
     "output_type": "display_data"
    },
    {
     "name": "stdout",
     "output_type": "stream",
     "text": [
      "\n"
     ]
    },
    {
     "data": {
      "text/html": [
       "<div>\n",
       "<style scoped>\n",
       "    .dataframe tbody tr th:only-of-type {\n",
       "        vertical-align: middle;\n",
       "    }\n",
       "\n",
       "    .dataframe tbody tr th {\n",
       "        vertical-align: top;\n",
       "    }\n",
       "\n",
       "    .dataframe thead th {\n",
       "        text-align: right;\n",
       "    }\n",
       "</style>\n",
       "<table border=\"1\" class=\"dataframe\">\n",
       "  <thead>\n",
       "    <tr style=\"text-align: right;\">\n",
       "      <th></th>\n",
       "      <th>datecrawled</th>\n",
       "      <th>price</th>\n",
       "      <th>vehicletype</th>\n",
       "      <th>registrationyear</th>\n",
       "      <th>gearbox</th>\n",
       "      <th>power</th>\n",
       "      <th>model</th>\n",
       "      <th>mileage</th>\n",
       "      <th>registrationmonth</th>\n",
       "      <th>fueltype</th>\n",
       "      <th>brand</th>\n",
       "      <th>notrepaired</th>\n",
       "      <th>datecreated</th>\n",
       "      <th>numberofpictures</th>\n",
       "      <th>postalcode</th>\n",
       "      <th>lastseen</th>\n",
       "      <th>vehicleage</th>\n",
       "    </tr>\n",
       "  </thead>\n",
       "  <tbody>\n",
       "    <tr>\n",
       "      <th>0</th>\n",
       "      <td>2016-03-24 11:52:00</td>\n",
       "      <td>480</td>\n",
       "      <td>unknown</td>\n",
       "      <td>1993</td>\n",
       "      <td>manual</td>\n",
       "      <td>0</td>\n",
       "      <td>golf</td>\n",
       "      <td>150000</td>\n",
       "      <td>0</td>\n",
       "      <td>petrol</td>\n",
       "      <td>volkswagen</td>\n",
       "      <td>unknown</td>\n",
       "      <td>2016-03-24</td>\n",
       "      <td>0</td>\n",
       "      <td>70435</td>\n",
       "      <td>2016-07-04 03:16:00</td>\n",
       "      <td>23</td>\n",
       "    </tr>\n",
       "    <tr>\n",
       "      <th>1</th>\n",
       "      <td>2016-03-24 10:58:00</td>\n",
       "      <td>18300</td>\n",
       "      <td>coupe</td>\n",
       "      <td>2011</td>\n",
       "      <td>manual</td>\n",
       "      <td>190</td>\n",
       "      <td>unknown</td>\n",
       "      <td>125000</td>\n",
       "      <td>5</td>\n",
       "      <td>gasoline</td>\n",
       "      <td>audi</td>\n",
       "      <td>yes</td>\n",
       "      <td>2016-03-24</td>\n",
       "      <td>0</td>\n",
       "      <td>66954</td>\n",
       "      <td>2016-07-04 01:46:00</td>\n",
       "      <td>5</td>\n",
       "    </tr>\n",
       "  </tbody>\n",
       "</table>\n",
       "</div>"
      ],
      "text/plain": [
       "          datecrawled  price vehicletype  registrationyear gearbox  power  \\\n",
       "0 2016-03-24 11:52:00    480     unknown              1993  manual      0   \n",
       "1 2016-03-24 10:58:00  18300       coupe              2011  manual    190   \n",
       "\n",
       "     model  mileage  registrationmonth  fueltype       brand notrepaired  \\\n",
       "0     golf   150000                  0    petrol  volkswagen     unknown   \n",
       "1  unknown   125000                  5  gasoline        audi         yes   \n",
       "\n",
       "  datecreated  numberofpictures  postalcode            lastseen  vehicleage  \n",
       "0  2016-03-24                 0       70435 2016-07-04 03:16:00          23  \n",
       "1  2016-03-24                 0       66954 2016-07-04 01:46:00           5  "
      ]
     },
     "execution_count": 14,
     "metadata": {},
     "output_type": "execute_result"
    }
   ],
   "source": [
    "# select year below 1900 and above the 'datecreated'\n",
    "condition = (df[\"registrationyear\"] > df[\"datecreated\"].dt.year) | (\n",
    "    df[\"registrationyear\"] < 1900\n",
    ")\n",
    "display(len(df[condition]) / len(df) * 100)\n",
    "print()\n",
    "\n",
    "# select data which does not have above condition\n",
    "df = df[~(condition)]\n",
    "\n",
    "# calculate the age of vehicles\n",
    "df[\"vehicleage\"] = df[\"datecreated\"].dt.year - df[\"registrationyear\"]\n",
    "\n",
    "# check the result\n",
    "df.head(2)"
   ]
  },
  {
   "cell_type": "markdown",
   "metadata": {},
   "source": [
    "### 1.3 Conclusion\n",
    "\n",
    "- Data, with **354369 rows and 16 columns**, has been imported and checked, following observations/changes were made:\n",
    "    - Columns names of data were in mixed case, all were converted to lowercase;\n",
    "    - `datecrawled`, `datecreated`, and `lastseen` columns were containing date but loaded as object data type. They were converted to the datetime data type of pandas;\n",
    "    - `vehicletype`, `gearbox`, `model`, `fueltype`, and `notrepaired` columns were containing missing values. These all columns hold categorical data types. Therefore, all missing values were filled as \"unknown\";\n",
    "    - In total 262 rows were duplicated in original data. It was found that they were identical duplicates. They were all dropped;\n",
    "    - A new column which contains the age of the vehicle, `vehicleage`, was created using `datecreated` and `registrationyear` columns. However, in this step, it was observed that data was containing error in `registrationyear` columns, there were years as low as 1000 and as high as 9999. All years smaller than 1900 (it is the year when cars became commercial) and higher than the profile date creation were dropped. Dropped amount of rows were around 4% of the data.\n",
    "\n",
    "\n",
    "All mentioned errors might be originated due to technical reasons, human error (typo), or during web crawling, dataset joining, etc."
   ]
  },
  {
   "cell_type": "markdown",
   "metadata": {},
   "source": [
    "## 2. EDA\n",
    "\n",
    "Let's get familiar with the data more by visualizing their data by plotting some charts."
   ]
  },
  {
   "cell_type": "markdown",
   "metadata": {},
   "source": [
    "### 2.1 Numerical columns"
   ]
  },
  {
   "cell_type": "code",
   "execution_count": 15,
   "metadata": {
    "scrolled": true
   },
   "outputs": [
    {
     "data": {
      "text/html": [
       "<div>\n",
       "<style scoped>\n",
       "    .dataframe tbody tr th:only-of-type {\n",
       "        vertical-align: middle;\n",
       "    }\n",
       "\n",
       "    .dataframe tbody tr th {\n",
       "        vertical-align: top;\n",
       "    }\n",
       "\n",
       "    .dataframe thead th {\n",
       "        text-align: right;\n",
       "    }\n",
       "</style>\n",
       "<table border=\"1\" class=\"dataframe\">\n",
       "  <thead>\n",
       "    <tr style=\"text-align: right;\">\n",
       "      <th></th>\n",
       "      <th>price</th>\n",
       "      <th>power</th>\n",
       "      <th>mileage</th>\n",
       "      <th>vehicleage</th>\n",
       "    </tr>\n",
       "  </thead>\n",
       "  <tbody>\n",
       "    <tr>\n",
       "      <th>count</th>\n",
       "      <td>339512.000000</td>\n",
       "      <td>339512.000000</td>\n",
       "      <td>339512.000000</td>\n",
       "      <td>339512.000000</td>\n",
       "    </tr>\n",
       "    <tr>\n",
       "      <th>mean</th>\n",
       "      <td>4471.106815</td>\n",
       "      <td>110.998374</td>\n",
       "      <td>128086.753929</td>\n",
       "      <td>13.518061</td>\n",
       "    </tr>\n",
       "    <tr>\n",
       "      <th>std</th>\n",
       "      <td>4546.229568</td>\n",
       "      <td>186.945091</td>\n",
       "      <td>37896.907472</td>\n",
       "      <td>7.091876</td>\n",
       "    </tr>\n",
       "    <tr>\n",
       "      <th>min</th>\n",
       "      <td>0.000000</td>\n",
       "      <td>0.000000</td>\n",
       "      <td>5000.000000</td>\n",
       "      <td>0.000000</td>\n",
       "    </tr>\n",
       "    <tr>\n",
       "      <th>25%</th>\n",
       "      <td>1099.000000</td>\n",
       "      <td>69.000000</td>\n",
       "      <td>125000.000000</td>\n",
       "      <td>9.000000</td>\n",
       "    </tr>\n",
       "    <tr>\n",
       "      <th>50%</th>\n",
       "      <td>2799.000000</td>\n",
       "      <td>105.000000</td>\n",
       "      <td>150000.000000</td>\n",
       "      <td>13.000000</td>\n",
       "    </tr>\n",
       "    <tr>\n",
       "      <th>75%</th>\n",
       "      <td>6500.000000</td>\n",
       "      <td>143.000000</td>\n",
       "      <td>150000.000000</td>\n",
       "      <td>17.000000</td>\n",
       "    </tr>\n",
       "    <tr>\n",
       "      <th>max</th>\n",
       "      <td>20000.000000</td>\n",
       "      <td>20000.000000</td>\n",
       "      <td>150000.000000</td>\n",
       "      <td>106.000000</td>\n",
       "    </tr>\n",
       "  </tbody>\n",
       "</table>\n",
       "</div>"
      ],
      "text/plain": [
       "               price          power        mileage     vehicleage\n",
       "count  339512.000000  339512.000000  339512.000000  339512.000000\n",
       "mean     4471.106815     110.998374  128086.753929      13.518061\n",
       "std      4546.229568     186.945091   37896.907472       7.091876\n",
       "min         0.000000       0.000000    5000.000000       0.000000\n",
       "25%      1099.000000      69.000000  125000.000000       9.000000\n",
       "50%      2799.000000     105.000000  150000.000000      13.000000\n",
       "75%      6500.000000     143.000000  150000.000000      17.000000\n",
       "max     20000.000000   20000.000000  150000.000000     106.000000"
      ]
     },
     "execution_count": 15,
     "metadata": {},
     "output_type": "execute_result"
    }
   ],
   "source": [
    "# select all numerical columns of data\n",
    "numerical_cols = [\"price\", \"power\", \"mileage\", \"vehicleage\"]\n",
    "\n",
    "# print out descriptive statistics of numerical columns\n",
    "df[numerical_cols].describe()"
   ]
  },
  {
   "cell_type": "markdown",
   "metadata": {},
   "source": [
    "> It seems like we still have error in our data. E.g. a car can not have horsepower as high as 20000. Little google search resulted that the car with highest horsepower untill now is 1500 https://en.wikipedia.org/wiki/List_of_production_cars_by_power_output"
   ]
  },
  {
   "cell_type": "code",
   "execution_count": 16,
   "metadata": {},
   "outputs": [
    {
     "data": {
      "image/png": "[encoded data removed]",
      "text/plain": [
       "<Figure size 1008x288 with 4 Axes>"
      ]
     },
     "metadata": {
      "needs_background": "light"
     },
     "output_type": "display_data"
    }
   ],
   "source": [
    "# histograms of all numerical columns\n",
    "fig, ax = plt.subplots(2, 2, figsize=(14, 4))\n",
    "sns.distplot(df[\"power\"], kde=False, hist_kws={\"range\": (0, 1500)}, ax=ax[0, 0])\n",
    "ax[0, 0].set_title(\"Power distribution\")\n",
    "sns.distplot(df[\"price\"], kde=False, ax=ax[0, 1])\n",
    "sns.distplot(df[\"mileage\"], kde=False, hist_kws={\"range\": (5000, 150000)}, ax=ax[1, 0])\n",
    "sns.distplot(df[\"vehicleage\"], kde=False, ax=ax[1, 1])\n",
    "\n",
    "plt.show()"
   ]
  },
  {
   "cell_type": "code",
   "execution_count": 17,
   "metadata": {},
   "outputs": [
    {
     "data": {
      "text/plain": [
       "254.0"
      ]
     },
     "execution_count": 17,
     "metadata": {},
     "output_type": "execute_result"
    }
   ],
   "source": [
    "# calculate the outliers in 'power' columns\n",
    "(\n",
    "    df[\"power\"].quantile(0.75)\n",
    "    + (df[\"power\"].quantile(0.75) - df[\"power\"].quantile(0.25)) * 1.5\n",
    ")"
   ]
  },
  {
   "cell_type": "code",
   "execution_count": 18,
   "metadata": {},
   "outputs": [
    {
     "name": "stdout",
     "output_type": "stream",
     "text": [
      "8038 0.12400150804684369\n"
     ]
    },
    {
     "data": {
      "image/png": "[encoded data removed]",
      "text/plain": [
       "<Figure size 432x288 with 1 Axes>"
      ]
     },
     "metadata": {
      "needs_background": "light"
     },
     "output_type": "display_data"
    }
   ],
   "source": [
    "# How many rows and what percentage in total has outliers in the 'power' columns\n",
    "print(len(df[df[\"power\"] > 245]), len(df[df[\"power\"] > 500]) / len(df) * 100)\n",
    "\n",
    "# select all rows where the 'power' values is smaller than 245\n",
    "df = df[~(df[\"power\"] > 245)]\n",
    "\n",
    "# plot the boxplot\n",
    "df[\"power\"].plot(kind=\"box\")\n",
    "plt.show()"
   ]
  },
  {
   "cell_type": "markdown",
   "metadata": {},
   "source": [
    "### 2.2 Categorical columns"
   ]
  },
  {
   "cell_type": "code",
   "execution_count": 19,
   "metadata": {},
   "outputs": [
    {
     "data": {
      "text/html": [
       "<div>\n",
       "<style scoped>\n",
       "    .dataframe tbody tr th:only-of-type {\n",
       "        vertical-align: middle;\n",
       "    }\n",
       "\n",
       "    .dataframe tbody tr th {\n",
       "        vertical-align: top;\n",
       "    }\n",
       "\n",
       "    .dataframe thead th {\n",
       "        text-align: right;\n",
       "    }\n",
       "</style>\n",
       "<table border=\"1\" class=\"dataframe\">\n",
       "  <thead>\n",
       "    <tr style=\"text-align: right;\">\n",
       "      <th></th>\n",
       "      <th>vehicletype</th>\n",
       "      <th>gearbox</th>\n",
       "      <th>model</th>\n",
       "      <th>fueltype</th>\n",
       "      <th>brand</th>\n",
       "    </tr>\n",
       "  </thead>\n",
       "  <tbody>\n",
       "    <tr>\n",
       "      <th>count</th>\n",
       "      <td>331474</td>\n",
       "      <td>331474</td>\n",
       "      <td>331474</td>\n",
       "      <td>331474</td>\n",
       "      <td>331474</td>\n",
       "    </tr>\n",
       "    <tr>\n",
       "      <th>unique</th>\n",
       "      <td>9</td>\n",
       "      <td>3</td>\n",
       "      <td>250</td>\n",
       "      <td>8</td>\n",
       "      <td>40</td>\n",
       "    </tr>\n",
       "    <tr>\n",
       "      <th>top</th>\n",
       "      <td>sedan</td>\n",
       "      <td>manual</td>\n",
       "      <td>golf</td>\n",
       "      <td>petrol</td>\n",
       "      <td>volkswagen</td>\n",
       "    </tr>\n",
       "    <tr>\n",
       "      <th>freq</th>\n",
       "      <td>88048</td>\n",
       "      <td>255167</td>\n",
       "      <td>27315</td>\n",
       "      <td>203857</td>\n",
       "      <td>72503</td>\n",
       "    </tr>\n",
       "  </tbody>\n",
       "</table>\n",
       "</div>"
      ],
      "text/plain": [
       "       vehicletype gearbox   model fueltype       brand\n",
       "count       331474  331474  331474   331474      331474\n",
       "unique           9       3     250        8          40\n",
       "top          sedan  manual    golf   petrol  volkswagen\n",
       "freq         88048  255167   27315   203857       72503"
      ]
     },
     "execution_count": 19,
     "metadata": {},
     "output_type": "execute_result"
    }
   ],
   "source": [
    "# descriptive statistics of categorical columns\n",
    "categorical_cols = [\"vehicletype\", \"gearbox\", \"model\", \"fueltype\", \"brand\"]\n",
    "df[categorical_cols].describe()"
   ]
  },
  {
   "cell_type": "code",
   "execution_count": 20,
   "metadata": {},
   "outputs": [
    {
     "data": {
      "image/png": "[encoded data removed]",
      "text/plain": [
       "<Figure size 1008x576 with 4 Axes>"
      ]
     },
     "metadata": {
      "needs_background": "light"
     },
     "output_type": "display_data"
    }
   ],
   "source": [
    "# plots showing number of each type of vehicle, gearbox, fueltype and car brand in datasets\n",
    "fig, ax = plt.subplots(4, 1, figsize=(14, 8))\n",
    "for i, j in enumerate([\"vehicletype\", \"gearbox\", \"fueltype\", \"brand\"]):\n",
    "    sns.countplot(df[j], ax=ax[i])\n",
    "    ax[i].set_title(j)\n",
    "ax[3].tick_params(\n",
    "    axis=\"x\",\n",
    "    rotation=45,\n",
    ")\n",
    "plt.tight_layout()\n",
    "plt.show()"
   ]
  },
  {
   "cell_type": "markdown",
   "metadata": {},
   "source": [
    "### 2.3 Conclusion\n",
    "During EDA, it was observed that there was an error in the `power` column, which were containing horsepower values as high as 20000. All values above the Q3+IQR*1.5 were dropped (it was only 0.12% of the data). \n",
    "\n",
    "It was observed that ** the most sold:\n",
    "- brand: Volkswagen\n",
    "- model: golf\n",
    "- vehicle type: sedan \n",
    "- gearbox: manual (more than two-thirds of all)\n",
    "- fuel type: petrol (about two-thirds of all)"
   ]
  },
  {
   "cell_type": "markdown",
   "metadata": {},
   "source": [
    "## 3. Model training\n",
    "In this section we will train different model, and tune some hyperparameters, if possible of course. Following algorithms we are going to use:\n",
    " - LinearRegression\n",
    " - RandomForestRegressor (with different n_estimators and max_depth)\n",
    " - CatBoostRegressor (with different number of iterations and depth)\n",
    " - LightBGMRegressor (with different n_estimaros and max_depth)\n",
    " - XGBoostRegressor (with default parameters)\n",
    " \n",
    "However, before that, we should mention that we don't need all columns of the data. Because some of the columns will not add value to our prediction. Therefore we will select the most important columns."
   ]
  },
  {
   "cell_type": "code",
   "execution_count": 21,
   "metadata": {},
   "outputs": [
    {
     "data": {
      "text/plain": [
       "(331474, 9)"
      ]
     },
     "execution_count": 21,
     "metadata": {},
     "output_type": "execute_result"
    }
   ],
   "source": [
    "# Select columns which are important for modeling\n",
    "selected_cols = [\n",
    "    \"price\",\n",
    "    \"vehicletype\",\n",
    "    \"gearbox\",\n",
    "    \"power\",\n",
    "    \"model\",\n",
    "    \"mileage\",\n",
    "    \"fueltype\",\n",
    "    \"brand\",\n",
    "    \"vehicleage\",\n",
    "]\n",
    "df = df[selected_cols]\n",
    "\n",
    "# what is the shape of new dataframe\n",
    "df.shape"
   ]
  },
  {
   "cell_type": "code",
   "execution_count": 22,
   "metadata": {},
   "outputs": [],
   "source": [
    "# define categorical and numerical columns, we will use them throught algorithm trainings\n",
    "categorical_columns = [\"vehicletype\", \"gearbox\", \"model\", \"fueltype\", \"brand\"]\n",
    "numerical_columns = [\"power\", \"mileage\", \"vehicleage\"]"
   ]
  },
  {
   "cell_type": "markdown",
   "metadata": {},
   "source": [
    "### 3.1 LinearRegression"
   ]
  },
  {
   "cell_type": "code",
   "execution_count": 23,
   "metadata": {},
   "outputs": [],
   "source": [
    "# for regression one hot encoding works well\n",
    "df_ohe = pd.get_dummies(df, drop_first=True)\n",
    "df_ohe.shape\n",
    "\n",
    "# get target and feature columns\n",
    "X = df_ohe.drop(\"price\", axis=1)\n",
    "y = df_ohe[\"price\"]\n",
    "\n",
    "# split into training and testing sets\n",
    "X_train, X_test, y_train, y_test = train_test_split(\n",
    "    X, y, test_size=0.3, random_state=234\n",
    ")\n",
    "\n",
    "# scaling is crucial for regression models\n",
    "numerical_columns = [\"power\", \"mileage\", \"vehicleage\"]\n",
    "scaler = StandardScaler()\n",
    "X_train[numerical_columns] = scaler.fit_transform(X_train[numerical_columns])\n",
    "X_test[numerical_columns] = scaler.transform(X_test[numerical_columns])"
   ]
  },
  {
   "cell_type": "code",
   "execution_count": 24,
   "metadata": {},
   "outputs": [
    {
     "name": "stdout",
     "output_type": "stream",
     "text": [
      "Wall time: 13.2 s\n"
     ]
    },
    {
     "data": {
      "text/plain": [
       "LinearRegression()"
      ]
     },
     "execution_count": 24,
     "metadata": {},
     "output_type": "execute_result"
    }
   ],
   "source": [
    "%%time\n",
    "#linear regression model, train and predict results\n",
    "lr_model = LinearRegression()\n",
    "lr_model.fit(X_train, y_train)"
   ]
  },
  {
   "cell_type": "code",
   "execution_count": 25,
   "metadata": {},
   "outputs": [
    {
     "name": "stdout",
     "output_type": "stream",
     "text": [
      "The RMSE score of the linear regression model is 2766.0508416273915.\n",
      "Wall time: 281 ms\n"
     ]
    }
   ],
   "source": [
    "%%time\n",
    "#predict the target and calculate RMSE and check time for prediction\n",
    "y_pred = lr_model.predict(X_test)\n",
    "#Scores\n",
    "print(f'The RMSE score of the linear regression model is {(mean_squared_error(y_test, y_pred))**0.5}.')"
   ]
  },
  {
   "cell_type": "markdown",
   "metadata": {},
   "source": [
    "### 3.2 RandomForestRegressor"
   ]
  },
  {
   "cell_type": "markdown",
   "metadata": {},
   "source": [
    "> we will use OrindalEncoding class of sklearn for encoding categorical columns, it works better than OHE for tree-based algorithms. Data prepared in this step will be used for RandomForest, LightGBM and XGBoost. For Catboost we will prepare separate data, because it can handle categorical data."
   ]
  },
  {
   "cell_type": "code",
   "execution_count": 26,
   "metadata": {},
   "outputs": [
    {
     "data": {
      "text/html": [
       "<div>\n",
       "<style scoped>\n",
       "    .dataframe tbody tr th:only-of-type {\n",
       "        vertical-align: middle;\n",
       "    }\n",
       "\n",
       "    .dataframe tbody tr th {\n",
       "        vertical-align: top;\n",
       "    }\n",
       "\n",
       "    .dataframe thead th {\n",
       "        text-align: right;\n",
       "    }\n",
       "</style>\n",
       "<table border=\"1\" class=\"dataframe\">\n",
       "  <thead>\n",
       "    <tr style=\"text-align: right;\">\n",
       "      <th></th>\n",
       "      <th>price</th>\n",
       "      <th>vehicletype</th>\n",
       "      <th>gearbox</th>\n",
       "      <th>power</th>\n",
       "      <th>model</th>\n",
       "      <th>mileage</th>\n",
       "      <th>fueltype</th>\n",
       "      <th>brand</th>\n",
       "      <th>vehicleage</th>\n",
       "    </tr>\n",
       "  </thead>\n",
       "  <tbody>\n",
       "    <tr>\n",
       "      <th>0</th>\n",
       "      <td>480</td>\n",
       "      <td>7.0</td>\n",
       "      <td>1.0</td>\n",
       "      <td>0</td>\n",
       "      <td>116.0</td>\n",
       "      <td>150000</td>\n",
       "      <td>6.0</td>\n",
       "      <td>38.0</td>\n",
       "      <td>23</td>\n",
       "    </tr>\n",
       "    <tr>\n",
       "      <th>1</th>\n",
       "      <td>18300</td>\n",
       "      <td>2.0</td>\n",
       "      <td>1.0</td>\n",
       "      <td>190</td>\n",
       "      <td>227.0</td>\n",
       "      <td>125000</td>\n",
       "      <td>2.0</td>\n",
       "      <td>1.0</td>\n",
       "      <td>5</td>\n",
       "    </tr>\n",
       "  </tbody>\n",
       "</table>\n",
       "</div>"
      ],
      "text/plain": [
       "   price  vehicletype  gearbox  power  model  mileage  fueltype  brand  \\\n",
       "0    480          7.0      1.0      0  116.0   150000       6.0   38.0   \n",
       "1  18300          2.0      1.0    190  227.0   125000       2.0    1.0   \n",
       "\n",
       "   vehicleage  \n",
       "0          23  \n",
       "1           5  "
      ]
     },
     "execution_count": 26,
     "metadata": {},
     "output_type": "execute_result"
    }
   ],
   "source": [
    "# get categorical column names\n",
    "df_lbe = df.copy()\n",
    "\n",
    "# construct the encoder\n",
    "encoder = OrdinalEncoder()\n",
    "\n",
    "# encode categorical columns and change the values in the dataframe\n",
    "encoded = encoder.fit_transform(df_lbe[categorical_columns])\n",
    "df_lbe[categorical_columns] = encoded\n",
    "\n",
    "# check new df\n",
    "df_lbe.head(2)"
   ]
  },
  {
   "cell_type": "code",
   "execution_count": 27,
   "metadata": {},
   "outputs": [],
   "source": [
    "# get target and feature columns from df_lbe\n",
    "X = df_lbe.drop(\"price\", axis=1)\n",
    "y = df_lbe[\"price\"]\n",
    "\n",
    "# split into training and testing sets\n",
    "X_train, X_test, y_train, y_test = train_test_split(\n",
    "    X, y, test_size=0.3, random_state=234\n",
    ")"
   ]
  },
  {
   "cell_type": "code",
   "execution_count": 28,
   "metadata": {},
   "outputs": [
    {
     "name": "stdout",
     "output_type": "stream",
     "text": [
      "The average RMSE score of the RandomForest model with 30 estimators is 1770.1783591307114.\n",
      "\n",
      "The average RMSE score of the RandomForest model with 50 estimators is 1763.309984696877.\n",
      "\n",
      "The average RMSE score of the RandomForest model with max_depth=7 is 2139.9130325012443.\n",
      "\n",
      "The average RMSE score of the RandomForest model with max_depth=15 is 1763.9865281457915.\n",
      "\n"
     ]
    }
   ],
   "source": [
    "# for loop to check optimal n_estimators\n",
    "for n in [30, 50]:\n",
    "    rf_model = RandomForestRegressor(n_estimators=n, n_jobs=-1, random_state=234)\n",
    "    mse = cross_val_score(\n",
    "        rf_model, X_train, y_train, scoring=\"neg_mean_squared_error\", cv=3\n",
    "    )\n",
    "    rmse = np.sqrt(mse * -1)\n",
    "    avg_rmse = np.sum(rmse) / len(rmse)\n",
    "    print(\n",
    "        f\"The average RMSE score of the RandomForest model with {n} estimators is {avg_rmse}.\"\n",
    "    )\n",
    "    print()\n",
    "\n",
    "# for loop to find optimal max_depth values\n",
    "for n in [7, 15]:\n",
    "    rf_model = RandomForestRegressor(\n",
    "        n_estimators=30, max_depth=n, n_jobs=-1, random_state=234\n",
    "    )\n",
    "    mse = cross_val_score(\n",
    "        rf_model, X_train, y_train, scoring=\"neg_mean_squared_error\", cv=3\n",
    "    )\n",
    "    rmse = np.sqrt(mse * -1)\n",
    "    avg_rmse = np.sum(rmse) / len(rmse)\n",
    "    print(\n",
    "        f\"The average RMSE score of the RandomForest model with max_depth={n} is {avg_rmse}.\"\n",
    "    )\n",
    "    print()"
   ]
  },
  {
   "cell_type": "markdown",
   "metadata": {},
   "source": [
    "When n_estimators are too large, model's RMSE scores is slightly improving but using such a high n_estimators really slows down the computation. For the sake of speed, we will chose n_estimators of 50 and max_depth of 20.\n",
    "Let's find how much time required for the optimal model with RandomForestRegressor"
   ]
  },
  {
   "cell_type": "code",
   "execution_count": 29,
   "metadata": {},
   "outputs": [
    {
     "name": "stdout",
     "output_type": "stream",
     "text": [
      "Wall time: 17 s\n"
     ]
    },
    {
     "data": {
      "text/plain": [
       "RandomForestRegressor(max_depth=15, n_estimators=50, n_jobs=-1,\n",
       "                      random_state=234)"
      ]
     },
     "execution_count": 29,
     "metadata": {},
     "output_type": "execute_result"
    }
   ],
   "source": [
    "%%time\n",
    "#build a model with optimal parameters and check how much time it requires for training\n",
    "best_rf_model = RandomForestRegressor(n_estimators = 50, max_depth=15, n_jobs=-1, random_state=234)\n",
    "best_rf_model.fit(X_train, y_train)"
   ]
  },
  {
   "cell_type": "code",
   "execution_count": 30,
   "metadata": {},
   "outputs": [
    {
     "name": "stdout",
     "output_type": "stream",
     "text": [
      "The RMSE score of the best RandomForestRegression model is 1754.4200140924252.\n",
      "Wall time: 444 ms\n"
     ]
    }
   ],
   "source": [
    "%%time\n",
    "#now let's check how much time it requires for prediction and calcualte the RMSE\n",
    "y_pred = best_rf_model.predict(X_test)\n",
    "\n",
    "print(f'The RMSE score of the best RandomForestRegression model is {(mean_squared_error(y_test, y_pred))**0.5}.')"
   ]
  },
  {
   "cell_type": "markdown",
   "metadata": {},
   "source": [
    "### 3.3 LightGBMRegressor"
   ]
  },
  {
   "cell_type": "code",
   "execution_count": 31,
   "metadata": {},
   "outputs": [
    {
     "name": "stdout",
     "output_type": "stream",
     "text": [
      "The RMSE score of the LightGBM model with 30 estimators is 1982.904491418236.\n",
      "\n",
      "The RMSE score of the LightGBM model with 50 estimators is 1868.479333522558.\n",
      "\n",
      "The RMSE score of the LightGBM model with max_depth=7 is 1989.3441819444317.\n",
      "\n",
      "The RMSE score of the LightGBM model with max_depth=15 is 1982.904491418236.\n",
      "\n"
     ]
    }
   ],
   "source": [
    "# for loop to find optimal n_estimators\n",
    "for n in [30, 50]:\n",
    "    lg_model = LGBMRegressor(n_estimators=n, random_state=234)\n",
    "    mse = cross_val_score(\n",
    "        lg_model, X_train, y_train, scoring=\"neg_mean_squared_error\", cv=3\n",
    "    )\n",
    "    rmse = np.sqrt(mse * -1)\n",
    "    avg_rmse = np.sum(rmse) / len(rmse)\n",
    "    print(f\"The RMSE score of the LightGBM model with {n} estimators is {avg_rmse}.\")\n",
    "    print()\n",
    "\n",
    "# for to find optimal max_depth\n",
    "for n in [7, 15]:\n",
    "    lg_model = LGBMRegressor(n_estimators=30, max_depth=n, random_state=234)\n",
    "    mse = cross_val_score(\n",
    "        lg_model, X_train, y_train, scoring=\"neg_mean_squared_error\", cv=3\n",
    "    )\n",
    "    rmse = np.sqrt(mse * -1)\n",
    "    avg_rmse = np.sum(rmse) / len(rmse)\n",
    "    print(f\"The RMSE score of the LightGBM model with max_depth={n} is {avg_rmse}.\")\n",
    "    print()"
   ]
  },
  {
   "cell_type": "code",
   "execution_count": 32,
   "metadata": {},
   "outputs": [
    {
     "name": "stdout",
     "output_type": "stream",
     "text": [
      "Wall time: 1.13 s\n"
     ]
    },
    {
     "data": {
      "text/plain": [
       "LGBMRegressor(max_depth=15, n_estimators=50, random_state=234)"
      ]
     },
     "execution_count": 32,
     "metadata": {},
     "output_type": "execute_result"
    }
   ],
   "source": [
    "%%time\n",
    "\n",
    "#build a model with optimal parameters and check how much time it requires for training\n",
    "best_lg_model = LGBMRegressor(n_estimators=50, max_depth=15, random_state=234)\n",
    "best_lg_model.fit(X_train, y_train)"
   ]
  },
  {
   "cell_type": "code",
   "execution_count": 33,
   "metadata": {},
   "outputs": [
    {
     "name": "stdout",
     "output_type": "stream",
     "text": [
      "The RMSE score of the best LightGBM model is 1888.525685137322.\n",
      "Wall time: 181 ms\n"
     ]
    }
   ],
   "source": [
    "%%time\n",
    "# predict the target and check RMSE score and time it requires for prediction\n",
    "y_pred = best_lg_model.predict(X_test)\n",
    "print(f'The RMSE score of the best LightGBM model is {(mean_squared_error(y_test, y_pred))**0.5}.')"
   ]
  },
  {
   "cell_type": "markdown",
   "metadata": {},
   "source": [
    "### 3.4 XGBoostRegressor"
   ]
  },
  {
   "cell_type": "code",
   "execution_count": 34,
   "metadata": {},
   "outputs": [
    {
     "name": "stdout",
     "output_type": "stream",
     "text": [
      "Wall time: 11.8 s\n"
     ]
    },
    {
     "data": {
      "text/plain": [
       "XGBRegressor(base_score=0.5, booster='gbtree', colsample_bylevel=1,\n",
       "             colsample_bynode=1, colsample_bytree=1, gamma=0, gpu_id=-1,\n",
       "             importance_type='gain', interaction_constraints='',\n",
       "             learning_rate=0.300000012, max_delta_step=0, max_depth=6,\n",
       "             min_child_weight=1, missing=nan, monotone_constraints='()',\n",
       "             n_estimators=100, n_jobs=4, num_parallel_tree=1, random_state=0,\n",
       "             reg_alpha=0, reg_lambda=1, scale_pos_weight=1, subsample=1,\n",
       "             tree_method='exact', validate_parameters=1, verbosity=None)"
      ]
     },
     "execution_count": 34,
     "metadata": {},
     "output_type": "execute_result"
    }
   ],
   "source": [
    "%%time\n",
    "#calculate the time required for training\n",
    "xg_model = xgb.XGBRegressor()\n",
    "xg_model.fit(X_train,y_train)"
   ]
  },
  {
   "cell_type": "code",
   "execution_count": 35,
   "metadata": {},
   "outputs": [
    {
     "name": "stdout",
     "output_type": "stream",
     "text": [
      "The RMSE score of the XGBoost model with defualt parameters is 1745.2050153705543.\n",
      "Wall time: 154 ms\n"
     ]
    }
   ],
   "source": [
    "%%time\n",
    "#do prediction and check RMSE score and time it requires\n",
    "y_pred = xg_model.predict(X_test)\n",
    "\n",
    "print(f'The RMSE score of the XGBoost model with defualt parameters is {(mean_squared_error(y_test, y_pred))**0.5}.')"
   ]
  },
  {
   "cell_type": "markdown",
   "metadata": {},
   "source": [
    "### 3.5 CatboostRegressor"
   ]
  },
  {
   "cell_type": "code",
   "execution_count": 36,
   "metadata": {},
   "outputs": [
    {
     "name": "stdout",
     "output_type": "stream",
     "text": [
      "The RMSE score of the Catboost model with 30 iterations is 1858.0889667967595.\n",
      "\n",
      "The RMSE score of the Catboost model with 50 iterations is 1826.9967002786213.\n",
      "\n",
      "The RMSE score of the Catboost model with depth=7 is 1842.8976274074018.\n",
      "\n",
      "The RMSE score of the Catboost model with depth=15 is 1830.9026477972693.\n",
      "\n"
     ]
    }
   ],
   "source": [
    "# get target and feature columns from df without encoding\n",
    "X = df.drop(\"price\", axis=1)\n",
    "y = df[\"price\"]\n",
    "\n",
    "# split into training and testing sets\n",
    "X_train, X_test, y_train, y_test = train_test_split(\n",
    "    X, y, test_size=0.3, random_state=234\n",
    ")\n",
    "\n",
    "# for loop the check optimal number of iterations\n",
    "for n in [30, 50]:\n",
    "    cb_model = CatBoostRegressor(\n",
    "        iterations=n,\n",
    "        learning_rate=1,\n",
    "        random_seed=234,\n",
    "        silent=True,\n",
    "        cat_features=categorical_columns,\n",
    "    )\n",
    "    mse = cross_val_score(\n",
    "        cb_model, X_train, y_train, scoring=\"neg_mean_squared_error\", cv=3\n",
    "    )\n",
    "    rmse = np.sqrt(mse * -1)\n",
    "    avg_rmse = np.sum(rmse) / len(rmse)\n",
    "    print(f\"The RMSE score of the Catboost model with {n} iterations is {avg_rmse}.\")\n",
    "    print()\n",
    "\n",
    "# for loop the check optimal number of depth\n",
    "for n in [7, 15]:\n",
    "    cb_model = CatBoostRegressor(\n",
    "        iterations=30,\n",
    "        learning_rate=1,\n",
    "        depth=n,\n",
    "        random_seed=234,\n",
    "        silent=True,\n",
    "        cat_features=categorical_columns,\n",
    "    )\n",
    "    mse = cross_val_score(\n",
    "        cb_model, X_train, y_train, scoring=\"neg_mean_squared_error\", cv=3\n",
    "    )\n",
    "    rmse = np.sqrt(mse * -1)\n",
    "    avg_rmse = np.sum(rmse) / len(rmse)\n",
    "    print(f\"The RMSE score of the Catboost model with depth={n} is {avg_rmse}.\")\n",
    "    print()"
   ]
  },
  {
   "cell_type": "code",
   "execution_count": 37,
   "metadata": {},
   "outputs": [
    {
     "name": "stdout",
     "output_type": "stream",
     "text": [
      "Wall time: 41.2 s\n"
     ]
    },
    {
     "data": {
      "text/plain": [
       "<catboost.core.CatBoostRegressor at 0x221a7183ee0>"
      ]
     },
     "execution_count": 37,
     "metadata": {},
     "output_type": "execute_result"
    }
   ],
   "source": [
    "%%time\n",
    "\n",
    "#build the model with optimal parameters and check how much time it requires for training\n",
    "best_cb_model = CatBoostRegressor(iterations=50, learning_rate=1, depth=15, random_seed=234, silent=True)\n",
    "best_cb_model.fit(X_train, y_train, cat_features=categorical_columns)"
   ]
  },
  {
   "cell_type": "code",
   "execution_count": 38,
   "metadata": {},
   "outputs": [
    {
     "name": "stdout",
     "output_type": "stream",
     "text": [
      "The RMSE score of the best Catboost model is 1823.2683654995737.\n",
      "Wall time: 270 ms\n"
     ]
    }
   ],
   "source": [
    "%%time\n",
    "#predict the target and check RMSE score and time\n",
    "y_pred = best_cb_model.predict(X_test)\n",
    "\n",
    "print(f'The RMSE score of the best Catboost model is {(mean_squared_error(y_test, y_pred))**0.5}.')"
   ]
  },
  {
   "cell_type": "markdown",
   "metadata": {},
   "source": [
    "### 3.6 Conclusion\n",
    "\n",
    "Some columns, such as `NumberOfPictures` which contains all zeros and other datetime columns, will not add much value to our regression models. Therefore, we have selected most important columns as following: `price`, `vehicletype`, `gearbox`, `power`, `model`, `mileage`, `fueltype`, `brand`, and `vehicleage`. New data for training and testing models has 331474 rows and 9 columns (just for comparison, initial data were containing: **354369 rows and 16 columns**. Duplicates, errors and unnecessary data were dropped.)\n",
    "\n",
    "Following algorithms were trained and test:\n",
    "\n",
    "|Algorithm            |Deal with categoricals|Scaling        |Tuned Hyperparamteres  |\n",
    "|---------------------|----------------------|---------------|-----------------------|\n",
    "|LinearRegression     |One hot encoding      |StandardScaler |None                   |\n",
    "|RandomForestRegressor|Label encoding        |None           |n_estimators, max_depth|\n",
    "|LightGBMRegressor    |Label encoding        |None           |n_estimators, max_depth|\n",
    "|XGBoostRegressor     |Label encoding        |None           |None                   |\n",
    "|CatBoostRegressor    |it has its own        |None           |iterations, depth      |"
   ]
  },
  {
   "cell_type": "markdown",
   "metadata": {},
   "source": [
    "## 4. Performance comparison of models\n",
    "\n",
    "Here we will compare the RMSE score and how much time was required to get an optimal score with the above models."
   ]
  },
  {
   "cell_type": "code",
   "execution_count": 39,
   "metadata": {},
   "outputs": [
    {
     "data": {
      "image/png": "[encoded data removed]",
      "text/plain": [
       "<Figure size 864x432 with 3 Axes>"
      ]
     },
     "metadata": {
      "needs_background": "light"
     },
     "output_type": "display_data"
    }
   ],
   "source": [
    "# performace of best models\n",
    "models = [\"LinearReg\", \"RandForest\", \"LightGBM\", \"XGboost\", \"CatBoost\"]\n",
    "rmse_score = [2766.05, 1754.42, 1888.53, 1990.81, 1814.9]\n",
    "fit_time = [24.1, 23.4, 1.65, 13.9, 88]\n",
    "pred_time = [0.22, 1.07, 0.45, 0.39, 0.313]\n",
    "# ceate a dataframe\n",
    "comparison = pd.DataFrame(\n",
    "    data=zip(models, rmse_score, fit_time, pred_time),\n",
    "    columns=[\"model\", \"rmse_score\", \"fit_time_sec\", \"pred_time_sec\"],\n",
    ")\n",
    "\n",
    "# plot performance metrics\n",
    "fig, ax = plt.subplots(1, 3, figsize=(12, 6))\n",
    "sns.set_style(\"whitegrid\")\n",
    "\n",
    "\n",
    "sns.barplot(\n",
    "    data=comparison.sort_values(\"rmse_score\"),\n",
    "    y=\"model\",\n",
    "    x=\"rmse_score\",\n",
    "    orient=\"h\",\n",
    "    ax=ax[0],\n",
    ")\n",
    "ax[0].set_title(\"RMSE score comparison of various models\")\n",
    "sns.barplot(\n",
    "    data=comparison.sort_values(\"rmse_score\"),\n",
    "    y=\"model\",\n",
    "    x=\"fit_time_sec\",\n",
    "    orient=\"h\",\n",
    "    ax=ax[1],\n",
    ")\n",
    "ax[1].set_title(\"Time required to train the model\")\n",
    "sns.barplot(\n",
    "    data=comparison.sort_values(\"rmse_score\"),\n",
    "    y=\"model\",\n",
    "    x=\"pred_time_sec\",\n",
    "    orient=\"h\",\n",
    "    ax=ax[2],\n",
    ")\n",
    "ax[2].set_title(\"Time required to predict the target\")\n",
    "\n",
    "\n",
    "plt.tight_layout()\n",
    "plt.show()"
   ]
  },
  {
   "cell_type": "markdown",
   "metadata": {},
   "source": [
    "### 4.1 Conclusion"
   ]
  },
  {
   "cell_type": "markdown",
   "metadata": {},
   "source": [
    "Overall, from the perspective of RMSE score, all models performed well compared to the simple **LinearRegression, which estimates the price of the car with $\\pm$ 2766 EUR.** However, RMSE scores of **RandomForest were the lowest ($\\pm$ 1754 EUR)**, but LightGBM and CatBoost also performed comparably to RandomForest. \n",
    "\n",
    "\n",
    "On other hand, the times for training the model and predicting the target were significantly different. For example, RandomForest, which had the highest RMSE score, required 23 seconds for training and as high as 1.1 seconds for prediction, while\n",
    "the simple **LinearRegression model required 24 seconds for training and only 0.22 seconds for prediction. \n",
    "\n",
    "In our opinion, prediction time is more important than training time. Because a model is once trained and deployed. Then customers frequently use this model to predict the price of their cars. And this be should be quick due to prevent long waiting times. Therefore, models with an adequate RMSE score and the lowest prediction time are more promising for implementation.\n",
    "\n",
    "**In summary, we can say that CatBoost with a relatively good accurate prediction ($\\pm$ 1814 EUR) and only 0.31 seconds of prediction time looks more promising for implementation for this particular task.**"
   ]
  },
  {
   "cell_type": "markdown",
   "metadata": {
    "pycharm": {
     "name": "#%% md\n"
    }
   },
   "source": [
    "## 5. Summary\n",
    "\n",
    "- Data, with **354369 rows and 16 columns**, has been imported and checked, following observations/changes were made:\n",
    "    - `vehicletype`, `gearbox`, `model`, `fueltype`, and `notrepaired` columns were containing missing values. These all columns hold categorical data types. Therefore, all missing values were filled as \"unknown\";\n",
    "    - In total 262 rows were duplicated in original data. It was found that they were identical duplicates. They were all dropped;\n",
    "    - A new column which contains the age of the vehicle, `vehicleage`, was created using `datecreated` and `registrationyear` columns. However, in this step, it was observed that data was containing error in `registrationyear` columns, there were years as low as 1000 and as high as 9999. All years smaller than 1900 (it is the year when cars became commercial) and higher than the profile date creation were dropped. Dropped amount of rows were around 4% of the data.\n",
    "\n",
    "\n",
    "- During EDA, it was observed that there was an error in the `power` column, which were containing horsepower values as high as 20000. All values above the Q3+IQR*1.5 were dropped (it was only 0.12% of the data).\n",
    "\n",
    "- It was observed that ** the most sold:\n",
    "    - brand: Volkswagen\n",
    "    - model: golf\n",
    "    - vehicle type: sedan \n",
    "    - gearbox: manual (more than two-thirds of all)\n",
    "    - fuel type: petrol (about two-thirds of all)\n",
    "\n",
    "All mentioned errors might be originated due to technical reasons, human error (typo), or during web crawling, dataset joining, etc.\n",
    "\n",
    "- We have selected most important columns as following: `price`, `vehicletype`, `gearbox`, `power`, `model`, `mileage`, `fueltype`, `brand`, and `vehicleage`. New data for training and testing models has 331474 rows and 9 columns (just for comparison, initial data were containing: **354369 rows and 16 columns**. Duplicates, errors and unnecessary data were dropped.)\n",
    "\n",
    "- Following algorithms were trained and test:\n",
    "\n",
    "    |Algorithm            |Deal with categoricals|Scaling        |Tuned Hyperparamteres  |\n",
    "    |---------------------|----------------------|---------------|-----------------------|\n",
    "    |LinearRegression     |One hot encoding      |StandardScaler |None                   |\n",
    "    |RandomForestRegressor|Label encoding        |None           |n_estimators, max_depth|\n",
    "    |LightGBMRegressor    |Label encoding        |None           |n_estimators, max_depth|\n",
    "    |XGBoostRegressor     |Label encoding        |None           |None                   |\n",
    "    |CatBoostRegressor    |it has its own        |None           |iterations, depth      |\n",
    "\n",
    "\n",
    "\n",
    "- Overall, from the perspective of RMSE score, all models performed well compared to the simple **LinearRegression, which estimates the price of the car with $\\pm$ 2766 EUR.** However, RMSE scores of **RandomForest were the lowest ($\\pm$ 1754 EUR)**, but LightGBM and CatBoost also performed comparably to RandomForest. On other hand, the times for training the model and predicting the target were significantly different. For example, RandomForest, which had the highest RMSE score, required 23 seconds for training and as high as 1.1 seconds for prediction, while the simple **LinearRegression model required 24 seconds for training and only 0.22 seconds for prediction. \n",
    "\n",
    "\n",
    "In our opinion, prediction time is more important than training time. Because a model is once trained and deployed. Then customers frequently use this model to predict the price of their cars. And this be should be quick due to prevent long waiting times. Therefore, models with an adequate RMSE score and the lowest prediction time are more promising for implementation.\n",
    "\n",
    "**In summary, we can say that CatBoost with a relatively good accurate prediction ($\\pm$ 1814 EUR) and only 0.31 seconds of prediction time looks more promising for implementation for this particular task.**"
   ]
  }
 ],
 "metadata": {
  "ExecuteTimeLog": [
   {
    "duration": 3,
    "start_time": "2021-07-19T08:22:15.441Z"
   },
   {
    "duration": 222,
    "start_time": "2021-07-19T08:23:58.157Z"
   },
   {
    "duration": 561,
    "start_time": "2021-07-19T08:24:01.397Z"
   },
   {
    "duration": 585,
    "start_time": "2021-07-19T08:24:01.960Z"
   },
   {
    "duration": 635,
    "start_time": "2021-07-19T08:24:09.724Z"
   },
   {
    "duration": 111,
    "start_time": "2021-07-19T08:27:09.213Z"
   },
   {
    "duration": 696,
    "start_time": "2021-07-19T08:37:22.278Z"
   },
   {
    "duration": 549,
    "start_time": "2021-07-19T08:37:32.663Z"
   },
   {
    "duration": 277,
    "start_time": "2021-07-19T08:43:48.119Z"
   },
   {
    "duration": 235,
    "start_time": "2021-07-19T08:44:53.551Z"
   },
   {
    "duration": 66,
    "start_time": "2021-07-19T08:45:15.929Z"
   },
   {
    "duration": 261,
    "start_time": "2021-07-19T08:45:20.975Z"
   },
   {
    "duration": 490,
    "start_time": "2021-07-19T09:17:37.112Z"
   },
   {
    "duration": 485,
    "start_time": "2021-07-19T09:17:50.343Z"
   },
   {
    "duration": 484,
    "start_time": "2021-07-19T09:17:55.439Z"
   },
   {
    "duration": 479,
    "start_time": "2021-07-19T09:18:09.144Z"
   },
   {
    "duration": 3,
    "start_time": "2021-07-19T09:21:36.552Z"
   },
   {
    "duration": 12,
    "start_time": "2021-07-19T09:21:42.467Z"
   },
   {
    "duration": 2,
    "start_time": "2021-07-19T09:26:52.520Z"
   },
   {
    "duration": 624,
    "start_time": "2021-07-19T09:26:52.930Z"
   },
   {
    "duration": 139,
    "start_time": "2021-07-19T09:26:53.555Z"
   },
   {
    "duration": 271,
    "start_time": "2021-07-19T09:26:53.697Z"
   },
   {
    "duration": 568,
    "start_time": "2021-07-19T09:26:53.970Z"
   },
   {
    "duration": 280,
    "start_time": "2021-07-19T09:26:54.873Z"
   },
   {
    "duration": 304,
    "start_time": "2021-07-19T09:27:31.177Z"
   },
   {
    "duration": 226,
    "start_time": "2021-07-19T09:28:41.713Z"
   },
   {
    "duration": 171,
    "start_time": "2021-07-19T09:28:54.209Z"
   },
   {
    "duration": 177,
    "start_time": "2021-07-19T09:29:23.345Z"
   },
   {
    "duration": 17,
    "start_time": "2021-07-19T09:29:32.689Z"
   },
   {
    "duration": 12,
    "start_time": "2021-07-19T09:29:40.385Z"
   },
   {
    "duration": 19,
    "start_time": "2021-07-19T09:30:06.457Z"
   },
   {
    "duration": 19,
    "start_time": "2021-07-19T09:31:30.713Z"
   },
   {
    "duration": 39,
    "start_time": "2021-07-19T09:35:23.993Z"
   },
   {
    "duration": 46,
    "start_time": "2021-07-19T09:37:42.985Z"
   },
   {
    "duration": 49,
    "start_time": "2021-07-19T09:38:45.249Z"
   },
   {
    "duration": 20,
    "start_time": "2021-07-19T09:43:18.729Z"
   },
   {
    "duration": 33,
    "start_time": "2021-07-19T09:43:38.129Z"
   },
   {
    "duration": 34,
    "start_time": "2021-07-19T09:43:46.601Z"
   },
   {
    "duration": 209,
    "start_time": "2021-07-19T09:43:55.970Z"
   },
   {
    "duration": 221,
    "start_time": "2021-07-19T09:44:01.737Z"
   },
   {
    "duration": 38,
    "start_time": "2021-07-19T09:44:07.177Z"
   },
   {
    "duration": 235,
    "start_time": "2021-07-19T09:47:51.345Z"
   },
   {
    "duration": 242,
    "start_time": "2021-07-19T09:47:56.106Z"
   },
   {
    "duration": 36,
    "start_time": "2021-07-19T09:52:23.658Z"
   },
   {
    "duration": 31,
    "start_time": "2021-07-19T09:52:38.330Z"
   },
   {
    "duration": 725,
    "start_time": "2021-07-19T09:52:46.498Z"
   },
   {
    "duration": 83,
    "start_time": "2021-07-19T09:52:57.257Z"
   },
   {
    "duration": 21,
    "start_time": "2021-07-19T09:52:59.714Z"
   },
   {
    "duration": 22,
    "start_time": "2021-07-19T09:53:11.930Z"
   },
   {
    "duration": 217,
    "start_time": "2021-07-19T09:53:19.945Z"
   },
   {
    "duration": 23,
    "start_time": "2021-07-19T09:53:40.497Z"
   },
   {
    "duration": 313,
    "start_time": "2021-07-19T09:54:56.290Z"
   },
   {
    "duration": 535,
    "start_time": "2021-07-19T09:55:02.593Z"
   },
   {
    "duration": 20,
    "start_time": "2021-07-19T09:55:10.498Z"
   },
   {
    "duration": 30,
    "start_time": "2021-07-19T09:55:48.571Z"
   },
   {
    "duration": 33,
    "start_time": "2021-07-19T09:57:02.171Z"
   },
   {
    "duration": 9257,
    "start_time": "2021-07-19T09:59:43.042Z"
   },
   {
    "duration": 7796,
    "start_time": "2021-07-19T10:00:28.474Z"
   },
   {
    "duration": 814,
    "start_time": "2021-07-19T10:00:47.115Z"
   },
   {
    "duration": 14,
    "start_time": "2021-07-19T10:00:57.642Z"
   },
   {
    "duration": 558,
    "start_time": "2021-07-19T10:16:35.109Z"
   },
   {
    "duration": 110,
    "start_time": "2021-07-19T10:16:45.771Z"
   },
   {
    "duration": 546,
    "start_time": "2021-07-19T10:17:37.531Z"
   },
   {
    "duration": 112,
    "start_time": "2021-07-19T10:17:39.010Z"
   },
   {
    "duration": 241,
    "start_time": "2021-07-19T10:17:41.779Z"
   },
   {
    "duration": 486,
    "start_time": "2021-07-19T10:17:47.187Z"
   },
   {
    "duration": 269,
    "start_time": "2021-07-19T10:17:47.675Z"
   },
   {
    "duration": 13,
    "start_time": "2021-07-19T10:17:53.987Z"
   },
   {
    "duration": 2205,
    "start_time": "2021-07-19T10:19:33.189Z"
   },
   {
    "duration": 3,
    "start_time": "2021-07-19T10:20:23.107Z"
   },
   {
    "duration": 109,
    "start_time": "2021-07-19T10:20:31.732Z"
   },
   {
    "duration": 2195,
    "start_time": "2021-07-19T10:20:47.236Z"
   },
   {
    "duration": 84,
    "start_time": "2021-07-19T10:21:01.340Z"
   },
   {
    "duration": 5,
    "start_time": "2021-07-19T10:22:20.308Z"
   },
   {
    "duration": 5911,
    "start_time": "2021-07-19T10:29:31.700Z"
   },
   {
    "duration": 13,
    "start_time": "2021-07-19T10:29:40.916Z"
   },
   {
    "duration": 34,
    "start_time": "2021-07-19T10:30:26.430Z"
   },
   {
    "duration": 9,
    "start_time": "2021-07-19T10:30:51.243Z"
   },
   {
    "duration": 8,
    "start_time": "2021-07-19T10:30:55.717Z"
   },
   {
    "duration": 88,
    "start_time": "2021-07-19T10:31:22.636Z"
   },
   {
    "duration": 96,
    "start_time": "2021-07-19T10:33:33.652Z"
   },
   {
    "duration": 120,
    "start_time": "2021-07-19T10:34:23.950Z"
   },
   {
    "duration": 209,
    "start_time": "2021-07-19T10:47:06.108Z"
   },
   {
    "duration": 36,
    "start_time": "2021-07-19T10:47:12.500Z"
   },
   {
    "duration": 6,
    "start_time": "2021-07-19T10:47:27.892Z"
   },
   {
    "duration": 35,
    "start_time": "2021-07-19T10:47:46.793Z"
   },
   {
    "duration": 32,
    "start_time": "2021-07-19T10:53:17.063Z"
   },
   {
    "duration": 194,
    "start_time": "2021-07-19T10:53:39.397Z"
   },
   {
    "duration": 568,
    "start_time": "2021-07-19T10:54:19.103Z"
   },
   {
    "duration": 115,
    "start_time": "2021-07-19T10:54:21.036Z"
   },
   {
    "duration": 229,
    "start_time": "2021-07-19T10:54:21.813Z"
   },
   {
    "duration": 514,
    "start_time": "2021-07-19T10:54:23.228Z"
   },
   {
    "duration": 271,
    "start_time": "2021-07-19T10:54:24.373Z"
   },
   {
    "duration": 13,
    "start_time": "2021-07-19T10:54:30.044Z"
   },
   {
    "duration": 2255,
    "start_time": "2021-07-19T10:54:31.429Z"
   },
   {
    "duration": 5,
    "start_time": "2021-07-19T10:54:37.844Z"
   },
   {
    "duration": 262,
    "start_time": "2021-07-19T10:54:42.325Z"
   },
   {
    "duration": 113,
    "start_time": "2021-07-19T10:55:13.804Z"
   },
   {
    "duration": 119,
    "start_time": "2021-07-19T10:55:43.309Z"
   },
   {
    "duration": 194,
    "start_time": "2021-07-19T10:55:54.780Z"
   },
   {
    "duration": 274,
    "start_time": "2021-07-19T10:57:00.485Z"
   },
   {
    "duration": 564,
    "start_time": "2021-07-19T10:58:19.309Z"
   },
   {
    "duration": 5,
    "start_time": "2021-07-19T10:58:29.980Z"
   },
   {
    "duration": 177,
    "start_time": "2021-07-19T10:59:13.532Z"
   },
   {
    "duration": 23724,
    "start_time": "2021-07-19T10:59:44.541Z"
   },
   {
    "duration": 9,
    "start_time": "2021-07-19T11:00:19.677Z"
   },
   {
    "duration": 8,
    "start_time": "2021-07-19T11:00:32.197Z"
   },
   {
    "duration": 571,
    "start_time": "2021-07-19T11:01:37.048Z"
   },
   {
    "duration": 2,
    "start_time": "2021-07-19T11:01:38.869Z"
   },
   {
    "duration": 111,
    "start_time": "2021-07-19T11:01:39.893Z"
   },
   {
    "duration": 225,
    "start_time": "2021-07-19T11:01:41.423Z"
   },
   {
    "duration": 485,
    "start_time": "2021-07-19T11:01:46.581Z"
   },
   {
    "duration": 271,
    "start_time": "2021-07-19T11:01:48.377Z"
   },
   {
    "duration": 12,
    "start_time": "2021-07-19T11:01:57.557Z"
   },
   {
    "duration": 2225,
    "start_time": "2021-07-19T11:02:04.085Z"
   },
   {
    "duration": 13,
    "start_time": "2021-07-19T11:02:42.478Z"
   },
   {
    "duration": 40,
    "start_time": "2021-07-19T11:02:44.909Z"
   },
   {
    "duration": 111,
    "start_time": "2021-07-19T11:02:56.813Z"
   },
   {
    "duration": 119,
    "start_time": "2021-07-19T11:03:18.389Z"
   },
   {
    "duration": 606,
    "start_time": "2021-07-19T11:03:29.863Z"
   },
   {
    "duration": 2,
    "start_time": "2021-07-19T11:03:30.471Z"
   },
   {
    "duration": 118,
    "start_time": "2021-07-19T11:03:30.685Z"
   },
   {
    "duration": 240,
    "start_time": "2021-07-19T11:03:30.904Z"
   },
   {
    "duration": 505,
    "start_time": "2021-07-19T11:03:31.285Z"
   },
   {
    "duration": 277,
    "start_time": "2021-07-19T11:03:31.792Z"
   },
   {
    "duration": 12,
    "start_time": "2021-07-19T11:03:36.165Z"
   },
   {
    "duration": 25970,
    "start_time": "2021-07-19T11:03:38.576Z"
   },
   {
    "duration": 29,
    "start_time": "2021-07-19T11:04:43.350Z"
   },
   {
    "duration": 216,
    "start_time": "2021-07-19T11:06:16.822Z"
   },
   {
    "duration": 226,
    "start_time": "2021-07-19T11:06:36.509Z"
   },
   {
    "duration": 396,
    "start_time": "2021-07-19T11:06:42.548Z"
   },
   {
    "duration": 218,
    "start_time": "2021-07-19T11:06:46.525Z"
   },
   {
    "duration": 222,
    "start_time": "2021-07-19T11:06:56.709Z"
   },
   {
    "duration": 164,
    "start_time": "2021-07-19T11:07:32.685Z"
   },
   {
    "duration": 468,
    "start_time": "2021-07-19T11:08:51.733Z"
   },
   {
    "duration": 482,
    "start_time": "2021-07-19T11:09:00.701Z"
   },
   {
    "duration": 479,
    "start_time": "2021-07-19T11:09:18.581Z"
   },
   {
    "duration": 495,
    "start_time": "2021-07-19T11:09:26.725Z"
   },
   {
    "duration": 209,
    "start_time": "2021-07-19T11:09:31.541Z"
   },
   {
    "duration": 483,
    "start_time": "2021-07-19T11:09:32.981Z"
   },
   {
    "duration": 3,
    "start_time": "2021-07-19T11:09:41.156Z"
   },
   {
    "duration": 539,
    "start_time": "2021-07-19T11:09:41.162Z"
   },
   {
    "duration": 2,
    "start_time": "2021-07-19T11:09:41.703Z"
   },
   {
    "duration": 127,
    "start_time": "2021-07-19T11:09:41.707Z"
   },
   {
    "duration": 235,
    "start_time": "2021-07-19T11:09:41.836Z"
   },
   {
    "duration": 495,
    "start_time": "2021-07-19T11:09:42.073Z"
   },
   {
    "duration": 275,
    "start_time": "2021-07-19T11:09:42.570Z"
   },
   {
    "duration": 11,
    "start_time": "2021-07-19T11:09:42.847Z"
   },
   {
    "duration": 25357,
    "start_time": "2021-07-19T11:09:42.859Z"
   },
   {
    "duration": 255,
    "start_time": "2021-07-19T11:10:08.219Z"
   },
   {
    "duration": 476,
    "start_time": "2021-07-19T11:10:08.476Z"
   },
   {
    "duration": 283,
    "start_time": "2021-07-19T11:10:08.954Z"
   },
   {
    "duration": 465,
    "start_time": "2021-07-19T11:13:02.046Z"
   },
   {
    "duration": 476,
    "start_time": "2021-07-19T11:13:10.470Z"
   },
   {
    "duration": 440,
    "start_time": "2021-07-19T11:14:20.758Z"
   },
   {
    "duration": 100478,
    "start_time": "2021-07-19T11:14:26.622Z"
   },
   {
    "duration": 475,
    "start_time": "2021-07-19T11:16:10.365Z"
   },
   {
    "duration": 62,
    "start_time": "2021-07-19T11:17:51.712Z"
   },
   {
    "duration": 283,
    "start_time": "2021-07-19T11:20:11.191Z"
   },
   {
    "duration": 2,
    "start_time": "2021-07-19T11:20:24.854Z"
   },
   {
    "duration": 257,
    "start_time": "2021-07-19T11:20:30.384Z"
   },
   {
    "duration": 219,
    "start_time": "2021-07-19T11:22:12.460Z"
   },
   {
    "duration": 230,
    "start_time": "2021-07-19T11:22:23.887Z"
   },
   {
    "duration": 62,
    "start_time": "2021-07-19T11:24:37.592Z"
   },
   {
    "duration": 13,
    "start_time": "2021-07-19T11:25:10.390Z"
   },
   {
    "duration": 5,
    "start_time": "2021-07-19T11:25:47.575Z"
   },
   {
    "duration": 6,
    "start_time": "2021-07-19T11:25:52.430Z"
   },
   {
    "duration": 15,
    "start_time": "2021-07-19T11:26:12.095Z"
   },
   {
    "duration": 31,
    "start_time": "2021-07-19T11:27:42.007Z"
   },
   {
    "duration": 42,
    "start_time": "2021-07-19T11:27:49.039Z"
   },
   {
    "duration": 47,
    "start_time": "2021-07-19T11:32:48.919Z"
   },
   {
    "duration": 17,
    "start_time": "2021-07-19T11:34:12.215Z"
   },
   {
    "duration": 23,
    "start_time": "2021-07-19T11:34:50.319Z"
   },
   {
    "duration": 215,
    "start_time": "2021-07-19T11:35:13.248Z"
   },
   {
    "duration": 200,
    "start_time": "2021-07-19T11:35:22.447Z"
   },
   {
    "duration": 204,
    "start_time": "2021-07-19T11:35:32.552Z"
   },
   {
    "duration": 205,
    "start_time": "2021-07-19T11:35:41.519Z"
   },
   {
    "duration": 23,
    "start_time": "2021-07-19T11:35:57.784Z"
   },
   {
    "duration": 29,
    "start_time": "2021-07-19T11:36:25.039Z"
   },
   {
    "duration": 37,
    "start_time": "2021-07-19T11:36:32.056Z"
   },
   {
    "duration": 28,
    "start_time": "2021-07-19T11:40:09.599Z"
   },
   {
    "duration": 28,
    "start_time": "2021-07-19T11:40:19.488Z"
   },
   {
    "duration": 29,
    "start_time": "2021-07-19T11:41:51.783Z"
   },
   {
    "duration": 182,
    "start_time": "2021-07-19T11:43:01.033Z"
   },
   {
    "duration": 25,
    "start_time": "2021-07-19T11:43:05.104Z"
   },
   {
    "duration": 223,
    "start_time": "2021-07-19T11:43:05.391Z"
   },
   {
    "duration": 1263,
    "start_time": "2021-07-19T11:43:45.416Z"
   },
   {
    "duration": 1334,
    "start_time": "2021-07-19T11:44:19.905Z"
   },
   {
    "duration": 1355,
    "start_time": "2021-07-19T11:44:34.976Z"
   },
   {
    "duration": 13,
    "start_time": "2021-07-19T11:44:55.824Z"
   },
   {
    "duration": 189,
    "start_time": "2021-07-19T11:45:21.161Z"
   },
   {
    "duration": 12,
    "start_time": "2021-07-19T11:45:27.096Z"
   },
   {
    "duration": 8,
    "start_time": "2021-07-19T11:46:06.040Z"
   },
   {
    "duration": 39,
    "start_time": "2021-07-19T11:46:39.592Z"
   },
   {
    "duration": 37,
    "start_time": "2021-07-19T11:46:49.816Z"
   },
   {
    "duration": 35,
    "start_time": "2021-07-19T11:47:30.584Z"
   },
   {
    "duration": 32,
    "start_time": "2021-07-19T11:47:45.272Z"
   },
   {
    "duration": 33,
    "start_time": "2021-07-19T11:47:48.856Z"
   },
   {
    "duration": 526,
    "start_time": "2021-07-19T11:47:51.248Z"
   },
   {
    "duration": 42,
    "start_time": "2021-07-19T11:47:53.120Z"
   },
   {
    "duration": 14,
    "start_time": "2021-07-19T11:48:40.137Z"
   },
   {
    "duration": 64,
    "start_time": "2021-07-19T11:48:48.480Z"
   },
   {
    "duration": 4346,
    "start_time": "2021-07-19T11:48:52.632Z"
   },
   {
    "duration": 33,
    "start_time": "2021-07-19T11:49:06.336Z"
   },
   {
    "duration": 13,
    "start_time": "2021-07-19T11:50:21.305Z"
   },
   {
    "duration": 13,
    "start_time": "2021-07-19T11:50:26.712Z"
   },
   {
    "duration": 60,
    "start_time": "2021-07-19T11:51:07.248Z"
   },
   {
    "duration": 220,
    "start_time": "2021-07-19T11:53:09.538Z"
   },
   {
    "duration": 9073,
    "start_time": "2021-07-19T12:01:12.681Z"
   },
   {
    "duration": 8602,
    "start_time": "2021-07-19T12:01:54.457Z"
   },
   {
    "duration": 36,
    "start_time": "2021-07-19T12:04:26.481Z"
   },
   {
    "duration": 308,
    "start_time": "2021-07-19T12:04:38.657Z"
   },
   {
    "duration": 52,
    "start_time": "2021-07-19T12:04:44.490Z"
   },
   {
    "duration": 7,
    "start_time": "2021-07-19T12:05:10.185Z"
   },
   {
    "duration": 27,
    "start_time": "2021-07-19T12:05:15.787Z"
   },
   {
    "duration": 17,
    "start_time": "2021-07-19T12:05:57.641Z"
   },
   {
    "duration": 6,
    "start_time": "2021-07-19T12:06:05.137Z"
   },
   {
    "duration": 21,
    "start_time": "2021-07-19T12:06:14.762Z"
   },
   {
    "duration": 39,
    "start_time": "2021-07-19T12:06:45.969Z"
   },
   {
    "duration": 30,
    "start_time": "2021-07-19T12:11:15.378Z"
   },
   {
    "duration": 31,
    "start_time": "2021-07-19T12:11:20.369Z"
   },
   {
    "duration": 1392,
    "start_time": "2021-07-19T12:12:20.242Z"
   },
   {
    "duration": 184,
    "start_time": "2021-07-19T12:12:30.650Z"
   },
   {
    "duration": 246,
    "start_time": "2021-07-19T12:13:03.250Z"
   },
   {
    "duration": 224,
    "start_time": "2021-07-19T12:13:21.090Z"
   },
   {
    "duration": 1410,
    "start_time": "2021-07-19T12:13:34.081Z"
   },
   {
    "duration": 1093,
    "start_time": "2021-07-19T12:13:47.115Z"
   },
   {
    "duration": 53,
    "start_time": "2021-07-19T12:14:21.803Z"
   },
   {
    "duration": 12,
    "start_time": "2021-07-19T12:15:34.620Z"
   },
   {
    "duration": 13,
    "start_time": "2021-07-19T12:15:40.226Z"
   },
   {
    "duration": 40,
    "start_time": "2021-07-19T12:16:57.274Z"
   },
   {
    "duration": 45,
    "start_time": "2021-07-19T12:17:16.739Z"
   },
   {
    "duration": 7,
    "start_time": "2021-07-19T12:18:52.682Z"
   },
   {
    "duration": 45,
    "start_time": "2021-07-19T12:19:23.410Z"
   },
   {
    "duration": 14,
    "start_time": "2021-07-19T12:20:08.627Z"
   },
   {
    "duration": 16,
    "start_time": "2021-07-19T12:20:21.515Z"
   },
   {
    "duration": 537,
    "start_time": "2021-07-19T12:21:40.517Z"
   },
   {
    "duration": 177,
    "start_time": "2021-07-19T12:22:08.339Z"
   },
   {
    "duration": 10,
    "start_time": "2021-07-19T12:22:16.675Z"
   },
   {
    "duration": 30,
    "start_time": "2021-07-19T12:22:28.514Z"
   },
   {
    "duration": 6,
    "start_time": "2021-07-19T12:23:38.476Z"
   },
   {
    "duration": 10,
    "start_time": "2021-07-19T12:24:08.707Z"
   },
   {
    "duration": 10,
    "start_time": "2021-07-19T12:24:15.475Z"
   },
   {
    "duration": 48,
    "start_time": "2021-07-19T12:24:24.434Z"
   },
   {
    "duration": 28,
    "start_time": "2021-07-19T12:24:52.876Z"
   },
   {
    "duration": 26,
    "start_time": "2021-07-19T12:25:11.755Z"
   },
   {
    "duration": 41,
    "start_time": "2021-07-19T12:25:17.027Z"
   },
   {
    "duration": 39,
    "start_time": "2021-07-19T12:25:32.923Z"
   },
   {
    "duration": 15,
    "start_time": "2021-07-19T12:25:50.843Z"
   },
   {
    "duration": 51,
    "start_time": "2021-07-19T12:26:57.268Z"
   },
   {
    "duration": 44,
    "start_time": "2021-07-19T12:27:01.628Z"
   },
   {
    "duration": 45,
    "start_time": "2021-07-19T12:27:03.731Z"
   },
   {
    "duration": 16,
    "start_time": "2021-07-19T12:27:10.491Z"
   },
   {
    "duration": 3,
    "start_time": "2021-07-19T12:27:42.978Z"
   },
   {
    "duration": 539,
    "start_time": "2021-07-19T12:27:42.983Z"
   },
   {
    "duration": 2,
    "start_time": "2021-07-19T12:27:43.524Z"
   },
   {
    "duration": 137,
    "start_time": "2021-07-19T12:27:43.528Z"
   },
   {
    "duration": 246,
    "start_time": "2021-07-19T12:27:43.667Z"
   },
   {
    "duration": 519,
    "start_time": "2021-07-19T12:27:43.915Z"
   },
   {
    "duration": 286,
    "start_time": "2021-07-19T12:27:44.436Z"
   },
   {
    "duration": 13,
    "start_time": "2021-07-19T12:27:44.724Z"
   },
   {
    "duration": 25786,
    "start_time": "2021-07-19T12:27:44.738Z"
   },
   {
    "duration": 191,
    "start_time": "2021-07-19T12:28:10.525Z"
   },
   {
    "duration": 26,
    "start_time": "2021-07-19T12:28:10.717Z"
   },
   {
    "duration": 47,
    "start_time": "2021-07-19T12:28:10.744Z"
   },
   {
    "duration": 480,
    "start_time": "2021-07-19T12:28:10.793Z"
   },
   {
    "duration": 58,
    "start_time": "2021-07-19T12:28:11.275Z"
   },
   {
    "duration": 11,
    "start_time": "2021-07-19T12:28:11.335Z"
   },
   {
    "duration": 14,
    "start_time": "2021-07-19T12:28:11.348Z"
   },
   {
    "duration": 76,
    "start_time": "2021-07-19T12:28:11.364Z"
   },
   {
    "duration": 45,
    "start_time": "2021-07-19T12:28:11.441Z"
   },
   {
    "duration": 37,
    "start_time": "2021-07-19T12:28:11.489Z"
   },
   {
    "duration": 15,
    "start_time": "2021-07-19T12:28:11.527Z"
   },
   {
    "duration": 12,
    "start_time": "2021-07-19T12:28:11.544Z"
   },
   {
    "duration": 77,
    "start_time": "2021-07-19T12:28:11.557Z"
   },
   {
    "duration": 101,
    "start_time": "2021-07-19T12:28:11.636Z"
   },
   {
    "duration": -554,
    "start_time": "2021-07-19T12:28:12.293Z"
   },
   {
    "duration": -557,
    "start_time": "2021-07-19T12:28:12.297Z"
   },
   {
    "duration": -559,
    "start_time": "2021-07-19T12:28:12.300Z"
   },
   {
    "duration": 3,
    "start_time": "2021-07-19T12:28:23.960Z"
   },
   {
    "duration": 586,
    "start_time": "2021-07-19T12:28:23.965Z"
   },
   {
    "duration": 2,
    "start_time": "2021-07-19T12:28:24.553Z"
   },
   {
    "duration": 123,
    "start_time": "2021-07-19T12:28:24.557Z"
   },
   {
    "duration": 248,
    "start_time": "2021-07-19T12:28:24.684Z"
   },
   {
    "duration": 506,
    "start_time": "2021-07-19T12:28:24.933Z"
   },
   {
    "duration": 281,
    "start_time": "2021-07-19T12:28:25.440Z"
   },
   {
    "duration": 12,
    "start_time": "2021-07-19T12:28:25.724Z"
   },
   {
    "duration": 25549,
    "start_time": "2021-07-19T12:28:25.738Z"
   },
   {
    "duration": 197,
    "start_time": "2021-07-19T12:28:51.288Z"
   },
   {
    "duration": 26,
    "start_time": "2021-07-19T12:28:51.487Z"
   },
   {
    "duration": 33,
    "start_time": "2021-07-19T12:28:51.515Z"
   },
   {
    "duration": 520,
    "start_time": "2021-07-19T12:28:51.550Z"
   },
   {
    "duration": 53,
    "start_time": "2021-07-19T12:29:00.986Z"
   },
   {
    "duration": 32,
    "start_time": "2021-07-19T12:29:35.683Z"
   },
   {
    "duration": 56,
    "start_time": "2021-07-19T12:29:43.907Z"
   },
   {
    "duration": 41,
    "start_time": "2021-07-19T12:30:07.062Z"
   },
   {
    "duration": 16,
    "start_time": "2021-07-19T12:30:26.875Z"
   },
   {
    "duration": 42,
    "start_time": "2021-07-19T12:30:33.971Z"
   },
   {
    "duration": 13,
    "start_time": "2021-07-19T12:31:08.995Z"
   },
   {
    "duration": 42,
    "start_time": "2021-07-19T12:31:24.964Z"
   },
   {
    "duration": 39,
    "start_time": "2021-07-19T12:32:45.307Z"
   },
   {
    "duration": 45,
    "start_time": "2021-07-19T12:32:47.595Z"
   },
   {
    "duration": 61,
    "start_time": "2021-07-19T12:32:59.274Z"
   },
   {
    "duration": 53,
    "start_time": "2021-07-19T12:33:38.915Z"
   },
   {
    "duration": 40,
    "start_time": "2021-07-19T12:33:40.212Z"
   },
   {
    "duration": 40,
    "start_time": "2021-07-19T12:33:44.804Z"
   },
   {
    "duration": 39,
    "start_time": "2021-07-19T12:33:50.914Z"
   },
   {
    "duration": 16,
    "start_time": "2021-07-19T12:33:53.659Z"
   },
   {
    "duration": 14,
    "start_time": "2021-07-19T12:34:01.251Z"
   },
   {
    "duration": 70,
    "start_time": "2021-07-19T12:34:03.883Z"
   },
   {
    "duration": 17,
    "start_time": "2021-07-19T12:34:50.307Z"
   },
   {
    "duration": 8,
    "start_time": "2021-07-19T12:35:25.843Z"
   },
   {
    "duration": 3,
    "start_time": "2021-07-19T12:38:04.825Z"
   },
   {
    "duration": 544,
    "start_time": "2021-07-19T12:38:04.830Z"
   },
   {
    "duration": 2,
    "start_time": "2021-07-19T12:38:05.384Z"
   },
   {
    "duration": 117,
    "start_time": "2021-07-19T12:38:05.387Z"
   },
   {
    "duration": 239,
    "start_time": "2021-07-19T12:38:05.505Z"
   },
   {
    "duration": 502,
    "start_time": "2021-07-19T12:38:05.746Z"
   },
   {
    "duration": 280,
    "start_time": "2021-07-19T12:38:06.252Z"
   },
   {
    "duration": 12,
    "start_time": "2021-07-19T12:38:06.533Z"
   },
   {
    "duration": 25675,
    "start_time": "2021-07-19T12:38:06.546Z"
   },
   {
    "duration": 194,
    "start_time": "2021-07-19T12:38:32.223Z"
   },
   {
    "duration": 29,
    "start_time": "2021-07-19T12:38:32.419Z"
   },
   {
    "duration": 48,
    "start_time": "2021-07-19T12:38:32.450Z"
   },
   {
    "duration": 490,
    "start_time": "2021-07-19T12:38:32.500Z"
   },
   {
    "duration": 51,
    "start_time": "2021-07-19T12:38:40.163Z"
   },
   {
    "duration": 41,
    "start_time": "2021-07-19T12:38:52.123Z"
   },
   {
    "duration": 71,
    "start_time": "2021-07-19T12:39:48.627Z"
   },
   {
    "duration": 69,
    "start_time": "2021-07-19T12:40:19.212Z"
   },
   {
    "duration": 70,
    "start_time": "2021-07-19T12:41:07.267Z"
   },
   {
    "duration": 12,
    "start_time": "2021-07-19T12:41:25.947Z"
   },
   {
    "duration": 13,
    "start_time": "2021-07-19T12:41:36.483Z"
   },
   {
    "duration": 27,
    "start_time": "2021-07-19T12:41:48.564Z"
   },
   {
    "duration": 40,
    "start_time": "2021-07-19T12:41:52.195Z"
   },
   {
    "duration": 9,
    "start_time": "2021-07-19T12:41:55.114Z"
   },
   {
    "duration": 14,
    "start_time": "2021-07-19T12:42:35.715Z"
   },
   {
    "duration": 72,
    "start_time": "2021-07-19T12:42:37.260Z"
   },
   {
    "duration": 33,
    "start_time": "2021-07-19T12:46:39.228Z"
   },
   {
    "duration": 8726,
    "start_time": "2021-07-19T12:46:45.475Z"
   },
   {
    "duration": 224,
    "start_time": "2021-07-19T12:47:37.891Z"
   },
   {
    "duration": 604,
    "start_time": "2021-07-19T12:47:46.003Z"
   },
   {
    "duration": 365,
    "start_time": "2021-07-19T12:47:51.444Z"
   },
   {
    "duration": 298,
    "start_time": "2021-07-19T12:47:57.612Z"
   },
   {
    "duration": 3233,
    "start_time": "2021-07-19T12:48:13.603Z"
   },
   {
    "duration": 3047,
    "start_time": "2021-07-19T12:48:18.269Z"
   },
   {
    "duration": 178,
    "start_time": "2021-07-19T12:48:30.380Z"
   },
   {
    "duration": 285,
    "start_time": "2021-07-19T12:53:58.020Z"
   },
   {
    "duration": 291,
    "start_time": "2021-07-19T12:54:04.885Z"
   },
   {
    "duration": 324,
    "start_time": "2021-07-19T12:54:10.891Z"
   },
   {
    "duration": 299,
    "start_time": "2021-07-19T12:54:28.300Z"
   },
   {
    "duration": 318,
    "start_time": "2021-07-19T12:54:35.676Z"
   },
   {
    "duration": 323,
    "start_time": "2021-07-19T12:54:44.964Z"
   },
   {
    "duration": 920,
    "start_time": "2021-07-19T12:54:50.764Z"
   },
   {
    "duration": 354,
    "start_time": "2021-07-19T12:54:54.844Z"
   },
   {
    "duration": 276,
    "start_time": "2021-07-19T12:55:05.525Z"
   },
   {
    "duration": 276,
    "start_time": "2021-07-19T12:55:21.900Z"
   },
   {
    "duration": 187,
    "start_time": "2021-07-19T12:56:17.812Z"
   },
   {
    "duration": 341,
    "start_time": "2021-07-19T12:56:25.404Z"
   },
   {
    "duration": 351,
    "start_time": "2021-07-19T12:58:15.476Z"
   },
   {
    "duration": 324,
    "start_time": "2021-07-19T12:58:31.900Z"
   },
   {
    "duration": 279,
    "start_time": "2021-07-19T12:58:47.156Z"
   },
   {
    "duration": 375,
    "start_time": "2021-07-19T12:59:58.574Z"
   },
   {
    "duration": 488,
    "start_time": "2021-07-19T13:00:25.847Z"
   },
   {
    "duration": 595,
    "start_time": "2021-07-19T13:00:33.460Z"
   },
   {
    "duration": 630,
    "start_time": "2021-07-19T13:00:44.732Z"
   },
   {
    "duration": 826,
    "start_time": "2021-07-19T13:01:00.445Z"
   },
   {
    "duration": 577,
    "start_time": "2021-07-19T13:01:27.844Z"
   },
   {
    "duration": 603,
    "start_time": "2021-07-19T13:02:07.294Z"
   },
   {
    "duration": 611,
    "start_time": "2021-07-19T13:02:29.108Z"
   },
   {
    "duration": 603,
    "start_time": "2021-07-19T13:02:36.780Z"
   },
   {
    "duration": 594,
    "start_time": "2021-07-19T13:02:49.292Z"
   },
   {
    "duration": 666,
    "start_time": "2021-07-19T13:03:01.437Z"
   },
   {
    "duration": 675,
    "start_time": "2021-07-19T13:03:28.229Z"
   },
   {
    "duration": 990,
    "start_time": "2021-07-19T13:04:33.692Z"
   },
   {
    "duration": 911,
    "start_time": "2021-07-19T13:05:00.437Z"
   },
   {
    "duration": 1022,
    "start_time": "2021-07-19T13:06:00.118Z"
   },
   {
    "duration": 1076,
    "start_time": "2021-07-19T13:06:04.701Z"
   },
   {
    "duration": 1344,
    "start_time": "2021-07-19T13:06:40.428Z"
   },
   {
    "duration": 1006,
    "start_time": "2021-07-19T13:17:46.861Z"
   },
   {
    "duration": 994,
    "start_time": "2021-07-19T13:18:39.798Z"
   },
   {
    "duration": 905,
    "start_time": "2021-07-19T13:18:44.773Z"
   },
   {
    "duration": 1023,
    "start_time": "2021-07-19T13:19:13.062Z"
   },
   {
    "duration": 1315,
    "start_time": "2021-07-19T13:45:39.400Z"
   },
   {
    "duration": 1044,
    "start_time": "2021-07-19T13:45:53.271Z"
   },
   {
    "duration": 886,
    "start_time": "2021-07-19T13:46:14.991Z"
   },
   {
    "duration": 1002,
    "start_time": "2021-07-19T13:46:24.806Z"
   },
   {
    "duration": 78,
    "start_time": "2021-07-19T13:46:31.262Z"
   },
   {
    "duration": 1237,
    "start_time": "2021-07-19T13:46:38.798Z"
   },
   {
    "duration": 215,
    "start_time": "2021-07-19T13:49:02.158Z"
   },
   {
    "duration": 23,
    "start_time": "2021-07-19T13:49:58.815Z"
   },
   {
    "duration": 167,
    "start_time": "2021-07-19T13:51:09.480Z"
   },
   {
    "duration": 186,
    "start_time": "2021-07-19T13:51:27.230Z"
   },
   {
    "duration": 11,
    "start_time": "2021-07-19T13:51:50.783Z"
   },
   {
    "duration": 12,
    "start_time": "2021-07-19T13:52:00.062Z"
   },
   {
    "duration": 6,
    "start_time": "2021-07-19T13:54:15.506Z"
   },
   {
    "duration": 7,
    "start_time": "2021-07-19T13:54:56.375Z"
   },
   {
    "duration": 48,
    "start_time": "2021-07-19T13:55:32.094Z"
   },
   {
    "duration": 39,
    "start_time": "2021-07-19T13:55:40.543Z"
   },
   {
    "duration": 31,
    "start_time": "2021-07-19T13:55:48.721Z"
   },
   {
    "duration": 200,
    "start_time": "2021-07-19T13:56:07.238Z"
   },
   {
    "duration": 3,
    "start_time": "2021-07-19T13:57:20.626Z"
   },
   {
    "duration": 609,
    "start_time": "2021-07-19T13:57:20.631Z"
   },
   {
    "duration": 2,
    "start_time": "2021-07-19T13:57:21.242Z"
   },
   {
    "duration": 123,
    "start_time": "2021-07-19T13:57:21.246Z"
   },
   {
    "duration": 257,
    "start_time": "2021-07-19T13:57:21.372Z"
   },
   {
    "duration": 530,
    "start_time": "2021-07-19T13:57:21.631Z"
   },
   {
    "duration": 293,
    "start_time": "2021-07-19T13:57:22.163Z"
   },
   {
    "duration": 12,
    "start_time": "2021-07-19T13:57:22.459Z"
   },
   {
    "duration": 26318,
    "start_time": "2021-07-19T13:57:22.473Z"
   },
   {
    "duration": 197,
    "start_time": "2021-07-19T13:57:48.792Z"
   },
   {
    "duration": 25,
    "start_time": "2021-07-19T13:57:48.990Z"
   },
   {
    "duration": 33,
    "start_time": "2021-07-19T13:57:49.016Z"
   },
   {
    "duration": 494,
    "start_time": "2021-07-19T13:57:49.051Z"
   },
   {
    "duration": 64,
    "start_time": "2021-07-19T13:57:49.547Z"
   },
   {
    "duration": 79,
    "start_time": "2021-07-19T13:57:49.612Z"
   },
   {
    "duration": 10,
    "start_time": "2021-07-19T13:57:49.693Z"
   },
   {
    "duration": 12,
    "start_time": "2021-07-19T13:57:49.704Z"
   },
   {
    "duration": 27,
    "start_time": "2021-07-19T13:57:49.718Z"
   },
   {
    "duration": 69,
    "start_time": "2021-07-19T13:57:49.746Z"
   },
   {
    "duration": 7,
    "start_time": "2021-07-19T13:57:49.817Z"
   },
   {
    "duration": 12,
    "start_time": "2021-07-19T13:57:49.825Z"
   },
   {
    "duration": 85,
    "start_time": "2021-07-19T13:57:49.839Z"
   },
   {
    "duration": 1010,
    "start_time": "2021-07-19T13:57:49.927Z"
   },
   {
    "duration": 186,
    "start_time": "2021-07-19T13:58:14.328Z"
   },
   {
    "duration": 15,
    "start_time": "2021-07-19T13:58:20.688Z"
   },
   {
    "duration": 20,
    "start_time": "2021-07-19T13:58:46.343Z"
   },
   {
    "duration": 11,
    "start_time": "2021-07-19T13:59:14.094Z"
   },
   {
    "duration": 20,
    "start_time": "2021-07-19T13:59:35.631Z"
   },
   {
    "duration": 183,
    "start_time": "2021-07-19T13:59:59.183Z"
   },
   {
    "duration": 188,
    "start_time": "2021-07-19T14:00:33.462Z"
   },
   {
    "duration": 21,
    "start_time": "2021-07-19T14:00:45.591Z"
   },
   {
    "duration": 182,
    "start_time": "2021-07-19T14:00:56.734Z"
   },
   {
    "duration": 10,
    "start_time": "2021-07-19T14:02:41.374Z"
   },
   {
    "duration": 9,
    "start_time": "2021-07-19T14:02:47.456Z"
   },
   {
    "duration": 191,
    "start_time": "2021-07-19T14:03:21.439Z"
   },
   {
    "duration": 188,
    "start_time": "2021-07-19T14:03:26.929Z"
   },
   {
    "duration": 212,
    "start_time": "2021-07-19T14:03:46.711Z"
   },
   {
    "duration": -50,
    "start_time": "2021-07-19T14:04:11.416Z"
   },
   {
    "duration": 208,
    "start_time": "2021-07-19T14:04:13.871Z"
   },
   {
    "duration": 689,
    "start_time": "2021-07-19T14:06:40.697Z"
   },
   {
    "duration": 682,
    "start_time": "2021-07-19T14:06:47.016Z"
   },
   {
    "duration": 942,
    "start_time": "2021-07-19T14:06:52.232Z"
   },
   {
    "duration": 983,
    "start_time": "2021-07-19T14:07:28.151Z"
   },
   {
    "duration": 1479,
    "start_time": "2021-07-19T14:08:21.144Z"
   },
   {
    "duration": 962,
    "start_time": "2021-07-19T14:09:41.327Z"
   },
   {
    "duration": 1005,
    "start_time": "2021-07-19T14:10:14.135Z"
   },
   {
    "duration": 1008,
    "start_time": "2021-07-19T14:10:39.592Z"
   },
   {
    "duration": 1026,
    "start_time": "2021-07-19T14:15:13.311Z"
   },
   {
    "duration": 1297,
    "start_time": "2021-07-19T14:15:45.936Z"
   },
   {
    "duration": 1531,
    "start_time": "2021-07-19T14:15:54.240Z"
   },
   {
    "duration": 4,
    "start_time": "2021-07-19T14:16:58.575Z"
   },
   {
    "duration": 3,
    "start_time": "2021-07-19T14:17:43.344Z"
   },
   {
    "duration": 3,
    "start_time": "2021-07-19T14:18:46.337Z"
   },
   {
    "duration": 18,
    "start_time": "2021-07-19T14:19:32.754Z"
   },
   {
    "duration": 189,
    "start_time": "2021-07-19T14:52:42.657Z"
   },
   {
    "duration": 53786,
    "start_time": "2021-07-19T14:52:52.170Z"
   },
   {
    "duration": 211,
    "start_time": "2021-07-19T14:55:01.138Z"
   },
   {
    "duration": 229,
    "start_time": "2021-07-19T14:55:18.396Z"
   },
   {
    "duration": 188,
    "start_time": "2021-07-19T14:55:20.198Z"
   },
   {
    "duration": 124316,
    "start_time": "2021-07-19T14:55:50.388Z"
   },
   {
    "duration": 194,
    "start_time": "2021-07-19T14:58:51.164Z"
   },
   {
    "duration": 193,
    "start_time": "2021-07-19T14:59:07.908Z"
   },
   {
    "duration": 1090,
    "start_time": "2021-07-19T14:59:13.537Z"
   },
   {
    "duration": 704,
    "start_time": "2021-07-19T14:59:14.629Z"
   },
   {
    "duration": 2,
    "start_time": "2021-07-19T14:59:15.335Z"
   },
   {
    "duration": 131,
    "start_time": "2021-07-19T14:59:15.339Z"
   },
   {
    "duration": 540,
    "start_time": "2021-07-19T14:59:15.472Z"
   },
   {
    "duration": 625,
    "start_time": "2021-07-19T14:59:16.014Z"
   },
   {
    "duration": 321,
    "start_time": "2021-07-19T14:59:16.641Z"
   },
   {
    "duration": 11,
    "start_time": "2021-07-19T14:59:16.964Z"
   },
   {
    "duration": 28254,
    "start_time": "2021-07-19T14:59:16.977Z"
   },
   {
    "duration": 240,
    "start_time": "2021-07-19T14:59:45.233Z"
   },
   {
    "duration": 34,
    "start_time": "2021-07-19T14:59:45.475Z"
   },
   {
    "duration": 41,
    "start_time": "2021-07-19T14:59:45.511Z"
   },
   {
    "duration": 579,
    "start_time": "2021-07-19T14:59:45.553Z"
   },
   {
    "duration": 65,
    "start_time": "2021-07-19T14:59:46.133Z"
   },
   {
    "duration": 87,
    "start_time": "2021-07-19T14:59:46.202Z"
   },
   {
    "duration": 12,
    "start_time": "2021-07-19T14:59:46.292Z"
   },
   {
    "duration": 15,
    "start_time": "2021-07-19T14:59:46.306Z"
   },
   {
    "duration": 27,
    "start_time": "2021-07-19T14:59:46.322Z"
   },
   {
    "duration": 70,
    "start_time": "2021-07-19T14:59:46.351Z"
   },
   {
    "duration": 8,
    "start_time": "2021-07-19T14:59:46.422Z"
   },
   {
    "duration": 12,
    "start_time": "2021-07-19T14:59:46.432Z"
   },
   {
    "duration": 100,
    "start_time": "2021-07-19T14:59:46.445Z"
   },
   {
    "duration": 1080,
    "start_time": "2021-07-19T14:59:46.548Z"
   },
   {
    "duration": 21,
    "start_time": "2021-07-19T14:59:47.629Z"
   },
   {
    "duration": 273,
    "start_time": "2021-07-19T14:59:47.651Z"
   },
   {
    "duration": 216,
    "start_time": "2021-07-19T14:59:47.925Z"
   },
   {
    "duration": 1335,
    "start_time": "2021-07-19T14:59:48.143Z"
   },
   {
    "duration": 18,
    "start_time": "2021-07-19T15:00:04.965Z"
   },
   {
    "duration": 11,
    "start_time": "2021-07-19T15:00:06.139Z"
   },
   {
    "duration": 694,
    "start_time": "2021-07-19T15:04:12.645Z"
   },
   {
    "duration": 14,
    "start_time": "2021-07-19T15:04:15.301Z"
   },
   {
    "duration": 326,
    "start_time": "2021-07-19T15:04:44.789Z"
   },
   {
    "duration": 29,
    "start_time": "2021-07-19T15:05:47.133Z"
   },
   {
    "duration": 243,
    "start_time": "2021-07-19T15:07:08.549Z"
   },
   {
    "duration": 695,
    "start_time": "2021-07-19T15:07:52.574Z"
   },
   {
    "duration": 769,
    "start_time": "2021-07-19T15:08:38.375Z"
   },
   {
    "duration": 764,
    "start_time": "2021-07-19T15:08:47.669Z"
   },
   {
    "duration": 800,
    "start_time": "2021-07-19T15:09:37.511Z"
   },
   {
    "duration": 3,
    "start_time": "2021-07-19T15:11:20.429Z"
   },
   {
    "duration": 251,
    "start_time": "2021-07-19T15:16:37.767Z"
   },
   {
    "duration": 4,
    "start_time": "2021-07-19T15:17:31.108Z"
   },
   {
    "duration": 650,
    "start_time": "2021-07-19T15:17:31.114Z"
   },
   {
    "duration": 2,
    "start_time": "2021-07-19T15:17:31.766Z"
   },
   {
    "duration": 140,
    "start_time": "2021-07-19T15:17:31.770Z"
   },
   {
    "duration": 260,
    "start_time": "2021-07-19T15:17:31.912Z"
   },
   {
    "duration": 537,
    "start_time": "2021-07-19T15:17:32.174Z"
   },
   {
    "duration": 286,
    "start_time": "2021-07-19T15:17:32.712Z"
   },
   {
    "duration": 13,
    "start_time": "2021-07-19T15:17:33.003Z"
   },
   {
    "duration": 27260,
    "start_time": "2021-07-19T15:17:33.018Z"
   },
   {
    "duration": 234,
    "start_time": "2021-07-19T15:18:00.280Z"
   },
   {
    "duration": 27,
    "start_time": "2021-07-19T15:18:00.515Z"
   },
   {
    "duration": 72,
    "start_time": "2021-07-19T15:18:00.544Z"
   },
   {
    "duration": 524,
    "start_time": "2021-07-19T15:18:00.618Z"
   },
   {
    "duration": 66,
    "start_time": "2021-07-19T15:18:01.143Z"
   },
   {
    "duration": 80,
    "start_time": "2021-07-19T15:18:01.210Z"
   },
   {
    "duration": 12,
    "start_time": "2021-07-19T15:18:01.292Z"
   },
   {
    "duration": 13,
    "start_time": "2021-07-19T15:18:01.305Z"
   },
   {
    "duration": 31,
    "start_time": "2021-07-19T15:18:01.320Z"
   },
   {
    "duration": 70,
    "start_time": "2021-07-19T15:18:01.352Z"
   },
   {
    "duration": 6,
    "start_time": "2021-07-19T15:18:01.424Z"
   },
   {
    "duration": 11,
    "start_time": "2021-07-19T15:18:01.432Z"
   },
   {
    "duration": 97,
    "start_time": "2021-07-19T15:18:01.445Z"
   },
   {
    "duration": 1092,
    "start_time": "2021-07-19T15:18:01.545Z"
   },
   {
    "duration": 21,
    "start_time": "2021-07-19T15:18:02.639Z"
   },
   {
    "duration": 202,
    "start_time": "2021-07-19T15:18:02.663Z"
   },
   {
    "duration": 234,
    "start_time": "2021-07-19T15:18:02.867Z"
   },
   {
    "duration": 1373,
    "start_time": "2021-07-19T15:18:03.103Z"
   },
   {
    "duration": 735,
    "start_time": "2021-07-19T15:18:08.454Z"
   },
   {
    "duration": 766,
    "start_time": "2021-07-19T15:18:51.054Z"
   },
   {
    "duration": 19,
    "start_time": "2021-07-19T15:19:03.383Z"
   },
   {
    "duration": 745,
    "start_time": "2021-07-19T15:19:06.710Z"
   },
   {
    "duration": 4,
    "start_time": "2021-07-19T15:24:36.645Z"
   },
   {
    "duration": 253,
    "start_time": "2021-07-19T15:25:02.870Z"
   },
   {
    "duration": 3,
    "start_time": "2021-07-19T15:25:12.710Z"
   },
   {
    "duration": 42,
    "start_time": "2021-07-19T15:29:11.615Z"
   },
   {
    "duration": 27242,
    "start_time": "2021-07-19T15:36:40.343Z"
   },
   {
    "duration": 690,
    "start_time": "2021-07-19T15:38:24.279Z"
   },
   {
    "duration": 3955,
    "start_time": "2021-07-19T15:38:26.166Z"
   },
   {
    "duration": 3872,
    "start_time": "2021-07-19T15:38:45.696Z"
   },
   {
    "duration": 24847,
    "start_time": "2021-07-19T15:38:56.446Z"
   },
   {
    "duration": 23640,
    "start_time": "2021-07-19T15:41:28.752Z"
   },
   {
    "duration": 24109,
    "start_time": "2021-07-19T15:42:30.679Z"
   },
   {
    "duration": 131,
    "start_time": "2021-07-19T15:48:56.721Z"
   },
   {
    "duration": 53558,
    "start_time": "2021-07-19T15:49:06.496Z"
   },
   {
    "duration": 114025,
    "start_time": "2021-07-19T15:52:07.128Z"
   },
   {
    "duration": 5,
    "start_time": "2021-07-19T15:54:51.424Z"
   },
   {
    "duration": 302077,
    "start_time": "2021-07-19T15:56:22.953Z"
   },
   {
    "duration": 134,
    "start_time": "2021-07-19T16:02:29.060Z"
   },
   {
    "duration": 24509,
    "start_time": "2021-07-19T16:02:36.785Z"
   },
   {
    "duration": 53027,
    "start_time": "2021-07-19T16:03:11.937Z"
   },
   {
    "duration": 6058,
    "start_time": "2021-07-19T16:04:04.966Z"
   },
   {
    "duration": 16908,
    "start_time": "2021-07-19T16:05:34.785Z"
   },
   {
    "duration": 295,
    "start_time": "2021-07-19T16:06:44.346Z"
   },
   {
    "duration": 4,
    "start_time": "2021-07-19T16:07:34.865Z"
   },
   {
    "duration": 106,
    "start_time": "2021-07-19T16:08:24.074Z"
   },
   {
    "duration": 5858,
    "start_time": "2021-07-19T16:08:32.378Z"
   },
   {
    "duration": 3770,
    "start_time": "2021-07-19T16:09:55.266Z"
   },
   {
    "duration": 20910,
    "start_time": "2021-07-19T16:10:01.475Z"
   },
   {
    "duration": 52381,
    "start_time": "2021-07-19T16:10:22.388Z"
   },
   {
    "duration": 184,
    "start_time": "2021-07-19T16:11:14.772Z"
   },
   {
    "duration": 4,
    "start_time": "2021-07-19T16:12:06.810Z"
   },
   {
    "duration": 47,
    "start_time": "2021-07-19T16:12:36.466Z"
   },
   {
    "duration": 652,
    "start_time": "2021-07-19T16:14:13.402Z"
   },
   {
    "duration": 14,
    "start_time": "2021-07-19T16:14:29.002Z"
   },
   {
    "duration": 907,
    "start_time": "2021-07-19T16:14:38.595Z"
   },
   {
    "duration": 940,
    "start_time": "2021-07-19T16:16:09.868Z"
   },
   {
    "duration": 968,
    "start_time": "2021-07-19T16:17:07.523Z"
   },
   {
    "duration": 3,
    "start_time": "2021-07-19T16:17:30.642Z"
   },
   {
    "duration": 928,
    "start_time": "2021-07-19T16:17:39.782Z"
   },
   {
    "duration": 929,
    "start_time": "2021-07-19T16:17:55.484Z"
   },
   {
    "duration": 24299,
    "start_time": "2021-07-19T16:18:08.386Z"
   },
   {
    "duration": 52607,
    "start_time": "2021-07-19T16:18:43.082Z"
   },
   {
    "duration": 192,
    "start_time": "2021-07-19T16:19:52.698Z"
   },
   {
    "duration": 5555,
    "start_time": "2021-07-19T16:19:57.715Z"
   },
   {
    "duration": 924,
    "start_time": "2021-07-19T16:22:11.220Z"
   },
   {
    "duration": 16837,
    "start_time": "2021-07-19T16:22:23.563Z"
   },
   {
    "duration": 29276,
    "start_time": "2021-07-19T16:26:54.543Z"
   },
   {
    "duration": 16,
    "start_time": "2021-07-19T16:34:36.372Z"
   },
   {
    "duration": 160,
    "start_time": "2021-07-19T16:36:09.181Z"
   },
   {
    "duration": 1125,
    "start_time": "2021-07-19T16:36:18.004Z"
   },
   {
    "duration": 668,
    "start_time": "2021-07-19T16:36:19.131Z"
   },
   {
    "duration": 2,
    "start_time": "2021-07-19T16:36:19.800Z"
   },
   {
    "duration": 125,
    "start_time": "2021-07-19T16:36:19.804Z"
   },
   {
    "duration": 533,
    "start_time": "2021-07-19T16:36:19.931Z"
   },
   {
    "duration": 615,
    "start_time": "2021-07-19T16:36:20.465Z"
   },
   {
    "duration": 327,
    "start_time": "2021-07-19T16:36:21.085Z"
   },
   {
    "duration": 11,
    "start_time": "2021-07-19T16:36:21.414Z"
   },
   {
    "duration": 25826,
    "start_time": "2021-07-19T16:36:21.427Z"
   },
   {
    "duration": 251,
    "start_time": "2021-07-19T16:36:47.255Z"
   },
   {
    "duration": 24,
    "start_time": "2021-07-19T16:36:47.508Z"
   },
   {
    "duration": 53,
    "start_time": "2021-07-19T16:36:47.534Z"
   },
   {
    "duration": 573,
    "start_time": "2021-07-19T16:36:47.589Z"
   },
   {
    "duration": 59,
    "start_time": "2021-07-19T16:36:48.164Z"
   },
   {
    "duration": 77,
    "start_time": "2021-07-19T16:36:48.225Z"
   },
   {
    "duration": 10,
    "start_time": "2021-07-19T16:36:48.303Z"
   },
   {
    "duration": 12,
    "start_time": "2021-07-19T16:36:48.315Z"
   },
   {
    "duration": 27,
    "start_time": "2021-07-19T16:36:48.329Z"
   },
   {
    "duration": 58,
    "start_time": "2021-07-19T16:36:48.358Z"
   },
   {
    "duration": 7,
    "start_time": "2021-07-19T16:36:48.417Z"
   },
   {
    "duration": 11,
    "start_time": "2021-07-19T16:36:48.425Z"
   },
   {
    "duration": 93,
    "start_time": "2021-07-19T16:36:48.437Z"
   },
   {
    "duration": 1081,
    "start_time": "2021-07-19T16:36:48.533Z"
   },
   {
    "duration": 20,
    "start_time": "2021-07-19T16:36:49.616Z"
   },
   {
    "duration": 192,
    "start_time": "2021-07-19T16:36:49.638Z"
   },
   {
    "duration": 223,
    "start_time": "2021-07-19T16:36:49.832Z"
   },
   {
    "duration": 1308,
    "start_time": "2021-07-19T16:36:50.057Z"
   },
   {
    "duration": 28,
    "start_time": "2021-07-19T16:36:51.366Z"
   },
   {
    "duration": 22710,
    "start_time": "2021-07-19T16:37:08.380Z"
   },
   {
    "duration": 23026,
    "start_time": "2021-07-19T16:37:41.860Z"
   },
   {
    "duration": 4,
    "start_time": "2021-07-19T16:38:47.358Z"
   },
   {
    "duration": 245,
    "start_time": "2021-07-19T16:40:58.788Z"
   },
   {
    "duration": 203,
    "start_time": "2021-07-19T16:46:18.300Z"
   },
   {
    "duration": 10,
    "start_time": "2021-07-19T16:46:22.155Z"
   },
   {
    "duration": 527,
    "start_time": "2021-07-19T16:47:17.716Z"
   },
   {
    "duration": 524,
    "start_time": "2021-07-19T16:48:09.060Z"
   },
   {
    "duration": 414,
    "start_time": "2021-07-19T16:49:38.789Z"
   },
   {
    "duration": 293,
    "start_time": "2021-07-19T16:50:02.017Z"
   },
   {
    "duration": 286,
    "start_time": "2021-07-19T16:50:13.692Z"
   },
   {
    "duration": 271,
    "start_time": "2021-07-19T16:50:41.516Z"
   },
   {
    "duration": 293,
    "start_time": "2021-07-19T16:50:46.348Z"
   },
   {
    "duration": 13,
    "start_time": "2021-07-19T16:51:05.773Z"
   },
   {
    "duration": 371,
    "start_time": "2021-07-19T16:52:24.990Z"
   },
   {
    "duration": 375,
    "start_time": "2021-07-19T16:52:33.844Z"
   },
   {
    "duration": 361,
    "start_time": "2021-07-19T16:52:45.525Z"
   },
   {
    "duration": 17,
    "start_time": "2021-07-19T16:52:54.413Z"
   },
   {
    "duration": 406,
    "start_time": "2021-07-19T16:53:38.669Z"
   },
   {
    "duration": 395,
    "start_time": "2021-07-19T16:53:46.380Z"
   },
   {
    "duration": 393,
    "start_time": "2021-07-19T16:53:54.925Z"
   },
   {
    "duration": 513,
    "start_time": "2021-07-19T16:54:54.221Z"
   },
   {
    "duration": 4,
    "start_time": "2021-07-19T16:55:46.661Z"
   },
   {
    "duration": 462,
    "start_time": "2021-07-19T16:55:57.293Z"
   },
   {
    "duration": 4,
    "start_time": "2021-07-19T16:55:57.916Z"
   },
   {
    "duration": 4,
    "start_time": "2021-07-19T16:56:04.572Z"
   },
   {
    "duration": 67,
    "start_time": "2021-07-19T16:57:23.382Z"
   },
   {
    "duration": 6,
    "start_time": "2021-07-19T16:57:29.893Z"
   },
   {
    "duration": 531,
    "start_time": "2021-07-19T16:58:14.437Z"
   },
   {
    "duration": 515,
    "start_time": "2021-07-19T16:58:29.813Z"
   },
   {
    "duration": 21,
    "start_time": "2021-07-19T16:58:35.189Z"
   },
   {
    "duration": 317413,
    "start_time": "2021-07-19T17:02:47.996Z"
   },
   {
    "duration": 31928,
    "start_time": "2021-07-19T17:08:21.367Z"
   },
   {
    "duration": 660,
    "start_time": "2021-07-19T17:10:23.375Z"
   },
   {
    "duration": 530,
    "start_time": "2021-07-19T17:11:24.790Z"
   },
   {
    "duration": 9,
    "start_time": "2021-07-19T17:11:37.952Z"
   },
   {
    "duration": 464,
    "start_time": "2021-07-19T17:19:57.286Z"
   },
   {
    "duration": 59,
    "start_time": "2021-07-19T17:20:07.390Z"
   },
   {
    "duration": 11,
    "start_time": "2021-07-19T17:20:13.086Z"
   },
   {
    "duration": 580,
    "start_time": "2021-07-19T17:27:24.412Z"
   },
   {
    "duration": 442,
    "start_time": "2021-07-19T17:27:36.447Z"
   },
   {
    "duration": 13,
    "start_time": "2021-07-19T17:27:38.982Z"
   },
   {
    "duration": 4,
    "start_time": "2021-07-19T17:27:46.407Z"
   },
   {
    "duration": 4,
    "start_time": "2021-07-19T17:27:57.022Z"
   },
   {
    "duration": 418,
    "start_time": "2021-07-19T17:29:01.343Z"
   },
   {
    "duration": 4,
    "start_time": "2021-07-19T17:29:02.734Z"
   },
   {
    "duration": 3,
    "start_time": "2021-07-19T17:29:03.919Z"
   },
   {
    "duration": 20,
    "start_time": "2021-07-19T17:29:15.974Z"
   },
   {
    "duration": 1278,
    "start_time": "2021-07-19T17:29:50.696Z"
   },
   {
    "duration": 654,
    "start_time": "2021-07-19T17:29:51.975Z"
   },
   {
    "duration": 2,
    "start_time": "2021-07-19T17:29:52.631Z"
   },
   {
    "duration": 132,
    "start_time": "2021-07-19T17:29:52.635Z"
   },
   {
    "duration": 549,
    "start_time": "2021-07-19T17:29:52.769Z"
   },
   {
    "duration": 616,
    "start_time": "2021-07-19T17:29:53.320Z"
   },
   {
    "duration": 337,
    "start_time": "2021-07-19T17:29:53.938Z"
   },
   {
    "duration": 17,
    "start_time": "2021-07-19T17:29:54.276Z"
   },
   {
    "duration": 26772,
    "start_time": "2021-07-19T17:29:54.296Z"
   },
   {
    "duration": 256,
    "start_time": "2021-07-19T17:30:21.070Z"
   },
   {
    "duration": 27,
    "start_time": "2021-07-19T17:30:21.327Z"
   },
   {
    "duration": 49,
    "start_time": "2021-07-19T17:30:21.355Z"
   },
   {
    "duration": 622,
    "start_time": "2021-07-19T17:30:21.405Z"
   },
   {
    "duration": 63,
    "start_time": "2021-07-19T17:30:22.029Z"
   },
   {
    "duration": 74,
    "start_time": "2021-07-19T17:30:22.093Z"
   },
   {
    "duration": 23,
    "start_time": "2021-07-19T17:30:22.169Z"
   },
   {
    "duration": 13,
    "start_time": "2021-07-19T17:30:22.193Z"
   },
   {
    "duration": 29,
    "start_time": "2021-07-19T17:30:22.208Z"
   },
   {
    "duration": 62,
    "start_time": "2021-07-19T17:30:22.238Z"
   },
   {
    "duration": 9,
    "start_time": "2021-07-19T17:30:22.302Z"
   },
   {
    "duration": 15,
    "start_time": "2021-07-19T17:30:22.313Z"
   },
   {
    "duration": 97,
    "start_time": "2021-07-19T17:30:22.329Z"
   },
   {
    "duration": 1140,
    "start_time": "2021-07-19T17:30:22.428Z"
   },
   {
    "duration": 24,
    "start_time": "2021-07-19T17:30:23.570Z"
   },
   {
    "duration": 188,
    "start_time": "2021-07-19T17:30:23.596Z"
   },
   {
    "duration": 225,
    "start_time": "2021-07-19T17:30:23.786Z"
   },
   {
    "duration": 1378,
    "start_time": "2021-07-19T17:30:24.015Z"
   },
   {
    "duration": 19,
    "start_time": "2021-07-19T17:30:25.394Z"
   },
   {
    "duration": 22479,
    "start_time": "2021-07-19T17:30:25.415Z"
   },
   {
    "duration": 506,
    "start_time": "2021-07-19T17:30:47.985Z"
   },
   {
    "duration": 4,
    "start_time": "2021-07-19T17:30:48.492Z"
   },
   {
    "duration": 5,
    "start_time": "2021-07-19T17:30:48.498Z"
   },
   {
    "duration": 29,
    "start_time": "2021-07-19T17:30:48.505Z"
   },
   {
    "duration": 69860,
    "start_time": "2021-07-19T17:30:48.536Z"
   },
   {
    "duration": 3,
    "start_time": "2021-07-19T17:31:58.398Z"
   },
   {
    "duration": 8557,
    "start_time": "2021-07-19T17:31:58.403Z"
   },
   {
    "duration": 12,
    "start_time": "2021-07-19T17:32:20.063Z"
   },
   {
    "duration": 433,
    "start_time": "2021-07-19T17:36:25.089Z"
   },
   {
    "duration": 4,
    "start_time": "2021-07-19T17:36:25.656Z"
   },
   {
    "duration": 4,
    "start_time": "2021-07-19T17:36:26.478Z"
   },
   {
    "duration": 192,
    "start_time": "2021-07-19T17:36:34.927Z"
   },
   {
    "duration": 8,
    "start_time": "2021-07-19T17:36:42.304Z"
   },
   {
    "duration": 12,
    "start_time": "2021-07-19T17:37:05.495Z"
   },
   {
    "duration": 15,
    "start_time": "2021-07-19T17:37:08.423Z"
   },
   {
    "duration": 423,
    "start_time": "2021-07-19T17:37:35.119Z"
   },
   {
    "duration": 206,
    "start_time": "2021-07-19T17:37:57.401Z"
   },
   {
    "duration": 13,
    "start_time": "2021-07-19T17:38:16.824Z"
   },
   {
    "duration": 24,
    "start_time": "2021-07-19T17:39:55.600Z"
   },
   {
    "duration": 13,
    "start_time": "2021-07-19T17:40:03.520Z"
   },
   {
    "duration": 15,
    "start_time": "2021-07-19T17:40:23.673Z"
   },
   {
    "duration": 21,
    "start_time": "2021-07-19T17:40:28.191Z"
   },
   {
    "duration": 12,
    "start_time": "2021-07-19T17:40:46.671Z"
   },
   {
    "duration": 10,
    "start_time": "2021-07-19T17:40:52.248Z"
   },
   {
    "duration": 244,
    "start_time": "2021-07-19T17:42:45.088Z"
   },
   {
    "duration": 245,
    "start_time": "2021-07-19T17:43:41.719Z"
   },
   {
    "duration": 4,
    "start_time": "2021-07-19T17:43:45.567Z"
   },
   {
    "duration": 4,
    "start_time": "2021-07-19T17:43:46.231Z"
   },
   {
    "duration": 27,
    "start_time": "2021-07-19T17:43:55.233Z"
   },
   {
    "duration": 319,
    "start_time": "2021-07-19T17:44:23.968Z"
   },
   {
    "duration": 446,
    "start_time": "2021-07-19T17:44:40.170Z"
   },
   {
    "duration": 86502,
    "start_time": "2021-07-19T17:44:46.584Z"
   },
   {
    "duration": 26815,
    "start_time": "2021-07-19T17:47:07.779Z"
   },
   {
    "duration": 40486,
    "start_time": "2021-07-19T17:47:46.272Z"
   },
   {
    "duration": 92059,
    "start_time": "2021-07-19T17:49:39.176Z"
   },
   {
    "duration": 89262,
    "start_time": "2021-07-19T17:51:45.928Z"
   },
   {
    "duration": 64320,
    "start_time": "2021-07-19T17:55:08.609Z"
   },
   {
    "duration": 221643,
    "start_time": "2021-07-19T17:56:55.297Z"
   },
   {
    "duration": 153872,
    "start_time": "2021-07-19T18:01:05.921Z"
   },
   {
    "duration": 4,
    "start_time": "2021-07-19T18:03:39.795Z"
   },
   {
    "duration": 135389,
    "start_time": "2021-07-19T18:04:19.616Z"
   },
   {
    "duration": 279,
    "start_time": "2021-07-19T18:07:06.713Z"
   },
   {
    "duration": 68,
    "start_time": "2021-07-19T18:08:20.897Z"
   },
   {
    "duration": 59,
    "start_time": "2021-07-19T18:08:26.370Z"
   },
   {
    "duration": 4,
    "start_time": "2021-07-19T18:08:29.522Z"
   },
   {
    "duration": 282,
    "start_time": "2021-07-19T18:12:31.210Z"
   },
   {
    "duration": 74,
    "start_time": "2021-07-19T18:12:58.825Z"
   },
   {
    "duration": 10,
    "start_time": "2021-07-19T18:13:07.400Z"
   },
   {
    "duration": 4,
    "start_time": "2021-07-19T18:13:37.185Z"
   },
   {
    "duration": 276,
    "start_time": "2021-07-19T18:15:37.627Z"
   },
   {
    "duration": 136013,
    "start_time": "2021-07-19T18:16:29.090Z"
   },
   {
    "duration": 7367,
    "start_time": "2021-07-19T18:19:30.221Z"
   },
   {
    "duration": 1243,
    "start_time": "2021-07-20T08:11:26.480Z"
   },
   {
    "duration": 994,
    "start_time": "2021-07-20T08:11:27.726Z"
   },
   {
    "duration": 2,
    "start_time": "2021-07-20T08:11:28.723Z"
   },
   {
    "duration": 131,
    "start_time": "2021-07-20T08:11:28.727Z"
   },
   {
    "duration": 678,
    "start_time": "2021-07-20T08:11:28.860Z"
   },
   {
    "duration": 619,
    "start_time": "2021-07-20T08:11:29.540Z"
   },
   {
    "duration": 333,
    "start_time": "2021-07-20T08:11:30.160Z"
   },
   {
    "duration": 15,
    "start_time": "2021-07-20T08:11:30.496Z"
   },
   {
    "duration": 27849,
    "start_time": "2021-07-20T08:11:30.514Z"
   },
   {
    "duration": 330,
    "start_time": "2021-07-20T08:11:58.365Z"
   },
   {
    "duration": 33,
    "start_time": "2021-07-20T08:11:58.697Z"
   },
   {
    "duration": 60,
    "start_time": "2021-07-20T08:11:58.731Z"
   },
   {
    "duration": 664,
    "start_time": "2021-07-20T08:11:58.793Z"
   },
   {
    "duration": 73,
    "start_time": "2021-07-20T08:11:59.459Z"
   },
   {
    "duration": 99,
    "start_time": "2021-07-20T08:11:59.534Z"
   },
   {
    "duration": 13,
    "start_time": "2021-07-20T08:11:59.635Z"
   },
   {
    "duration": 17,
    "start_time": "2021-07-20T08:11:59.650Z"
   },
   {
    "duration": 62,
    "start_time": "2021-07-20T08:11:59.669Z"
   },
   {
    "duration": 61,
    "start_time": "2021-07-20T08:11:59.733Z"
   },
   {
    "duration": 10,
    "start_time": "2021-07-20T08:11:59.796Z"
   },
   {
    "duration": 18,
    "start_time": "2021-07-20T08:11:59.808Z"
   },
   {
    "duration": 110,
    "start_time": "2021-07-20T08:11:59.828Z"
   },
   {
    "duration": 1615,
    "start_time": "2021-07-20T08:11:59.941Z"
   },
   {
    "duration": 35,
    "start_time": "2021-07-20T08:12:01.558Z"
   },
   {
    "duration": 258,
    "start_time": "2021-07-20T08:12:01.595Z"
   },
   {
    "duration": 353,
    "start_time": "2021-07-20T08:12:01.856Z"
   },
   {
    "duration": 1313,
    "start_time": "2021-07-20T08:12:02.212Z"
   },
   {
    "duration": 19,
    "start_time": "2021-07-20T08:14:12.591Z"
   },
   {
    "duration": 482,
    "start_time": "2021-07-20T08:14:30.279Z"
   },
   {
    "duration": 2,
    "start_time": "2021-07-20T08:15:07.279Z"
   },
   {
    "duration": 125988,
    "start_time": "2021-07-20T08:15:12.631Z"
   },
   {
    "duration": 3,
    "start_time": "2021-07-20T08:22:51.095Z"
   },
   {
    "duration": 8604,
    "start_time": "2021-07-20T08:24:01.504Z"
   },
   {
    "duration": 18786,
    "start_time": "2021-07-20T08:25:39.408Z"
   },
   {
    "duration": 23513,
    "start_time": "2021-07-20T08:26:56.287Z"
   },
   {
    "duration": 22437,
    "start_time": "2021-07-20T08:28:17.359Z"
   },
   {
    "duration": 90001,
    "start_time": "2021-07-20T08:29:48.001Z"
   },
   {
    "duration": 65259,
    "start_time": "2021-07-20T08:31:18.004Z"
   },
   {
    "duration": 123050,
    "start_time": "2021-07-20T08:32:23.265Z"
   },
   {
    "duration": 10170,
    "start_time": "2021-07-20T08:35:21.034Z"
   },
   {
    "duration": 18573,
    "start_time": "2021-07-20T08:36:18.721Z"
   },
   {
    "duration": 37945,
    "start_time": "2021-07-20T08:37:14.402Z"
   },
   {
    "duration": 52874,
    "start_time": "2021-07-20T08:38:11.520Z"
   },
   {
    "duration": 13724,
    "start_time": "2021-07-20T08:39:14.879Z"
   },
   {
    "duration": 255,
    "start_time": "2021-07-20T08:42:23.696Z"
   },
   {
    "duration": 187923,
    "start_time": "2021-07-20T08:42:54.160Z"
   },
   {
    "duration": 18,
    "start_time": "2021-07-20T08:46:02.085Z"
   },
   {
    "duration": 9909,
    "start_time": "2021-07-20T08:50:48.610Z"
   },
   {
    "duration": 2573,
    "start_time": "2021-07-20T08:52:40.201Z"
   },
   {
    "duration": 2528,
    "start_time": "2021-07-20T08:53:09.249Z"
   },
   {
    "duration": 5573,
    "start_time": "2021-07-20T08:54:21.081Z"
   },
   {
    "duration": 36911,
    "start_time": "2021-07-20T08:54:38.120Z"
   },
   {
    "duration": 3850,
    "start_time": "2021-07-20T08:55:24.865Z"
   },
   {
    "duration": 2572,
    "start_time": "2021-07-20T08:55:37.160Z"
   },
   {
    "duration": 5,
    "start_time": "2021-07-20T08:55:39.735Z"
   },
   {
    "duration": 50649,
    "start_time": "2021-07-20T08:58:22.673Z"
   },
   {
    "duration": 6986,
    "start_time": "2021-07-20T09:00:54.448Z"
   },
   {
    "duration": 10242,
    "start_time": "2021-07-20T09:01:40.944Z"
   },
   {
    "duration": 132906,
    "start_time": "2021-07-20T09:04:53.424Z"
   },
   {
    "duration": 120681,
    "start_time": "2021-07-20T09:07:06.332Z"
   },
   {
    "duration": 196812,
    "start_time": "2021-07-20T10:16:32.107Z"
   },
   {
    "duration": 82,
    "start_time": "2021-07-20T10:20:44.636Z"
   },
   {
    "duration": 21658,
    "start_time": "2021-07-20T10:20:51.164Z"
   },
   {
    "duration": 4,
    "start_time": "2021-07-20T10:27:50.467Z"
   },
   {
    "duration": 3,
    "start_time": "2021-07-20T10:28:44.473Z"
   },
   {
    "duration": 1243,
    "start_time": "2021-07-20T10:30:21.416Z"
   },
   {
    "duration": 948,
    "start_time": "2021-07-20T10:30:22.661Z"
   },
   {
    "duration": 1,
    "start_time": "2021-07-20T10:30:23.612Z"
   },
   {
    "duration": 120,
    "start_time": "2021-07-20T10:30:23.615Z"
   },
   {
    "duration": 660,
    "start_time": "2021-07-20T10:30:23.736Z"
   },
   {
    "duration": 588,
    "start_time": "2021-07-20T10:30:24.398Z"
   },
   {
    "duration": 307,
    "start_time": "2021-07-20T10:30:24.988Z"
   },
   {
    "duration": 11,
    "start_time": "2021-07-20T10:30:25.296Z"
   },
   {
    "duration": 25764,
    "start_time": "2021-07-20T10:30:25.309Z"
   },
   {
    "duration": 258,
    "start_time": "2021-07-20T10:30:51.075Z"
   },
   {
    "duration": 26,
    "start_time": "2021-07-20T10:30:51.335Z"
   },
   {
    "duration": 46,
    "start_time": "2021-07-20T10:30:51.363Z"
   },
   {
    "duration": 569,
    "start_time": "2021-07-20T10:30:51.411Z"
   },
   {
    "duration": 53,
    "start_time": "2021-07-20T10:30:51.982Z"
   },
   {
    "duration": 90,
    "start_time": "2021-07-20T10:30:52.037Z"
   },
   {
    "duration": 14,
    "start_time": "2021-07-20T10:30:52.129Z"
   },
   {
    "duration": 15,
    "start_time": "2021-07-20T10:30:52.145Z"
   },
   {
    "duration": 53,
    "start_time": "2021-07-20T10:30:52.162Z"
   },
   {
    "duration": 40,
    "start_time": "2021-07-20T10:30:52.217Z"
   },
   {
    "duration": 8,
    "start_time": "2021-07-20T10:30:52.259Z"
   },
   {
    "duration": 14,
    "start_time": "2021-07-20T10:30:52.292Z"
   },
   {
    "duration": 91,
    "start_time": "2021-07-20T10:30:52.308Z"
   },
   {
    "duration": 1144,
    "start_time": "2021-07-20T10:30:52.401Z"
   },
   {
    "duration": 24,
    "start_time": "2021-07-20T10:30:53.547Z"
   },
   {
    "duration": 189,
    "start_time": "2021-07-20T10:30:53.573Z"
   },
   {
    "duration": 224,
    "start_time": "2021-07-20T10:30:53.764Z"
   },
   {
    "duration": 1250,
    "start_time": "2021-07-20T10:30:53.991Z"
   },
   {
    "duration": 21,
    "start_time": "2021-07-20T10:30:55.243Z"
   },
   {
    "duration": 3,
    "start_time": "2021-07-20T10:30:55.266Z"
   },
   {
    "duration": 28624,
    "start_time": "2021-07-20T10:30:55.270Z"
   },
   {
    "duration": 329072,
    "start_time": "2021-07-20T10:31:36.164Z"
   },
   {
    "duration": 22204,
    "start_time": "2021-07-20T10:37:35.644Z"
   },
   {
    "duration": 85394,
    "start_time": "2021-07-20T10:40:39.316Z"
   },
   {
    "duration": 2,
    "start_time": "2021-07-20T10:46:58.788Z"
   },
   {
    "duration": 65735,
    "start_time": "2021-07-20T10:49:26.371Z"
   },
   {
    "duration": 307,
    "start_time": "2021-07-20T10:53:50.267Z"
   },
   {
    "duration": 58420,
    "start_time": "2021-07-20T10:56:27.399Z"
   },
   {
    "duration": 9123,
    "start_time": "2021-07-20T10:57:25.821Z"
   },
   {
    "duration": 1303,
    "start_time": "2021-07-20T10:59:35.509Z"
   },
   {
    "duration": 2114,
    "start_time": "2021-07-20T10:59:42.391Z"
   },
   {
    "duration": 2880,
    "start_time": "2021-07-20T10:59:55.212Z"
   },
   {
    "duration": 3099,
    "start_time": "2021-07-20T11:00:05.636Z"
   },
   {
    "duration": 3307,
    "start_time": "2021-07-20T11:00:21.380Z"
   },
   {
    "duration": 23112,
    "start_time": "2021-07-20T11:00:56.464Z"
   },
   {
    "duration": 28740,
    "start_time": "2021-07-20T11:01:57.052Z"
   },
   {
    "duration": 404,
    "start_time": "2021-07-20T11:02:25.794Z"
   },
   {
    "duration": 169085,
    "start_time": "2021-07-20T11:02:26.200Z"
   },
   {
    "duration": -99,
    "start_time": "2021-07-20T11:05:15.386Z"
   },
   {
    "duration": -105,
    "start_time": "2021-07-20T11:05:15.393Z"
   },
   {
    "duration": -109,
    "start_time": "2021-07-20T11:05:15.398Z"
   },
   {
    "duration": -112,
    "start_time": "2021-07-20T11:05:15.402Z"
   },
   {
    "duration": -115,
    "start_time": "2021-07-20T11:05:15.407Z"
   },
   {
    "duration": -119,
    "start_time": "2021-07-20T11:05:15.412Z"
   },
   {
    "duration": 178880,
    "start_time": "2021-07-20T11:05:27.918Z"
   },
   {
    "duration": 21979,
    "start_time": "2021-07-20T11:08:26.800Z"
   },
   {
    "duration": 20067,
    "start_time": "2021-07-20T11:08:48.781Z"
   },
   {
    "duration": 3209,
    "start_time": "2021-07-20T11:09:08.850Z"
   },
   {
    "duration": 8718,
    "start_time": "2021-07-20T11:09:12.060Z"
   },
   {
    "duration": 122125,
    "start_time": "2021-07-20T11:09:20.780Z"
   },
   {
    "duration": 83398,
    "start_time": "2021-07-20T11:11:22.907Z"
   },
   {
    "duration": 25213,
    "start_time": "2021-07-20T11:15:50.582Z"
   },
   {
    "duration": 94992,
    "start_time": "2021-07-20T11:16:16.966Z"
   },
   {
    "duration": 52198,
    "start_time": "2021-07-20T11:17:53.518Z"
   },
   {
    "duration": 32349,
    "start_time": "2021-07-20T11:19:33.504Z"
   },
   {
    "duration": 221064,
    "start_time": "2021-07-20T11:23:23.637Z"
   },
   {
    "duration": -75,
    "start_time": "2021-07-20T11:27:04.778Z"
   },
   {
    "duration": 15958,
    "start_time": "2021-07-20T11:27:27.750Z"
   },
   {
    "duration": 103461,
    "start_time": "2021-07-20T11:27:45.039Z"
   },
   {
    "duration": 31334,
    "start_time": "2021-07-20T11:29:41.574Z"
   },
   {
    "duration": 4,
    "start_time": "2021-07-20T11:31:28.846Z"
   },
   {
    "duration": 8,
    "start_time": "2021-07-20T11:31:35.693Z"
   },
   {
    "duration": 9,
    "start_time": "2021-07-20T11:32:18.287Z"
   },
   {
    "duration": 121,
    "start_time": "2021-07-20T11:33:01.159Z"
   },
   {
    "duration": 221,
    "start_time": "2021-07-20T11:33:21.278Z"
   },
   {
    "duration": 294,
    "start_time": "2021-07-20T11:34:21.535Z"
   },
   {
    "duration": 309,
    "start_time": "2021-07-20T11:34:52.686Z"
   },
   {
    "duration": 322,
    "start_time": "2021-07-20T11:36:50.071Z"
   },
   {
    "duration": 649,
    "start_time": "2021-07-20T11:36:55.397Z"
   },
   {
    "duration": 354,
    "start_time": "2021-07-20T11:37:04.751Z"
   },
   {
    "duration": 305,
    "start_time": "2021-07-20T11:37:26.415Z"
   },
   {
    "duration": 146,
    "start_time": "2021-07-20T11:38:56.054Z"
   },
   {
    "duration": 231,
    "start_time": "2021-07-20T11:39:12.302Z"
   },
   {
    "duration": 294,
    "start_time": "2021-07-20T11:39:26.473Z"
   },
   {
    "duration": 294,
    "start_time": "2021-07-20T11:39:36.638Z"
   },
   {
    "duration": 276,
    "start_time": "2021-07-20T11:39:49.471Z"
   },
   {
    "duration": 443,
    "start_time": "2021-07-20T11:40:06.439Z"
   },
   {
    "duration": 452,
    "start_time": "2021-07-20T11:41:26.918Z"
   },
   {
    "duration": 461,
    "start_time": "2021-07-20T11:41:46.015Z"
   },
   {
    "duration": 788,
    "start_time": "2021-07-20T11:41:55.190Z"
   },
   {
    "duration": 667,
    "start_time": "2021-07-20T11:42:44.111Z"
   },
   {
    "duration": 638,
    "start_time": "2021-07-20T11:43:07.022Z"
   },
   {
    "duration": 656,
    "start_time": "2021-07-20T11:43:11.489Z"
   },
   {
    "duration": 57,
    "start_time": "2021-07-20T11:44:23.622Z"
   },
   {
    "duration": 304,
    "start_time": "2021-07-20T11:58:41.775Z"
   },
   {
    "duration": 237,
    "start_time": "2021-07-20T11:58:44.463Z"
   },
   {
    "duration": 10,
    "start_time": "2021-07-20T11:58:50.199Z"
   },
   {
    "duration": 213,
    "start_time": "2021-07-20T11:58:55.113Z"
   },
   {
    "duration": 4,
    "start_time": "2021-07-20T11:59:13.423Z"
   },
   {
    "duration": 843,
    "start_time": "2021-07-20T11:59:14.183Z"
   },
   {
    "duration": 105,
    "start_time": "2021-07-20T11:59:16.599Z"
   },
   {
    "duration": 215,
    "start_time": "2021-07-20T11:59:18.026Z"
   },
   {
    "duration": 461,
    "start_time": "2021-07-20T11:59:20.446Z"
   },
   {
    "duration": 257,
    "start_time": "2021-07-20T11:59:22.105Z"
   },
   {
    "duration": 12,
    "start_time": "2021-07-20T11:59:27.543Z"
   },
   {
    "duration": 24790,
    "start_time": "2021-07-20T11:59:29.902Z"
   },
   {
    "duration": 309,
    "start_time": "2021-07-20T11:59:54.695Z"
   },
   {
    "duration": 708,
    "start_time": "2021-07-20T11:59:55.007Z"
   },
   {
    "duration": 101,
    "start_time": "2021-07-20T12:02:41.679Z"
   },
   {
    "duration": 85,
    "start_time": "2021-07-20T12:10:31.720Z"
   },
   {
    "duration": 1723,
    "start_time": "2021-07-20T12:13:00.120Z"
   },
   {
    "duration": 23,
    "start_time": "2021-07-20T12:13:29.096Z"
   },
   {
    "duration": 165,
    "start_time": "2021-07-20T12:14:54.368Z"
   },
   {
    "duration": 194,
    "start_time": "2021-07-20T12:18:36.203Z"
   },
   {
    "duration": 1338,
    "start_time": "2021-07-20T12:19:21.232Z"
   },
   {
    "duration": 20,
    "start_time": "2021-07-20T12:28:19.272Z"
   },
   {
    "duration": 3,
    "start_time": "2021-07-20T12:28:23.928Z"
   },
   {
    "duration": 4,
    "start_time": "2021-07-20T12:33:29.601Z"
   },
   {
    "duration": 582,
    "start_time": "2021-07-20T12:33:30.361Z"
   },
   {
    "duration": 106,
    "start_time": "2021-07-20T12:33:31.800Z"
   },
   {
    "duration": 904,
    "start_time": "2021-07-20T12:50:24.489Z"
   },
   {
    "duration": 1206,
    "start_time": "2021-07-20T13:06:28.892Z"
   },
   {
    "duration": 624,
    "start_time": "2021-07-20T13:06:30.100Z"
   },
   {
    "duration": 114,
    "start_time": "2021-07-20T13:06:30.726Z"
   },
   {
    "duration": 651,
    "start_time": "2021-07-20T13:06:30.842Z"
   },
   {
    "duration": 579,
    "start_time": "2021-07-20T13:06:31.495Z"
   },
   {
    "duration": 301,
    "start_time": "2021-07-20T13:06:32.076Z"
   },
   {
    "duration": 19,
    "start_time": "2021-07-20T13:06:32.379Z"
   },
   {
    "duration": 41205,
    "start_time": "2021-07-20T13:06:32.401Z"
   },
   {
    "duration": 373,
    "start_time": "2021-07-20T13:07:13.609Z"
   },
   {
    "duration": 522,
    "start_time": "2021-07-20T13:07:13.984Z"
   },
   {
    "duration": 51,
    "start_time": "2021-07-20T13:07:14.508Z"
   },
   {
    "duration": 118,
    "start_time": "2021-07-20T13:07:14.561Z"
   },
   {
    "duration": 78,
    "start_time": "2021-07-20T13:07:14.681Z"
   },
   {
    "duration": 954,
    "start_time": "2021-07-20T13:07:14.761Z"
   },
   {
    "duration": 20,
    "start_time": "2021-07-20T13:07:15.717Z"
   },
   {
    "duration": 172,
    "start_time": "2021-07-20T13:07:15.739Z"
   },
   {
    "duration": 202,
    "start_time": "2021-07-20T13:07:15.913Z"
   },
   {
    "duration": 1174,
    "start_time": "2021-07-20T13:07:16.117Z"
   },
   {
    "duration": 20,
    "start_time": "2021-07-20T13:07:17.293Z"
   },
   {
    "duration": 2,
    "start_time": "2021-07-20T13:07:17.315Z"
   },
   {
    "duration": 26076,
    "start_time": "2021-07-20T13:07:17.319Z"
   },
   {
    "duration": 604,
    "start_time": "2021-07-20T13:07:43.397Z"
   },
   {
    "duration": 149539,
    "start_time": "2021-07-20T13:07:44.005Z"
   },
   {
    "duration": 22670,
    "start_time": "2021-07-20T13:10:13.546Z"
   },
   {
    "duration": 64872,
    "start_time": "2021-07-20T13:10:36.218Z"
   },
   {
    "duration": 10410,
    "start_time": "2021-07-20T13:11:41.093Z"
   },
   {
    "duration": 9040,
    "start_time": "2021-07-20T13:11:51.505Z"
   },
   {
    "duration": 103660,
    "start_time": "2021-07-20T13:12:00.547Z"
   },
   {
    "duration": 33285,
    "start_time": "2021-07-20T13:13:44.209Z"
   },
   {
    "duration": 442,
    "start_time": "2021-07-20T13:14:17.496Z"
   },
   {
    "duration": 670,
    "start_time": "2021-07-20T13:14:36.995Z"
   },
   {
    "duration": 745,
    "start_time": "2021-07-20T13:16:10.069Z"
   },
   {
    "duration": 2065,
    "start_time": "2021-07-23T08:57:31.843Z"
   },
   {
    "duration": 5,
    "start_time": "2021-07-23T08:57:44.967Z"
   },
   {
    "duration": 4681,
    "start_time": "2021-07-23T08:57:47.431Z"
   },
   {
    "duration": 154,
    "start_time": "2021-07-23T08:57:54.246Z"
   },
   {
    "duration": 1064,
    "start_time": "2021-07-23T08:57:56.232Z"
   },
   {
    "duration": 847,
    "start_time": "2021-07-23T08:57:58.767Z"
   },
   {
    "duration": 485,
    "start_time": "2021-07-23T08:58:00.947Z"
   },
   {
    "duration": 19,
    "start_time": "2021-07-23T08:58:04.966Z"
   },
   {
    "duration": 51283,
    "start_time": "2021-07-23T08:58:06.519Z"
   },
   {
    "duration": 338,
    "start_time": "2021-07-23T08:58:57.804Z"
   },
   {
    "duration": 885,
    "start_time": "2021-07-23T08:59:03.607Z"
   },
   {
    "duration": 68,
    "start_time": "2021-07-23T08:59:09.703Z"
   },
   {
    "duration": 159,
    "start_time": "2021-07-23T08:59:13.112Z"
   },
   {
    "duration": 84,
    "start_time": "2021-07-23T08:59:19.664Z"
   },
   {
    "duration": 1649,
    "start_time": "2021-07-23T08:59:22.928Z"
   },
   {
    "duration": 25,
    "start_time": "2021-07-23T08:59:26.263Z"
   },
   {
    "duration": 265,
    "start_time": "2021-07-23T08:59:30.255Z"
   },
   {
    "duration": 269,
    "start_time": "2021-07-23T08:59:33.422Z"
   },
   {
    "duration": 1998,
    "start_time": "2021-07-23T08:59:34.983Z"
   },
   {
    "duration": 34,
    "start_time": "2021-07-23T08:59:42.295Z"
   },
   {
    "duration": 4,
    "start_time": "2021-07-23T08:59:43.312Z"
   },
   {
    "duration": 28199,
    "start_time": "2021-07-23T08:59:46.911Z"
   },
   {
    "duration": 5,
    "start_time": "2021-07-23T09:09:32.481Z"
   },
   {
    "duration": 28404,
    "start_time": "2021-07-23T09:11:57.008Z"
   },
   {
    "duration": 287,
    "start_time": "2021-07-23T09:12:25.416Z"
   },
   {
    "duration": 754,
    "start_time": "2021-07-23T09:17:36.072Z"
   },
   {
    "duration": 18,
    "start_time": "2021-07-23T09:17:44.536Z"
   },
   {
    "duration": 15,
    "start_time": "2021-07-23T09:19:02.010Z"
   },
   {
    "duration": 671,
    "start_time": "2021-07-23T09:21:12.616Z"
   },
   {
    "duration": 15,
    "start_time": "2021-07-23T09:21:22.674Z"
   },
   {
    "duration": 16,
    "start_time": "2021-07-23T09:21:23.809Z"
   },
   {
    "duration": 672,
    "start_time": "2021-07-23T09:22:24.329Z"
   },
   {
    "duration": 24,
    "start_time": "2021-07-23T09:22:29.353Z"
   },
   {
    "duration": 9,
    "start_time": "2021-07-23T09:22:34.017Z"
   },
   {
    "duration": 718,
    "start_time": "2021-07-23T09:22:44.889Z"
   },
   {
    "duration": 604,
    "start_time": "2021-07-23T09:34:51.386Z"
   },
   {
    "duration": 727,
    "start_time": "2021-07-23T09:35:05.220Z"
   },
   {
    "duration": 25,
    "start_time": "2021-07-23T09:35:15.554Z"
   },
   {
    "duration": 11,
    "start_time": "2021-07-23T09:35:25.333Z"
   },
   {
    "duration": 720,
    "start_time": "2021-07-23T09:36:23.081Z"
   },
   {
    "duration": 380,
    "start_time": "2021-07-23T09:36:29.385Z"
   },
   {
    "duration": 22,
    "start_time": "2021-07-23T09:36:41.089Z"
   },
   {
    "duration": 77,
    "start_time": "2021-07-23T09:37:02.657Z"
   },
   {
    "duration": 438,
    "start_time": "2021-07-23T09:41:10.202Z"
   },
   {
    "duration": 23,
    "start_time": "2021-07-23T09:58:44.283Z"
   },
   {
    "duration": 35,
    "start_time": "2021-07-23T09:59:11.484Z"
   },
   {
    "duration": 404,
    "start_time": "2021-07-23T10:00:02.365Z"
   },
   {
    "duration": 402,
    "start_time": "2021-07-23T10:00:16.223Z"
   },
   {
    "duration": 15,
    "start_time": "2021-07-23T10:00:45.099Z"
   },
   {
    "duration": 15,
    "start_time": "2021-07-23T10:00:51.731Z"
   },
   {
    "duration": 79,
    "start_time": "2021-07-23T10:01:00.293Z"
   },
   {
    "duration": 359,
    "start_time": "2021-07-23T10:01:24.196Z"
   },
   {
    "duration": 8612,
    "start_time": "2021-07-23T10:02:18.022Z"
   },
   {
    "duration": 211,
    "start_time": "2021-07-23T10:02:34.636Z"
   },
   {
    "duration": 219,
    "start_time": "2021-07-23T10:03:28.573Z"
   },
   {
    "duration": 215,
    "start_time": "2021-07-23T10:03:34.787Z"
   },
   {
    "duration": 220,
    "start_time": "2021-07-23T10:03:56.535Z"
   },
   {
    "duration": 329,
    "start_time": "2021-07-23T10:04:35.339Z"
   },
   {
    "duration": 425,
    "start_time": "2021-07-23T10:04:50.308Z"
   },
   {
    "duration": 527,
    "start_time": "2021-07-23T10:05:13.011Z"
   },
   {
    "duration": 535,
    "start_time": "2021-07-23T10:05:40.092Z"
   },
   {
    "duration": 77,
    "start_time": "2021-07-23T10:05:56.746Z"
   },
   {
    "duration": 603,
    "start_time": "2021-07-23T10:06:51.077Z"
   },
   {
    "duration": 599,
    "start_time": "2021-07-23T10:07:31.853Z"
   },
   {
    "duration": 23,
    "start_time": "2021-07-23T10:07:33.412Z"
   },
   {
    "duration": 402,
    "start_time": "2021-07-23T10:08:02.963Z"
   },
   {
    "duration": 15,
    "start_time": "2021-07-23T10:08:19.819Z"
   },
   {
    "duration": 610,
    "start_time": "2021-07-23T10:08:22.412Z"
   },
   {
    "duration": 24,
    "start_time": "2021-07-23T10:08:24.276Z"
   },
   {
    "duration": 101,
    "start_time": "2021-07-23T10:31:29.333Z"
   },
   {
    "duration": 362,
    "start_time": "2021-07-23T10:31:58.303Z"
   },
   {
    "duration": 23,
    "start_time": "2021-07-23T10:32:07.598Z"
   },
   {
    "duration": 10,
    "start_time": "2021-07-23T10:32:37.830Z"
   },
   {
    "duration": 29,
    "start_time": "2021-07-23T10:33:50.453Z"
   },
   {
    "duration": 16,
    "start_time": "2021-07-23T10:35:07.717Z"
   },
   {
    "duration": 15,
    "start_time": "2021-07-23T10:35:10.949Z"
   },
   {
    "duration": 76,
    "start_time": "2021-07-23T10:35:11.765Z"
   },
   {
    "duration": 527,
    "start_time": "2021-07-23T10:35:49.742Z"
   },
   {
    "duration": 74,
    "start_time": "2021-07-23T10:36:10.223Z"
   },
   {
    "duration": 80,
    "start_time": "2021-07-23T10:36:29.086Z"
   },
   {
    "duration": 5,
    "start_time": "2021-07-23T10:36:38.589Z"
   },
   {
    "duration": 5,
    "start_time": "2021-07-23T10:36:52.422Z"
   },
   {
    "duration": 28,
    "start_time": "2021-07-23T10:37:53.078Z"
   },
   {
    "duration": 66,
    "start_time": "2021-07-23T10:38:03.149Z"
   },
   {
    "duration": 19,
    "start_time": "2021-07-23T10:40:07.897Z"
   },
   {
    "duration": 78,
    "start_time": "2021-07-23T10:40:08.846Z"
   },
   {
    "duration": 539,
    "start_time": "2021-07-23T10:40:11.398Z"
   },
   {
    "duration": 5,
    "start_time": "2021-07-23T10:40:12.854Z"
   },
   {
    "duration": 6,
    "start_time": "2021-07-23T10:40:15.539Z"
   },
   {
    "duration": 17,
    "start_time": "2021-07-23T10:40:18.629Z"
   },
   {
    "duration": 7,
    "start_time": "2021-07-23T10:40:20.333Z"
   },
   {
    "duration": 65,
    "start_time": "2021-07-23T10:40:21.486Z"
   },
   {
    "duration": 838,
    "start_time": "2021-07-23T10:41:26.592Z"
   },
   {
    "duration": 451,
    "start_time": "2021-07-23T10:41:32.919Z"
   },
   {
    "duration": 455,
    "start_time": "2021-07-23T10:41:39.967Z"
   },
   {
    "duration": 435,
    "start_time": "2021-07-23T10:41:48.712Z"
   },
   {
    "duration": 453,
    "start_time": "2021-07-23T10:41:52.775Z"
   },
   {
    "duration": 841,
    "start_time": "2021-07-23T10:42:21.823Z"
   },
   {
    "duration": 467,
    "start_time": "2021-07-23T10:42:25.798Z"
   },
   {
    "duration": 883,
    "start_time": "2021-07-23T10:42:59.798Z"
   },
   {
    "duration": 22,
    "start_time": "2021-07-23T10:43:05.927Z"
   },
   {
    "duration": 1037,
    "start_time": "2021-07-23T10:43:57.119Z"
   },
   {
    "duration": 1001,
    "start_time": "2021-07-23T10:44:11.848Z"
   },
   {
    "duration": 1051,
    "start_time": "2021-07-23T10:44:17.999Z"
   },
   {
    "duration": 75,
    "start_time": "2021-07-23T10:44:43.586Z"
   },
   {
    "duration": 14175,
    "start_time": "2021-07-23T10:44:56.752Z"
   },
   {
    "duration": 421,
    "start_time": "2021-07-23T10:52:11.686Z"
   },
   {
    "duration": 369,
    "start_time": "2021-07-23T10:52:19.038Z"
   },
   {
    "duration": 368,
    "start_time": "2021-07-23T10:52:28.662Z"
   },
   {
    "duration": 6919,
    "start_time": "2021-07-23T10:53:26.119Z"
   },
   {
    "duration": 365,
    "start_time": "2021-07-23T10:56:04.472Z"
   },
   {
    "duration": 7219,
    "start_time": "2021-07-23T10:57:56.338Z"
   },
   {
    "duration": 7353,
    "start_time": "2021-07-23T10:58:09.206Z"
   },
   {
    "duration": 6685,
    "start_time": "2021-07-23T10:58:27.454Z"
   },
   {
    "duration": 4,
    "start_time": "2021-07-23T11:00:23.855Z"
   },
   {
    "duration": 5,
    "start_time": "2021-07-23T11:00:32.334Z"
   },
   {
    "duration": 339232,
    "start_time": "2021-07-23T11:03:17.648Z"
   },
   {
    "duration": 6,
    "start_time": "2021-07-23T11:12:15.552Z"
   },
   {
    "duration": 54365,
    "start_time": "2021-07-23T11:14:51.784Z"
   },
   {
    "duration": 235634,
    "start_time": "2021-07-23T11:16:03.913Z"
   },
   {
    "duration": 145824,
    "start_time": "2021-07-23T11:21:10.536Z"
   },
   {
    "duration": 24764,
    "start_time": "2021-07-23T11:23:36.362Z"
   },
   {
    "duration": 1123,
    "start_time": "2021-07-23T11:24:01.129Z"
   },
   {
    "duration": 9,
    "start_time": "2021-07-23T11:24:02.255Z"
   },
   {
    "duration": -37,
    "start_time": "2021-07-23T11:24:02.303Z"
   },
   {
    "duration": -67,
    "start_time": "2021-07-23T11:24:02.335Z"
   },
   {
    "duration": 87755,
    "start_time": "2021-07-23T11:25:00.067Z"
   },
   {
    "duration": 11783,
    "start_time": "2021-07-23T11:26:27.825Z"
   },
   {
    "duration": 2401,
    "start_time": "2021-07-23T11:26:39.612Z"
   },
   {
    "duration": 150495,
    "start_time": "2021-07-23T11:32:51.929Z"
   },
   {
    "duration": 22876,
    "start_time": "2021-07-23T11:35:22.426Z"
   },
   {
    "duration": 2319,
    "start_time": "2021-07-23T11:35:45.305Z"
   },
   {
    "duration": 14228,
    "start_time": "2021-07-23T11:35:47.626Z"
   },
   {
    "duration": 535,
    "start_time": "2021-07-23T11:36:01.857Z"
   },
   {
    "duration": 191,
    "start_time": "2021-07-23T11:36:52.697Z"
   },
   {
    "duration": 177,
    "start_time": "2021-07-23T11:36:59.032Z"
   },
   {
    "duration": 5470,
    "start_time": "2021-07-23T11:39:10.025Z"
   },
   {
    "duration": 34271,
    "start_time": "2021-07-23T11:40:26.828Z"
   },
   {
    "duration": 350805,
    "start_time": "2021-07-23T11:41:52.706Z"
   },
   {
    "duration": 1009,
    "start_time": "2021-07-23T11:47:43.513Z"
   },
   {
    "duration": 86,
    "start_time": "2021-07-23T11:47:44.525Z"
   },
   {
    "duration": 156826,
    "start_time": "2021-07-23T11:47:44.614Z"
   },
   {
    "duration": 23368,
    "start_time": "2021-07-23T11:50:21.444Z"
   },
   {
    "duration": 1074,
    "start_time": "2021-07-23T11:50:44.815Z"
   },
   {
    "duration": 13037,
    "start_time": "2021-07-23T11:50:45.892Z"
   },
   {
    "duration": 1662,
    "start_time": "2021-07-23T11:50:58.933Z"
   },
   {
    "duration": 456,
    "start_time": "2021-07-23T11:51:00.601Z"
   },
   {
    "duration": 13910,
    "start_time": "2021-07-23T11:51:01.060Z"
   },
   {
    "duration": 403,
    "start_time": "2021-07-23T11:51:14.972Z"
   },
   {
    "duration": 244146,
    "start_time": "2021-07-23T11:51:15.378Z"
   },
   {
    "duration": 348,
    "start_time": "2021-07-23T11:55:19.527Z"
   },
   {
    "duration": 259,
    "start_time": "2021-07-23T11:55:19.878Z"
   },
   {
    "duration": 2562,
    "start_time": "2021-07-23T11:55:45.570Z"
   },
   {
    "duration": 24076,
    "start_time": "2021-07-23T11:55:48.135Z"
   },
   {
    "duration": 287,
    "start_time": "2021-07-23T11:56:12.215Z"
   },
   {
    "duration": 247242,
    "start_time": "2021-07-23T11:57:08.058Z"
   },
   {
    "duration": 88182,
    "start_time": "2021-07-23T12:01:15.303Z"
   },
   {
    "duration": 328,
    "start_time": "2021-07-23T12:02:43.488Z"
   },
   {
    "duration": 919,
    "start_time": "2021-07-23T12:03:41.891Z"
   },
   {
    "duration": 1453,
    "start_time": "2021-07-23T12:04:01.098Z"
   },
   {
    "duration": 1637,
    "start_time": "2021-07-23T12:19:43.075Z"
   },
   {
    "duration": 966,
    "start_time": "2021-07-23T12:19:44.715Z"
   },
   {
    "duration": 158,
    "start_time": "2021-07-23T12:19:45.685Z"
   },
   {
    "duration": 1018,
    "start_time": "2021-07-23T12:19:45.846Z"
   },
   {
    "duration": 937,
    "start_time": "2021-07-23T12:19:46.867Z"
   },
   {
    "duration": 519,
    "start_time": "2021-07-23T12:19:47.806Z"
   },
   {
    "duration": 19,
    "start_time": "2021-07-23T12:19:48.327Z"
   },
   {
    "duration": 48906,
    "start_time": "2021-07-23T12:19:48.350Z"
   },
   {
    "duration": 346,
    "start_time": "2021-07-23T12:20:37.260Z"
   },
   {
    "duration": 826,
    "start_time": "2021-07-23T12:20:37.610Z"
   },
   {
    "duration": 82,
    "start_time": "2021-07-23T12:20:38.439Z"
   },
   {
    "duration": 178,
    "start_time": "2021-07-23T12:20:38.524Z"
   },
   {
    "duration": 96,
    "start_time": "2021-07-23T12:20:38.704Z"
   },
   {
    "duration": 1569,
    "start_time": "2021-07-23T12:20:38.803Z"
   },
   {
    "duration": 38,
    "start_time": "2021-07-23T12:20:40.375Z"
   },
   {
    "duration": 288,
    "start_time": "2021-07-23T12:20:40.415Z"
   },
   {
    "duration": 288,
    "start_time": "2021-07-23T12:20:40.706Z"
   },
   {
    "duration": 1965,
    "start_time": "2021-07-23T12:20:41.000Z"
   },
   {
    "duration": 44,
    "start_time": "2021-07-23T12:20:42.968Z"
   },
   {
    "duration": 4,
    "start_time": "2021-07-23T12:20:43.014Z"
   },
   {
    "duration": 2483,
    "start_time": "2021-07-23T12:20:43.021Z"
   },
   {
    "duration": 25397,
    "start_time": "2021-07-23T12:20:45.506Z"
   },
   {
    "duration": 295,
    "start_time": "2021-07-23T12:21:10.909Z"
   },
   {
    "duration": 1182,
    "start_time": "2021-07-23T12:21:11.208Z"
   },
   {
    "duration": 81,
    "start_time": "2021-07-23T12:21:12.400Z"
   },
   {
    "duration": 157787,
    "start_time": "2021-07-23T12:21:12.484Z"
   },
   {
    "duration": 23942,
    "start_time": "2021-07-23T12:23:50.273Z"
   },
   {
    "duration": 1140,
    "start_time": "2021-07-23T12:24:14.218Z"
   },
   {
    "duration": 62852,
    "start_time": "2021-07-23T12:24:15.361Z"
   },
   {
    "duration": 4487,
    "start_time": "2021-07-23T12:25:18.216Z"
   },
   {
    "duration": 513,
    "start_time": "2021-07-23T12:25:22.705Z"
   },
   {
    "duration": 13834,
    "start_time": "2021-07-23T12:25:23.220Z"
   },
   {
    "duration": 402,
    "start_time": "2021-07-23T12:25:37.056Z"
   },
   {
    "duration": 243160,
    "start_time": "2021-07-23T12:25:37.461Z"
   },
   {
    "duration": 88542,
    "start_time": "2021-07-23T12:29:40.624Z"
   },
   {
    "duration": 347,
    "start_time": "2021-07-23T12:31:09.169Z"
   },
   {
    "duration": 962,
    "start_time": "2021-07-23T12:31:09.519Z"
   }
  ],
  "kernelspec": {
   "display_name": "Python 3",
   "language": "python",
   "name": "python3"
  },
  "language_info": {
   "codemirror_mode": {
    "name": "ipython",
    "version": 3
   },
   "file_extension": ".py",
   "mimetype": "text/x-python",
   "name": "python",
   "nbconvert_exporter": "python",
   "pygments_lexer": "ipython3",
   "version": "3.8.10"
  },
  "toc": {
   "base_numbering": 1,
   "nav_menu": {},
   "number_sections": true,
   "sideBar": true,
   "skip_h1_title": true,
   "title_cell": "Table of Contents",
   "title_sidebar": "Contents",
   "toc_cell": false,
   "toc_position": {
    "height": "calc(100% - 180px)",
    "left": "10px",
    "top": "150px",
    "width": "174.391px"
   },
   "toc_section_display": true,
   "toc_window_display": false
  }
 },
 "nbformat": 4,
 "nbformat_minor": 4
}
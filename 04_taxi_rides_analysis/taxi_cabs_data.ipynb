{
 "cells": [
  {
   "attachments": {},
   "cell_type": "markdown",
   "metadata": {},
   "source": [
    "# Factors affecting Taxi rides"
   ]
  },
  {
   "cell_type": "markdown",
   "metadata": {},
   "source": [
    "## 1. Load and Check data\n",
    "We will load datasets, inspect them for any errors, fix if any with explanations."
   ]
  },
  {
   "cell_type": "code",
   "execution_count": 1,
   "metadata": {},
   "outputs": [],
   "source": [
    "# necessary libraries\n",
    "import pandas as pd\n",
    "import matplotlib.pyplot as plt\n",
    "import seaborn as sns\n",
    "import scipy.stats as st"
   ]
  },
  {
   "cell_type": "code",
   "execution_count": 2,
   "metadata": {},
   "outputs": [
    {
     "name": "stdout",
     "output_type": "stream",
     "text": [
      "All files has been imported!\n"
     ]
    }
   ],
   "source": [
    "#load the data files\n",
    "try:\n",
    "    rides=pd.read_csv('/datasets/project_sql_result_01.csv')\n",
    "    nbhoods=pd.read_csv('/datasets/project_sql_result_04.csv')\n",
    "    to_airport=pd.read_csv('/datasets/project_sql_result_07.csv')\n",
    "    print('All files has been imported!')\n",
    "except:\n",
    "    print('Something went wrong, check paths, separators etc!')"
   ]
  },
  {
   "cell_type": "code",
   "execution_count": 3,
   "metadata": {
    "scrolled": false
   },
   "outputs": [
    {
     "data": {
      "text/html": [
       "<div>\n",
       "<style scoped>\n",
       "    .dataframe tbody tr th:only-of-type {\n",
       "        vertical-align: middle;\n",
       "    }\n",
       "\n",
       "    .dataframe tbody tr th {\n",
       "        vertical-align: top;\n",
       "    }\n",
       "\n",
       "    .dataframe thead th {\n",
       "        text-align: right;\n",
       "    }\n",
       "</style>\n",
       "<table border=\"1\" class=\"dataframe\">\n",
       "  <thead>\n",
       "    <tr style=\"text-align: right;\">\n",
       "      <th></th>\n",
       "      <th>company_name</th>\n",
       "      <th>trips_amount</th>\n",
       "    </tr>\n",
       "  </thead>\n",
       "  <tbody>\n",
       "    <tr>\n",
       "      <td>0</td>\n",
       "      <td>Flash Cab</td>\n",
       "      <td>19558</td>\n",
       "    </tr>\n",
       "    <tr>\n",
       "      <td>1</td>\n",
       "      <td>Taxi Affiliation Services</td>\n",
       "      <td>11422</td>\n",
       "    </tr>\n",
       "    <tr>\n",
       "      <td>2</td>\n",
       "      <td>Medallion Leasing</td>\n",
       "      <td>10367</td>\n",
       "    </tr>\n",
       "  </tbody>\n",
       "</table>\n",
       "</div>"
      ],
      "text/plain": [
       "                company_name  trips_amount\n",
       "0                  Flash Cab         19558\n",
       "1  Taxi Affiliation Services         11422\n",
       "2          Medallion Leasing         10367"
      ]
     },
     "metadata": {},
     "output_type": "display_data"
    },
    {
     "name": "stdout",
     "output_type": "stream",
     "text": [
      "<class 'pandas.core.frame.DataFrame'>\n",
      "RangeIndex: 64 entries, 0 to 63\n",
      "Data columns (total 2 columns):\n",
      "company_name    64 non-null object\n",
      "trips_amount    64 non-null int64\n",
      "dtypes: int64(1), object(1)\n",
      "memory usage: 1.1+ KB\n",
      "\n",
      "==================================================\n"
     ]
    },
    {
     "data": {
      "text/html": [
       "<div>\n",
       "<style scoped>\n",
       "    .dataframe tbody tr th:only-of-type {\n",
       "        vertical-align: middle;\n",
       "    }\n",
       "\n",
       "    .dataframe tbody tr th {\n",
       "        vertical-align: top;\n",
       "    }\n",
       "\n",
       "    .dataframe thead th {\n",
       "        text-align: right;\n",
       "    }\n",
       "</style>\n",
       "<table border=\"1\" class=\"dataframe\">\n",
       "  <thead>\n",
       "    <tr style=\"text-align: right;\">\n",
       "      <th></th>\n",
       "      <th>dropoff_location_name</th>\n",
       "      <th>average_trips</th>\n",
       "    </tr>\n",
       "  </thead>\n",
       "  <tbody>\n",
       "    <tr>\n",
       "      <td>0</td>\n",
       "      <td>Loop</td>\n",
       "      <td>10727.466667</td>\n",
       "    </tr>\n",
       "    <tr>\n",
       "      <td>1</td>\n",
       "      <td>River North</td>\n",
       "      <td>9523.666667</td>\n",
       "    </tr>\n",
       "    <tr>\n",
       "      <td>2</td>\n",
       "      <td>Streeterville</td>\n",
       "      <td>6664.666667</td>\n",
       "    </tr>\n",
       "  </tbody>\n",
       "</table>\n",
       "</div>"
      ],
      "text/plain": [
       "  dropoff_location_name  average_trips\n",
       "0                  Loop   10727.466667\n",
       "1           River North    9523.666667\n",
       "2         Streeterville    6664.666667"
      ]
     },
     "metadata": {},
     "output_type": "display_data"
    },
    {
     "name": "stdout",
     "output_type": "stream",
     "text": [
      "<class 'pandas.core.frame.DataFrame'>\n",
      "RangeIndex: 94 entries, 0 to 93\n",
      "Data columns (total 2 columns):\n",
      "dropoff_location_name    94 non-null object\n",
      "average_trips            94 non-null float64\n",
      "dtypes: float64(1), object(1)\n",
      "memory usage: 1.6+ KB\n",
      "\n",
      "==================================================\n"
     ]
    },
    {
     "data": {
      "text/html": [
       "<div>\n",
       "<style scoped>\n",
       "    .dataframe tbody tr th:only-of-type {\n",
       "        vertical-align: middle;\n",
       "    }\n",
       "\n",
       "    .dataframe tbody tr th {\n",
       "        vertical-align: top;\n",
       "    }\n",
       "\n",
       "    .dataframe thead th {\n",
       "        text-align: right;\n",
       "    }\n",
       "</style>\n",
       "<table border=\"1\" class=\"dataframe\">\n",
       "  <thead>\n",
       "    <tr style=\"text-align: right;\">\n",
       "      <th></th>\n",
       "      <th>start_ts</th>\n",
       "      <th>weather_conditions</th>\n",
       "      <th>duration_seconds</th>\n",
       "    </tr>\n",
       "  </thead>\n",
       "  <tbody>\n",
       "    <tr>\n",
       "      <td>0</td>\n",
       "      <td>2017-11-25 16:00:00</td>\n",
       "      <td>Good</td>\n",
       "      <td>2410.0</td>\n",
       "    </tr>\n",
       "    <tr>\n",
       "      <td>1</td>\n",
       "      <td>2017-11-25 14:00:00</td>\n",
       "      <td>Good</td>\n",
       "      <td>1920.0</td>\n",
       "    </tr>\n",
       "    <tr>\n",
       "      <td>2</td>\n",
       "      <td>2017-11-25 12:00:00</td>\n",
       "      <td>Good</td>\n",
       "      <td>1543.0</td>\n",
       "    </tr>\n",
       "  </tbody>\n",
       "</table>\n",
       "</div>"
      ],
      "text/plain": [
       "              start_ts weather_conditions  duration_seconds\n",
       "0  2017-11-25 16:00:00               Good            2410.0\n",
       "1  2017-11-25 14:00:00               Good            1920.0\n",
       "2  2017-11-25 12:00:00               Good            1543.0"
      ]
     },
     "metadata": {},
     "output_type": "display_data"
    },
    {
     "name": "stdout",
     "output_type": "stream",
     "text": [
      "<class 'pandas.core.frame.DataFrame'>\n",
      "RangeIndex: 1068 entries, 0 to 1067\n",
      "Data columns (total 3 columns):\n",
      "start_ts              1068 non-null object\n",
      "weather_conditions    1068 non-null object\n",
      "duration_seconds      1068 non-null float64\n",
      "dtypes: float64(1), object(2)\n",
      "memory usage: 25.2+ KB\n",
      "\n",
      "==================================================\n"
     ]
    }
   ],
   "source": [
    "# get familiarized with content and data types of datasets \n",
    "for df in [rides, nbhoods, to_airport]:\n",
    "    display(df.head(3))\n",
    "    df.info()\n",
    "    print()\n",
    "    print('='*50)"
   ]
  },
  {
   "cell_type": "code",
   "execution_count": 4,
   "metadata": {
    "scrolled": true
   },
   "outputs": [
    {
     "name": "stdout",
     "output_type": "stream",
     "text": [
      "<class 'pandas.core.frame.DataFrame'>\n",
      "RangeIndex: 1068 entries, 0 to 1067\n",
      "Data columns (total 3 columns):\n",
      "start_ts              1068 non-null datetime64[ns]\n",
      "weather_conditions    1068 non-null object\n",
      "duration_seconds      1068 non-null float64\n",
      "dtypes: datetime64[ns](1), float64(1), object(1)\n",
      "memory usage: 25.2+ KB\n"
     ]
    }
   ],
   "source": [
    "#change data type of to_airport['start_ts'] to datetime\n",
    "to_airport['start_ts'] = pd.to_datetime(to_airport['start_ts'], format='%Y-%m-%d %H:%M:%S', errors='coerce')\n",
    "\n",
    "#check the result\n",
    "to_airport.info()"
   ]
  },
  {
   "cell_type": "code",
   "execution_count": 5,
   "metadata": {
    "scrolled": true
   },
   "outputs": [
    {
     "data": {
      "text/plain": [
       "company_name    0\n",
       "trips_amount    0\n",
       "dtype: int64"
      ]
     },
     "metadata": {},
     "output_type": "display_data"
    },
    {
     "name": "stdout",
     "output_type": "stream",
     "text": [
      "Duplicated number of rows: 0\n",
      "==================================================\n"
     ]
    },
    {
     "data": {
      "text/plain": [
       "dropoff_location_name    0\n",
       "average_trips            0\n",
       "dtype: int64"
      ]
     },
     "metadata": {},
     "output_type": "display_data"
    },
    {
     "name": "stdout",
     "output_type": "stream",
     "text": [
      "Duplicated number of rows: 0\n",
      "==================================================\n"
     ]
    },
    {
     "data": {
      "text/plain": [
       "start_ts              0\n",
       "weather_conditions    0\n",
       "duration_seconds      0\n",
       "dtype: int64"
      ]
     },
     "metadata": {},
     "output_type": "display_data"
    },
    {
     "name": "stdout",
     "output_type": "stream",
     "text": [
      "Duplicated number of rows: 197\n",
      "==================================================\n"
     ]
    }
   ],
   "source": [
    "# check for missing and duplicated values in each dataset\n",
    "for df in [rides, nbhoods, to_airport]:\n",
    "    display(df.isna().sum())\n",
    "    print('Duplicated number of rows:', df.duplicated().sum())\n",
    "    print('='*50)"
   ]
  },
  {
   "cell_type": "markdown",
   "metadata": {},
   "source": [
    "### 1.1 Conclusion\n",
    "All three dataset has been successfully loaded and been got familiarized. Datatypes of columns were correct, except the `start_ts` column of the to_airport dataset. It was in *object* type and then converted to *datetime* type. Datasets have been check for missing and duplicate values. No significant issues were observed other than duplicates in the to_airport table. However, we don't have a trip_id column, therefore we can not exactly say if these rows are duplicated or separate observations with equal values. Hence, it was decided to keep them!"
   ]
  },
  {
   "cell_type": "markdown",
   "metadata": {},
   "source": [
    "## 2. Explaratory data analysis\n",
    "We will make graphs: to analyze companies by number of rides and neighborhoods by number of drop-offs."
   ]
  },
  {
   "cell_type": "code",
   "execution_count": 6,
   "metadata": {},
   "outputs": [
    {
     "data": {
      "image/png": "[encoded data removed]",
      "text/plain": [
       "<Figure size 864x576 with 1 Axes>"
      ]
     },
     "metadata": {
      "needs_background": "light"
     },
     "output_type": "display_data"
    }
   ],
   "source": [
    "#prepare data: top companies with most trips on November 15-16, 2017\n",
    "data=rides.sort_values('trips_amount', ascending=False)[:10]\n",
    "\n",
    "#create fig object\n",
    "plt.figure(figsize=(12,8))\n",
    "\n",
    "#horizontal bar chart showing number of trips per company\n",
    "sns.barplot(x='trips_amount', y='company_name', data=data, palette='inferno')\n",
    "\n",
    "#customize the plot\n",
    "plt.title('Top 10 companies with highest number of trips on November 15-16, 2017', fontsize=16, color='r')\n",
    "plt.xlabel('Number of trips', fontsize=14, color='k')\n",
    "plt.ylabel('Name of Company', fontsize=14, color='k')\n",
    "plt.grid(b=True, which='both', color='b', linestyle='--', alpha=0.1)\n",
    "plt.minorticks_on()\n",
    "plt.show()"
   ]
  },
  {
   "cell_type": "code",
   "execution_count": 7,
   "metadata": {
    "scrolled": false
   },
   "outputs": [
    {
     "data": {
      "image/png": "[encoded data removed]",
      "text/plain": [
       "<Figure size 864x576 with 1 Axes>"
      ]
     },
     "metadata": {
      "needs_background": "light"
     },
     "output_type": "display_data"
    }
   ],
   "source": [
    "#prepare data: top neighborhoods with most drop-offs in November 2017\n",
    "data=nbhoods.sort_values('average_trips', ascending=False)[:10]\n",
    "\n",
    "#create figure object\n",
    "plt.figure(figsize=(12,8))\n",
    "\n",
    "#h.bar chart showing top neighborhoods with highest avg. drop-offs\n",
    "sns.barplot(y='dropoff_location_name', x='average_trips', data=data, palette='inferno')\n",
    "\n",
    "#customize the plot\n",
    "plt.title('Top 10 neighborhoods with highest average number of drop-offs in November 2017', fontsize=16, color='r')\n",
    "plt.xticks(rotation=0, fontsize=12)\n",
    "plt.xlabel('Average number of drop-offs', fontsize=14, color='k')\n",
    "plt.ylabel('Name of neighborhood', fontsize=14, color='k')\n",
    "plt.grid(b=True, which='both', color='b', linestyle='--', alpha=0.1)\n",
    "plt.minorticks_on()\n",
    "plt.show()"
   ]
  },
  {
   "cell_type": "code",
   "execution_count": 8,
   "metadata": {},
   "outputs": [
    {
     "data": {
      "text/html": [
       "<div>\n",
       "<style scoped>\n",
       "    .dataframe tbody tr th:only-of-type {\n",
       "        vertical-align: middle;\n",
       "    }\n",
       "\n",
       "    .dataframe tbody tr th {\n",
       "        vertical-align: top;\n",
       "    }\n",
       "\n",
       "    .dataframe thead th {\n",
       "        text-align: right;\n",
       "    }\n",
       "</style>\n",
       "<table border=\"1\" class=\"dataframe\">\n",
       "  <thead>\n",
       "    <tr style=\"text-align: right;\">\n",
       "      <th></th>\n",
       "      <th>company_name</th>\n",
       "      <th>trips_amount</th>\n",
       "    </tr>\n",
       "  </thead>\n",
       "  <tbody>\n",
       "    <tr>\n",
       "      <td>0</td>\n",
       "      <td>Flash Cab</td>\n",
       "      <td>19558</td>\n",
       "    </tr>\n",
       "    <tr>\n",
       "      <td>1</td>\n",
       "      <td>Taxi Affiliation Services</td>\n",
       "      <td>11422</td>\n",
       "    </tr>\n",
       "    <tr>\n",
       "      <td>2</td>\n",
       "      <td>Medallion Leasing</td>\n",
       "      <td>10367</td>\n",
       "    </tr>\n",
       "    <tr>\n",
       "      <td>3</td>\n",
       "      <td>Yellow Cab</td>\n",
       "      <td>9888</td>\n",
       "    </tr>\n",
       "    <tr>\n",
       "      <td>4</td>\n",
       "      <td>Taxi Affiliation Service Yellow</td>\n",
       "      <td>9299</td>\n",
       "    </tr>\n",
       "    <tr>\n",
       "      <td>5</td>\n",
       "      <td>Chicago Carriage Cab Corp</td>\n",
       "      <td>9181</td>\n",
       "    </tr>\n",
       "    <tr>\n",
       "      <td>6</td>\n",
       "      <td>City Service</td>\n",
       "      <td>8448</td>\n",
       "    </tr>\n",
       "    <tr>\n",
       "      <td>7</td>\n",
       "      <td>Sun Taxi</td>\n",
       "      <td>7701</td>\n",
       "    </tr>\n",
       "    <tr>\n",
       "      <td>8</td>\n",
       "      <td>Star North Management LLC</td>\n",
       "      <td>7455</td>\n",
       "    </tr>\n",
       "    <tr>\n",
       "      <td>9</td>\n",
       "      <td>Blue Ribbon Taxi Association Inc.</td>\n",
       "      <td>5953</td>\n",
       "    </tr>\n",
       "  </tbody>\n",
       "</table>\n",
       "</div>"
      ],
      "text/plain": [
       "                        company_name  trips_amount\n",
       "0                          Flash Cab         19558\n",
       "1          Taxi Affiliation Services         11422\n",
       "2                  Medallion Leasing         10367\n",
       "3                         Yellow Cab          9888\n",
       "4    Taxi Affiliation Service Yellow          9299\n",
       "5          Chicago Carriage Cab Corp          9181\n",
       "6                       City Service          8448\n",
       "7                           Sun Taxi          7701\n",
       "8          Star North Management LLC          7455\n",
       "9  Blue Ribbon Taxi Association Inc.          5953"
      ]
     },
     "execution_count": 8,
     "metadata": {},
     "output_type": "execute_result"
    }
   ],
   "source": [
    "data=rides.sort_values('trips_amount', ascending=False)[:10]\n",
    "data"
   ]
  },
  {
   "cell_type": "markdown",
   "metadata": {},
   "source": [
    "### 2.1 Conclusion\n",
    "As its name refers, the **Flash Cab** company was flashing on November 15-16, 2017 with around **20k trips**. The second company was the **Taxi Affiliation Services with around 11k** trips, which less than 2/3 of the Flash Cab. Again, 11k is still very successfully when we consider that there were some companies with only several trips on that date. However, to get a better comparison, it would be great if we could compare the number of cabs each company owns. In such a case, we can clearly say which company was efficient. For example, maybe one company has only 5 cabs but performed 200 rides, while Flash Cab has 20k cabs and made 20k trips.\n",
    "\n",
    "More than **10k taxi rides ended in the Loop**- a vibrant neighborhood of Chicago with eclectic eateries, shops, theaters and parks! Next comes the neighborhoods **River North, the Streeterville, and the West Loop - all of them have drop-offs of above 5k**. For the rest of the neighborhoods, the number of drop-offs decreases gradually. The high number of trips ending in specific neighborhoods might be closely related to the population, businesses and attraction centers in that neighborhood."
   ]
  },
  {
   "cell_type": "markdown",
   "metadata": {},
   "source": [
    "## 3. Test hypothesis\n",
    "We will check if \"The average duration of rides from Loop neighborhood to O'Hare International Airport changes on rainy Saturdays\" or not. For this task we are going to define our hypothesis as follow:\n",
    "   - NULL hypothesis: trip durations are equal (or not significantly different) regardless of weather conditions;\n",
    "   - Alternative hypothesis: trip durations differ significantly depending on weather conditions.\n",
    "   \n",
    "As a generally accepted limit, 95% confidence is enough for us, hence alpha=0.05\n",
    "\n",
    "Before jumping into statistical testing, let's first get the required data from the `to_airport` dataset and visualize their distribution."
   ]
  },
  {
   "cell_type": "code",
   "execution_count": 9,
   "metadata": {},
   "outputs": [
    {
     "data": {
      "image/png": "[encoded data removed]",
      "text/plain": [
       "<Figure size 864x576 with 1 Axes>"
      ]
     },
     "metadata": {
      "needs_background": "light"
     },
     "output_type": "display_data"
    }
   ],
   "source": [
    "#data we need is trip durations on good and bad weather conditions\n",
    "good=to_airport[to_airport['weather_conditions'] == 'Good']['duration_seconds']\n",
    "bad=to_airport[to_airport['weather_conditions'] == 'Bad']['duration_seconds']\n",
    "\n",
    "#create figure object\n",
    "plt.figure(figsize=(12,8))\n",
    "\n",
    "#plot distribution curves for each weather conditions\n",
    "sns.distplot(good, hist=False, kde_kws={'shade':True, 'color':'green', 'alpha':0.3}, label='Good')\n",
    "sns.distplot(bad, hist=False, kde_kws={'shade':True, 'color':'red', 'alpha':0.3}, label='Bad')\n",
    "\n",
    "#customize the figure\n",
    "plt.title('Distribution of trip durations on Good and Bad weather conditions', fontsize=16, color='r')\n",
    "plt.xlabel('Duration of trip (seconds)', fontsize=14, color='k')\n",
    "plt.ylabel('Distribution density (a.u)', fontsize=14, color='k')\n",
    "plt.xlim(0, 5000) #there are some extreme values, we don't need to show them for now\n",
    "plt.legend(fontsize=14)\n",
    "plt.grid(b=True, which='both', color='b', linestyle='--', alpha=0.1)\n",
    "plt.minorticks_on()\n",
    "plt.show()"
   ]
  },
  {
   "cell_type": "code",
   "execution_count": 10,
   "metadata": {},
   "outputs": [
    {
     "name": "stdout",
     "output_type": "stream",
     "text": [
      "P-value of the test is: 6.738994326108734e-12\n",
      "We reject the null hypothesis! \n",
      "An average trip duration of 1999.68±759.2 on good weather conditions is significantly lower than average trip duration of 2427.21±721.31 on bad weather conditions.\n"
     ]
    }
   ],
   "source": [
    "#student's t-test for comparison of two distributions\n",
    "alpha=0.05 #95% confidence level\n",
    "\n",
    "#test difference of mean of good and bad\n",
    "test_result = st.ttest_ind(good, bad, equal_var=False)\n",
    "print('P-value of the test is:',test_result.pvalue)\n",
    "\n",
    "if test_result.pvalue < alpha:\n",
    "    print('We reject the null hypothesis! \\nAn average trip duration of {}\\u00B1{} on good weather conditions is significantly \\\n",
    "lower than average trip duration of {}\\u00B1{} on bad weather conditions.'\\\n",
    "          .format(round(good.mean(), 2), round(good.std(), 2), round(bad.mean(), 2), round(bad.std(), 2)))\n",
    "else:\n",
    "    print('We reject the null hypothesis! \\nAn average trip duration of {}\\u00B1{} on good weather conditions IS NOT significantly \\\n",
    "DIFFERENT than average trip duration of {}\\u00B1{} on bad weather conditions.'\\\n",
    "          .format(round(good.mean(), 2), round(good.std(), 2), round(bad.mean(), 2), round(bad.std(), 2)))"
   ]
  },
  {
   "cell_type": "markdown",
   "metadata": {},
   "source": [
    "### 3.1 Conclusion\n",
    "From the prior visualization, it has been observed that the peak of the plot of average trip durations on good weather conditions was located on the right compared to average trip durations on bad weather conditions. When the statistical analysis performed, it was seen that indeed average trip durations in good weather conditions was significantly lower than average trip durations in bad weather conditions (1999.68±759.2 vs 2427.21±721.31)."
   ]
  },
  {
   "cell_type": "markdown",
   "metadata": {
    "pycharm": {
     "name": "#%% md\n"
    }
   },
   "source": [
    "## 4. Summary\n",
    "All three dataset has been successfully loaded and been got familiarized. Datatypes of columns were correct, except the `start_ts` column of the to_airport dataset. It was in *object* type and then converted to *datetime* type. Datasets have been check for missing and duplicate values. No significant issues were observed other than duplicates in the to_airport table. However, we don't have a trip_id column, therefore we can not exactly say if these rows are duplicated or separate observations with equal values. Hence, it was decided to keep them!\n",
    "\n",
    "\n",
    "As its name refers, the **Flash Cab** company was flashing on November 15-16, 2017 with around **20k trips**. The second company was the **Taxi Affiliation Services with around 11k** trips, which less than 2/3 of the Flash Cab. Again, 11k is still very successfully when we consider that there were some companies with only several trips on that date. However, to get a better comparison, it would be great if we could compare the number of cabs each company owns. In such a case, we can clearly say which company was efficient. For example, maybe one company has only 5 cabs but performed 200 rides, while Flash Cab has 20k cabs and made 20k trips.\n",
    "\n",
    "More than **10k taxi rides ended in the Loop**- a vibrant neighborhood of Chicago with eclectic eateries, shops, theaters and parks! Next comes the neighborhoods **River North, the Streeterville, and the West Loop - all of them have drop-offs of above 5k**. For the rest of the neighborhoods, the number of drop-offs decreases gradually. The high number of trips ending in specific neighborhoods might be closely related to the population, businesses and attraction centers in that neighborhood.\n",
    "\n",
    "When the statistical analysis performed, it was seen that the average trip durations in **good weather conditions (1999.68±759.2)** was significantly lower than average trip durations in **bad weather conditions (2427.21±721.31)**."
   ]
  }
 ],
 "metadata": {
  "ExecuteTimeLog": [
   {
    "duration": 1818,
    "start_time": "2021-06-09T12:00:40.562Z"
   },
   {
    "duration": 5,
    "start_time": "2021-06-09T12:03:26.878Z"
   },
   {
    "duration": 8,
    "start_time": "2021-06-09T12:04:02.693Z"
   },
   {
    "duration": 2057,
    "start_time": "2021-06-09T12:06:07.500Z"
   },
   {
    "duration": 2089,
    "start_time": "2021-06-09T12:06:32.821Z"
   },
   {
    "duration": 28,
    "start_time": "2021-06-09T12:07:25.917Z"
   },
   {
    "duration": 120,
    "start_time": "2021-06-09T12:10:05.235Z"
   },
   {
    "duration": 65,
    "start_time": "2021-06-09T12:14:27.124Z"
   },
   {
    "duration": 277,
    "start_time": "2021-06-09T12:15:29.966Z"
   },
   {
    "duration": 64,
    "start_time": "2021-06-09T12:15:38.372Z"
   },
   {
    "duration": 46,
    "start_time": "2021-06-09T12:15:39.251Z"
   },
   {
    "duration": 36,
    "start_time": "2021-06-09T12:15:59.901Z"
   },
   {
    "duration": 39,
    "start_time": "2021-06-09T12:16:10.885Z"
   },
   {
    "duration": 8,
    "start_time": "2021-06-09T12:20:21.324Z"
   },
   {
    "duration": 19,
    "start_time": "2021-06-09T12:20:29.756Z"
   },
   {
    "duration": 12,
    "start_time": "2021-06-09T12:20:38.501Z"
   },
   {
    "duration": 27,
    "start_time": "2021-06-09T12:22:16.756Z"
   },
   {
    "duration": 9,
    "start_time": "2021-06-09T12:24:57.525Z"
   },
   {
    "duration": 14,
    "start_time": "2021-06-09T12:25:24.301Z"
   },
   {
    "duration": 13,
    "start_time": "2021-06-09T12:25:33.829Z"
   },
   {
    "duration": 13,
    "start_time": "2021-06-09T12:25:42.365Z"
   },
   {
    "duration": 10,
    "start_time": "2021-06-09T12:28:05.005Z"
   },
   {
    "duration": 253,
    "start_time": "2021-06-09T12:33:01.613Z"
   },
   {
    "duration": 9,
    "start_time": "2021-06-09T12:33:15.070Z"
   },
   {
    "duration": 12,
    "start_time": "2021-06-09T12:34:42.805Z"
   },
   {
    "duration": 11,
    "start_time": "2021-06-09T12:35:06.302Z"
   },
   {
    "duration": 13,
    "start_time": "2021-06-09T12:35:51.533Z"
   },
   {
    "duration": 24,
    "start_time": "2021-06-09T12:35:52.478Z"
   },
   {
    "duration": 15,
    "start_time": "2021-06-09T12:35:54.444Z"
   },
   {
    "duration": 4,
    "start_time": "2021-06-09T12:50:56.208Z"
   },
   {
    "duration": 53,
    "start_time": "2021-06-09T12:50:56.853Z"
   },
   {
    "duration": 35,
    "start_time": "2021-06-09T12:50:57.632Z"
   },
   {
    "duration": 13,
    "start_time": "2021-06-09T12:50:58.757Z"
   },
   {
    "duration": 24,
    "start_time": "2021-06-09T12:50:59.613Z"
   },
   {
    "duration": 12,
    "start_time": "2021-06-09T12:51:22.551Z"
   },
   {
    "duration": 7,
    "start_time": "2021-06-09T12:51:39.981Z"
   },
   {
    "duration": 37,
    "start_time": "2021-06-09T12:51:44.782Z"
   },
   {
    "duration": 7,
    "start_time": "2021-06-09T12:51:45.630Z"
   },
   {
    "duration": 63,
    "start_time": "2021-06-09T12:51:54.053Z"
   },
   {
    "duration": 39,
    "start_time": "2021-06-09T12:51:54.638Z"
   },
   {
    "duration": 7,
    "start_time": "2021-06-09T12:51:58.613Z"
   },
   {
    "duration": 38,
    "start_time": "2021-06-09T12:52:04.342Z"
   },
   {
    "duration": 8,
    "start_time": "2021-06-09T12:52:09.045Z"
   },
   {
    "duration": 27,
    "start_time": "2021-06-09T12:52:10.580Z"
   },
   {
    "duration": 1608,
    "start_time": "2021-06-09T12:54:09.246Z"
   },
   {
    "duration": 301,
    "start_time": "2021-06-09T12:54:20.143Z"
   },
   {
    "duration": 80,
    "start_time": "2021-06-09T12:55:04.390Z"
   },
   {
    "duration": 451,
    "start_time": "2021-06-09T12:55:11.918Z"
   },
   {
    "duration": 343,
    "start_time": "2021-06-09T12:55:17.855Z"
   },
   {
    "duration": 405,
    "start_time": "2021-06-09T12:55:24.853Z"
   },
   {
    "duration": 347,
    "start_time": "2021-06-09T12:55:32.413Z"
   },
   {
    "duration": 282,
    "start_time": "2021-06-09T12:56:25.646Z"
   },
   {
    "duration": 391,
    "start_time": "2021-06-09T12:56:40.800Z"
   },
   {
    "duration": 644,
    "start_time": "2021-06-09T12:57:19.782Z"
   },
   {
    "duration": 606,
    "start_time": "2021-06-09T12:57:56.592Z"
   },
   {
    "duration": 420,
    "start_time": "2021-06-09T12:58:53.103Z"
   },
   {
    "duration": 396,
    "start_time": "2021-06-09T12:59:19.942Z"
   },
   {
    "duration": 424,
    "start_time": "2021-06-09T12:59:39.654Z"
   },
   {
    "duration": 394,
    "start_time": "2021-06-09T13:00:26.798Z"
   },
   {
    "duration": 409,
    "start_time": "2021-06-09T13:00:38.606Z"
   },
   {
    "duration": 400,
    "start_time": "2021-06-09T13:00:44.518Z"
   },
   {
    "duration": 407,
    "start_time": "2021-06-09T13:01:27.710Z"
   },
   {
    "duration": 405,
    "start_time": "2021-06-09T13:01:35.478Z"
   },
   {
    "duration": 415,
    "start_time": "2021-06-09T13:01:42.015Z"
   },
   {
    "duration": 399,
    "start_time": "2021-06-09T13:01:51.678Z"
   },
   {
    "duration": 404,
    "start_time": "2021-06-09T13:01:56.038Z"
   },
   {
    "duration": 416,
    "start_time": "2021-06-09T13:02:51.313Z"
   },
   {
    "duration": 642,
    "start_time": "2021-06-09T13:03:35.846Z"
   },
   {
    "duration": 499,
    "start_time": "2021-06-09T13:03:54.559Z"
   },
   {
    "duration": 518,
    "start_time": "2021-06-09T13:07:56.927Z"
   },
   {
    "duration": 10,
    "start_time": "2021-06-09T13:08:10.014Z"
   },
   {
    "duration": 1137,
    "start_time": "2021-06-09T13:08:51.081Z"
   },
   {
    "duration": 1869,
    "start_time": "2021-06-09T13:09:50.755Z"
   },
   {
    "duration": 252,
    "start_time": "2021-06-09T13:11:53.720Z"
   },
   {
    "duration": 506,
    "start_time": "2021-06-09T13:12:03.160Z"
   },
   {
    "duration": 507,
    "start_time": "2021-06-09T13:12:24.590Z"
   },
   {
    "duration": 580,
    "start_time": "2021-06-09T13:13:05.518Z"
   },
   {
    "duration": 89,
    "start_time": "2021-06-09T13:14:53.807Z"
   },
   {
    "duration": 800,
    "start_time": "2021-06-09T13:14:58.742Z"
   },
   {
    "duration": 556,
    "start_time": "2021-06-09T13:15:39.720Z"
   },
   {
    "duration": 558,
    "start_time": "2021-06-09T13:17:35.847Z"
   },
   {
    "duration": 266,
    "start_time": "2021-06-09T13:17:47.671Z"
   },
   {
    "duration": 608,
    "start_time": "2021-06-09T13:17:57.894Z"
   },
   {
    "duration": 469,
    "start_time": "2021-06-09T13:20:40.103Z"
   },
   {
    "duration": 467,
    "start_time": "2021-06-09T13:21:05.519Z"
   },
   {
    "duration": 467,
    "start_time": "2021-06-09T13:21:13.279Z"
   },
   {
    "duration": 469,
    "start_time": "2021-06-09T13:21:34.215Z"
   },
   {
    "duration": 673,
    "start_time": "2021-06-09T13:53:48.124Z"
   },
   {
    "duration": 460,
    "start_time": "2021-06-09T13:54:00.576Z"
   },
   {
    "duration": 454,
    "start_time": "2021-06-09T13:56:52.481Z"
   },
   {
    "duration": 288,
    "start_time": "2021-06-09T13:57:02.498Z"
   },
   {
    "duration": 454,
    "start_time": "2021-06-09T13:57:07.085Z"
   },
   {
    "duration": 1958,
    "start_time": "2021-06-09T13:58:06.288Z"
   },
   {
    "duration": 512,
    "start_time": "2021-06-09T13:59:33.768Z"
   },
   {
    "duration": 822,
    "start_time": "2021-06-09T14:01:32.232Z"
   },
   {
    "duration": 586,
    "start_time": "2021-06-09T14:01:41.056Z"
   },
   {
    "duration": 14,
    "start_time": "2021-06-09T14:02:09.927Z"
   },
   {
    "duration": 584,
    "start_time": "2021-06-09T14:03:26.417Z"
   },
   {
    "duration": 426,
    "start_time": "2021-06-09T14:03:32.425Z"
   },
   {
    "duration": 615,
    "start_time": "2021-06-09T14:03:47.849Z"
   },
   {
    "duration": 584,
    "start_time": "2021-06-09T14:03:54.384Z"
   },
   {
    "duration": 590,
    "start_time": "2021-06-09T14:04:00.160Z"
   },
   {
    "duration": 558,
    "start_time": "2021-06-09T14:04:06.600Z"
   },
   {
    "duration": 458,
    "start_time": "2021-06-09T14:04:28.225Z"
   },
   {
    "duration": 446,
    "start_time": "2021-06-09T14:04:36.785Z"
   },
   {
    "duration": 518,
    "start_time": "2021-06-09T14:06:01.944Z"
   },
   {
    "duration": 1008,
    "start_time": "2021-06-09T14:08:04.185Z"
   },
   {
    "duration": 673,
    "start_time": "2021-06-09T14:08:16.464Z"
   },
   {
    "duration": 14,
    "start_time": "2021-06-09T14:08:47.073Z"
   },
   {
    "duration": 648,
    "start_time": "2021-06-09T14:09:09.106Z"
   },
   {
    "duration": 653,
    "start_time": "2021-06-09T14:09:24.544Z"
   },
   {
    "duration": 2085,
    "start_time": "2021-06-09T14:10:51.569Z"
   },
   {
    "duration": 735,
    "start_time": "2021-06-09T14:11:03.985Z"
   },
   {
    "duration": 956,
    "start_time": "2021-06-09T14:12:21.369Z"
   },
   {
    "duration": 729,
    "start_time": "2021-06-09T14:13:47.105Z"
   },
   {
    "duration": 730,
    "start_time": "2021-06-09T14:14:20.074Z"
   },
   {
    "duration": 1110,
    "start_time": "2021-06-09T14:15:04.960Z"
   },
   {
    "duration": 985,
    "start_time": "2021-06-09T14:15:15.289Z"
   },
   {
    "duration": 958,
    "start_time": "2021-06-09T14:15:24.896Z"
   },
   {
    "duration": 1041,
    "start_time": "2021-06-09T14:17:07.977Z"
   },
   {
    "duration": 2648,
    "start_time": "2021-06-09T14:18:16.009Z"
   },
   {
    "duration": 2151,
    "start_time": "2021-06-09T14:18:41.385Z"
   },
   {
    "duration": 470,
    "start_time": "2021-06-09T14:18:56.489Z"
   },
   {
    "duration": 2229,
    "start_time": "2021-06-09T14:19:19.129Z"
   },
   {
    "duration": 459,
    "start_time": "2021-06-09T14:19:38.642Z"
   },
   {
    "duration": 713,
    "start_time": "2021-06-09T14:20:21.642Z"
   },
   {
    "duration": 492,
    "start_time": "2021-06-09T14:21:18.922Z"
   },
   {
    "duration": 16,
    "start_time": "2021-06-09T14:22:40.480Z"
   },
   {
    "duration": 351,
    "start_time": "2021-06-09T14:25:37.619Z"
   },
   {
    "duration": 268,
    "start_time": "2021-06-09T14:25:49.969Z"
   },
   {
    "duration": 249,
    "start_time": "2021-06-09T14:26:33.745Z"
   },
   {
    "duration": 258,
    "start_time": "2021-06-09T14:26:45.080Z"
   },
   {
    "duration": 364,
    "start_time": "2021-06-09T14:30:13.009Z"
   },
   {
    "duration": 281,
    "start_time": "2021-06-09T14:30:35.858Z"
   },
   {
    "duration": 281,
    "start_time": "2021-06-09T14:30:48.538Z"
   },
   {
    "duration": 259,
    "start_time": "2021-06-09T14:32:03.737Z"
   },
   {
    "duration": 83,
    "start_time": "2021-06-09T14:32:20.547Z"
   },
   {
    "duration": 85,
    "start_time": "2021-06-09T14:32:41.777Z"
   },
   {
    "duration": 272,
    "start_time": "2021-06-09T14:32:48.776Z"
   },
   {
    "duration": 411,
    "start_time": "2021-06-09T14:34:13.706Z"
   },
   {
    "duration": 434,
    "start_time": "2021-06-09T14:34:49.425Z"
   },
   {
    "duration": 432,
    "start_time": "2021-06-09T14:34:56.585Z"
   },
   {
    "duration": 454,
    "start_time": "2021-06-09T14:35:36.873Z"
   },
   {
    "duration": 568,
    "start_time": "2021-06-09T14:35:45.953Z"
   },
   {
    "duration": 461,
    "start_time": "2021-06-09T14:35:58.153Z"
   },
   {
    "duration": 455,
    "start_time": "2021-06-09T14:36:42.506Z"
   },
   {
    "duration": 459,
    "start_time": "2021-06-09T14:37:55.834Z"
   },
   {
    "duration": 453,
    "start_time": "2021-06-09T14:38:42.131Z"
   },
   {
    "duration": 452,
    "start_time": "2021-06-09T14:38:50.833Z"
   },
   {
    "duration": 461,
    "start_time": "2021-06-09T14:38:58.785Z"
   },
   {
    "duration": 465,
    "start_time": "2021-06-09T14:39:21.650Z"
   },
   {
    "duration": 455,
    "start_time": "2021-06-09T14:39:36.338Z"
   },
   {
    "duration": 467,
    "start_time": "2021-06-09T14:39:46.145Z"
   },
   {
    "duration": 464,
    "start_time": "2021-06-09T14:39:55.194Z"
   },
   {
    "duration": 468,
    "start_time": "2021-06-09T14:39:59.393Z"
   },
   {
    "duration": 458,
    "start_time": "2021-06-09T14:40:07.793Z"
   },
   {
    "duration": 681,
    "start_time": "2021-06-09T14:40:27.506Z"
   },
   {
    "duration": 10,
    "start_time": "2021-06-09T14:41:28.714Z"
   },
   {
    "duration": 8,
    "start_time": "2021-06-09T14:42:03.939Z"
   },
   {
    "duration": 482,
    "start_time": "2021-06-09T14:42:24.450Z"
   },
   {
    "duration": 6,
    "start_time": "2021-06-09T14:47:43.802Z"
   },
   {
    "duration": 611,
    "start_time": "2021-06-09T14:48:57.722Z"
   },
   {
    "duration": 641,
    "start_time": "2021-06-09T14:49:59.299Z"
   },
   {
    "duration": 905,
    "start_time": "2021-06-09T14:50:19.354Z"
   },
   {
    "duration": 597,
    "start_time": "2021-06-09T14:50:27.061Z"
   },
   {
    "duration": 1035,
    "start_time": "2021-06-09T14:51:55.979Z"
   },
   {
    "duration": 1005,
    "start_time": "2021-06-09T14:52:05.083Z"
   },
   {
    "duration": 6,
    "start_time": "2021-06-09T14:52:32.146Z"
   },
   {
    "duration": 6,
    "start_time": "2021-06-09T14:53:29.073Z"
   },
   {
    "duration": 10,
    "start_time": "2021-06-09T14:56:53.451Z"
   },
   {
    "duration": 10,
    "start_time": "2021-06-09T14:57:13.036Z"
   },
   {
    "duration": 10,
    "start_time": "2021-06-09T14:57:57.699Z"
   },
   {
    "duration": 643,
    "start_time": "2021-06-09T15:00:25.667Z"
   },
   {
    "duration": 598,
    "start_time": "2021-06-09T15:00:37.084Z"
   },
   {
    "duration": 1050,
    "start_time": "2021-06-09T15:04:09.470Z"
   },
   {
    "duration": 1012,
    "start_time": "2021-06-09T15:06:36.135Z"
   },
   {
    "duration": 1094,
    "start_time": "2021-06-09T15:06:57.981Z"
   },
   {
    "duration": 631,
    "start_time": "2021-06-09T15:08:57.852Z"
   },
   {
    "duration": 1298,
    "start_time": "2021-06-09T15:09:48.708Z"
   },
   {
    "duration": 7,
    "start_time": "2021-06-09T15:10:38.334Z"
   },
   {
    "duration": 23,
    "start_time": "2021-06-09T15:10:41.378Z"
   },
   {
    "duration": 54,
    "start_time": "2021-06-09T15:11:37.875Z"
   },
   {
    "duration": 56,
    "start_time": "2021-06-09T15:12:19.482Z"
   },
   {
    "duration": 35,
    "start_time": "2021-06-09T15:12:53.932Z"
   },
   {
    "duration": 36,
    "start_time": "2021-06-09T15:13:00.676Z"
   },
   {
    "duration": 9,
    "start_time": "2021-06-09T15:14:33.363Z"
   },
   {
    "duration": 13,
    "start_time": "2021-06-09T15:15:08.564Z"
   },
   {
    "duration": 23,
    "start_time": "2021-06-09T15:15:32.931Z"
   },
   {
    "duration": 3,
    "start_time": "2021-06-09T15:30:02.666Z"
   },
   {
    "duration": 57,
    "start_time": "2021-06-09T15:30:02.906Z"
   },
   {
    "duration": 40,
    "start_time": "2021-06-09T15:30:03.628Z"
   },
   {
    "duration": 12,
    "start_time": "2021-06-09T15:30:04.611Z"
   },
   {
    "duration": 23,
    "start_time": "2021-06-09T15:30:07.092Z"
   },
   {
    "duration": 1098,
    "start_time": "2021-06-09T15:32:47.822Z"
   },
   {
    "duration": 5,
    "start_time": "2021-06-09T15:37:20.442Z"
   },
   {
    "duration": 16,
    "start_time": "2021-06-09T15:37:24.403Z"
   },
   {
    "duration": 1276,
    "start_time": "2021-06-09T15:55:20.721Z"
   },
   {
    "duration": 1253,
    "start_time": "2021-06-09T16:01:37.714Z"
   },
   {
    "duration": 1499,
    "start_time": "2021-06-09T17:43:35.329Z"
   },
   {
    "duration": 55,
    "start_time": "2021-06-09T17:43:36.831Z"
   },
   {
    "duration": 38,
    "start_time": "2021-06-09T17:43:36.889Z"
   },
   {
    "duration": 11,
    "start_time": "2021-06-09T17:43:36.930Z"
   },
   {
    "duration": 22,
    "start_time": "2021-06-09T17:43:36.955Z"
   },
   {
    "duration": 919,
    "start_time": "2021-06-09T17:43:36.979Z"
   },
   {
    "duration": 777,
    "start_time": "2021-06-09T17:43:37.900Z"
   },
   {
    "duration": 12,
    "start_time": "2021-06-09T17:43:38.680Z"
   },
   {
    "duration": 774,
    "start_time": "2021-06-09T17:43:38.695Z"
   },
   {
    "duration": 13,
    "start_time": "2021-06-09T17:43:39.472Z"
   }
  ],
  "kernelspec": {
   "display_name": "Python 3",
   "language": "python",
   "name": "python3"
  },
  "language_info": {
   "codemirror_mode": {
    "name": "ipython",
    "version": 3
   },
   "file_extension": ".py",
   "mimetype": "text/x-python",
   "name": "python",
   "nbconvert_exporter": "python",
   "pygments_lexer": "ipython3",
   "version": "3.8.5"
  },
  "toc": {
   "base_numbering": 1,
   "nav_menu": {},
   "number_sections": true,
   "sideBar": true,
   "skip_h1_title": true,
   "title_cell": "Table of Contents",
   "title_sidebar": "Contents",
   "toc_cell": false,
   "toc_position": {
    "height": "calc(100% - 180px)",
    "left": "10px",
    "top": "150px",
    "width": "165px"
   },
   "toc_section_display": true,
   "toc_window_display": false
  }
 },
 "nbformat": 4,
 "nbformat_minor": 2
}
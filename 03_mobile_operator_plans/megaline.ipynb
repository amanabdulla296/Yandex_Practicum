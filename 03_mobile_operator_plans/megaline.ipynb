{
 "cells": [
  {
   "cell_type": "markdown",
   "metadata": {},
   "source": [
    "## Open the data file and have a look at the general information"
   ]
  },
  {
   "cell_type": "code",
   "execution_count": 1,
   "metadata": {},
   "outputs": [
    {
     "name": "stdout",
     "output_type": "stream",
     "text": [
      "Defaulting to user installation because normal site-packages is not writeable\n",
      "Collecting seaborn\n",
      "  Downloading seaborn-0.11.1-py3-none-any.whl (285 kB)\n",
      "\u001b[K     |████████████████████████████████| 285 kB 1.2 MB/s eta 0:00:01\n",
      "\u001b[?25hRequirement already satisfied, skipping upgrade: scipy>=1.0 in /opt/conda/lib/python3.7/site-packages (from seaborn) (1.4.1)\n",
      "Requirement already satisfied, skipping upgrade: pandas>=0.23 in /opt/conda/lib/python3.7/site-packages (from seaborn) (0.25.1)\n",
      "Requirement already satisfied, skipping upgrade: numpy>=1.15 in /opt/conda/lib/python3.7/site-packages (from seaborn) (1.19.5)\n",
      "Requirement already satisfied, skipping upgrade: matplotlib>=2.2 in /opt/conda/lib/python3.7/site-packages (from seaborn) (3.1.0)\n",
      "Requirement already satisfied, skipping upgrade: python-dateutil>=2.6.1 in /opt/conda/lib/python3.7/site-packages (from pandas>=0.23->seaborn) (2.8.1)\n",
      "Requirement already satisfied, skipping upgrade: pytz>=2017.2 in /opt/conda/lib/python3.7/site-packages (from pandas>=0.23->seaborn) (2021.1)\n",
      "Requirement already satisfied, skipping upgrade: cycler>=0.10 in /opt/conda/lib/python3.7/site-packages (from matplotlib>=2.2->seaborn) (0.10.0)\n",
      "Requirement already satisfied, skipping upgrade: pyparsing!=2.0.4,!=2.1.2,!=2.1.6,>=2.0.1 in /opt/conda/lib/python3.7/site-packages (from matplotlib>=2.2->seaborn) (2.4.7)\n",
      "Requirement already satisfied, skipping upgrade: kiwisolver>=1.0.1 in /opt/conda/lib/python3.7/site-packages (from matplotlib>=2.2->seaborn) (1.3.1)\n",
      "Requirement already satisfied, skipping upgrade: six>=1.5 in /opt/conda/lib/python3.7/site-packages (from python-dateutil>=2.6.1->pandas>=0.23->seaborn) (1.15.0)\n",
      "Installing collected packages: seaborn\n",
      "Successfully installed seaborn-0.11.1\n"
     ]
    }
   ],
   "source": [
    "# update seaborn library to use latest features\n",
    "###########################################  WARNING!!!!! #####################################\n",
    "####################### You may need to restart the kernel, otherwise in Section 3 seaborn will not plot histograms!!\n",
    "try:\n",
    "    !pip install seaborn --upgrade\n",
    "except:\n",
    "    print('Your seaborn was already updated! or Something else went wrong!')"
   ]
  },
  {
   "cell_type": "code",
   "execution_count": 2,
   "metadata": {},
   "outputs": [],
   "source": [
    "# necessary libraries\n",
    "import pandas as pd\n",
    "import numpy as np\n",
    "import math\n",
    "import scipy.stats as st\n",
    "import matplotlib.pyplot as plt\n",
    "%matplotlib inline\n",
    "import seaborn as sns\n",
    "\n",
    "#ignore warnings\n",
    "import warnings\n",
    "warnings.filterwarnings('ignore')"
   ]
  },
  {
   "cell_type": "code",
   "execution_count": 3,
   "metadata": {},
   "outputs": [
    {
     "name": "stdout",
     "output_type": "stream",
     "text": [
      "All files were imported succesfully!\n"
     ]
    }
   ],
   "source": [
    "# load csv files with try-except\n",
    "try:\n",
    "    \n",
    "    calls = pd.read_csv('/datasets/megaline_calls.csv')\n",
    "    internet = pd.read_csv('/datasets/megaline_internet.csv')\n",
    "    messages = pd.read_csv('/datasets/megaline_messages.csv')\n",
    "    plans = pd.read_csv('/datasets/megaline_plans.csv')\n",
    "    users = pd.read_csv('/datasets/megaline_users.csv')\n",
    "    print('All files were imported succesfully!')\n",
    "except:\n",
    "    print('Something went wrong! Please, check the file paths!')"
   ]
  },
  {
   "cell_type": "code",
   "execution_count": 4,
   "metadata": {
    "scrolled": true
   },
   "outputs": [
    {
     "data": {
      "text/html": [
       "<div>\n",
       "<style scoped>\n",
       "    .dataframe tbody tr th:only-of-type {\n",
       "        vertical-align: middle;\n",
       "    }\n",
       "\n",
       "    .dataframe tbody tr th {\n",
       "        vertical-align: top;\n",
       "    }\n",
       "\n",
       "    .dataframe thead th {\n",
       "        text-align: right;\n",
       "    }\n",
       "</style>\n",
       "<table border=\"1\" class=\"dataframe\">\n",
       "  <thead>\n",
       "    <tr style=\"text-align: right;\">\n",
       "      <th></th>\n",
       "      <th>id</th>\n",
       "      <th>user_id</th>\n",
       "      <th>call_date</th>\n",
       "      <th>duration</th>\n",
       "    </tr>\n",
       "  </thead>\n",
       "  <tbody>\n",
       "    <tr>\n",
       "      <td>0</td>\n",
       "      <td>1000_93</td>\n",
       "      <td>1000</td>\n",
       "      <td>2018-12-27</td>\n",
       "      <td>8.52</td>\n",
       "    </tr>\n",
       "    <tr>\n",
       "      <td>1</td>\n",
       "      <td>1000_145</td>\n",
       "      <td>1000</td>\n",
       "      <td>2018-12-27</td>\n",
       "      <td>13.66</td>\n",
       "    </tr>\n",
       "    <tr>\n",
       "      <td>2</td>\n",
       "      <td>1000_247</td>\n",
       "      <td>1000</td>\n",
       "      <td>2018-12-27</td>\n",
       "      <td>14.48</td>\n",
       "    </tr>\n",
       "  </tbody>\n",
       "</table>\n",
       "</div>"
      ],
      "text/plain": [
       "         id  user_id   call_date  duration\n",
       "0   1000_93     1000  2018-12-27      8.52\n",
       "1  1000_145     1000  2018-12-27     13.66\n",
       "2  1000_247     1000  2018-12-27     14.48"
      ]
     },
     "metadata": {},
     "output_type": "display_data"
    },
    {
     "name": "stdout",
     "output_type": "stream",
     "text": [
      "<class 'pandas.core.frame.DataFrame'>\n",
      "RangeIndex: 137735 entries, 0 to 137734\n",
      "Data columns (total 4 columns):\n",
      "id           137735 non-null object\n",
      "user_id      137735 non-null int64\n",
      "call_date    137735 non-null object\n",
      "duration     137735 non-null float64\n",
      "dtypes: float64(1), int64(1), object(2)\n",
      "memory usage: 4.2+ MB\n",
      "\n",
      "==================================================\n"
     ]
    },
    {
     "data": {
      "text/html": [
       "<div>\n",
       "<style scoped>\n",
       "    .dataframe tbody tr th:only-of-type {\n",
       "        vertical-align: middle;\n",
       "    }\n",
       "\n",
       "    .dataframe tbody tr th {\n",
       "        vertical-align: top;\n",
       "    }\n",
       "\n",
       "    .dataframe thead th {\n",
       "        text-align: right;\n",
       "    }\n",
       "</style>\n",
       "<table border=\"1\" class=\"dataframe\">\n",
       "  <thead>\n",
       "    <tr style=\"text-align: right;\">\n",
       "      <th></th>\n",
       "      <th>id</th>\n",
       "      <th>user_id</th>\n",
       "      <th>session_date</th>\n",
       "      <th>mb_used</th>\n",
       "    </tr>\n",
       "  </thead>\n",
       "  <tbody>\n",
       "    <tr>\n",
       "      <td>0</td>\n",
       "      <td>1000_13</td>\n",
       "      <td>1000</td>\n",
       "      <td>2018-12-29</td>\n",
       "      <td>89.86</td>\n",
       "    </tr>\n",
       "    <tr>\n",
       "      <td>1</td>\n",
       "      <td>1000_204</td>\n",
       "      <td>1000</td>\n",
       "      <td>2018-12-31</td>\n",
       "      <td>0.00</td>\n",
       "    </tr>\n",
       "    <tr>\n",
       "      <td>2</td>\n",
       "      <td>1000_379</td>\n",
       "      <td>1000</td>\n",
       "      <td>2018-12-28</td>\n",
       "      <td>660.40</td>\n",
       "    </tr>\n",
       "  </tbody>\n",
       "</table>\n",
       "</div>"
      ],
      "text/plain": [
       "         id  user_id session_date  mb_used\n",
       "0   1000_13     1000   2018-12-29    89.86\n",
       "1  1000_204     1000   2018-12-31     0.00\n",
       "2  1000_379     1000   2018-12-28   660.40"
      ]
     },
     "metadata": {},
     "output_type": "display_data"
    },
    {
     "name": "stdout",
     "output_type": "stream",
     "text": [
      "<class 'pandas.core.frame.DataFrame'>\n",
      "RangeIndex: 104825 entries, 0 to 104824\n",
      "Data columns (total 4 columns):\n",
      "id              104825 non-null object\n",
      "user_id         104825 non-null int64\n",
      "session_date    104825 non-null object\n",
      "mb_used         104825 non-null float64\n",
      "dtypes: float64(1), int64(1), object(2)\n",
      "memory usage: 3.2+ MB\n",
      "\n",
      "==================================================\n"
     ]
    },
    {
     "data": {
      "text/html": [
       "<div>\n",
       "<style scoped>\n",
       "    .dataframe tbody tr th:only-of-type {\n",
       "        vertical-align: middle;\n",
       "    }\n",
       "\n",
       "    .dataframe tbody tr th {\n",
       "        vertical-align: top;\n",
       "    }\n",
       "\n",
       "    .dataframe thead th {\n",
       "        text-align: right;\n",
       "    }\n",
       "</style>\n",
       "<table border=\"1\" class=\"dataframe\">\n",
       "  <thead>\n",
       "    <tr style=\"text-align: right;\">\n",
       "      <th></th>\n",
       "      <th>id</th>\n",
       "      <th>user_id</th>\n",
       "      <th>message_date</th>\n",
       "    </tr>\n",
       "  </thead>\n",
       "  <tbody>\n",
       "    <tr>\n",
       "      <td>0</td>\n",
       "      <td>1000_125</td>\n",
       "      <td>1000</td>\n",
       "      <td>2018-12-27</td>\n",
       "    </tr>\n",
       "    <tr>\n",
       "      <td>1</td>\n",
       "      <td>1000_160</td>\n",
       "      <td>1000</td>\n",
       "      <td>2018-12-31</td>\n",
       "    </tr>\n",
       "    <tr>\n",
       "      <td>2</td>\n",
       "      <td>1000_223</td>\n",
       "      <td>1000</td>\n",
       "      <td>2018-12-31</td>\n",
       "    </tr>\n",
       "  </tbody>\n",
       "</table>\n",
       "</div>"
      ],
      "text/plain": [
       "         id  user_id message_date\n",
       "0  1000_125     1000   2018-12-27\n",
       "1  1000_160     1000   2018-12-31\n",
       "2  1000_223     1000   2018-12-31"
      ]
     },
     "metadata": {},
     "output_type": "display_data"
    },
    {
     "name": "stdout",
     "output_type": "stream",
     "text": [
      "<class 'pandas.core.frame.DataFrame'>\n",
      "RangeIndex: 76051 entries, 0 to 76050\n",
      "Data columns (total 3 columns):\n",
      "id              76051 non-null object\n",
      "user_id         76051 non-null int64\n",
      "message_date    76051 non-null object\n",
      "dtypes: int64(1), object(2)\n",
      "memory usage: 1.7+ MB\n",
      "\n",
      "==================================================\n"
     ]
    },
    {
     "data": {
      "text/html": [
       "<div>\n",
       "<style scoped>\n",
       "    .dataframe tbody tr th:only-of-type {\n",
       "        vertical-align: middle;\n",
       "    }\n",
       "\n",
       "    .dataframe tbody tr th {\n",
       "        vertical-align: top;\n",
       "    }\n",
       "\n",
       "    .dataframe thead th {\n",
       "        text-align: right;\n",
       "    }\n",
       "</style>\n",
       "<table border=\"1\" class=\"dataframe\">\n",
       "  <thead>\n",
       "    <tr style=\"text-align: right;\">\n",
       "      <th></th>\n",
       "      <th>messages_included</th>\n",
       "      <th>mb_per_month_included</th>\n",
       "      <th>minutes_included</th>\n",
       "      <th>usd_monthly_pay</th>\n",
       "      <th>usd_per_gb</th>\n",
       "      <th>usd_per_message</th>\n",
       "      <th>usd_per_minute</th>\n",
       "      <th>plan_name</th>\n",
       "    </tr>\n",
       "  </thead>\n",
       "  <tbody>\n",
       "    <tr>\n",
       "      <td>0</td>\n",
       "      <td>50</td>\n",
       "      <td>15360</td>\n",
       "      <td>500</td>\n",
       "      <td>20</td>\n",
       "      <td>10</td>\n",
       "      <td>0.03</td>\n",
       "      <td>0.03</td>\n",
       "      <td>surf</td>\n",
       "    </tr>\n",
       "    <tr>\n",
       "      <td>1</td>\n",
       "      <td>1000</td>\n",
       "      <td>30720</td>\n",
       "      <td>3000</td>\n",
       "      <td>70</td>\n",
       "      <td>7</td>\n",
       "      <td>0.01</td>\n",
       "      <td>0.01</td>\n",
       "      <td>ultimate</td>\n",
       "    </tr>\n",
       "  </tbody>\n",
       "</table>\n",
       "</div>"
      ],
      "text/plain": [
       "   messages_included  mb_per_month_included  minutes_included  \\\n",
       "0                 50                  15360               500   \n",
       "1               1000                  30720              3000   \n",
       "\n",
       "   usd_monthly_pay  usd_per_gb  usd_per_message  usd_per_minute plan_name  \n",
       "0               20          10             0.03            0.03      surf  \n",
       "1               70           7             0.01            0.01  ultimate  "
      ]
     },
     "metadata": {},
     "output_type": "display_data"
    },
    {
     "name": "stdout",
     "output_type": "stream",
     "text": [
      "<class 'pandas.core.frame.DataFrame'>\n",
      "RangeIndex: 2 entries, 0 to 1\n",
      "Data columns (total 8 columns):\n",
      "messages_included        2 non-null int64\n",
      "mb_per_month_included    2 non-null int64\n",
      "minutes_included         2 non-null int64\n",
      "usd_monthly_pay          2 non-null int64\n",
      "usd_per_gb               2 non-null int64\n",
      "usd_per_message          2 non-null float64\n",
      "usd_per_minute           2 non-null float64\n",
      "plan_name                2 non-null object\n",
      "dtypes: float64(2), int64(5), object(1)\n",
      "memory usage: 256.0+ bytes\n",
      "\n",
      "==================================================\n"
     ]
    },
    {
     "data": {
      "text/html": [
       "<div>\n",
       "<style scoped>\n",
       "    .dataframe tbody tr th:only-of-type {\n",
       "        vertical-align: middle;\n",
       "    }\n",
       "\n",
       "    .dataframe tbody tr th {\n",
       "        vertical-align: top;\n",
       "    }\n",
       "\n",
       "    .dataframe thead th {\n",
       "        text-align: right;\n",
       "    }\n",
       "</style>\n",
       "<table border=\"1\" class=\"dataframe\">\n",
       "  <thead>\n",
       "    <tr style=\"text-align: right;\">\n",
       "      <th></th>\n",
       "      <th>user_id</th>\n",
       "      <th>first_name</th>\n",
       "      <th>last_name</th>\n",
       "      <th>age</th>\n",
       "      <th>city</th>\n",
       "      <th>reg_date</th>\n",
       "      <th>plan</th>\n",
       "      <th>churn_date</th>\n",
       "    </tr>\n",
       "  </thead>\n",
       "  <tbody>\n",
       "    <tr>\n",
       "      <td>0</td>\n",
       "      <td>1000</td>\n",
       "      <td>Anamaria</td>\n",
       "      <td>Bauer</td>\n",
       "      <td>45</td>\n",
       "      <td>Atlanta-Sandy Springs-Roswell, GA MSA</td>\n",
       "      <td>2018-12-24</td>\n",
       "      <td>ultimate</td>\n",
       "      <td>NaN</td>\n",
       "    </tr>\n",
       "    <tr>\n",
       "      <td>1</td>\n",
       "      <td>1001</td>\n",
       "      <td>Mickey</td>\n",
       "      <td>Wilkerson</td>\n",
       "      <td>28</td>\n",
       "      <td>Seattle-Tacoma-Bellevue, WA MSA</td>\n",
       "      <td>2018-08-13</td>\n",
       "      <td>surf</td>\n",
       "      <td>NaN</td>\n",
       "    </tr>\n",
       "    <tr>\n",
       "      <td>2</td>\n",
       "      <td>1002</td>\n",
       "      <td>Carlee</td>\n",
       "      <td>Hoffman</td>\n",
       "      <td>36</td>\n",
       "      <td>Las Vegas-Henderson-Paradise, NV MSA</td>\n",
       "      <td>2018-10-21</td>\n",
       "      <td>surf</td>\n",
       "      <td>NaN</td>\n",
       "    </tr>\n",
       "  </tbody>\n",
       "</table>\n",
       "</div>"
      ],
      "text/plain": [
       "   user_id first_name  last_name  age                                   city  \\\n",
       "0     1000   Anamaria      Bauer   45  Atlanta-Sandy Springs-Roswell, GA MSA   \n",
       "1     1001     Mickey  Wilkerson   28        Seattle-Tacoma-Bellevue, WA MSA   \n",
       "2     1002     Carlee    Hoffman   36   Las Vegas-Henderson-Paradise, NV MSA   \n",
       "\n",
       "     reg_date      plan churn_date  \n",
       "0  2018-12-24  ultimate        NaN  \n",
       "1  2018-08-13      surf        NaN  \n",
       "2  2018-10-21      surf        NaN  "
      ]
     },
     "metadata": {},
     "output_type": "display_data"
    },
    {
     "name": "stdout",
     "output_type": "stream",
     "text": [
      "<class 'pandas.core.frame.DataFrame'>\n",
      "RangeIndex: 500 entries, 0 to 499\n",
      "Data columns (total 8 columns):\n",
      "user_id       500 non-null int64\n",
      "first_name    500 non-null object\n",
      "last_name     500 non-null object\n",
      "age           500 non-null int64\n",
      "city          500 non-null object\n",
      "reg_date      500 non-null object\n",
      "plan          500 non-null object\n",
      "churn_date    34 non-null object\n",
      "dtypes: int64(2), object(6)\n",
      "memory usage: 31.4+ KB\n",
      "\n",
      "==================================================\n"
     ]
    }
   ],
   "source": [
    "# a loop to retrieve first 3 rows and information about the columnsof each csv file \n",
    "for i in [calls, internet, messages, plans, users]:\n",
    "    display(i.head(3))\n",
    "    i.info()\n",
    "    print()\n",
    "    print('='*50)"
   ]
  },
  {
   "cell_type": "markdown",
   "metadata": {},
   "source": [
    "### Conclusion"
   ]
  },
  {
   "cell_type": "markdown",
   "metadata": {},
   "source": [
    "Required libraries were imported and all CSV files containing data for analysis were loaded.\n",
    "- The **calls**, **internet** and **messages** files contain the id of every call, internet session and message, respectively, which was made by a user. The **users** file contains information about each user and the plan they are using. The **plans** file contains information about what included in each plan and how much will be customers charged if they exceed the limit.\n",
    "\n",
    "The issue have been observed so far is that date columns in all files are loaded as **object** type. We will need to convert them into **datetime** data type."
   ]
  },
  {
   "cell_type": "markdown",
   "metadata": {},
   "source": [
    "---"
   ]
  },
  {
   "cell_type": "markdown",
   "metadata": {},
   "source": [
    "## Data preprocessing\n",
    "In this step, necessary data type conversions, checking for missing and duplicate values will be performed."
   ]
  },
  {
   "cell_type": "markdown",
   "metadata": {},
   "source": [
    "### Convert the data to the necessary types\n",
    "It was observed in the section 1, that all date containing columns have a data type of **object**. Let's convert them into **datetime** data type of python."
   ]
  },
  {
   "cell_type": "code",
   "execution_count": 5,
   "metadata": {
    "scrolled": true
   },
   "outputs": [
    {
     "name": "stdout",
     "output_type": "stream",
     "text": [
      "<class 'pandas.core.frame.DataFrame'>\n",
      "RangeIndex: 137735 entries, 0 to 137734\n",
      "Data columns (total 4 columns):\n",
      "id           137735 non-null object\n",
      "user_id      137735 non-null int64\n",
      "call_date    137735 non-null datetime64[ns]\n",
      "duration     137735 non-null float64\n",
      "dtypes: datetime64[ns](1), float64(1), int64(1), object(1)\n",
      "memory usage: 4.2+ MB\n"
     ]
    }
   ],
   "source": [
    "# convert all date columns from 'obj' to 'datetime'\n",
    "calls['call_date'] = pd.to_datetime(calls['call_date'], format='%Y-%m-%d', errors='coerce')\n",
    "internet['session_date'] = pd.to_datetime(internet['session_date'], format='%Y-%m-%d', errors='coerce')\n",
    "messages['message_date'] = pd.to_datetime(messages['message_date'], format='%Y-%m-%d', errors='coerce')\n",
    "users['reg_date'] = pd.to_datetime(users['reg_date'], format='%Y-%m-%d', errors='coerce')\n",
    "users['churn_date'] = pd.to_datetime(users['churn_date'], format='%Y-%m-%d', errors='coerce')\n",
    "\n",
    "#check calls data if it worked\n",
    "calls.info()"
   ]
  },
  {
   "cell_type": "markdown",
   "metadata": {},
   "source": [
    "### Find and eliminate errors in the data\n",
    "Let's check if the data files contains missing or duplicated values. If they exist we will fix them."
   ]
  },
  {
   "cell_type": "code",
   "execution_count": 6,
   "metadata": {
    "scrolled": true
   },
   "outputs": [
    {
     "data": {
      "text/plain": [
       "id           0\n",
       "user_id      0\n",
       "call_date    0\n",
       "duration     0\n",
       "dtype: int64"
      ]
     },
     "metadata": {},
     "output_type": "display_data"
    },
    {
     "name": "stdout",
     "output_type": "stream",
     "text": [
      "Duplicated number of rows: 0\n",
      "==================================================\n"
     ]
    },
    {
     "data": {
      "text/plain": [
       "id              0\n",
       "user_id         0\n",
       "session_date    0\n",
       "mb_used         0\n",
       "dtype: int64"
      ]
     },
     "metadata": {},
     "output_type": "display_data"
    },
    {
     "name": "stdout",
     "output_type": "stream",
     "text": [
      "Duplicated number of rows: 0\n",
      "==================================================\n"
     ]
    },
    {
     "data": {
      "text/plain": [
       "id              0\n",
       "user_id         0\n",
       "message_date    0\n",
       "dtype: int64"
      ]
     },
     "metadata": {},
     "output_type": "display_data"
    },
    {
     "name": "stdout",
     "output_type": "stream",
     "text": [
      "Duplicated number of rows: 0\n",
      "==================================================\n"
     ]
    },
    {
     "data": {
      "text/plain": [
       "messages_included        0\n",
       "mb_per_month_included    0\n",
       "minutes_included         0\n",
       "usd_monthly_pay          0\n",
       "usd_per_gb               0\n",
       "usd_per_message          0\n",
       "usd_per_minute           0\n",
       "plan_name                0\n",
       "dtype: int64"
      ]
     },
     "metadata": {},
     "output_type": "display_data"
    },
    {
     "name": "stdout",
     "output_type": "stream",
     "text": [
      "Duplicated number of rows: 0\n",
      "==================================================\n"
     ]
    },
    {
     "data": {
      "text/plain": [
       "user_id         0\n",
       "first_name      0\n",
       "last_name       0\n",
       "age             0\n",
       "city            0\n",
       "reg_date        0\n",
       "plan            0\n",
       "churn_date    466\n",
       "dtype: int64"
      ]
     },
     "metadata": {},
     "output_type": "display_data"
    },
    {
     "name": "stdout",
     "output_type": "stream",
     "text": [
      "Duplicated number of rows: 0\n",
      "==================================================\n"
     ]
    }
   ],
   "source": [
    "# a loop to check missing and duplicated values in each data file\n",
    "for i in [calls, internet, messages, plans, users]:\n",
    "    display(i.isna().sum())\n",
    "    print('Duplicated number of rows:', i.duplicated().sum())\n",
    "    print('='*50)"
   ]
  },
  {
   "cell_type": "markdown",
   "metadata": {},
   "source": [
    "> Perfect! Our data in perfect condition, no duplicates, no missing except the **churn_date** column of the **users** data. In the description of the task, it is already mentioned that if the **churn_date** is missing, then these users used the plan until the end. Therefore, we can fill missing values of **churn_date** with the last day of the data collection, which was done in 2018."
   ]
  },
  {
   "cell_type": "code",
   "execution_count": 7,
   "metadata": {},
   "outputs": [
    {
     "data": {
      "text/plain": [
       "0"
      ]
     },
     "execution_count": 7,
     "metadata": {},
     "output_type": "execute_result"
    }
   ],
   "source": [
    "# fill the missing values with 2018-12-31 (the last day of data anlysis period)\n",
    "users['churn_date']=users['churn_date'].fillna(pd.to_datetime('2018-12-31'))\n",
    "users.churn_date.isna().sum() #check if it worked"
   ]
  },
  {
   "cell_type": "markdown",
   "metadata": {},
   "source": [
    "> As we have seen from head rows of each data file, there were zero values in call duration and internet mb_used columns. Let's calculate how much % of rows have zero value."
   ]
  },
  {
   "cell_type": "code",
   "execution_count": 8,
   "metadata": {},
   "outputs": [
    {
     "name": "stdout",
     "output_type": "stream",
     "text": [
      "Percentage of rows where call duration is equal to zero: 19.48 %\n",
      "Percentage of rows where mb_used is equal to zero: 9.98 %\n"
     ]
    }
   ],
   "source": [
    "print('Percentage of rows where call duration is equal to zero:',\\\n",
    "      round(len(calls[calls['duration']==0])/len(calls)*100, 2),'%')\n",
    "\n",
    "print('Percentage of rows where mb_used is equal to zero:',\\\n",
    "      round(len(internet[internet['mb_used']==0])/len(calls)*100, 2),'%')"
   ]
  },
  {
   "cell_type": "markdown",
   "metadata": {},
   "source": [
    "> These are pretty much amount of data. These issues might be originating from the precision of \"call duration counter\" or \"internet volume counter\". For example, a user calls someone and hang up very quickly, i.e. just several milliseconds, and \"call duration counter\" counted it as zero.  For now, let's add 1 to all rows where duration or mb_used is equal to zero. This is reasonable because we know that Megaline rounds up seconds to minutes, regardless of how many seconds it is (even it is 0.1 seconds.).\n",
    "The same goes for the internet volume counter. For example, the internet session might be only several kb, and it is less than 0.01 Mb and therefore it is registered as zero. Let's assign all rows with 0 Mb of data as 0.01 Mb of data because the mb_used column has 0.01 as the smallest value."
   ]
  },
  {
   "cell_type": "code",
   "execution_count": 9,
   "metadata": {},
   "outputs": [
    {
     "name": "stdout",
     "output_type": "stream",
     "text": [
      "Mission was successfully completed!\n"
     ]
    }
   ],
   "source": [
    "try:\n",
    "    calls['duration'] = np.where(calls['duration'] == 0, 1, calls['duration'])\n",
    "    internet['mb_used'] = np.where(internet['mb_used'] == 0, 0.01, internet['mb_used'])\n",
    "    print('Mission was successfully completed!')\n",
    "except:\n",
    "    print('Check your code for typos or syntax error!')"
   ]
  },
  {
   "cell_type": "markdown",
   "metadata": {},
   "source": [
    "### The number of calls made and minutes used per month per user\n",
    "In this step, we will find the total call minutes made by each user every month by adding individual call durations. However, we should remember that for calls, each individual call is rounded up: even if the call lasted just one second, it will be counted as one minute!"
   ]
  },
  {
   "cell_type": "code",
   "execution_count": 10,
   "metadata": {
    "scrolled": false
   },
   "outputs": [
    {
     "data": {
      "text/html": [
       "<div>\n",
       "<style scoped>\n",
       "    .dataframe tbody tr th:only-of-type {\n",
       "        vertical-align: middle;\n",
       "    }\n",
       "\n",
       "    .dataframe tbody tr th {\n",
       "        vertical-align: top;\n",
       "    }\n",
       "\n",
       "    .dataframe thead th {\n",
       "        text-align: right;\n",
       "    }\n",
       "</style>\n",
       "<table border=\"1\" class=\"dataframe\">\n",
       "  <thead>\n",
       "    <tr style=\"text-align: right;\">\n",
       "      <th></th>\n",
       "      <th>id</th>\n",
       "      <th>user_id</th>\n",
       "      <th>call_date</th>\n",
       "      <th>duration</th>\n",
       "    </tr>\n",
       "  </thead>\n",
       "  <tbody>\n",
       "    <tr>\n",
       "      <td>0</td>\n",
       "      <td>1000_93</td>\n",
       "      <td>1000</td>\n",
       "      <td>2018-12-27</td>\n",
       "      <td>9.0</td>\n",
       "    </tr>\n",
       "    <tr>\n",
       "      <td>1</td>\n",
       "      <td>1000_145</td>\n",
       "      <td>1000</td>\n",
       "      <td>2018-12-27</td>\n",
       "      <td>14.0</td>\n",
       "    </tr>\n",
       "    <tr>\n",
       "      <td>2</td>\n",
       "      <td>1000_247</td>\n",
       "      <td>1000</td>\n",
       "      <td>2018-12-27</td>\n",
       "      <td>15.0</td>\n",
       "    </tr>\n",
       "  </tbody>\n",
       "</table>\n",
       "</div>"
      ],
      "text/plain": [
       "         id  user_id  call_date  duration\n",
       "0   1000_93     1000 2018-12-27       9.0\n",
       "1  1000_145     1000 2018-12-27      14.0\n",
       "2  1000_247     1000 2018-12-27      15.0"
      ]
     },
     "execution_count": 10,
     "metadata": {},
     "output_type": "execute_result"
    }
   ],
   "source": [
    "# round the seconds to minutes in call durations\n",
    "calls['duration'] = calls['duration'].apply(np.ceil)\n",
    "#check the result\n",
    "calls.head(3)"
   ]
  },
  {
   "cell_type": "code",
   "execution_count": 11,
   "metadata": {
    "scrolled": true
   },
   "outputs": [
    {
     "data": {
      "text/html": [
       "<div>\n",
       "<style scoped>\n",
       "    .dataframe tbody tr th:only-of-type {\n",
       "        vertical-align: middle;\n",
       "    }\n",
       "\n",
       "    .dataframe tbody tr th {\n",
       "        vertical-align: top;\n",
       "    }\n",
       "\n",
       "    .dataframe thead th {\n",
       "        text-align: right;\n",
       "    }\n",
       "</style>\n",
       "<table border=\"1\" class=\"dataframe\">\n",
       "  <thead>\n",
       "    <tr style=\"text-align: right;\">\n",
       "      <th></th>\n",
       "      <th>user_id</th>\n",
       "      <th>month</th>\n",
       "      <th>call_counts</th>\n",
       "      <th>total_mins</th>\n",
       "    </tr>\n",
       "  </thead>\n",
       "  <tbody>\n",
       "    <tr>\n",
       "      <td>0</td>\n",
       "      <td>1000</td>\n",
       "      <td>12</td>\n",
       "      <td>16</td>\n",
       "      <td>124.0</td>\n",
       "    </tr>\n",
       "    <tr>\n",
       "      <td>1</td>\n",
       "      <td>1001</td>\n",
       "      <td>8</td>\n",
       "      <td>27</td>\n",
       "      <td>187.0</td>\n",
       "    </tr>\n",
       "    <tr>\n",
       "      <td>2</td>\n",
       "      <td>1001</td>\n",
       "      <td>9</td>\n",
       "      <td>49</td>\n",
       "      <td>326.0</td>\n",
       "    </tr>\n",
       "  </tbody>\n",
       "</table>\n",
       "</div>"
      ],
      "text/plain": [
       "   user_id  month  call_counts  total_mins\n",
       "0     1000     12           16       124.0\n",
       "1     1001      8           27       187.0\n",
       "2     1001      9           49       326.0"
      ]
     },
     "execution_count": 11,
     "metadata": {},
     "output_type": "execute_result"
    }
   ],
   "source": [
    "# add individual call durations, to get a total monthly minues for each user\n",
    "#reset index to get rid of multiindexing\n",
    "monthly_calls = calls.groupby(\n",
    "    ['user_id', calls['call_date'].dt.month])['duration'].agg(['count', 'sum'])\\\n",
    "    .reset_index()\n",
    "#rename column names and check the results!\n",
    "monthly_calls.rename(columns={'call_date':'month', 'count':'call_counts', 'sum':'total_mins'}, inplace=True)\n",
    "monthly_calls.head(3)"
   ]
  },
  {
   "cell_type": "markdown",
   "metadata": {},
   "source": [
    "### The number of text messages sent per month per user\n",
    "In order to get monthly messages used by each user, count individual messages."
   ]
  },
  {
   "cell_type": "code",
   "execution_count": 12,
   "metadata": {
    "scrolled": true
   },
   "outputs": [
    {
     "data": {
      "text/html": [
       "<div>\n",
       "<style scoped>\n",
       "    .dataframe tbody tr th:only-of-type {\n",
       "        vertical-align: middle;\n",
       "    }\n",
       "\n",
       "    .dataframe tbody tr th {\n",
       "        vertical-align: top;\n",
       "    }\n",
       "\n",
       "    .dataframe thead th {\n",
       "        text-align: right;\n",
       "    }\n",
       "</style>\n",
       "<table border=\"1\" class=\"dataframe\">\n",
       "  <thead>\n",
       "    <tr style=\"text-align: right;\">\n",
       "      <th></th>\n",
       "      <th>user_id</th>\n",
       "      <th>month</th>\n",
       "      <th>total_msg</th>\n",
       "    </tr>\n",
       "  </thead>\n",
       "  <tbody>\n",
       "    <tr>\n",
       "      <td>0</td>\n",
       "      <td>1000</td>\n",
       "      <td>12</td>\n",
       "      <td>11</td>\n",
       "    </tr>\n",
       "    <tr>\n",
       "      <td>1</td>\n",
       "      <td>1001</td>\n",
       "      <td>8</td>\n",
       "      <td>30</td>\n",
       "    </tr>\n",
       "    <tr>\n",
       "      <td>2</td>\n",
       "      <td>1001</td>\n",
       "      <td>9</td>\n",
       "      <td>44</td>\n",
       "    </tr>\n",
       "  </tbody>\n",
       "</table>\n",
       "</div>"
      ],
      "text/plain": [
       "   user_id  month  total_msg\n",
       "0     1000     12         11\n",
       "1     1001      8         30\n",
       "2     1001      9         44"
      ]
     },
     "execution_count": 12,
     "metadata": {},
     "output_type": "execute_result"
    }
   ],
   "source": [
    "# count number of messages sent by each user every month\n",
    "monthly_messages = messages.groupby(\n",
    "    ['user_id', messages['message_date'].dt.month])['id'].agg('count')\\\n",
    "    .reset_index()\n",
    "\n",
    "#rename columns and check the result\n",
    "monthly_messages.rename(columns={'message_date':'month', 'id':'total_msg'}, inplace=True)\n",
    "monthly_messages.head(3)"
   ]
  },
  {
   "cell_type": "markdown",
   "metadata": {},
   "source": [
    "### The volume of data per month per user\n",
    "\n",
    "We will calculate the total volume of data that was used by each customer every month. \n",
    "\n",
    "In contrast to call durations, for web traffic, individual web sessions are not rounded up. Instead, the total for the month is rounded up. If someone uses 1025 megabytes this month, they will be charged for 2 gigabytes."
   ]
  },
  {
   "cell_type": "code",
   "execution_count": 13,
   "metadata": {
    "scrolled": false
   },
   "outputs": [
    {
     "data": {
      "text/html": [
       "<div>\n",
       "<style scoped>\n",
       "    .dataframe tbody tr th:only-of-type {\n",
       "        vertical-align: middle;\n",
       "    }\n",
       "\n",
       "    .dataframe tbody tr th {\n",
       "        vertical-align: top;\n",
       "    }\n",
       "\n",
       "    .dataframe thead th {\n",
       "        text-align: right;\n",
       "    }\n",
       "</style>\n",
       "<table border=\"1\" class=\"dataframe\">\n",
       "  <thead>\n",
       "    <tr style=\"text-align: right;\">\n",
       "      <th></th>\n",
       "      <th>user_id</th>\n",
       "      <th>month</th>\n",
       "      <th>total_mb</th>\n",
       "    </tr>\n",
       "  </thead>\n",
       "  <tbody>\n",
       "    <tr>\n",
       "      <td>0</td>\n",
       "      <td>1000</td>\n",
       "      <td>12</td>\n",
       "      <td>1901.48</td>\n",
       "    </tr>\n",
       "    <tr>\n",
       "      <td>1</td>\n",
       "      <td>1001</td>\n",
       "      <td>8</td>\n",
       "      <td>6919.19</td>\n",
       "    </tr>\n",
       "    <tr>\n",
       "      <td>2</td>\n",
       "      <td>1001</td>\n",
       "      <td>9</td>\n",
       "      <td>13314.95</td>\n",
       "    </tr>\n",
       "  </tbody>\n",
       "</table>\n",
       "</div>"
      ],
      "text/plain": [
       "   user_id  month  total_mb\n",
       "0     1000     12   1901.48\n",
       "1     1001      8   6919.19\n",
       "2     1001      9  13314.95"
      ]
     },
     "execution_count": 13,
     "metadata": {},
     "output_type": "execute_result"
    }
   ],
   "source": [
    "# total volume of internet traffic for each user for every month\n",
    "monthly_internet = internet.groupby(\n",
    "    ['user_id', internet['session_date'].dt.month])['mb_used'].agg('sum').reset_index()\n",
    "\n",
    "#rename the columns and check the result\n",
    "monthly_internet.rename(columns={'session_date':'month', 'mb_used':'total_mb'}, inplace=True)\n",
    "monthly_internet.head(3)"
   ]
  },
  {
   "cell_type": "code",
   "execution_count": 14,
   "metadata": {},
   "outputs": [
    {
     "data": {
      "text/html": [
       "<div>\n",
       "<style scoped>\n",
       "    .dataframe tbody tr th:only-of-type {\n",
       "        vertical-align: middle;\n",
       "    }\n",
       "\n",
       "    .dataframe tbody tr th {\n",
       "        vertical-align: top;\n",
       "    }\n",
       "\n",
       "    .dataframe thead th {\n",
       "        text-align: right;\n",
       "    }\n",
       "</style>\n",
       "<table border=\"1\" class=\"dataframe\">\n",
       "  <thead>\n",
       "    <tr style=\"text-align: right;\">\n",
       "      <th></th>\n",
       "      <th>user_id</th>\n",
       "      <th>month</th>\n",
       "      <th>total_gb</th>\n",
       "    </tr>\n",
       "  </thead>\n",
       "  <tbody>\n",
       "    <tr>\n",
       "      <td>0</td>\n",
       "      <td>1000</td>\n",
       "      <td>12</td>\n",
       "      <td>2.0</td>\n",
       "    </tr>\n",
       "    <tr>\n",
       "      <td>1</td>\n",
       "      <td>1001</td>\n",
       "      <td>8</td>\n",
       "      <td>7.0</td>\n",
       "    </tr>\n",
       "    <tr>\n",
       "      <td>2</td>\n",
       "      <td>1001</td>\n",
       "      <td>9</td>\n",
       "      <td>14.0</td>\n",
       "    </tr>\n",
       "    <tr>\n",
       "      <td>3</td>\n",
       "      <td>1001</td>\n",
       "      <td>10</td>\n",
       "      <td>22.0</td>\n",
       "    </tr>\n",
       "  </tbody>\n",
       "</table>\n",
       "</div>"
      ],
      "text/plain": [
       "   user_id  month  total_gb\n",
       "0     1000     12       2.0\n",
       "1     1001      8       7.0\n",
       "2     1001      9      14.0\n",
       "3     1001     10      22.0"
      ]
     },
     "execution_count": 14,
     "metadata": {},
     "output_type": "execute_result"
    }
   ],
   "source": [
    "#convert monthly mb to gb and round them up\n",
    "monthly_internet['total_gb'] = (monthly_internet['total_mb']/1024).apply(np.ceil)\n",
    "\n",
    "#drop mb_used column\n",
    "monthly_internet.drop('total_mb', axis=1, inplace=True)\n",
    "#check the reuslt\n",
    "\n",
    "monthly_internet.head(4)"
   ]
  },
  {
   "cell_type": "markdown",
   "metadata": {},
   "source": [
    "### The monthly revenue from each user \n",
    "Now, we have separate data for monthly call durations, number of messages and volume of internet traffic that were used by each user. First thing first, it is time to merge all data into one (master dataframe). However, there might be a user, who does not use the internet but used only calls or messages. In such a case, we might get missing values in our master dataframe. No problem, we can fill these values with \"0\", which means no message, call or internet was used in that month by the user.\n",
    "\n",
    "Then comes our main goal: monthly revenue from each user. For that we will subtract the free package limit from the total number of calls, text messages, and data; multiply the result by the calling plan value; add the monthly charge depending on the calling plan. It seems scary, is not it?! But not, if we build a function, which will do all the task for us in a matter of seconds.\n",
    "\n",
    "At the end, we will give several plots for getting insight into revenue and customers."
   ]
  },
  {
   "cell_type": "code",
   "execution_count": 15,
   "metadata": {
    "scrolled": false
   },
   "outputs": [
    {
     "data": {
      "text/html": [
       "<div>\n",
       "<style scoped>\n",
       "    .dataframe tbody tr th:only-of-type {\n",
       "        vertical-align: middle;\n",
       "    }\n",
       "\n",
       "    .dataframe tbody tr th {\n",
       "        vertical-align: top;\n",
       "    }\n",
       "\n",
       "    .dataframe thead th {\n",
       "        text-align: right;\n",
       "    }\n",
       "</style>\n",
       "<table border=\"1\" class=\"dataframe\">\n",
       "  <thead>\n",
       "    <tr style=\"text-align: right;\">\n",
       "      <th></th>\n",
       "      <th>user_id</th>\n",
       "      <th>month</th>\n",
       "      <th>call_counts</th>\n",
       "      <th>total_mins</th>\n",
       "      <th>total_msg</th>\n",
       "      <th>total_gb</th>\n",
       "      <th>city</th>\n",
       "      <th>plan</th>\n",
       "    </tr>\n",
       "  </thead>\n",
       "  <tbody>\n",
       "    <tr>\n",
       "      <td>0</td>\n",
       "      <td>1000</td>\n",
       "      <td>12</td>\n",
       "      <td>16.0</td>\n",
       "      <td>124.0</td>\n",
       "      <td>11.0</td>\n",
       "      <td>2.0</td>\n",
       "      <td>Atlanta-Sandy Springs-Roswell, GA MSA</td>\n",
       "      <td>ultimate</td>\n",
       "    </tr>\n",
       "    <tr>\n",
       "      <td>1</td>\n",
       "      <td>1001</td>\n",
       "      <td>8</td>\n",
       "      <td>27.0</td>\n",
       "      <td>187.0</td>\n",
       "      <td>30.0</td>\n",
       "      <td>7.0</td>\n",
       "      <td>Seattle-Tacoma-Bellevue, WA MSA</td>\n",
       "      <td>surf</td>\n",
       "    </tr>\n",
       "    <tr>\n",
       "      <td>2</td>\n",
       "      <td>1001</td>\n",
       "      <td>9</td>\n",
       "      <td>49.0</td>\n",
       "      <td>326.0</td>\n",
       "      <td>44.0</td>\n",
       "      <td>14.0</td>\n",
       "      <td>Seattle-Tacoma-Bellevue, WA MSA</td>\n",
       "      <td>surf</td>\n",
       "    </tr>\n",
       "  </tbody>\n",
       "</table>\n",
       "</div>"
      ],
      "text/plain": [
       "   user_id  month  call_counts  total_mins  total_msg  total_gb  \\\n",
       "0     1000     12         16.0       124.0       11.0       2.0   \n",
       "1     1001      8         27.0       187.0       30.0       7.0   \n",
       "2     1001      9         49.0       326.0       44.0      14.0   \n",
       "\n",
       "                                    city      plan  \n",
       "0  Atlanta-Sandy Springs-Roswell, GA MSA  ultimate  \n",
       "1        Seattle-Tacoma-Bellevue, WA MSA      surf  \n",
       "2        Seattle-Tacoma-Bellevue, WA MSA      surf  "
      ]
     },
     "execution_count": 15,
     "metadata": {},
     "output_type": "execute_result"
    }
   ],
   "source": [
    "# merge monthly_calls, monthly_messages and monthly_internet data into one using user_id and month\n",
    "call_msg = monthly_calls.merge(monthly_messages, on=['user_id', 'month'], how='outer')\n",
    "call_msg_int= call_msg.merge(monthly_internet, on=['user_id', 'month'], how='outer')\n",
    "\n",
    "# merge above data with users file to know what plan every user is using\n",
    "call_msg_int_user = call_msg_int.merge(users, on='user_id', how='left')\n",
    "\n",
    "# drop unnecassary columns and check the result\n",
    "call_msg_int_user.drop(columns=['first_name','last_name', 'age','reg_date','churn_date'], inplace=True)\n",
    "call_msg_int_user.head(3)"
   ]
  },
  {
   "cell_type": "code",
   "execution_count": 16,
   "metadata": {
    "scrolled": true
   },
   "outputs": [
    {
     "data": {
      "text/plain": [
       "user_id          0\n",
       "month            0\n",
       "call_counts     35\n",
       "total_mins      35\n",
       "total_msg      487\n",
       "total_gb        16\n",
       "city             0\n",
       "plan             0\n",
       "dtype: int64"
      ]
     },
     "execution_count": 16,
     "metadata": {},
     "output_type": "execute_result"
    }
   ],
   "source": [
    "# check if we got missing values\n",
    "call_msg_int_user.isna().sum()"
   ]
  },
  {
   "cell_type": "code",
   "execution_count": 17,
   "metadata": {},
   "outputs": [
    {
     "data": {
      "text/plain": [
       "0"
      ]
     },
     "execution_count": 17,
     "metadata": {},
     "output_type": "execute_result"
    }
   ],
   "source": [
    "# fill the missing value with 0\n",
    "call_msg_int_user.fillna(0, inplace=True)\n",
    "\n",
    "#check if it worked\n",
    "call_msg_int_user.isna().sum().sum()"
   ]
  },
  {
   "cell_type": "code",
   "execution_count": 18,
   "metadata": {
    "scrolled": false
   },
   "outputs": [
    {
     "data": {
      "text/html": [
       "<div>\n",
       "<style scoped>\n",
       "    .dataframe tbody tr th:only-of-type {\n",
       "        vertical-align: middle;\n",
       "    }\n",
       "\n",
       "    .dataframe tbody tr th {\n",
       "        vertical-align: top;\n",
       "    }\n",
       "\n",
       "    .dataframe thead th {\n",
       "        text-align: right;\n",
       "    }\n",
       "</style>\n",
       "<table border=\"1\" class=\"dataframe\">\n",
       "  <thead>\n",
       "    <tr style=\"text-align: right;\">\n",
       "      <th></th>\n",
       "      <th>messages_included</th>\n",
       "      <th>mb_per_month_included</th>\n",
       "      <th>minutes_included</th>\n",
       "      <th>usd_monthly_pay</th>\n",
       "      <th>usd_per_gb</th>\n",
       "      <th>usd_per_message</th>\n",
       "      <th>usd_per_minute</th>\n",
       "      <th>plan_name</th>\n",
       "    </tr>\n",
       "  </thead>\n",
       "  <tbody>\n",
       "    <tr>\n",
       "      <td>0</td>\n",
       "      <td>50</td>\n",
       "      <td>15360</td>\n",
       "      <td>500</td>\n",
       "      <td>20</td>\n",
       "      <td>10</td>\n",
       "      <td>0.03</td>\n",
       "      <td>0.03</td>\n",
       "      <td>surf</td>\n",
       "    </tr>\n",
       "    <tr>\n",
       "      <td>1</td>\n",
       "      <td>1000</td>\n",
       "      <td>30720</td>\n",
       "      <td>3000</td>\n",
       "      <td>70</td>\n",
       "      <td>7</td>\n",
       "      <td>0.01</td>\n",
       "      <td>0.01</td>\n",
       "      <td>ultimate</td>\n",
       "    </tr>\n",
       "  </tbody>\n",
       "</table>\n",
       "</div>"
      ],
      "text/plain": [
       "   messages_included  mb_per_month_included  minutes_included  \\\n",
       "0                 50                  15360               500   \n",
       "1               1000                  30720              3000   \n",
       "\n",
       "   usd_monthly_pay  usd_per_gb  usd_per_message  usd_per_minute plan_name  \n",
       "0               20          10             0.03            0.03      surf  \n",
       "1               70           7             0.01            0.01  ultimate  "
      ]
     },
     "execution_count": 18,
     "metadata": {},
     "output_type": "execute_result"
    }
   ],
   "source": [
    "# print the plans dataframe\n",
    "plans"
   ]
  },
  {
   "cell_type": "code",
   "execution_count": 19,
   "metadata": {},
   "outputs": [],
   "source": [
    "# build a function that check if a user exceeded monthly limit or not.\n",
    "#if exceeded, then calcualte how much exceeded and how much extra fee he/she have to pay\n",
    "# add monthly basic charge. The final results will be the monthly fee every user has paid.\n",
    "def excess_fee(data):\n",
    "    ex_min_fee=0\n",
    "    ex_msg_fee=0\n",
    "    ex_gb_fee=0\n",
    "    \n",
    "    #condition for surf plan\n",
    "    if data['plan'] == 'surf':\n",
    "        ex_min = 500 - data['total_mins']\n",
    "        if ex_min < 0:\n",
    "            ex_min_fee = (-1 * ex_min *0.03)  \n",
    "        ex_msg = 50 - data['total_msg']\n",
    "        if ex_msg < 0:\n",
    "            ex_msg_fee = (-1 * ex_msg *0.03)  \n",
    "        ex_gb = 15 - data['total_gb']\n",
    "        if ex_gb < 0:\n",
    "            ex_gb_fee = (-1 * ex_gb * 10)\n",
    "        return (ex_min_fee + ex_msg_fee + ex_gb_fee + 20)\n",
    "    \n",
    "    #conditions for ultimate plan\n",
    "    else:\n",
    "        ex_min = 3000 - data['total_mins']\n",
    "        if ex_min < 0:\n",
    "            ex_min_fee = (-1 * ex_min *0.01)\n",
    "        ex_msg = 1000 - data['total_msg']\n",
    "        if ex_msg < 0:\n",
    "            ex_msg_fee = (-1 * ex_msg *0.01)   \n",
    "        ex_gb = 30 - data['total_gb']\n",
    "        if ex_gb < 0:\n",
    "            ex_gb_fee = (-1 * ex_gb * 7)\n",
    "        return (ex_min_fee + ex_msg_fee + ex_gb_fee + 70)"
   ]
  },
  {
   "cell_type": "code",
   "execution_count": 20,
   "metadata": {},
   "outputs": [
    {
     "data": {
      "text/html": [
       "<div>\n",
       "<style scoped>\n",
       "    .dataframe tbody tr th:only-of-type {\n",
       "        vertical-align: middle;\n",
       "    }\n",
       "\n",
       "    .dataframe tbody tr th {\n",
       "        vertical-align: top;\n",
       "    }\n",
       "\n",
       "    .dataframe thead th {\n",
       "        text-align: right;\n",
       "    }\n",
       "</style>\n",
       "<table border=\"1\" class=\"dataframe\">\n",
       "  <thead>\n",
       "    <tr style=\"text-align: right;\">\n",
       "      <th></th>\n",
       "      <th>user_id</th>\n",
       "      <th>month</th>\n",
       "      <th>call_counts</th>\n",
       "      <th>total_mins</th>\n",
       "      <th>total_msg</th>\n",
       "      <th>total_gb</th>\n",
       "      <th>city</th>\n",
       "      <th>plan</th>\n",
       "      <th>total_fee</th>\n",
       "    </tr>\n",
       "  </thead>\n",
       "  <tbody>\n",
       "    <tr>\n",
       "      <td>0</td>\n",
       "      <td>1000</td>\n",
       "      <td>12</td>\n",
       "      <td>16.0</td>\n",
       "      <td>124.0</td>\n",
       "      <td>11.0</td>\n",
       "      <td>2.0</td>\n",
       "      <td>Atlanta-Sandy Springs-Roswell, GA MSA</td>\n",
       "      <td>ultimate</td>\n",
       "      <td>70.00</td>\n",
       "    </tr>\n",
       "    <tr>\n",
       "      <td>1</td>\n",
       "      <td>1001</td>\n",
       "      <td>8</td>\n",
       "      <td>27.0</td>\n",
       "      <td>187.0</td>\n",
       "      <td>30.0</td>\n",
       "      <td>7.0</td>\n",
       "      <td>Seattle-Tacoma-Bellevue, WA MSA</td>\n",
       "      <td>surf</td>\n",
       "      <td>20.00</td>\n",
       "    </tr>\n",
       "    <tr>\n",
       "      <td>2</td>\n",
       "      <td>1001</td>\n",
       "      <td>9</td>\n",
       "      <td>49.0</td>\n",
       "      <td>326.0</td>\n",
       "      <td>44.0</td>\n",
       "      <td>14.0</td>\n",
       "      <td>Seattle-Tacoma-Bellevue, WA MSA</td>\n",
       "      <td>surf</td>\n",
       "      <td>20.00</td>\n",
       "    </tr>\n",
       "    <tr>\n",
       "      <td>3</td>\n",
       "      <td>1001</td>\n",
       "      <td>10</td>\n",
       "      <td>65.0</td>\n",
       "      <td>411.0</td>\n",
       "      <td>53.0</td>\n",
       "      <td>22.0</td>\n",
       "      <td>Seattle-Tacoma-Bellevue, WA MSA</td>\n",
       "      <td>surf</td>\n",
       "      <td>90.09</td>\n",
       "    </tr>\n",
       "    <tr>\n",
       "      <td>4</td>\n",
       "      <td>1001</td>\n",
       "      <td>11</td>\n",
       "      <td>64.0</td>\n",
       "      <td>441.0</td>\n",
       "      <td>36.0</td>\n",
       "      <td>19.0</td>\n",
       "      <td>Seattle-Tacoma-Bellevue, WA MSA</td>\n",
       "      <td>surf</td>\n",
       "      <td>60.00</td>\n",
       "    </tr>\n",
       "  </tbody>\n",
       "</table>\n",
       "</div>"
      ],
      "text/plain": [
       "   user_id  month  call_counts  total_mins  total_msg  total_gb  \\\n",
       "0     1000     12         16.0       124.0       11.0       2.0   \n",
       "1     1001      8         27.0       187.0       30.0       7.0   \n",
       "2     1001      9         49.0       326.0       44.0      14.0   \n",
       "3     1001     10         65.0       411.0       53.0      22.0   \n",
       "4     1001     11         64.0       441.0       36.0      19.0   \n",
       "\n",
       "                                    city      plan  total_fee  \n",
       "0  Atlanta-Sandy Springs-Roswell, GA MSA  ultimate      70.00  \n",
       "1        Seattle-Tacoma-Bellevue, WA MSA      surf      20.00  \n",
       "2        Seattle-Tacoma-Bellevue, WA MSA      surf      20.00  \n",
       "3        Seattle-Tacoma-Bellevue, WA MSA      surf      90.09  \n",
       "4        Seattle-Tacoma-Bellevue, WA MSA      surf      60.00  "
      ]
     },
     "execution_count": 20,
     "metadata": {},
     "output_type": "execute_result"
    }
   ],
   "source": [
    "#apply the above function to the master dataframe\n",
    "call_msg_int_user['total_fee'] = call_msg_int_user.apply(excess_fee, axis=1)\n",
    "\n",
    "#for convenience for later tasks, rename the dataframe and sort values according to the user, the month  \n",
    "#and check the result\n",
    "df = call_msg_int_user.sort_values(['user_id', 'month'])\n",
    "df.head()"
   ]
  },
  {
   "cell_type": "code",
   "execution_count": 21,
   "metadata": {
    "scrolled": false
   },
   "outputs": [
    {
     "data": {
      "image/png": "[encoded data removed]",
      "text/plain": [
       "<Figure size 1008x1080 with 3 Axes>"
      ]
     },
     "metadata": {
      "needs_background": "light"
     },
     "output_type": "display_data"
    }
   ],
   "source": [
    "# several plots:\n",
    "fig, ax= plt.subplots(3, figsize=(14,15))\n",
    "\n",
    "#number of users who uses the plan every month\n",
    "user_data=df.groupby(['month','plan'])['user_id'].count().reset_index()\n",
    "sns.lineplot(data=user_data, x='month', y='user_id', hue='plan', palette='bright', ax=ax[0])\n",
    "ax[0].legend(frameon=True, shadow=True, fontsize=12)\n",
    "ax[0].set_title('Number of user in each plan', fontsize=14, color='blue')\n",
    "\n",
    "#total revenue from users of a plan every month\n",
    "sum_data=df.groupby(['month','plan'])['total_fee'].sum().reset_index()\n",
    "sns.barplot(data=sum_data, x='month', y='total_fee', hue='plan', palette='bright', alpha=0.6, ax=ax[1])\n",
    "ax[1].legend(frameon=True, shadow=True, fontsize=12)\n",
    "ax[1].set_title('Monthly total revenue from users of each plan', fontsize=14, color='blue')\n",
    "\n",
    "# average revenue from users of a plan every month \n",
    "mean_data=df.groupby(['month','plan'])['total_fee'].mean().reset_index()\n",
    "sns.barplot(data=mean_data, x='month', y='total_fee', hue='plan', palette='bright' , alpha=0.6, ax=ax[2])\n",
    "ax[2].legend(frameon=True, shadow=True, fontsize=12)\n",
    "ax[2].set_title('Average monthly revenue from users of each plan', fontsize=14, color='blue')\n",
    "\n",
    "\n",
    "plt.show()"
   ]
  },
  {
   "cell_type": "markdown",
   "metadata": {},
   "source": [
    "### Conclusion"
   ]
  },
  {
   "cell_type": "markdown",
   "metadata": {},
   "source": [
    "The data type of columns, which were containing date, were converted to **datetime** data type and the missing values in the **churn_date** column were filled with the last day of the data analysis (i.e. 2018-12-31). Additionally, around 20% of individual call durations and 10% of internet sessions (mb_used) hava a value of zero. These zero values were suspected arising due to precision of \"call duration counter\" or \"internet volume counter\". For example, when a user calls someone and hangs up very quickly, i.e. just several milliseconds, then the \"call duration counter\" counted it as zero. Similarly, for the \"internet volume counter\", for example, the internet session might be only several kb, and it is less than 0.01 Mb and therefore it is registered as zero. All zero values in **duration** column of the calls data and **mb_used** column of the internet data were changed with 1 min and 0.01 mb respectively. However, this isssue should be clraified with the responsible person and fixed (if possible) for future analysis!\n",
    "\n",
    "Then individual call durations were rounded up and added to get the total minutes each user has used every month. The number of messages and internet volumes were also added to get the total monthly amounts per user. Subsequently, three different data were merged into one and the plan each user is using assigned using the **users** data. Unnecessary columns, such as the name, reg_date, churn_date columns were dropped.\n",
    "\n",
    "\n",
    "A calculator was built: which checks whether a user has used extra minutes, text messages or internet volume out of their monthly limits. If they exceeded the monthly limit, the calculator adds an extra fee according to the **plans** file. Finally, it adds the monthly basic fee to get monthly total revenue from each user.\n",
    "\n",
    "\n",
    "Several plots were made to get an insight into revenue from each plan and users. It was observed that the user number of both plans increased and in the last month, the number of customers who uses the 'surf' plan was two times more than the number of users who uses the 'ultimate' plan. Even though, 'surf' users pay three times less basic fee per month, the monthly total revenue from the 'surf' plan was almost two times more than 'ultimate'. This is not only due to the number of users, but also those who use the 'surf' plan more often by going over their monthly limit and paying extra money. This can be clear from the monthly average revenue per user plot. For example, in the last month, the average revenue from 'surf' plan users was almost equal to 'ultimate' plan users. However, the 'surf' plan costs only 20 USD while the 'ultimate' plan costs 70 USD monthly without extra fees."
   ]
  },
  {
   "cell_type": "markdown",
   "metadata": {},
   "source": [
    "---"
   ]
  },
  {
   "cell_type": "markdown",
   "metadata": {},
   "source": [
    "## Data analysis\n",
    "In this section we will describe the customers' behavior. For this, first, we will find the minutes, texts, and volume of data the users of each plan require per month. We will calculate the mean, variance, and standard deviation, sunsequently plot histograms and describe the distributions."
   ]
  },
  {
   "cell_type": "code",
   "execution_count": 22,
   "metadata": {
    "scrolled": false
   },
   "outputs": [
    {
     "data": {
      "text/html": [
       "<div>\n",
       "<style scoped>\n",
       "    .dataframe tbody tr th:only-of-type {\n",
       "        vertical-align: middle;\n",
       "    }\n",
       "\n",
       "    .dataframe tbody tr th {\n",
       "        vertical-align: top;\n",
       "    }\n",
       "\n",
       "    .dataframe thead th {\n",
       "        text-align: right;\n",
       "    }\n",
       "</style>\n",
       "<table border=\"1\" class=\"dataframe\">\n",
       "  <thead>\n",
       "    <tr style=\"text-align: right;\">\n",
       "      <th></th>\n",
       "      <th>user_id</th>\n",
       "      <th>month</th>\n",
       "      <th>call_counts</th>\n",
       "      <th>total_mins</th>\n",
       "      <th>total_msg</th>\n",
       "      <th>total_gb</th>\n",
       "      <th>total_fee</th>\n",
       "    </tr>\n",
       "  </thead>\n",
       "  <tbody>\n",
       "    <tr>\n",
       "      <td>count</td>\n",
       "      <td>2293.000000</td>\n",
       "      <td>2293.000000</td>\n",
       "      <td>2293.000000</td>\n",
       "      <td>2293.000000</td>\n",
       "      <td>2293.000000</td>\n",
       "      <td>2293.000000</td>\n",
       "      <td>2293.000000</td>\n",
       "    </tr>\n",
       "    <tr>\n",
       "      <td>mean</td>\n",
       "      <td>1246.075883</td>\n",
       "      <td>9.172700</td>\n",
       "      <td>60.067597</td>\n",
       "      <td>440.986044</td>\n",
       "      <td>33.166594</td>\n",
       "      <td>16.870475</td>\n",
       "      <td>64.483301</td>\n",
       "    </tr>\n",
       "    <tr>\n",
       "      <td>std</td>\n",
       "      <td>143.051927</td>\n",
       "      <td>2.496386</td>\n",
       "      <td>32.402563</td>\n",
       "      <td>242.285165</td>\n",
       "      <td>34.070085</td>\n",
       "      <td>7.796174</td>\n",
       "      <td>46.670078</td>\n",
       "    </tr>\n",
       "    <tr>\n",
       "      <td>min</td>\n",
       "      <td>1000.000000</td>\n",
       "      <td>1.000000</td>\n",
       "      <td>0.000000</td>\n",
       "      <td>0.000000</td>\n",
       "      <td>0.000000</td>\n",
       "      <td>0.000000</td>\n",
       "      <td>20.000000</td>\n",
       "    </tr>\n",
       "    <tr>\n",
       "      <td>25%</td>\n",
       "      <td>1122.000000</td>\n",
       "      <td>8.000000</td>\n",
       "      <td>38.000000</td>\n",
       "      <td>273.000000</td>\n",
       "      <td>3.000000</td>\n",
       "      <td>12.000000</td>\n",
       "      <td>23.930000</td>\n",
       "    </tr>\n",
       "    <tr>\n",
       "      <td>50%</td>\n",
       "      <td>1245.000000</td>\n",
       "      <td>10.000000</td>\n",
       "      <td>60.000000</td>\n",
       "      <td>438.000000</td>\n",
       "      <td>26.000000</td>\n",
       "      <td>17.000000</td>\n",
       "      <td>70.000000</td>\n",
       "    </tr>\n",
       "    <tr>\n",
       "      <td>75%</td>\n",
       "      <td>1368.000000</td>\n",
       "      <td>11.000000</td>\n",
       "      <td>79.000000</td>\n",
       "      <td>588.000000</td>\n",
       "      <td>51.000000</td>\n",
       "      <td>21.000000</td>\n",
       "      <td>70.000000</td>\n",
       "    </tr>\n",
       "    <tr>\n",
       "      <td>max</td>\n",
       "      <td>1499.000000</td>\n",
       "      <td>12.000000</td>\n",
       "      <td>205.000000</td>\n",
       "      <td>1548.000000</td>\n",
       "      <td>266.000000</td>\n",
       "      <td>70.000000</td>\n",
       "      <td>591.270000</td>\n",
       "    </tr>\n",
       "  </tbody>\n",
       "</table>\n",
       "</div>"
      ],
      "text/plain": [
       "           user_id        month  call_counts   total_mins    total_msg  \\\n",
       "count  2293.000000  2293.000000  2293.000000  2293.000000  2293.000000   \n",
       "mean   1246.075883     9.172700    60.067597   440.986044    33.166594   \n",
       "std     143.051927     2.496386    32.402563   242.285165    34.070085   \n",
       "min    1000.000000     1.000000     0.000000     0.000000     0.000000   \n",
       "25%    1122.000000     8.000000    38.000000   273.000000     3.000000   \n",
       "50%    1245.000000    10.000000    60.000000   438.000000    26.000000   \n",
       "75%    1368.000000    11.000000    79.000000   588.000000    51.000000   \n",
       "max    1499.000000    12.000000   205.000000  1548.000000   266.000000   \n",
       "\n",
       "          total_gb    total_fee  \n",
       "count  2293.000000  2293.000000  \n",
       "mean     16.870475    64.483301  \n",
       "std       7.796174    46.670078  \n",
       "min       0.000000    20.000000  \n",
       "25%      12.000000    23.930000  \n",
       "50%      17.000000    70.000000  \n",
       "75%      21.000000    70.000000  \n",
       "max      70.000000   591.270000  "
      ]
     },
     "execution_count": 22,
     "metadata": {},
     "output_type": "execute_result"
    }
   ],
   "source": [
    "# overall statistics of data\n",
    "df.describe()"
   ]
  },
  {
   "cell_type": "code",
   "execution_count": 23,
   "metadata": {
    "scrolled": false
   },
   "outputs": [
    {
     "data": {
      "text/html": [
       "<div>\n",
       "<style scoped>\n",
       "    .dataframe tbody tr th:only-of-type {\n",
       "        vertical-align: middle;\n",
       "    }\n",
       "\n",
       "    .dataframe tbody tr th {\n",
       "        vertical-align: top;\n",
       "    }\n",
       "\n",
       "    .dataframe thead th {\n",
       "        text-align: right;\n",
       "    }\n",
       "</style>\n",
       "<table border=\"1\" class=\"dataframe\">\n",
       "  <thead>\n",
       "    <tr style=\"text-align: right;\">\n",
       "      <th></th>\n",
       "      <th>plan</th>\n",
       "      <th>user_id</th>\n",
       "      <th>city</th>\n",
       "      <th>avg_min</th>\n",
       "      <th>var_min</th>\n",
       "      <th>std_min</th>\n",
       "      <th>avg_msg</th>\n",
       "      <th>var_msg</th>\n",
       "      <th>std_msg</th>\n",
       "      <th>avg_gb</th>\n",
       "      <th>var_gb</th>\n",
       "      <th>std_gb</th>\n",
       "      <th>avg_fee</th>\n",
       "      <th>var_fee</th>\n",
       "      <th>std_fee</th>\n",
       "    </tr>\n",
       "  </thead>\n",
       "  <tbody>\n",
       "    <tr>\n",
       "      <td>350</td>\n",
       "      <td>ultimate</td>\n",
       "      <td>1047</td>\n",
       "      <td>Indianapolis-Carmel-Anderson, IN MSA</td>\n",
       "      <td>378.0</td>\n",
       "      <td>0.000000</td>\n",
       "      <td>0.000000</td>\n",
       "      <td>7.000000</td>\n",
       "      <td>0.000000</td>\n",
       "      <td>0.000000</td>\n",
       "      <td>17.000000</td>\n",
       "      <td>0.000000</td>\n",
       "      <td>0.000000</td>\n",
       "      <td>70.00</td>\n",
       "      <td>0.0</td>\n",
       "      <td>0.0</td>\n",
       "    </tr>\n",
       "    <tr>\n",
       "      <td>281</td>\n",
       "      <td>surf</td>\n",
       "      <td>1413</td>\n",
       "      <td>Bakersfield, CA MSA</td>\n",
       "      <td>343.0</td>\n",
       "      <td>0.000000</td>\n",
       "      <td>0.000000</td>\n",
       "      <td>30.000000</td>\n",
       "      <td>0.000000</td>\n",
       "      <td>0.000000</td>\n",
       "      <td>15.000000</td>\n",
       "      <td>0.000000</td>\n",
       "      <td>0.000000</td>\n",
       "      <td>20.00</td>\n",
       "      <td>0.0</td>\n",
       "      <td>0.0</td>\n",
       "    </tr>\n",
       "    <tr>\n",
       "      <td>474</td>\n",
       "      <td>ultimate</td>\n",
       "      <td>1456</td>\n",
       "      <td>Minneapolis-St. Paul-Bloomington, MN-WI MSA</td>\n",
       "      <td>470.0</td>\n",
       "      <td>11865.666667</td>\n",
       "      <td>108.929641</td>\n",
       "      <td>33.428571</td>\n",
       "      <td>44.619048</td>\n",
       "      <td>6.679749</td>\n",
       "      <td>12.000000</td>\n",
       "      <td>3.666667</td>\n",
       "      <td>1.914854</td>\n",
       "      <td>70.00</td>\n",
       "      <td>0.0</td>\n",
       "      <td>0.0</td>\n",
       "    </tr>\n",
       "    <tr>\n",
       "      <td>341</td>\n",
       "      <td>ultimate</td>\n",
       "      <td>1031</td>\n",
       "      <td>New York-Newark-Jersey City, NY-NJ-PA MSA</td>\n",
       "      <td>504.5</td>\n",
       "      <td>11580.700000</td>\n",
       "      <td>107.613661</td>\n",
       "      <td>2.333333</td>\n",
       "      <td>2.266667</td>\n",
       "      <td>1.505545</td>\n",
       "      <td>15.666667</td>\n",
       "      <td>17.466667</td>\n",
       "      <td>4.179314</td>\n",
       "      <td>70.00</td>\n",
       "      <td>0.0</td>\n",
       "      <td>0.0</td>\n",
       "    </tr>\n",
       "    <tr>\n",
       "      <td>249</td>\n",
       "      <td>surf</td>\n",
       "      <td>1360</td>\n",
       "      <td>Charlotte-Concord-Gastonia, NC-SC MSA</td>\n",
       "      <td>838.0</td>\n",
       "      <td>0.000000</td>\n",
       "      <td>0.000000</td>\n",
       "      <td>0.000000</td>\n",
       "      <td>0.000000</td>\n",
       "      <td>0.000000</td>\n",
       "      <td>24.000000</td>\n",
       "      <td>0.000000</td>\n",
       "      <td>0.000000</td>\n",
       "      <td>120.14</td>\n",
       "      <td>0.0</td>\n",
       "      <td>0.0</td>\n",
       "    </tr>\n",
       "  </tbody>\n",
       "</table>\n",
       "</div>"
      ],
      "text/plain": [
       "         plan  user_id                                         city  avg_min  \\\n",
       "350  ultimate     1047         Indianapolis-Carmel-Anderson, IN MSA    378.0   \n",
       "281      surf     1413                          Bakersfield, CA MSA    343.0   \n",
       "474  ultimate     1456  Minneapolis-St. Paul-Bloomington, MN-WI MSA    470.0   \n",
       "341  ultimate     1031    New York-Newark-Jersey City, NY-NJ-PA MSA    504.5   \n",
       "249      surf     1360        Charlotte-Concord-Gastonia, NC-SC MSA    838.0   \n",
       "\n",
       "          var_min     std_min    avg_msg    var_msg   std_msg     avg_gb  \\\n",
       "350      0.000000    0.000000   7.000000   0.000000  0.000000  17.000000   \n",
       "281      0.000000    0.000000  30.000000   0.000000  0.000000  15.000000   \n",
       "474  11865.666667  108.929641  33.428571  44.619048  6.679749  12.000000   \n",
       "341  11580.700000  107.613661   2.333333   2.266667  1.505545  15.666667   \n",
       "249      0.000000    0.000000   0.000000   0.000000  0.000000  24.000000   \n",
       "\n",
       "        var_gb    std_gb  avg_fee  var_fee  std_fee  \n",
       "350   0.000000  0.000000    70.00      0.0      0.0  \n",
       "281   0.000000  0.000000    20.00      0.0      0.0  \n",
       "474   3.666667  1.914854    70.00      0.0      0.0  \n",
       "341  17.466667  4.179314    70.00      0.0      0.0  \n",
       "249   0.000000  0.000000   120.14      0.0      0.0  "
      ]
     },
     "execution_count": 23,
     "metadata": {},
     "output_type": "execute_result"
    }
   ],
   "source": [
    "# calculate average minutes, number of messages and internet volume each user require (calculate std, var as well)\n",
    "customer_behavior=df.groupby(['plan', 'user_id','city'])\\\n",
    "                            ['total_mins','total_msg','total_gb', 'total_fee']\\\n",
    "                            .agg([np.mean, np.var, np.std]).reset_index()   #reset index to get rid of multiindeces\n",
    "\n",
    "#rename columns\n",
    "customer_behavior.columns=['plan', 'user_id','city','avg_min','var_min', 'std_min', 'avg_msg', 'var_msg','std_msg', \n",
    "                    'avg_gb', 'var_gb', 'std_gb', 'avg_fee', 'var_fee', 'std_fee']\n",
    "\n",
    "#when there is only one value, then np.var and np.std return NaN (value/(n-1 which is zero)). Therefore fil them with 0\n",
    "customer_behavior.fillna(0, inplace=True)\n",
    "\n",
    "#check random 5 rows\n",
    "customer_behavior.sample(5)"
   ]
  },
  {
   "cell_type": "code",
   "execution_count": 24,
   "metadata": {},
   "outputs": [
    {
     "data": {
      "image/png": "[encoded data removed]",
      "text/plain": [
       "<Figure size 1008x720 with 4 Axes>"
      ]
     },
     "metadata": {
      "needs_background": "light"
     },
     "output_type": "display_data"
    }
   ],
   "source": [
    "# histograms to show distribution of average minutes, messages, internet and fee for users of each plan\n",
    "fig, ax= plt.subplots(2,2,figsize=(14,10))\n",
    "\n",
    "sns.histplot(data=customer_behavior, x='avg_min', hue='plan', alpha=0.5, multiple='stack', kde=True, ax=ax[0, 0])\n",
    "ax[0,0].set_title('Average minute distribution for users of each plan', fontsize=12, color='blue')\n",
    "\n",
    "sns.histplot(data=customer_behavior, x='avg_msg', hue='plan', alpha=0.5, multiple='stack', kde=True, ax=ax[0, 1])\n",
    "ax[0,1].set_title('Average message distribution for users of each plan', fontsize=12, color='blue')\n",
    "\n",
    "sns.histplot(data=customer_behavior, x='avg_gb', hue='plan', alpha=0.5, multiple='stack', kde=True, ax=ax[1,0])\n",
    "ax[1,0].set_title('Average internet distribution for users of each plan', fontsize=12, color='blue')\n",
    "\n",
    "sns.histplot(data=customer_behavior, x='avg_fee', hue='plan', alpha=0.5, multiple='stack', kde=True, ax=ax[1,1])\n",
    "ax[1,1].set_title('Average fee distribution for users of each plan', fontsize=12, color='blue')\n",
    "\n",
    "plt.show()"
   ]
  },
  {
   "cell_type": "markdown",
   "metadata": {},
   "source": [
    "### Conclusion"
   ]
  },
  {
   "cell_type": "markdown",
   "metadata": {},
   "source": [
    "Then average minutes, messages, internet and fee for users of each plan obtained as a pivot table. Histograms were built based on these pivot table. Accordingly:\n",
    "- Average minutes histogram for both plans has a more or less normal distribution. The major amount of users for both plans require minutes up to 70 minutes.\n",
    "- Average text messages histogram for both plans have skewed to the right, showing that most of the users do not require text message at all. This might be due to internet-based messaging apps.\n",
    "- Average internet volume histogram for both plans have a normal distribution with the majority of users need around 10k to 20k megabytes of internet monthly."
   ]
  },
  {
   "cell_type": "markdown",
   "metadata": {},
   "source": [
    "---"
   ]
  },
  {
   "cell_type": "markdown",
   "metadata": {},
   "source": [
    "## Testing the hypotheses\n",
    "Now it is time to see either the 'surf' plan or 'ultimate' plan brings in more revenue to Megaline. As well as, it is interesting to see if NY-NJ regions are more profitable than other regions."
   ]
  },
  {
   "cell_type": "markdown",
   "metadata": {},
   "source": [
    "### The average revenue from users of Ultimate and Surf calling plans differs\n",
    "This task is straightforward, we will take 'total_fee' columns for each plan as a series. Then use statistical methods to compare the means of two plans using **scipy.stats.ttest_ind()** function. Here is our hypothesis:\n",
    "- Null hypothesis: revenue from each plan are similar (both plans brings more or less equal revenue)\n",
    "- Alternative hypothesis: revenue from each plan are differs (one plan brings more revenue than another)."
   ]
  },
  {
   "cell_type": "code",
   "execution_count": 25,
   "metadata": {},
   "outputs": [
    {
     "name": "stdout",
     "output_type": "stream",
     "text": [
      "p-value: 0.00014197836417141033\n",
      "We reject the null hypothesis (revenues from each plan are different)!\n"
     ]
    }
   ],
   "source": [
    "# get sample of 100 user for each plan\n",
    "revenue_surf = customer_behavior[customer_behavior['plan']=='surf']['avg_fee']\n",
    "revenue_ultimate = customer_behavior[customer_behavior['plan']=='ultimate']['avg_fee']\n",
    "\n",
    "alpha=0.05 #confidence level 95%\n",
    "\n",
    "#test difference of mean of each plan\n",
    "results = st.ttest_ind(revenue_surf, revenue_ultimate)\n",
    "print('p-value:', results.pvalue)\n",
    "\n",
    "if results.pvalue < alpha:\n",
    "    print(\"We reject the null hypothesis (revenues from each plan are different)!\")\n",
    "else:\n",
    "    print(\"We can't reject the null hypothesis (revenues from each plan are not significantly different)!\")"
   ]
  },
  {
   "cell_type": "code",
   "execution_count": 26,
   "metadata": {},
   "outputs": [
    {
     "name": "stdout",
     "output_type": "stream",
     "text": [
      "Average revenue coming from the \"surf\" plan is: 58 USD\n",
      "Average revenue coming from the \"ultimate\" plan is: 72 USD\n"
     ]
    }
   ],
   "source": [
    "# print revenue of both plans\n",
    "print('Average revenue coming from the \"surf\" plan is:', round(np.mean(revenue_surf)), 'USD')\n",
    "print('Average revenue coming from the \"ultimate\" plan is:', round(np.mean(revenue_ultimate)), 'USD')"
   ]
  },
  {
   "cell_type": "markdown",
   "metadata": {},
   "source": [
    "### The average revenue from users in NY-NJ area is different from that of the users from other regions\n",
    "For this task, we need to find users who live in the NY-NJ regions. It is not directly indicated in the data, but we have a **city** column, which mentioned the city and region together. We will pull out the region from there. The rule to assign NY-NJ region is as follows: If NY and/or NJ exist in the **city**, then we will categorize this row as \"NY-NJ\", otherwise we will categorize it as \"other\"."
   ]
  },
  {
   "cell_type": "code",
   "execution_count": 27,
   "metadata": {},
   "outputs": [
    {
     "name": "stdout",
     "output_type": "stream",
     "text": [
      "NY-NJ\n"
     ]
    }
   ],
   "source": [
    "# a function to categorize the data as NY-NJ, otherwise will return NaN\n",
    "def regionizer(city):\n",
    "    target=['NY', 'NJ']\n",
    "    region = city.split(',')[1].split()[0].split('-')\n",
    "    for i in region:\n",
    "        if i in target:\n",
    "            return 'NY-NJ'\n",
    "#test the function\n",
    "print(regionizer(df['city'][357]))"
   ]
  },
  {
   "cell_type": "code",
   "execution_count": 28,
   "metadata": {},
   "outputs": [
    {
     "data": {
      "text/plain": [
       "other    388\n",
       "NY-NJ    102\n",
       "Name: region, dtype: int64"
      ]
     },
     "metadata": {},
     "output_type": "display_data"
    },
    {
     "data": {
      "text/html": [
       "<div>\n",
       "<style scoped>\n",
       "    .dataframe tbody tr th:only-of-type {\n",
       "        vertical-align: middle;\n",
       "    }\n",
       "\n",
       "    .dataframe tbody tr th {\n",
       "        vertical-align: top;\n",
       "    }\n",
       "\n",
       "    .dataframe thead th {\n",
       "        text-align: right;\n",
       "    }\n",
       "</style>\n",
       "<table border=\"1\" class=\"dataframe\">\n",
       "  <thead>\n",
       "    <tr style=\"text-align: right;\">\n",
       "      <th></th>\n",
       "      <th>plan</th>\n",
       "      <th>user_id</th>\n",
       "      <th>city</th>\n",
       "      <th>avg_min</th>\n",
       "      <th>var_min</th>\n",
       "      <th>std_min</th>\n",
       "      <th>avg_msg</th>\n",
       "      <th>var_msg</th>\n",
       "      <th>std_msg</th>\n",
       "      <th>avg_gb</th>\n",
       "      <th>var_gb</th>\n",
       "      <th>std_gb</th>\n",
       "      <th>avg_fee</th>\n",
       "      <th>var_fee</th>\n",
       "      <th>std_fee</th>\n",
       "      <th>region</th>\n",
       "    </tr>\n",
       "  </thead>\n",
       "  <tbody>\n",
       "    <tr>\n",
       "      <td>0</td>\n",
       "      <td>surf</td>\n",
       "      <td>1001</td>\n",
       "      <td>Seattle-Tacoma-Bellevue, WA MSA</td>\n",
       "      <td>357.400000</td>\n",
       "      <td>11014.300000</td>\n",
       "      <td>104.949035</td>\n",
       "      <td>41.400000</td>\n",
       "      <td>76.800000</td>\n",
       "      <td>8.763561</td>\n",
       "      <td>16.200000</td>\n",
       "      <td>34.700000</td>\n",
       "      <td>5.890671</td>\n",
       "      <td>50.018000</td>\n",
       "      <td>901.801620</td>\n",
       "      <td>30.030012</td>\n",
       "      <td>other</td>\n",
       "    </tr>\n",
       "    <tr>\n",
       "      <td>1</td>\n",
       "      <td>surf</td>\n",
       "      <td>1002</td>\n",
       "      <td>Las Vegas-Henderson-Paradise, NV MSA</td>\n",
       "      <td>282.666667</td>\n",
       "      <td>36520.333333</td>\n",
       "      <td>191.102939</td>\n",
       "      <td>29.333333</td>\n",
       "      <td>174.333333</td>\n",
       "      <td>13.203535</td>\n",
       "      <td>13.666667</td>\n",
       "      <td>37.333333</td>\n",
       "      <td>6.110101</td>\n",
       "      <td>33.333333</td>\n",
       "      <td>533.333333</td>\n",
       "      <td>23.094011</td>\n",
       "      <td>other</td>\n",
       "    </tr>\n",
       "    <tr>\n",
       "      <td>2</td>\n",
       "      <td>surf</td>\n",
       "      <td>1003</td>\n",
       "      <td>Tulsa, OK MSA</td>\n",
       "      <td>1135.000000</td>\n",
       "      <td>0.000000</td>\n",
       "      <td>0.000000</td>\n",
       "      <td>50.000000</td>\n",
       "      <td>0.000000</td>\n",
       "      <td>0.000000</td>\n",
       "      <td>27.000000</td>\n",
       "      <td>0.000000</td>\n",
       "      <td>0.000000</td>\n",
       "      <td>159.050000</td>\n",
       "      <td>0.000000</td>\n",
       "      <td>0.000000</td>\n",
       "      <td>other</td>\n",
       "    </tr>\n",
       "  </tbody>\n",
       "</table>\n",
       "</div>"
      ],
      "text/plain": [
       "   plan  user_id                                  city      avg_min  \\\n",
       "0  surf     1001       Seattle-Tacoma-Bellevue, WA MSA   357.400000   \n",
       "1  surf     1002  Las Vegas-Henderson-Paradise, NV MSA   282.666667   \n",
       "2  surf     1003                         Tulsa, OK MSA  1135.000000   \n",
       "\n",
       "        var_min     std_min    avg_msg     var_msg    std_msg     avg_gb  \\\n",
       "0  11014.300000  104.949035  41.400000   76.800000   8.763561  16.200000   \n",
       "1  36520.333333  191.102939  29.333333  174.333333  13.203535  13.666667   \n",
       "2      0.000000    0.000000  50.000000    0.000000   0.000000  27.000000   \n",
       "\n",
       "      var_gb    std_gb     avg_fee     var_fee    std_fee region  \n",
       "0  34.700000  5.890671   50.018000  901.801620  30.030012  other  \n",
       "1  37.333333  6.110101   33.333333  533.333333  23.094011  other  \n",
       "2   0.000000  0.000000  159.050000    0.000000   0.000000  other  "
      ]
     },
     "execution_count": 28,
     "metadata": {},
     "output_type": "execute_result"
    }
   ],
   "source": [
    "#apply the function\n",
    "customer_behavior['region'] = customer_behavior['city'].apply(regionizer)\n",
    "\n",
    "#fill NaN values with \"other\"\n",
    "customer_behavior.region.fillna('other', inplace=True)\n",
    "\n",
    "#number of users for each category\n",
    "display(customer_behavior['region'].value_counts())\n",
    "\n",
    "#check the head of the new data\n",
    "customer_behavior.head(3)"
   ]
  },
  {
   "cell_type": "code",
   "execution_count": 29,
   "metadata": {},
   "outputs": [
    {
     "name": "stdout",
     "output_type": "stream",
     "text": [
      "p-value: 0.4738297735861585\n",
      "We can't reject the null hypothesis.\n",
      "That means, revenues from NY-NJ and other regions are not significantly different!\n"
     ]
    }
   ],
   "source": [
    "# take randomly 80 samples for each catogery with avg_fee they pay for megaline\n",
    "revenue_NY_NJ = customer_behavior[customer_behavior['region']=='NY-NJ']['avg_fee']\n",
    "revenue_other = customer_behavior[customer_behavior['region']=='other']['avg_fee']\n",
    "\n",
    "alpha=0.05 #confidence level 95%\n",
    "\n",
    "#test their equality\n",
    "results = st.ttest_ind(revenue_NY_NJ, revenue_other)\n",
    "print('p-value:', results.pvalue)\n",
    "\n",
    "if results.pvalue < alpha:\n",
    "    print(\"We reject the null hypothesis. \\\n",
    "That means, revenues from NY-NJ and other regions are significantly different!\")\n",
    "else:\n",
    "    print(\"We can't reject the null hypothesis.\\nThat means, revenues from NY-NJ and other regions are not significantly different!\")"
   ]
  },
  {
   "cell_type": "code",
   "execution_count": 30,
   "metadata": {},
   "outputs": [
    {
     "name": "stdout",
     "output_type": "stream",
     "text": [
      "Average revenue coming from user who lives in NY-NJ regions is equal to: 60 USD\n",
      "Average revenue coming from user who lives in other regions is equal to: 63 USD\n"
     ]
    }
   ],
   "source": [
    "# print revenue of both test regions\n",
    "print('Average revenue coming from user who lives in NY-NJ regions is equal to:', round(np.mean(revenue_NY_NJ)),'USD')\n",
    "print('Average revenue coming from user who lives in other regions is equal to:', round(np.mean(revenue_other)),'USD')"
   ]
  },
  {
   "cell_type": "markdown",
   "metadata": {},
   "source": [
    "### Conclusion"
   ]
  },
  {
   "cell_type": "markdown",
   "metadata": {},
   "source": [
    "> Customer_behavior data was used to test the hypothesis. With 95% confidence, it was observed that revenue coming from each plan is not equal. More precisely, on average surf plan, users pay 58 USD per month, while 'ultimate' plan users pay 72 USD per month. However, the number of ultimate plan users are almost two times less than surf plan users. Therefore, we should invest more into an advertisement of the ultimate plan and attract more customers for our more profitable plan.\n",
    "On another hand, the revenue coming from users in NY-NJ was not significantly different from other regions. For now, it is not important to focus on customers from NY-NJ, specifically."
   ]
  },
  {
   "cell_type": "markdown",
   "metadata": {},
   "source": [
    "---"
   ]
  },
  {
   "cell_type": "markdown",
   "metadata": {},
   "source": [
    "## Overall Conculsion"
   ]
  },
  {
   "cell_type": "markdown",
   "metadata": {},
   "source": [
    "- The **calls**, **internet** and **messages** files containing the id of every call, internet session and message, respectively, were imported. Additionally, the **users** file containing information about each user and the plan they are using, as well as the **plans** file containing information about what included in each plan and how much will be customers charged if they exceed the limit were imported.\n",
    "\n",
    "- There was an issue with the data type of date columns in all files. We have converted them from **object** type to **datetime** data type. The missing values in the **churn_date** column were filled with the last day of the data analysis (i.e. 2018-12-31).  Additionally, around 20% of individual call durations and 10% of internet sessions (mb_used) hava a value of 0 (zero). These zero values were suspected arising due to precision of \"call duration counter\" or \"internet volume counter\". For example, when a user calls someone and hangs up very quickly, i.e. just several milliseconds, then the \"call duration counter\" counted it as zero. Similarly, for the \"internet volume counter\", for example, the internet session might be only several kb, and it is less than 0.01 Mb and therefore it is registered as zero. All zero values in **duration** column of the calls data and **mb_used** column of the internet data were changed with 1 min and 0.01 mb respectively. However, this isssue should be clarified with the responsible person and fixed (if possible) for future analysis!\n",
    "\n",
    "- Then individual call durations were rounded up and added to get the total minutes each user has used every month. The number of messages and internet volumes were also added to get the total monthly amounts per user. Subsequently, three different data were merged into one and the plan each user used were assigned with the help of the **users** file. Unnecessary columns, such as the name, reg_date, churn_date columns were dropped. A new column ```total_fee``` was added to data by calculating how much every month each user paid, according to **plans** files.\n",
    "\n",
    "- Several plots were made to get an insight into revenue from each plan and users. It was observed that the user number of both plans increased and in the last month, the number of customers who uses the 'surf' plan was two times more than the number of users who uses the 'ultimate' plan. Even though, 'surf' users pay three times less basic fee per month, the monthly total revenue from the 'surf' plan was almost two times more than 'ultimate'. This is not only due to the number of users, but also those who use the 'surf' plan more often by going over their monthly limit and paying extra money. This can be clear from the monthly average revenue per user plot. For example, in the last month, the average revenue from 'surf' plan users was almost equal to 'ultimate' plan users. However, the 'surf' plan costs only 20 USD while the 'ultimate' plan costs 70 USD monthly without extra fees.\n",
    "\n",
    "- In order to analyze customer behavior, average minutes, messages, internet and fee for users of each plan obtained as a pivot table. Histograms were built based on these pivot table. Accordingly average minutes histogram for both plans has a more or less normal distribution. The major amount of users for both plans require minutes up to 70 minutes. Average text messages histogram for both plans have skewed to the right, showing that most of the users do not require text message at all. This might be due to internet-based messaging apps. Average internet volume histogram for both plans have a normal distribution with the majority of users need around 10k to 20k megabytes of internet monthly.\n",
    "\n",
    "- Customer_behavior data, which contains average minutes, fee each user paid during analysis period, was used to test the hypothesis. With 95% confidence, it was observed that revenue coming from each plan is not equal. More precisely, on average ```surf``` plan, users pay **58 USD** per month, while ```ultimate``` plan users pay **72 USD** per month. However, the number of ultimate plan users are almost two times less than surf plan users. Therefore, we should invest more into an advertisement of the ultimate plan and attract more customers for our more profitable plan.On another hand, the revenue coming from users in ```NY-NJ``` was not significantly different from ```other``` regions. For now, it is not important to focus on customers from NY-NJ, specifically."
   ]
  }
 ],
 "metadata": {
  "kernelspec": {
   "display_name": "Python 3",
   "language": "python",
   "name": "python3"
  },
  "language_info": {
   "codemirror_mode": {
    "name": "ipython",
    "version": 3
   },
   "file_extension": ".py",
   "mimetype": "text/x-python",
   "name": "python",
   "nbconvert_exporter": "python",
   "pygments_lexer": "ipython3",
   "version": "3.8.5"
  },
  "toc": {
   "base_numbering": 1,
   "nav_menu": {},
   "number_sections": true,
   "sideBar": true,
   "skip_h1_title": true,
   "title_cell": "Table of Contents",
   "title_sidebar": "Contents",
   "toc_cell": false,
   "toc_position": {
    "height": "calc(100% - 180px)",
    "left": "10px",
    "top": "150px",
    "width": "165px"
   },
   "toc_section_display": true,
   "toc_window_display": true
  }
 },
 "nbformat": 4,
 "nbformat_minor": 2
}

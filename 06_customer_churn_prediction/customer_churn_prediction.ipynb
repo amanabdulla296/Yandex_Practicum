{
 "cells": [
  {
   "cell_type": "markdown",
   "metadata": {},
   "source": [
    "# Will the bank customers leave soon?\n",
    "Beta Bank customers are leaving: little by little, chipping away every month. The bankers figured out it’s cheaper to save the existing customers rather than to attract new ones.\n",
    "\n",
    "Our task is to predict whether a customer will leave the bank soon. The data on clients’ past behavior and termination of contracts with the bank has been provided.\n",
    "\n",
    "We will analyze the provided data, try to build model with highest possible F1 score (minimum requiored F1 is 0.59). For this we will follow these steps:\n",
    "\n",
    "- Load/Preprocess and Explore data;\n",
    "- Build model with raw (class imbalance) data;\n",
    "- Fix the class imbalance and improve the quality of the model;\n",
    "- Final testing of the tuned model.\n",
    "\n",
    "Each and every step will contain a preliminary conclusion about the finding/outcomes of the performed tasks. For the tuned model in the last step, the AUC-ROC metric will be compared with the F1 score."
   ]
  },
  {
   "cell_type": "markdown",
   "metadata": {},
   "source": [
    "## Load/Preprocess data\n",
    "In this step, necessary Python libraries and data will be loaded. Then the data will be explored for any missing values, duplicates, data type errors and will be fixed giving appropriate explanations. In the end, columns that contain string will be handled to make them numerical."
   ]
  },
  {
   "cell_type": "code",
   "execution_count": 1,
   "metadata": {},
   "outputs": [],
   "source": [
    "# necessary Python packages\n",
    "import pandas as pd\n",
    "import numpy as np\n",
    "import matplotlib.pyplot as plt\n",
    "\n",
    "from sklearn.preprocessing import OrdinalEncoder, StandardScaler\n",
    "from sklearn.model_selection import train_test_split\n",
    "from sklearn.utils import shuffle\n",
    "from sklearn.tree import DecisionTreeClassifier\n",
    "from sklearn.ensemble import RandomForestClassifier\n",
    "from sklearn.linear_model import LogisticRegression\n",
    "from sklearn.metrics import f1_score, roc_curve, roc_auc_score\n",
    "\n",
    "import warnings\n",
    "warnings.filterwarnings('ignore')"
   ]
  },
  {
   "cell_type": "code",
   "execution_count": 2,
   "metadata": {},
   "outputs": [
    {
     "data": {
      "text/html": [
       "<div>\n",
       "<style scoped>\n",
       "    .dataframe tbody tr th:only-of-type {\n",
       "        vertical-align: middle;\n",
       "    }\n",
       "\n",
       "    .dataframe tbody tr th {\n",
       "        vertical-align: top;\n",
       "    }\n",
       "\n",
       "    .dataframe thead th {\n",
       "        text-align: right;\n",
       "    }\n",
       "</style>\n",
       "<table border=\"1\" class=\"dataframe\">\n",
       "  <thead>\n",
       "    <tr style=\"text-align: right;\">\n",
       "      <th></th>\n",
       "      <th>RowNumber</th>\n",
       "      <th>CustomerId</th>\n",
       "      <th>Surname</th>\n",
       "      <th>CreditScore</th>\n",
       "      <th>Geography</th>\n",
       "      <th>Gender</th>\n",
       "      <th>Age</th>\n",
       "      <th>Tenure</th>\n",
       "      <th>Balance</th>\n",
       "      <th>NumOfProducts</th>\n",
       "      <th>HasCrCard</th>\n",
       "      <th>IsActiveMember</th>\n",
       "      <th>EstimatedSalary</th>\n",
       "      <th>Exited</th>\n",
       "    </tr>\n",
       "  </thead>\n",
       "  <tbody>\n",
       "    <tr>\n",
       "      <td>0</td>\n",
       "      <td>1</td>\n",
       "      <td>15634602</td>\n",
       "      <td>Hargrave</td>\n",
       "      <td>619</td>\n",
       "      <td>France</td>\n",
       "      <td>Female</td>\n",
       "      <td>42</td>\n",
       "      <td>2.0</td>\n",
       "      <td>0.00</td>\n",
       "      <td>1</td>\n",
       "      <td>1</td>\n",
       "      <td>1</td>\n",
       "      <td>101348.88</td>\n",
       "      <td>1</td>\n",
       "    </tr>\n",
       "    <tr>\n",
       "      <td>1</td>\n",
       "      <td>2</td>\n",
       "      <td>15647311</td>\n",
       "      <td>Hill</td>\n",
       "      <td>608</td>\n",
       "      <td>Spain</td>\n",
       "      <td>Female</td>\n",
       "      <td>41</td>\n",
       "      <td>1.0</td>\n",
       "      <td>83807.86</td>\n",
       "      <td>1</td>\n",
       "      <td>0</td>\n",
       "      <td>1</td>\n",
       "      <td>112542.58</td>\n",
       "      <td>0</td>\n",
       "    </tr>\n",
       "    <tr>\n",
       "      <td>2</td>\n",
       "      <td>3</td>\n",
       "      <td>15619304</td>\n",
       "      <td>Onio</td>\n",
       "      <td>502</td>\n",
       "      <td>France</td>\n",
       "      <td>Female</td>\n",
       "      <td>42</td>\n",
       "      <td>8.0</td>\n",
       "      <td>159660.80</td>\n",
       "      <td>3</td>\n",
       "      <td>1</td>\n",
       "      <td>0</td>\n",
       "      <td>113931.57</td>\n",
       "      <td>1</td>\n",
       "    </tr>\n",
       "    <tr>\n",
       "      <td>3</td>\n",
       "      <td>4</td>\n",
       "      <td>15701354</td>\n",
       "      <td>Boni</td>\n",
       "      <td>699</td>\n",
       "      <td>France</td>\n",
       "      <td>Female</td>\n",
       "      <td>39</td>\n",
       "      <td>1.0</td>\n",
       "      <td>0.00</td>\n",
       "      <td>2</td>\n",
       "      <td>0</td>\n",
       "      <td>0</td>\n",
       "      <td>93826.63</td>\n",
       "      <td>0</td>\n",
       "    </tr>\n",
       "    <tr>\n",
       "      <td>4</td>\n",
       "      <td>5</td>\n",
       "      <td>15737888</td>\n",
       "      <td>Mitchell</td>\n",
       "      <td>850</td>\n",
       "      <td>Spain</td>\n",
       "      <td>Female</td>\n",
       "      <td>43</td>\n",
       "      <td>2.0</td>\n",
       "      <td>125510.82</td>\n",
       "      <td>1</td>\n",
       "      <td>1</td>\n",
       "      <td>1</td>\n",
       "      <td>79084.10</td>\n",
       "      <td>0</td>\n",
       "    </tr>\n",
       "  </tbody>\n",
       "</table>\n",
       "</div>"
      ],
      "text/plain": [
       "   RowNumber  CustomerId   Surname  CreditScore Geography  Gender  Age  \\\n",
       "0          1    15634602  Hargrave          619    France  Female   42   \n",
       "1          2    15647311      Hill          608     Spain  Female   41   \n",
       "2          3    15619304      Onio          502    France  Female   42   \n",
       "3          4    15701354      Boni          699    France  Female   39   \n",
       "4          5    15737888  Mitchell          850     Spain  Female   43   \n",
       "\n",
       "   Tenure    Balance  NumOfProducts  HasCrCard  IsActiveMember  \\\n",
       "0     2.0       0.00              1          1               1   \n",
       "1     1.0   83807.86              1          0               1   \n",
       "2     8.0  159660.80              3          1               0   \n",
       "3     1.0       0.00              2          0               0   \n",
       "4     2.0  125510.82              1          1               1   \n",
       "\n",
       "   EstimatedSalary  Exited  \n",
       "0        101348.88       1  \n",
       "1        112542.58       0  \n",
       "2        113931.57       1  \n",
       "3         93826.63       0  \n",
       "4         79084.10       0  "
      ]
     },
     "execution_count": 2,
     "metadata": {},
     "output_type": "execute_result"
    }
   ],
   "source": [
    "# load data and explore\n",
    "df=pd.read_csv('/datasets/Churn.csv')\n",
    "df.head()"
   ]
  },
  {
   "cell_type": "code",
   "execution_count": 3,
   "metadata": {
    "scrolled": true
   },
   "outputs": [
    {
     "data": {
      "text/plain": [
       "(10000, 14)"
      ]
     },
     "execution_count": 3,
     "metadata": {},
     "output_type": "execute_result"
    }
   ],
   "source": [
    "# size of data\n",
    "df.shape"
   ]
  },
  {
   "cell_type": "code",
   "execution_count": 4,
   "metadata": {
    "scrolled": true
   },
   "outputs": [
    {
     "data": {
      "text/plain": [
       "Index(['rownumber', 'customerid', 'surname', 'creditscore', 'geography',\n",
       "       'gender', 'age', 'tenure', 'balance', 'numofproducts', 'hascrcard',\n",
       "       'isactivemember', 'estimatedsalary', 'exited'],\n",
       "      dtype='object')"
      ]
     },
     "execution_count": 4,
     "metadata": {},
     "output_type": "execute_result"
    }
   ],
   "source": [
    "#convert column names to lowercase\n",
    "df.columns=df.columns.str.lower()\n",
    "\n",
    "#check the result\n",
    "df.columns"
   ]
  },
  {
   "cell_type": "code",
   "execution_count": 5,
   "metadata": {},
   "outputs": [
    {
     "data": {
      "text/html": [
       "<style  type=\"text/css\" >\n",
       "    #T_d9d22fb0_d439_11eb_8fdd_02420a390effrow0_col0 {\n",
       "            background-color:  #fff7fb;\n",
       "            color:  #000000;\n",
       "        }    #T_d9d22fb0_d439_11eb_8fdd_02420a390effrow0_col1 {\n",
       "            background-color:  #fff7fb;\n",
       "            color:  #000000;\n",
       "        }    #T_d9d22fb0_d439_11eb_8fdd_02420a390effrow0_col2 {\n",
       "            background-color:  #fff7fb;\n",
       "            color:  #000000;\n",
       "        }    #T_d9d22fb0_d439_11eb_8fdd_02420a390effrow0_col3 {\n",
       "            background-color:  #fff7fb;\n",
       "            color:  #000000;\n",
       "        }    #T_d9d22fb0_d439_11eb_8fdd_02420a390effrow0_col4 {\n",
       "            background-color:  #fff7fb;\n",
       "            color:  #000000;\n",
       "        }    #T_d9d22fb0_d439_11eb_8fdd_02420a390effrow0_col5 {\n",
       "            background-color:  #fff7fb;\n",
       "            color:  #000000;\n",
       "        }    #T_d9d22fb0_d439_11eb_8fdd_02420a390effrow0_col6 {\n",
       "            background-color:  #fff7fb;\n",
       "            color:  #000000;\n",
       "        }    #T_d9d22fb0_d439_11eb_8fdd_02420a390effrow0_col7 {\n",
       "            background-color:  #023858;\n",
       "            color:  #f1f1f1;\n",
       "        }    #T_d9d22fb0_d439_11eb_8fdd_02420a390effrow0_col8 {\n",
       "            background-color:  #fff7fb;\n",
       "            color:  #000000;\n",
       "        }    #T_d9d22fb0_d439_11eb_8fdd_02420a390effrow0_col9 {\n",
       "            background-color:  #fff7fb;\n",
       "            color:  #000000;\n",
       "        }    #T_d9d22fb0_d439_11eb_8fdd_02420a390effrow0_col10 {\n",
       "            background-color:  #fff7fb;\n",
       "            color:  #000000;\n",
       "        }    #T_d9d22fb0_d439_11eb_8fdd_02420a390effrow0_col11 {\n",
       "            background-color:  #fff7fb;\n",
       "            color:  #000000;\n",
       "        }    #T_d9d22fb0_d439_11eb_8fdd_02420a390effrow0_col12 {\n",
       "            background-color:  #fff7fb;\n",
       "            color:  #000000;\n",
       "        }    #T_d9d22fb0_d439_11eb_8fdd_02420a390effrow0_col13 {\n",
       "            background-color:  #fff7fb;\n",
       "            color:  #000000;\n",
       "        }    #T_d9d22fb0_d439_11eb_8fdd_02420a390effrow1_col0 {\n",
       "            background-color:  #fff7fb;\n",
       "            color:  #000000;\n",
       "        }    #T_d9d22fb0_d439_11eb_8fdd_02420a390effrow1_col1 {\n",
       "            background-color:  #fff7fb;\n",
       "            color:  #000000;\n",
       "        }    #T_d9d22fb0_d439_11eb_8fdd_02420a390effrow1_col2 {\n",
       "            background-color:  #fff7fb;\n",
       "            color:  #000000;\n",
       "        }    #T_d9d22fb0_d439_11eb_8fdd_02420a390effrow1_col3 {\n",
       "            background-color:  #fff7fb;\n",
       "            color:  #000000;\n",
       "        }    #T_d9d22fb0_d439_11eb_8fdd_02420a390effrow1_col4 {\n",
       "            background-color:  #fff7fb;\n",
       "            color:  #000000;\n",
       "        }    #T_d9d22fb0_d439_11eb_8fdd_02420a390effrow1_col5 {\n",
       "            background-color:  #fff7fb;\n",
       "            color:  #000000;\n",
       "        }    #T_d9d22fb0_d439_11eb_8fdd_02420a390effrow1_col6 {\n",
       "            background-color:  #fff7fb;\n",
       "            color:  #000000;\n",
       "        }    #T_d9d22fb0_d439_11eb_8fdd_02420a390effrow1_col7 {\n",
       "            background-color:  #023858;\n",
       "            color:  #f1f1f1;\n",
       "        }    #T_d9d22fb0_d439_11eb_8fdd_02420a390effrow1_col8 {\n",
       "            background-color:  #fff7fb;\n",
       "            color:  #000000;\n",
       "        }    #T_d9d22fb0_d439_11eb_8fdd_02420a390effrow1_col9 {\n",
       "            background-color:  #fff7fb;\n",
       "            color:  #000000;\n",
       "        }    #T_d9d22fb0_d439_11eb_8fdd_02420a390effrow1_col10 {\n",
       "            background-color:  #fff7fb;\n",
       "            color:  #000000;\n",
       "        }    #T_d9d22fb0_d439_11eb_8fdd_02420a390effrow1_col11 {\n",
       "            background-color:  #fff7fb;\n",
       "            color:  #000000;\n",
       "        }    #T_d9d22fb0_d439_11eb_8fdd_02420a390effrow1_col12 {\n",
       "            background-color:  #fff7fb;\n",
       "            color:  #000000;\n",
       "        }    #T_d9d22fb0_d439_11eb_8fdd_02420a390effrow1_col13 {\n",
       "            background-color:  #fff7fb;\n",
       "            color:  #000000;\n",
       "        }</style><table id=\"T_d9d22fb0_d439_11eb_8fdd_02420a390eff\" ><thead>    <tr>        <th class=\"blank level0\" ></th>        <th class=\"col_heading level0 col0\" >rownumber</th>        <th class=\"col_heading level0 col1\" >customerid</th>        <th class=\"col_heading level0 col2\" >surname</th>        <th class=\"col_heading level0 col3\" >creditscore</th>        <th class=\"col_heading level0 col4\" >geography</th>        <th class=\"col_heading level0 col5\" >gender</th>        <th class=\"col_heading level0 col6\" >age</th>        <th class=\"col_heading level0 col7\" >tenure</th>        <th class=\"col_heading level0 col8\" >balance</th>        <th class=\"col_heading level0 col9\" >numofproducts</th>        <th class=\"col_heading level0 col10\" >hascrcard</th>        <th class=\"col_heading level0 col11\" >isactivemember</th>        <th class=\"col_heading level0 col12\" >estimatedsalary</th>        <th class=\"col_heading level0 col13\" >exited</th>    </tr></thead><tbody>\n",
       "                <tr>\n",
       "                        <th id=\"T_d9d22fb0_d439_11eb_8fdd_02420a390efflevel0_row0\" class=\"row_heading level0 row0\" >Number of missings</th>\n",
       "                        <td id=\"T_d9d22fb0_d439_11eb_8fdd_02420a390effrow0_col0\" class=\"data row0 col0\" >0</td>\n",
       "                        <td id=\"T_d9d22fb0_d439_11eb_8fdd_02420a390effrow0_col1\" class=\"data row0 col1\" >0</td>\n",
       "                        <td id=\"T_d9d22fb0_d439_11eb_8fdd_02420a390effrow0_col2\" class=\"data row0 col2\" >0</td>\n",
       "                        <td id=\"T_d9d22fb0_d439_11eb_8fdd_02420a390effrow0_col3\" class=\"data row0 col3\" >0</td>\n",
       "                        <td id=\"T_d9d22fb0_d439_11eb_8fdd_02420a390effrow0_col4\" class=\"data row0 col4\" >0</td>\n",
       "                        <td id=\"T_d9d22fb0_d439_11eb_8fdd_02420a390effrow0_col5\" class=\"data row0 col5\" >0</td>\n",
       "                        <td id=\"T_d9d22fb0_d439_11eb_8fdd_02420a390effrow0_col6\" class=\"data row0 col6\" >0</td>\n",
       "                        <td id=\"T_d9d22fb0_d439_11eb_8fdd_02420a390effrow0_col7\" class=\"data row0 col7\" >909</td>\n",
       "                        <td id=\"T_d9d22fb0_d439_11eb_8fdd_02420a390effrow0_col8\" class=\"data row0 col8\" >0</td>\n",
       "                        <td id=\"T_d9d22fb0_d439_11eb_8fdd_02420a390effrow0_col9\" class=\"data row0 col9\" >0</td>\n",
       "                        <td id=\"T_d9d22fb0_d439_11eb_8fdd_02420a390effrow0_col10\" class=\"data row0 col10\" >0</td>\n",
       "                        <td id=\"T_d9d22fb0_d439_11eb_8fdd_02420a390effrow0_col11\" class=\"data row0 col11\" >0</td>\n",
       "                        <td id=\"T_d9d22fb0_d439_11eb_8fdd_02420a390effrow0_col12\" class=\"data row0 col12\" >0</td>\n",
       "                        <td id=\"T_d9d22fb0_d439_11eb_8fdd_02420a390effrow0_col13\" class=\"data row0 col13\" >0</td>\n",
       "            </tr>\n",
       "            <tr>\n",
       "                        <th id=\"T_d9d22fb0_d439_11eb_8fdd_02420a390efflevel0_row1\" class=\"row_heading level0 row1\" >% of missings</th>\n",
       "                        <td id=\"T_d9d22fb0_d439_11eb_8fdd_02420a390effrow1_col0\" class=\"data row1 col0\" >0</td>\n",
       "                        <td id=\"T_d9d22fb0_d439_11eb_8fdd_02420a390effrow1_col1\" class=\"data row1 col1\" >0</td>\n",
       "                        <td id=\"T_d9d22fb0_d439_11eb_8fdd_02420a390effrow1_col2\" class=\"data row1 col2\" >0</td>\n",
       "                        <td id=\"T_d9d22fb0_d439_11eb_8fdd_02420a390effrow1_col3\" class=\"data row1 col3\" >0</td>\n",
       "                        <td id=\"T_d9d22fb0_d439_11eb_8fdd_02420a390effrow1_col4\" class=\"data row1 col4\" >0</td>\n",
       "                        <td id=\"T_d9d22fb0_d439_11eb_8fdd_02420a390effrow1_col5\" class=\"data row1 col5\" >0</td>\n",
       "                        <td id=\"T_d9d22fb0_d439_11eb_8fdd_02420a390effrow1_col6\" class=\"data row1 col6\" >0</td>\n",
       "                        <td id=\"T_d9d22fb0_d439_11eb_8fdd_02420a390effrow1_col7\" class=\"data row1 col7\" >9.09</td>\n",
       "                        <td id=\"T_d9d22fb0_d439_11eb_8fdd_02420a390effrow1_col8\" class=\"data row1 col8\" >0</td>\n",
       "                        <td id=\"T_d9d22fb0_d439_11eb_8fdd_02420a390effrow1_col9\" class=\"data row1 col9\" >0</td>\n",
       "                        <td id=\"T_d9d22fb0_d439_11eb_8fdd_02420a390effrow1_col10\" class=\"data row1 col10\" >0</td>\n",
       "                        <td id=\"T_d9d22fb0_d439_11eb_8fdd_02420a390effrow1_col11\" class=\"data row1 col11\" >0</td>\n",
       "                        <td id=\"T_d9d22fb0_d439_11eb_8fdd_02420a390effrow1_col12\" class=\"data row1 col12\" >0</td>\n",
       "                        <td id=\"T_d9d22fb0_d439_11eb_8fdd_02420a390effrow1_col13\" class=\"data row1 col13\" >0</td>\n",
       "            </tr>\n",
       "    </tbody></table>"
      ],
      "text/plain": [
       "<pandas.io.formats.style.Styler at 0x7f3c00a62a50>"
      ]
     },
     "execution_count": 5,
     "metadata": {},
     "output_type": "execute_result"
    }
   ],
   "source": [
    "#function that check number of missing values and their percentages in each column\n",
    "def missing_data(df):\n",
    "    col_names=df.columns.tolist()\n",
    "    na_per_col=df.isna().sum().tolist()\n",
    "    na_percentage=(df.isna().sum()/len(df)*100).tolist()\n",
    "    return pd.DataFrame((na_per_col, na_percentage), index=['Number of missings', '% of missings'], columns=col_names)\\\n",
    ".style.background_gradient(axis=1)\n",
    "\n",
    "#apply the function\n",
    "missing_data(df)"
   ]
  },
  {
   "cell_type": "code",
   "execution_count": 6,
   "metadata": {},
   "outputs": [
    {
     "data": {
      "text/plain": [
       "0"
      ]
     },
     "execution_count": 6,
     "metadata": {},
     "output_type": "execute_result"
    }
   ],
   "source": [
    "#fill missing values\n",
    "df['tenure']=df['tenure'].ffill(axis=0)\n",
    "\n",
    "#check the result\n",
    "df.tenure.isna().sum()"
   ]
  },
  {
   "cell_type": "code",
   "execution_count": 7,
   "metadata": {},
   "outputs": [
    {
     "data": {
      "text/plain": [
       "0"
      ]
     },
     "execution_count": 7,
     "metadata": {},
     "output_type": "execute_result"
    }
   ],
   "source": [
    "#check for duplicated rows\n",
    "df.duplicated().sum()"
   ]
  },
  {
   "cell_type": "code",
   "execution_count": 8,
   "metadata": {
    "scrolled": true
   },
   "outputs": [
    {
     "data": {
      "text/html": [
       "<div>\n",
       "<style scoped>\n",
       "    .dataframe tbody tr th:only-of-type {\n",
       "        vertical-align: middle;\n",
       "    }\n",
       "\n",
       "    .dataframe tbody tr th {\n",
       "        vertical-align: top;\n",
       "    }\n",
       "\n",
       "    .dataframe thead th {\n",
       "        text-align: right;\n",
       "    }\n",
       "</style>\n",
       "<table border=\"1\" class=\"dataframe\">\n",
       "  <thead>\n",
       "    <tr style=\"text-align: right;\">\n",
       "      <th></th>\n",
       "      <th>creditscore</th>\n",
       "      <th>geography</th>\n",
       "      <th>gender</th>\n",
       "      <th>age</th>\n",
       "      <th>tenure</th>\n",
       "      <th>balance</th>\n",
       "      <th>numofproducts</th>\n",
       "      <th>hascrcard</th>\n",
       "      <th>isactivemember</th>\n",
       "      <th>estimatedsalary</th>\n",
       "      <th>exited</th>\n",
       "    </tr>\n",
       "  </thead>\n",
       "  <tbody>\n",
       "    <tr>\n",
       "      <td>0</td>\n",
       "      <td>619</td>\n",
       "      <td>France</td>\n",
       "      <td>Female</td>\n",
       "      <td>42</td>\n",
       "      <td>2.0</td>\n",
       "      <td>0.00</td>\n",
       "      <td>1</td>\n",
       "      <td>1</td>\n",
       "      <td>1</td>\n",
       "      <td>101348.88</td>\n",
       "      <td>1</td>\n",
       "    </tr>\n",
       "    <tr>\n",
       "      <td>1</td>\n",
       "      <td>608</td>\n",
       "      <td>Spain</td>\n",
       "      <td>Female</td>\n",
       "      <td>41</td>\n",
       "      <td>1.0</td>\n",
       "      <td>83807.86</td>\n",
       "      <td>1</td>\n",
       "      <td>0</td>\n",
       "      <td>1</td>\n",
       "      <td>112542.58</td>\n",
       "      <td>0</td>\n",
       "    </tr>\n",
       "  </tbody>\n",
       "</table>\n",
       "</div>"
      ],
      "text/plain": [
       "   creditscore geography  gender  age  tenure   balance  numofproducts  \\\n",
       "0          619    France  Female   42     2.0      0.00              1   \n",
       "1          608     Spain  Female   41     1.0  83807.86              1   \n",
       "\n",
       "   hascrcard  isactivemember  estimatedsalary  exited  \n",
       "0          1               1        101348.88       1  \n",
       "1          0               1        112542.58       0  "
      ]
     },
     "execution_count": 8,
     "metadata": {},
     "output_type": "execute_result"
    }
   ],
   "source": [
    "#drop unnecessary columns\n",
    "df=df.drop(['rownumber', 'customerid', 'surname'], axis=1)\n",
    "\n",
    "#check the result\n",
    "df.head(2)"
   ]
  },
  {
   "cell_type": "code",
   "execution_count": 9,
   "metadata": {
    "scrolled": true
   },
   "outputs": [
    {
     "data": {
      "text/html": [
       "<style  type=\"text/css\" >\n",
       "    #T_d9ded260_d439_11eb_8fdd_02420a390effrow0_col0 {\n",
       "            background-color:  #023858;\n",
       "            color:  #f1f1f1;\n",
       "        }    #T_d9ded260_d439_11eb_8fdd_02420a390effrow0_col1 {\n",
       "            background-color:  #fbf3f9;\n",
       "            color:  #000000;\n",
       "        }    #T_d9ded260_d439_11eb_8fdd_02420a390effrow0_col2 {\n",
       "            background-color:  #fbf3f9;\n",
       "            color:  #000000;\n",
       "        }    #T_d9ded260_d439_11eb_8fdd_02420a390effrow0_col3 {\n",
       "            background-color:  #d2d3e7;\n",
       "            color:  #000000;\n",
       "        }    #T_d9ded260_d439_11eb_8fdd_02420a390effrow0_col4 {\n",
       "            background-color:  #d2d3e7;\n",
       "            color:  #000000;\n",
       "        }    #T_d9ded260_d439_11eb_8fdd_02420a390effrow0_col5 {\n",
       "            background-color:  #fff7fb;\n",
       "            color:  #000000;\n",
       "        }    #T_d9ded260_d439_11eb_8fdd_02420a390effrow0_col6 {\n",
       "            background-color:  #e4e1ef;\n",
       "            color:  #000000;\n",
       "        }    #T_d9ded260_d439_11eb_8fdd_02420a390effrow0_col7 {\n",
       "            background-color:  #fef6fa;\n",
       "            color:  #000000;\n",
       "        }    #T_d9ded260_d439_11eb_8fdd_02420a390effrow0_col8 {\n",
       "            background-color:  #eee9f3;\n",
       "            color:  #000000;\n",
       "        }    #T_d9ded260_d439_11eb_8fdd_02420a390effrow1_col0 {\n",
       "            background-color:  #fbf3f9;\n",
       "            color:  #000000;\n",
       "        }    #T_d9ded260_d439_11eb_8fdd_02420a390effrow1_col1 {\n",
       "            background-color:  #023858;\n",
       "            color:  #f1f1f1;\n",
       "        }    #T_d9ded260_d439_11eb_8fdd_02420a390effrow1_col2 {\n",
       "            background-color:  #fdf5fa;\n",
       "            color:  #000000;\n",
       "        }    #T_d9ded260_d439_11eb_8fdd_02420a390effrow1_col3 {\n",
       "            background-color:  #d0d1e6;\n",
       "            color:  #000000;\n",
       "        }    #T_d9ded260_d439_11eb_8fdd_02420a390effrow1_col4 {\n",
       "            background-color:  #d9d8ea;\n",
       "            color:  #000000;\n",
       "        }    #T_d9ded260_d439_11eb_8fdd_02420a390effrow1_col5 {\n",
       "            background-color:  #fff7fb;\n",
       "            color:  #000000;\n",
       "        }    #T_d9ded260_d439_11eb_8fdd_02420a390effrow1_col6 {\n",
       "            background-color:  #d8d7e9;\n",
       "            color:  #000000;\n",
       "        }    #T_d9ded260_d439_11eb_8fdd_02420a390effrow1_col7 {\n",
       "            background-color:  #fff7fb;\n",
       "            color:  #000000;\n",
       "        }    #T_d9ded260_d439_11eb_8fdd_02420a390effrow1_col8 {\n",
       "            background-color:  #a1bbda;\n",
       "            color:  #000000;\n",
       "        }    #T_d9ded260_d439_11eb_8fdd_02420a390effrow2_col0 {\n",
       "            background-color:  #fbf3f9;\n",
       "            color:  #000000;\n",
       "        }    #T_d9ded260_d439_11eb_8fdd_02420a390effrow2_col1 {\n",
       "            background-color:  #fdf5fa;\n",
       "            color:  #000000;\n",
       "        }    #T_d9ded260_d439_11eb_8fdd_02420a390effrow2_col2 {\n",
       "            background-color:  #023858;\n",
       "            color:  #f1f1f1;\n",
       "        }    #T_d9ded260_d439_11eb_8fdd_02420a390effrow2_col3 {\n",
       "            background-color:  #d6d6e9;\n",
       "            color:  #000000;\n",
       "        }    #T_d9ded260_d439_11eb_8fdd_02420a390effrow2_col4 {\n",
       "            background-color:  #d2d3e7;\n",
       "            color:  #000000;\n",
       "        }    #T_d9ded260_d439_11eb_8fdd_02420a390effrow2_col5 {\n",
       "            background-color:  #fbf3f9;\n",
       "            color:  #000000;\n",
       "        }    #T_d9ded260_d439_11eb_8fdd_02420a390effrow2_col6 {\n",
       "            background-color:  #eee9f3;\n",
       "            color:  #000000;\n",
       "        }    #T_d9ded260_d439_11eb_8fdd_02420a390effrow2_col7 {\n",
       "            background-color:  #fcf4fa;\n",
       "            color:  #000000;\n",
       "        }    #T_d9ded260_d439_11eb_8fdd_02420a390effrow2_col8 {\n",
       "            background-color:  #ede8f3;\n",
       "            color:  #000000;\n",
       "        }    #T_d9ded260_d439_11eb_8fdd_02420a390effrow3_col0 {\n",
       "            background-color:  #faf2f8;\n",
       "            color:  #000000;\n",
       "        }    #T_d9ded260_d439_11eb_8fdd_02420a390effrow3_col1 {\n",
       "            background-color:  #f7f0f7;\n",
       "            color:  #000000;\n",
       "        }    #T_d9ded260_d439_11eb_8fdd_02420a390effrow3_col2 {\n",
       "            background-color:  #fdf5fa;\n",
       "            color:  #000000;\n",
       "        }    #T_d9ded260_d439_11eb_8fdd_02420a390effrow3_col3 {\n",
       "            background-color:  #023858;\n",
       "            color:  #f1f1f1;\n",
       "        }    #T_d9ded260_d439_11eb_8fdd_02420a390effrow3_col4 {\n",
       "            background-color:  #fff7fb;\n",
       "            color:  #000000;\n",
       "        }    #T_d9ded260_d439_11eb_8fdd_02420a390effrow3_col5 {\n",
       "            background-color:  #fff7fb;\n",
       "            color:  #000000;\n",
       "        }    #T_d9ded260_d439_11eb_8fdd_02420a390effrow3_col6 {\n",
       "            background-color:  #ebe6f2;\n",
       "            color:  #000000;\n",
       "        }    #T_d9ded260_d439_11eb_8fdd_02420a390effrow3_col7 {\n",
       "            background-color:  #fcf4fa;\n",
       "            color:  #000000;\n",
       "        }    #T_d9ded260_d439_11eb_8fdd_02420a390effrow3_col8 {\n",
       "            background-color:  #d2d3e7;\n",
       "            color:  #000000;\n",
       "        }    #T_d9ded260_d439_11eb_8fdd_02420a390effrow4_col0 {\n",
       "            background-color:  #faf2f8;\n",
       "            color:  #000000;\n",
       "        }    #T_d9ded260_d439_11eb_8fdd_02420a390effrow4_col1 {\n",
       "            background-color:  #fff7fb;\n",
       "            color:  #000000;\n",
       "        }    #T_d9ded260_d439_11eb_8fdd_02420a390effrow4_col2 {\n",
       "            background-color:  #faf2f8;\n",
       "            color:  #000000;\n",
       "        }    #T_d9ded260_d439_11eb_8fdd_02420a390effrow4_col3 {\n",
       "            background-color:  #fff7fb;\n",
       "            color:  #000000;\n",
       "        }    #T_d9ded260_d439_11eb_8fdd_02420a390effrow4_col4 {\n",
       "            background-color:  #023858;\n",
       "            color:  #f1f1f1;\n",
       "        }    #T_d9ded260_d439_11eb_8fdd_02420a390effrow4_col5 {\n",
       "            background-color:  #fef6fa;\n",
       "            color:  #000000;\n",
       "        }    #T_d9ded260_d439_11eb_8fdd_02420a390effrow4_col6 {\n",
       "            background-color:  #e7e3f0;\n",
       "            color:  #000000;\n",
       "        }    #T_d9ded260_d439_11eb_8fdd_02420a390effrow4_col7 {\n",
       "            background-color:  #fcf4fa;\n",
       "            color:  #000000;\n",
       "        }    #T_d9ded260_d439_11eb_8fdd_02420a390effrow4_col8 {\n",
       "            background-color:  #f1ebf4;\n",
       "            color:  #000000;\n",
       "        }    #T_d9ded260_d439_11eb_8fdd_02420a390effrow5_col0 {\n",
       "            background-color:  #fdf5fa;\n",
       "            color:  #000000;\n",
       "        }    #T_d9ded260_d439_11eb_8fdd_02420a390effrow5_col1 {\n",
       "            background-color:  #fdf5fa;\n",
       "            color:  #000000;\n",
       "        }    #T_d9ded260_d439_11eb_8fdd_02420a390effrow5_col2 {\n",
       "            background-color:  #f8f1f8;\n",
       "            color:  #000000;\n",
       "        }    #T_d9ded260_d439_11eb_8fdd_02420a390effrow5_col3 {\n",
       "            background-color:  #d6d6e9;\n",
       "            color:  #000000;\n",
       "        }    #T_d9ded260_d439_11eb_8fdd_02420a390effrow5_col4 {\n",
       "            background-color:  #d4d4e8;\n",
       "            color:  #000000;\n",
       "        }    #T_d9ded260_d439_11eb_8fdd_02420a390effrow5_col5 {\n",
       "            background-color:  #023858;\n",
       "            color:  #f1f1f1;\n",
       "        }    #T_d9ded260_d439_11eb_8fdd_02420a390effrow5_col6 {\n",
       "            background-color:  #ebe6f2;\n",
       "            color:  #000000;\n",
       "        }    #T_d9ded260_d439_11eb_8fdd_02420a390effrow5_col7 {\n",
       "            background-color:  #fff7fb;\n",
       "            color:  #000000;\n",
       "        }    #T_d9ded260_d439_11eb_8fdd_02420a390effrow5_col8 {\n",
       "            background-color:  #ebe6f2;\n",
       "            color:  #000000;\n",
       "        }    #T_d9ded260_d439_11eb_8fdd_02420a390effrow6_col0 {\n",
       "            background-color:  #f7f0f7;\n",
       "            color:  #000000;\n",
       "        }    #T_d9ded260_d439_11eb_8fdd_02420a390effrow6_col1 {\n",
       "            background-color:  #eee8f3;\n",
       "            color:  #000000;\n",
       "        }    #T_d9ded260_d439_11eb_8fdd_02420a390effrow6_col2 {\n",
       "            background-color:  #fff7fb;\n",
       "            color:  #000000;\n",
       "        }    #T_d9ded260_d439_11eb_8fdd_02420a390effrow6_col3 {\n",
       "            background-color:  #d6d6e9;\n",
       "            color:  #000000;\n",
       "        }    #T_d9ded260_d439_11eb_8fdd_02420a390effrow6_col4 {\n",
       "            background-color:  #d2d3e7;\n",
       "            color:  #000000;\n",
       "        }    #T_d9ded260_d439_11eb_8fdd_02420a390effrow6_col5 {\n",
       "            background-color:  #fff7fb;\n",
       "            color:  #000000;\n",
       "        }    #T_d9ded260_d439_11eb_8fdd_02420a390effrow6_col6 {\n",
       "            background-color:  #023858;\n",
       "            color:  #f1f1f1;\n",
       "        }    #T_d9ded260_d439_11eb_8fdd_02420a390effrow6_col7 {\n",
       "            background-color:  #fff7fb;\n",
       "            color:  #000000;\n",
       "        }    #T_d9ded260_d439_11eb_8fdd_02420a390effrow6_col8 {\n",
       "            background-color:  #fff7fb;\n",
       "            color:  #000000;\n",
       "        }    #T_d9ded260_d439_11eb_8fdd_02420a390effrow7_col0 {\n",
       "            background-color:  #fbf3f9;\n",
       "            color:  #000000;\n",
       "        }    #T_d9ded260_d439_11eb_8fdd_02420a390effrow7_col1 {\n",
       "            background-color:  #fdf5fa;\n",
       "            color:  #000000;\n",
       "        }    #T_d9ded260_d439_11eb_8fdd_02420a390effrow7_col2 {\n",
       "            background-color:  #faf2f8;\n",
       "            color:  #000000;\n",
       "        }    #T_d9ded260_d439_11eb_8fdd_02420a390effrow7_col3 {\n",
       "            background-color:  #d2d3e7;\n",
       "            color:  #000000;\n",
       "        }    #T_d9ded260_d439_11eb_8fdd_02420a390effrow7_col4 {\n",
       "            background-color:  #d2d3e7;\n",
       "            color:  #000000;\n",
       "        }    #T_d9ded260_d439_11eb_8fdd_02420a390effrow7_col5 {\n",
       "            background-color:  #fff7fb;\n",
       "            color:  #000000;\n",
       "        }    #T_d9ded260_d439_11eb_8fdd_02420a390effrow7_col6 {\n",
       "            background-color:  #ebe6f2;\n",
       "            color:  #000000;\n",
       "        }    #T_d9ded260_d439_11eb_8fdd_02420a390effrow7_col7 {\n",
       "            background-color:  #023858;\n",
       "            color:  #f1f1f1;\n",
       "        }    #T_d9ded260_d439_11eb_8fdd_02420a390effrow7_col8 {\n",
       "            background-color:  #e7e3f0;\n",
       "            color:  #000000;\n",
       "        }    #T_d9ded260_d439_11eb_8fdd_02420a390effrow8_col0 {\n",
       "            background-color:  #fff7fb;\n",
       "            color:  #000000;\n",
       "        }    #T_d9ded260_d439_11eb_8fdd_02420a390effrow8_col1 {\n",
       "            background-color:  #bcc7e1;\n",
       "            color:  #000000;\n",
       "        }    #T_d9ded260_d439_11eb_8fdd_02420a390effrow8_col2 {\n",
       "            background-color:  #fef6fa;\n",
       "            color:  #000000;\n",
       "        }    #T_d9ded260_d439_11eb_8fdd_02420a390effrow8_col3 {\n",
       "            background-color:  #b8c6e0;\n",
       "            color:  #000000;\n",
       "        }    #T_d9ded260_d439_11eb_8fdd_02420a390effrow8_col4 {\n",
       "            background-color:  #dddbec;\n",
       "            color:  #000000;\n",
       "        }    #T_d9ded260_d439_11eb_8fdd_02420a390effrow8_col5 {\n",
       "            background-color:  #fff7fb;\n",
       "            color:  #000000;\n",
       "        }    #T_d9ded260_d439_11eb_8fdd_02420a390effrow8_col6 {\n",
       "            background-color:  #fff7fb;\n",
       "            color:  #000000;\n",
       "        }    #T_d9ded260_d439_11eb_8fdd_02420a390effrow8_col7 {\n",
       "            background-color:  #fcf4fa;\n",
       "            color:  #000000;\n",
       "        }    #T_d9ded260_d439_11eb_8fdd_02420a390effrow8_col8 {\n",
       "            background-color:  #023858;\n",
       "            color:  #f1f1f1;\n",
       "        }</style><table id=\"T_d9ded260_d439_11eb_8fdd_02420a390eff\" ><thead>    <tr>        <th class=\"blank level0\" ></th>        <th class=\"col_heading level0 col0\" >creditscore</th>        <th class=\"col_heading level0 col1\" >age</th>        <th class=\"col_heading level0 col2\" >tenure</th>        <th class=\"col_heading level0 col3\" >balance</th>        <th class=\"col_heading level0 col4\" >numofproducts</th>        <th class=\"col_heading level0 col5\" >hascrcard</th>        <th class=\"col_heading level0 col6\" >isactivemember</th>        <th class=\"col_heading level0 col7\" >estimatedsalary</th>        <th class=\"col_heading level0 col8\" >exited</th>    </tr></thead><tbody>\n",
       "                <tr>\n",
       "                        <th id=\"T_d9ded260_d439_11eb_8fdd_02420a390efflevel0_row0\" class=\"row_heading level0 row0\" >creditscore</th>\n",
       "                        <td id=\"T_d9ded260_d439_11eb_8fdd_02420a390effrow0_col0\" class=\"data row0 col0\" >1</td>\n",
       "                        <td id=\"T_d9ded260_d439_11eb_8fdd_02420a390effrow0_col1\" class=\"data row0 col1\" >-0</td>\n",
       "                        <td id=\"T_d9ded260_d439_11eb_8fdd_02420a390effrow0_col2\" class=\"data row0 col2\" >-0</td>\n",
       "                        <td id=\"T_d9ded260_d439_11eb_8fdd_02420a390effrow0_col3\" class=\"data row0 col3\" >0.01</td>\n",
       "                        <td id=\"T_d9ded260_d439_11eb_8fdd_02420a390effrow0_col4\" class=\"data row0 col4\" >0.01</td>\n",
       "                        <td id=\"T_d9ded260_d439_11eb_8fdd_02420a390effrow0_col5\" class=\"data row0 col5\" >-0.01</td>\n",
       "                        <td id=\"T_d9ded260_d439_11eb_8fdd_02420a390effrow0_col6\" class=\"data row0 col6\" >0.03</td>\n",
       "                        <td id=\"T_d9ded260_d439_11eb_8fdd_02420a390effrow0_col7\" class=\"data row0 col7\" >-0</td>\n",
       "                        <td id=\"T_d9ded260_d439_11eb_8fdd_02420a390effrow0_col8\" class=\"data row0 col8\" >-0.03</td>\n",
       "            </tr>\n",
       "            <tr>\n",
       "                        <th id=\"T_d9ded260_d439_11eb_8fdd_02420a390efflevel0_row1\" class=\"row_heading level0 row1\" >age</th>\n",
       "                        <td id=\"T_d9ded260_d439_11eb_8fdd_02420a390effrow1_col0\" class=\"data row1 col0\" >-0</td>\n",
       "                        <td id=\"T_d9ded260_d439_11eb_8fdd_02420a390effrow1_col1\" class=\"data row1 col1\" >1</td>\n",
       "                        <td id=\"T_d9ded260_d439_11eb_8fdd_02420a390effrow1_col2\" class=\"data row1 col2\" >-0.01</td>\n",
       "                        <td id=\"T_d9ded260_d439_11eb_8fdd_02420a390effrow1_col3\" class=\"data row1 col3\" >0.03</td>\n",
       "                        <td id=\"T_d9ded260_d439_11eb_8fdd_02420a390effrow1_col4\" class=\"data row1 col4\" >-0.03</td>\n",
       "                        <td id=\"T_d9ded260_d439_11eb_8fdd_02420a390effrow1_col5\" class=\"data row1 col5\" >-0.01</td>\n",
       "                        <td id=\"T_d9ded260_d439_11eb_8fdd_02420a390effrow1_col6\" class=\"data row1 col6\" >0.09</td>\n",
       "                        <td id=\"T_d9ded260_d439_11eb_8fdd_02420a390effrow1_col7\" class=\"data row1 col7\" >-0.01</td>\n",
       "                        <td id=\"T_d9ded260_d439_11eb_8fdd_02420a390effrow1_col8\" class=\"data row1 col8\" >0.29</td>\n",
       "            </tr>\n",
       "            <tr>\n",
       "                        <th id=\"T_d9ded260_d439_11eb_8fdd_02420a390efflevel0_row2\" class=\"row_heading level0 row2\" >tenure</th>\n",
       "                        <td id=\"T_d9ded260_d439_11eb_8fdd_02420a390effrow2_col0\" class=\"data row2 col0\" >-0</td>\n",
       "                        <td id=\"T_d9ded260_d439_11eb_8fdd_02420a390effrow2_col1\" class=\"data row2 col1\" >-0.01</td>\n",
       "                        <td id=\"T_d9ded260_d439_11eb_8fdd_02420a390effrow2_col2\" class=\"data row2 col2\" >1</td>\n",
       "                        <td id=\"T_d9ded260_d439_11eb_8fdd_02420a390effrow2_col3\" class=\"data row2 col3\" >-0.01</td>\n",
       "                        <td id=\"T_d9ded260_d439_11eb_8fdd_02420a390effrow2_col4\" class=\"data row2 col4\" >0.01</td>\n",
       "                        <td id=\"T_d9ded260_d439_11eb_8fdd_02420a390effrow2_col5\" class=\"data row2 col5\" >0.02</td>\n",
       "                        <td id=\"T_d9ded260_d439_11eb_8fdd_02420a390effrow2_col6\" class=\"data row2 col6\" >-0.03</td>\n",
       "                        <td id=\"T_d9ded260_d439_11eb_8fdd_02420a390effrow2_col7\" class=\"data row2 col7\" >0.01</td>\n",
       "                        <td id=\"T_d9ded260_d439_11eb_8fdd_02420a390effrow2_col8\" class=\"data row2 col8\" >-0.02</td>\n",
       "            </tr>\n",
       "            <tr>\n",
       "                        <th id=\"T_d9ded260_d439_11eb_8fdd_02420a390efflevel0_row3\" class=\"row_heading level0 row3\" >balance</th>\n",
       "                        <td id=\"T_d9ded260_d439_11eb_8fdd_02420a390effrow3_col0\" class=\"data row3 col0\" >0.01</td>\n",
       "                        <td id=\"T_d9ded260_d439_11eb_8fdd_02420a390effrow3_col1\" class=\"data row3 col1\" >0.03</td>\n",
       "                        <td id=\"T_d9ded260_d439_11eb_8fdd_02420a390effrow3_col2\" class=\"data row3 col2\" >-0.01</td>\n",
       "                        <td id=\"T_d9ded260_d439_11eb_8fdd_02420a390effrow3_col3\" class=\"data row3 col3\" >1</td>\n",
       "                        <td id=\"T_d9ded260_d439_11eb_8fdd_02420a390effrow3_col4\" class=\"data row3 col4\" >-0.3</td>\n",
       "                        <td id=\"T_d9ded260_d439_11eb_8fdd_02420a390effrow3_col5\" class=\"data row3 col5\" >-0.01</td>\n",
       "                        <td id=\"T_d9ded260_d439_11eb_8fdd_02420a390effrow3_col6\" class=\"data row3 col6\" >-0.01</td>\n",
       "                        <td id=\"T_d9ded260_d439_11eb_8fdd_02420a390effrow3_col7\" class=\"data row3 col7\" >0.01</td>\n",
       "                        <td id=\"T_d9ded260_d439_11eb_8fdd_02420a390effrow3_col8\" class=\"data row3 col8\" >0.12</td>\n",
       "            </tr>\n",
       "            <tr>\n",
       "                        <th id=\"T_d9ded260_d439_11eb_8fdd_02420a390efflevel0_row4\" class=\"row_heading level0 row4\" >numofproducts</th>\n",
       "                        <td id=\"T_d9ded260_d439_11eb_8fdd_02420a390effrow4_col0\" class=\"data row4 col0\" >0.01</td>\n",
       "                        <td id=\"T_d9ded260_d439_11eb_8fdd_02420a390effrow4_col1\" class=\"data row4 col1\" >-0.03</td>\n",
       "                        <td id=\"T_d9ded260_d439_11eb_8fdd_02420a390effrow4_col2\" class=\"data row4 col2\" >0.01</td>\n",
       "                        <td id=\"T_d9ded260_d439_11eb_8fdd_02420a390effrow4_col3\" class=\"data row4 col3\" >-0.3</td>\n",
       "                        <td id=\"T_d9ded260_d439_11eb_8fdd_02420a390effrow4_col4\" class=\"data row4 col4\" >1</td>\n",
       "                        <td id=\"T_d9ded260_d439_11eb_8fdd_02420a390effrow4_col5\" class=\"data row4 col5\" >0</td>\n",
       "                        <td id=\"T_d9ded260_d439_11eb_8fdd_02420a390effrow4_col6\" class=\"data row4 col6\" >0.01</td>\n",
       "                        <td id=\"T_d9ded260_d439_11eb_8fdd_02420a390effrow4_col7\" class=\"data row4 col7\" >0.01</td>\n",
       "                        <td id=\"T_d9ded260_d439_11eb_8fdd_02420a390effrow4_col8\" class=\"data row4 col8\" >-0.05</td>\n",
       "            </tr>\n",
       "            <tr>\n",
       "                        <th id=\"T_d9ded260_d439_11eb_8fdd_02420a390efflevel0_row5\" class=\"row_heading level0 row5\" >hascrcard</th>\n",
       "                        <td id=\"T_d9ded260_d439_11eb_8fdd_02420a390effrow5_col0\" class=\"data row5 col0\" >-0.01</td>\n",
       "                        <td id=\"T_d9ded260_d439_11eb_8fdd_02420a390effrow5_col1\" class=\"data row5 col1\" >-0.01</td>\n",
       "                        <td id=\"T_d9ded260_d439_11eb_8fdd_02420a390effrow5_col2\" class=\"data row5 col2\" >0.02</td>\n",
       "                        <td id=\"T_d9ded260_d439_11eb_8fdd_02420a390effrow5_col3\" class=\"data row5 col3\" >-0.01</td>\n",
       "                        <td id=\"T_d9ded260_d439_11eb_8fdd_02420a390effrow5_col4\" class=\"data row5 col4\" >0</td>\n",
       "                        <td id=\"T_d9ded260_d439_11eb_8fdd_02420a390effrow5_col5\" class=\"data row5 col5\" >1</td>\n",
       "                        <td id=\"T_d9ded260_d439_11eb_8fdd_02420a390effrow5_col6\" class=\"data row5 col6\" >-0.01</td>\n",
       "                        <td id=\"T_d9ded260_d439_11eb_8fdd_02420a390effrow5_col7\" class=\"data row5 col7\" >-0.01</td>\n",
       "                        <td id=\"T_d9ded260_d439_11eb_8fdd_02420a390effrow5_col8\" class=\"data row5 col8\" >-0.01</td>\n",
       "            </tr>\n",
       "            <tr>\n",
       "                        <th id=\"T_d9ded260_d439_11eb_8fdd_02420a390efflevel0_row6\" class=\"row_heading level0 row6\" >isactivemember</th>\n",
       "                        <td id=\"T_d9ded260_d439_11eb_8fdd_02420a390effrow6_col0\" class=\"data row6 col0\" >0.03</td>\n",
       "                        <td id=\"T_d9ded260_d439_11eb_8fdd_02420a390effrow6_col1\" class=\"data row6 col1\" >0.09</td>\n",
       "                        <td id=\"T_d9ded260_d439_11eb_8fdd_02420a390effrow6_col2\" class=\"data row6 col2\" >-0.03</td>\n",
       "                        <td id=\"T_d9ded260_d439_11eb_8fdd_02420a390effrow6_col3\" class=\"data row6 col3\" >-0.01</td>\n",
       "                        <td id=\"T_d9ded260_d439_11eb_8fdd_02420a390effrow6_col4\" class=\"data row6 col4\" >0.01</td>\n",
       "                        <td id=\"T_d9ded260_d439_11eb_8fdd_02420a390effrow6_col5\" class=\"data row6 col5\" >-0.01</td>\n",
       "                        <td id=\"T_d9ded260_d439_11eb_8fdd_02420a390effrow6_col6\" class=\"data row6 col6\" >1</td>\n",
       "                        <td id=\"T_d9ded260_d439_11eb_8fdd_02420a390effrow6_col7\" class=\"data row6 col7\" >-0.01</td>\n",
       "                        <td id=\"T_d9ded260_d439_11eb_8fdd_02420a390effrow6_col8\" class=\"data row6 col8\" >-0.16</td>\n",
       "            </tr>\n",
       "            <tr>\n",
       "                        <th id=\"T_d9ded260_d439_11eb_8fdd_02420a390efflevel0_row7\" class=\"row_heading level0 row7\" >estimatedsalary</th>\n",
       "                        <td id=\"T_d9ded260_d439_11eb_8fdd_02420a390effrow7_col0\" class=\"data row7 col0\" >-0</td>\n",
       "                        <td id=\"T_d9ded260_d439_11eb_8fdd_02420a390effrow7_col1\" class=\"data row7 col1\" >-0.01</td>\n",
       "                        <td id=\"T_d9ded260_d439_11eb_8fdd_02420a390effrow7_col2\" class=\"data row7 col2\" >0.01</td>\n",
       "                        <td id=\"T_d9ded260_d439_11eb_8fdd_02420a390effrow7_col3\" class=\"data row7 col3\" >0.01</td>\n",
       "                        <td id=\"T_d9ded260_d439_11eb_8fdd_02420a390effrow7_col4\" class=\"data row7 col4\" >0.01</td>\n",
       "                        <td id=\"T_d9ded260_d439_11eb_8fdd_02420a390effrow7_col5\" class=\"data row7 col5\" >-0.01</td>\n",
       "                        <td id=\"T_d9ded260_d439_11eb_8fdd_02420a390effrow7_col6\" class=\"data row7 col6\" >-0.01</td>\n",
       "                        <td id=\"T_d9ded260_d439_11eb_8fdd_02420a390effrow7_col7\" class=\"data row7 col7\" >1</td>\n",
       "                        <td id=\"T_d9ded260_d439_11eb_8fdd_02420a390effrow7_col8\" class=\"data row7 col8\" >0.01</td>\n",
       "            </tr>\n",
       "            <tr>\n",
       "                        <th id=\"T_d9ded260_d439_11eb_8fdd_02420a390efflevel0_row8\" class=\"row_heading level0 row8\" >exited</th>\n",
       "                        <td id=\"T_d9ded260_d439_11eb_8fdd_02420a390effrow8_col0\" class=\"data row8 col0\" >-0.03</td>\n",
       "                        <td id=\"T_d9ded260_d439_11eb_8fdd_02420a390effrow8_col1\" class=\"data row8 col1\" >0.29</td>\n",
       "                        <td id=\"T_d9ded260_d439_11eb_8fdd_02420a390effrow8_col2\" class=\"data row8 col2\" >-0.02</td>\n",
       "                        <td id=\"T_d9ded260_d439_11eb_8fdd_02420a390effrow8_col3\" class=\"data row8 col3\" >0.12</td>\n",
       "                        <td id=\"T_d9ded260_d439_11eb_8fdd_02420a390effrow8_col4\" class=\"data row8 col4\" >-0.05</td>\n",
       "                        <td id=\"T_d9ded260_d439_11eb_8fdd_02420a390effrow8_col5\" class=\"data row8 col5\" >-0.01</td>\n",
       "                        <td id=\"T_d9ded260_d439_11eb_8fdd_02420a390effrow8_col6\" class=\"data row8 col6\" >-0.16</td>\n",
       "                        <td id=\"T_d9ded260_d439_11eb_8fdd_02420a390effrow8_col7\" class=\"data row8 col7\" >0.01</td>\n",
       "                        <td id=\"T_d9ded260_d439_11eb_8fdd_02420a390effrow8_col8\" class=\"data row8 col8\" >1</td>\n",
       "            </tr>\n",
       "    </tbody></table>"
      ],
      "text/plain": [
       "<pandas.io.formats.style.Styler at 0x7f3c006b9dd0>"
      ]
     },
     "execution_count": 9,
     "metadata": {},
     "output_type": "execute_result"
    }
   ],
   "source": [
    "#check the correlation between columns\n",
    "df.corr().round(2).style.background_gradient()"
   ]
  },
  {
   "cell_type": "code",
   "execution_count": 10,
   "metadata": {},
   "outputs": [
    {
     "data": {
      "text/plain": [
       "creditscore          int64\n",
       "geography           object\n",
       "gender              object\n",
       "age                  int64\n",
       "tenure             float64\n",
       "balance            float64\n",
       "numofproducts        int64\n",
       "hascrcard            int64\n",
       "isactivemember       int64\n",
       "estimatedsalary    float64\n",
       "exited               int64\n",
       "dtype: object"
      ]
     },
     "execution_count": 10,
     "metadata": {},
     "output_type": "execute_result"
    }
   ],
   "source": [
    "#check for data typesof columns\n",
    "df.dtypes"
   ]
  },
  {
   "cell_type": "code",
   "execution_count": 11,
   "metadata": {
    "scrolled": true
   },
   "outputs": [
    {
     "data": {
      "text/html": [
       "<div>\n",
       "<style scoped>\n",
       "    .dataframe tbody tr th:only-of-type {\n",
       "        vertical-align: middle;\n",
       "    }\n",
       "\n",
       "    .dataframe tbody tr th {\n",
       "        vertical-align: top;\n",
       "    }\n",
       "\n",
       "    .dataframe thead th {\n",
       "        text-align: right;\n",
       "    }\n",
       "</style>\n",
       "<table border=\"1\" class=\"dataframe\">\n",
       "  <thead>\n",
       "    <tr style=\"text-align: right;\">\n",
       "      <th></th>\n",
       "      <th>creditscore</th>\n",
       "      <th>age</th>\n",
       "      <th>tenure</th>\n",
       "      <th>balance</th>\n",
       "      <th>numofproducts</th>\n",
       "      <th>hascrcard</th>\n",
       "      <th>isactivemember</th>\n",
       "      <th>estimatedsalary</th>\n",
       "      <th>exited</th>\n",
       "      <th>geography_Germany</th>\n",
       "      <th>geography_Spain</th>\n",
       "      <th>gender_Male</th>\n",
       "    </tr>\n",
       "  </thead>\n",
       "  <tbody>\n",
       "    <tr>\n",
       "      <td>0</td>\n",
       "      <td>619</td>\n",
       "      <td>42</td>\n",
       "      <td>2.0</td>\n",
       "      <td>0.00</td>\n",
       "      <td>1</td>\n",
       "      <td>1</td>\n",
       "      <td>1</td>\n",
       "      <td>101348.88</td>\n",
       "      <td>1</td>\n",
       "      <td>0</td>\n",
       "      <td>0</td>\n",
       "      <td>0</td>\n",
       "    </tr>\n",
       "    <tr>\n",
       "      <td>1</td>\n",
       "      <td>608</td>\n",
       "      <td>41</td>\n",
       "      <td>1.0</td>\n",
       "      <td>83807.86</td>\n",
       "      <td>1</td>\n",
       "      <td>0</td>\n",
       "      <td>1</td>\n",
       "      <td>112542.58</td>\n",
       "      <td>0</td>\n",
       "      <td>0</td>\n",
       "      <td>1</td>\n",
       "      <td>0</td>\n",
       "    </tr>\n",
       "  </tbody>\n",
       "</table>\n",
       "</div>"
      ],
      "text/plain": [
       "   creditscore  age  tenure   balance  numofproducts  hascrcard  \\\n",
       "0          619   42     2.0      0.00              1          1   \n",
       "1          608   41     1.0  83807.86              1          0   \n",
       "\n",
       "   isactivemember  estimatedsalary  exited  geography_Germany  \\\n",
       "0               1        101348.88       1                  0   \n",
       "1               1        112542.58       0                  0   \n",
       "\n",
       "   geography_Spain  gender_Male  \n",
       "0                0            0  \n",
       "1                1            0  "
      ]
     },
     "execution_count": 11,
     "metadata": {},
     "output_type": "execute_result"
    }
   ],
   "source": [
    "#encode categorical columns using Onehotencoding method, this data will be used for LogisticRegression model\n",
    "df_ohe=pd.get_dummies(df, drop_first=True)\n",
    "\n",
    "#check the result\n",
    "df_ohe.head(2)"
   ]
  },
  {
   "cell_type": "code",
   "execution_count": 12,
   "metadata": {
    "scrolled": true
   },
   "outputs": [
    {
     "data": {
      "text/html": [
       "<div>\n",
       "<style scoped>\n",
       "    .dataframe tbody tr th:only-of-type {\n",
       "        vertical-align: middle;\n",
       "    }\n",
       "\n",
       "    .dataframe tbody tr th {\n",
       "        vertical-align: top;\n",
       "    }\n",
       "\n",
       "    .dataframe thead th {\n",
       "        text-align: right;\n",
       "    }\n",
       "</style>\n",
       "<table border=\"1\" class=\"dataframe\">\n",
       "  <thead>\n",
       "    <tr style=\"text-align: right;\">\n",
       "      <th></th>\n",
       "      <th>creditscore</th>\n",
       "      <th>geography</th>\n",
       "      <th>gender</th>\n",
       "      <th>age</th>\n",
       "      <th>tenure</th>\n",
       "      <th>balance</th>\n",
       "      <th>numofproducts</th>\n",
       "      <th>hascrcard</th>\n",
       "      <th>isactivemember</th>\n",
       "      <th>estimatedsalary</th>\n",
       "      <th>exited</th>\n",
       "    </tr>\n",
       "  </thead>\n",
       "  <tbody>\n",
       "    <tr>\n",
       "      <td>0</td>\n",
       "      <td>228.0</td>\n",
       "      <td>0.0</td>\n",
       "      <td>0.0</td>\n",
       "      <td>24.0</td>\n",
       "      <td>2.0</td>\n",
       "      <td>0.0</td>\n",
       "      <td>0.0</td>\n",
       "      <td>1.0</td>\n",
       "      <td>1.0</td>\n",
       "      <td>5068.0</td>\n",
       "      <td>1.0</td>\n",
       "    </tr>\n",
       "    <tr>\n",
       "      <td>1</td>\n",
       "      <td>217.0</td>\n",
       "      <td>2.0</td>\n",
       "      <td>0.0</td>\n",
       "      <td>23.0</td>\n",
       "      <td>1.0</td>\n",
       "      <td>743.0</td>\n",
       "      <td>0.0</td>\n",
       "      <td>0.0</td>\n",
       "      <td>1.0</td>\n",
       "      <td>5639.0</td>\n",
       "      <td>0.0</td>\n",
       "    </tr>\n",
       "  </tbody>\n",
       "</table>\n",
       "</div>"
      ],
      "text/plain": [
       "   creditscore  geography  gender   age  tenure  balance  numofproducts  \\\n",
       "0        228.0        0.0     0.0  24.0     2.0      0.0            0.0   \n",
       "1        217.0        2.0     0.0  23.0     1.0    743.0            0.0   \n",
       "\n",
       "   hascrcard  isactivemember  estimatedsalary  exited  \n",
       "0        1.0             1.0           5068.0     1.0  \n",
       "1        0.0             1.0           5639.0     0.0  "
      ]
     },
     "execution_count": 12,
     "metadata": {},
     "output_type": "execute_result"
    }
   ],
   "source": [
    "#encode categorical columns using LabelEncoding method, this data will be used for DecisionTree and RandomForest models\n",
    "encoder=OrdinalEncoder()\n",
    "df_ord=pd.DataFrame(encoder.fit_transform(df), columns=df.columns)\n",
    "df_ord.head(2)"
   ]
  },
  {
   "cell_type": "code",
   "execution_count": 13,
   "metadata": {},
   "outputs": [],
   "source": [
    "# a function that splits provided data into features and target, then splits them into training, validation and testing\n",
    "#finally applies scaling to provided numerical columns\n",
    "def train_valid_test_splitter(df, target_col, numeric):\n",
    "    '''splits data into features and target, then split them into training,\n",
    "    validation and testing datasets with 06:0.2:0.2 ratios'''\n",
    "    features=df.drop(target_col, axis=1)\n",
    "    target=df[target_col]\n",
    "    #split features\n",
    "\n",
    "    features_train, features_rest = train_test_split(features, test_size=0.4, random_state=234)\n",
    "    # divide rest into two parts to get validation and test datasets\n",
    "    features_valid, features_test = train_test_split(features_rest, test_size=0.5, random_state=234)\n",
    "    \n",
    "    #split target\n",
    "\n",
    "    target_train, target_rest = train_test_split(target, test_size=0.4, random_state=234)\n",
    "    # now divide rest into two parts to get validation and test datasets\n",
    "    target_valid, target_test = train_test_split(target_rest, test_size=0.5, random_state=234)\n",
    "    \n",
    "    scaler=StandardScaler()\n",
    "    features_train[numeric]=scaler.fit_transform(features_train[numeric])\n",
    "    features_valid[numeric]=scaler.transform(features_valid[numeric])\n",
    "    features_test[numeric]=scaler.transform(features_test[numeric])\n",
    "    return (features_train, features_valid, features_test, target_train, target_valid, target_test)"
   ]
  },
  {
   "cell_type": "code",
   "execution_count": 14,
   "metadata": {
    "scrolled": true
   },
   "outputs": [
    {
     "data": {
      "text/html": [
       "<div>\n",
       "<style scoped>\n",
       "    .dataframe tbody tr th:only-of-type {\n",
       "        vertical-align: middle;\n",
       "    }\n",
       "\n",
       "    .dataframe tbody tr th {\n",
       "        vertical-align: top;\n",
       "    }\n",
       "\n",
       "    .dataframe thead th {\n",
       "        text-align: right;\n",
       "    }\n",
       "</style>\n",
       "<table border=\"1\" class=\"dataframe\">\n",
       "  <thead>\n",
       "    <tr style=\"text-align: right;\">\n",
       "      <th></th>\n",
       "      <th>creditscore</th>\n",
       "      <th>age</th>\n",
       "      <th>tenure</th>\n",
       "      <th>balance</th>\n",
       "      <th>numofproducts</th>\n",
       "      <th>hascrcard</th>\n",
       "      <th>isactivemember</th>\n",
       "      <th>estimatedsalary</th>\n",
       "      <th>geography_Germany</th>\n",
       "      <th>geography_Spain</th>\n",
       "      <th>gender_Male</th>\n",
       "    </tr>\n",
       "  </thead>\n",
       "  <tbody>\n",
       "    <tr>\n",
       "      <td>4276</td>\n",
       "      <td>0.191645</td>\n",
       "      <td>-0.649963</td>\n",
       "      <td>-0.346201</td>\n",
       "      <td>0.433065</td>\n",
       "      <td>2</td>\n",
       "      <td>0</td>\n",
       "      <td>1</td>\n",
       "      <td>0.610819</td>\n",
       "      <td>1</td>\n",
       "      <td>0</td>\n",
       "      <td>0</td>\n",
       "    </tr>\n",
       "    <tr>\n",
       "      <td>2101</td>\n",
       "      <td>0.274764</td>\n",
       "      <td>0.965993</td>\n",
       "      <td>1.031257</td>\n",
       "      <td>-1.216818</td>\n",
       "      <td>2</td>\n",
       "      <td>0</td>\n",
       "      <td>1</td>\n",
       "      <td>-0.030257</td>\n",
       "      <td>0</td>\n",
       "      <td>1</td>\n",
       "      <td>0</td>\n",
       "    </tr>\n",
       "  </tbody>\n",
       "</table>\n",
       "</div>"
      ],
      "text/plain": [
       "      creditscore       age    tenure   balance  numofproducts  hascrcard  \\\n",
       "4276     0.191645 -0.649963 -0.346201  0.433065              2          0   \n",
       "2101     0.274764  0.965993  1.031257 -1.216818              2          0   \n",
       "\n",
       "      isactivemember  estimatedsalary  geography_Germany  geography_Spain  \\\n",
       "4276               1         0.610819                  1                0   \n",
       "2101               1        -0.030257                  0                1   \n",
       "\n",
       "      gender_Male  \n",
       "4276            0  \n",
       "2101            0  "
      ]
     },
     "execution_count": 14,
     "metadata": {},
     "output_type": "execute_result"
    }
   ],
   "source": [
    "#prepare feature and target sets from onehotencoded df\n",
    "features_ohe_train, features_ohe_valid, features_ohe_test, target_ohe_train, target_ohe_valid, target_ohe_test =\\\n",
    "train_valid_test_splitter(df=df_ohe, target_col='exited', numeric=['creditscore', 'age', 'tenure', 'balance', 'estimatedsalary'])\n",
    "\n",
    "#check the result\n",
    "features_ohe_train.head(2)"
   ]
  },
  {
   "cell_type": "code",
   "execution_count": 15,
   "metadata": {},
   "outputs": [
    {
     "data": {
      "text/html": [
       "<div>\n",
       "<style scoped>\n",
       "    .dataframe tbody tr th:only-of-type {\n",
       "        vertical-align: middle;\n",
       "    }\n",
       "\n",
       "    .dataframe tbody tr th {\n",
       "        vertical-align: top;\n",
       "    }\n",
       "\n",
       "    .dataframe thead th {\n",
       "        text-align: right;\n",
       "    }\n",
       "</style>\n",
       "<table border=\"1\" class=\"dataframe\">\n",
       "  <thead>\n",
       "    <tr style=\"text-align: right;\">\n",
       "      <th></th>\n",
       "      <th>creditscore</th>\n",
       "      <th>age</th>\n",
       "      <th>tenure</th>\n",
       "      <th>balance</th>\n",
       "      <th>numofproducts</th>\n",
       "      <th>hascrcard</th>\n",
       "      <th>isactivemember</th>\n",
       "      <th>estimatedsalary</th>\n",
       "      <th>geography_Germany</th>\n",
       "      <th>geography_Spain</th>\n",
       "      <th>gender_Male</th>\n",
       "    </tr>\n",
       "  </thead>\n",
       "  <tbody>\n",
       "    <tr>\n",
       "      <td>4276</td>\n",
       "      <td>0.191645</td>\n",
       "      <td>-0.649963</td>\n",
       "      <td>-0.346201</td>\n",
       "      <td>0.433065</td>\n",
       "      <td>2</td>\n",
       "      <td>0</td>\n",
       "      <td>1</td>\n",
       "      <td>0.610819</td>\n",
       "      <td>1</td>\n",
       "      <td>0</td>\n",
       "      <td>0</td>\n",
       "    </tr>\n",
       "    <tr>\n",
       "      <td>2101</td>\n",
       "      <td>0.274764</td>\n",
       "      <td>0.965993</td>\n",
       "      <td>1.031257</td>\n",
       "      <td>-1.216818</td>\n",
       "      <td>2</td>\n",
       "      <td>0</td>\n",
       "      <td>1</td>\n",
       "      <td>-0.030257</td>\n",
       "      <td>0</td>\n",
       "      <td>1</td>\n",
       "      <td>0</td>\n",
       "    </tr>\n",
       "  </tbody>\n",
       "</table>\n",
       "</div>"
      ],
      "text/plain": [
       "      creditscore       age    tenure   balance  numofproducts  hascrcard  \\\n",
       "4276     0.191645 -0.649963 -0.346201  0.433065              2          0   \n",
       "2101     0.274764  0.965993  1.031257 -1.216818              2          0   \n",
       "\n",
       "      isactivemember  estimatedsalary  geography_Germany  geography_Spain  \\\n",
       "4276               1         0.610819                  1                0   \n",
       "2101               1        -0.030257                  0                1   \n",
       "\n",
       "      gender_Male  \n",
       "4276            0  \n",
       "2101            0  "
      ]
     },
     "execution_count": 15,
     "metadata": {},
     "output_type": "execute_result"
    }
   ],
   "source": [
    "#prepare feature and target sets from Labelencoded df\n",
    "features_ord_train, features_ord_valid, features_ord_test, target_ord_train, target_ord_valid, target_ord_test =\\\n",
    "train_valid_test_splitter(df=df_ohe, target_col='exited', numeric=['creditscore', 'age', 'tenure', 'balance', 'estimatedsalary'])\n",
    "\n",
    "#check the result\n",
    "features_ord_train.head(2)"
   ]
  },
  {
   "cell_type": "markdown",
   "metadata": {},
   "source": [
    "### Conclusion\n",
    "The data, containing 10000 rows and 14 columns, has been loaded. For convenience, all columns names were converted to lowercase.\n",
    "\n",
    "The 9% values were missing in the `Tenure` column. The most probable reason for the missing values might be that these customers never reached maturation or due to technical reasons the values were not inputted. To prevent loss of data, missing values filled using the 'forward fill' method, where missing values were filled with the last observed value. \n",
    "\n",
    "Not any duplicated rows were observed. \n",
    "\n",
    "`RowNumber, CustomerId, Surname` columns have been dropped out because they would not add any values for the classification model. \n",
    "\n",
    "Correlations between columns were weak in general. Only `age and exited` columns have a correlation of 0.29 and `numofproducts and balance` columns have a correlation of -0.3. \n",
    "\n",
    "Then columns containing `string` values have been encoded with the OneHotEncoding for LogisticRegression model and LabelEncoding for DecisionTree and RandomForest models. \n",
    "\n",
    "Finally, the whole dataset has been splitter into training, validation and testing datasets with 0.6:0.2:0.2 ratios and columns containing numerical values have been scaled."
   ]
  },
  {
   "cell_type": "markdown",
   "metadata": {},
   "source": [
    "## Train models with raw data\n",
    "Examine the balance of classes. Train the model without taking into account the imbalance. Briefly describe your findings."
   ]
  },
  {
   "cell_type": "code",
   "execution_count": 16,
   "metadata": {
    "scrolled": true
   },
   "outputs": [
    {
     "data": {
      "image/png": "[encoded data removed]",
      "text/plain": [
       "<Figure size 576x288 with 1 Axes>"
      ]
     },
     "metadata": {
      "needs_background": "light"
     },
     "output_type": "display_data"
    }
   ],
   "source": [
    "# check for the balance of class in the target column\n",
    "df['exited'].value_counts(normalize=True).mul(100).plot(kind='bar', figsize=(8, 4), grid=True, alpha=0.4, color='blue')\n",
    "plt.show()"
   ]
  },
  {
   "cell_type": "markdown",
   "metadata": {},
   "source": [
    "### DecisionTreeClassifier\n",
    "Train a DecisionTreeClassifier model with the data and check the F1 score for different tree depth values."
   ]
  },
  {
   "cell_type": "code",
   "execution_count": 17,
   "metadata": {},
   "outputs": [
    {
     "data": {
      "text/html": [
       "<style  type=\"text/css\" >\n",
       "    #T_da526090_d439_11eb_8fdd_02420a390effrow0_col0 {\n",
       "            background-color:  #2d8abd;\n",
       "            color:  #000000;\n",
       "        }    #T_da526090_d439_11eb_8fdd_02420a390effrow0_col1 {\n",
       "            background-color:  #fff7fb;\n",
       "            color:  #000000;\n",
       "        }    #T_da526090_d439_11eb_8fdd_02420a390effrow0_col2 {\n",
       "            background-color:  #0569a5;\n",
       "            color:  #f1f1f1;\n",
       "        }    #T_da526090_d439_11eb_8fdd_02420a390effrow0_col3 {\n",
       "            background-color:  #034c78;\n",
       "            color:  #f1f1f1;\n",
       "        }    #T_da526090_d439_11eb_8fdd_02420a390effrow0_col4 {\n",
       "            background-color:  #02395a;\n",
       "            color:  #f1f1f1;\n",
       "        }    #T_da526090_d439_11eb_8fdd_02420a390effrow0_col5 {\n",
       "            background-color:  #023858;\n",
       "            color:  #f1f1f1;\n",
       "        }    #T_da526090_d439_11eb_8fdd_02420a390effrow0_col6 {\n",
       "            background-color:  #03446a;\n",
       "            color:  #f1f1f1;\n",
       "        }    #T_da526090_d439_11eb_8fdd_02420a390effrow0_col7 {\n",
       "            background-color:  #034e7b;\n",
       "            color:  #f1f1f1;\n",
       "        }    #T_da526090_d439_11eb_8fdd_02420a390effrow0_col8 {\n",
       "            background-color:  #04629a;\n",
       "            color:  #f1f1f1;\n",
       "        }    #T_da526090_d439_11eb_8fdd_02420a390effrow0_col9 {\n",
       "            background-color:  #056dac;\n",
       "            color:  #f1f1f1;\n",
       "        }    #T_da526090_d439_11eb_8fdd_02420a390effrow0_col10 {\n",
       "            background-color:  #358fc0;\n",
       "            color:  #000000;\n",
       "        }    #T_da526090_d439_11eb_8fdd_02420a390effrow0_col11 {\n",
       "            background-color:  #3790c0;\n",
       "            color:  #000000;\n",
       "        }    #T_da526090_d439_11eb_8fdd_02420a390effrow0_col12 {\n",
       "            background-color:  #4496c3;\n",
       "            color:  #000000;\n",
       "        }    #T_da526090_d439_11eb_8fdd_02420a390effrow0_col13 {\n",
       "            background-color:  #589ec8;\n",
       "            color:  #000000;\n",
       "        }    #T_da526090_d439_11eb_8fdd_02420a390effrow0_col14 {\n",
       "            background-color:  #4897c4;\n",
       "            color:  #000000;\n",
       "        }    #T_da526090_d439_11eb_8fdd_02420a390effrow0_col15 {\n",
       "            background-color:  #509ac6;\n",
       "            color:  #000000;\n",
       "        }    #T_da526090_d439_11eb_8fdd_02420a390effrow0_col16 {\n",
       "            background-color:  #4094c3;\n",
       "            color:  #000000;\n",
       "        }    #T_da526090_d439_11eb_8fdd_02420a390effrow0_col17 {\n",
       "            background-color:  #4496c3;\n",
       "            color:  #000000;\n",
       "        }</style><table id=\"T_da526090_d439_11eb_8fdd_02420a390eff\" ><thead>    <tr>        <th class=\"blank level0\" ></th>        <th class=\"col_heading level0 col0\" >2</th>        <th class=\"col_heading level0 col1\" >3</th>        <th class=\"col_heading level0 col2\" >4</th>        <th class=\"col_heading level0 col3\" >5</th>        <th class=\"col_heading level0 col4\" >6</th>        <th class=\"col_heading level0 col5\" >7</th>        <th class=\"col_heading level0 col6\" >8</th>        <th class=\"col_heading level0 col7\" >9</th>        <th class=\"col_heading level0 col8\" >10</th>        <th class=\"col_heading level0 col9\" >11</th>        <th class=\"col_heading level0 col10\" >12</th>        <th class=\"col_heading level0 col11\" >13</th>        <th class=\"col_heading level0 col12\" >14</th>        <th class=\"col_heading level0 col13\" >15</th>        <th class=\"col_heading level0 col14\" >16</th>        <th class=\"col_heading level0 col15\" >17</th>        <th class=\"col_heading level0 col16\" >18</th>        <th class=\"col_heading level0 col17\" >19</th>    </tr></thead><tbody>\n",
       "                <tr>\n",
       "                        <th id=\"T_da526090_d439_11eb_8fdd_02420a390efflevel0_row0\" class=\"row_heading level0 row0\" >f1_score</th>\n",
       "                        <td id=\"T_da526090_d439_11eb_8fdd_02420a390effrow0_col0\" class=\"data row0 col0\" >0.51</td>\n",
       "                        <td id=\"T_da526090_d439_11eb_8fdd_02420a390effrow0_col1\" class=\"data row0 col1\" >0.409</td>\n",
       "                        <td id=\"T_da526090_d439_11eb_8fdd_02420a390effrow0_col2\" class=\"data row0 col2\" >0.532</td>\n",
       "                        <td id=\"T_da526090_d439_11eb_8fdd_02420a390effrow0_col3\" class=\"data row0 col3\" >0.553</td>\n",
       "                        <td id=\"T_da526090_d439_11eb_8fdd_02420a390effrow0_col4\" class=\"data row0 col4\" >0.564</td>\n",
       "                        <td id=\"T_da526090_d439_11eb_8fdd_02420a390effrow0_col5\" class=\"data row0 col5\" >0.565</td>\n",
       "                        <td id=\"T_da526090_d439_11eb_8fdd_02420a390effrow0_col6\" class=\"data row0 col6\" >0.558</td>\n",
       "                        <td id=\"T_da526090_d439_11eb_8fdd_02420a390effrow0_col7\" class=\"data row0 col7\" >0.552</td>\n",
       "                        <td id=\"T_da526090_d439_11eb_8fdd_02420a390effrow0_col8\" class=\"data row0 col8\" >0.538</td>\n",
       "                        <td id=\"T_da526090_d439_11eb_8fdd_02420a390effrow0_col9\" class=\"data row0 col9\" >0.528</td>\n",
       "                        <td id=\"T_da526090_d439_11eb_8fdd_02420a390effrow0_col10\" class=\"data row0 col10\" >0.507</td>\n",
       "                        <td id=\"T_da526090_d439_11eb_8fdd_02420a390effrow0_col11\" class=\"data row0 col11\" >0.506</td>\n",
       "                        <td id=\"T_da526090_d439_11eb_8fdd_02420a390effrow0_col12\" class=\"data row0 col12\" >0.502</td>\n",
       "                        <td id=\"T_da526090_d439_11eb_8fdd_02420a390effrow0_col13\" class=\"data row0 col13\" >0.496</td>\n",
       "                        <td id=\"T_da526090_d439_11eb_8fdd_02420a390effrow0_col14\" class=\"data row0 col14\" >0.501</td>\n",
       "                        <td id=\"T_da526090_d439_11eb_8fdd_02420a390effrow0_col15\" class=\"data row0 col15\" >0.498</td>\n",
       "                        <td id=\"T_da526090_d439_11eb_8fdd_02420a390effrow0_col16\" class=\"data row0 col16\" >0.503</td>\n",
       "                        <td id=\"T_da526090_d439_11eb_8fdd_02420a390effrow0_col17\" class=\"data row0 col17\" >0.502</td>\n",
       "            </tr>\n",
       "    </tbody></table>"
      ],
      "text/plain": [
       "<pandas.io.formats.style.Styler at 0x7f3c6d187090>"
      ]
     },
     "execution_count": 17,
     "metadata": {},
     "output_type": "execute_result"
    }
   ],
   "source": [
    "#loop to check f1 score at different max_depth values\n",
    "depth=[]\n",
    "f1=[]\n",
    "for i in range(2, 20):\n",
    "    dt_model=DecisionTreeClassifier(max_depth=i, random_state=234)\n",
    "    dt_model.fit(features_ord_train, target_ord_train)\n",
    "    predicted=dt_model.predict(features_ord_valid)\n",
    "    f1.append(f1_score(target_ord_valid, predicted))\n",
    "    depth.append(i)\n",
    "    \n",
    "#visualize the result\n",
    "pd.DataFrame([f1], index=['f1_score'], columns=depth).round(3).style.background_gradient( axis=1)"
   ]
  },
  {
   "cell_type": "markdown",
   "metadata": {},
   "source": [
    "### RandomForestClassifier\n",
    "Train a RandomForestClassifier model with the data and check the F1 score for different number of trees and tree depth values."
   ]
  },
  {
   "cell_type": "code",
   "execution_count": 18,
   "metadata": {},
   "outputs": [
    {
     "data": {
      "text/html": [
       "<style  type=\"text/css\" >\n",
       "    #T_de5f91d0_d439_11eb_8fdd_02420a390effrow0_col0 {\n",
       "            background-color:  #fff7fb;\n",
       "            color:  #000000;\n",
       "        }    #T_de5f91d0_d439_11eb_8fdd_02420a390effrow0_col1 {\n",
       "            background-color:  #abbfdc;\n",
       "            color:  #000000;\n",
       "        }    #T_de5f91d0_d439_11eb_8fdd_02420a390effrow0_col2 {\n",
       "            background-color:  #308cbe;\n",
       "            color:  #000000;\n",
       "        }    #T_de5f91d0_d439_11eb_8fdd_02420a390effrow0_col3 {\n",
       "            background-color:  #0569a5;\n",
       "            color:  #f1f1f1;\n",
       "        }    #T_de5f91d0_d439_11eb_8fdd_02420a390effrow0_col4 {\n",
       "            background-color:  #023d60;\n",
       "            color:  #f1f1f1;\n",
       "        }    #T_de5f91d0_d439_11eb_8fdd_02420a390effrow0_col5 {\n",
       "            background-color:  #034369;\n",
       "            color:  #f1f1f1;\n",
       "        }    #T_de5f91d0_d439_11eb_8fdd_02420a390effrow0_col6 {\n",
       "            background-color:  #023858;\n",
       "            color:  #f1f1f1;\n",
       "        }    #T_de5f91d0_d439_11eb_8fdd_02420a390effrow0_col7 {\n",
       "            background-color:  #034369;\n",
       "            color:  #f1f1f1;\n",
       "        }    #T_de5f91d0_d439_11eb_8fdd_02420a390effrow0_col8 {\n",
       "            background-color:  #045a8d;\n",
       "            color:  #f1f1f1;\n",
       "        }    #T_de5f91d0_d439_11eb_8fdd_02420a390effrow0_col9 {\n",
       "            background-color:  #045585;\n",
       "            color:  #f1f1f1;\n",
       "        }    #T_de5f91d0_d439_11eb_8fdd_02420a390effrow0_col10 {\n",
       "            background-color:  #045585;\n",
       "            color:  #f1f1f1;\n",
       "        }    #T_de5f91d0_d439_11eb_8fdd_02420a390effrow0_col11 {\n",
       "            background-color:  #045a8d;\n",
       "            color:  #f1f1f1;\n",
       "        }    #T_de5f91d0_d439_11eb_8fdd_02420a390effrow0_col12 {\n",
       "            background-color:  #045e94;\n",
       "            color:  #f1f1f1;\n",
       "        }    #T_de5f91d0_d439_11eb_8fdd_02420a390effrow0_col13 {\n",
       "            background-color:  #045e94;\n",
       "            color:  #f1f1f1;\n",
       "        }</style><table id=\"T_de5f91d0_d439_11eb_8fdd_02420a390eff\" ><thead>    <tr>        <th class=\"blank level0\" ></th>        <th class=\"col_heading level0 col0\" >10</th>        <th class=\"col_heading level0 col1\" >20</th>        <th class=\"col_heading level0 col2\" >30</th>        <th class=\"col_heading level0 col3\" >40</th>        <th class=\"col_heading level0 col4\" >50</th>        <th class=\"col_heading level0 col5\" >60</th>        <th class=\"col_heading level0 col6\" >70</th>        <th class=\"col_heading level0 col7\" >80</th>        <th class=\"col_heading level0 col8\" >90</th>        <th class=\"col_heading level0 col9\" >100</th>        <th class=\"col_heading level0 col10\" >110</th>        <th class=\"col_heading level0 col11\" >120</th>        <th class=\"col_heading level0 col12\" >130</th>        <th class=\"col_heading level0 col13\" >140</th>    </tr></thead><tbody>\n",
       "                <tr>\n",
       "                        <th id=\"T_de5f91d0_d439_11eb_8fdd_02420a390efflevel0_row0\" class=\"row_heading level0 row0\" >f1_score</th>\n",
       "                        <td id=\"T_de5f91d0_d439_11eb_8fdd_02420a390effrow0_col0\" class=\"data row0 col0\" >0.551</td>\n",
       "                        <td id=\"T_de5f91d0_d439_11eb_8fdd_02420a390effrow0_col1\" class=\"data row0 col1\" >0.568</td>\n",
       "                        <td id=\"T_de5f91d0_d439_11eb_8fdd_02420a390effrow0_col2\" class=\"data row0 col2\" >0.581</td>\n",
       "                        <td id=\"T_de5f91d0_d439_11eb_8fdd_02420a390effrow0_col3\" class=\"data row0 col3\" >0.588</td>\n",
       "                        <td id=\"T_de5f91d0_d439_11eb_8fdd_02420a390effrow0_col4\" class=\"data row0 col4\" >0.597</td>\n",
       "                        <td id=\"T_de5f91d0_d439_11eb_8fdd_02420a390effrow0_col5\" class=\"data row0 col5\" >0.596</td>\n",
       "                        <td id=\"T_de5f91d0_d439_11eb_8fdd_02420a390effrow0_col6\" class=\"data row0 col6\" >0.598</td>\n",
       "                        <td id=\"T_de5f91d0_d439_11eb_8fdd_02420a390effrow0_col7\" class=\"data row0 col7\" >0.596</td>\n",
       "                        <td id=\"T_de5f91d0_d439_11eb_8fdd_02420a390effrow0_col8\" class=\"data row0 col8\" >0.592</td>\n",
       "                        <td id=\"T_de5f91d0_d439_11eb_8fdd_02420a390effrow0_col9\" class=\"data row0 col9\" >0.593</td>\n",
       "                        <td id=\"T_de5f91d0_d439_11eb_8fdd_02420a390effrow0_col10\" class=\"data row0 col10\" >0.593</td>\n",
       "                        <td id=\"T_de5f91d0_d439_11eb_8fdd_02420a390effrow0_col11\" class=\"data row0 col11\" >0.592</td>\n",
       "                        <td id=\"T_de5f91d0_d439_11eb_8fdd_02420a390effrow0_col12\" class=\"data row0 col12\" >0.591</td>\n",
       "                        <td id=\"T_de5f91d0_d439_11eb_8fdd_02420a390effrow0_col13\" class=\"data row0 col13\" >0.591</td>\n",
       "            </tr>\n",
       "    </tbody></table>"
      ],
      "text/plain": [
       "<pandas.io.formats.style.Styler at 0x7f3c6d24d550>"
      ]
     },
     "execution_count": 18,
     "metadata": {},
     "output_type": "execute_result"
    }
   ],
   "source": [
    "#find out f1 scores for different number of trees\n",
    "tree=[]\n",
    "f1=[]\n",
    "for i in range(0, 150, 10):\n",
    "    if i !=0:\n",
    "        rf_model=RandomForestClassifier(n_estimators=i, random_state=234)\n",
    "        rf_model.fit(features_ord_train, target_ord_train)\n",
    "        predicted=rf_model.predict(features_ord_valid)\n",
    "        f1.append(f1_score(target_ord_valid, predicted))\n",
    "        tree.append(i)\n",
    "\n",
    "#visualize the result\n",
    "pd.DataFrame([f1], index=['f1_score'], columns=tree).round(3).style.background_gradient(axis=1)"
   ]
  },
  {
   "cell_type": "code",
   "execution_count": 19,
   "metadata": {},
   "outputs": [
    {
     "data": {
      "text/html": [
       "<style  type=\"text/css\" >\n",
       "    #T_e2279902_d439_11eb_8fdd_02420a390effrow0_col0 {\n",
       "            background-color:  #fff7fb;\n",
       "            color:  #000000;\n",
       "        }    #T_e2279902_d439_11eb_8fdd_02420a390effrow0_col1 {\n",
       "            background-color:  #abbfdc;\n",
       "            color:  #000000;\n",
       "        }    #T_e2279902_d439_11eb_8fdd_02420a390effrow0_col2 {\n",
       "            background-color:  #358fc0;\n",
       "            color:  #000000;\n",
       "        }    #T_e2279902_d439_11eb_8fdd_02420a390effrow0_col3 {\n",
       "            background-color:  #05659f;\n",
       "            color:  #f1f1f1;\n",
       "        }    #T_e2279902_d439_11eb_8fdd_02420a390effrow0_col4 {\n",
       "            background-color:  #045788;\n",
       "            color:  #f1f1f1;\n",
       "        }    #T_e2279902_d439_11eb_8fdd_02420a390effrow0_col5 {\n",
       "            background-color:  #034f7d;\n",
       "            color:  #f1f1f1;\n",
       "        }    #T_e2279902_d439_11eb_8fdd_02420a390effrow0_col6 {\n",
       "            background-color:  #034369;\n",
       "            color:  #f1f1f1;\n",
       "        }    #T_e2279902_d439_11eb_8fdd_02420a390effrow0_col7 {\n",
       "            background-color:  #034a74;\n",
       "            color:  #f1f1f1;\n",
       "        }    #T_e2279902_d439_11eb_8fdd_02420a390effrow0_col8 {\n",
       "            background-color:  #03446a;\n",
       "            color:  #f1f1f1;\n",
       "        }    #T_e2279902_d439_11eb_8fdd_02420a390effrow0_col9 {\n",
       "            background-color:  #034165;\n",
       "            color:  #f1f1f1;\n",
       "        }    #T_e2279902_d439_11eb_8fdd_02420a390effrow0_col10 {\n",
       "            background-color:  #03456c;\n",
       "            color:  #f1f1f1;\n",
       "        }    #T_e2279902_d439_11eb_8fdd_02420a390effrow0_col11 {\n",
       "            background-color:  #023c5f;\n",
       "            color:  #f1f1f1;\n",
       "        }    #T_e2279902_d439_11eb_8fdd_02420a390effrow0_col12 {\n",
       "            background-color:  #03446a;\n",
       "            color:  #f1f1f1;\n",
       "        }    #T_e2279902_d439_11eb_8fdd_02420a390effrow0_col13 {\n",
       "            background-color:  #023b5d;\n",
       "            color:  #f1f1f1;\n",
       "        }    #T_e2279902_d439_11eb_8fdd_02420a390effrow0_col14 {\n",
       "            background-color:  #023b5d;\n",
       "            color:  #f1f1f1;\n",
       "        }    #T_e2279902_d439_11eb_8fdd_02420a390effrow0_col15 {\n",
       "            background-color:  #023b5d;\n",
       "            color:  #f1f1f1;\n",
       "        }    #T_e2279902_d439_11eb_8fdd_02420a390effrow0_col16 {\n",
       "            background-color:  #023858;\n",
       "            color:  #f1f1f1;\n",
       "        }    #T_e2279902_d439_11eb_8fdd_02420a390effrow0_col17 {\n",
       "            background-color:  #023e62;\n",
       "            color:  #f1f1f1;\n",
       "        }</style><table id=\"T_e2279902_d439_11eb_8fdd_02420a390eff\" ><thead>    <tr>        <th class=\"blank level0\" ></th>        <th class=\"col_heading level0 col0\" >2</th>        <th class=\"col_heading level0 col1\" >3</th>        <th class=\"col_heading level0 col2\" >4</th>        <th class=\"col_heading level0 col3\" >5</th>        <th class=\"col_heading level0 col4\" >6</th>        <th class=\"col_heading level0 col5\" >7</th>        <th class=\"col_heading level0 col6\" >8</th>        <th class=\"col_heading level0 col7\" >9</th>        <th class=\"col_heading level0 col8\" >10</th>        <th class=\"col_heading level0 col9\" >11</th>        <th class=\"col_heading level0 col10\" >12</th>        <th class=\"col_heading level0 col11\" >13</th>        <th class=\"col_heading level0 col12\" >14</th>        <th class=\"col_heading level0 col13\" >15</th>        <th class=\"col_heading level0 col14\" >16</th>        <th class=\"col_heading level0 col15\" >17</th>        <th class=\"col_heading level0 col16\" >18</th>        <th class=\"col_heading level0 col17\" >19</th>    </tr></thead><tbody>\n",
       "                <tr>\n",
       "                        <th id=\"T_e2279902_d439_11eb_8fdd_02420a390efflevel0_row0\" class=\"row_heading level0 row0\" >f1_score</th>\n",
       "                        <td id=\"T_e2279902_d439_11eb_8fdd_02420a390effrow0_col0\" class=\"data row0 col0\" >0.114</td>\n",
       "                        <td id=\"T_e2279902_d439_11eb_8fdd_02420a390effrow0_col1\" class=\"data row0 col1\" >0.294</td>\n",
       "                        <td id=\"T_e2279902_d439_11eb_8fdd_02420a390effrow0_col2\" class=\"data row0 col2\" >0.427</td>\n",
       "                        <td id=\"T_e2279902_d439_11eb_8fdd_02420a390effrow0_col3\" class=\"data row0 col3\" >0.518</td>\n",
       "                        <td id=\"T_e2279902_d439_11eb_8fdd_02420a390effrow0_col4\" class=\"data row0 col4\" >0.554</td>\n",
       "                        <td id=\"T_e2279902_d439_11eb_8fdd_02420a390effrow0_col5\" class=\"data row0 col5\" >0.568</td>\n",
       "                        <td id=\"T_e2279902_d439_11eb_8fdd_02420a390effrow0_col6\" class=\"data row0 col6\" >0.591</td>\n",
       "                        <td id=\"T_e2279902_d439_11eb_8fdd_02420a390effrow0_col7\" class=\"data row0 col7\" >0.578</td>\n",
       "                        <td id=\"T_e2279902_d439_11eb_8fdd_02420a390effrow0_col8\" class=\"data row0 col8\" >0.59</td>\n",
       "                        <td id=\"T_e2279902_d439_11eb_8fdd_02420a390effrow0_col9\" class=\"data row0 col9\" >0.595</td>\n",
       "                        <td id=\"T_e2279902_d439_11eb_8fdd_02420a390effrow0_col10\" class=\"data row0 col10\" >0.588</td>\n",
       "                        <td id=\"T_e2279902_d439_11eb_8fdd_02420a390effrow0_col11\" class=\"data row0 col11\" >0.604</td>\n",
       "                        <td id=\"T_e2279902_d439_11eb_8fdd_02420a390effrow0_col12\" class=\"data row0 col12\" >0.589</td>\n",
       "                        <td id=\"T_e2279902_d439_11eb_8fdd_02420a390effrow0_col13\" class=\"data row0 col13\" >0.606</td>\n",
       "                        <td id=\"T_e2279902_d439_11eb_8fdd_02420a390effrow0_col14\" class=\"data row0 col14\" >0.605</td>\n",
       "                        <td id=\"T_e2279902_d439_11eb_8fdd_02420a390effrow0_col15\" class=\"data row0 col15\" >0.605</td>\n",
       "                        <td id=\"T_e2279902_d439_11eb_8fdd_02420a390effrow0_col16\" class=\"data row0 col16\" >0.612</td>\n",
       "                        <td id=\"T_e2279902_d439_11eb_8fdd_02420a390effrow0_col17\" class=\"data row0 col17\" >0.599</td>\n",
       "            </tr>\n",
       "    </tbody></table>"
      ],
      "text/plain": [
       "<pandas.io.formats.style.Styler at 0x7f3c6d24df10>"
      ]
     },
     "execution_count": 19,
     "metadata": {},
     "output_type": "execute_result"
    }
   ],
   "source": [
    "#find out f1 scores for different depth of trees using optimal n_estimator values from previous step\n",
    "depth=[]\n",
    "f1=[]\n",
    "for i in range(2, 20):\n",
    "    rf_model=RandomForestClassifier(n_estimators=70, max_depth=i, random_state=234)\n",
    "    rf_model.fit(features_ord_train, target_ord_train)\n",
    "    predicted=rf_model.predict(features_ord_valid)\n",
    "    f1.append(f1_score(target_ord_valid, predicted))\n",
    "    depth.append(i)\n",
    "\n",
    "#visualize the result\n",
    "pd.DataFrame([f1], index=['f1_score'], columns=depth).round(3).style.background_gradient(axis=1)"
   ]
  },
  {
   "cell_type": "markdown",
   "metadata": {},
   "source": [
    "### LogisticRegression\n",
    "Train a LogisticRegression model with the data and check the F1 score."
   ]
  },
  {
   "cell_type": "code",
   "execution_count": 20,
   "metadata": {},
   "outputs": [
    {
     "name": "stdout",
     "output_type": "stream",
     "text": [
      "F1 socre of the logsitic regression model is 0.34\n"
     ]
    }
   ],
   "source": [
    "#LogisticRegerssion model and its F1 score\n",
    "lg_model=LogisticRegression(random_state=234, solver='liblinear')\n",
    "lg_model.fit(features_ohe_train, target_ohe_train)\n",
    "predicted=lg_model.predict(features_ohe_valid)\n",
    "print('F1 socre of the logsitic regression model is', round(f1_score(target_ohe_valid, predicted), 3))"
   ]
  },
  {
   "cell_type": "markdown",
   "metadata": {},
   "source": [
    "### Conclusion\n",
    "The provided data was not balanced, where the percentage of customers who left the bank was around 20%. Three different models have been tested using the raw or imbalanced data, hyperparameters are tuned where applicable.\n",
    "Optimal F1 scores have been obtained as follow for each model:\n",
    "- **DecisionTree => 0.565** with tree depth of 7;\n",
    "- **RandomForest => 0.606** with forest size of 70 and tree depth of 15;\n",
    "- **LogisticRegression => 0.340**. "
   ]
  },
  {
   "cell_type": "markdown",
   "metadata": {},
   "source": [
    "## Fix the class imbalance\n",
    "In this section, we will try to improve the quality of models by fixing balance issue of our data. Following two approaches will be used to fix data imbalance:\n",
    "- **Class_weight adjustment**\n",
    "- **Upsampling**\n",
    "\n",
    "For each approached we will check and compare the F1 score of previous three different models."
   ]
  },
  {
   "cell_type": "markdown",
   "metadata": {},
   "source": [
    "### Class weight adjustment\n",
    "Machine learning algorithms consider all observations in the training set to be equally weighted by default. If we need to indicate that some observations are more important, we assign a weight to the respective class using `class_weight` argument."
   ]
  },
  {
   "cell_type": "markdown",
   "metadata": {},
   "source": [
    "#### DecisionTree with balanced class_weight"
   ]
  },
  {
   "cell_type": "code",
   "execution_count": 21,
   "metadata": {
    "scrolled": true
   },
   "outputs": [
    {
     "data": {
      "text/html": [
       "<style  type=\"text/css\" >\n",
       "    #T_e28aaf06_d439_11eb_8fdd_02420a390effrow0_col0 {\n",
       "            background-color:  #a8bedc;\n",
       "            color:  #000000;\n",
       "        }    #T_e28aaf06_d439_11eb_8fdd_02420a390effrow0_col1 {\n",
       "            background-color:  #a8bedc;\n",
       "            color:  #000000;\n",
       "        }    #T_e28aaf06_d439_11eb_8fdd_02420a390effrow0_col2 {\n",
       "            background-color:  #eee8f3;\n",
       "            color:  #000000;\n",
       "        }    #T_e28aaf06_d439_11eb_8fdd_02420a390effrow0_col3 {\n",
       "            background-color:  #023858;\n",
       "            color:  #f1f1f1;\n",
       "        }    #T_e28aaf06_d439_11eb_8fdd_02420a390effrow0_col4 {\n",
       "            background-color:  #4e9ac6;\n",
       "            color:  #000000;\n",
       "        }    #T_e28aaf06_d439_11eb_8fdd_02420a390effrow0_col5 {\n",
       "            background-color:  #04649e;\n",
       "            color:  #f1f1f1;\n",
       "        }    #T_e28aaf06_d439_11eb_8fdd_02420a390effrow0_col6 {\n",
       "            background-color:  #5a9ec9;\n",
       "            color:  #000000;\n",
       "        }    #T_e28aaf06_d439_11eb_8fdd_02420a390effrow0_col7 {\n",
       "            background-color:  #4897c4;\n",
       "            color:  #000000;\n",
       "        }    #T_e28aaf06_d439_11eb_8fdd_02420a390effrow0_col8 {\n",
       "            background-color:  #93b5d6;\n",
       "            color:  #000000;\n",
       "        }    #T_e28aaf06_d439_11eb_8fdd_02420a390effrow0_col9 {\n",
       "            background-color:  #b4c4df;\n",
       "            color:  #000000;\n",
       "        }    #T_e28aaf06_d439_11eb_8fdd_02420a390effrow0_col10 {\n",
       "            background-color:  #d0d1e6;\n",
       "            color:  #000000;\n",
       "        }    #T_e28aaf06_d439_11eb_8fdd_02420a390effrow0_col11 {\n",
       "            background-color:  #f3edf5;\n",
       "            color:  #000000;\n",
       "        }    #T_e28aaf06_d439_11eb_8fdd_02420a390effrow0_col12 {\n",
       "            background-color:  #f7f0f7;\n",
       "            color:  #000000;\n",
       "        }    #T_e28aaf06_d439_11eb_8fdd_02420a390effrow0_col13 {\n",
       "            background-color:  #fff7fb;\n",
       "            color:  #000000;\n",
       "        }    #T_e28aaf06_d439_11eb_8fdd_02420a390effrow0_col14 {\n",
       "            background-color:  #faf3f9;\n",
       "            color:  #000000;\n",
       "        }    #T_e28aaf06_d439_11eb_8fdd_02420a390effrow0_col15 {\n",
       "            background-color:  #fff7fb;\n",
       "            color:  #000000;\n",
       "        }    #T_e28aaf06_d439_11eb_8fdd_02420a390effrow0_col16 {\n",
       "            background-color:  #eee8f3;\n",
       "            color:  #000000;\n",
       "        }    #T_e28aaf06_d439_11eb_8fdd_02420a390effrow0_col17 {\n",
       "            background-color:  #fff7fb;\n",
       "            color:  #000000;\n",
       "        }</style><table id=\"T_e28aaf06_d439_11eb_8fdd_02420a390eff\" ><thead>    <tr>        <th class=\"blank level0\" ></th>        <th class=\"col_heading level0 col0\" >2</th>        <th class=\"col_heading level0 col1\" >3</th>        <th class=\"col_heading level0 col2\" >4</th>        <th class=\"col_heading level0 col3\" >5</th>        <th class=\"col_heading level0 col4\" >6</th>        <th class=\"col_heading level0 col5\" >7</th>        <th class=\"col_heading level0 col6\" >8</th>        <th class=\"col_heading level0 col7\" >9</th>        <th class=\"col_heading level0 col8\" >10</th>        <th class=\"col_heading level0 col9\" >11</th>        <th class=\"col_heading level0 col10\" >12</th>        <th class=\"col_heading level0 col11\" >13</th>        <th class=\"col_heading level0 col12\" >14</th>        <th class=\"col_heading level0 col13\" >15</th>        <th class=\"col_heading level0 col14\" >16</th>        <th class=\"col_heading level0 col15\" >17</th>        <th class=\"col_heading level0 col16\" >18</th>        <th class=\"col_heading level0 col17\" >19</th>    </tr></thead><tbody>\n",
       "                <tr>\n",
       "                        <th id=\"T_e28aaf06_d439_11eb_8fdd_02420a390efflevel0_row0\" class=\"row_heading level0 row0\" >f1_score</th>\n",
       "                        <td id=\"T_e28aaf06_d439_11eb_8fdd_02420a390effrow0_col0\" class=\"data row0 col0\" >0.531</td>\n",
       "                        <td id=\"T_e28aaf06_d439_11eb_8fdd_02420a390effrow0_col1\" class=\"data row0 col1\" >0.531</td>\n",
       "                        <td id=\"T_e28aaf06_d439_11eb_8fdd_02420a390effrow0_col2\" class=\"data row0 col2\" >0.509</td>\n",
       "                        <td id=\"T_e28aaf06_d439_11eb_8fdd_02420a390effrow0_col3\" class=\"data row0 col3\" >0.586</td>\n",
       "                        <td id=\"T_e28aaf06_d439_11eb_8fdd_02420a390effrow0_col4\" class=\"data row0 col4\" >0.549</td>\n",
       "                        <td id=\"T_e28aaf06_d439_11eb_8fdd_02420a390effrow0_col5\" class=\"data row0 col5\" >0.57</td>\n",
       "                        <td id=\"T_e28aaf06_d439_11eb_8fdd_02420a390effrow0_col6\" class=\"data row0 col6\" >0.547</td>\n",
       "                        <td id=\"T_e28aaf06_d439_11eb_8fdd_02420a390effrow0_col7\" class=\"data row0 col7\" >0.55</td>\n",
       "                        <td id=\"T_e28aaf06_d439_11eb_8fdd_02420a390effrow0_col8\" class=\"data row0 col8\" >0.536</td>\n",
       "                        <td id=\"T_e28aaf06_d439_11eb_8fdd_02420a390effrow0_col9\" class=\"data row0 col9\" >0.528</td>\n",
       "                        <td id=\"T_e28aaf06_d439_11eb_8fdd_02420a390effrow0_col10\" class=\"data row0 col10\" >0.521</td>\n",
       "                        <td id=\"T_e28aaf06_d439_11eb_8fdd_02420a390effrow0_col11\" class=\"data row0 col11\" >0.506</td>\n",
       "                        <td id=\"T_e28aaf06_d439_11eb_8fdd_02420a390effrow0_col12\" class=\"data row0 col12\" >0.504</td>\n",
       "                        <td id=\"T_e28aaf06_d439_11eb_8fdd_02420a390effrow0_col13\" class=\"data row0 col13\" >0.499</td>\n",
       "                        <td id=\"T_e28aaf06_d439_11eb_8fdd_02420a390effrow0_col14\" class=\"data row0 col14\" >0.502</td>\n",
       "                        <td id=\"T_e28aaf06_d439_11eb_8fdd_02420a390effrow0_col15\" class=\"data row0 col15\" >0.499</td>\n",
       "                        <td id=\"T_e28aaf06_d439_11eb_8fdd_02420a390effrow0_col16\" class=\"data row0 col16\" >0.509</td>\n",
       "                        <td id=\"T_e28aaf06_d439_11eb_8fdd_02420a390effrow0_col17\" class=\"data row0 col17\" >0.499</td>\n",
       "            </tr>\n",
       "    </tbody></table>"
      ],
      "text/plain": [
       "<pandas.io.formats.style.Styler at 0x7f3c6d187250>"
      ]
     },
     "execution_count": 21,
     "metadata": {},
     "output_type": "execute_result"
    }
   ],
   "source": [
    "#loop to check f1 score at different max_depth values\n",
    "depth=[]\n",
    "f1=[]\n",
    "for i in range(2, 20):\n",
    "    dt_model=DecisionTreeClassifier(max_depth=i, random_state=234, class_weight='balanced')\n",
    "    dt_model.fit(features_ord_train, target_ord_train)\n",
    "    predicted=dt_model.predict(features_ord_valid)\n",
    "    f1.append(f1_score(target_ord_valid, predicted))\n",
    "    depth.append(i)\n",
    "    \n",
    "#visualize the result    \n",
    "pd.DataFrame([f1], index=['f1_score'], columns=depth).round(3).style.background_gradient( axis=1)"
   ]
  },
  {
   "cell_type": "markdown",
   "metadata": {},
   "source": [
    "#### RandomForest with balanced class_weight"
   ]
  },
  {
   "cell_type": "code",
   "execution_count": 22,
   "metadata": {},
   "outputs": [
    {
     "data": {
      "text/html": [
       "<style  type=\"text/css\" >\n",
       "    #T_e674243a_d439_11eb_8fdd_02420a390effrow0_col0 {\n",
       "            background-color:  #fff7fb;\n",
       "            color:  #000000;\n",
       "        }    #T_e674243a_d439_11eb_8fdd_02420a390effrow0_col1 {\n",
       "            background-color:  #569dc8;\n",
       "            color:  #000000;\n",
       "        }    #T_e674243a_d439_11eb_8fdd_02420a390effrow0_col2 {\n",
       "            background-color:  #3991c1;\n",
       "            color:  #000000;\n",
       "        }    #T_e674243a_d439_11eb_8fdd_02420a390effrow0_col3 {\n",
       "            background-color:  #1c7fb8;\n",
       "            color:  #000000;\n",
       "        }    #T_e674243a_d439_11eb_8fdd_02420a390effrow0_col4 {\n",
       "            background-color:  #1c7fb8;\n",
       "            color:  #000000;\n",
       "        }    #T_e674243a_d439_11eb_8fdd_02420a390effrow0_col5 {\n",
       "            background-color:  #05659f;\n",
       "            color:  #f1f1f1;\n",
       "        }    #T_e674243a_d439_11eb_8fdd_02420a390effrow0_col6 {\n",
       "            background-color:  #0570b0;\n",
       "            color:  #f1f1f1;\n",
       "        }    #T_e674243a_d439_11eb_8fdd_02420a390effrow0_col7 {\n",
       "            background-color:  #0a73b2;\n",
       "            color:  #f1f1f1;\n",
       "        }    #T_e674243a_d439_11eb_8fdd_02420a390effrow0_col8 {\n",
       "            background-color:  #045b8e;\n",
       "            color:  #f1f1f1;\n",
       "        }    #T_e674243a_d439_11eb_8fdd_02420a390effrow0_col9 {\n",
       "            background-color:  #04588a;\n",
       "            color:  #f1f1f1;\n",
       "        }    #T_e674243a_d439_11eb_8fdd_02420a390effrow0_col10 {\n",
       "            background-color:  #023f64;\n",
       "            color:  #f1f1f1;\n",
       "        }    #T_e674243a_d439_11eb_8fdd_02420a390effrow0_col11 {\n",
       "            background-color:  #023858;\n",
       "            color:  #f1f1f1;\n",
       "        }    #T_e674243a_d439_11eb_8fdd_02420a390effrow0_col12 {\n",
       "            background-color:  #023858;\n",
       "            color:  #f1f1f1;\n",
       "        }    #T_e674243a_d439_11eb_8fdd_02420a390effrow0_col13 {\n",
       "            background-color:  #03446a;\n",
       "            color:  #f1f1f1;\n",
       "        }</style><table id=\"T_e674243a_d439_11eb_8fdd_02420a390eff\" ><thead>    <tr>        <th class=\"blank level0\" ></th>        <th class=\"col_heading level0 col0\" >10</th>        <th class=\"col_heading level0 col1\" >20</th>        <th class=\"col_heading level0 col2\" >30</th>        <th class=\"col_heading level0 col3\" >40</th>        <th class=\"col_heading level0 col4\" >50</th>        <th class=\"col_heading level0 col5\" >60</th>        <th class=\"col_heading level0 col6\" >70</th>        <th class=\"col_heading level0 col7\" >80</th>        <th class=\"col_heading level0 col8\" >90</th>        <th class=\"col_heading level0 col9\" >100</th>        <th class=\"col_heading level0 col10\" >110</th>        <th class=\"col_heading level0 col11\" >120</th>        <th class=\"col_heading level0 col12\" >130</th>        <th class=\"col_heading level0 col13\" >140</th>    </tr></thead><tbody>\n",
       "                <tr>\n",
       "                        <th id=\"T_e674243a_d439_11eb_8fdd_02420a390efflevel0_row0\" class=\"row_heading level0 row0\" >f1_score</th>\n",
       "                        <td id=\"T_e674243a_d439_11eb_8fdd_02420a390effrow0_col0\" class=\"data row0 col0\" >0.531</td>\n",
       "                        <td id=\"T_e674243a_d439_11eb_8fdd_02420a390effrow0_col1\" class=\"data row0 col1\" >0.569</td>\n",
       "                        <td id=\"T_e674243a_d439_11eb_8fdd_02420a390effrow0_col2\" class=\"data row0 col2\" >0.573</td>\n",
       "                        <td id=\"T_e674243a_d439_11eb_8fdd_02420a390effrow0_col3\" class=\"data row0 col3\" >0.578</td>\n",
       "                        <td id=\"T_e674243a_d439_11eb_8fdd_02420a390effrow0_col4\" class=\"data row0 col4\" >0.578</td>\n",
       "                        <td id=\"T_e674243a_d439_11eb_8fdd_02420a390effrow0_col5\" class=\"data row0 col5\" >0.586</td>\n",
       "                        <td id=\"T_e674243a_d439_11eb_8fdd_02420a390effrow0_col6\" class=\"data row0 col6\" >0.582</td>\n",
       "                        <td id=\"T_e674243a_d439_11eb_8fdd_02420a390effrow0_col7\" class=\"data row0 col7\" >0.581</td>\n",
       "                        <td id=\"T_e674243a_d439_11eb_8fdd_02420a390effrow0_col8\" class=\"data row0 col8\" >0.59</td>\n",
       "                        <td id=\"T_e674243a_d439_11eb_8fdd_02420a390effrow0_col9\" class=\"data row0 col9\" >0.591</td>\n",
       "                        <td id=\"T_e674243a_d439_11eb_8fdd_02420a390effrow0_col10\" class=\"data row0 col10\" >0.597</td>\n",
       "                        <td id=\"T_e674243a_d439_11eb_8fdd_02420a390effrow0_col11\" class=\"data row0 col11\" >0.599</td>\n",
       "                        <td id=\"T_e674243a_d439_11eb_8fdd_02420a390effrow0_col12\" class=\"data row0 col12\" >0.599</td>\n",
       "                        <td id=\"T_e674243a_d439_11eb_8fdd_02420a390effrow0_col13\" class=\"data row0 col13\" >0.596</td>\n",
       "            </tr>\n",
       "    </tbody></table>"
      ],
      "text/plain": [
       "<pandas.io.formats.style.Styler at 0x7f3c6d1fc550>"
      ]
     },
     "execution_count": 22,
     "metadata": {},
     "output_type": "execute_result"
    }
   ],
   "source": [
    "#find out f1 scores for different number of trees\n",
    "tree=[]\n",
    "f1=[]\n",
    "for i in range(0, 150, 10):\n",
    "    if i !=0:\n",
    "        rf_model=RandomForestClassifier(n_estimators=i, random_state=234, class_weight='balanced')\n",
    "        rf_model.fit(features_ord_train, target_ord_train)\n",
    "        predicted=rf_model.predict(features_ord_valid)\n",
    "        f1.append(f1_score(target_ord_valid, predicted))\n",
    "        tree.append(i)\n",
    "\n",
    "#visualize the result  \n",
    "pd.DataFrame([f1], index=['f1_score'], columns=tree).round(3).style.background_gradient(axis=1)"
   ]
  },
  {
   "cell_type": "code",
   "execution_count": 23,
   "metadata": {},
   "outputs": [
    {
     "data": {
      "text/html": [
       "<style  type=\"text/css\" >\n",
       "    #T_ecaf3f6a_d439_11eb_8fdd_02420a390effrow0_col0 {\n",
       "            background-color:  #fff7fb;\n",
       "            color:  #000000;\n",
       "        }    #T_ecaf3f6a_d439_11eb_8fdd_02420a390effrow0_col1 {\n",
       "            background-color:  #e4e1ef;\n",
       "            color:  #000000;\n",
       "        }    #T_ecaf3f6a_d439_11eb_8fdd_02420a390effrow0_col2 {\n",
       "            background-color:  #c8cde4;\n",
       "            color:  #000000;\n",
       "        }    #T_ecaf3f6a_d439_11eb_8fdd_02420a390effrow0_col3 {\n",
       "            background-color:  #b3c3de;\n",
       "            color:  #000000;\n",
       "        }    #T_ecaf3f6a_d439_11eb_8fdd_02420a390effrow0_col4 {\n",
       "            background-color:  #7bacd1;\n",
       "            color:  #000000;\n",
       "        }    #T_ecaf3f6a_d439_11eb_8fdd_02420a390effrow0_col5 {\n",
       "            background-color:  #056ead;\n",
       "            color:  #f1f1f1;\n",
       "        }    #T_ecaf3f6a_d439_11eb_8fdd_02420a390effrow0_col6 {\n",
       "            background-color:  #157ab5;\n",
       "            color:  #000000;\n",
       "        }    #T_ecaf3f6a_d439_11eb_8fdd_02420a390effrow0_col7 {\n",
       "            background-color:  #023858;\n",
       "            color:  #f1f1f1;\n",
       "        }    #T_ecaf3f6a_d439_11eb_8fdd_02420a390effrow0_col8 {\n",
       "            background-color:  #045280;\n",
       "            color:  #f1f1f1;\n",
       "        }    #T_ecaf3f6a_d439_11eb_8fdd_02420a390effrow0_col9 {\n",
       "            background-color:  #0566a0;\n",
       "            color:  #f1f1f1;\n",
       "        }    #T_ecaf3f6a_d439_11eb_8fdd_02420a390effrow0_col10 {\n",
       "            background-color:  #0566a0;\n",
       "            color:  #f1f1f1;\n",
       "        }    #T_ecaf3f6a_d439_11eb_8fdd_02420a390effrow0_col11 {\n",
       "            background-color:  #549cc7;\n",
       "            color:  #000000;\n",
       "        }    #T_ecaf3f6a_d439_11eb_8fdd_02420a390effrow0_col12 {\n",
       "            background-color:  #3d93c2;\n",
       "            color:  #000000;\n",
       "        }    #T_ecaf3f6a_d439_11eb_8fdd_02420a390effrow0_col13 {\n",
       "            background-color:  #73a9cf;\n",
       "            color:  #000000;\n",
       "        }    #T_ecaf3f6a_d439_11eb_8fdd_02420a390effrow0_col14 {\n",
       "            background-color:  #63a2cb;\n",
       "            color:  #000000;\n",
       "        }    #T_ecaf3f6a_d439_11eb_8fdd_02420a390effrow0_col15 {\n",
       "            background-color:  #81aed2;\n",
       "            color:  #000000;\n",
       "        }    #T_ecaf3f6a_d439_11eb_8fdd_02420a390effrow0_col16 {\n",
       "            background-color:  #b3c3de;\n",
       "            color:  #000000;\n",
       "        }    #T_ecaf3f6a_d439_11eb_8fdd_02420a390effrow0_col17 {\n",
       "            background-color:  #549cc7;\n",
       "            color:  #000000;\n",
       "        }</style><table id=\"T_ecaf3f6a_d439_11eb_8fdd_02420a390eff\" ><thead>    <tr>        <th class=\"blank level0\" ></th>        <th class=\"col_heading level0 col0\" >2</th>        <th class=\"col_heading level0 col1\" >3</th>        <th class=\"col_heading level0 col2\" >4</th>        <th class=\"col_heading level0 col3\" >5</th>        <th class=\"col_heading level0 col4\" >6</th>        <th class=\"col_heading level0 col5\" >7</th>        <th class=\"col_heading level0 col6\" >8</th>        <th class=\"col_heading level0 col7\" >9</th>        <th class=\"col_heading level0 col8\" >10</th>        <th class=\"col_heading level0 col9\" >11</th>        <th class=\"col_heading level0 col10\" >12</th>        <th class=\"col_heading level0 col11\" >13</th>        <th class=\"col_heading level0 col12\" >14</th>        <th class=\"col_heading level0 col13\" >15</th>        <th class=\"col_heading level0 col14\" >16</th>        <th class=\"col_heading level0 col15\" >17</th>        <th class=\"col_heading level0 col16\" >18</th>        <th class=\"col_heading level0 col17\" >19</th>    </tr></thead><tbody>\n",
       "                <tr>\n",
       "                        <th id=\"T_ecaf3f6a_d439_11eb_8fdd_02420a390efflevel0_row0\" class=\"row_heading level0 row0\" >f1_score</th>\n",
       "                        <td id=\"T_ecaf3f6a_d439_11eb_8fdd_02420a390effrow0_col0\" class=\"data row0 col0\" >0.57</td>\n",
       "                        <td id=\"T_ecaf3f6a_d439_11eb_8fdd_02420a390effrow0_col1\" class=\"data row0 col1\" >0.58</td>\n",
       "                        <td id=\"T_ecaf3f6a_d439_11eb_8fdd_02420a390effrow0_col2\" class=\"data row0 col2\" >0.587</td>\n",
       "                        <td id=\"T_ecaf3f6a_d439_11eb_8fdd_02420a390effrow0_col3\" class=\"data row0 col3\" >0.591</td>\n",
       "                        <td id=\"T_ecaf3f6a_d439_11eb_8fdd_02420a390effrow0_col4\" class=\"data row0 col4\" >0.6</td>\n",
       "                        <td id=\"T_ecaf3f6a_d439_11eb_8fdd_02420a390effrow0_col5\" class=\"data row0 col5\" >0.617</td>\n",
       "                        <td id=\"T_ecaf3f6a_d439_11eb_8fdd_02420a390effrow0_col6\" class=\"data row0 col6\" >0.614</td>\n",
       "                        <td id=\"T_ecaf3f6a_d439_11eb_8fdd_02420a390effrow0_col7\" class=\"data row0 col7\" >0.632</td>\n",
       "                        <td id=\"T_ecaf3f6a_d439_11eb_8fdd_02420a390effrow0_col8\" class=\"data row0 col8\" >0.626</td>\n",
       "                        <td id=\"T_ecaf3f6a_d439_11eb_8fdd_02420a390effrow0_col9\" class=\"data row0 col9\" >0.62</td>\n",
       "                        <td id=\"T_ecaf3f6a_d439_11eb_8fdd_02420a390effrow0_col10\" class=\"data row0 col10\" >0.62</td>\n",
       "                        <td id=\"T_ecaf3f6a_d439_11eb_8fdd_02420a390effrow0_col11\" class=\"data row0 col11\" >0.605</td>\n",
       "                        <td id=\"T_ecaf3f6a_d439_11eb_8fdd_02420a390effrow0_col12\" class=\"data row0 col12\" >0.608</td>\n",
       "                        <td id=\"T_ecaf3f6a_d439_11eb_8fdd_02420a390effrow0_col13\" class=\"data row0 col13\" >0.601</td>\n",
       "                        <td id=\"T_ecaf3f6a_d439_11eb_8fdd_02420a390effrow0_col14\" class=\"data row0 col14\" >0.603</td>\n",
       "                        <td id=\"T_ecaf3f6a_d439_11eb_8fdd_02420a390effrow0_col15\" class=\"data row0 col15\" >0.599</td>\n",
       "                        <td id=\"T_ecaf3f6a_d439_11eb_8fdd_02420a390effrow0_col16\" class=\"data row0 col16\" >0.591</td>\n",
       "                        <td id=\"T_ecaf3f6a_d439_11eb_8fdd_02420a390effrow0_col17\" class=\"data row0 col17\" >0.605</td>\n",
       "            </tr>\n",
       "    </tbody></table>"
      ],
      "text/plain": [
       "<pandas.io.formats.style.Styler at 0x7f3c0067b910>"
      ]
     },
     "execution_count": 23,
     "metadata": {},
     "output_type": "execute_result"
    }
   ],
   "source": [
    "#find out f1 scores for different depth of trees using optimal n_estimator values from previous step\n",
    "depth=[]\n",
    "f1=[]\n",
    "for i in range(2, 20):\n",
    "    rf_model=RandomForestClassifier(max_depth=i, n_estimators=120,  random_state=234, class_weight='balanced')\n",
    "    rf_model.fit(features_ord_train, target_ord_train)\n",
    "    predicted=rf_model.predict(features_ord_valid)\n",
    "    f1.append(f1_score(target_ord_valid, predicted))\n",
    "    depth.append(i)\n",
    "\n",
    "#visualize the result      \n",
    "pd.DataFrame([f1], index=['f1_score'], columns=depth).round(3).style.background_gradient(axis=1)"
   ]
  },
  {
   "cell_type": "markdown",
   "metadata": {},
   "source": [
    "#### LogisticRegression with balanced class_weight"
   ]
  },
  {
   "cell_type": "code",
   "execution_count": 24,
   "metadata": {},
   "outputs": [
    {
     "name": "stdout",
     "output_type": "stream",
     "text": [
      "F1 socre of the logsitic regression model is 0.481\n"
     ]
    }
   ],
   "source": [
    "#LogisticRegerssion model and its F1 score\n",
    "lg_model=LogisticRegression(random_state=234, solver='liblinear', class_weight='balanced')\n",
    "lg_model.fit(features_ohe_train, target_ohe_train)\n",
    "predicted=lg_model.predict(features_ohe_valid)\n",
    "print('F1 socre of the logsitic regression model is', round(f1_score(target_ohe_valid, predicted), 3))"
   ]
  },
  {
   "cell_type": "markdown",
   "metadata": {},
   "source": [
    "### Upsampling\n",
    "Upsampling is performed in several steps:\n",
    "    Split the training sample into negative and positive observations;\n",
    "    Duplicate the positive observations several times;\n",
    "    Create a new training sample based on the data obtained;\n",
    "    Shuffle the data: identical questions following one another will not help the training."
   ]
  },
  {
   "cell_type": "code",
   "execution_count": 25,
   "metadata": {},
   "outputs": [],
   "source": [
    "#function that upsample provided datasets\n",
    "def upsample(features, target, ups):\n",
    "    features_zeros = features[target == 0]\n",
    "    features_ones = features[target == 1]\n",
    "    target_zeros = target[target == 0]\n",
    "    target_ones = target[target == 1]\n",
    "\n",
    "    features_upsampled = pd.concat([features_zeros] + [features_ones] * ups)\n",
    "    target_upsampled = pd.concat([target_zeros] + [target_ones] * ups)\n",
    "\n",
    "    features_upsampled, target_upsampled = shuffle(features_upsampled, target_upsampled, random_state=234)\n",
    "\n",
    "    return features_upsampled, target_upsampled\n",
    "\n",
    "\n",
    "#apply the function to LabelEncoded and OneHotEncoded training datasets\n",
    "features_ord_train_ups, target_ord_train_ups = upsample(features_ord_train, target_ord_train, 4)\n",
    "features_ohe_train_ups, target_ohe_train_ups = upsample(features_ohe_train, target_ohe_train, 4)"
   ]
  },
  {
   "cell_type": "markdown",
   "metadata": {},
   "source": [
    "#### DecisionTree with upsampling"
   ]
  },
  {
   "cell_type": "code",
   "execution_count": 26,
   "metadata": {
    "scrolled": true
   },
   "outputs": [
    {
     "data": {
      "text/html": [
       "<style  type=\"text/css\" >\n",
       "    #T_ed1cd2b4_d439_11eb_8fdd_02420a390effrow0_col0 {\n",
       "            background-color:  #86b0d3;\n",
       "            color:  #000000;\n",
       "        }    #T_ed1cd2b4_d439_11eb_8fdd_02420a390effrow0_col1 {\n",
       "            background-color:  #86b0d3;\n",
       "            color:  #000000;\n",
       "        }    #T_ed1cd2b4_d439_11eb_8fdd_02420a390effrow0_col2 {\n",
       "            background-color:  #d3d4e7;\n",
       "            color:  #000000;\n",
       "        }    #T_ed1cd2b4_d439_11eb_8fdd_02420a390effrow0_col3 {\n",
       "            background-color:  #023858;\n",
       "            color:  #f1f1f1;\n",
       "        }    #T_ed1cd2b4_d439_11eb_8fdd_02420a390effrow0_col4 {\n",
       "            background-color:  #328dbf;\n",
       "            color:  #000000;\n",
       "        }    #T_ed1cd2b4_d439_11eb_8fdd_02420a390effrow0_col5 {\n",
       "            background-color:  #046096;\n",
       "            color:  #f1f1f1;\n",
       "        }    #T_ed1cd2b4_d439_11eb_8fdd_02420a390effrow0_col6 {\n",
       "            background-color:  #4094c3;\n",
       "            color:  #000000;\n",
       "        }    #T_ed1cd2b4_d439_11eb_8fdd_02420a390effrow0_col7 {\n",
       "            background-color:  #3b92c1;\n",
       "            color:  #000000;\n",
       "        }    #T_ed1cd2b4_d439_11eb_8fdd_02420a390effrow0_col8 {\n",
       "            background-color:  #71a8ce;\n",
       "            color:  #000000;\n",
       "        }    #T_ed1cd2b4_d439_11eb_8fdd_02420a390effrow0_col9 {\n",
       "            background-color:  #89b1d4;\n",
       "            color:  #000000;\n",
       "        }    #T_ed1cd2b4_d439_11eb_8fdd_02420a390effrow0_col10 {\n",
       "            background-color:  #a9bfdc;\n",
       "            color:  #000000;\n",
       "        }    #T_ed1cd2b4_d439_11eb_8fdd_02420a390effrow0_col11 {\n",
       "            background-color:  #d8d7e9;\n",
       "            color:  #000000;\n",
       "        }    #T_ed1cd2b4_d439_11eb_8fdd_02420a390effrow0_col12 {\n",
       "            background-color:  #d3d4e7;\n",
       "            color:  #000000;\n",
       "        }    #T_ed1cd2b4_d439_11eb_8fdd_02420a390effrow0_col13 {\n",
       "            background-color:  #d8d7e9;\n",
       "            color:  #000000;\n",
       "        }    #T_ed1cd2b4_d439_11eb_8fdd_02420a390effrow0_col14 {\n",
       "            background-color:  #fff7fb;\n",
       "            color:  #000000;\n",
       "        }    #T_ed1cd2b4_d439_11eb_8fdd_02420a390effrow0_col15 {\n",
       "            background-color:  #dcdaeb;\n",
       "            color:  #000000;\n",
       "        }    #T_ed1cd2b4_d439_11eb_8fdd_02420a390effrow0_col16 {\n",
       "            background-color:  #d8d7e9;\n",
       "            color:  #000000;\n",
       "        }    #T_ed1cd2b4_d439_11eb_8fdd_02420a390effrow0_col17 {\n",
       "            background-color:  #e9e5f1;\n",
       "            color:  #000000;\n",
       "        }</style><table id=\"T_ed1cd2b4_d439_11eb_8fdd_02420a390eff\" ><thead>    <tr>        <th class=\"blank level0\" ></th>        <th class=\"col_heading level0 col0\" >2</th>        <th class=\"col_heading level0 col1\" >3</th>        <th class=\"col_heading level0 col2\" >4</th>        <th class=\"col_heading level0 col3\" >5</th>        <th class=\"col_heading level0 col4\" >6</th>        <th class=\"col_heading level0 col5\" >7</th>        <th class=\"col_heading level0 col6\" >8</th>        <th class=\"col_heading level0 col7\" >9</th>        <th class=\"col_heading level0 col8\" >10</th>        <th class=\"col_heading level0 col9\" >11</th>        <th class=\"col_heading level0 col10\" >12</th>        <th class=\"col_heading level0 col11\" >13</th>        <th class=\"col_heading level0 col12\" >14</th>        <th class=\"col_heading level0 col13\" >15</th>        <th class=\"col_heading level0 col14\" >16</th>        <th class=\"col_heading level0 col15\" >17</th>        <th class=\"col_heading level0 col16\" >18</th>        <th class=\"col_heading level0 col17\" >19</th>    </tr></thead><tbody>\n",
       "                <tr>\n",
       "                        <th id=\"T_ed1cd2b4_d439_11eb_8fdd_02420a390efflevel0_row0\" class=\"row_heading level0 row0\" >f1_score</th>\n",
       "                        <td id=\"T_ed1cd2b4_d439_11eb_8fdd_02420a390effrow0_col0\" class=\"data row0 col0\" >0.531</td>\n",
       "                        <td id=\"T_ed1cd2b4_d439_11eb_8fdd_02420a390effrow0_col1\" class=\"data row0 col1\" >0.531</td>\n",
       "                        <td id=\"T_ed1cd2b4_d439_11eb_8fdd_02420a390effrow0_col2\" class=\"data row0 col2\" >0.509</td>\n",
       "                        <td id=\"T_ed1cd2b4_d439_11eb_8fdd_02420a390effrow0_col3\" class=\"data row0 col3\" >0.586</td>\n",
       "                        <td id=\"T_ed1cd2b4_d439_11eb_8fdd_02420a390effrow0_col4\" class=\"data row0 col4\" >0.549</td>\n",
       "                        <td id=\"T_ed1cd2b4_d439_11eb_8fdd_02420a390effrow0_col5\" class=\"data row0 col5\" >0.57</td>\n",
       "                        <td id=\"T_ed1cd2b4_d439_11eb_8fdd_02420a390effrow0_col6\" class=\"data row0 col6\" >0.546</td>\n",
       "                        <td id=\"T_ed1cd2b4_d439_11eb_8fdd_02420a390effrow0_col7\" class=\"data row0 col7\" >0.547</td>\n",
       "                        <td id=\"T_ed1cd2b4_d439_11eb_8fdd_02420a390effrow0_col8\" class=\"data row0 col8\" >0.536</td>\n",
       "                        <td id=\"T_ed1cd2b4_d439_11eb_8fdd_02420a390effrow0_col9\" class=\"data row0 col9\" >0.53</td>\n",
       "                        <td id=\"T_ed1cd2b4_d439_11eb_8fdd_02420a390effrow0_col10\" class=\"data row0 col10\" >0.522</td>\n",
       "                        <td id=\"T_ed1cd2b4_d439_11eb_8fdd_02420a390effrow0_col11\" class=\"data row0 col11\" >0.507</td>\n",
       "                        <td id=\"T_ed1cd2b4_d439_11eb_8fdd_02420a390effrow0_col12\" class=\"data row0 col12\" >0.509</td>\n",
       "                        <td id=\"T_ed1cd2b4_d439_11eb_8fdd_02420a390effrow0_col13\" class=\"data row0 col13\" >0.507</td>\n",
       "                        <td id=\"T_ed1cd2b4_d439_11eb_8fdd_02420a390effrow0_col14\" class=\"data row0 col14\" >0.485</td>\n",
       "                        <td id=\"T_ed1cd2b4_d439_11eb_8fdd_02420a390effrow0_col15\" class=\"data row0 col15\" >0.505</td>\n",
       "                        <td id=\"T_ed1cd2b4_d439_11eb_8fdd_02420a390effrow0_col16\" class=\"data row0 col16\" >0.507</td>\n",
       "                        <td id=\"T_ed1cd2b4_d439_11eb_8fdd_02420a390effrow0_col17\" class=\"data row0 col17\" >0.499</td>\n",
       "            </tr>\n",
       "    </tbody></table>"
      ],
      "text/plain": [
       "<pandas.io.formats.style.Styler at 0x7f3c00a62ad0>"
      ]
     },
     "execution_count": 26,
     "metadata": {},
     "output_type": "execute_result"
    }
   ],
   "source": [
    "#loop to check f1 score at different max_depth values\n",
    "depth=[]\n",
    "f1=[]\n",
    "for i in range(2, 20):\n",
    "    dt_model=DecisionTreeClassifier(max_depth=i, random_state=234)\n",
    "    dt_model.fit(features_ord_train_ups, target_ord_train_ups)\n",
    "    predicted=dt_model.predict(features_ord_valid)\n",
    "    f1.append(f1_score(target_ord_valid, predicted))\n",
    "    depth.append(i)\n",
    "\n",
    "#visualize the result     \n",
    "pd.DataFrame([f1], index=['f1_score'], columns=depth).round(3).style.background_gradient( axis=1)"
   ]
  },
  {
   "cell_type": "markdown",
   "metadata": {},
   "source": [
    "#### RandomForest with upsampling"
   ]
  },
  {
   "cell_type": "code",
   "execution_count": 27,
   "metadata": {},
   "outputs": [
    {
     "data": {
      "text/html": [
       "<style  type=\"text/css\" >\n",
       "    #T_f29eea9c_d439_11eb_8fdd_02420a390effrow0_col0 {\n",
       "            background-color:  #fff7fb;\n",
       "            color:  #000000;\n",
       "        }    #T_f29eea9c_d439_11eb_8fdd_02420a390effrow0_col1 {\n",
       "            background-color:  #023858;\n",
       "            color:  #f1f1f1;\n",
       "        }    #T_f29eea9c_d439_11eb_8fdd_02420a390effrow0_col2 {\n",
       "            background-color:  #023858;\n",
       "            color:  #f1f1f1;\n",
       "        }    #T_f29eea9c_d439_11eb_8fdd_02420a390effrow0_col3 {\n",
       "            background-color:  #034973;\n",
       "            color:  #f1f1f1;\n",
       "        }    #T_f29eea9c_d439_11eb_8fdd_02420a390effrow0_col4 {\n",
       "            background-color:  #7bacd1;\n",
       "            color:  #000000;\n",
       "        }    #T_f29eea9c_d439_11eb_8fdd_02420a390effrow0_col5 {\n",
       "            background-color:  #6ba5cd;\n",
       "            color:  #000000;\n",
       "        }    #T_f29eea9c_d439_11eb_8fdd_02420a390effrow0_col6 {\n",
       "            background-color:  #046097;\n",
       "            color:  #f1f1f1;\n",
       "        }    #T_f29eea9c_d439_11eb_8fdd_02420a390effrow0_col7 {\n",
       "            background-color:  #0566a0;\n",
       "            color:  #f1f1f1;\n",
       "        }    #T_f29eea9c_d439_11eb_8fdd_02420a390effrow0_col8 {\n",
       "            background-color:  #046097;\n",
       "            color:  #f1f1f1;\n",
       "        }    #T_f29eea9c_d439_11eb_8fdd_02420a390effrow0_col9 {\n",
       "            background-color:  #046097;\n",
       "            color:  #f1f1f1;\n",
       "        }    #T_f29eea9c_d439_11eb_8fdd_02420a390effrow0_col10 {\n",
       "            background-color:  #045b8e;\n",
       "            color:  #f1f1f1;\n",
       "        }    #T_f29eea9c_d439_11eb_8fdd_02420a390effrow0_col11 {\n",
       "            background-color:  #023858;\n",
       "            color:  #f1f1f1;\n",
       "        }    #T_f29eea9c_d439_11eb_8fdd_02420a390effrow0_col12 {\n",
       "            background-color:  #034973;\n",
       "            color:  #f1f1f1;\n",
       "        }    #T_f29eea9c_d439_11eb_8fdd_02420a390effrow0_col13 {\n",
       "            background-color:  #045280;\n",
       "            color:  #f1f1f1;\n",
       "        }</style><table id=\"T_f29eea9c_d439_11eb_8fdd_02420a390eff\" ><thead>    <tr>        <th class=\"blank level0\" ></th>        <th class=\"col_heading level0 col0\" >10</th>        <th class=\"col_heading level0 col1\" >20</th>        <th class=\"col_heading level0 col2\" >30</th>        <th class=\"col_heading level0 col3\" >40</th>        <th class=\"col_heading level0 col4\" >50</th>        <th class=\"col_heading level0 col5\" >60</th>        <th class=\"col_heading level0 col6\" >70</th>        <th class=\"col_heading level0 col7\" >80</th>        <th class=\"col_heading level0 col8\" >90</th>        <th class=\"col_heading level0 col9\" >100</th>        <th class=\"col_heading level0 col10\" >110</th>        <th class=\"col_heading level0 col11\" >120</th>        <th class=\"col_heading level0 col12\" >130</th>        <th class=\"col_heading level0 col13\" >140</th>    </tr></thead><tbody>\n",
       "                <tr>\n",
       "                        <th id=\"T_f29eea9c_d439_11eb_8fdd_02420a390efflevel0_row0\" class=\"row_heading level0 row0\" >f1_score</th>\n",
       "                        <td id=\"T_f29eea9c_d439_11eb_8fdd_02420a390effrow0_col0\" class=\"data row0 col0\" >0.582</td>\n",
       "                        <td id=\"T_f29eea9c_d439_11eb_8fdd_02420a390effrow0_col1\" class=\"data row0 col1\" >0.613</td>\n",
       "                        <td id=\"T_f29eea9c_d439_11eb_8fdd_02420a390effrow0_col2\" class=\"data row0 col2\" >0.613</td>\n",
       "                        <td id=\"T_f29eea9c_d439_11eb_8fdd_02420a390effrow0_col3\" class=\"data row0 col3\" >0.611</td>\n",
       "                        <td id=\"T_f29eea9c_d439_11eb_8fdd_02420a390effrow0_col4\" class=\"data row0 col4\" >0.597</td>\n",
       "                        <td id=\"T_f29eea9c_d439_11eb_8fdd_02420a390effrow0_col5\" class=\"data row0 col5\" >0.598</td>\n",
       "                        <td id=\"T_f29eea9c_d439_11eb_8fdd_02420a390effrow0_col6\" class=\"data row0 col6\" >0.608</td>\n",
       "                        <td id=\"T_f29eea9c_d439_11eb_8fdd_02420a390effrow0_col7\" class=\"data row0 col7\" >0.607</td>\n",
       "                        <td id=\"T_f29eea9c_d439_11eb_8fdd_02420a390effrow0_col8\" class=\"data row0 col8\" >0.608</td>\n",
       "                        <td id=\"T_f29eea9c_d439_11eb_8fdd_02420a390effrow0_col9\" class=\"data row0 col9\" >0.608</td>\n",
       "                        <td id=\"T_f29eea9c_d439_11eb_8fdd_02420a390effrow0_col10\" class=\"data row0 col10\" >0.609</td>\n",
       "                        <td id=\"T_f29eea9c_d439_11eb_8fdd_02420a390effrow0_col11\" class=\"data row0 col11\" >0.613</td>\n",
       "                        <td id=\"T_f29eea9c_d439_11eb_8fdd_02420a390effrow0_col12\" class=\"data row0 col12\" >0.611</td>\n",
       "                        <td id=\"T_f29eea9c_d439_11eb_8fdd_02420a390effrow0_col13\" class=\"data row0 col13\" >0.61</td>\n",
       "            </tr>\n",
       "    </tbody></table>"
      ],
      "text/plain": [
       "<pandas.io.formats.style.Styler at 0x7f3c6d1cef50>"
      ]
     },
     "execution_count": 27,
     "metadata": {},
     "output_type": "execute_result"
    }
   ],
   "source": [
    "#find out f1 scores for different number of trees\n",
    "tree=[]\n",
    "f1=[]\n",
    "for i in range(0, 150, 10):\n",
    "    if i !=0:\n",
    "        rf_model=RandomForestClassifier(n_estimators=i, random_state=234)\n",
    "        rf_model.fit(features_ord_train_ups, target_ord_train_ups)\n",
    "        predicted=rf_model.predict(features_ord_valid)\n",
    "        f1.append(f1_score(target_ord_valid, predicted))\n",
    "        tree.append(i)\n",
    "\n",
    "#visualize the result \n",
    "pd.DataFrame([f1], index=['f1_score'], columns=tree).round(3).style.background_gradient(axis=1)"
   ]
  },
  {
   "cell_type": "code",
   "execution_count": 28,
   "metadata": {},
   "outputs": [
    {
     "data": {
      "text/html": [
       "<style  type=\"text/css\" >\n",
       "    #T_fb7232f0_d439_11eb_8fdd_02420a390effrow0_col0 {\n",
       "            background-color:  #fff7fb;\n",
       "            color:  #000000;\n",
       "        }    #T_fb7232f0_d439_11eb_8fdd_02420a390effrow0_col1 {\n",
       "            background-color:  #f5eff6;\n",
       "            color:  #000000;\n",
       "        }    #T_fb7232f0_d439_11eb_8fdd_02420a390effrow0_col2 {\n",
       "            background-color:  #cccfe5;\n",
       "            color:  #000000;\n",
       "        }    #T_fb7232f0_d439_11eb_8fdd_02420a390effrow0_col3 {\n",
       "            background-color:  #e0dded;\n",
       "            color:  #000000;\n",
       "        }    #T_fb7232f0_d439_11eb_8fdd_02420a390effrow0_col4 {\n",
       "            background-color:  #84b0d3;\n",
       "            color:  #000000;\n",
       "        }    #T_fb7232f0_d439_11eb_8fdd_02420a390effrow0_col5 {\n",
       "            background-color:  #3f93c2;\n",
       "            color:  #000000;\n",
       "        }    #T_fb7232f0_d439_11eb_8fdd_02420a390effrow0_col6 {\n",
       "            background-color:  #308cbe;\n",
       "            color:  #000000;\n",
       "        }    #T_fb7232f0_d439_11eb_8fdd_02420a390effrow0_col7 {\n",
       "            background-color:  #167bb6;\n",
       "            color:  #000000;\n",
       "        }    #T_fb7232f0_d439_11eb_8fdd_02420a390effrow0_col8 {\n",
       "            background-color:  #2383ba;\n",
       "            color:  #000000;\n",
       "        }    #T_fb7232f0_d439_11eb_8fdd_02420a390effrow0_col9 {\n",
       "            background-color:  #045b8e;\n",
       "            color:  #f1f1f1;\n",
       "        }    #T_fb7232f0_d439_11eb_8fdd_02420a390effrow0_col10 {\n",
       "            background-color:  #034d79;\n",
       "            color:  #f1f1f1;\n",
       "        }    #T_fb7232f0_d439_11eb_8fdd_02420a390effrow0_col11 {\n",
       "            background-color:  #023858;\n",
       "            color:  #f1f1f1;\n",
       "        }    #T_fb7232f0_d439_11eb_8fdd_02420a390effrow0_col12 {\n",
       "            background-color:  #023c5f;\n",
       "            color:  #f1f1f1;\n",
       "        }    #T_fb7232f0_d439_11eb_8fdd_02420a390effrow0_col13 {\n",
       "            background-color:  #1077b4;\n",
       "            color:  #f1f1f1;\n",
       "        }    #T_fb7232f0_d439_11eb_8fdd_02420a390effrow0_col14 {\n",
       "            background-color:  #023858;\n",
       "            color:  #f1f1f1;\n",
       "        }    #T_fb7232f0_d439_11eb_8fdd_02420a390effrow0_col15 {\n",
       "            background-color:  #034973;\n",
       "            color:  #f1f1f1;\n",
       "        }    #T_fb7232f0_d439_11eb_8fdd_02420a390effrow0_col16 {\n",
       "            background-color:  #045382;\n",
       "            color:  #f1f1f1;\n",
       "        }    #T_fb7232f0_d439_11eb_8fdd_02420a390effrow0_col17 {\n",
       "            background-color:  #045382;\n",
       "            color:  #f1f1f1;\n",
       "        }</style><table id=\"T_fb7232f0_d439_11eb_8fdd_02420a390eff\" ><thead>    <tr>        <th class=\"blank level0\" ></th>        <th class=\"col_heading level0 col0\" >2</th>        <th class=\"col_heading level0 col1\" >3</th>        <th class=\"col_heading level0 col2\" >4</th>        <th class=\"col_heading level0 col3\" >5</th>        <th class=\"col_heading level0 col4\" >6</th>        <th class=\"col_heading level0 col5\" >7</th>        <th class=\"col_heading level0 col6\" >8</th>        <th class=\"col_heading level0 col7\" >9</th>        <th class=\"col_heading level0 col8\" >10</th>        <th class=\"col_heading level0 col9\" >11</th>        <th class=\"col_heading level0 col10\" >12</th>        <th class=\"col_heading level0 col11\" >13</th>        <th class=\"col_heading level0 col12\" >14</th>        <th class=\"col_heading level0 col13\" >15</th>        <th class=\"col_heading level0 col14\" >16</th>        <th class=\"col_heading level0 col15\" >17</th>        <th class=\"col_heading level0 col16\" >18</th>        <th class=\"col_heading level0 col17\" >19</th>    </tr></thead><tbody>\n",
       "                <tr>\n",
       "                        <th id=\"T_fb7232f0_d439_11eb_8fdd_02420a390efflevel0_row0\" class=\"row_heading level0 row0\" >f1_score</th>\n",
       "                        <td id=\"T_fb7232f0_d439_11eb_8fdd_02420a390effrow0_col0\" class=\"data row0 col0\" >0.573</td>\n",
       "                        <td id=\"T_fb7232f0_d439_11eb_8fdd_02420a390effrow0_col1\" class=\"data row0 col1\" >0.577</td>\n",
       "                        <td id=\"T_fb7232f0_d439_11eb_8fdd_02420a390effrow0_col2\" class=\"data row0 col2\" >0.589</td>\n",
       "                        <td id=\"T_fb7232f0_d439_11eb_8fdd_02420a390effrow0_col3\" class=\"data row0 col3\" >0.584</td>\n",
       "                        <td id=\"T_fb7232f0_d439_11eb_8fdd_02420a390effrow0_col4\" class=\"data row0 col4\" >0.601</td>\n",
       "                        <td id=\"T_fb7232f0_d439_11eb_8fdd_02420a390effrow0_col5\" class=\"data row0 col5\" >0.61</td>\n",
       "                        <td id=\"T_fb7232f0_d439_11eb_8fdd_02420a390effrow0_col6\" class=\"data row0 col6\" >0.612</td>\n",
       "                        <td id=\"T_fb7232f0_d439_11eb_8fdd_02420a390effrow0_col7\" class=\"data row0 col7\" >0.616</td>\n",
       "                        <td id=\"T_fb7232f0_d439_11eb_8fdd_02420a390effrow0_col8\" class=\"data row0 col8\" >0.614</td>\n",
       "                        <td id=\"T_fb7232f0_d439_11eb_8fdd_02420a390effrow0_col9\" class=\"data row0 col9\" >0.626</td>\n",
       "                        <td id=\"T_fb7232f0_d439_11eb_8fdd_02420a390effrow0_col10\" class=\"data row0 col10\" >0.629</td>\n",
       "                        <td id=\"T_fb7232f0_d439_11eb_8fdd_02420a390effrow0_col11\" class=\"data row0 col11\" >0.634</td>\n",
       "                        <td id=\"T_fb7232f0_d439_11eb_8fdd_02420a390effrow0_col12\" class=\"data row0 col12\" >0.633</td>\n",
       "                        <td id=\"T_fb7232f0_d439_11eb_8fdd_02420a390effrow0_col13\" class=\"data row0 col13\" >0.617</td>\n",
       "                        <td id=\"T_fb7232f0_d439_11eb_8fdd_02420a390effrow0_col14\" class=\"data row0 col14\" >0.634</td>\n",
       "                        <td id=\"T_fb7232f0_d439_11eb_8fdd_02420a390effrow0_col15\" class=\"data row0 col15\" >0.63</td>\n",
       "                        <td id=\"T_fb7232f0_d439_11eb_8fdd_02420a390effrow0_col16\" class=\"data row0 col16\" >0.628</td>\n",
       "                        <td id=\"T_fb7232f0_d439_11eb_8fdd_02420a390effrow0_col17\" class=\"data row0 col17\" >0.628</td>\n",
       "            </tr>\n",
       "    </tbody></table>"
      ],
      "text/plain": [
       "<pandas.io.formats.style.Styler at 0x7f3c6d1fce50>"
      ]
     },
     "execution_count": 28,
     "metadata": {},
     "output_type": "execute_result"
    }
   ],
   "source": [
    "#find out f1 scores for different depth of trees using optimal n_estimator values from previous step\n",
    "depth=[]\n",
    "f1=[]\n",
    "for i in range(2, 20):\n",
    "    rf_model=RandomForestClassifier(max_depth=i, n_estimators=120,  random_state=234)\n",
    "    rf_model.fit(features_ord_train_ups, target_ord_train_ups)\n",
    "    predicted=rf_model.predict(features_ord_valid)\n",
    "    f1.append(f1_score(target_ord_valid, predicted))\n",
    "    depth.append(i)\n",
    "\n",
    "#visualize the result \n",
    "pd.DataFrame([f1], index=['f1_score'], columns=depth).round(3).style.background_gradient(axis=1)"
   ]
  },
  {
   "cell_type": "markdown",
   "metadata": {},
   "source": [
    "#### LogisticRefgression with upsampling"
   ]
  },
  {
   "cell_type": "code",
   "execution_count": 29,
   "metadata": {},
   "outputs": [
    {
     "name": "stdout",
     "output_type": "stream",
     "text": [
      "F1 socre of the logsitic regression model is 0.48\n"
     ]
    }
   ],
   "source": [
    "#LogisticRegerssion model and its F1 score\n",
    "lg_model=LogisticRegression(random_state=234, solver='liblinear')\n",
    "lg_model.fit(features_ohe_train_ups, target_ohe_train_ups)\n",
    "predicted=lg_model.predict(features_ohe_valid)\n",
    "print('F1 socre of the logsitic regression model is', round(f1_score(target_ohe_valid, predicted), 3))"
   ]
  },
  {
   "cell_type": "markdown",
   "metadata": {},
   "source": [
    "### Conclusion\n",
    "Data has been balanced using two different approaches: i) Class_weigth adjustment; ii) Upsampling. Following F1 score values has been obtained:\n",
    "\n",
    "|Approach|DecisionTree|RandomForest|LogisticRegression|\n",
    "|--------|------------|------------|------------------|\n",
    "|Class_weight|0.586|0.632|0.481|\n",
    "|Upsampling|0.586|0.634|0.480|\n",
    "\n",
    "**The highest F1 score of 0.634 has been obtained with RandomForest model** with upsampling approach (forest size=120, tree depth=13)"
   ]
  },
  {
   "cell_type": "markdown",
   "metadata": {},
   "source": [
    "## Final testing\n",
    "RandomForestClassifier performed significantly better than DecisionTree and LogisticRegression models. In this section, we will train a RandomForestClassifier, balance classes using Upsampling approach and test its performance with our testing data set. \n",
    "\n",
    "More the data, the higher the accuracy of the model. Therefore, here we decided to combine our previous training and validation datasets to make more data for training our model."
   ]
  },
  {
   "cell_type": "code",
   "execution_count": 30,
   "metadata": {},
   "outputs": [
    {
     "name": "stdout",
     "output_type": "stream",
     "text": [
      "F1 score of the final model with testing dataset is 0.604\n",
      "The final model has an accuracy of 0.8315\n"
     ]
    }
   ],
   "source": [
    "#add up previous training and validation datasets\n",
    "features_more=pd.concat([features_ord_train, features_ord_valid])\n",
    "target_more=pd.concat([target_ord_train, target_ord_valid])\n",
    "\n",
    "#use the upsampling function from the previous section to increase the number of positive observations in training datasets\n",
    "features_more_ups, target_more_ups = upsample(features_more, target_more, 4)\n",
    "\n",
    "\n",
    "#create a model, choose hyperparameters based on the previous section\n",
    "final_model=RandomForestClassifier(n_estimators=120, max_depth=13, random_state=234)\n",
    "\n",
    "#train the model\n",
    "final_model.fit(features_more_ups, target_more_ups)\n",
    "\n",
    "#predict answers for testing dataset\n",
    "predicted_test=final_model.predict(features_ord_test)\n",
    "\n",
    "#print the F1 score\n",
    "print('F1 score of the final model with testing dataset is', round(f1_score(target_ord_test, predicted_test), 3))\n",
    "print('The final model has an accuracy of', final_model.score(features_ord_test, target_ord_test))"
   ]
  },
  {
   "cell_type": "code",
   "execution_count": 31,
   "metadata": {},
   "outputs": [
    {
     "data": {
      "image/png": "[encoded data removed]",
      "text/plain": [
       "<Figure size 864x576 with 1 Axes>"
      ]
     },
     "metadata": {
      "needs_background": "light"
     },
     "output_type": "display_data"
    },
    {
     "name": "stdout",
     "output_type": "stream",
     "text": [
      "AUC-ROC score of the final model with testing dataset is 0.848\n"
     ]
    }
   ],
   "source": [
    "# create a random model \n",
    "prob_test=final_model.predict_proba(features_ord_test)    #Find class probability\n",
    "prob_test_ones=prob_test[:, 1] #select probability of \n",
    "\n",
    "#find false positive and true positive rates\n",
    "fpr, tpr, thresholds = roc_curve(target_ord_test, prob_test_ones)\n",
    "\n",
    "#visualize FPR vs TPR values of the RandomForestModel and random model\n",
    "plt.figure(figsize=(12,8))\n",
    "plt.plot(fpr, tpr, label='Our model')\n",
    "plt.plot([0, 1], [0, 1], linestyle='--', label='Random model')\n",
    "plt.ylim([0.0, 1.0])\n",
    "plt.xlim([0.0, 1.0])\n",
    "plt.xlabel('False Positive Rate')\n",
    "plt.ylabel('True Positive Rate')\n",
    "plt.legend()\n",
    "plt.title('ROC curve')\n",
    "plt.show()\n",
    "\n",
    "\n",
    "#print our area under curve values\n",
    "print('AUC-ROC score of the final model with testing dataset is', round(roc_auc_score(target_ord_test, prob_test_ones), 3))"
   ]
  },
  {
   "cell_type": "code",
   "execution_count": 32,
   "metadata": {},
   "outputs": [
    {
     "data": {
      "image/png": "[encoded data removed]",
      "text/plain": [
       "<Figure size 864x576 with 1 Axes>"
      ]
     },
     "metadata": {
      "needs_background": "light"
     },
     "output_type": "display_data"
    }
   ],
   "source": [
    "#plot a curve showing the relative importance of each feature on the model\n",
    "features=features_ord_train.columns.tolist()\n",
    "importances=final_model.feature_importances_\n",
    "indices = np.argsort(importances)\n",
    "\n",
    "plt.figure(figsize=(12,8))\n",
    "plt.title('Feature Importances')\n",
    "plt.barh(range(len(indices)), importances[indices], color='navy', align='center')\n",
    "plt.yticks(range(len(indices)), [features[i] for i in indices])\n",
    "plt.xlabel('Relative Importance')\n",
    "plt.show()"
   ]
  },
  {
   "cell_type": "markdown",
   "metadata": {},
   "source": [
    "### Conclusion\n",
    "The final model has an **F1 score of 0.604** with the testing dataset. And its **AUC-ROC values is 0.848**, which is close to 1 (perfect model).\n",
    "\n",
    "In a summary, we can say that the built model can predict customers who will leave the bank with an **accuracy of 83.15%**. Age of customers was the most influencing factor on leaving the bank."
   ]
  },
  {
   "cell_type": "markdown",
   "metadata": {},
   "source": [
    "## Summary\n",
    "\n",
    "- The data, containing 10000 rows and 14 columns, has been utilized to build a model that predicts whether the customer likely to leave the bank.\n",
    "- There was 9% missing values in the `Tenure` column. The most probable reason for the missing values might be that these customers never reached maturation or due to technical reasons the values were not inputted. To prevent loss of data, missing values filled using the 'forward fill' method, where missing values were filled with the last observed value. \n",
    "\n",
    "- `RowNumber, CustomerId, Surname` columns have been dropped out because they would not add any values for building a model. \n",
    "\n",
    "\n",
    "- The whole dataset has been splitted into training, validation and testing datasets with 0.6:0.2:0.2 ratios and columns containing numerical values have been scaled.\n",
    "\n",
    "\n",
    "- The provided data was not balanced, where the percentage of customers who left the bank was around 20%. Three different models have been tested using the raw or imbalanced data, hyperparameters were tuned where applicable. Optimal F1 scores have been obtained as follow for each model:\n",
    "    - **DecisionTree => 0.565** with tree depth of 7;\n",
    "    - **RandomForest => 0.606** with forest size of 70 and tree depth of 15;\n",
    "    - **LogisticRegression => 0.340**. \n",
    "\n",
    "\n",
    "- Data has been balanced using two different approaches: i) Class_weigth adjustment; ii) Upsampling. Following F1 score values has been obtained:\n",
    "\n",
    "|Approach|DecisionTree|RandomForest|LogisticRegression|\n",
    "|--------|------------|------------|------------------|\n",
    "|Class_weight|0.586|0.632|0.481|\n",
    "|Upsampling|0.586|0.634|0.480|\n",
    "\n",
    "- **The highest F1 score of 0.634 has been obtained with RandomForest model** with upsampling approach (forest size=120, tree depth=13)\n",
    "\n",
    "\n",
    "\n",
    "\n",
    "- The final model has an **F1 score of 0.604** with the testing dataset. And its **AUC-ROC values is 0.848**, which is close to 1 (perfect model).\n",
    "\n",
    "- In a summary, we can say that the built model can predict customers who will leave the bank with an **F1 score of 0.604**. Age of customers was the most influencing factor on leaving the bank."
   ]
  }
 ],
 "metadata": {
  "ExecuteTimeLog": [
   {
    "duration": 714,
    "start_time": "2021-06-22T14:50:10.526Z"
   },
   {
    "duration": 61,
    "start_time": "2021-06-22T14:51:04.350Z"
   },
   {
    "duration": 5,
    "start_time": "2021-06-22T14:52:28.895Z"
   },
   {
    "duration": 11,
    "start_time": "2021-06-22T14:52:32.335Z"
   },
   {
    "duration": 10,
    "start_time": "2021-06-22T14:53:09.057Z"
   },
   {
    "duration": 13,
    "start_time": "2021-06-22T14:55:21.104Z"
   },
   {
    "duration": 78,
    "start_time": "2021-06-22T14:55:33.265Z"
   },
   {
    "duration": 10,
    "start_time": "2021-06-22T14:55:45.400Z"
   },
   {
    "duration": 5,
    "start_time": "2021-06-22T14:56:48.673Z"
   },
   {
    "duration": 630,
    "start_time": "2021-06-22T14:56:59.008Z"
   },
   {
    "duration": 5,
    "start_time": "2021-06-22T14:57:08.401Z"
   },
   {
    "duration": 503,
    "start_time": "2021-06-22T14:57:09.385Z"
   },
   {
    "duration": 11,
    "start_time": "2021-06-22T14:57:32.917Z"
   },
   {
    "duration": 9,
    "start_time": "2021-06-22T14:57:41.073Z"
   },
   {
    "duration": 5,
    "start_time": "2021-06-22T14:58:06.305Z"
   },
   {
    "duration": 6,
    "start_time": "2021-06-22T14:58:21.585Z"
   },
   {
    "duration": 4,
    "start_time": "2021-06-22T14:58:26.826Z"
   },
   {
    "duration": 581,
    "start_time": "2021-06-22T14:58:28.019Z"
   },
   {
    "duration": 5,
    "start_time": "2021-06-22T15:00:15.834Z"
   },
   {
    "duration": 10,
    "start_time": "2021-06-22T15:00:16.739Z"
   },
   {
    "duration": 5,
    "start_time": "2021-06-22T15:00:29.314Z"
   },
   {
    "duration": 17,
    "start_time": "2021-06-22T15:00:29.690Z"
   },
   {
    "duration": 4,
    "start_time": "2021-06-22T15:01:09.850Z"
   },
   {
    "duration": 26,
    "start_time": "2021-06-22T15:01:10.939Z"
   },
   {
    "duration": 4,
    "start_time": "2021-06-22T15:01:48.842Z"
   },
   {
    "duration": 26,
    "start_time": "2021-06-22T15:01:49.921Z"
   },
   {
    "duration": 5,
    "start_time": "2021-06-22T15:02:06.865Z"
   },
   {
    "duration": 27,
    "start_time": "2021-06-22T15:02:07.625Z"
   },
   {
    "duration": 5,
    "start_time": "2021-06-22T15:02:34.497Z"
   },
   {
    "duration": 27,
    "start_time": "2021-06-22T15:02:35.240Z"
   },
   {
    "duration": 5,
    "start_time": "2021-06-22T15:02:56.080Z"
   },
   {
    "duration": 1048,
    "start_time": "2021-06-22T15:02:57.353Z"
   },
   {
    "duration": 6,
    "start_time": "2021-06-22T15:03:14.936Z"
   },
   {
    "duration": 56,
    "start_time": "2021-06-22T15:03:15.489Z"
   },
   {
    "duration": 5,
    "start_time": "2021-06-22T15:03:30.337Z"
   },
   {
    "duration": 42,
    "start_time": "2021-06-22T15:03:31.407Z"
   },
   {
    "duration": 5,
    "start_time": "2021-06-22T15:03:42.920Z"
   },
   {
    "duration": 38,
    "start_time": "2021-06-22T15:03:43.072Z"
   },
   {
    "duration": 6,
    "start_time": "2021-06-22T15:03:52.519Z"
   },
   {
    "duration": 41,
    "start_time": "2021-06-22T15:03:53.002Z"
   },
   {
    "duration": 5,
    "start_time": "2021-06-22T15:04:02.808Z"
   },
   {
    "duration": 40,
    "start_time": "2021-06-22T15:04:03.272Z"
   },
   {
    "duration": 520,
    "start_time": "2021-06-23T08:07:52.940Z"
   },
   {
    "duration": 47,
    "start_time": "2021-06-23T08:07:54.019Z"
   },
   {
    "duration": 4,
    "start_time": "2021-06-23T08:07:54.731Z"
   },
   {
    "duration": 9,
    "start_time": "2021-06-23T08:07:55.563Z"
   },
   {
    "duration": 6,
    "start_time": "2021-06-23T08:07:56.386Z"
   },
   {
    "duration": 3,
    "start_time": "2021-06-23T08:07:56.979Z"
   },
   {
    "duration": 4,
    "start_time": "2021-06-23T08:07:57.602Z"
   },
   {
    "duration": 343,
    "start_time": "2021-06-23T08:07:58.459Z"
   },
   {
    "duration": 4,
    "start_time": "2021-06-23T08:09:15.070Z"
   },
   {
    "duration": 25,
    "start_time": "2021-06-23T08:09:15.355Z"
   },
   {
    "duration": 3,
    "start_time": "2021-06-23T08:09:24.181Z"
   },
   {
    "duration": 25,
    "start_time": "2021-06-23T08:09:24.429Z"
   },
   {
    "duration": 4,
    "start_time": "2021-06-23T08:09:42.266Z"
   },
   {
    "duration": 25,
    "start_time": "2021-06-23T08:09:42.987Z"
   },
   {
    "duration": 56,
    "start_time": "2021-06-23T08:09:54.218Z"
   },
   {
    "duration": 4,
    "start_time": "2021-06-23T08:09:59.363Z"
   },
   {
    "duration": 26,
    "start_time": "2021-06-23T08:09:59.883Z"
   },
   {
    "duration": 3,
    "start_time": "2021-06-23T08:10:18.715Z"
   },
   {
    "duration": 29,
    "start_time": "2021-06-23T08:10:18.979Z"
   },
   {
    "duration": 3,
    "start_time": "2021-06-23T08:10:32.443Z"
   },
   {
    "duration": 23,
    "start_time": "2021-06-23T08:10:32.834Z"
   },
   {
    "duration": 5,
    "start_time": "2021-06-23T08:12:50.579Z"
   },
   {
    "duration": 3,
    "start_time": "2021-06-23T08:13:58.243Z"
   },
   {
    "duration": 5,
    "start_time": "2021-06-23T08:14:02.939Z"
   },
   {
    "duration": 265,
    "start_time": "2021-06-23T08:14:31.771Z"
   },
   {
    "duration": 200,
    "start_time": "2021-06-23T08:14:38.755Z"
   },
   {
    "duration": 6,
    "start_time": "2021-06-23T08:14:47.962Z"
   },
   {
    "duration": 8,
    "start_time": "2021-06-23T08:17:31.196Z"
   },
   {
    "duration": 9,
    "start_time": "2021-06-23T08:17:45.867Z"
   },
   {
    "duration": 3,
    "start_time": "2021-06-23T08:17:55.477Z"
   },
   {
    "duration": 13,
    "start_time": "2021-06-23T08:18:16.492Z"
   },
   {
    "duration": 12,
    "start_time": "2021-06-23T08:18:23.715Z"
   },
   {
    "duration": 176,
    "start_time": "2021-06-23T08:19:21.501Z"
   },
   {
    "duration": 12,
    "start_time": "2021-06-23T08:19:29.660Z"
   },
   {
    "duration": 14,
    "start_time": "2021-06-23T08:20:35.155Z"
   },
   {
    "duration": 33,
    "start_time": "2021-06-23T08:21:15.341Z"
   },
   {
    "duration": 33,
    "start_time": "2021-06-23T08:21:35.068Z"
   },
   {
    "duration": 34,
    "start_time": "2021-06-23T08:22:39.228Z"
   },
   {
    "duration": 58,
    "start_time": "2021-06-23T08:22:49.284Z"
   },
   {
    "duration": 34,
    "start_time": "2021-06-23T08:22:52.035Z"
   },
   {
    "duration": 34,
    "start_time": "2021-06-23T08:23:00.187Z"
   },
   {
    "duration": 5,
    "start_time": "2021-06-23T08:24:40.531Z"
   },
   {
    "duration": 6,
    "start_time": "2021-06-23T08:24:53.564Z"
   },
   {
    "duration": 4,
    "start_time": "2021-06-23T08:25:37.116Z"
   },
   {
    "duration": 6,
    "start_time": "2021-06-23T08:26:50.308Z"
   },
   {
    "duration": 19,
    "start_time": "2021-06-23T08:27:02.988Z"
   },
   {
    "duration": 5,
    "start_time": "2021-06-23T08:27:21.389Z"
   },
   {
    "duration": 19,
    "start_time": "2021-06-23T08:27:30.356Z"
   },
   {
    "duration": 4,
    "start_time": "2021-06-23T08:31:50.990Z"
   },
   {
    "duration": 6,
    "start_time": "2021-06-23T08:32:01.661Z"
   },
   {
    "duration": 34,
    "start_time": "2021-06-23T08:32:20.469Z"
   },
   {
    "duration": 26,
    "start_time": "2021-06-23T08:37:05.580Z"
   },
   {
    "duration": 12,
    "start_time": "2021-06-23T08:37:16.701Z"
   },
   {
    "duration": 14,
    "start_time": "2021-06-23T08:38:07.492Z"
   },
   {
    "duration": 13,
    "start_time": "2021-06-23T08:38:08.549Z"
   },
   {
    "duration": 4,
    "start_time": "2021-06-23T08:38:37.494Z"
   },
   {
    "duration": 6,
    "start_time": "2021-06-23T08:38:54.332Z"
   },
   {
    "duration": 435,
    "start_time": "2021-06-23T08:41:16.037Z"
   },
   {
    "duration": 3,
    "start_time": "2021-06-23T08:43:42.632Z"
   },
   {
    "duration": 38,
    "start_time": "2021-06-23T08:43:42.949Z"
   },
   {
    "duration": 3,
    "start_time": "2021-06-23T08:43:43.765Z"
   },
   {
    "duration": 3,
    "start_time": "2021-06-23T08:43:44.733Z"
   },
   {
    "duration": 23,
    "start_time": "2021-06-23T08:43:45.646Z"
   },
   {
    "duration": 5,
    "start_time": "2021-06-23T08:43:46.989Z"
   },
   {
    "duration": 5,
    "start_time": "2021-06-23T08:43:48.084Z"
   },
   {
    "duration": 11,
    "start_time": "2021-06-23T08:43:51.220Z"
   },
   {
    "duration": 12,
    "start_time": "2021-06-23T08:43:53.422Z"
   },
   {
    "duration": 5,
    "start_time": "2021-06-23T08:43:54.508Z"
   },
   {
    "duration": 31,
    "start_time": "2021-06-23T08:43:58.429Z"
   },
   {
    "duration": 14437,
    "start_time": "2021-06-23T08:44:04.182Z"
   },
   {
    "duration": 4,
    "start_time": "2021-06-23T08:45:15.294Z"
   },
   {
    "duration": 14603,
    "start_time": "2021-06-23T08:45:44.789Z"
   },
   {
    "duration": 15180,
    "start_time": "2021-06-23T08:47:30.526Z"
   },
   {
    "duration": 14544,
    "start_time": "2021-06-23T08:47:57.908Z"
   },
   {
    "duration": 6233,
    "start_time": "2021-06-23T08:48:48.486Z"
   },
   {
    "duration": 12,
    "start_time": "2021-06-23T08:49:27.925Z"
   },
   {
    "duration": 11,
    "start_time": "2021-06-23T08:49:28.310Z"
   },
   {
    "duration": 4,
    "start_time": "2021-06-23T08:49:29.766Z"
   },
   {
    "duration": 5,
    "start_time": "2021-06-23T08:49:30.245Z"
   },
   {
    "duration": 8,
    "start_time": "2021-06-23T08:52:31.246Z"
   },
   {
    "duration": 4,
    "start_time": "2021-06-23T09:15:40.338Z"
   },
   {
    "duration": 28,
    "start_time": "2021-06-23T09:16:04.927Z"
   },
   {
    "duration": 3,
    "start_time": "2021-06-23T09:16:33.585Z"
   },
   {
    "duration": 9,
    "start_time": "2021-06-23T09:16:35.679Z"
   },
   {
    "duration": 212,
    "start_time": "2021-06-23T09:16:46.448Z"
   },
   {
    "duration": 114,
    "start_time": "2021-06-23T09:17:08.127Z"
   },
   {
    "duration": 4,
    "start_time": "2021-06-23T09:17:23.183Z"
   },
   {
    "duration": 3,
    "start_time": "2021-06-23T09:17:39.191Z"
   },
   {
    "duration": 17,
    "start_time": "2021-06-23T09:17:40.080Z"
   },
   {
    "duration": 235,
    "start_time": "2021-06-23T09:18:16.215Z"
   },
   {
    "duration": 3,
    "start_time": "2021-06-23T09:19:50.000Z"
   },
   {
    "duration": 18,
    "start_time": "2021-06-23T09:19:50.648Z"
   },
   {
    "duration": 11,
    "start_time": "2021-06-23T09:19:56.807Z"
   },
   {
    "duration": 6,
    "start_time": "2021-06-23T09:20:33.751Z"
   },
   {
    "duration": 55,
    "start_time": "2021-06-23T09:21:34.655Z"
   },
   {
    "duration": 7,
    "start_time": "2021-06-23T09:22:17.559Z"
   },
   {
    "duration": 186,
    "start_time": "2021-06-23T09:22:31.544Z"
   },
   {
    "duration": 6,
    "start_time": "2021-06-23T09:22:35.615Z"
   },
   {
    "duration": 4,
    "start_time": "2021-06-23T09:22:56.087Z"
   },
   {
    "duration": 4,
    "start_time": "2021-06-23T09:23:09.247Z"
   },
   {
    "duration": 7,
    "start_time": "2021-06-23T09:24:02.007Z"
   },
   {
    "duration": 6,
    "start_time": "2021-06-23T09:24:05.175Z"
   },
   {
    "duration": 6,
    "start_time": "2021-06-23T09:24:14.559Z"
   },
   {
    "duration": 8,
    "start_time": "2021-06-23T09:24:23.263Z"
   },
   {
    "duration": 122,
    "start_time": "2021-06-23T09:26:00.626Z"
   },
   {
    "duration": 120,
    "start_time": "2021-06-23T09:26:07.111Z"
   },
   {
    "duration": 130,
    "start_time": "2021-06-23T09:26:23.663Z"
   },
   {
    "duration": 172,
    "start_time": "2021-06-23T09:26:28.254Z"
   },
   {
    "duration": 166,
    "start_time": "2021-06-23T09:26:36.111Z"
   },
   {
    "duration": 10,
    "start_time": "2021-06-23T09:40:09.649Z"
   },
   {
    "duration": 56,
    "start_time": "2021-06-23T09:40:16.873Z"
   },
   {
    "duration": 11,
    "start_time": "2021-06-23T09:40:21.264Z"
   },
   {
    "duration": 5,
    "start_time": "2021-06-23T09:43:02.490Z"
   },
   {
    "duration": 3,
    "start_time": "2021-06-23T09:45:45.217Z"
   },
   {
    "duration": 4,
    "start_time": "2021-06-23T09:46:47.864Z"
   },
   {
    "duration": 38,
    "start_time": "2021-06-23T09:46:48.296Z"
   },
   {
    "duration": 4,
    "start_time": "2021-06-23T09:46:49.440Z"
   },
   {
    "duration": 3,
    "start_time": "2021-06-23T09:46:53.024Z"
   },
   {
    "duration": 25,
    "start_time": "2021-06-23T09:46:53.528Z"
   },
   {
    "duration": 4,
    "start_time": "2021-06-23T09:46:54.328Z"
   },
   {
    "duration": 5,
    "start_time": "2021-06-23T09:47:08.513Z"
   },
   {
    "duration": 11,
    "start_time": "2021-06-23T09:47:12.440Z"
   },
   {
    "duration": 13,
    "start_time": "2021-06-23T09:47:13.864Z"
   },
   {
    "duration": 6,
    "start_time": "2021-06-23T09:47:17.479Z"
   },
   {
    "duration": 33,
    "start_time": "2021-06-23T09:47:25.041Z"
   },
   {
    "duration": 6217,
    "start_time": "2021-06-23T09:47:27.920Z"
   },
   {
    "duration": 16,
    "start_time": "2021-06-23T09:47:34.139Z"
   },
   {
    "duration": 35,
    "start_time": "2021-06-23T09:47:34.157Z"
   },
   {
    "duration": 4,
    "start_time": "2021-06-23T09:47:36.275Z"
   },
   {
    "duration": 24,
    "start_time": "2021-06-23T09:47:39.384Z"
   },
   {
    "duration": 36,
    "start_time": "2021-06-23T09:47:55.881Z"
   },
   {
    "duration": 5,
    "start_time": "2021-06-23T09:51:01.024Z"
   },
   {
    "duration": 367,
    "start_time": "2021-06-23T09:51:02.407Z"
   },
   {
    "duration": 188,
    "start_time": "2021-06-23T09:51:10.001Z"
   },
   {
    "duration": 12,
    "start_time": "2021-06-23T09:51:23.136Z"
   },
   {
    "duration": 8,
    "start_time": "2021-06-23T09:53:11.680Z"
   },
   {
    "duration": 7,
    "start_time": "2021-06-23T09:53:39.872Z"
   },
   {
    "duration": 172,
    "start_time": "2021-06-23T09:54:22.895Z"
   },
   {
    "duration": 11,
    "start_time": "2021-06-23T09:55:26.624Z"
   },
   {
    "duration": 3,
    "start_time": "2021-06-23T10:01:41.267Z"
   },
   {
    "duration": 13,
    "start_time": "2021-06-23T10:02:32.800Z"
   },
   {
    "duration": 196,
    "start_time": "2021-06-23T10:03:22.352Z"
   },
   {
    "duration": 6,
    "start_time": "2021-06-23T10:03:33.720Z"
   },
   {
    "duration": 187,
    "start_time": "2021-06-23T10:05:34.849Z"
   },
   {
    "duration": 215,
    "start_time": "2021-06-23T10:05:49.481Z"
   },
   {
    "duration": 19,
    "start_time": "2021-06-23T10:05:58.440Z"
   },
   {
    "duration": 291,
    "start_time": "2021-06-23T10:10:06.929Z"
   },
   {
    "duration": 177,
    "start_time": "2021-06-23T10:10:24.473Z"
   },
   {
    "duration": 6,
    "start_time": "2021-06-23T10:12:02.921Z"
   },
   {
    "duration": 8,
    "start_time": "2021-06-23T10:12:11.665Z"
   },
   {
    "duration": 9,
    "start_time": "2021-06-23T10:12:18.745Z"
   },
   {
    "duration": 7,
    "start_time": "2021-06-23T10:12:26.410Z"
   },
   {
    "duration": 9,
    "start_time": "2021-06-23T10:12:33.417Z"
   },
   {
    "duration": 11,
    "start_time": "2021-06-23T10:13:39.249Z"
   },
   {
    "duration": 12,
    "start_time": "2021-06-23T10:13:50.242Z"
   },
   {
    "duration": 11,
    "start_time": "2021-06-23T10:14:21.305Z"
   },
   {
    "duration": 12,
    "start_time": "2021-06-23T10:15:38.809Z"
   },
   {
    "duration": 57,
    "start_time": "2021-06-23T10:17:39.628Z"
   },
   {
    "duration": 34,
    "start_time": "2021-06-23T10:17:43.449Z"
   },
   {
    "duration": 59,
    "start_time": "2021-06-23T10:17:47.642Z"
   },
   {
    "duration": 142,
    "start_time": "2021-06-23T10:18:48.897Z"
   },
   {
    "duration": 151,
    "start_time": "2021-06-23T10:18:57.825Z"
   },
   {
    "duration": 155,
    "start_time": "2021-06-23T10:19:10.265Z"
   },
   {
    "duration": 183,
    "start_time": "2021-06-23T10:19:14.441Z"
   },
   {
    "duration": 152,
    "start_time": "2021-06-23T10:19:18.945Z"
   },
   {
    "duration": 162,
    "start_time": "2021-06-23T10:19:26.488Z"
   },
   {
    "duration": 161,
    "start_time": "2021-06-23T10:19:35.538Z"
   },
   {
    "duration": 159,
    "start_time": "2021-06-23T10:19:43.889Z"
   },
   {
    "duration": 23,
    "start_time": "2021-06-23T10:20:11.099Z"
   },
   {
    "duration": 160,
    "start_time": "2021-06-23T10:24:43.161Z"
   },
   {
    "duration": 176,
    "start_time": "2021-06-23T10:24:56.808Z"
   },
   {
    "duration": 154,
    "start_time": "2021-06-23T10:25:14.057Z"
   },
   {
    "duration": 151,
    "start_time": "2021-06-23T10:25:20.252Z"
   },
   {
    "duration": 143,
    "start_time": "2021-06-23T10:25:27.610Z"
   },
   {
    "duration": 154,
    "start_time": "2021-06-23T10:25:37.777Z"
   },
   {
    "duration": 4,
    "start_time": "2021-06-23T10:25:45.787Z"
   },
   {
    "duration": 13,
    "start_time": "2021-06-23T10:25:49.153Z"
   },
   {
    "duration": 4,
    "start_time": "2021-06-23T10:44:48.741Z"
   },
   {
    "duration": 420,
    "start_time": "2021-06-23T10:47:37.924Z"
   },
   {
    "duration": 405,
    "start_time": "2021-06-23T10:49:30.229Z"
   },
   {
    "duration": 395,
    "start_time": "2021-06-23T10:50:45.180Z"
   },
   {
    "duration": 2505,
    "start_time": "2021-06-23T10:51:52.188Z"
   },
   {
    "duration": 388,
    "start_time": "2021-06-23T10:52:05.523Z"
   },
   {
    "duration": 16,
    "start_time": "2021-06-23T10:52:06.590Z"
   },
   {
    "duration": 222,
    "start_time": "2021-06-23T10:53:25.982Z"
   },
   {
    "duration": 183,
    "start_time": "2021-06-23T10:53:50.013Z"
   },
   {
    "duration": 193,
    "start_time": "2021-06-23T10:54:23.436Z"
   },
   {
    "duration": 16,
    "start_time": "2021-06-23T10:54:41.644Z"
   },
   {
    "duration": 14,
    "start_time": "2021-06-23T10:54:53.197Z"
   },
   {
    "duration": 26,
    "start_time": "2021-06-23T10:55:15.359Z"
   },
   {
    "duration": 29,
    "start_time": "2021-06-23T10:55:32.317Z"
   },
   {
    "duration": 23,
    "start_time": "2021-06-23T10:55:37.192Z"
   },
   {
    "duration": 24,
    "start_time": "2021-06-23T10:55:50.005Z"
   },
   {
    "duration": 24,
    "start_time": "2021-06-23T10:55:55.822Z"
   },
   {
    "duration": 22,
    "start_time": "2021-06-23T10:56:03.302Z"
   },
   {
    "duration": 24,
    "start_time": "2021-06-23T10:57:06.821Z"
   },
   {
    "duration": 28,
    "start_time": "2021-06-23T10:57:22.006Z"
   },
   {
    "duration": 26,
    "start_time": "2021-06-23T10:57:31.029Z"
   },
   {
    "duration": 22,
    "start_time": "2021-06-23T10:58:02.741Z"
   },
   {
    "duration": 22,
    "start_time": "2021-06-23T10:58:09.309Z"
   },
   {
    "duration": 24,
    "start_time": "2021-06-23T10:58:14.479Z"
   },
   {
    "duration": 24,
    "start_time": "2021-06-23T10:58:28.013Z"
   },
   {
    "duration": 24,
    "start_time": "2021-06-23T10:58:35.245Z"
   },
   {
    "duration": 419,
    "start_time": "2021-06-23T11:05:22.048Z"
   },
   {
    "duration": 241,
    "start_time": "2021-06-23T11:05:46.413Z"
   },
   {
    "duration": 2232,
    "start_time": "2021-06-23T11:05:56.741Z"
   },
   {
    "duration": 2228,
    "start_time": "2021-06-23T11:07:01.511Z"
   },
   {
    "duration": 5040,
    "start_time": "2021-06-23T11:07:16.589Z"
   },
   {
    "duration": 6986,
    "start_time": "2021-06-23T11:11:34.903Z"
   },
   {
    "duration": 7030,
    "start_time": "2021-06-23T11:11:55.149Z"
   },
   {
    "duration": 7010,
    "start_time": "2021-06-23T11:13:04.533Z"
   },
   {
    "duration": 7444,
    "start_time": "2021-06-23T11:13:21.742Z"
   },
   {
    "duration": 37804,
    "start_time": "2021-06-23T11:15:46.359Z"
   },
   {
    "duration": 37480,
    "start_time": "2021-06-23T11:18:33.262Z"
   },
   {
    "duration": 7209,
    "start_time": "2021-06-23T11:23:48.719Z"
   },
   {
    "duration": 7172,
    "start_time": "2021-06-23T11:24:01.824Z"
   },
   {
    "duration": 6535,
    "start_time": "2021-06-23T11:25:49.879Z"
   },
   {
    "duration": 6412,
    "start_time": "2021-06-23T11:26:00.880Z"
   },
   {
    "duration": 381,
    "start_time": "2021-06-23T11:26:29.048Z"
   },
   {
    "duration": 12,
    "start_time": "2021-06-23T11:28:31.966Z"
   },
   {
    "duration": 23,
    "start_time": "2021-06-23T11:28:59.791Z"
   },
   {
    "duration": 313,
    "start_time": "2021-06-23T11:30:50.447Z"
   },
   {
    "duration": 22,
    "start_time": "2021-06-23T11:30:57.944Z"
   },
   {
    "duration": 19,
    "start_time": "2021-06-23T11:31:56.527Z"
   },
   {
    "duration": 20,
    "start_time": "2021-06-23T11:32:12.958Z"
   },
   {
    "duration": 24,
    "start_time": "2021-06-23T11:34:38.574Z"
   },
   {
    "duration": 216,
    "start_time": "2021-06-23T11:45:07.412Z"
   },
   {
    "duration": 197,
    "start_time": "2021-06-23T11:45:34.608Z"
   },
   {
    "duration": 69,
    "start_time": "2021-06-23T11:45:57.832Z"
   },
   {
    "duration": 179,
    "start_time": "2021-06-23T11:46:03.143Z"
   },
   {
    "duration": 4,
    "start_time": "2021-06-23T11:46:16.272Z"
   },
   {
    "duration": 27,
    "start_time": "2021-06-23T11:46:16.975Z"
   },
   {
    "duration": 178,
    "start_time": "2021-06-23T11:46:44.003Z"
   },
   {
    "duration": -37,
    "start_time": "2021-06-23T11:46:44.220Z"
   },
   {
    "duration": -40,
    "start_time": "2021-06-23T11:46:44.225Z"
   },
   {
    "duration": -77,
    "start_time": "2021-06-23T11:46:44.262Z"
   },
   {
    "duration": -90,
    "start_time": "2021-06-23T11:46:44.276Z"
   },
   {
    "duration": -92,
    "start_time": "2021-06-23T11:46:44.279Z"
   },
   {
    "duration": -94,
    "start_time": "2021-06-23T11:46:44.282Z"
   },
   {
    "duration": -98,
    "start_time": "2021-06-23T11:46:44.288Z"
   },
   {
    "duration": -102,
    "start_time": "2021-06-23T11:46:44.293Z"
   },
   {
    "duration": -104,
    "start_time": "2021-06-23T11:46:44.296Z"
   },
   {
    "duration": -106,
    "start_time": "2021-06-23T11:46:44.299Z"
   },
   {
    "duration": -111,
    "start_time": "2021-06-23T11:46:44.305Z"
   },
   {
    "duration": -114,
    "start_time": "2021-06-23T11:46:44.308Z"
   },
   {
    "duration": -116,
    "start_time": "2021-06-23T11:46:44.311Z"
   },
   {
    "duration": -119,
    "start_time": "2021-06-23T11:46:44.315Z"
   },
   {
    "duration": -123,
    "start_time": "2021-06-23T11:46:44.320Z"
   },
   {
    "duration": 3,
    "start_time": "2021-06-23T11:47:25.511Z"
   },
   {
    "duration": 38,
    "start_time": "2021-06-23T11:47:26.470Z"
   },
   {
    "duration": 4,
    "start_time": "2021-06-23T11:47:27.415Z"
   },
   {
    "duration": 4,
    "start_time": "2021-06-23T11:47:27.798Z"
   },
   {
    "duration": 24,
    "start_time": "2021-06-23T11:47:28.192Z"
   },
   {
    "duration": 5,
    "start_time": "2021-06-23T11:47:28.503Z"
   },
   {
    "duration": 6,
    "start_time": "2021-06-23T11:47:28.710Z"
   },
   {
    "duration": 12,
    "start_time": "2021-06-23T11:47:29.038Z"
   },
   {
    "duration": 12,
    "start_time": "2021-06-23T11:47:29.415Z"
   },
   {
    "duration": 5,
    "start_time": "2021-06-23T11:47:29.983Z"
   },
   {
    "duration": 31,
    "start_time": "2021-06-23T11:47:30.295Z"
   },
   {
    "duration": 5679,
    "start_time": "2021-06-23T11:47:30.687Z"
   },
   {
    "duration": 21,
    "start_time": "2021-06-23T11:47:36.368Z"
   },
   {
    "duration": 12,
    "start_time": "2021-06-23T11:47:39.549Z"
   },
   {
    "duration": 4,
    "start_time": "2021-06-23T11:47:40.423Z"
   },
   {
    "duration": 35,
    "start_time": "2021-06-23T11:47:41.727Z"
   },
   {
    "duration": 148,
    "start_time": "2021-06-23T11:47:47.047Z"
   },
   {
    "duration": 4,
    "start_time": "2021-06-23T11:47:50.935Z"
   },
   {
    "duration": 30,
    "start_time": "2021-06-23T11:48:02.416Z"
   },
   {
    "duration": 17,
    "start_time": "2021-06-23T11:48:17.400Z"
   },
   {
    "duration": 7,
    "start_time": "2021-06-23T11:49:26.416Z"
   },
   {
    "duration": 28,
    "start_time": "2021-06-23T11:49:58.642Z"
   },
   {
    "duration": 28,
    "start_time": "2021-06-23T11:50:31.407Z"
   },
   {
    "duration": 4,
    "start_time": "2021-06-23T11:50:54.031Z"
   },
   {
    "duration": 25,
    "start_time": "2021-06-23T11:51:00.344Z"
   },
   {
    "duration": 27,
    "start_time": "2021-06-23T11:51:01.656Z"
   },
   {
    "duration": 409,
    "start_time": "2021-06-23T11:52:01.832Z"
   },
   {
    "duration": 6742,
    "start_time": "2021-06-23T11:52:48.024Z"
   },
   {
    "duration": 183,
    "start_time": "2021-06-23T11:53:28.176Z"
   },
   {
    "duration": 6330,
    "start_time": "2021-06-23T11:53:40.505Z"
   },
   {
    "duration": 407,
    "start_time": "2021-06-23T11:59:07.072Z"
   },
   {
    "duration": 6484,
    "start_time": "2021-06-23T11:59:35.705Z"
   },
   {
    "duration": 6296,
    "start_time": "2021-06-23T12:00:13.745Z"
   },
   {
    "duration": 1010,
    "start_time": "2021-06-23T12:00:34.626Z"
   },
   {
    "duration": 554,
    "start_time": "2021-06-23T12:01:33.705Z"
   },
   {
    "duration": 549,
    "start_time": "2021-06-23T12:01:46.616Z"
   },
   {
    "duration": 10639,
    "start_time": "2021-06-23T12:02:13.832Z"
   },
   {
    "duration": 8994,
    "start_time": "2021-06-23T12:02:37.344Z"
   },
   {
    "duration": 10527,
    "start_time": "2021-06-23T12:03:08.552Z"
   },
   {
    "duration": 58,
    "start_time": "2021-06-23T12:13:37.827Z"
   },
   {
    "duration": 30,
    "start_time": "2021-06-23T12:14:33.769Z"
   },
   {
    "duration": 3,
    "start_time": "2021-06-23T12:20:05.542Z"
   },
   {
    "duration": 178,
    "start_time": "2021-06-23T12:27:38.522Z"
   },
   {
    "duration": 7,
    "start_time": "2021-06-23T12:27:42.530Z"
   },
   {
    "duration": 196,
    "start_time": "2021-06-23T12:27:59.283Z"
   },
   {
    "duration": 29,
    "start_time": "2021-06-23T12:28:12.729Z"
   },
   {
    "duration": 536,
    "start_time": "2021-06-23T12:28:48.418Z"
   },
   {
    "duration": 9638,
    "start_time": "2021-06-23T12:29:37.387Z"
   },
   {
    "duration": 14707,
    "start_time": "2021-06-23T12:30:00.714Z"
   },
   {
    "duration": 514,
    "start_time": "2021-06-23T12:31:01.251Z"
   },
   {
    "duration": 9481,
    "start_time": "2021-06-23T12:31:19.418Z"
   },
   {
    "duration": 14912,
    "start_time": "2021-06-23T12:31:30.499Z"
   },
   {
    "duration": 30,
    "start_time": "2021-06-23T12:32:20.794Z"
   },
   {
    "duration": 40,
    "start_time": "2021-06-23T12:33:16.044Z"
   },
   {
    "duration": 27,
    "start_time": "2021-06-23T12:33:38.402Z"
   },
   {
    "duration": 6577,
    "start_time": "2021-06-23T12:33:48.395Z"
   },
   {
    "duration": 202,
    "start_time": "2021-06-23T12:34:23.372Z"
   },
   {
    "duration": 26,
    "start_time": "2021-06-23T12:34:28.906Z"
   },
   {
    "duration": 206,
    "start_time": "2021-06-23T12:35:08.386Z"
   },
   {
    "duration": 20,
    "start_time": "2021-06-23T12:35:31.370Z"
   },
   {
    "duration": 500,
    "start_time": "2021-06-23T12:35:31.939Z"
   },
   {
    "duration": 32,
    "start_time": "2021-06-23T12:35:40.155Z"
   },
   {
    "duration": 4,
    "start_time": "2021-06-23T12:39:13.801Z"
   },
   {
    "duration": 6,
    "start_time": "2021-06-23T12:39:29.508Z"
   },
   {
    "duration": 5,
    "start_time": "2021-06-23T12:40:17.931Z"
   },
   {
    "duration": 13,
    "start_time": "2021-06-23T12:41:31.659Z"
   },
   {
    "duration": 1424,
    "start_time": "2021-06-23T12:43:47.763Z"
   },
   {
    "duration": 1318,
    "start_time": "2021-06-23T12:45:07.285Z"
   },
   {
    "duration": 1305,
    "start_time": "2021-06-23T12:46:13.202Z"
   },
   {
    "duration": 918,
    "start_time": "2021-06-23T12:46:28.020Z"
   },
   {
    "duration": 13,
    "start_time": "2021-06-23T12:47:58.395Z"
   },
   {
    "duration": 67,
    "start_time": "2021-06-23T12:48:45.939Z"
   },
   {
    "duration": 7,
    "start_time": "2021-06-23T12:48:49.418Z"
   },
   {
    "duration": 13,
    "start_time": "2021-06-23T12:49:20.589Z"
   },
   {
    "duration": 5,
    "start_time": "2021-06-23T12:49:27.451Z"
   },
   {
    "duration": 653,
    "start_time": "2021-06-23T12:49:34.315Z"
   },
   {
    "duration": 929,
    "start_time": "2021-06-23T12:49:47.075Z"
   },
   {
    "duration": 1166,
    "start_time": "2021-06-23T12:50:33.228Z"
   },
   {
    "duration": 43,
    "start_time": "2021-06-23T12:50:34.395Z"
   },
   {
    "duration": 5,
    "start_time": "2021-06-23T12:50:34.440Z"
   },
   {
    "duration": 7,
    "start_time": "2021-06-23T12:50:34.447Z"
   },
   {
    "duration": 298,
    "start_time": "2021-06-23T12:50:34.456Z"
   },
   {
    "duration": 5,
    "start_time": "2021-06-23T12:50:34.756Z"
   },
   {
    "duration": 22,
    "start_time": "2021-06-23T12:50:34.763Z"
   },
   {
    "duration": 13,
    "start_time": "2021-06-23T12:50:34.788Z"
   },
   {
    "duration": 13,
    "start_time": "2021-06-23T12:50:34.803Z"
   },
   {
    "duration": 7,
    "start_time": "2021-06-23T12:50:34.818Z"
   },
   {
    "duration": 66,
    "start_time": "2021-06-23T12:50:34.826Z"
   },
   {
    "duration": 6222,
    "start_time": "2021-06-23T12:50:34.894Z"
   },
   {
    "duration": 12,
    "start_time": "2021-06-23T12:50:41.118Z"
   },
   {
    "duration": 12,
    "start_time": "2021-06-23T12:50:41.132Z"
   },
   {
    "duration": 4,
    "start_time": "2021-06-23T12:50:41.145Z"
   },
   {
    "duration": 36,
    "start_time": "2021-06-23T12:50:41.185Z"
   },
   {
    "duration": 5,
    "start_time": "2021-06-23T12:50:41.223Z"
   },
   {
    "duration": 34,
    "start_time": "2021-06-23T12:50:41.230Z"
   },
   {
    "duration": 41,
    "start_time": "2021-06-23T12:50:41.265Z"
   },
   {
    "duration": 160,
    "start_time": "2021-06-23T12:50:41.308Z"
   },
   {
    "duration": 409,
    "start_time": "2021-06-23T12:50:41.469Z"
   },
   {
    "duration": 6690,
    "start_time": "2021-06-23T12:50:41.879Z"
   },
   {
    "duration": 6245,
    "start_time": "2021-06-23T12:50:48.572Z"
   },
   {
    "duration": 73,
    "start_time": "2021-06-23T12:50:54.819Z"
   },
   {
    "duration": 535,
    "start_time": "2021-06-23T12:50:54.894Z"
   },
   {
    "duration": 6524,
    "start_time": "2021-06-23T12:50:55.431Z"
   },
   {
    "duration": 10424,
    "start_time": "2021-06-23T12:51:01.956Z"
   },
   {
    "duration": 20,
    "start_time": "2021-06-23T12:51:12.382Z"
   },
   {
    "duration": 395,
    "start_time": "2021-06-23T12:51:12.404Z"
   },
   {
    "duration": -41,
    "start_time": "2021-06-23T12:51:12.842Z"
   },
   {
    "duration": -44,
    "start_time": "2021-06-23T12:51:12.846Z"
   },
   {
    "duration": -47,
    "start_time": "2021-06-23T12:51:12.850Z"
   },
   {
    "duration": -72,
    "start_time": "2021-06-23T12:51:12.876Z"
   },
   {
    "duration": -76,
    "start_time": "2021-06-23T12:51:12.880Z"
   },
   {
    "duration": -77,
    "start_time": "2021-06-23T12:51:12.883Z"
   },
   {
    "duration": -79,
    "start_time": "2021-06-23T12:51:12.886Z"
   },
   {
    "duration": -81,
    "start_time": "2021-06-23T12:51:12.890Z"
   },
   {
    "duration": -84,
    "start_time": "2021-06-23T12:51:12.894Z"
   },
   {
    "duration": -94,
    "start_time": "2021-06-23T12:51:12.905Z"
   },
   {
    "duration": -97,
    "start_time": "2021-06-23T12:51:12.909Z"
   },
   {
    "duration": 20,
    "start_time": "2021-06-23T12:51:30.899Z"
   },
   {
    "duration": 508,
    "start_time": "2021-06-23T12:51:32.354Z"
   },
   {
    "duration": 9234,
    "start_time": "2021-06-23T12:51:33.733Z"
   },
   {
    "duration": 14653,
    "start_time": "2021-06-23T12:51:47.738Z"
   },
   {
    "duration": 28,
    "start_time": "2021-06-23T12:52:04.530Z"
   },
   {
    "duration": 4,
    "start_time": "2021-06-23T12:52:08.961Z"
   },
   {
    "duration": 13,
    "start_time": "2021-06-23T12:52:10.019Z"
   },
   {
    "duration": 5,
    "start_time": "2021-06-23T12:52:11.850Z"
   },
   {
    "duration": 6,
    "start_time": "2021-06-23T12:52:15.314Z"
   },
   {
    "duration": 13,
    "start_time": "2021-06-23T12:52:16.267Z"
   },
   {
    "duration": 1088,
    "start_time": "2021-06-23T12:52:17.476Z"
   },
   {
    "duration": 949,
    "start_time": "2021-06-23T12:53:10.619Z"
   },
   {
    "duration": 4,
    "start_time": "2021-06-23T13:01:47.412Z"
   },
   {
    "duration": 38,
    "start_time": "2021-06-23T13:04:00.366Z"
   },
   {
    "duration": 35,
    "start_time": "2021-06-23T13:04:46.738Z"
   },
   {
    "duration": 38,
    "start_time": "2021-06-23T13:04:57.091Z"
   },
   {
    "duration": 4,
    "start_time": "2021-06-23T13:06:18.316Z"
   },
   {
    "duration": 318,
    "start_time": "2021-06-23T13:06:32.203Z"
   },
   {
    "duration": 165,
    "start_time": "2021-06-23T13:06:46.531Z"
   },
   {
    "duration": 183,
    "start_time": "2021-06-23T13:07:15.872Z"
   },
   {
    "duration": 172,
    "start_time": "2021-06-23T13:07:47.643Z"
   },
   {
    "duration": 189,
    "start_time": "2021-06-23T13:08:04.291Z"
   },
   {
    "duration": 264,
    "start_time": "2021-06-23T13:08:22.196Z"
   },
   {
    "duration": 4,
    "start_time": "2021-06-23T13:09:12.665Z"
   },
   {
    "duration": 5,
    "start_time": "2021-06-23T13:09:52.414Z"
   },
   {
    "duration": 286,
    "start_time": "2021-06-23T13:12:39.172Z"
   },
   {
    "duration": 290,
    "start_time": "2021-06-23T13:12:53.444Z"
   },
   {
    "duration": 14,
    "start_time": "2021-06-23T13:14:05.741Z"
   },
   {
    "duration": 971,
    "start_time": "2021-06-23T13:14:11.163Z"
   },
   {
    "duration": 929,
    "start_time": "2021-06-23T13:16:37.828Z"
   },
   {
    "duration": 287,
    "start_time": "2021-06-23T13:17:36.364Z"
   },
   {
    "duration": 6,
    "start_time": "2021-06-23T13:21:16.532Z"
   },
   {
    "duration": 31,
    "start_time": "2021-06-23T13:21:17.782Z"
   },
   {
    "duration": 1149,
    "start_time": "2021-06-23T13:25:53.070Z"
   },
   {
    "duration": 42,
    "start_time": "2021-06-23T13:25:55.981Z"
   },
   {
    "duration": 4,
    "start_time": "2021-06-23T13:25:58.812Z"
   },
   {
    "duration": 3,
    "start_time": "2021-06-23T13:27:11.877Z"
   },
   {
    "duration": 296,
    "start_time": "2021-06-23T13:27:19.020Z"
   },
   {
    "duration": 4716,
    "start_time": "2021-06-23T13:32:00.294Z"
   },
   {
    "duration": 5,
    "start_time": "2021-06-23T13:32:58.838Z"
   },
   {
    "duration": 5,
    "start_time": "2021-06-23T13:33:47.965Z"
   },
   {
    "duration": 6,
    "start_time": "2021-06-23T13:34:06.574Z"
   },
   {
    "duration": 15,
    "start_time": "2021-06-23T13:34:33.861Z"
   },
   {
    "duration": 6,
    "start_time": "2021-06-23T13:34:55.733Z"
   },
   {
    "duration": 4,
    "start_time": "2021-06-23T13:35:43.006Z"
   },
   {
    "duration": 12,
    "start_time": "2021-06-23T13:37:21.030Z"
   },
   {
    "duration": 34,
    "start_time": "2021-06-23T13:37:26.421Z"
   },
   {
    "duration": 65,
    "start_time": "2021-06-23T13:38:54.952Z"
   },
   {
    "duration": 33,
    "start_time": "2021-06-23T13:38:59.022Z"
   },
   {
    "duration": 180,
    "start_time": "2021-06-23T13:43:46.519Z"
   },
   {
    "duration": 18,
    "start_time": "2021-06-23T13:47:22.159Z"
   },
   {
    "duration": 14,
    "start_time": "2021-06-23T13:47:23.997Z"
   },
   {
    "duration": 22,
    "start_time": "2021-06-23T13:47:33.022Z"
   },
   {
    "duration": 33,
    "start_time": "2021-06-23T13:47:49.798Z"
   },
   {
    "duration": 181,
    "start_time": "2021-06-23T13:47:59.822Z"
   },
   {
    "duration": 5,
    "start_time": "2021-06-23T13:48:02.430Z"
   },
   {
    "duration": 34,
    "start_time": "2021-06-23T13:48:02.942Z"
   },
   {
    "duration": 33,
    "start_time": "2021-06-23T13:48:21.262Z"
   },
   {
    "duration": 6,
    "start_time": "2021-06-23T13:53:47.854Z"
   },
   {
    "duration": 3,
    "start_time": "2021-06-23T13:54:12.598Z"
   },
   {
    "duration": 22,
    "start_time": "2021-06-23T13:54:36.550Z"
   },
   {
    "duration": 5,
    "start_time": "2021-06-23T13:55:09.551Z"
   },
   {
    "duration": 9,
    "start_time": "2021-06-23T13:55:21.726Z"
   },
   {
    "duration": 198,
    "start_time": "2021-06-23T13:55:50.151Z"
   },
   {
    "duration": 33,
    "start_time": "2021-06-23T13:56:08.543Z"
   },
   {
    "duration": 5,
    "start_time": "2021-06-23T13:56:29.583Z"
   },
   {
    "duration": 20,
    "start_time": "2021-06-23T13:57:42.647Z"
   },
   {
    "duration": 34,
    "start_time": "2021-06-23T13:58:31.335Z"
   },
   {
    "duration": 6,
    "start_time": "2021-06-23T13:59:04.390Z"
   },
   {
    "duration": 33,
    "start_time": "2021-06-23T13:59:53.832Z"
   },
   {
    "duration": 41,
    "start_time": "2021-06-23T14:00:23.839Z"
   },
   {
    "duration": 148,
    "start_time": "2021-06-23T14:01:21.975Z"
   },
   {
    "duration": 393,
    "start_time": "2021-06-23T14:03:29.466Z"
   },
   {
    "duration": 6542,
    "start_time": "2021-06-23T14:04:45.287Z"
   },
   {
    "duration": 6133,
    "start_time": "2021-06-23T14:05:31.583Z"
   },
   {
    "duration": 86,
    "start_time": "2021-06-23T14:07:11.599Z"
   },
   {
    "duration": 6435,
    "start_time": "2021-06-23T14:26:21.769Z"
   },
   {
    "duration": 6326,
    "start_time": "2021-06-23T14:26:35.008Z"
   },
   {
    "duration": 52,
    "start_time": "2021-06-23T14:26:41.336Z"
   },
   {
    "duration": 24,
    "start_time": "2021-06-23T14:26:48.776Z"
   },
   {
    "duration": 497,
    "start_time": "2021-06-23T14:30:46.924Z"
   },
   {
    "duration": 6461,
    "start_time": "2021-06-23T14:34:24.956Z"
   },
   {
    "duration": 10495,
    "start_time": "2021-06-23T14:34:31.419Z"
   },
   {
    "duration": 28,
    "start_time": "2021-06-23T14:34:47.201Z"
   },
   {
    "duration": 20,
    "start_time": "2021-06-23T14:38:57.540Z"
   },
   {
    "duration": 544,
    "start_time": "2021-06-23T14:40:14.945Z"
   },
   {
    "duration": 32,
    "start_time": "2021-06-23T14:41:20.450Z"
   },
   {
    "duration": 9625,
    "start_time": "2021-06-23T14:41:24.921Z"
   },
   {
    "duration": 14951,
    "start_time": "2021-06-23T14:41:34.548Z"
   },
   {
    "duration": 13,
    "start_time": "2021-06-23T14:58:02.325Z"
   },
   {
    "duration": 1307,
    "start_time": "2021-06-23T15:01:28.142Z"
   },
   {
    "duration": 300,
    "start_time": "2021-06-23T15:07:19.995Z"
   },
   {
    "duration": 1358,
    "start_time": "2021-06-23T15:18:09.589Z"
   },
   {
    "duration": 1379,
    "start_time": "2021-06-23T15:18:35.811Z"
   },
   {
    "duration": 3,
    "start_time": "2021-06-23T15:26:54.933Z"
   },
   {
    "duration": 197,
    "start_time": "2021-06-23T15:27:44.182Z"
   },
   {
    "duration": 15,
    "start_time": "2021-06-23T15:27:54.883Z"
   },
   {
    "duration": 14,
    "start_time": "2021-06-23T15:28:07.364Z"
   },
   {
    "duration": 5019,
    "start_time": "2021-06-23T15:29:43.420Z"
   },
   {
    "duration": 1072,
    "start_time": "2021-06-23T15:30:22.212Z"
   },
   {
    "duration": 4,
    "start_time": "2021-06-23T15:30:44.973Z"
   },
   {
    "duration": 3,
    "start_time": "2021-06-23T15:31:47.196Z"
   },
   {
    "duration": 192,
    "start_time": "2021-06-23T15:31:55.292Z"
   },
   {
    "duration": 259,
    "start_time": "2021-06-23T15:32:52.709Z"
   },
   {
    "duration": 280,
    "start_time": "2021-06-23T15:33:29.413Z"
   },
   {
    "duration": 258,
    "start_time": "2021-06-23T15:35:47.669Z"
   },
   {
    "duration": 1115,
    "start_time": "2021-06-23T15:44:08.292Z"
   },
   {
    "duration": 41,
    "start_time": "2021-06-23T15:44:09.409Z"
   },
   {
    "duration": 3,
    "start_time": "2021-06-23T15:44:09.452Z"
   },
   {
    "duration": 7,
    "start_time": "2021-06-23T15:44:09.457Z"
   },
   {
    "duration": 299,
    "start_time": "2021-06-23T15:44:09.466Z"
   },
   {
    "duration": 6,
    "start_time": "2021-06-23T15:44:09.767Z"
   },
   {
    "duration": 20,
    "start_time": "2021-06-23T15:44:09.774Z"
   },
   {
    "duration": 12,
    "start_time": "2021-06-23T15:44:09.796Z"
   },
   {
    "duration": 37,
    "start_time": "2021-06-23T15:44:09.810Z"
   },
   {
    "duration": 5,
    "start_time": "2021-06-23T15:44:09.848Z"
   },
   {
    "duration": 39,
    "start_time": "2021-06-23T15:44:09.854Z"
   },
   {
    "duration": 33,
    "start_time": "2021-06-23T15:44:09.894Z"
   },
   {
    "duration": 5,
    "start_time": "2021-06-23T15:44:09.929Z"
   },
   {
    "duration": 54,
    "start_time": "2021-06-23T15:44:09.936Z"
   },
   {
    "duration": 35,
    "start_time": "2021-06-23T15:44:09.992Z"
   },
   {
    "duration": 167,
    "start_time": "2021-06-23T15:44:10.028Z"
   },
   {
    "duration": 405,
    "start_time": "2021-06-23T15:44:10.197Z"
   },
   {
    "duration": 6795,
    "start_time": "2021-06-23T15:44:10.604Z"
   },
   {
    "duration": 6343,
    "start_time": "2021-06-23T15:44:17.401Z"
   },
   {
    "duration": 142,
    "start_time": "2021-06-23T15:44:23.745Z"
   },
   {
    "duration": 504,
    "start_time": "2021-06-23T15:44:23.889Z"
   },
   {
    "duration": 6561,
    "start_time": "2021-06-23T15:44:24.395Z"
   },
   {
    "duration": 10450,
    "start_time": "2021-06-23T15:44:30.960Z"
   },
   {
    "duration": 72,
    "start_time": "2021-06-23T15:44:41.412Z"
   },
   {
    "duration": 112,
    "start_time": "2021-06-23T15:44:41.491Z"
   },
   {
    "duration": 523,
    "start_time": "2021-06-23T15:44:41.605Z"
   },
   {
    "duration": 9239,
    "start_time": "2021-06-23T15:44:42.130Z"
   },
   {
    "duration": 14805,
    "start_time": "2021-06-23T15:44:51.371Z"
   },
   {
    "duration": 106,
    "start_time": "2021-06-23T15:45:06.178Z"
   },
   {
    "duration": 1460,
    "start_time": "2021-06-23T15:45:06.287Z"
   },
   {
    "duration": 376,
    "start_time": "2021-06-23T15:45:07.749Z"
   },
   {
    "duration": 310,
    "start_time": "2021-06-23T15:45:08.127Z"
   }
  ],
  "kernelspec": {
   "display_name": "Python 3",
   "language": "python",
   "name": "python3"
  },
  "language_info": {
   "codemirror_mode": {
    "name": "ipython",
    "version": 3
   },
   "file_extension": ".py",
   "mimetype": "text/x-python",
   "name": "python",
   "nbconvert_exporter": "python",
   "pygments_lexer": "ipython3",
   "version": "3.8.5"
  },
  "toc": {
   "base_numbering": 1,
   "nav_menu": {},
   "number_sections": true,
   "sideBar": true,
   "skip_h1_title": true,
   "title_cell": "Table of Contents",
   "title_sidebar": "Contents",
   "toc_cell": false,
   "toc_position": {
    "height": "calc(100% - 180px)",
    "left": "10px",
    "top": "150px",
    "width": "205.391px"
   },
   "toc_section_display": true,
   "toc_window_display": false
  }
 },
 "nbformat": 4,
 "nbformat_minor": 4
}

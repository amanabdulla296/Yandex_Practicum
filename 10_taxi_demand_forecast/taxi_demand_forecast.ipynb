{
 "cells": [
  {
   "cell_type": "markdown",
   "metadata": {},
   "source": [
    "# Taxi demand forescast\n",
    "The RMSE metric on the test set should not be more than 48."
   ]
  },
  {
   "cell_type": "markdown",
   "metadata": {},
   "source": [
    "## 1. Preparation\n",
    "In this section we will load and preprocess the data."
   ]
  },
  {
   "cell_type": "code",
   "execution_count": 1,
   "metadata": {},
   "outputs": [],
   "source": [
    "import time\n",
    "import pandas as pd\n",
    "import numpy as np\n",
    "import matplotlib.pyplot as plt\n",
    "import seaborn as sns\n",
    "from sklearn.model_selection import train_test_split\n",
    "from statsmodels.tsa.seasonal import seasonal_decompose\n",
    "from sklearn.metrics import mean_squared_error\n",
    "\n",
    "from sklearn.ensemble import RandomForestRegressor\n",
    "from sklearn.linear_model import LinearRegression\n",
    "from lightgbm import LGBMRegressor\n",
    "\n",
    "import warnings\n",
    "warnings.filterwarnings(\"ignore\")"
   ]
  },
  {
   "cell_type": "code",
   "execution_count": 2,
   "metadata": {},
   "outputs": [
    {
     "data": {
      "text/html": [
       "<div>\n",
       "<style scoped>\n",
       "    .dataframe tbody tr th:only-of-type {\n",
       "        vertical-align: middle;\n",
       "    }\n",
       "\n",
       "    .dataframe tbody tr th {\n",
       "        vertical-align: top;\n",
       "    }\n",
       "\n",
       "    .dataframe thead th {\n",
       "        text-align: right;\n",
       "    }\n",
       "</style>\n",
       "<table border=\"1\" class=\"dataframe\">\n",
       "  <thead>\n",
       "    <tr style=\"text-align: right;\">\n",
       "      <th></th>\n",
       "      <th>num_orders</th>\n",
       "    </tr>\n",
       "    <tr>\n",
       "      <th>datetime</th>\n",
       "      <th></th>\n",
       "    </tr>\n",
       "  </thead>\n",
       "  <tbody>\n",
       "    <tr>\n",
       "      <td>2018-03-01 00:00:00</td>\n",
       "      <td>9</td>\n",
       "    </tr>\n",
       "    <tr>\n",
       "      <td>2018-03-01 00:10:00</td>\n",
       "      <td>14</td>\n",
       "    </tr>\n",
       "    <tr>\n",
       "      <td>2018-03-01 00:20:00</td>\n",
       "      <td>28</td>\n",
       "    </tr>\n",
       "    <tr>\n",
       "      <td>2018-03-01 00:30:00</td>\n",
       "      <td>20</td>\n",
       "    </tr>\n",
       "    <tr>\n",
       "      <td>2018-03-01 00:40:00</td>\n",
       "      <td>32</td>\n",
       "    </tr>\n",
       "  </tbody>\n",
       "</table>\n",
       "</div>"
      ],
      "text/plain": [
       "                     num_orders\n",
       "datetime                       \n",
       "2018-03-01 00:00:00           9\n",
       "2018-03-01 00:10:00          14\n",
       "2018-03-01 00:20:00          28\n",
       "2018-03-01 00:30:00          20\n",
       "2018-03-01 00:40:00          32"
      ]
     },
     "metadata": {},
     "output_type": "display_data"
    },
    {
     "name": "stdout",
     "output_type": "stream",
     "text": [
      "======================================================================\n",
      "\n",
      "<class 'pandas.core.frame.DataFrame'>\n",
      "DatetimeIndex: 26496 entries, 2018-03-01 00:00:00 to 2018-08-31 23:50:00\n",
      "Data columns (total 1 columns):\n",
      "num_orders    26496 non-null int64\n",
      "dtypes: int64(1)\n",
      "memory usage: 414.0 KB\n"
     ]
    }
   ],
   "source": [
    "#load data\n",
    "df = pd.read_csv('/datasets/taxi.csv', parse_dates=[0], index_col=[0])\n",
    "\n",
    "#sort date as ascending\n",
    "df_sorted = df.sort_index()\n",
    "\n",
    "#get familiarized with the data\n",
    "display(df_sorted.head())\n",
    "print('='*70)\n",
    "print()\n",
    "df_sorted.info()"
   ]
  },
  {
   "cell_type": "code",
   "execution_count": 3,
   "metadata": {
    "scrolled": true,
    "tags": []
   },
   "outputs": [
    {
     "data": {
      "text/plain": [
       "num_orders    0\n",
       "dtype: int64"
      ]
     },
     "execution_count": 3,
     "metadata": {},
     "output_type": "execute_result"
    }
   ],
   "source": [
    "# check for missing values\n",
    "df_sorted.isna().sum()"
   ]
  },
  {
   "cell_type": "code",
   "execution_count": 4,
   "metadata": {},
   "outputs": [
    {
     "name": "stdout",
     "output_type": "stream",
     "text": [
      "Is the data monotonic?\n",
      " True\n"
     ]
    }
   ],
   "source": [
    "print('Is the data monotonic?\\n',df_sorted.index.is_monotonic)"
   ]
  },
  {
   "cell_type": "code",
   "execution_count": 5,
   "metadata": {
    "scrolled": true
   },
   "outputs": [
    {
     "data": {
      "text/html": [
       "<div>\n",
       "<style scoped>\n",
       "    .dataframe tbody tr th:only-of-type {\n",
       "        vertical-align: middle;\n",
       "    }\n",
       "\n",
       "    .dataframe tbody tr th {\n",
       "        vertical-align: top;\n",
       "    }\n",
       "\n",
       "    .dataframe thead th {\n",
       "        text-align: right;\n",
       "    }\n",
       "</style>\n",
       "<table border=\"1\" class=\"dataframe\">\n",
       "  <thead>\n",
       "    <tr style=\"text-align: right;\">\n",
       "      <th></th>\n",
       "      <th>num_orders</th>\n",
       "    </tr>\n",
       "    <tr>\n",
       "      <th>datetime</th>\n",
       "      <th></th>\n",
       "    </tr>\n",
       "  </thead>\n",
       "  <tbody>\n",
       "    <tr>\n",
       "      <td>2018-03-01 00:00:00</td>\n",
       "      <td>124</td>\n",
       "    </tr>\n",
       "    <tr>\n",
       "      <td>2018-03-01 01:00:00</td>\n",
       "      <td>85</td>\n",
       "    </tr>\n",
       "    <tr>\n",
       "      <td>2018-03-01 02:00:00</td>\n",
       "      <td>71</td>\n",
       "    </tr>\n",
       "  </tbody>\n",
       "</table>\n",
       "</div>"
      ],
      "text/plain": [
       "                     num_orders\n",
       "datetime                       \n",
       "2018-03-01 00:00:00         124\n",
       "2018-03-01 01:00:00          85\n",
       "2018-03-01 02:00:00          71"
      ]
     },
     "execution_count": 5,
     "metadata": {},
     "output_type": "execute_result"
    }
   ],
   "source": [
    "#resample data for hourly sum\n",
    "df_resampled = df_sorted.resample('1H').sum()\n",
    "\n",
    "#check the resulted table\n",
    "df_resampled.head(3)"
   ]
  },
  {
   "cell_type": "markdown",
   "metadata": {},
   "source": [
    "### 1.1 Conclusion\n",
    "Data and required Python libraries have been successfully loaded. Original data has **26496 entries**, which is showing a number of taxi orders every 10 minutes. No missing values and other errors observed so far. Data has been resampled to get the total taxi order per hour instead of every 10 minutes."
   ]
  },
  {
   "cell_type": "markdown",
   "metadata": {},
   "source": [
    "## 2. Analysis\n",
    "We will conduct EDA in this section in order to better understand the data."
   ]
  },
  {
   "cell_type": "code",
   "execution_count": 6,
   "metadata": {
    "scrolled": true
   },
   "outputs": [
    {
     "data": {
      "image/png": "[encoded data removed]",
      "text/plain": [
       "<Figure size 864x288 with 2 Axes>"
      ]
     },
     "metadata": {},
     "output_type": "display_data"
    }
   ],
   "source": [
    "#plot a linechart for the whole data\n",
    "plt.style.use('seaborn-darkgrid')\n",
    "plt.figure(figsize=(12,4))\n",
    "plt.subplot(211)\n",
    "df_resampled['num_orders'].plot(ax=plt.gca(), label='x')\n",
    "df_resampled['num_orders'].rolling(10).mean().plot(ax=plt.gca())\n",
    "plt.title('Plot of whole dataset')\n",
    "plt.legend(['Number of orders','Mean orders'])\n",
    "\n",
    "#plot a line chart for only 15 days of data\n",
    "plt.subplot(212)\n",
    "df_resampled['num_orders'][:360].plot(ax=plt.gca())\n",
    "df_resampled['num_orders'][:360].rolling(10).mean().plot(ax=plt.gca())\n",
    "plt.title('Plot of dataset only for 15 days of March, 2018')\n",
    "plt.legend(['Number of orders','Mean orders'])\n",
    "plt.tight_layout()\n",
    "plt.show()"
   ]
  },
  {
   "cell_type": "markdown",
   "metadata": {},
   "source": [
    "From the first chart, we can not get much information, but what we can see is that the number of orders gets higher near to the end compared to the beginning. When we look at the two charts together, we can see that there is a small peak every day near midnight (24:00) and at the weekends (5th and 12 of March). we will inspect these observations further."
   ]
  },
  {
   "cell_type": "code",
   "execution_count": 7,
   "metadata": {},
   "outputs": [
    {
     "data": {
      "image/png": "[encoded data removed]",
      "text/plain": [
       "<Figure size 864x432 with 3 Axes>"
      ]
     },
     "metadata": {},
     "output_type": "display_data"
    }
   ],
   "source": [
    "#check for trend and seasonality\n",
    "decomposed = seasonal_decompose(df_resampled['num_orders'])\n",
    "plt.figure(figsize=(12, 6))\n",
    "\n",
    "#plot a chart for trend\n",
    "plt.subplot(311)\n",
    "decomposed.trend.plot(ax=plt.gca())\n",
    "plt.title('Trend')\n",
    "\n",
    "#plot a chart for seasonality\n",
    "plt.subplot(312)\n",
    "decomposed.seasonal.plot(ax=plt.gca())\n",
    "plt.title('Seasonality')\n",
    "\n",
    "#plot a chart for residuals \n",
    "plt.subplot(313)\n",
    "decomposed.resid.plot(ax=plt.gca())\n",
    "plt.title('Residuals')\n",
    "\n",
    "plt.tight_layout()"
   ]
  },
  {
   "cell_type": "markdown",
   "metadata": {},
   "source": [
    "As we have already hypothesized, there is a trend in our overall data. The number of orders getting higher and higher. But seasonality chart is not so informative in its current form. Let's get a narrower range and try to understand it."
   ]
  },
  {
   "cell_type": "code",
   "execution_count": 8,
   "metadata": {},
   "outputs": [
    {
     "data": {
      "image/png": "[encoded data removed]",
      "text/plain": [
       "<Figure size 864x144 with 1 Axes>"
      ]
     },
     "metadata": {},
     "output_type": "display_data"
    }
   ],
   "source": [
    "#seasonality chart for only 10 days\n",
    "decomposed.seasonal[:240].plot(figsize=(12,2))\n",
    "plt.title('Seasonality only for 10 days')\n",
    "plt.show()"
   ]
  },
  {
   "cell_type": "markdown",
   "metadata": {},
   "source": [
    "Now we can clearly see that every day at midnight, taxi orders peaking and near to morning orders dipping. But let's build another visualizations, which are showing average hourly, daily and monthly orders. "
   ]
  },
  {
   "cell_type": "code",
   "execution_count": 9,
   "metadata": {},
   "outputs": [
    {
     "data": {
      "image/png": "[encoded data removed]",
      "text/plain": [
       "<Figure size 1008x288 with 3 Axes>"
      ]
     },
     "metadata": {},
     "output_type": "display_data"
    }
   ],
   "source": [
    "#group the data by hours of days, and get average orders at each hour of day\n",
    "plt.figure(figsize=(14, 4))\n",
    "plt.subplot(131)\n",
    "df_resampled.groupby(df_resampled.index.hour)['num_orders'].mean().plot(kind='bar', ax=plt.gca())\n",
    "plt.title('Average hourly orders for each hour of days')\n",
    "plt.xlabel('Hours of day')\n",
    "\n",
    "\n",
    "#group the data by days of week and get average orders at each day\n",
    "plt.subplot(132)\n",
    "df_resampled.groupby(df_resampled.index.dayofweek)['num_orders'].mean().plot(kind='bar', ax=plt.gca())\n",
    "plt.title('Average hourly orders for days of the week')\n",
    "plt.xlabel('Days of week')\n",
    "\n",
    "#group the data by months and get average for each month\n",
    "plt.subplot(133)\n",
    "df_resampled.groupby(df_resampled.index.month)['num_orders'].mean().plot(kind='bar', ax=plt.gca())\n",
    "plt.title('Average hourly orders for each month')\n",
    "plt.xlabel('Month of year')\n",
    "\n",
    "\n",
    "plt.tight_layout()\n",
    "plt.show()"
   ]
  },
  {
   "cell_type": "markdown",
   "metadata": {},
   "source": [
    "As we already observed, once more we have witnessed that taxi orders are peaking at around 01:00 and it is dipping about 06:00. There is no clear difference between average orders of days of a week. However, the monthly trend is very clear, that the average number of orders in March is around 60, but it gradually increased and ultimately in August it reached 130 orders (more than two times.)"
   ]
  },
  {
   "cell_type": "markdown",
   "metadata": {},
   "source": [
    "### 2.1 Conclusion\n",
    "It has been observed that data has both trend and seasonality. The trend is that the number of taxi orders gradually increasing from the beginning of data to the end (in March average hourly order is 60 vs in August average hourly order is 130). Seasonality is daily, which means everyday midnight taxi orders get a peak, and near to morning hours (6 am), it gets a dip."
   ]
  },
  {
   "cell_type": "markdown",
   "metadata": {},
   "source": [
    "## 3. Training\n",
    "In this section we will check different algorithms with tuning hyperparameters, if any. Following algorithms will be check.\n",
    "- LinearRegression\n",
    "- RandomForest\n",
    "- LightGBM\n",
    "\n",
    "Before that, let's prepare our features. We have observed that the month and hour of the day have a great impact on the number of orders. Therefore, we will create month and hour columns. Then we have seen that there is daily seasonality, hence we will choose lag for 24 hours. And setting rolling mean values to 24 will again give use more stationary mean, std."
   ]
  },
  {
   "cell_type": "code",
   "execution_count": 10,
   "metadata": {},
   "outputs": [],
   "source": [
    "#a function to build extra columns:\n",
    "def make_features(df, max_lag, rolling_mean_size):\n",
    "    df['month'] = df.index.month\n",
    "    #df['day'] = df.index.day\n",
    "    #df['dayofweek'] = df.index.dayofweek\n",
    "    df['hour'] = df.index.hour\n",
    "    \n",
    "    for lag in range(1, max_lag + 1):\n",
    "        df['lag_{}'.format(lag)] = df['num_orders'].shift(lag)\n",
    "\n",
    "    df['rolling_mean'] = df['num_orders'].shift().rolling(rolling_mean_size).mean()"
   ]
  },
  {
   "cell_type": "code",
   "execution_count": 11,
   "metadata": {},
   "outputs": [
    {
     "data": {
      "text/html": [
       "<div>\n",
       "<style scoped>\n",
       "    .dataframe tbody tr th:only-of-type {\n",
       "        vertical-align: middle;\n",
       "    }\n",
       "\n",
       "    .dataframe tbody tr th {\n",
       "        vertical-align: top;\n",
       "    }\n",
       "\n",
       "    .dataframe thead th {\n",
       "        text-align: right;\n",
       "    }\n",
       "</style>\n",
       "<table border=\"1\" class=\"dataframe\">\n",
       "  <thead>\n",
       "    <tr style=\"text-align: right;\">\n",
       "      <th></th>\n",
       "      <th>num_orders</th>\n",
       "      <th>month</th>\n",
       "      <th>hour</th>\n",
       "      <th>lag_1</th>\n",
       "      <th>lag_2</th>\n",
       "      <th>lag_3</th>\n",
       "      <th>lag_4</th>\n",
       "      <th>lag_5</th>\n",
       "      <th>lag_6</th>\n",
       "      <th>lag_7</th>\n",
       "      <th>...</th>\n",
       "      <th>lag_16</th>\n",
       "      <th>lag_17</th>\n",
       "      <th>lag_18</th>\n",
       "      <th>lag_19</th>\n",
       "      <th>lag_20</th>\n",
       "      <th>lag_21</th>\n",
       "      <th>lag_22</th>\n",
       "      <th>lag_23</th>\n",
       "      <th>lag_24</th>\n",
       "      <th>rolling_mean</th>\n",
       "    </tr>\n",
       "    <tr>\n",
       "      <th>datetime</th>\n",
       "      <th></th>\n",
       "      <th></th>\n",
       "      <th></th>\n",
       "      <th></th>\n",
       "      <th></th>\n",
       "      <th></th>\n",
       "      <th></th>\n",
       "      <th></th>\n",
       "      <th></th>\n",
       "      <th></th>\n",
       "      <th></th>\n",
       "      <th></th>\n",
       "      <th></th>\n",
       "      <th></th>\n",
       "      <th></th>\n",
       "      <th></th>\n",
       "      <th></th>\n",
       "      <th></th>\n",
       "      <th></th>\n",
       "      <th></th>\n",
       "      <th></th>\n",
       "    </tr>\n",
       "  </thead>\n",
       "  <tbody>\n",
       "    <tr>\n",
       "      <td>2018-03-01 00:00:00</td>\n",
       "      <td>124</td>\n",
       "      <td>3</td>\n",
       "      <td>0</td>\n",
       "      <td>NaN</td>\n",
       "      <td>NaN</td>\n",
       "      <td>NaN</td>\n",
       "      <td>NaN</td>\n",
       "      <td>NaN</td>\n",
       "      <td>NaN</td>\n",
       "      <td>NaN</td>\n",
       "      <td>...</td>\n",
       "      <td>NaN</td>\n",
       "      <td>NaN</td>\n",
       "      <td>NaN</td>\n",
       "      <td>NaN</td>\n",
       "      <td>NaN</td>\n",
       "      <td>NaN</td>\n",
       "      <td>NaN</td>\n",
       "      <td>NaN</td>\n",
       "      <td>NaN</td>\n",
       "      <td>NaN</td>\n",
       "    </tr>\n",
       "    <tr>\n",
       "      <td>2018-03-01 01:00:00</td>\n",
       "      <td>85</td>\n",
       "      <td>3</td>\n",
       "      <td>1</td>\n",
       "      <td>124.0</td>\n",
       "      <td>NaN</td>\n",
       "      <td>NaN</td>\n",
       "      <td>NaN</td>\n",
       "      <td>NaN</td>\n",
       "      <td>NaN</td>\n",
       "      <td>NaN</td>\n",
       "      <td>...</td>\n",
       "      <td>NaN</td>\n",
       "      <td>NaN</td>\n",
       "      <td>NaN</td>\n",
       "      <td>NaN</td>\n",
       "      <td>NaN</td>\n",
       "      <td>NaN</td>\n",
       "      <td>NaN</td>\n",
       "      <td>NaN</td>\n",
       "      <td>NaN</td>\n",
       "      <td>NaN</td>\n",
       "    </tr>\n",
       "  </tbody>\n",
       "</table>\n",
       "<p>2 rows × 28 columns</p>\n",
       "</div>"
      ],
      "text/plain": [
       "                     num_orders  month  hour  lag_1  lag_2  lag_3  lag_4  \\\n",
       "datetime                                                                   \n",
       "2018-03-01 00:00:00         124      3     0    NaN    NaN    NaN    NaN   \n",
       "2018-03-01 01:00:00          85      3     1  124.0    NaN    NaN    NaN   \n",
       "\n",
       "                     lag_5  lag_6  lag_7  ...  lag_16  lag_17  lag_18  lag_19  \\\n",
       "datetime                                  ...                                   \n",
       "2018-03-01 00:00:00    NaN    NaN    NaN  ...     NaN     NaN     NaN     NaN   \n",
       "2018-03-01 01:00:00    NaN    NaN    NaN  ...     NaN     NaN     NaN     NaN   \n",
       "\n",
       "                     lag_20  lag_21  lag_22  lag_23  lag_24  rolling_mean  \n",
       "datetime                                                                   \n",
       "2018-03-01 00:00:00     NaN     NaN     NaN     NaN     NaN           NaN  \n",
       "2018-03-01 01:00:00     NaN     NaN     NaN     NaN     NaN           NaN  \n",
       "\n",
       "[2 rows x 28 columns]"
      ]
     },
     "execution_count": 11,
     "metadata": {},
     "output_type": "execute_result"
    }
   ],
   "source": [
    "#apply the function with 10 lags and rolling mean of last 10 rows\n",
    "make_features(df_resampled, max_lag = 24, rolling_mean_size = 24)\n",
    "df_resampled.head(2)"
   ]
  },
  {
   "cell_type": "code",
   "execution_count": 12,
   "metadata": {},
   "outputs": [
    {
     "name": "stdout",
     "output_type": "stream",
     "text": [
      "Traing features (3950, 27) and testing features (442, 27).\n",
      "Traing target   (3950,) and testing target      (442,).\n",
      "395 rows of trianing set will be used for validation purposes during hp tuning.\n"
     ]
    }
   ],
   "source": [
    "#prepare training and testing datasets\n",
    "train, test = train_test_split(df_resampled, shuffle=False, test_size=0.1, random_state=234)\n",
    "train = train.dropna()\n",
    "\n",
    "#preapre features and target columns\n",
    "X_train = train.drop(\"num_orders\", axis=1)\n",
    "y_train = train['num_orders']\n",
    "X_test = test.drop('num_orders', axis=1)\n",
    "y_test = test['num_orders']\n",
    "\n",
    "#proportion of training dataset that should be used for validation during hyperparameter tuning\n",
    "val_offset = int(len(X_train)*0.9)\n",
    "\n",
    "print(f'Traing features {X_train.shape} and testing features {X_test.shape}.')\n",
    "print(f'Traing target   {y_train.shape} and testing target      {y_test.shape}.')\n",
    "print(f'{len(X_train) - val_offset} rows of trianing set will be used for validation purposes during hp tuning.')"
   ]
  },
  {
   "cell_type": "markdown",
   "metadata": {},
   "source": [
    "### 3.1 LinearRegression\n",
    "Linear regression does not have hyperparameteres. So we will just train it and test it with testing set."
   ]
  },
  {
   "cell_type": "code",
   "execution_count": 13,
   "metadata": {},
   "outputs": [
    {
     "name": "stdout",
     "output_type": "stream",
     "text": [
      "RMSE score of the LinearRegression model with testing set is 45.73\n",
      "Fitting time of LinearRegression is 0.0071 sec and prediction time is 0.086 sec.\n"
     ]
    }
   ],
   "source": [
    "start = time.time()\n",
    "lin_model = LinearRegression()\n",
    "lin_model.fit(X_train, y_train)\n",
    "\n",
    "cur_time = time.time()\n",
    "lr_fit_time = cur_time-start\n",
    "lr_y_pred = lin_model.predict(X_test)\n",
    "\n",
    "cur_time2 = time.time()\n",
    "lr_pred_time = cur_time2 - cur_time \n",
    "lr_rmse = mean_squared_error(y_test, lr_y_pred)**0.5\n",
    "print(f'RMSE score of the LinearRegression model with testing set is {lr_rmse:.4}')\n",
    "print(f'Fitting time of LinearRegression is {lr_fit_time:.2} sec and prediction time is {lr_pred_time:.2} sec.')"
   ]
  },
  {
   "cell_type": "markdown",
   "metadata": {},
   "source": [
    "### 3.2 RandomForest\n",
    "\n",
    "For the RandomForest, the number of trees (n_estimators) and size of the tree (max_depth) have paramount importance. Hence, we will tune these parameters and then use optimal parameters to test the model with the testing set (Note, during hyperparameter tuning we will use a 10% portion of the training set for validation purposes)."
   ]
  },
  {
   "cell_type": "code",
   "execution_count": 23,
   "metadata": {},
   "outputs": [
    {
     "name": "stdout",
     "output_type": "stream",
     "text": [
      "RMSE of the RandomForest model with 10 estimators is 33.2.\n",
      "**************************************************\n",
      "RMSE of the RandomForest model with 50 estimators is 32.2.\n",
      "**************************************************\n",
      "RMSE of the RandomForest model with 100 estimators is 31.9.\n",
      "**************************************************\n",
      "RMSE of the RandomForest model with 150 estimators is 31.7.\n",
      "**************************************************\n"
     ]
    }
   ],
   "source": [
    "# tune the n_estimators\n",
    "for i in [10, 50, 100, 150]:\n",
    "    rf_model = RandomForestRegressor(n_estimators=i, random_state=234)\n",
    "    rf_model.fit(X_train[:val_offset], y_train[:val_offset])    #here I am taking initial 90% rows for training\n",
    "    rf_y_pred = rf_model.predict(X_train[val_offset:])      #rest 10% will be used for validation purposes\n",
    "    rmse = mean_squared_error(y_train[val_offset:], rf_y_pred)**0.5    \n",
    "    print(f'RMSE of the RandomForest model with {i} estimators is {rmse:.3}.')\n",
    "    print(\"*\"*50)"
   ]
  },
  {
   "cell_type": "code",
   "execution_count": 15,
   "metadata": {},
   "outputs": [
    {
     "name": "stdout",
     "output_type": "stream",
     "text": [
      "RMSE of the RandomForest model with 50 estimators and 3 max_depth is 41.9.\n",
      "\n",
      "RMSE of the RandomForest model with 50 estimators and 5 max_depth is 36.8.\n",
      "\n",
      "RMSE of the RandomForest model with 50 estimators and 10 max_depth is 32.4.\n",
      "\n",
      "RMSE of the RandomForest model with 50 estimators and 15 max_depth is 31.9.\n",
      "\n"
     ]
    }
   ],
   "source": [
    "#tune the max_depth\n",
    "for i in [3, 5, 10, 15]:\n",
    "    rf_model = RandomForestRegressor(n_estimators=100, max_depth=i, random_state=234)\n",
    "    rf_model.fit(X_train[:val_offset], y_train[:val_offset])\n",
    "    rf_y_pred = rf_model.predict(X_train[val_offset:])\n",
    "    rmse = mean_squared_error(y_train[val_offset:], rf_y_pred)**0.5    \n",
    "    print(f'RMSE of the RandomForest model with 50 estimators and {i} max_depth is {rmse:.3}.')\n",
    "    print()"
   ]
  },
  {
   "cell_type": "code",
   "execution_count": 16,
   "metadata": {},
   "outputs": [
    {
     "name": "stdout",
     "output_type": "stream",
     "text": [
      "RMSE score of the RandomForest model with testing set is 43.0\n",
      "Fitting time of RandomForest is 6.0 sec and prediction time is 0.019 sec.\n"
     ]
    }
   ],
   "source": [
    "#use optimal n_estimators and max_depth to test best model\n",
    "start = time.time()\n",
    "best_rf_model = RandomForestRegressor(n_estimators=100, max_depth=15, random_state=234)\n",
    "best_rf_model.fit(X_train, y_train)\n",
    "\n",
    "cur_time = time.time()\n",
    "rf_fit_time = cur_time-start\n",
    "\n",
    "rf_y_pred = best_rf_model.predict(X_test)\n",
    "\n",
    "cur_time2 = time.time()\n",
    "rf_pred_time = cur_time2 - cur_time\n",
    "\n",
    "rf_rmse = mean_squared_error(y_test, rf_y_pred)**0.5\n",
    "print(f'RMSE score of the RandomForest model with testing set is {rf_rmse:.3}')\n",
    "print(f'Fitting time of RandomForest is {rf_fit_time:.2} sec and prediction time is {rf_pred_time:.2} sec.')"
   ]
  },
  {
   "cell_type": "markdown",
   "metadata": {},
   "source": [
    "### 3.3 LightGBM\n",
    "For LightGBM the number of estimators and the maximum leaves are hyperparameters. Therefore a similar manner to RandomForest, we will tune LightGBM. Then use the optimal parameters for testing."
   ]
  },
  {
   "cell_type": "code",
   "execution_count": 17,
   "metadata": {},
   "outputs": [
    {
     "name": "stdout",
     "output_type": "stream",
     "text": [
      "RMSE score for LightGBM model with 10 estimators and 2 maximum leaves is 37.91.\n",
      "\n",
      "RMSE score for LightGBM model with 50 estimators and 4 maximum leaves is 40.66.\n",
      "\n",
      "RMSE score for LightGBM model with 50 estimators and 6 maximum leaves is 40.66.\n",
      "\n"
     ]
    }
   ],
   "source": [
    "#tune n_estimators and max_leaves\n",
    "n_estimators = [10, 50, 50]\n",
    "max_leaves = [2, 4, 6]\n",
    "for n, m in zip(n_estimators, max_leaves):\n",
    "    lg_model = LGBMRegressor(n_estimators=n, max_leaves=m, learning_rate=1.0, random_state=234)\n",
    "    lg_model.fit(X_train[:val_offset], y_train[:val_offset])\n",
    "    lg_y_pred = lg_model.predict(X_train[val_offset:])\n",
    "    rmse = mean_squared_error(y_train[val_offset:], lg_y_pred)**0.5\n",
    "    print(f'RMSE score for LightGBM model with {n} estimators and {m} maximum leaves is {rmse:.4}.')\n",
    "    print()"
   ]
  },
  {
   "cell_type": "code",
   "execution_count": 18,
   "metadata": {},
   "outputs": [
    {
     "name": "stdout",
     "output_type": "stream",
     "text": [
      "RMSE score of the LigthGBM model is 43.3\n",
      "Fitting time of LightGBM is 1.1 sec and prediction time is 0.099 sec.\n"
     ]
    }
   ],
   "source": [
    "#use optimal n_estimators and max_leaves to test best model\n",
    "start = time.time()\n",
    "best_lg_model = LGBMRegressor(n_estimators=50, max_leaves=4, random_state=234)\n",
    "best_lg_model.fit(X_train, y_train)\n",
    "cur_time = time.time()\n",
    "lg_fit_time = cur_time-start\n",
    "\n",
    "lg_y_pred = best_lg_model.predict(X_test)\n",
    "cur_time2 = time.time()\n",
    "lg_pred_time = cur_time2 - cur_time \n",
    "lg_rmse = mean_squared_error(y_test, lg_y_pred)**0.5\n",
    "print(f'RMSE score of the LigthGBM model is {lg_rmse:.3}')\n",
    "print(f'Fitting time of LightGBM is {lg_fit_time:.2} sec and prediction time is {lg_pred_time:.2} sec.')"
   ]
  },
  {
   "cell_type": "markdown",
   "metadata": {},
   "source": [
    "### Conclusion\n",
    "We have tested three different models (whenever applicable after tuning the hyperparameters). Results are as following:\n",
    "\n",
    "|Algorithm            |RMSE score|Training time |Prediction time|\n",
    "|---------------------|----------|------------- |---------------|\n",
    "|LinearRegression     |45.7      |0.078         |0.076          |\n",
    "|RandomForestRegressor|43.0      |6.1           |0.018          |\n",
    "|LightGBMRegressor    |43.3      |11.0           |0.096         |"
   ]
  },
  {
   "cell_type": "markdown",
   "metadata": {},
   "source": [
    "## 4. Testing\n",
    "To test sanity of model, we will develop two constant models and evaluate their RMSE. Then we will benchmark our previous models with these constant models."
   ]
  },
  {
   "cell_type": "markdown",
   "metadata": {},
   "source": [
    "### 4.1 Constant model - median\n",
    "\n",
    "We will use median value of training set as target of testing set."
   ]
  },
  {
   "cell_type": "code",
   "execution_count": 19,
   "metadata": {},
   "outputs": [
    {
     "name": "stdout",
     "output_type": "stream",
     "text": [
      "RMSE of constant model which uses median of training sets as future prediction is 87.2.\n"
     ]
    }
   ],
   "source": [
    "# create target of test using median value of training set.\n",
    "cm1_y_pred = np.ones(y_test.shape) * y_train.median()\n",
    "cm1_rmse = mean_squared_error(y_test, cm1_y_pred)**0.5\n",
    "print(f'RMSE of constant model which uses median of training sets as future prediction is {cm1_rmse:.3}.')"
   ]
  },
  {
   "cell_type": "markdown",
   "metadata": {},
   "source": [
    "### 4.2 Constant model - last value"
   ]
  },
  {
   "cell_type": "code",
   "execution_count": 20,
   "metadata": {},
   "outputs": [
    {
     "name": "stdout",
     "output_type": "stream",
     "text": [
      "RMSE of constant model which uses median of training sets as future prediction is 58.9.\n"
     ]
    }
   ],
   "source": [
    "# create target of test using last observed value as a target.\n",
    "cm2_y_pred = y_test.shift()\n",
    "cm2_y_pred.iloc[0] = y_train.iloc[-1]\n",
    "cm2_rmse = mean_squared_error(y_test, cm2_y_pred)**0.5\n",
    "print(f'RMSE of constant model which uses median of training sets as future prediction is {cm2_rmse:.3}.')"
   ]
  },
  {
   "cell_type": "markdown",
   "metadata": {},
   "source": [
    "### 4.3 Benchmarking"
   ]
  },
  {
   "cell_type": "code",
   "execution_count": 21,
   "metadata": {},
   "outputs": [
    {
     "data": {
      "image/png": "[encoded data removed]",
      "text/plain": [
       "<Figure size 864x288 with 3 Axes>"
      ]
     },
     "metadata": {},
     "output_type": "display_data"
    }
   ],
   "source": [
    "#create a dataframe containg results of all above models\n",
    "bench = pd.DataFrame({'models':['constant_1', 'constant_2', 'lin_reg', 'rand_for','light_gbm'],\n",
    "                      'RMSE':[cm1_rmse, cm2_rmse, lr_rmse, rf_rmse, lg_rmse],\n",
    "                     'fit_time':[0, 0, lr_fit_time, rf_fit_time, lg_fit_time],\n",
    "                     'pred_time':[0, 0, lr_pred_time, rf_pred_time, lg_pred_time]})\n",
    "\n",
    "#plot barplots comparing rmse score, fitting time and prediciton time of models\n",
    "fig, ax = plt.subplots(1, 3, figsize=(12, 4))\n",
    "sns.barplot(data=bench, x='models', y='RMSE', ax=ax[0], palette='inferno')\n",
    "ax[0].set_title('Comparison of RMSE scores of models')\n",
    "ax[0].set_xticklabels(bench['models'], rotation = 45, ha=\"right\")\n",
    "\n",
    "sns.barplot(data=bench, x='models', y='fit_time', ax=ax[1], palette='inferno')\n",
    "ax[1].set_title('Comparison of fitting times of models')\n",
    "ax[1].set_xticklabels(bench['models'], rotation = 45, ha=\"right\")\n",
    "\n",
    "sns.barplot(data=bench, x='models', y='pred_time', ax=ax[2], palette='inferno')\n",
    "ax[2].set_title('Comparison of prediction times of models')\n",
    "ax[2].set_xticklabels(bench['models'], rotation = 45, ha=\"right\")\n",
    "\n",
    "plt.tight_layout()\n",
    "plt.show()"
   ]
  },
  {
   "cell_type": "markdown",
   "metadata": {},
   "source": [
    "From the above plots, we can see that RMSE scores of LinearReg, RandForest, and LigthGBM models do not differ significantly. All of them are fairly better than constant models. However, if we compare the training and prediction times required for each model, we can see that the fitting of time LinearReg model is way better than RandForest and LightGBM. But when it comes to predicting, LightGBM is the best, although LinearReg and RandForest also did well, predicting in less than 1 second."
   ]
  },
  {
   "cell_type": "code",
   "execution_count": 22,
   "metadata": {
    "scrolled": true
   },
   "outputs": [
    {
     "data": {
      "image/png": "[encoded data removed]",
      "text/plain": [
       "<Figure size 864x288 with 1 Axes>"
      ]
     },
     "metadata": {},
     "output_type": "display_data"
    }
   ],
   "source": [
    "# compare actual and predicted values of target for two days\n",
    "targets = pd.DataFrame({'actual':y_test,'constant_1': cm1_y_pred, 'constant_2':cm2_y_pred, \n",
    "                        'lin_reg': lr_y_pred, 'rand_for':rf_y_pred,'light_gbm':lg_y_pred})\n",
    "targets.plot(figsize=(12, 4))\n",
    "plt.xlim('2018-08-14', '2018-08-16')\n",
    "plt.title('Actual number of taxis vs forescast with different models')\n",
    "plt.show()"
   ]
  },
  {
   "cell_type": "markdown",
   "metadata": {},
   "source": [
    "As we can see from the above line chart, constant model 1, which uses the median value of the training set as a forecast, has a straight line. On another hand, constant model 2, which uses the last value as a forecast, has a shift of peaks or dips in the graph. However, the other models were a little bit pessimistic, i.e. when there is a peak, models never exceeded that peak."
   ]
  },
  {
   "cell_type": "markdown",
   "metadata": {},
   "source": [
    "### 4.4 Conclusion\n",
    "Two constant models were built, where one uses median values of the training set as the predicted value, while another uses the last observed value as a prediction. These two constant models achieved RMSE scores of 87.2 and 58.9, respectively. Compared to these constant models, our all models (LinearRegerssion, RandomForest, and LightGBM) achieved much better (RMSE 45.7, 43.0, and 43.3, respectively). However, among these three models, RandomForest achieved the best RMSE score. But its fitting and prediction times are much worse than LinaerRegerssion. \n",
    "\n",
    "As a summary, we can say that the LinearRegerssion model, achieved a fairly good prediction of required taxis with $\\pm$ 45.7 within less than a second. "
   ]
  },
  {
   "cell_type": "markdown",
   "metadata": {},
   "source": [
    "## 5. Summary"
   ]
  },
  {
   "cell_type": "markdown",
   "metadata": {
    "pycharm": {
     "name": "#%% md\n"
    }
   },
   "source": [
    "- Data with **26496 entries**, which is showing a number of taxi orders for every 10 minutes, has been loaded. It has been **resampled to get the total taxi order per hour instead of every 10 minutes.**\n",
    "\n",
    "- It has been observed that **data has both trend and seasonality**. The trend is that the number of taxi orders gradually increasing from the beginning of data to the end (**in March average hourly order is 60 vs in August average hourly order is 130**). Seasonality is daily, which means **everyday midnight taxi orders get a peak, and near to morning hours (6 am), it gets a dip.**\n",
    "\n",
    "- We have tested three different models (whenever applicable after tuning the hyperparameters). Results are as following:\n",
    "\n",
    "|Algorithm            |RMSE score|Training time |Prediction time|\n",
    "|---------------------|----------|------------- |---------------|\n",
    "|LinearRegression     |45.7      |0.028         |0.0016         |\n",
    "|RandomForestRegressor|43.0      |6.1           |0.018          |\n",
    "|LightGBMRegressor    |43.3      |1.0           |0.0096         |\n",
    "\n",
    "- Two constant models were built, where one uses median values of the training set as the predicted value, while another uses the last observed value as a prediction. These two constant models achieved RMSE scores of 87.2 and 58.9, respectively. Compared to these constant models, our all models (LinearRegerssion, RandomForest, and LightGBM) achieved much better (RMSE 45.7, 43.0, and 43.3, respectively).\n",
    "\n",
    "> **As a summary, we can say that the LinearRegerssion model, achieved a fairly good prediction of required taxis with $\\pm$ 45.7 within less than a second.**"
   ]
  }
 ],
 "metadata": {
  "ExecuteTimeLog": [
   {
    "duration": 2012,
    "start_time": "2021-07-26T12:33:55.425Z"
   },
   {
    "duration": 5,
    "start_time": "2021-07-26T12:35:00.085Z"
   },
   {
    "duration": 210,
    "start_time": "2021-07-26T12:35:27.830Z"
   },
   {
    "duration": 51,
    "start_time": "2021-07-26T12:36:21.616Z"
   },
   {
    "duration": 117,
    "start_time": "2021-07-26T12:36:35.720Z"
   },
   {
    "duration": 51,
    "start_time": "2021-07-26T12:36:40.503Z"
   },
   {
    "duration": 53,
    "start_time": "2021-07-26T12:36:57.904Z"
   },
   {
    "duration": 57,
    "start_time": "2021-07-26T12:37:09.064Z"
   },
   {
    "duration": 49,
    "start_time": "2021-07-26T12:37:20.030Z"
   },
   {
    "duration": 48,
    "start_time": "2021-07-26T12:37:33.791Z"
   },
   {
    "duration": 48,
    "start_time": "2021-07-26T12:37:43.919Z"
   },
   {
    "duration": 55,
    "start_time": "2021-07-26T12:38:27.054Z"
   },
   {
    "duration": 60,
    "start_time": "2021-07-26T12:38:44.487Z"
   },
   {
    "duration": 59,
    "start_time": "2021-07-26T12:38:52.879Z"
   },
   {
    "duration": 56,
    "start_time": "2021-07-26T12:38:58.391Z"
   },
   {
    "duration": 9,
    "start_time": "2021-07-26T12:40:17.030Z"
   },
   {
    "duration": 460,
    "start_time": "2021-07-26T12:40:22.206Z"
   },
   {
    "duration": 32,
    "start_time": "2021-07-26T12:40:31.303Z"
   },
   {
    "duration": 56,
    "start_time": "2021-07-26T12:41:52.799Z"
   },
   {
    "duration": 12,
    "start_time": "2021-07-26T12:42:01.935Z"
   },
   {
    "duration": 366,
    "start_time": "2021-07-26T12:42:09.494Z"
   },
   {
    "duration": 16,
    "start_time": "2021-07-26T12:42:13.753Z"
   },
   {
    "duration": 59,
    "start_time": "2021-07-26T12:42:33.295Z"
   },
   {
    "duration": 15,
    "start_time": "2021-07-26T12:42:43.248Z"
   },
   {
    "duration": 876,
    "start_time": "2021-07-26T12:44:00.414Z"
   },
   {
    "duration": 599,
    "start_time": "2021-07-26T12:44:16.823Z"
   },
   {
    "duration": -66,
    "start_time": "2021-07-26T12:45:48.577Z"
   },
   {
    "duration": 1014,
    "start_time": "2021-07-27T08:03:35.970Z"
   },
   {
    "duration": 8388,
    "start_time": "2021-07-27T08:04:51.538Z"
   },
   {
    "duration": 1009,
    "start_time": "2021-07-27T08:05:26.818Z"
   },
   {
    "duration": 918,
    "start_time": "2021-07-27T08:05:36.950Z"
   },
   {
    "duration": 244,
    "start_time": "2021-07-27T08:11:18.433Z"
   },
   {
    "duration": 16467,
    "start_time": "2021-07-27T08:11:39.482Z"
   },
   {
    "duration": 1998,
    "start_time": "2021-07-27T08:13:41.324Z"
   },
   {
    "duration": 81,
    "start_time": "2021-07-27T08:14:24.281Z"
   },
   {
    "duration": 4614,
    "start_time": "2021-07-27T08:14:27.586Z"
   },
   {
    "duration": 1488,
    "start_time": "2021-07-27T08:16:00.579Z"
   },
   {
    "duration": 65,
    "start_time": "2021-07-27T08:16:14.795Z"
   },
   {
    "duration": 18,
    "start_time": "2021-07-27T08:16:33.236Z"
   },
   {
    "duration": 7,
    "start_time": "2021-07-27T08:17:00.674Z"
   },
   {
    "duration": 59,
    "start_time": "2021-07-27T08:17:20.778Z"
   },
   {
    "duration": 62,
    "start_time": "2021-07-27T08:17:45.440Z"
   },
   {
    "duration": 64,
    "start_time": "2021-07-27T08:18:11.320Z"
   },
   {
    "duration": 58,
    "start_time": "2021-07-27T08:18:47.303Z"
   },
   {
    "duration": 71,
    "start_time": "2021-07-27T08:18:59.969Z"
   },
   {
    "duration": 66,
    "start_time": "2021-07-27T08:19:09.172Z"
   },
   {
    "duration": 58,
    "start_time": "2021-07-27T08:19:26.159Z"
   },
   {
    "duration": 59,
    "start_time": "2021-07-27T08:19:42.240Z"
   },
   {
    "duration": 56,
    "start_time": "2021-07-27T08:20:10.282Z"
   },
   {
    "duration": 10,
    "start_time": "2021-07-27T08:20:28.352Z"
   },
   {
    "duration": 15,
    "start_time": "2021-07-27T08:20:28.665Z"
   },
   {
    "duration": 32141,
    "start_time": "2021-07-27T08:39:07.769Z"
   },
   {
    "duration": 433,
    "start_time": "2021-07-27T08:42:47.596Z"
   },
   {
    "duration": 409,
    "start_time": "2021-07-27T08:43:28.308Z"
   },
   {
    "duration": 637,
    "start_time": "2021-07-27T08:44:31.794Z"
   },
   {
    "duration": 928,
    "start_time": "2021-07-27T08:44:52.843Z"
   },
   {
    "duration": 1066,
    "start_time": "2021-07-27T08:45:02.474Z"
   },
   {
    "duration": 1102,
    "start_time": "2021-07-27T08:45:17.586Z"
   },
   {
    "duration": 821,
    "start_time": "2021-07-27T08:46:37.539Z"
   },
   {
    "duration": 1660,
    "start_time": "2021-07-27T08:46:48.467Z"
   },
   {
    "duration": 2222,
    "start_time": "2021-07-27T08:46:56.058Z"
   },
   {
    "duration": 920,
    "start_time": "2021-07-27T08:48:11.676Z"
   },
   {
    "duration": 1087,
    "start_time": "2021-07-27T08:48:25.571Z"
   },
   {
    "duration": 9,
    "start_time": "2021-07-27T08:49:12.916Z"
   },
   {
    "duration": 20,
    "start_time": "2021-07-27T08:49:25.836Z"
   },
   {
    "duration": 24,
    "start_time": "2021-07-27T08:49:56.456Z"
   },
   {
    "duration": 19,
    "start_time": "2021-07-27T08:50:04.644Z"
   },
   {
    "duration": 1603,
    "start_time": "2021-07-27T08:50:26.147Z"
   },
   {
    "duration": 443,
    "start_time": "2021-07-27T08:51:05.652Z"
   },
   {
    "duration": 19,
    "start_time": "2021-07-27T08:54:05.853Z"
   },
   {
    "duration": 18,
    "start_time": "2021-07-27T08:54:21.604Z"
   },
   {
    "duration": 11,
    "start_time": "2021-07-27T08:54:38.247Z"
   },
   {
    "duration": 11,
    "start_time": "2021-07-27T08:54:53.547Z"
   },
   {
    "duration": 361,
    "start_time": "2021-07-27T08:54:59.879Z"
   },
   {
    "duration": 13,
    "start_time": "2021-07-27T08:55:04.854Z"
   },
   {
    "duration": 15,
    "start_time": "2021-07-27T08:55:30.142Z"
   },
   {
    "duration": 18,
    "start_time": "2021-07-27T08:55:35.124Z"
   },
   {
    "duration": 17,
    "start_time": "2021-07-27T08:55:51.516Z"
   },
   {
    "duration": 1684,
    "start_time": "2021-07-27T08:57:01.217Z"
   },
   {
    "duration": 297,
    "start_time": "2021-07-27T08:58:01.365Z"
   },
   {
    "duration": 464,
    "start_time": "2021-07-27T08:58:32.707Z"
   },
   {
    "duration": 307,
    "start_time": "2021-07-27T08:58:41.492Z"
   },
   {
    "duration": 275,
    "start_time": "2021-07-27T08:58:58.706Z"
   },
   {
    "duration": 331,
    "start_time": "2021-07-27T08:59:21.101Z"
   },
   {
    "duration": 346,
    "start_time": "2021-07-27T08:59:25.251Z"
   },
   {
    "duration": 353,
    "start_time": "2021-07-27T09:02:32.340Z"
   },
   {
    "duration": 774,
    "start_time": "2021-07-27T09:02:44.136Z"
   },
   {
    "duration": 317,
    "start_time": "2021-07-27T09:06:29.862Z"
   },
   {
    "duration": 13,
    "start_time": "2021-07-27T09:06:45.709Z"
   },
   {
    "duration": 8,
    "start_time": "2021-07-27T09:06:50.919Z"
   },
   {
    "duration": 8,
    "start_time": "2021-07-27T09:07:00.469Z"
   },
   {
    "duration": 289,
    "start_time": "2021-07-27T09:07:22.175Z"
   },
   {
    "duration": 562,
    "start_time": "2021-07-27T09:07:43.990Z"
   },
   {
    "duration": 823,
    "start_time": "2021-07-27T09:08:32.198Z"
   },
   {
    "duration": 4,
    "start_time": "2021-07-27T09:10:01.886Z"
   },
   {
    "duration": 613,
    "start_time": "2021-07-27T09:10:26.550Z"
   },
   {
    "duration": 818,
    "start_time": "2021-07-27T09:10:38.157Z"
   },
   {
    "duration": 534,
    "start_time": "2021-07-27T09:10:48.895Z"
   },
   {
    "duration": 1564,
    "start_time": "2021-07-27T09:11:13.973Z"
   },
   {
    "duration": 707,
    "start_time": "2021-07-27T09:11:27.437Z"
   },
   {
    "duration": 1556,
    "start_time": "2021-07-27T09:13:14.126Z"
   },
   {
    "duration": 1145,
    "start_time": "2021-07-27T09:13:31.582Z"
   },
   {
    "duration": 1131,
    "start_time": "2021-07-27T09:13:46.253Z"
   },
   {
    "duration": 1186,
    "start_time": "2021-07-27T09:14:04.597Z"
   },
   {
    "duration": 1336,
    "start_time": "2021-07-27T09:14:41.167Z"
   },
   {
    "duration": 1092,
    "start_time": "2021-07-27T09:15:21.702Z"
   },
   {
    "duration": 1204,
    "start_time": "2021-07-27T09:15:55.790Z"
   },
   {
    "duration": 779,
    "start_time": "2021-07-27T09:16:05.414Z"
   },
   {
    "duration": 1792,
    "start_time": "2021-07-27T09:16:16.736Z"
   },
   {
    "duration": 1481,
    "start_time": "2021-07-27T09:18:05.622Z"
   },
   {
    "duration": 1146,
    "start_time": "2021-07-27T09:18:20.967Z"
   },
   {
    "duration": 1093,
    "start_time": "2021-07-27T09:18:37.838Z"
   },
   {
    "duration": 737,
    "start_time": "2021-07-27T09:19:06.573Z"
   },
   {
    "duration": 1205,
    "start_time": "2021-07-27T09:19:55.623Z"
   },
   {
    "duration": 2465,
    "start_time": "2021-07-27T09:20:31.270Z"
   },
   {
    "duration": 975,
    "start_time": "2021-07-27T09:20:46.872Z"
   },
   {
    "duration": 960,
    "start_time": "2021-07-27T09:21:02.943Z"
   },
   {
    "duration": 1162,
    "start_time": "2021-07-27T09:21:43.776Z"
   },
   {
    "duration": 1087,
    "start_time": "2021-07-27T09:21:59.560Z"
   },
   {
    "duration": 1519,
    "start_time": "2021-07-27T09:22:07.502Z"
   },
   {
    "duration": 1026,
    "start_time": "2021-07-27T09:22:27.910Z"
   },
   {
    "duration": 1054,
    "start_time": "2021-07-27T09:22:37.222Z"
   },
   {
    "duration": 1080,
    "start_time": "2021-07-27T09:22:47.831Z"
   },
   {
    "duration": 755,
    "start_time": "2021-07-27T09:24:53.534Z"
   },
   {
    "duration": 1572,
    "start_time": "2021-07-27T09:25:35.743Z"
   },
   {
    "duration": 1039,
    "start_time": "2021-07-27T09:26:30.039Z"
   },
   {
    "duration": 1407,
    "start_time": "2021-07-27T09:28:01.054Z"
   },
   {
    "duration": 1419,
    "start_time": "2021-07-27T09:28:09.584Z"
   },
   {
    "duration": 1558,
    "start_time": "2021-07-27T09:29:13.903Z"
   },
   {
    "duration": 2036,
    "start_time": "2021-07-27T09:29:27.438Z"
   },
   {
    "duration": 1082,
    "start_time": "2021-07-27T09:29:38.302Z"
   },
   {
    "duration": 1026,
    "start_time": "2021-07-27T09:30:17.175Z"
   },
   {
    "duration": 1010,
    "start_time": "2021-07-27T09:30:25.534Z"
   },
   {
    "duration": 1451,
    "start_time": "2021-07-27T09:30:26.806Z"
   },
   {
    "duration": 105,
    "start_time": "2021-07-27T09:31:07.167Z"
   },
   {
    "duration": 293,
    "start_time": "2021-07-27T09:31:13.095Z"
   },
   {
    "duration": 315,
    "start_time": "2021-07-27T09:31:24.782Z"
   },
   {
    "duration": 364,
    "start_time": "2021-07-27T09:31:34.910Z"
   },
   {
    "duration": 289,
    "start_time": "2021-07-27T09:31:38.848Z"
   },
   {
    "duration": 311,
    "start_time": "2021-07-27T09:32:04.543Z"
   },
   {
    "duration": 17,
    "start_time": "2021-07-27T09:36:12.600Z"
   },
   {
    "duration": 6938,
    "start_time": "2021-07-27T09:39:54.311Z"
   },
   {
    "duration": 8,
    "start_time": "2021-07-27T09:40:27.326Z"
   },
   {
    "duration": 1052,
    "start_time": "2021-07-27T09:40:44.105Z"
   },
   {
    "duration": 1016,
    "start_time": "2021-07-27T09:40:55.055Z"
   },
   {
    "duration": 1503,
    "start_time": "2021-07-27T09:40:58.096Z"
   },
   {
    "duration": 282,
    "start_time": "2021-07-27T09:41:02.967Z"
   },
   {
    "duration": 11,
    "start_time": "2021-07-27T09:41:16.265Z"
   },
   {
    "duration": 2699,
    "start_time": "2021-07-27T09:42:17.739Z"
   },
   {
    "duration": 13,
    "start_time": "2021-07-27T09:42:43.572Z"
   },
   {
    "duration": 254,
    "start_time": "2021-07-27T09:43:15.304Z"
   },
   {
    "duration": 269,
    "start_time": "2021-07-27T09:43:21.961Z"
   },
   {
    "duration": 265,
    "start_time": "2021-07-27T09:44:48.647Z"
   },
   {
    "duration": 280,
    "start_time": "2021-07-27T09:45:20.360Z"
   },
   {
    "duration": 309,
    "start_time": "2021-07-27T09:45:37.978Z"
   },
   {
    "duration": 265,
    "start_time": "2021-07-27T09:45:48.928Z"
   },
   {
    "duration": 724,
    "start_time": "2021-07-27T09:46:50.977Z"
   },
   {
    "duration": 478,
    "start_time": "2021-07-27T09:47:12.889Z"
   },
   {
    "duration": 520,
    "start_time": "2021-07-27T09:47:56.625Z"
   },
   {
    "duration": 9,
    "start_time": "2021-07-27T09:48:41.210Z"
   },
   {
    "duration": 12,
    "start_time": "2021-07-27T09:48:59.576Z"
   },
   {
    "duration": 10,
    "start_time": "2021-07-27T09:49:39.721Z"
   },
   {
    "duration": 1219,
    "start_time": "2021-07-27T09:49:56.440Z"
   },
   {
    "duration": 581,
    "start_time": "2021-07-27T09:50:14.425Z"
   },
   {
    "duration": 91,
    "start_time": "2021-07-27T09:50:36.074Z"
   },
   {
    "duration": 493,
    "start_time": "2021-07-27T09:50:40.209Z"
   },
   {
    "duration": 653,
    "start_time": "2021-07-27T09:50:55.905Z"
   },
   {
    "duration": 547,
    "start_time": "2021-07-27T09:51:44.272Z"
   },
   {
    "duration": 469,
    "start_time": "2021-07-27T09:52:06.353Z"
   },
   {
    "duration": 641,
    "start_time": "2021-07-27T09:52:20.648Z"
   },
   {
    "duration": 884,
    "start_time": "2021-07-27T09:53:02.505Z"
   },
   {
    "duration": 1617,
    "start_time": "2021-07-27T09:53:12.554Z"
   },
   {
    "duration": 1059,
    "start_time": "2021-07-27T09:53:21.849Z"
   },
   {
    "duration": 1641,
    "start_time": "2021-07-27T09:54:23.994Z"
   },
   {
    "duration": 1631,
    "start_time": "2021-07-27T09:59:08.969Z"
   },
   {
    "duration": 1669,
    "start_time": "2021-07-27T09:59:44.795Z"
   },
   {
    "duration": 7,
    "start_time": "2021-07-27T10:01:07.171Z"
   },
   {
    "duration": 58,
    "start_time": "2021-07-27T10:01:07.843Z"
   },
   {
    "duration": 7,
    "start_time": "2021-07-27T10:01:08.706Z"
   },
   {
    "duration": 35,
    "start_time": "2021-07-27T10:01:09.313Z"
   },
   {
    "duration": 1511,
    "start_time": "2021-07-27T10:01:10.409Z"
   },
   {
    "duration": 1510,
    "start_time": "2021-07-27T10:01:15.849Z"
   },
   {
    "duration": 289,
    "start_time": "2021-07-27T10:01:17.568Z"
   },
   {
    "duration": 1475,
    "start_time": "2021-07-27T10:01:18.833Z"
   },
   {
    "duration": 6,
    "start_time": "2021-07-27T10:01:47.035Z"
   },
   {
    "duration": 10,
    "start_time": "2021-07-27T10:18:16.900Z"
   },
   {
    "duration": 529,
    "start_time": "2021-07-27T10:18:28.932Z"
   },
   {
    "duration": 5,
    "start_time": "2021-07-27T10:18:41.755Z"
   },
   {
    "duration": 12,
    "start_time": "2021-07-27T10:18:42.459Z"
   },
   {
    "duration": 26,
    "start_time": "2021-07-27T10:18:55.772Z"
   },
   {
    "duration": 14,
    "start_time": "2021-07-27T10:22:48.981Z"
   },
   {
    "duration": 1711,
    "start_time": "2021-07-27T14:02:48.903Z"
   },
   {
    "duration": 64,
    "start_time": "2021-07-27T14:02:50.617Z"
   },
   {
    "duration": 8,
    "start_time": "2021-07-27T14:02:51.600Z"
   },
   {
    "duration": 18,
    "start_time": "2021-07-27T14:02:52.345Z"
   },
   {
    "duration": 1086,
    "start_time": "2021-07-27T14:02:53.850Z"
   },
   {
    "duration": 1558,
    "start_time": "2021-07-27T14:02:54.939Z"
   },
   {
    "duration": 286,
    "start_time": "2021-07-27T14:03:06.594Z"
   },
   {
    "duration": 1119,
    "start_time": "2021-07-27T14:03:08.234Z"
   },
   {
    "duration": 10,
    "start_time": "2021-07-27T14:03:27.610Z"
   },
   {
    "duration": 6,
    "start_time": "2021-07-27T14:03:33.466Z"
   },
   {
    "duration": 69,
    "start_time": "2021-07-27T14:23:39.972Z"
   },
   {
    "duration": 39,
    "start_time": "2021-07-27T14:24:22.564Z"
   },
   {
    "duration": 68,
    "start_time": "2021-07-27T14:24:25.228Z"
   },
   {
    "duration": 8,
    "start_time": "2021-07-27T14:24:25.426Z"
   },
   {
    "duration": 17,
    "start_time": "2021-07-27T14:24:25.563Z"
   },
   {
    "duration": 942,
    "start_time": "2021-07-27T14:24:25.858Z"
   },
   {
    "duration": 1512,
    "start_time": "2021-07-27T14:24:26.802Z"
   },
   {
    "duration": 295,
    "start_time": "2021-07-27T14:24:28.317Z"
   },
   {
    "duration": 1059,
    "start_time": "2021-07-27T14:24:28.615Z"
   },
   {
    "duration": 14,
    "start_time": "2021-07-27T14:24:29.677Z"
   },
   {
    "duration": 9,
    "start_time": "2021-07-27T14:24:29.694Z"
   },
   {
    "duration": 43,
    "start_time": "2021-07-27T14:24:29.705Z"
   },
   {
    "duration": 41,
    "start_time": "2021-07-27T14:24:29.752Z"
   },
   {
    "duration": 9,
    "start_time": "2021-07-27T14:26:01.164Z"
   },
   {
    "duration": 16,
    "start_time": "2021-07-27T14:26:08.540Z"
   },
   {
    "duration": 6,
    "start_time": "2021-07-27T14:27:05.291Z"
   },
   {
    "duration": 11,
    "start_time": "2021-07-27T14:27:48.917Z"
   },
   {
    "duration": 14,
    "start_time": "2021-07-27T14:27:57.068Z"
   },
   {
    "duration": 34,
    "start_time": "2021-07-27T14:28:13.158Z"
   },
   {
    "duration": 19,
    "start_time": "2021-07-27T14:28:14.021Z"
   },
   {
    "duration": 15,
    "start_time": "2021-07-27T14:28:15.579Z"
   },
   {
    "duration": 15,
    "start_time": "2021-07-27T14:28:20.132Z"
   },
   {
    "duration": 51,
    "start_time": "2021-07-27T14:28:33.301Z"
   },
   {
    "duration": 14,
    "start_time": "2021-07-27T14:28:34.652Z"
   },
   {
    "duration": 104,
    "start_time": "2021-07-27T14:28:36.883Z"
   },
   {
    "duration": 35,
    "start_time": "2021-07-27T14:28:43.524Z"
   },
   {
    "duration": 37,
    "start_time": "2021-07-27T14:28:48.300Z"
   },
   {
    "duration": 36,
    "start_time": "2021-07-27T14:28:55.332Z"
   },
   {
    "duration": 56,
    "start_time": "2021-07-27T14:29:19.950Z"
   },
   {
    "duration": 5,
    "start_time": "2021-07-27T14:29:36.604Z"
   },
   {
    "duration": 60,
    "start_time": "2021-07-27T14:29:36.611Z"
   },
   {
    "duration": 7,
    "start_time": "2021-07-27T14:29:36.674Z"
   },
   {
    "duration": 16,
    "start_time": "2021-07-27T14:29:36.685Z"
   },
   {
    "duration": 919,
    "start_time": "2021-07-27T14:29:36.703Z"
   },
   {
    "duration": 1594,
    "start_time": "2021-07-27T14:29:37.625Z"
   },
   {
    "duration": 301,
    "start_time": "2021-07-27T14:29:39.222Z"
   },
   {
    "duration": 1150,
    "start_time": "2021-07-27T14:29:39.527Z"
   },
   {
    "duration": 14,
    "start_time": "2021-07-27T14:29:40.679Z"
   },
   {
    "duration": 8,
    "start_time": "2021-07-27T14:29:40.696Z"
   },
   {
    "duration": 5,
    "start_time": "2021-07-27T14:29:43.692Z"
   },
   {
    "duration": 34,
    "start_time": "2021-07-27T14:29:44.332Z"
   },
   {
    "duration": 15,
    "start_time": "2021-07-27T14:29:47.955Z"
   },
   {
    "duration": 12,
    "start_time": "2021-07-27T14:29:49.915Z"
   },
   {
    "duration": 36,
    "start_time": "2021-07-27T14:29:56.460Z"
   },
   {
    "duration": 14,
    "start_time": "2021-07-27T14:30:07.125Z"
   },
   {
    "duration": 13,
    "start_time": "2021-07-27T14:30:08.731Z"
   },
   {
    "duration": 32,
    "start_time": "2021-07-27T14:31:43.237Z"
   },
   {
    "duration": 13,
    "start_time": "2021-07-27T14:31:47.811Z"
   },
   {
    "duration": 13,
    "start_time": "2021-07-27T14:31:49.355Z"
   },
   {
    "duration": 30,
    "start_time": "2021-07-27T14:31:54.868Z"
   },
   {
    "duration": 13,
    "start_time": "2021-07-27T14:31:56.203Z"
   },
   {
    "duration": 15,
    "start_time": "2021-07-27T14:31:57.507Z"
   },
   {
    "duration": 28,
    "start_time": "2021-07-27T14:32:02.935Z"
   },
   {
    "duration": 5,
    "start_time": "2021-07-27T14:32:07.955Z"
   },
   {
    "duration": 61,
    "start_time": "2021-07-27T14:32:07.963Z"
   },
   {
    "duration": 7,
    "start_time": "2021-07-27T14:32:08.027Z"
   },
   {
    "duration": 18,
    "start_time": "2021-07-27T14:32:08.037Z"
   },
   {
    "duration": 952,
    "start_time": "2021-07-27T14:32:08.057Z"
   },
   {
    "duration": 1478,
    "start_time": "2021-07-27T14:32:09.013Z"
   },
   {
    "duration": 288,
    "start_time": "2021-07-27T14:32:10.494Z"
   },
   {
    "duration": 1036,
    "start_time": "2021-07-27T14:32:10.786Z"
   },
   {
    "duration": 9,
    "start_time": "2021-07-27T14:32:11.824Z"
   },
   {
    "duration": 6,
    "start_time": "2021-07-27T14:32:11.835Z"
   },
   {
    "duration": 7,
    "start_time": "2021-07-27T14:32:13.916Z"
   },
   {
    "duration": 31,
    "start_time": "2021-07-27T14:32:14.908Z"
   },
   {
    "duration": 15,
    "start_time": "2021-07-27T14:32:18.259Z"
   },
   {
    "duration": 13,
    "start_time": "2021-07-27T14:32:19.707Z"
   },
   {
    "duration": 10046,
    "start_time": "2021-07-27T14:37:26.620Z"
   },
   {
    "duration": 15784,
    "start_time": "2021-07-27T14:38:14.989Z"
   },
   {
    "duration": 7,
    "start_time": "2021-07-27T14:38:36.068Z"
   },
   {
    "duration": 5,
    "start_time": "2021-07-27T14:38:40.821Z"
   },
   {
    "duration": 13,
    "start_time": "2021-07-27T14:38:48.804Z"
   },
   {
    "duration": 391,
    "start_time": "2021-07-27T14:40:55.463Z"
   },
   {
    "duration": 8,
    "start_time": "2021-07-27T14:41:08.829Z"
   },
   {
    "duration": 405,
    "start_time": "2021-07-27T14:43:22.078Z"
   },
   {
    "duration": 400,
    "start_time": "2021-07-27T14:43:56.141Z"
   },
   {
    "duration": 8,
    "start_time": "2021-07-27T14:44:08.933Z"
   },
   {
    "duration": 14,
    "start_time": "2021-07-27T14:55:01.614Z"
   },
   {
    "duration": 393,
    "start_time": "2021-07-27T14:55:12.102Z"
   },
   {
    "duration": 136,
    "start_time": "2021-07-27T15:02:33.688Z"
   },
   {
    "duration": 491,
    "start_time": "2021-07-27T15:02:38.807Z"
   },
   {
    "duration": 7,
    "start_time": "2021-07-27T15:07:04.008Z"
   },
   {
    "duration": 6,
    "start_time": "2021-07-27T15:09:33.551Z"
   },
   {
    "duration": 853,
    "start_time": "2021-07-27T15:10:42.135Z"
   },
   {
    "duration": 25,
    "start_time": "2021-07-27T15:14:27.406Z"
   },
   {
    "duration": 875,
    "start_time": "2021-07-27T15:15:50.872Z"
   },
   {
    "duration": 28631,
    "start_time": "2021-07-27T15:15:59.992Z"
   },
   {
    "duration": 231095,
    "start_time": "2021-07-27T15:18:40.035Z"
   },
   {
    "duration": 82,
    "start_time": "2021-07-27T15:23:09.664Z"
   },
   {
    "duration": 8,
    "start_time": "2021-07-27T15:23:36.800Z"
   },
   {
    "duration": 93,
    "start_time": "2021-07-27T15:23:51.809Z"
   },
   {
    "duration": 413,
    "start_time": "2021-07-27T15:25:21.768Z"
   },
   {
    "duration": 421,
    "start_time": "2021-07-27T15:25:26.335Z"
   },
   {
    "duration": 439,
    "start_time": "2021-07-27T15:25:30.416Z"
   },
   {
    "duration": 440,
    "start_time": "2021-07-27T15:25:45.472Z"
   },
   {
    "duration": 462,
    "start_time": "2021-07-27T15:26:18.552Z"
   },
   {
    "duration": 6,
    "start_time": "2021-07-27T15:26:28.535Z"
   },
   {
    "duration": 896,
    "start_time": "2021-07-27T15:26:58.392Z"
   },
   {
    "duration": 823,
    "start_time": "2021-07-27T15:27:43.865Z"
   },
   {
    "duration": 1027,
    "start_time": "2021-07-27T15:28:03.369Z"
   },
   {
    "duration": 1838,
    "start_time": "2021-07-27T17:24:29.905Z"
   },
   {
    "duration": 176,
    "start_time": "2021-07-27T17:24:31.746Z"
   },
   {
    "duration": 8,
    "start_time": "2021-07-27T17:24:31.926Z"
   },
   {
    "duration": 28,
    "start_time": "2021-07-27T17:24:31.959Z"
   },
   {
    "duration": 1119,
    "start_time": "2021-07-27T17:24:33.160Z"
   },
   {
    "duration": 1606,
    "start_time": "2021-07-27T17:24:34.281Z"
   },
   {
    "duration": 305,
    "start_time": "2021-07-27T17:24:35.899Z"
   },
   {
    "duration": 1178,
    "start_time": "2021-07-27T17:24:36.207Z"
   },
   {
    "duration": 11,
    "start_time": "2021-07-27T17:24:37.399Z"
   },
   {
    "duration": 7,
    "start_time": "2021-07-27T17:24:37.415Z"
   },
   {
    "duration": 36,
    "start_time": "2021-07-27T17:24:39.898Z"
   },
   {
    "duration": 15,
    "start_time": "2021-07-27T17:24:43.024Z"
   },
   {
    "duration": 7,
    "start_time": "2021-07-27T17:24:43.835Z"
   },
   {
    "duration": 7,
    "start_time": "2021-07-27T17:24:47.653Z"
   },
   {
    "duration": 7,
    "start_time": "2021-07-27T17:24:48.589Z"
   },
   {
    "duration": 12,
    "start_time": "2021-07-27T17:24:52.755Z"
   },
   {
    "duration": 680,
    "start_time": "2021-07-27T17:25:17.942Z"
   },
   {
    "duration": 448,
    "start_time": "2021-07-27T17:25:26.430Z"
   },
   {
    "duration": 36,
    "start_time": "2021-07-27T17:25:35.164Z"
   },
   {
    "duration": 7,
    "start_time": "2021-07-27T17:26:48.732Z"
   },
   {
    "duration": 8,
    "start_time": "2021-07-27T17:27:56.882Z"
   },
   {
    "duration": 367,
    "start_time": "2021-07-27T17:29:01.134Z"
   },
   {
    "duration": 8,
    "start_time": "2021-07-27T17:30:52.417Z"
   },
   {
    "duration": 532,
    "start_time": "2021-07-27T17:31:30.706Z"
   },
   {
    "duration": 1357,
    "start_time": "2021-07-27T17:33:34.892Z"
   },
   {
    "duration": 6644,
    "start_time": "2021-07-27T17:33:48.982Z"
   },
   {
    "duration": 6803,
    "start_time": "2021-07-27T17:34:04.746Z"
   },
   {
    "duration": 489,
    "start_time": "2021-07-27T17:35:17.724Z"
   },
   {
    "duration": 665,
    "start_time": "2021-07-27T17:35:50.839Z"
   },
   {
    "duration": 520,
    "start_time": "2021-07-27T17:36:34.688Z"
   },
   {
    "duration": 2327,
    "start_time": "2021-07-27T17:36:51.509Z"
   },
   {
    "duration": 83,
    "start_time": "2021-07-27T17:41:44.838Z"
   },
   {
    "duration": 467,
    "start_time": "2021-07-27T17:41:58.745Z"
   },
   {
    "duration": 154,
    "start_time": "2021-07-27T17:42:08.216Z"
   },
   {
    "duration": 137,
    "start_time": "2021-07-27T17:42:27.866Z"
   },
   {
    "duration": 180,
    "start_time": "2021-07-27T17:42:34.051Z"
   },
   {
    "duration": 1365,
    "start_time": "2021-07-27T17:42:44.241Z"
   },
   {
    "duration": 8831,
    "start_time": "2021-07-27T17:43:11.481Z"
   },
   {
    "duration": 911,
    "start_time": "2021-07-27T17:44:03.196Z"
   },
   {
    "duration": 569,
    "start_time": "2021-07-27T17:44:25.952Z"
   },
   {
    "duration": 121,
    "start_time": "2021-07-27T17:45:19.289Z"
   },
   {
    "duration": 554,
    "start_time": "2021-07-27T17:45:28.690Z"
   },
   {
    "duration": 364,
    "start_time": "2021-07-27T17:45:39.950Z"
   },
   {
    "duration": 981,
    "start_time": "2021-07-27T17:45:59.388Z"
   },
   {
    "duration": 371,
    "start_time": "2021-07-27T17:46:07.907Z"
   },
   {
    "duration": 382,
    "start_time": "2021-07-27T17:46:18.040Z"
   },
   {
    "duration": 684,
    "start_time": "2021-07-27T17:46:26.450Z"
   },
   {
    "duration": 469,
    "start_time": "2021-07-27T17:46:36.303Z"
   },
   {
    "duration": 370,
    "start_time": "2021-07-27T17:46:39.884Z"
   },
   {
    "duration": 327,
    "start_time": "2021-07-27T17:47:24.931Z"
   },
   {
    "duration": 232959,
    "start_time": "2021-07-27T17:51:56.363Z"
   },
   {
    "duration": 367,
    "start_time": "2021-07-27T17:56:17.134Z"
   },
   {
    "duration": 5592,
    "start_time": "2021-07-27T17:56:29.966Z"
   },
   {
    "duration": 52150,
    "start_time": "2021-07-27T17:56:40.656Z"
   },
   {
    "duration": 18,
    "start_time": "2021-07-27T17:58:24.217Z"
   },
   {
    "duration": 249,
    "start_time": "2021-07-27T17:58:43.627Z"
   },
   {
    "duration": 14,
    "start_time": "2021-07-27T17:58:50.257Z"
   },
   {
    "duration": 288,
    "start_time": "2021-07-27T17:59:09.212Z"
   },
   {
    "duration": 298,
    "start_time": "2021-07-27T17:59:22.531Z"
   },
   {
    "duration": 7,
    "start_time": "2021-07-27T18:00:03.181Z"
   },
   {
    "duration": 33,
    "start_time": "2021-07-27T18:02:00.344Z"
   },
   {
    "duration": 94,
    "start_time": "2021-07-27T18:04:39.624Z"
   },
   {
    "duration": 418,
    "start_time": "2021-07-27T18:04:52.692Z"
   },
   {
    "duration": 859,
    "start_time": "2021-07-27T18:04:57.954Z"
   },
   {
    "duration": 2346,
    "start_time": "2021-07-27T18:05:04.826Z"
   },
   {
    "duration": 236,
    "start_time": "2021-07-27T18:05:22.438Z"
   },
   {
    "duration": 125,
    "start_time": "2021-07-27T18:05:56.737Z"
   },
   {
    "duration": 250,
    "start_time": "2021-07-27T18:06:00.686Z"
   },
   {
    "duration": 369,
    "start_time": "2021-07-27T18:06:23.064Z"
   },
   {
    "duration": 4,
    "start_time": "2021-07-27T18:09:01.068Z"
   },
   {
    "duration": 144085,
    "start_time": "2021-07-27T18:09:55.403Z"
   },
   {
    "duration": 20503,
    "start_time": "2021-07-27T18:12:40.569Z"
   },
   {
    "duration": 107697,
    "start_time": "2021-07-27T18:13:04.911Z"
   },
   {
    "duration": 79761,
    "start_time": "2021-07-27T18:15:17.844Z"
   },
   {
    "duration": 9,
    "start_time": "2021-07-27T18:16:37.608Z"
   },
   {
    "duration": 6,
    "start_time": "2021-07-27T18:23:28.909Z"
   },
   {
    "duration": 4,
    "start_time": "2021-07-27T18:27:22.446Z"
   },
   {
    "duration": 6,
    "start_time": "2021-07-27T18:27:27.227Z"
   },
   {
    "duration": 7,
    "start_time": "2021-07-27T18:30:06.523Z"
   },
   {
    "duration": 136,
    "start_time": "2021-07-27T18:33:47.693Z"
   },
   {
    "duration": 679,
    "start_time": "2021-07-27T18:34:13.970Z"
   },
   {
    "duration": 9404,
    "start_time": "2021-07-27T18:34:33.575Z"
   },
   {
    "duration": 128,
    "start_time": "2021-07-27T18:36:29.029Z"
   },
   {
    "duration": 2347,
    "start_time": "2021-07-27T18:36:34.357Z"
   },
   {
    "duration": 15,
    "start_time": "2021-07-27T18:37:20.654Z"
   },
   {
    "duration": 5,
    "start_time": "2021-07-27T18:38:55.961Z"
   },
   {
    "duration": 73,
    "start_time": "2021-07-27T18:38:57.589Z"
   },
   {
    "duration": 9,
    "start_time": "2021-07-27T18:38:57.926Z"
   },
   {
    "duration": 23,
    "start_time": "2021-07-27T18:38:58.229Z"
   },
   {
    "duration": 1031,
    "start_time": "2021-07-27T18:38:58.592Z"
   },
   {
    "duration": 1712,
    "start_time": "2021-07-27T18:38:59.626Z"
   },
   {
    "duration": 379,
    "start_time": "2021-07-27T18:39:01.342Z"
   },
   {
    "duration": 1149,
    "start_time": "2021-07-27T18:39:01.725Z"
   },
   {
    "duration": 23,
    "start_time": "2021-07-27T18:39:02.877Z"
   },
   {
    "duration": 7,
    "start_time": "2021-07-27T18:39:02.903Z"
   },
   {
    "duration": 42,
    "start_time": "2021-07-27T18:39:02.914Z"
   },
   {
    "duration": 14,
    "start_time": "2021-07-27T18:39:02.959Z"
   },
   {
    "duration": 14,
    "start_time": "2021-07-27T18:39:03.003Z"
   },
   {
    "duration": 11,
    "start_time": "2021-07-27T18:39:03.021Z"
   },
   {
    "duration": 8,
    "start_time": "2021-07-27T18:39:03.034Z"
   },
   {
    "duration": 17,
    "start_time": "2021-07-27T18:39:05.196Z"
   },
   {
    "duration": 7133,
    "start_time": "2021-07-27T18:39:07.328Z"
   },
   {
    "duration": 2525,
    "start_time": "2021-07-27T18:39:14.464Z"
   },
   {
    "duration": 118,
    "start_time": "2021-07-27T18:39:46.753Z"
   },
   {
    "duration": 6926,
    "start_time": "2021-07-27T18:39:58.452Z"
   },
   {
    "duration": 6913,
    "start_time": "2021-07-27T18:40:14.214Z"
   },
   {
    "duration": 2518,
    "start_time": "2021-07-27T18:40:41.962Z"
   },
   {
    "duration": 823,
    "start_time": "2021-07-27T18:43:49.567Z"
   },
   {
    "duration": 1089,
    "start_time": "2021-07-27T18:43:57.812Z"
   },
   {
    "duration": 6749,
    "start_time": "2021-07-27T18:44:06.333Z"
   },
   {
    "duration": 19,
    "start_time": "2021-07-27T18:44:13.086Z"
   },
   {
    "duration": 1158,
    "start_time": "2021-07-27T18:44:27.156Z"
   },
   {
    "duration": 3065,
    "start_time": "2021-07-27T18:44:53.895Z"
   },
   {
    "duration": 347,
    "start_time": "2021-07-27T18:45:20.582Z"
   },
   {
    "duration": 3028,
    "start_time": "2021-07-27T18:45:30.117Z"
   },
   {
    "duration": 364679,
    "start_time": "2021-07-27T18:47:21.644Z"
   },
   {
    "duration": 2071,
    "start_time": "2021-07-27T18:55:28.518Z"
   },
   {
    "duration": 126,
    "start_time": "2021-07-27T18:56:07.065Z"
   },
   {
    "duration": 24822,
    "start_time": "2021-07-27T18:56:12.886Z"
   },
   {
    "duration": 37,
    "start_time": "2021-07-27T18:58:37.488Z"
   },
   {
    "duration": 15,
    "start_time": "2021-07-27T18:58:39.359Z"
   },
   {
    "duration": 7,
    "start_time": "2021-07-27T18:58:40.162Z"
   },
   {
    "duration": 7,
    "start_time": "2021-07-27T18:58:42.999Z"
   },
   {
    "duration": 7,
    "start_time": "2021-07-27T18:58:44.374Z"
   },
   {
    "duration": 15,
    "start_time": "2021-07-27T18:58:47.282Z"
   },
   {
    "duration": 10038,
    "start_time": "2021-07-27T18:58:51.052Z"
   },
   {
    "duration": 6836,
    "start_time": "2021-07-27T18:59:04.750Z"
   },
   {
    "duration": 3228,
    "start_time": "2021-07-27T18:59:14.334Z"
   },
   {
    "duration": 97822,
    "start_time": "2021-07-27T18:59:23.610Z"
   },
   {
    "duration": 45802,
    "start_time": "2021-07-27T19:01:01.501Z"
   },
   {
    "duration": 346,
    "start_time": "2021-07-27T19:03:13.217Z"
   },
   {
    "duration": 356,
    "start_time": "2021-07-27T19:03:18.594Z"
   },
   {
    "duration": 6,
    "start_time": "2021-07-27T19:03:44.447Z"
   },
   {
    "duration": 7678,
    "start_time": "2021-07-27T19:03:58.637Z"
   },
   {
    "duration": 202,
    "start_time": "2021-07-27T19:05:03.205Z"
   },
   {
    "duration": 12,
    "start_time": "2021-07-27T19:08:17.185Z"
   },
   {
    "duration": 11787,
    "start_time": "2021-07-27T19:09:05.804Z"
   },
   {
    "duration": 181882,
    "start_time": "2021-07-27T19:09:19.432Z"
   },
   {
    "duration": 171756,
    "start_time": "2021-07-27T19:13:43.263Z"
   },
   {
    "duration": 257493,
    "start_time": "2021-07-27T19:19:31.919Z"
   },
   {
    "duration": 3,
    "start_time": "2021-07-27T19:25:46.098Z"
   },
   {
    "duration": 6,
    "start_time": "2021-07-27T19:27:45.397Z"
   },
   {
    "duration": 361,
    "start_time": "2021-07-27T19:28:07.764Z"
   },
   {
    "duration": 364,
    "start_time": "2021-07-27T19:28:20.573Z"
   },
   {
    "duration": 363,
    "start_time": "2021-07-27T19:28:28.386Z"
   },
   {
    "duration": 17,
    "start_time": "2021-07-27T19:28:50.503Z"
   },
   {
    "duration": 25,
    "start_time": "2021-07-27T19:29:05.806Z"
   },
   {
    "duration": 35,
    "start_time": "2021-07-27T19:29:11.471Z"
   },
   {
    "duration": 4,
    "start_time": "2021-07-27T19:29:22.866Z"
   },
   {
    "duration": 6,
    "start_time": "2021-07-27T19:29:28.993Z"
   },
   {
    "duration": 359,
    "start_time": "2021-07-27T19:29:56.493Z"
   },
   {
    "duration": 4,
    "start_time": "2021-07-27T19:30:01.343Z"
   },
   {
    "duration": 472,
    "start_time": "2021-07-27T19:30:01.793Z"
   },
   {
    "duration": 4,
    "start_time": "2021-07-27T19:30:28.237Z"
   },
   {
    "duration": 4,
    "start_time": "2021-07-27T19:30:30.678Z"
   },
   {
    "duration": 4,
    "start_time": "2021-07-27T19:30:31.578Z"
   },
   {
    "duration": 17950,
    "start_time": "2021-07-27T19:31:07.766Z"
   },
   {
    "duration": 7537,
    "start_time": "2021-07-27T19:31:31.988Z"
   },
   {
    "duration": 26638,
    "start_time": "2021-07-27T19:31:42.217Z"
   },
   {
    "duration": 275399,
    "start_time": "2021-07-27T19:32:34.650Z"
   },
   {
    "duration": 85,
    "start_time": "2021-07-27T19:40:47.287Z"
   },
   {
    "duration": 89,
    "start_time": "2021-07-27T19:41:08.964Z"
   },
   {
    "duration": 398,
    "start_time": "2021-07-27T19:41:19.246Z"
   },
   {
    "duration": 1528,
    "start_time": "2021-07-27T19:47:55.536Z"
   },
   {
    "duration": 61,
    "start_time": "2021-07-27T19:47:57.067Z"
   },
   {
    "duration": 8,
    "start_time": "2021-07-27T19:47:57.132Z"
   },
   {
    "duration": 21,
    "start_time": "2021-07-27T19:47:57.142Z"
   },
   {
    "duration": 995,
    "start_time": "2021-07-27T19:47:57.166Z"
   },
   {
    "duration": 1581,
    "start_time": "2021-07-27T19:47:58.164Z"
   },
   {
    "duration": 296,
    "start_time": "2021-07-27T19:47:59.747Z"
   },
   {
    "duration": 1118,
    "start_time": "2021-07-27T19:48:00.047Z"
   },
   {
    "duration": 9,
    "start_time": "2021-07-27T19:48:01.168Z"
   },
   {
    "duration": 23,
    "start_time": "2021-07-27T19:48:01.180Z"
   },
   {
    "duration": 62,
    "start_time": "2021-07-27T19:48:01.206Z"
   },
   {
    "duration": 29,
    "start_time": "2021-07-27T19:48:01.271Z"
   },
   {
    "duration": 33,
    "start_time": "2021-07-27T19:48:01.304Z"
   },
   {
    "duration": 10,
    "start_time": "2021-07-27T19:48:01.340Z"
   },
   {
    "duration": 14,
    "start_time": "2021-07-27T19:48:01.353Z"
   },
   {
    "duration": 46,
    "start_time": "2021-07-27T19:48:01.370Z"
   },
   {
    "duration": 9746,
    "start_time": "2021-07-27T19:48:01.420Z"
   },
   {
    "duration": 7224,
    "start_time": "2021-07-27T19:48:11.169Z"
   },
   {
    "duration": 3160,
    "start_time": "2021-07-27T19:48:18.399Z"
   },
   {
    "duration": 129,
    "start_time": "2021-07-27T19:48:21.561Z"
   },
   {
    "duration": 491,
    "start_time": "2021-07-27T19:48:21.203Z"
   },
   {
    "duration": 63641,
    "start_time": "2021-07-27T19:51:25.049Z"
   },
   {
    "duration": 1540,
    "start_time": "2021-07-28T07:53:25.886Z"
   },
   {
    "duration": 60,
    "start_time": "2021-07-28T07:53:27.429Z"
   },
   {
    "duration": 6,
    "start_time": "2021-07-28T07:53:27.492Z"
   },
   {
    "duration": 21,
    "start_time": "2021-07-28T07:53:27.501Z"
   },
   {
    "duration": 978,
    "start_time": "2021-07-28T07:53:27.524Z"
   },
   {
    "duration": 1558,
    "start_time": "2021-07-28T07:53:28.504Z"
   },
   {
    "duration": 317,
    "start_time": "2021-07-28T07:53:30.065Z"
   },
   {
    "duration": 1076,
    "start_time": "2021-07-28T07:53:30.386Z"
   },
   {
    "duration": 9,
    "start_time": "2021-07-28T07:53:31.465Z"
   },
   {
    "duration": 37,
    "start_time": "2021-07-28T07:53:31.477Z"
   },
   {
    "duration": 58,
    "start_time": "2021-07-28T07:53:31.517Z"
   },
   {
    "duration": 13,
    "start_time": "2021-07-28T07:53:31.578Z"
   },
   {
    "duration": 47,
    "start_time": "2021-07-28T07:53:31.594Z"
   },
   {
    "duration": 8,
    "start_time": "2021-07-28T07:53:31.643Z"
   },
   {
    "duration": 7,
    "start_time": "2021-07-28T07:53:31.656Z"
   },
   {
    "duration": 33,
    "start_time": "2021-07-28T07:53:31.666Z"
   },
   {
    "duration": 9796,
    "start_time": "2021-07-28T07:53:31.701Z"
   },
   {
    "duration": 7107,
    "start_time": "2021-07-28T07:53:41.500Z"
   },
   {
    "duration": 3373,
    "start_time": "2021-07-28T07:53:48.609Z"
   },
   {
    "duration": 4885,
    "start_time": "2021-07-28T07:53:51.985Z"
   },
   {
    "duration": 291,
    "start_time": "2021-07-28T07:53:56.873Z"
   },
   {
    "duration": 7,
    "start_time": "2021-07-28T07:55:28.307Z"
   },
   {
    "duration": 8,
    "start_time": "2021-07-28T07:55:34.232Z"
   },
   {
    "duration": 18,
    "start_time": "2021-07-28T07:59:06.058Z"
   },
   {
    "duration": 18,
    "start_time": "2021-07-28T08:02:32.700Z"
   },
   {
    "duration": 1010,
    "start_time": "2021-07-28T08:09:46.432Z"
   },
   {
    "duration": 1057,
    "start_time": "2021-07-28T08:10:08.624Z"
   },
   {
    "duration": 987,
    "start_time": "2021-07-28T08:10:56.805Z"
   },
   {
    "duration": 748,
    "start_time": "2021-07-28T08:11:07.112Z"
   },
   {
    "duration": 1051,
    "start_time": "2021-07-28T08:12:02.607Z"
   },
   {
    "duration": 1057,
    "start_time": "2021-07-28T08:12:13.755Z"
   },
   {
    "duration": 1286,
    "start_time": "2021-07-28T08:12:53.136Z"
   },
   {
    "duration": 1467,
    "start_time": "2021-07-28T08:14:40.021Z"
   },
   {
    "duration": 287,
    "start_time": "2021-07-28T08:17:29.709Z"
   },
   {
    "duration": 1079,
    "start_time": "2021-07-28T08:23:36.996Z"
   },
   {
    "duration": 1147,
    "start_time": "2021-07-28T08:34:38.129Z"
   },
   {
    "duration": 64,
    "start_time": "2021-07-28T08:42:04.467Z"
   },
   {
    "duration": 16,
    "start_time": "2021-07-28T08:42:09.806Z"
   },
   {
    "duration": 31,
    "start_time": "2021-07-28T08:42:11.306Z"
   },
   {
    "duration": 29,
    "start_time": "2021-07-28T08:42:14.753Z"
   },
   {
    "duration": 131,
    "start_time": "2021-07-28T08:42:21.977Z"
   },
   {
    "duration": 14,
    "start_time": "2021-07-28T08:42:30.009Z"
   },
   {
    "duration": 29,
    "start_time": "2021-07-28T08:42:30.590Z"
   },
   {
    "duration": 52,
    "start_time": "2021-07-28T08:42:34.905Z"
   },
   {
    "duration": 18956,
    "start_time": "2021-07-28T08:42:50.917Z"
   },
   {
    "duration": 6,
    "start_time": "2021-07-28T08:46:10.222Z"
   },
   {
    "duration": 47,
    "start_time": "2021-07-28T08:46:10.930Z"
   },
   {
    "duration": 5,
    "start_time": "2021-07-28T08:46:35.240Z"
   },
   {
    "duration": 41,
    "start_time": "2021-07-28T08:46:36.603Z"
   },
   {
    "duration": 16,
    "start_time": "2021-07-28T08:46:51.180Z"
   },
   {
    "duration": 1193,
    "start_time": "2021-07-28T08:46:53.856Z"
   },
   {
    "duration": 1503,
    "start_time": "2021-07-28T08:46:55.055Z"
   },
   {
    "duration": 314,
    "start_time": "2021-07-28T08:46:56.560Z"
   },
   {
    "duration": 1069,
    "start_time": "2021-07-28T08:46:56.876Z"
   },
   {
    "duration": 5,
    "start_time": "2021-07-28T08:46:58.801Z"
   },
   {
    "duration": 58,
    "start_time": "2021-07-28T08:47:00.285Z"
   },
   {
    "duration": 16,
    "start_time": "2021-07-28T08:47:02.593Z"
   },
   {
    "duration": 31,
    "start_time": "2021-07-28T08:47:04.054Z"
   },
   {
    "duration": 178,
    "start_time": "2021-07-28T08:47:07.280Z"
   },
   {
    "duration": 6,
    "start_time": "2021-07-28T08:47:34.932Z"
   },
   {
    "duration": 43,
    "start_time": "2021-07-28T08:47:36.978Z"
   },
   {
    "duration": 14,
    "start_time": "2021-07-28T08:47:45.538Z"
   },
   {
    "duration": 31,
    "start_time": "2021-07-28T08:47:46.638Z"
   },
   {
    "duration": 155,
    "start_time": "2021-07-28T08:47:50.803Z"
   },
   {
    "duration": 16,
    "start_time": "2021-07-28T08:48:00.991Z"
   },
   {
    "duration": 1171,
    "start_time": "2021-07-28T08:48:02.320Z"
   },
   {
    "duration": 1515,
    "start_time": "2021-07-28T08:48:03.493Z"
   },
   {
    "duration": 312,
    "start_time": "2021-07-28T08:48:05.011Z"
   },
   {
    "duration": 1086,
    "start_time": "2021-07-28T08:48:05.326Z"
   },
   {
    "duration": 6,
    "start_time": "2021-07-28T08:48:06.845Z"
   },
   {
    "duration": 62,
    "start_time": "2021-07-28T08:48:07.614Z"
   },
   {
    "duration": 15,
    "start_time": "2021-07-28T08:48:08.618Z"
   },
   {
    "duration": 32,
    "start_time": "2021-07-28T08:48:09.248Z"
   },
   {
    "duration": 127,
    "start_time": "2021-07-28T08:48:10.930Z"
   },
   {
    "duration": 6,
    "start_time": "2021-07-28T08:48:36.659Z"
   },
   {
    "duration": 58,
    "start_time": "2021-07-28T08:48:36.667Z"
   },
   {
    "duration": 6,
    "start_time": "2021-07-28T08:48:36.728Z"
   },
   {
    "duration": 32,
    "start_time": "2021-07-28T08:48:36.737Z"
   },
   {
    "duration": 1211,
    "start_time": "2021-07-28T08:48:36.772Z"
   },
   {
    "duration": 1668,
    "start_time": "2021-07-28T08:48:37.986Z"
   },
   {
    "duration": 316,
    "start_time": "2021-07-28T08:48:39.658Z"
   },
   {
    "duration": 1046,
    "start_time": "2021-07-28T08:48:39.978Z"
   },
   {
    "duration": 4,
    "start_time": "2021-07-28T08:48:41.030Z"
   },
   {
    "duration": 57,
    "start_time": "2021-07-28T08:48:41.053Z"
   },
   {
    "duration": 15,
    "start_time": "2021-07-28T08:48:41.113Z"
   },
   {
    "duration": 50,
    "start_time": "2021-07-28T08:48:41.130Z"
   },
   {
    "duration": 174,
    "start_time": "2021-07-28T08:48:41.183Z"
   },
   {
    "duration": 18132,
    "start_time": "2021-07-28T08:48:41.360Z"
   },
   {
    "duration": 12920,
    "start_time": "2021-07-28T08:48:59.495Z"
   },
   {
    "duration": 5998,
    "start_time": "2021-07-28T08:49:12.417Z"
   },
   {
    "duration": 7362,
    "start_time": "2021-07-28T08:49:18.417Z"
   },
   {
    "duration": 300,
    "start_time": "2021-07-28T08:49:25.855Z"
   },
   {
    "duration": 7,
    "start_time": "2021-07-28T08:49:26.157Z"
   },
   {
    "duration": 8,
    "start_time": "2021-07-28T08:49:26.167Z"
   },
   {
    "duration": 1591,
    "start_time": "2021-07-28T08:50:09.865Z"
   },
   {
    "duration": 1157,
    "start_time": "2021-07-28T08:50:20.002Z"
   },
   {
    "duration": 12143,
    "start_time": "2021-07-28T08:50:55.923Z"
   },
   {
    "duration": 1188,
    "start_time": "2021-07-28T08:51:13.068Z"
   },
   {
    "duration": 978,
    "start_time": "2021-07-28T08:51:44.585Z"
   },
   {
    "duration": 88,
    "start_time": "2021-07-28T08:54:52.766Z"
   },
   {
    "duration": 1007,
    "start_time": "2021-07-28T08:54:57.969Z"
   },
   {
    "duration": 6,
    "start_time": "2021-07-28T08:55:14.010Z"
   },
   {
    "duration": 985,
    "start_time": "2021-07-28T08:55:17.877Z"
   },
   {
    "duration": 1033,
    "start_time": "2021-07-28T08:55:40.740Z"
   },
   {
    "duration": 6354,
    "start_time": "2021-07-28T08:57:33.995Z"
   },
   {
    "duration": 984,
    "start_time": "2021-07-28T08:58:07.671Z"
   },
   {
    "duration": 983,
    "start_time": "2021-07-28T08:58:12.981Z"
   },
   {
    "duration": 6302,
    "start_time": "2021-07-28T08:58:19.442Z"
   },
   {
    "duration": 12681,
    "start_time": "2021-07-28T08:58:40.960Z"
   },
   {
    "duration": 14,
    "start_time": "2021-07-28T08:59:32.107Z"
   },
   {
    "duration": 16,
    "start_time": "2021-07-28T09:01:13.462Z"
   },
   {
    "duration": 15,
    "start_time": "2021-07-28T09:01:32.765Z"
   },
   {
    "duration": 15,
    "start_time": "2021-07-28T09:01:41.326Z"
   },
   {
    "duration": 159,
    "start_time": "2021-07-28T09:05:28.099Z"
   },
   {
    "duration": 19381,
    "start_time": "2021-07-28T09:09:43.244Z"
   },
   {
    "duration": 13604,
    "start_time": "2021-07-28T09:10:02.628Z"
   },
   {
    "duration": 6365,
    "start_time": "2021-07-28T09:10:16.234Z"
   },
   {
    "duration": 6404,
    "start_time": "2021-07-28T09:13:01.063Z"
   },
   {
    "duration": 936,
    "start_time": "2021-07-28T09:13:23.124Z"
   },
   {
    "duration": 1629,
    "start_time": "2021-07-28T09:17:37.120Z"
   },
   {
    "duration": 63,
    "start_time": "2021-07-28T09:17:38.752Z"
   },
   {
    "duration": 7,
    "start_time": "2021-07-28T09:17:38.818Z"
   },
   {
    "duration": 38,
    "start_time": "2021-07-28T09:17:38.827Z"
   },
   {
    "duration": 1126,
    "start_time": "2021-07-28T09:17:38.868Z"
   },
   {
    "duration": 1523,
    "start_time": "2021-07-28T09:17:39.996Z"
   },
   {
    "duration": 310,
    "start_time": "2021-07-28T09:17:41.521Z"
   },
   {
    "duration": 1078,
    "start_time": "2021-07-28T09:17:41.835Z"
   },
   {
    "duration": 5,
    "start_time": "2021-07-28T09:17:42.916Z"
   },
   {
    "duration": 77,
    "start_time": "2021-07-28T09:17:42.923Z"
   },
   {
    "duration": 18,
    "start_time": "2021-07-28T09:17:43.003Z"
   },
   {
    "duration": 137,
    "start_time": "2021-07-28T09:17:43.024Z"
   },
   {
    "duration": 18651,
    "start_time": "2021-07-28T09:17:43.164Z"
   },
   {
    "duration": 12994,
    "start_time": "2021-07-28T09:18:01.818Z"
   },
   {
    "duration": 6106,
    "start_time": "2021-07-28T09:18:14.815Z"
   },
   {
    "duration": 6731,
    "start_time": "2021-07-28T09:18:20.924Z"
   },
   {
    "duration": 1012,
    "start_time": "2021-07-28T09:18:27.657Z"
   },
   {
    "duration": 6,
    "start_time": "2021-07-28T09:18:28.672Z"
   },
   {
    "duration": 86,
    "start_time": "2021-07-28T09:18:28.680Z"
   },
   {
    "duration": 7,
    "start_time": "2021-07-28T09:24:09.539Z"
   },
   {
    "duration": 7,
    "start_time": "2021-07-28T09:25:11.361Z"
   },
   {
    "duration": 7,
    "start_time": "2021-07-28T09:25:14.576Z"
   },
   {
    "duration": 6,
    "start_time": "2021-07-28T09:30:13.565Z"
   },
   {
    "duration": 14,
    "start_time": "2021-07-28T09:30:18.930Z"
   },
   {
    "duration": 243,
    "start_time": "2021-07-28T09:30:54.776Z"
   },
   {
    "duration": 430,
    "start_time": "2021-07-28T09:31:30.665Z"
   },
   {
    "duration": 567,
    "start_time": "2021-07-28T09:32:13.847Z"
   },
   {
    "duration": 467,
    "start_time": "2021-07-28T09:32:26.309Z"
   },
   {
    "duration": 92,
    "start_time": "2021-07-28T09:33:44.006Z"
   },
   {
    "duration": 762,
    "start_time": "2021-07-28T09:33:50.901Z"
   },
   {
    "duration": 1054,
    "start_time": "2021-07-28T09:34:39.874Z"
   },
   {
    "duration": 653,
    "start_time": "2021-07-28T09:34:49.646Z"
   },
   {
    "duration": 679,
    "start_time": "2021-07-28T09:35:50.917Z"
   },
   {
    "duration": 692,
    "start_time": "2021-07-28T09:36:06.362Z"
   },
   {
    "duration": 697,
    "start_time": "2021-07-28T09:36:15.357Z"
   },
   {
    "duration": 991,
    "start_time": "2021-07-28T09:36:26.595Z"
   },
   {
    "duration": 895,
    "start_time": "2021-07-28T09:36:34.049Z"
   },
   {
    "duration": 911,
    "start_time": "2021-07-28T09:38:42.860Z"
   },
   {
    "duration": 863,
    "start_time": "2021-07-28T09:39:03.171Z"
   },
   {
    "duration": 244,
    "start_time": "2021-07-28T09:43:55.168Z"
   },
   {
    "duration": 67,
    "start_time": "2021-07-28T09:44:26.293Z"
   },
   {
    "duration": 6,
    "start_time": "2021-07-28T09:44:35.180Z"
   },
   {
    "duration": 486,
    "start_time": "2021-07-28T09:44:49.757Z"
   },
   {
    "duration": 600,
    "start_time": "2021-07-28T09:45:37.484Z"
   },
   {
    "duration": 498,
    "start_time": "2021-07-28T09:46:09.367Z"
   },
   {
    "duration": 611,
    "start_time": "2021-07-28T09:46:26.464Z"
   },
   {
    "duration": 460,
    "start_time": "2021-07-28T09:47:05.615Z"
   },
   {
    "duration": 501,
    "start_time": "2021-07-28T09:47:16.434Z"
   },
   {
    "duration": 587,
    "start_time": "2021-07-28T09:47:29.109Z"
   },
   {
    "duration": 531,
    "start_time": "2021-07-28T09:47:36.491Z"
   },
   {
    "duration": 553,
    "start_time": "2021-07-28T09:47:39.491Z"
   },
   {
    "duration": 455,
    "start_time": "2021-07-28T09:47:45.282Z"
   },
   {
    "duration": 449,
    "start_time": "2021-07-28T10:02:27.792Z"
   },
   {
    "duration": 949,
    "start_time": "2021-07-28T10:02:39.291Z"
   },
   {
    "duration": 1581,
    "start_time": "2021-07-28T10:02:53.355Z"
   },
   {
    "duration": 65,
    "start_time": "2021-07-28T10:02:54.939Z"
   },
   {
    "duration": 8,
    "start_time": "2021-07-28T10:02:55.008Z"
   },
   {
    "duration": 43,
    "start_time": "2021-07-28T10:02:55.018Z"
   },
   {
    "duration": 1125,
    "start_time": "2021-07-28T10:02:55.064Z"
   },
   {
    "duration": 1526,
    "start_time": "2021-07-28T10:02:56.191Z"
   },
   {
    "duration": 306,
    "start_time": "2021-07-28T10:02:57.719Z"
   },
   {
    "duration": 1055,
    "start_time": "2021-07-28T10:02:58.030Z"
   },
   {
    "duration": 6,
    "start_time": "2021-07-28T10:02:59.088Z"
   },
   {
    "duration": 80,
    "start_time": "2021-07-28T10:02:59.096Z"
   },
   {
    "duration": 20,
    "start_time": "2021-07-28T10:02:59.178Z"
   },
   {
    "duration": 158,
    "start_time": "2021-07-28T10:02:59.200Z"
   },
   {
    "duration": 19420,
    "start_time": "2021-07-28T10:02:59.368Z"
   },
   {
    "duration": 13102,
    "start_time": "2021-07-28T10:03:18.790Z"
   },
   {
    "duration": 6027,
    "start_time": "2021-07-28T10:03:31.895Z"
   },
   {
    "duration": 640235,
    "start_time": "2021-07-28T10:03:37.924Z"
   },
   {
    "duration": 88114,
    "start_time": "2021-07-28T10:14:18.162Z"
   },
   {
    "duration": 10,
    "start_time": "2021-07-28T10:15:46.279Z"
   },
   {
    "duration": 9,
    "start_time": "2021-07-28T10:15:46.356Z"
   },
   {
    "duration": 1264,
    "start_time": "2021-07-28T10:15:46.368Z"
   },
   {
    "duration": 644,
    "start_time": "2021-07-28T10:15:47.635Z"
   },
   {
    "duration": 439,
    "start_time": "2021-07-28T10:18:50.330Z"
   },
   {
    "duration": 1009,
    "start_time": "2021-07-28T10:18:59.318Z"
   },
   {
    "duration": 1575,
    "start_time": "2021-07-28T10:20:16.779Z"
   },
   {
    "duration": 67,
    "start_time": "2021-07-28T10:20:18.357Z"
   },
   {
    "duration": 7,
    "start_time": "2021-07-28T10:20:18.427Z"
   },
   {
    "duration": 40,
    "start_time": "2021-07-28T10:20:18.437Z"
   },
   {
    "duration": 1154,
    "start_time": "2021-07-28T10:20:18.480Z"
   },
   {
    "duration": 1654,
    "start_time": "2021-07-28T10:20:19.636Z"
   },
   {
    "duration": 314,
    "start_time": "2021-07-28T10:20:21.292Z"
   },
   {
    "duration": 1215,
    "start_time": "2021-07-28T10:20:21.610Z"
   },
   {
    "duration": 5,
    "start_time": "2021-07-28T10:20:22.828Z"
   },
   {
    "duration": 106,
    "start_time": "2021-07-28T10:20:22.836Z"
   },
   {
    "duration": 21,
    "start_time": "2021-07-28T10:20:22.944Z"
   },
   {
    "duration": 98,
    "start_time": "2021-07-28T10:20:22.969Z"
   },
   {
    "duration": 19503,
    "start_time": "2021-07-28T10:20:23.069Z"
   },
   {
    "duration": 13725,
    "start_time": "2021-07-28T10:20:42.574Z"
   },
   {
    "duration": 6369,
    "start_time": "2021-07-28T10:20:56.302Z"
   },
   {
    "duration": 632117,
    "start_time": "2021-07-28T10:21:02.674Z"
   },
   {
    "duration": -558,
    "start_time": "2021-07-28T10:31:35.353Z"
   },
   {
    "duration": -560,
    "start_time": "2021-07-28T10:31:35.357Z"
   },
   {
    "duration": -562,
    "start_time": "2021-07-28T10:31:35.361Z"
   },
   {
    "duration": -562,
    "start_time": "2021-07-28T10:31:35.364Z"
   },
   {
    "duration": -563,
    "start_time": "2021-07-28T10:31:35.367Z"
   },
   {
    "duration": 422497,
    "start_time": "2021-07-28T10:31:41.974Z"
   },
   {
    "duration": 109187,
    "start_time": "2021-07-28T10:38:44.474Z"
   },
   {
    "duration": 8,
    "start_time": "2021-07-28T10:40:33.664Z"
   },
   {
    "duration": 13,
    "start_time": "2021-07-28T10:40:33.674Z"
   },
   {
    "duration": 981,
    "start_time": "2021-07-28T10:40:33.690Z"
   },
   {
    "duration": 445,
    "start_time": "2021-07-28T10:40:34.673Z"
   },
   {
    "duration": 1892,
    "start_time": "2021-07-29T08:13:28.687Z"
   },
   {
    "duration": 71,
    "start_time": "2021-07-29T08:13:30.582Z"
   },
   {
    "duration": 9,
    "start_time": "2021-07-29T08:13:30.656Z"
   },
   {
    "duration": 45,
    "start_time": "2021-07-29T08:13:30.668Z"
   },
   {
    "duration": 84303,
    "start_time": "2021-07-29T08:13:30.716Z"
   },
   {
    "duration": 1000,
    "start_time": "2021-07-29T08:14:55.021Z"
   },
   {
    "duration": 216,
    "start_time": "2021-07-29T08:14:56.024Z"
   },
   {
    "duration": 787,
    "start_time": "2021-07-29T08:14:56.243Z"
   },
   {
    "duration": 5,
    "start_time": "2021-07-29T08:14:57.034Z"
   },
   {
    "duration": 79,
    "start_time": "2021-07-29T08:14:57.042Z"
   },
   {
    "duration": 110,
    "start_time": "2021-07-29T08:14:57.124Z"
   },
   {
    "duration": 220,
    "start_time": "2021-07-29T08:14:57.236Z"
   },
   {
    "duration": 19098,
    "start_time": "2021-07-29T08:14:57.460Z"
   },
   {
    "duration": 12793,
    "start_time": "2021-07-29T08:15:16.561Z"
   },
   {
    "duration": 6299,
    "start_time": "2021-07-29T08:15:29.357Z"
   },
   {
    "duration": 8701,
    "start_time": "2021-07-29T08:15:35.658Z"
   },
   {
    "duration": 1200,
    "start_time": "2021-07-29T08:15:44.361Z"
   },
   {
    "duration": 8,
    "start_time": "2021-07-29T08:15:45.563Z"
   },
   {
    "duration": 28,
    "start_time": "2021-07-29T08:15:45.573Z"
   },
   {
    "duration": 699,
    "start_time": "2021-07-29T08:15:45.604Z"
   },
   {
    "duration": 358,
    "start_time": "2021-07-29T08:15:46.306Z"
   },
   {
    "duration": 4,
    "start_time": "2021-07-29T09:20:34.366Z"
   },
   {
    "duration": 7,
    "start_time": "2021-07-29T09:20:34.790Z"
   },
   {
    "duration": 5,
    "start_time": "2021-07-29T09:35:00.107Z"
   },
   {
    "duration": 4,
    "start_time": "2021-07-29T10:57:17.597Z"
   },
   {
    "duration": 1627,
    "start_time": "2021-07-29T10:57:25.634Z"
   },
   {
    "duration": 7,
    "start_time": "2021-07-29T10:57:31.598Z"
   },
   {
    "duration": 86,
    "start_time": "2021-07-29T10:57:34.937Z"
   },
   {
    "duration": 8,
    "start_time": "2021-07-29T10:57:38.389Z"
   },
   {
    "duration": 21,
    "start_time": "2021-07-29T10:57:41.124Z"
   },
   {
    "duration": 8,
    "start_time": "2021-07-29T10:59:06.080Z"
   },
   {
    "duration": 4,
    "start_time": "2021-07-29T10:59:31.619Z"
   },
   {
    "duration": 6,
    "start_time": "2021-07-29T10:59:38.260Z"
   },
   {
    "duration": 4,
    "start_time": "2021-07-29T10:59:41.306Z"
   },
   {
    "duration": 5,
    "start_time": "2021-07-29T10:59:44.472Z"
   },
   {
    "duration": 92,
    "start_time": "2021-07-29T10:59:51.595Z"
   },
   {
    "duration": 4,
    "start_time": "2021-07-29T10:59:54.851Z"
   },
   {
    "duration": 5,
    "start_time": "2021-07-29T11:00:06.141Z"
   },
   {
    "duration": 8,
    "start_time": "2021-07-29T11:00:15.864Z"
   },
   {
    "duration": 20,
    "start_time": "2021-07-29T11:09:02.610Z"
   },
   {
    "duration": 14,
    "start_time": "2021-07-29T11:09:15.486Z"
   },
   {
    "duration": 1557,
    "start_time": "2021-07-29T11:17:15.021Z"
   },
   {
    "duration": 73,
    "start_time": "2021-07-29T11:17:18.520Z"
   },
   {
    "duration": 21,
    "start_time": "2021-07-29T11:17:21.272Z"
   },
   {
    "duration": 6,
    "start_time": "2021-07-29T11:17:22.794Z"
   },
   {
    "duration": 18,
    "start_time": "2021-07-29T11:17:24.441Z"
   },
   {
    "duration": 1214,
    "start_time": "2021-07-29T11:17:30.764Z"
   },
   {
    "duration": 2083,
    "start_time": "2021-07-29T11:17:47.378Z"
   },
   {
    "duration": 307,
    "start_time": "2021-07-29T11:17:50.348Z"
   },
   {
    "duration": 1145,
    "start_time": "2021-07-29T11:17:53.728Z"
   },
   {
    "duration": 5,
    "start_time": "2021-07-29T11:18:04.933Z"
   },
   {
    "duration": 62,
    "start_time": "2021-07-29T11:18:06.231Z"
   },
   {
    "duration": 20,
    "start_time": "2021-07-29T11:18:07.919Z"
   },
   {
    "duration": 90,
    "start_time": "2021-07-29T11:18:17.292Z"
   },
   {
    "duration": 18158,
    "start_time": "2021-07-29T11:18:58.815Z"
   },
   {
    "duration": 1585,
    "start_time": "2021-07-29T11:23:30.214Z"
   },
   {
    "duration": 66,
    "start_time": "2021-07-29T11:23:31.802Z"
   },
   {
    "duration": 7,
    "start_time": "2021-07-29T11:23:31.871Z"
   },
   {
    "duration": 20,
    "start_time": "2021-07-29T11:23:31.881Z"
   },
   {
    "duration": 28,
    "start_time": "2021-07-29T11:23:31.905Z"
   },
   {
    "duration": 1833,
    "start_time": "2021-07-29T11:23:31.936Z"
   },
   {
    "duration": 1840,
    "start_time": "2021-07-29T11:23:33.773Z"
   },
   {
    "duration": 327,
    "start_time": "2021-07-29T11:23:35.617Z"
   },
   {
    "duration": 1145,
    "start_time": "2021-07-29T11:23:35.948Z"
   },
   {
    "duration": 6,
    "start_time": "2021-07-29T11:23:37.095Z"
   },
   {
    "duration": 117,
    "start_time": "2021-07-29T11:23:37.105Z"
   },
   {
    "duration": 44,
    "start_time": "2021-07-29T11:23:37.226Z"
   },
   {
    "duration": 112,
    "start_time": "2021-07-29T11:23:37.274Z"
   },
   {
    "duration": 23802,
    "start_time": "2021-07-29T11:23:37.469Z"
   },
   {
    "duration": 3872,
    "start_time": "2021-07-29T11:24:01.274Z"
   },
   {
    "duration": -794,
    "start_time": "2021-07-29T11:24:05.943Z"
   },
   {
    "duration": -797,
    "start_time": "2021-07-29T11:24:05.947Z"
   },
   {
    "duration": -801,
    "start_time": "2021-07-29T11:24:05.952Z"
   },
   {
    "duration": -803,
    "start_time": "2021-07-29T11:24:05.956Z"
   },
   {
    "duration": -807,
    "start_time": "2021-07-29T11:24:05.961Z"
   },
   {
    "duration": -810,
    "start_time": "2021-07-29T11:24:05.965Z"
   },
   {
    "duration": -812,
    "start_time": "2021-07-29T11:24:05.969Z"
   },
   {
    "duration": 14926,
    "start_time": "2021-07-29T11:25:29.355Z"
   },
   {
    "duration": 7026,
    "start_time": "2021-07-29T11:25:44.284Z"
   },
   {
    "duration": 11536,
    "start_time": "2021-07-29T11:26:41.763Z"
   },
   {
    "duration": 9144,
    "start_time": "2021-07-29T11:28:19.348Z"
   },
   {
    "duration": 12768,
    "start_time": "2021-07-29T11:29:28.302Z"
   },
   {
    "duration": 7,
    "start_time": "2021-07-29T11:30:00.352Z"
   },
   {
    "duration": 8,
    "start_time": "2021-07-29T11:30:03.711Z"
   },
   {
    "duration": 1284,
    "start_time": "2021-07-29T11:30:07.847Z"
   },
   {
    "duration": 654,
    "start_time": "2021-07-29T11:40:05.271Z"
   },
   {
    "duration": 2074,
    "start_time": "2021-07-29T11:44:47.473Z"
   },
   {
    "duration": 77,
    "start_time": "2021-07-29T11:44:49.550Z"
   },
   {
    "duration": 7,
    "start_time": "2021-07-29T11:44:49.631Z"
   },
   {
    "duration": 20,
    "start_time": "2021-07-29T11:44:49.642Z"
   },
   {
    "duration": 35,
    "start_time": "2021-07-29T11:44:49.665Z"
   },
   {
    "duration": 1382,
    "start_time": "2021-07-29T11:44:49.703Z"
   },
   {
    "duration": 2333,
    "start_time": "2021-07-29T11:44:51.088Z"
   },
   {
    "duration": 435,
    "start_time": "2021-07-29T11:44:53.426Z"
   },
   {
    "duration": 1520,
    "start_time": "2021-07-29T11:44:53.866Z"
   },
   {
    "duration": 6,
    "start_time": "2021-07-29T11:44:55.390Z"
   },
   {
    "duration": 104,
    "start_time": "2021-07-29T11:44:55.399Z"
   },
   {
    "duration": 26,
    "start_time": "2021-07-29T11:44:55.506Z"
   },
   {
    "duration": 144,
    "start_time": "2021-07-29T11:44:55.536Z"
   },
   {
    "duration": 25218,
    "start_time": "2021-07-29T11:44:55.766Z"
   },
   {
    "duration": 14256,
    "start_time": "2021-07-29T11:45:20.987Z"
   },
   {
    "duration": 6433,
    "start_time": "2021-07-29T11:45:35.245Z"
   },
   {
    "duration": 9585,
    "start_time": "2021-07-29T11:45:41.680Z"
   },
   {
    "duration": 3407,
    "start_time": "2021-07-29T11:45:51.270Z"
   },
   {
    "duration": 7,
    "start_time": "2021-07-29T11:45:54.679Z"
   },
   {
    "duration": 84,
    "start_time": "2021-07-29T11:45:54.688Z"
   },
   {
    "duration": 965,
    "start_time": "2021-07-29T11:45:54.775Z"
   },
   {
    "duration": 527,
    "start_time": "2021-07-29T11:45:55.743Z"
   },
   {
    "duration": 1794,
    "start_time": "2021-07-30T10:42:43.506Z"
   },
   {
    "duration": 64,
    "start_time": "2021-07-30T10:42:45.304Z"
   },
   {
    "duration": 6,
    "start_time": "2021-07-30T10:42:45.370Z"
   },
   {
    "duration": 8,
    "start_time": "2021-07-30T10:42:45.379Z"
   },
   {
    "duration": 19,
    "start_time": "2021-07-30T10:42:45.390Z"
   },
   {
    "duration": 1530,
    "start_time": "2021-07-30T10:42:45.412Z"
   },
   {
    "duration": 1769,
    "start_time": "2021-07-30T10:42:46.945Z"
   },
   {
    "duration": 290,
    "start_time": "2021-07-30T10:42:48.717Z"
   },
   {
    "duration": 1366,
    "start_time": "2021-07-30T10:42:49.010Z"
   },
   {
    "duration": 6,
    "start_time": "2021-07-30T10:42:50.379Z"
   },
   {
    "duration": 67,
    "start_time": "2021-07-30T10:42:50.387Z"
   },
   {
    "duration": 19,
    "start_time": "2021-07-30T10:42:50.457Z"
   },
   {
    "duration": 105,
    "start_time": "2021-07-30T10:42:50.502Z"
   },
   {
    "duration": 18924,
    "start_time": "2021-07-30T10:42:50.610Z"
   },
   {
    "duration": 13263,
    "start_time": "2021-07-30T10:43:09.537Z"
   },
   {
    "duration": 6027,
    "start_time": "2021-07-30T10:43:22.803Z"
   },
   {
    "duration": 2374,
    "start_time": "2021-07-30T10:43:28.833Z"
   },
   {
    "duration": 1202,
    "start_time": "2021-07-30T10:43:31.210Z"
   },
   {
    "duration": 7,
    "start_time": "2021-07-30T10:43:32.415Z"
   },
   {
    "duration": 15,
    "start_time": "2021-07-30T10:43:32.424Z"
   },
   {
    "duration": 945,
    "start_time": "2021-07-30T10:43:32.442Z"
   },
   {
    "duration": 464,
    "start_time": "2021-07-30T10:43:33.390Z"
   },
   {
    "duration": 18470,
    "start_time": "2021-07-30T11:20:29.250Z"
   }
  ],
  "kernelspec": {
   "display_name": "Python 3",
   "language": "python",
   "name": "python3"
  },
  "language_info": {
   "codemirror_mode": {
    "name": "ipython",
    "version": 3
   },
   "file_extension": ".py",
   "mimetype": "text/x-python",
   "name": "python",
   "nbconvert_exporter": "python",
   "pygments_lexer": "ipython3",
   "version": "3.8.10"
  },
  "toc": {
   "base_numbering": 1,
   "nav_menu": {},
   "number_sections": true,
   "sideBar": true,
   "skip_h1_title": true,
   "title_cell": "Table of Contents",
   "title_sidebar": "Contents",
   "toc_cell": false,
   "toc_position": {
    "height": "calc(100% - 180px)",
    "left": "10px",
    "top": "150px",
    "width": "165px"
   },
   "toc_section_display": true,
   "toc_window_display": true
  }
 },
 "nbformat": 4,
 "nbformat_minor": 4
}
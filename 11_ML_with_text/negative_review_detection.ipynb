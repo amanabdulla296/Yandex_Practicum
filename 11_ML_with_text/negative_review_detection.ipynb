{
 "cells": [
  {
   "cell_type": "markdown",
   "metadata": {},
   "source": [
    "# Negative review detection\n",
    "\n",
    "A new edgy community for classic movie enthusiasts - Film Junky Union, is developing a system for filtering and categorizing movie reviews. In this project, we will develop a model to detect negative reviews, which will facilitate job of the community.\n",
    "\n",
    "### Goal\n",
    "We will train and compare a few models to automatically detect negative reviews. It will need to have an **F1 score of at least 0.85.**\n",
    "\n",
    "### Instructions\n",
    "- Load the data.\n",
    "- Preprocess the data, if required.\n",
    "- Conduct an EDA and make your conclusion on the class imbalance.\n",
    "- Preprocess the data for modeling.\n",
    "- Train at least three different models for the given train dataset.\n",
    "- Test the models for the given test dataset.\n",
    "- Compose a few of your own reviews and classify them with all the models.\n",
    "- Check for differences between the testing results of models in the above two points. Try to explain them.\n",
    "- Present your findings.\n",
    "\n",
    "***NOTE:*** *We don't have to use BERT for the project because it is very demanding for computational power and will be very slow on the CPU for the complete dataset. Because of this, BERT usually needs to be executed on GPU for adequate performance.**\n",
    "\n",
    "### Data Description\n",
    "The data is stored in the ``imdb_reviews.tsv``\n",
    "\n",
    "We'll be using a dataset of IMBD movie reviews with polarity labelling to build a model for classifying positive and negative reviews. Here's the description of the selected fields:\n",
    "- `review`: the review text\n",
    "- `pos`: the target, '0' for negative and '1' for positive\n",
    "- `ds_part`: 'train'/'test' for the train/test part of dataset, correspondingly\n",
    "\n",
    "***NOTE:*** *There are other fields in the dataset. Feel free to explore them if you'd like.*"
   ]
  },
  {
   "cell_type": "markdown",
   "metadata": {},
   "source": [
    "## Load data"
   ]
  },
  {
   "cell_type": "code",
   "execution_count": 1,
   "metadata": {},
   "outputs": [],
   "source": [
    "#import all necessary libraries\n",
    "import numpy as np\n",
    "import pandas as pd\n",
    "import re\n",
    "\n",
    "import matplotlib.pyplot as plt\n",
    "import seaborn as sns\n",
    "\n",
    "from nltk.corpus import stopwords\n",
    "import spacy\n",
    "import sklearn.metrics as metrics\n",
    "from sklearn.feature_extraction.text import TfidfVectorizer\n",
    "from sklearn.dummy import DummyClassifier\n",
    "from sklearn.linear_model import LogisticRegression\n",
    "from sklearn.ensemble import RandomForestClassifier\n",
    "from catboost import CatBoostClassifier\n",
    "\n",
    "from tqdm.auto import tqdm\n",
    "import warnings"
   ]
  },
  {
   "cell_type": "code",
   "execution_count": 2,
   "metadata": {},
   "outputs": [],
   "source": [
    "%matplotlib inline\n",
    "%config InlineBackend.figure_format = 'png'\n",
    "# the next line provides graphs of better quality on HiDPI screens\n",
    "%config InlineBackend.figure_format = 'retina'\n",
    "\n",
    "#use styling of seaborn for plt plots\n",
    "plt.style.use('seaborn')\n",
    "\n",
    "#don't want to see warnings\n",
    "warnings.filterwarnings('ignore')\n",
    "\n",
    "# this is to use progress_apply, read more at https://pypi.org/project/tqdm/#pandas-integration\n",
    "tqdm.pandas()"
   ]
  },
  {
   "cell_type": "code",
   "execution_count": 3,
   "metadata": {},
   "outputs": [
    {
     "data": {
      "text/html": [
       "<div>\n",
       "<style scoped>\n",
       "    .dataframe tbody tr th:only-of-type {\n",
       "        vertical-align: middle;\n",
       "    }\n",
       "\n",
       "    .dataframe tbody tr th {\n",
       "        vertical-align: top;\n",
       "    }\n",
       "\n",
       "    .dataframe thead th {\n",
       "        text-align: right;\n",
       "    }\n",
       "</style>\n",
       "<table border=\"1\" class=\"dataframe\">\n",
       "  <thead>\n",
       "    <tr style=\"text-align: right;\">\n",
       "      <th></th>\n",
       "      <th>tconst</th>\n",
       "      <th>start_year</th>\n",
       "      <th>review</th>\n",
       "      <th>pos</th>\n",
       "      <th>ds_part</th>\n",
       "      <th>idx</th>\n",
       "    </tr>\n",
       "  </thead>\n",
       "  <tbody>\n",
       "    <tr>\n",
       "      <td>0</td>\n",
       "      <td>tt0068152</td>\n",
       "      <td>1971</td>\n",
       "      <td>The pakage implies that Warren Beatty and Gold...</td>\n",
       "      <td>0</td>\n",
       "      <td>train</td>\n",
       "      <td>8335</td>\n",
       "    </tr>\n",
       "    <tr>\n",
       "      <td>1</td>\n",
       "      <td>tt0068152</td>\n",
       "      <td>1971</td>\n",
       "      <td>How the hell did they get this made?! Presenti...</td>\n",
       "      <td>0</td>\n",
       "      <td>train</td>\n",
       "      <td>8336</td>\n",
       "    </tr>\n",
       "    <tr>\n",
       "      <td>2</td>\n",
       "      <td>tt0313150</td>\n",
       "      <td>2002</td>\n",
       "      <td>There is no real story the film seems more lik...</td>\n",
       "      <td>0</td>\n",
       "      <td>test</td>\n",
       "      <td>2489</td>\n",
       "    </tr>\n",
       "    <tr>\n",
       "      <td>3</td>\n",
       "      <td>tt0313150</td>\n",
       "      <td>2002</td>\n",
       "      <td>Um .... a serious film about troubled teens in...</td>\n",
       "      <td>1</td>\n",
       "      <td>test</td>\n",
       "      <td>9280</td>\n",
       "    </tr>\n",
       "    <tr>\n",
       "      <td>4</td>\n",
       "      <td>tt0313150</td>\n",
       "      <td>2002</td>\n",
       "      <td>I'm totally agree with GarryJohal from Singapo...</td>\n",
       "      <td>1</td>\n",
       "      <td>test</td>\n",
       "      <td>9281</td>\n",
       "    </tr>\n",
       "  </tbody>\n",
       "</table>\n",
       "</div>"
      ],
      "text/plain": [
       "      tconst  start_year                                             review  \\\n",
       "0  tt0068152        1971  The pakage implies that Warren Beatty and Gold...   \n",
       "1  tt0068152        1971  How the hell did they get this made?! Presenti...   \n",
       "2  tt0313150        2002  There is no real story the film seems more lik...   \n",
       "3  tt0313150        2002  Um .... a serious film about troubled teens in...   \n",
       "4  tt0313150        2002  I'm totally agree with GarryJohal from Singapo...   \n",
       "\n",
       "   pos ds_part   idx  \n",
       "0    0   train  8335  \n",
       "1    0   train  8336  \n",
       "2    0    test  2489  \n",
       "3    1    test  9280  \n",
       "4    1    test  9281  "
      ]
     },
     "execution_count": 3,
     "metadata": {},
     "output_type": "execute_result"
    }
   ],
   "source": [
    "#we will load csv but we only need several columns, so we will take only that columns\n",
    "# usecols= ['tconst', 'start_year', 'review', 'rating', 'pos', 'ds_part', 'idx']\n",
    "df_reviews = pd.read_csv('/datasets/imdb_reviews.tsv', sep='\\t',\n",
    "                         usecols= ['tconst', 'start_year', 'review', 'pos', 'ds_part', 'idx'])\n",
    "\n",
    "#get an insight into the data\n",
    "df_reviews.head()"
   ]
  },
  {
   "cell_type": "code",
   "execution_count": 4,
   "metadata": {
    "scrolled": true
   },
   "outputs": [
    {
     "data": {
      "text/plain": [
       "2047     4\n",
       "1675     4\n",
       "5833     4\n",
       "7880     4\n",
       "11950    4\n",
       "Name: idx, dtype: int64"
      ]
     },
     "execution_count": 4,
     "metadata": {},
     "output_type": "execute_result"
    }
   ],
   "source": [
    "df_reviews['idx'].value_counts()[:5]"
   ]
  },
  {
   "cell_type": "code",
   "execution_count": 5,
   "metadata": {},
   "outputs": [
    {
     "data": {
      "text/html": [
       "<div>\n",
       "<style scoped>\n",
       "    .dataframe tbody tr th:only-of-type {\n",
       "        vertical-align: middle;\n",
       "    }\n",
       "\n",
       "    .dataframe tbody tr th {\n",
       "        vertical-align: top;\n",
       "    }\n",
       "\n",
       "    .dataframe thead th {\n",
       "        text-align: right;\n",
       "    }\n",
       "</style>\n",
       "<table border=\"1\" class=\"dataframe\">\n",
       "  <thead>\n",
       "    <tr style=\"text-align: right;\">\n",
       "      <th></th>\n",
       "      <th>tconst</th>\n",
       "      <th>start_year</th>\n",
       "      <th>review</th>\n",
       "      <th>pos</th>\n",
       "      <th>ds_part</th>\n",
       "      <th>idx</th>\n",
       "    </tr>\n",
       "  </thead>\n",
       "  <tbody>\n",
       "    <tr>\n",
       "      <td>4986</td>\n",
       "      <td>tt0997143</td>\n",
       "      <td>2009</td>\n",
       "      <td>As Americans, we have come to expect crapiness...</td>\n",
       "      <td>0</td>\n",
       "      <td>test</td>\n",
       "      <td>2047</td>\n",
       "    </tr>\n",
       "    <tr>\n",
       "      <td>16058</td>\n",
       "      <td>tt0085657</td>\n",
       "      <td>1983</td>\n",
       "      <td>This movie struck home for me. Being 29, I rem...</td>\n",
       "      <td>1</td>\n",
       "      <td>train</td>\n",
       "      <td>2047</td>\n",
       "    </tr>\n",
       "    <tr>\n",
       "      <td>39202</td>\n",
       "      <td>tt0116908</td>\n",
       "      <td>1996</td>\n",
       "      <td>Rent this, I own the DVD, got it for $9.99. A ...</td>\n",
       "      <td>1</td>\n",
       "      <td>test</td>\n",
       "      <td>2047</td>\n",
       "    </tr>\n",
       "    <tr>\n",
       "      <td>44564</td>\n",
       "      <td>tt0469999</td>\n",
       "      <td>2005</td>\n",
       "      <td>I don't want to go off on a rant here, but.......</td>\n",
       "      <td>0</td>\n",
       "      <td>train</td>\n",
       "      <td>2047</td>\n",
       "    </tr>\n",
       "  </tbody>\n",
       "</table>\n",
       "</div>"
      ],
      "text/plain": [
       "          tconst  start_year  \\\n",
       "4986   tt0997143        2009   \n",
       "16058  tt0085657        1983   \n",
       "39202  tt0116908        1996   \n",
       "44564  tt0469999        2005   \n",
       "\n",
       "                                                  review  pos ds_part   idx  \n",
       "4986   As Americans, we have come to expect crapiness...    0    test  2047  \n",
       "16058  This movie struck home for me. Being 29, I rem...    1   train  2047  \n",
       "39202  Rent this, I own the DVD, got it for $9.99. A ...    1    test  2047  \n",
       "44564  I don't want to go off on a rant here, but.......    0   train  2047  "
      ]
     },
     "execution_count": 5,
     "metadata": {},
     "output_type": "execute_result"
    }
   ],
   "source": [
    "#what\n",
    "df_reviews[df_reviews['idx'] == 2047]"
   ]
  },
  {
   "cell_type": "markdown",
   "metadata": {},
   "source": [
    "Most column names and their content are clear from their names, except `tconst` and `idx`. In the description of the project, the source of the data has been provided as **Andrew L. Maas, Raymond E. Daly, Peter T. Pham, Dan Huang, Andrew Y. Ng, and Christopher Potts. (2011). *Learning Word Vectors for Sentiment Analysis*. The 49th Annual Meeting of the Association for Computational Linguistics (ACL 2011).**\n",
    "According to the information provided by the author of the above paper, that `tconst` column is the id of each movie, while `idx` is the id of each review of that specific movie. As you can see above **idx=2047** has been observed 4 times in the dataset. At first glance, it gives an impression of duplication, however, as you can see below, that each of these four idx=2047 rows belongs to a different movie."
   ]
  },
  {
   "cell_type": "code",
   "execution_count": 6,
   "metadata": {
    "scrolled": true
   },
   "outputs": [
    {
     "name": "stdout",
     "output_type": "stream",
     "text": [
      "<class 'pandas.core.frame.DataFrame'>\n",
      "RangeIndex: 47331 entries, 0 to 47330\n",
      "Data columns (total 6 columns):\n",
      "tconst        47331 non-null object\n",
      "start_year    47331 non-null int64\n",
      "review        47331 non-null object\n",
      "pos           47331 non-null int64\n",
      "ds_part       47331 non-null object\n",
      "idx           47331 non-null int64\n",
      "dtypes: int64(3), object(3)\n",
      "memory usage: 2.2+ MB\n"
     ]
    }
   ],
   "source": [
    "#retreive info about the datatypes, missing values, number of rows, cols in the data\n",
    "df_reviews.info()"
   ]
  },
  {
   "cell_type": "code",
   "execution_count": 7,
   "metadata": {},
   "outputs": [
    {
     "data": {
      "text/plain": [
       "0"
      ]
     },
     "execution_count": 7,
     "metadata": {},
     "output_type": "execute_result"
    }
   ],
   "source": [
    "#check if there any duplicated rows\n",
    "df_reviews.duplicated().sum()"
   ]
  },
  {
   "cell_type": "markdown",
   "metadata": {},
   "source": [
    "### Conclusion\n",
    "\n",
    "All necessary libraries and data with 47331 rows have been imported. Since not all columns of data are in focus of our interest, we have selected only interested columns (selected columns 'tconst', 'start_year', 'review', 'pos', 'ds_part', 'idx'). Data does not contain missing values, data type errors, and duplicated rows."
   ]
  },
  {
   "cell_type": "markdown",
   "metadata": {},
   "source": [
    "## Preprocessing,  if required\n"
   ]
  },
  {
   "cell_type": "markdown",
   "metadata": {},
   "source": [
    "Since we have not observed any missing values, duplicated rows, and data type issues, we don't need to preprocess the data."
   ]
  },
  {
   "cell_type": "markdown",
   "metadata": {},
   "source": [
    "## EDA"
   ]
  },
  {
   "cell_type": "markdown",
   "metadata": {},
   "source": [
    "Let's check the number of movies and reviews over years."
   ]
  },
  {
   "cell_type": "code",
   "execution_count": 8,
   "metadata": {
    "scrolled": true
   },
   "outputs": [
    {
     "data": {
      "image/png": "[encoded data removed]",
      "text/plain": [
       "<Figure size 1152x288 with 1 Axes>"
      ]
     },
     "metadata": {
      "image/png": {
       "height": 275,
       "width": 931
      }
     },
     "output_type": "display_data"
    }
   ],
   "source": [
    "plt.figure(figsize=(16, 4))\n",
    "\n",
    "dft = df_reviews[['tconst', 'start_year']].drop_duplicates()['start_year'].value_counts().sort_index()\n",
    "dft = dft.reindex(index=np.arange(dft.index.min(), dft.index.max())).fillna(0)\n",
    "dft.plot(kind='bar')\n",
    "plt.title('Number of Movies Over Years')\n",
    "plt.show()"
   ]
  },
  {
   "cell_type": "markdown",
   "metadata": {},
   "source": [
    "Data contains movies released from 1894 until 2009. A lot of movies have been released in past years, particularly in 2006 number of released movies rocketed up to 381. Then it suddenly decreased or the author of the paper did not collect movie data for the recent years (note that the paper was published in 2011). Maybe the release of movies suddenly decreased due to the economic crisis that happened in 2008. Ok, it is not our focus, for now, let's move on :)."
   ]
  },
  {
   "cell_type": "code",
   "execution_count": 9,
   "metadata": {},
   "outputs": [
    {
     "data": {
      "image/png": "[encoded data removed]",
      "text/plain": [
       "<Figure size 576x396 with 1 Axes>"
      ]
     },
     "metadata": {
      "image/png": {
       "height": 358,
       "width": 570
      }
     },
     "output_type": "display_data"
    }
   ],
   "source": [
    "#explore data balance\n",
    "sns.countplot(data=df_reviews, x='pos', hue='ds_part')\n",
    "plt.title('Number of negative and positive reviews grouped by train/test')\n",
    "plt.xlabel('Negative and Positive reviews')\n",
    "plt.legend(loc='best', bbox_to_anchor=(1, 1))\n",
    "plt.show()"
   ]
  },
  {
   "cell_type": "markdown",
   "metadata": {},
   "source": [
    "The data is balanced, it has similar number of positive and negative reviews for both training and testing datasets."
   ]
  },
  {
   "cell_type": "code",
   "execution_count": 10,
   "metadata": {},
   "outputs": [
    {
     "data": {
      "text/plain": [
       "0    23715\n",
       "1    23616\n",
       "Name: pos, dtype: int64"
      ]
     },
     "execution_count": 10,
     "metadata": {},
     "output_type": "execute_result"
    }
   ],
   "source": [
    "# check the number of positive and negative reviews (class imbalance)\n",
    "df_reviews['pos'].value_counts()"
   ]
  },
  {
   "cell_type": "markdown",
   "metadata": {},
   "source": [
    "### Conclusion\n",
    "Data contains movies released from 1894 until 2009. Number of movies released per year increasing, particularly in 2006 number of released movies rocketed up to 381. Both datasets (training and testing) have similar number of negative and positive reviews. So, our data is balanced, we don't need to worry about class imbalance in our future models."
   ]
  },
  {
   "cell_type": "markdown",
   "metadata": {},
   "source": [
    "## Prepare data for modeling"
   ]
  },
  {
   "cell_type": "markdown",
   "metadata": {},
   "source": [
    "### Functions"
   ]
  },
  {
   "cell_type": "markdown",
   "metadata": {},
   "source": [
    "Composing an functions (cleaning text, lemmatize, evaluation routine) which can be used for all models in this project"
   ]
  },
  {
   "cell_type": "code",
   "execution_count": 11,
   "metadata": {},
   "outputs": [],
   "source": [
    "def clear_text(text):\n",
    "    \n",
    "    pattern = r\"[^a-zA-Z']\"\n",
    "    words = re.sub(pattern, \" \", text)\n",
    "    word_list = words.split()\n",
    "    new_text = \" \".join(word_list)\n",
    "    new_text = new_text.lower()\n",
    "    return new_text"
   ]
  },
  {
   "cell_type": "code",
   "execution_count": 12,
   "metadata": {},
   "outputs": [],
   "source": [
    "nlp = spacy.load('en_core_web_sm', disable=['parser', 'ner'])\n",
    "def lemmatize(text):\n",
    "\n",
    "    doc = nlp(text.lower())\n",
    "    \n",
    "    lemmas = []\n",
    "    for token in doc:\n",
    "        lemmas.append(token.lemma_)\n",
    "        \n",
    "    return ' '.join(lemmas)"
   ]
  },
  {
   "cell_type": "code",
   "execution_count": 13,
   "metadata": {},
   "outputs": [],
   "source": [
    "def evaluate_model(model, train_features, train_target, test_features, test_target):\n",
    "    \n",
    "    eval_stats = {}\n",
    "    \n",
    "    fig, axs = plt.subplots(1, 3, figsize=(14, 4)) \n",
    "    \n",
    "    for type, features, target in (('train', train_features, train_target), ('test', test_features, test_target)):\n",
    "        \n",
    "        eval_stats[type] = {}\n",
    "    \n",
    "        pred_target = model.predict(features)\n",
    "        pred_proba = model.predict_proba(features)[:, 1]\n",
    "        \n",
    "        # F1\n",
    "        f1_thresholds = np.arange(0, 1.01, 0.05)\n",
    "        f1_scores = [metrics.f1_score(target, pred_proba>=threshold) for threshold in f1_thresholds]\n",
    "        \n",
    "        # ROC\n",
    "        fpr, tpr, roc_thresholds = metrics.roc_curve(target, pred_proba)\n",
    "        roc_auc = metrics.roc_auc_score(target, pred_proba)    \n",
    "        eval_stats[type]['ROC AUC'] = roc_auc\n",
    "\n",
    "        # PRC\n",
    "        precision, recall, pr_thresholds = metrics.precision_recall_curve(target, pred_proba)\n",
    "        aps = metrics.average_precision_score(target, pred_proba)\n",
    "        eval_stats[type]['APS'] = aps\n",
    "        \n",
    "        if type == 'train':\n",
    "            color = 'blue'\n",
    "        else:\n",
    "            color = 'green'\n",
    "\n",
    "        # F1 Score\n",
    "        ax = axs[0]\n",
    "        max_f1_score_idx = np.argmax(f1_scores)\n",
    "        ax.plot(f1_thresholds, f1_scores, color=color, label=f'{type}, max={f1_scores[max_f1_score_idx]:.2f} @ {f1_thresholds[max_f1_score_idx]:.2f}')\n",
    "        # setting crosses for some thresholds\n",
    "        for threshold in (0.2, 0.4, 0.5, 0.6, 0.8):\n",
    "            closest_value_idx = np.argmin(np.abs(f1_thresholds-threshold))\n",
    "            marker_color = 'orange' if threshold != 0.5 else 'red'\n",
    "            ax.plot(f1_thresholds[closest_value_idx], f1_scores[closest_value_idx], color=marker_color, marker='X', markersize=7)\n",
    "        ax.set_xlim([-0.02, 1.02])    \n",
    "        ax.set_ylim([-0.02, 1.02])\n",
    "        ax.set_xlabel('threshold')\n",
    "        ax.set_ylabel('F1')\n",
    "        ax.legend(loc='lower center')\n",
    "        ax.set_title(f'F1 Score') \n",
    "\n",
    "        # ROC\n",
    "        ax = axs[1]    \n",
    "        ax.plot(fpr, tpr, color=color, label=f'{type}, ROC AUC={roc_auc:.2f}')\n",
    "        # setting crosses for some thresholds\n",
    "        for threshold in (0.2, 0.4, 0.5, 0.6, 0.8):\n",
    "            closest_value_idx = np.argmin(np.abs(roc_thresholds-threshold))\n",
    "            marker_color = 'orange' if threshold != 0.5 else 'red'            \n",
    "            ax.plot(fpr[closest_value_idx], tpr[closest_value_idx], color=marker_color, marker='X', markersize=7)\n",
    "        ax.plot([0, 1], [0, 1], color='grey', linestyle='--')\n",
    "        ax.set_xlim([-0.02, 1.02])    \n",
    "        ax.set_ylim([-0.02, 1.02])\n",
    "        ax.set_xlabel('FPR')\n",
    "        ax.set_ylabel('TPR')\n",
    "        ax.legend(loc='lower center')        \n",
    "        ax.set_title(f'ROC Curve')\n",
    "        \n",
    "        # PRC\n",
    "        ax = axs[2]\n",
    "        ax.plot(recall, precision, color=color, label=f'{type}, AP={aps:.2f}')\n",
    "        # setting crosses for some thresholds\n",
    "        for threshold in (0.2, 0.4, 0.5, 0.6, 0.8):\n",
    "            closest_value_idx = np.argmin(np.abs(pr_thresholds-threshold))\n",
    "            marker_color = 'orange' if threshold != 0.5 else 'red'\n",
    "            ax.plot(recall[closest_value_idx], precision[closest_value_idx], color=marker_color, marker='X', markersize=7)\n",
    "        ax.set_xlim([-0.02, 1.02])    \n",
    "        ax.set_ylim([-0.02, 1.02])\n",
    "        ax.set_xlabel('recall')\n",
    "        ax.set_ylabel('precision')\n",
    "        ax.legend(loc='lower center')\n",
    "        ax.set_title(f'PRC')        \n",
    "\n",
    "        eval_stats[type]['Accuracy'] = metrics.accuracy_score(target, pred_target)\n",
    "        eval_stats[type]['F1'] = metrics.f1_score(target, pred_target)\n",
    "    \n",
    "    df_eval_stats = pd.DataFrame(eval_stats)\n",
    "    df_eval_stats = df_eval_stats.round(2)\n",
    "    df_eval_stats = df_eval_stats.reindex(index=('Accuracy', 'F1', 'APS', 'ROC AUC'))\n",
    "    \n",
    "    print(df_eval_stats)\n",
    "    \n",
    "    return"
   ]
  },
  {
   "cell_type": "markdown",
   "metadata": {},
   "source": [
    "### Clean the text"
   ]
  },
  {
   "cell_type": "markdown",
   "metadata": {},
   "source": [
    "We assume all models below accepts texts in lowercase and without any digits, punctuations marks etc."
   ]
  },
  {
   "cell_type": "code",
   "execution_count": 14,
   "metadata": {},
   "outputs": [
    {
     "data": {
      "application/vnd.jupyter.widget-view+json": {
       "model_id": "58d47c839a1b4c66bdf77f3588c67ef3",
       "version_major": 2,
       "version_minor": 0
      },
      "text/plain": [
       "HBox(children=(HTML(value=''), FloatProgress(value=0.0, max=47331.0), HTML(value='')))"
      ]
     },
     "metadata": {},
     "output_type": "display_data"
    },
    {
     "name": "stdout",
     "output_type": "stream",
     "text": [
      "\n"
     ]
    }
   ],
   "source": [
    "#remove all unnecassary charactres other than letters and apost.\n",
    "df_reviews[\"review_clean\"] = df_reviews[\"review\"].progress_apply(clear_text)"
   ]
  },
  {
   "cell_type": "code",
   "execution_count": 15,
   "metadata": {},
   "outputs": [
    {
     "name": "stdout",
     "output_type": "stream",
     "text": [
      "====================before cleaning====================\n",
      "This true story of Carlson's Raiders is more of a Army training film than anything else.Obviously thrown together quickly on a miniscule budget about the only thing it has to recommend it is an early performance by Robert Mitchum,who's the only decent actor in the cast,and actual footage of the wreckage at Pearl Harbor which gets your blood boiling,as it was obviously intended to do.\n",
      "\n",
      "====================after cleaning====================\n",
      "this true story of carlson's raiders is more of a army training film than anything else obviously thrown together quickly on a miniscule budget about the only thing it has to recommend it is an early performance by robert mitchum who's the only decent actor in the cast and actual footage of the wreckage at pearl harbor which gets your blood boiling as it was obviously intended to do\n"
     ]
    }
   ],
   "source": [
    "#print result for comparison\n",
    "print('='*20 + 'before cleaning' + \"=\"*20)\n",
    "print(df_reviews.review[7])\n",
    "print()\n",
    "print('='*20 + 'after cleaning' + \"=\"*20)\n",
    "print(df_reviews.review_clean[7])"
   ]
  },
  {
   "cell_type": "markdown",
   "metadata": {},
   "source": [
    "### Lemmatize the text"
   ]
  },
  {
   "cell_type": "markdown",
   "metadata": {},
   "source": [
    ">Following cell will take around 10 min!"
   ]
  },
  {
   "cell_type": "code",
   "execution_count": 16,
   "metadata": {},
   "outputs": [
    {
     "data": {
      "application/vnd.jupyter.widget-view+json": {
       "model_id": "8d56db3e4c8e482d890f415611221368",
       "version_major": 2,
       "version_minor": 0
      },
      "text/plain": [
       "HBox(children=(HTML(value=''), FloatProgress(value=0.0, max=47331.0), HTML(value='')))"
      ]
     },
     "metadata": {},
     "output_type": "display_data"
    },
    {
     "name": "stdout",
     "output_type": "stream",
     "text": [
      "\n",
      "CPU times: user 5min 33s, sys: 1.45 s, total: 5min 34s\n",
      "Wall time: 5min 47s\n"
     ]
    }
   ],
   "source": [
    "%%time\n",
    "#convert words to their lemmas\n",
    "df_reviews[\"review_lemma\"] = df_reviews[\"review_clean\"].progress_apply(lemmatize)"
   ]
  },
  {
   "cell_type": "code",
   "execution_count": 17,
   "metadata": {},
   "outputs": [
    {
     "data": {
      "text/plain": [
       "\"this true story of carlson 's raider be more of a army training film than anything else obviously throw together quickly on a miniscule budget about the only thing -PRON- have to recommend -PRON- be an early performance by robert mitchum who be the only decent actor in the cast and actual footage of the wreckage at pearl harbor which get -PRON- blood boil as -PRON- be obviously intend to do\""
      ]
     },
     "execution_count": 17,
     "metadata": {},
     "output_type": "execute_result"
    }
   ],
   "source": [
    "#check one row of the obtained data\n",
    "df_reviews.review_lemma[7]"
   ]
  },
  {
   "cell_type": "markdown",
   "metadata": {},
   "source": [
    "### Feature and target prep"
   ]
  },
  {
   "cell_type": "code",
   "execution_count": 18,
   "metadata": {},
   "outputs": [
    {
     "name": "stdout",
     "output_type": "stream",
     "text": [
      "Shape of training set is (23796, 8).\n",
      "Shae of testing set is   (23535, 8).\n"
     ]
    }
   ],
   "source": [
    "#split data into training and testing sets\n",
    "df_reviews_train = df_reviews.query('ds_part == \"train\"').copy()\n",
    "df_reviews_test = df_reviews.query('ds_part == \"test\"').copy()\n",
    "\n",
    "#Check the shapes of two datasets\n",
    "print(f'Shape of training set is {df_reviews_train.shape}.')\n",
    "print(f'Shae of testing set is   {df_reviews_test.shape}.')"
   ]
  },
  {
   "cell_type": "code",
   "execution_count": 19,
   "metadata": {},
   "outputs": [
    {
     "name": "stdout",
     "output_type": "stream",
     "text": [
      "Shapes of training features and target are (23796, 60376) and (23796,), respectively\n",
      "\n",
      "Shapes of testing features and target are  (23535, 60376) and  (23535,), respectively\n"
     ]
    }
   ],
   "source": [
    "#prepare corpus\n",
    "train_corpus = df_reviews_train['review_lemma']\n",
    "test_corpus = df_reviews_test['review_lemma']\n",
    "\n",
    "#define stop words and vectorizer\n",
    "stop_words = stopwords.words('english')\n",
    "tf_idf_vect = TfidfVectorizer(stop_words=stop_words)\n",
    "\n",
    "#prepare features using vectorizer\n",
    "X_train = tf_idf_vect.fit_transform(train_corpus)\n",
    "X_test = tf_idf_vect.transform(test_corpus)\n",
    "\n",
    "\n",
    "#prepare targets ('pos' column of the initial datasets)\n",
    "y_train = df_reviews_train['pos']\n",
    "y_test = df_reviews_test['pos']\n",
    "\n",
    "#check the shapes of each variables\n",
    "print(f'Shapes of training features and target are {X_train.shape} and {y_train.shape}, respectively')\n",
    "print()\n",
    "print(f'Shapes of testing features and target are  {X_test.shape} and  {y_test.shape}, respectively')"
   ]
  },
  {
   "cell_type": "markdown",
   "metadata": {},
   "source": [
    "### Conclusion\n",
    "In this section, we have built several functions to preprocess our text data to make it ready for machine learning. First, we have removed everything else other than letters and apostrophes. Then we have obtained lemmas of words. Finally, we have prepared training and testing features (note: we have been already provided which rows should be for training and which rows should be used for testing) using TF-IDF vectorizer, which takes stop words argument from NLTK library to remove stop words."
   ]
  },
  {
   "cell_type": "markdown",
   "metadata": {},
   "source": [
    "## Training and test models\n",
    "In this section, we will build several models based on different algorithms and train/test them, to check their various metrics. However, before that, to check the sanity of our models, we will build a constant model and compare our models to this constant model.\n",
    "\n",
    "**NOTE**: we will not do hyperparameter tuning, because our data is so large and will be time-consuming. Therefore, we will use some default or random hyperparameters."
   ]
  },
  {
   "cell_type": "markdown",
   "metadata": {},
   "source": [
    "### Model 0 - Constant"
   ]
  },
  {
   "cell_type": "code",
   "execution_count": 20,
   "metadata": {},
   "outputs": [
    {
     "name": "stdout",
     "output_type": "stream",
     "text": [
      "          train  test\n",
      "Accuracy   0.50  0.50\n",
      "F1         0.67  0.67\n",
      "APS        0.50  0.50\n",
      "ROC AUC    0.50  0.50\n",
      "CPU times: user 349 ms, sys: 0 ns, total: 349 ms\n",
      "Wall time: 389 ms\n"
     ]
    },
    {
     "data": {
      "image/png": "[encoded data removed]",
      "text/plain": [
       "<Figure size 1008x288 with 3 Axes>"
      ]
     },
     "metadata": {
      "image/png": {
       "height": 277,
       "width": 833
      }
     },
     "output_type": "display_data"
    }
   ],
   "source": [
    "%%time\n",
    "# dummy model which always predict a review as a positive (returns 1)\n",
    "dummy_clf = DummyClassifier(strategy=\"constant\", constant=1, random_state=234)\n",
    "dummy_clf.fit(X_train, y_train)\n",
    "\n",
    "#evaluate the model\n",
    "evaluate_model(dummy_clf, X_train, y_train, X_test, y_test)"
   ]
  },
  {
   "cell_type": "markdown",
   "metadata": {},
   "source": [
    "Since our dataset is balanced (the number of positive and negative reviews were more or less equal), our dummy model has an accuracy of 0.5, which means such a model always guesses 50% of answers right. F1_score of the model is 0.67. So, our models should perform better than this in order to be acceptable."
   ]
  },
  {
   "cell_type": "markdown",
   "metadata": {},
   "source": [
    "### Model 1 -  LogisticRegression (LR)"
   ]
  },
  {
   "cell_type": "code",
   "execution_count": 21,
   "metadata": {},
   "outputs": [
    {
     "name": "stdout",
     "output_type": "stream",
     "text": [
      "          train  test\n",
      "Accuracy   0.93  0.88\n",
      "F1         0.93  0.88\n",
      "APS        0.98  0.95\n",
      "ROC AUC    0.98  0.95\n",
      "CPU times: user 4.7 s, sys: 3.33 s, total: 8.03 s\n",
      "Wall time: 8.06 s\n"
     ]
    },
    {
     "data": {
      "image/png": "[encoded data removed]",
      "text/plain": [
       "<Figure size 1008x288 with 3 Axes>"
      ]
     },
     "metadata": {
      "image/png": {
       "height": 277,
       "width": 833
      }
     },
     "output_type": "display_data"
    }
   ],
   "source": [
    "%%time\n",
    "\n",
    "#build a model based on LogisticRegression algorithm\n",
    "#since it does not have hyperparameter, we will use its defualt paramteres\n",
    "lr_clf = LogisticRegression(solver='liblinear', random_state=2)\n",
    "lr_clf.fit(X_train, y_train)\n",
    "\n",
    "#check the metrics\n",
    "evaluate_model(lr_clf, X_train, y_train, X_test, y_test)"
   ]
  },
  {
   "cell_type": "markdown",
   "metadata": {},
   "source": [
    "The LogisticRegression model has an accuracy of 0.88, which is way better than the constant model. Moreover, F1_score, which is 0.88 here, also exceeds the requirements of the task (remember that F1_score should be at least 0.85 according to the description of the project)."
   ]
  },
  {
   "cell_type": "markdown",
   "metadata": {},
   "source": [
    "### Model 2 - RandomForest (rf)"
   ]
  },
  {
   "cell_type": "code",
   "execution_count": 22,
   "metadata": {},
   "outputs": [
    {
     "name": "stdout",
     "output_type": "stream",
     "text": [
      "          train  test\n",
      "Accuracy   0.99  0.85\n",
      "F1         0.99  0.85\n",
      "APS        1.00  0.92\n",
      "ROC AUC    1.00  0.92\n",
      "CPU times: user 23.9 s, sys: 10.4 ms, total: 23.9 s\n",
      "Wall time: 24.1 s\n"
     ]
    },
    {
     "data": {
      "image/png": "[encoded data removed]",
      "text/plain": [
       "<Figure size 1008x288 with 3 Axes>"
      ]
     },
     "metadata": {
      "image/png": {
       "height": 277,
       "width": 833
      }
     },
     "output_type": "display_data"
    }
   ],
   "source": [
    "%%time\n",
    "#construct a model based on RandomForest algorithm\n",
    "rf_clf = RandomForestClassifier(n_estimators=100, max_depth=50, random_state=234)\n",
    "rf_clf.fit(X_train, y_train)\n",
    "\n",
    "#check the metrics of the model\n",
    "evaluate_model(rf_clf, X_train, y_train, X_test, y_test)"
   ]
  },
  {
   "cell_type": "markdown",
   "metadata": {},
   "source": [
    "RandomForestclassifier is also better than the constant model and it achieved an accuracy of 0.85 and F1_score of 0.85. However, as you can see these scores with training data reaches to 0.99, and it barely reached to the 0.85 with testing set. This is a sign of model overfitting. Also, we can see from the plots, that curves of training and testing datasets differ a lot. However these values are better than default parameters of the model."
   ]
  },
  {
   "cell_type": "markdown",
   "metadata": {},
   "source": [
    "### Model 3 - Catboost (cb)"
   ]
  },
  {
   "cell_type": "code",
   "execution_count": 23,
   "metadata": {},
   "outputs": [
    {
     "name": "stdout",
     "output_type": "stream",
     "text": [
      "          train  test\n",
      "Accuracy   0.88  0.85\n",
      "F1         0.89  0.85\n",
      "APS        0.95  0.93\n",
      "ROC AUC    0.96  0.93\n",
      "CPU times: user 1min 57s, sys: 3.65 s, total: 2min 1s\n",
      "Wall time: 2min 2s\n"
     ]
    },
    {
     "data": {
      "image/png": "[encoded data removed]",
      "text/plain": [
       "<Figure size 1008x288 with 3 Axes>"
      ]
     },
     "metadata": {
      "image/png": {
       "height": 277,
       "width": 833
      }
     },
     "output_type": "display_data"
    }
   ],
   "source": [
    "%%time\n",
    "\n",
    "#define a model based on Catboost algo\n",
    "cb_clf = CatBoostClassifier(iterations=50, verbose=False)\n",
    "cb_clf.fit(X_train, y_train)\n",
    "\n",
    "#check the metrics\n",
    "evaluate_model(cb_clf, X_train, y_train, X_test, y_test)"
   ]
  },
  {
   "cell_type": "markdown",
   "metadata": {},
   "source": [
    "Even though it is one of the slowest models, it was less overfitted compared to previous models. The catboost model reached an accuracy score of 0.85 and an F1_score of 0.85 as well. From the plots, we can see that the curves of training and testing data are very similar, which indicates the quite perfect fit of the model (neither overfit nor underfit)."
   ]
  },
  {
   "cell_type": "markdown",
   "metadata": {},
   "source": [
    "### Conclusion\n",
    "\n",
    "Three different models has been trained and tested with benchmarking performance with a constant model. Results are summarized in the table below:\n",
    "\n",
    "|Model                  |Accuracy  |F1_score  |Time (seconds)|Remarks                        |\n",
    "|-----------------------|----------|----------|--------------|---------------------------|\n",
    "|DummyClassifier        |0.5       |0.67      |0.5           |Returns always 1               |\n",
    "|LogisticRegression     |0.88      |0.88      |8.5           |Very quick                     |\n",
    "|RandomForestClassifier |0.85      |0.85      |41            |Seems like overfitted          |\n",
    "|CatBoostClassifier     |0.85      |0.85      |174           |Very slow, but less overfitted |\n"
   ]
  },
  {
   "cell_type": "markdown",
   "metadata": {},
   "source": [
    "## My Reviews\n",
    "Now we will create several our own reviews **(4 of them is positive and 4 of is negative)** and test our previous models."
   ]
  },
  {
   "cell_type": "code",
   "execution_count": 24,
   "metadata": {},
   "outputs": [
    {
     "data": {
      "text/plain": [
       "(8, 60376)"
      ]
     },
     "execution_count": 24,
     "metadata": {},
     "output_type": "execute_result"
    }
   ],
   "source": [
    "#imaginary reviews \n",
    "my_reviews = pd.DataFrame([\n",
    "    'I did not simply like it, not my kind of movie.',\n",
    "    'Well, I was bored and felt asleep in the middle of the movie.',\n",
    "    'I was really fascinated with the movie',    \n",
    "    'Even the actors looked really old and disinterested, and they got paid to be in the movie. What a soulless cash grab.',\n",
    "    'I didn\\'t expect the reboot to be so good! Writers really cared about the source material',\n",
    "    'The movie had its upsides and downsides, but I feel like overall it\\'s a decent flick. I could see myself going to see it again.',\n",
    "    'What a rotten attempt at a comedy. Not a single joke lands, everyone acts annoying and loud, even kids won\\'t like this!',\n",
    "    'Launching on Netflix was a brave move & I really appreciate being able to binge on episode after episode, of this exciting intelligent new drama.'\n",
    "], columns=['review'])\n",
    "\n",
    "#clean and lemmatize the reviews as before\n",
    "my_reviews['review_clean'] = my_reviews['review'].apply(clear_text)\n",
    "my_reviews['review_lemma'] = my_reviews['review_clean'].apply(lemmatize)\n",
    "\n",
    "#vectorize the text\n",
    "my_rew  = tf_idf_vect.transform(my_reviews['review_lemma'])\n",
    "#\n",
    "my_rew.shape"
   ]
  },
  {
   "cell_type": "markdown",
   "metadata": {},
   "source": [
    "### Model 1 - LogReg"
   ]
  },
  {
   "cell_type": "code",
   "execution_count": 25,
   "metadata": {},
   "outputs": [
    {
     "name": "stdout",
     "output_type": "stream",
     "text": [
      "2 were predicted as positive out of 8 reviews.\n",
      "==================================================\n",
      "\n",
      "Pos:  Proba:  Actual review\n",
      "  0:   0.27:  I did not simply like it, not my kind of movie.\n",
      "  0:   0.08:  Well, I was bored and felt asleep in the middle of the movie.\n",
      "  0:   0.44:  I was really fascinated with the movie\n",
      "  0:   0.11:  Even the actors looked really old and disinterested, and they got paid to be in the movie. What a so\n",
      "  0:   0.24:  I didn't expect the reboot to be so good! Writers really cared about the source material\n",
      "  1:   0.54:  The movie had its upsides and downsides, but I feel like overall it's a decent flick. I could see my\n",
      "  0:   0.02:  What a rotten attempt at a comedy. Not a single joke lands, everyone acts annoying and loud, even ki\n",
      "  1:   0.91:  Launching on Netflix was a brave move & I really appreciate being able to binge on episode after epi\n"
     ]
    }
   ],
   "source": [
    "#call the previous model and predict\n",
    "lr_pred = lr_clf.predict(my_rew)\n",
    "lr_pred_prob = lr_clf.predict_proba(my_rew)[:, 1]\n",
    "\n",
    "#print the results\n",
    "print(f'{sum(lr_pred)} were predicted as positive out of {len(lr_pred)} reviews.')\n",
    "print('='*50)\n",
    "print()\n",
    "print('Pos:'+'  '+'Proba:'+'  '+'Actual review')\n",
    "for i, review in enumerate(my_reviews.review.str.slice(0, 100)):\n",
    "    print(f'  {lr_pred[i]}:   {lr_pred_prob[i]:.2f}:  {review}')"
   ]
  },
  {
   "cell_type": "markdown",
   "metadata": {},
   "source": [
    "### Model 2 RandForest"
   ]
  },
  {
   "cell_type": "code",
   "execution_count": 26,
   "metadata": {},
   "outputs": [
    {
     "name": "stdout",
     "output_type": "stream",
     "text": [
      "6 were predicted as positive out of 8 reviews.\n",
      "==================================================\n",
      "\n",
      "Pos:  Proba:  Actual review\n",
      "  1:   0.56:  I did not simply like it, not my kind of movie.\n",
      "  1:   0.51:  Well, I was bored and felt asleep in the middle of the movie.\n",
      "  1:   0.58:  I was really fascinated with the movie\n",
      "  0:   0.48:  Even the actors looked really old and disinterested, and they got paid to be in the movie. What a so\n",
      "  1:   0.56:  I didn't expect the reboot to be so good! Writers really cared about the source material\n",
      "  1:   0.55:  The movie had its upsides and downsides, but I feel like overall it's a decent flick. I could see my\n",
      "  0:   0.39:  What a rotten attempt at a comedy. Not a single joke lands, everyone acts annoying and loud, even ki\n",
      "  1:   0.68:  Launching on Netflix was a brave move & I really appreciate being able to binge on episode after epi\n"
     ]
    }
   ],
   "source": [
    "#call the previous rf model and predict\n",
    "rf_pred = rf_clf.predict(my_rew)\n",
    "rf_pred_prob = rf_clf.predict_proba(my_rew)[:, 1]\n",
    "\n",
    "#print the results\n",
    "print(f'{sum(rf_pred)} were predicted as positive out of {len(rf_pred)} reviews.')\n",
    "print('='*50)\n",
    "print()\n",
    "print('Pos:'+'  '+'Proba:'+'  '+'Actual review')\n",
    "for i, review in enumerate(my_reviews.review.str.slice(0, 100)):\n",
    "    print(f'  {rf_pred[i]}:   {rf_pred_prob[i]:.2f}:  {review}')"
   ]
  },
  {
   "cell_type": "markdown",
   "metadata": {},
   "source": [
    "### Model 3 - CatB"
   ]
  },
  {
   "cell_type": "code",
   "execution_count": 27,
   "metadata": {},
   "outputs": [
    {
     "name": "stdout",
     "output_type": "stream",
     "text": [
      "5.0 were predicted as positive out of 8 reviews.\n",
      "==================================================\n",
      "\n",
      "Pos:  Proba:  Actual review\n",
      "  1.0:   0.62:  I did not simply like it, not my kind of movie.\n",
      "  0.0:   0.49:  Well, I was bored and felt asleep in the middle of the movie.\n",
      "  1.0:   0.57:  I was really fascinated with the movie\n",
      "  0.0:   0.41:  Even the actors looked really old and disinterested, and they got paid to be in the movie. What a so\n",
      "  1.0:   0.68:  I didn't expect the reboot to be so good! Writers really cared about the source material\n",
      "  1.0:   0.63:  The movie had its upsides and downsides, but I feel like overall it's a decent flick. I could see my\n",
      "  0.0:   0.36:  What a rotten attempt at a comedy. Not a single joke lands, everyone acts annoying and loud, even ki\n",
      "  1.0:   0.77:  Launching on Netflix was a brave move & I really appreciate being able to binge on episode after epi\n"
     ]
    }
   ],
   "source": [
    "#call the previous cb model and predict\n",
    "cb_pred = cb_clf.predict(my_rew)\n",
    "cb_pred_prob = cb_clf.predict_proba(my_rew)[:, 1]\n",
    "\n",
    "#print the results\n",
    "print(f'{sum(cb_pred)} were predicted as positive out of {len(cb_pred)} reviews.')\n",
    "print('='*50)\n",
    "print()\n",
    "print('Pos:'+'  '+'Proba:'+'  '+'Actual review')\n",
    "for i, review in enumerate(my_reviews.review.str.slice(0, 100)):\n",
    "    print(f'  {cb_pred[i]}:   {cb_pred_prob[i]:.2f}:  {review}')"
   ]
  },
  {
   "cell_type": "markdown",
   "metadata": {},
   "source": [
    "### Conlcusion\n",
    "In total 8 synthetic reviews ( 4 positives and 4 negatives), were fed into three different models. The logistic regression model predicted only 2 of them as positive and however could not detect the two other positives. Contrary to this, the RandomForest model predicted 6 reviews as positive. As we already said that, the RandomForest model is a bit overfitted and that is why it is detecting some negative reviews as positive.\n",
    "Our Catboost model predicted 5 as positive, which was very close to reality. It only detected one negative review as positive (false positive)."
   ]
  },
  {
   "cell_type": "markdown",
   "metadata": {},
   "source": [
    "## Summary"
   ]
  },
  {
   "cell_type": "markdown",
   "metadata": {},
   "source": [
    "1. Data with 47331 rows have been imported. Since not all columns of data are in focus of our interest, we have selected only interested columns (selected columns 'tconst', 'start_year', 'review', 'pos', 'ds_part', 'idx').\n",
    "\n",
    "2. Since Data does not contain missing values, data type errors, and duplicated rows, we have not done preprocessing to the data.\n",
    "\n",
    "3. From EDA, it was observed that data contains movies released from 1894 until 2009. Number of movies released per year increasing, particularly in 2006 number of released movies rocketed up to 381. Both datasets (training and testing) have similar number of negative and positive reviews, or data was balanced.\n",
    "\n",
    "4. Text preprocessing steps: First, we have removed everything else other than letters and apostrophes. Then we have obtained lemmas of words. Finally, we have prepared training and testing features (note: we have been already provided which rows should be for training and which rows should be used for testing) using TF-IDF vectorizer, while removing stop words.\n",
    "\n",
    "5. Three different models has been trained and tested with benchmarking their performance with a constant model. Results are summarized in the table below:\n",
    "\n",
    "|Model                  |Accuracy  |F1_score  |Time (seconds)|Remarks                        |\n",
    "|-----------------------|----------|----------|--------------|---------------------------|\n",
    "|DummyClassifier        |0.5       |0.67      |0.5           |Returns always 1               |\n",
    "|LogisticRegression     |0.88      |0.88      |8.5           |Very quick                     |\n",
    "|RandomForestClassifier |0.85      |0.85      |41            |Seems like overfitted          |\n",
    "|CatBoostClassifier     |0.85      |0.85      |174           |Very slow, but less overfitted |\n",
    "\n",
    "6. In the last step, 8 synthetic reviews ( 4 positives and 4 negatives) were fed into previous models.\n",
    "    - The logistic regression model predicted only 2 of them as positive and however could not detect the two other positives. \n",
    "    - The RandomForest model predicted 6 reviews as positive. As we already said that, the RandomForest model is a bit overfitted and that is why it is detecting some negative reviews as positive. \n",
    "    - The Catboost model predicted 5 as positive, which was very close to reality. It only detected one negative review as positive (false positive).\n",
    "    \n",
    "**As a summary, to automatically detect tonality of reviews, we can use Catboost model for high accuracy.**"
   ]
  },
  {
   "cell_type": "markdown",
   "metadata": {},
   "source": [
    "# Checklist"
   ]
  },
  {
   "cell_type": "markdown",
   "metadata": {},
   "source": [
    "- [x]  Notebook was opened\n",
    "- [x]  The text data is loaded and pre-processed for vectorization\n",
    "- [x]  The text data is transformed to vectors\n",
    "- [x]  Models are trained and tested\n",
    "- [x]  The metric's threshold is reached\n",
    "- [x]  All the code cells are arranged in the order of their execution\n",
    "- [x]  All the code cells can be executed without errors\n",
    "- [x]  There are conclusions"
   ]
  }
 ],
 "metadata": {
  "ExecuteTimeLog": [
   {
    "duration": 1518,
    "start_time": "2021-08-04T10:37:02.960Z"
   },
   {
    "duration": 39,
    "start_time": "2021-08-04T10:37:15.030Z"
   },
   {
    "duration": 6,
    "start_time": "2021-08-04T10:37:18.543Z"
   },
   {
    "duration": 573,
    "start_time": "2021-08-04T10:38:06.470Z"
   },
   {
    "duration": 4,
    "start_time": "2021-08-04T10:38:07.055Z"
   },
   {
    "duration": 412,
    "start_time": "2021-08-04T10:38:13.539Z"
   },
   {
    "duration": 4,
    "start_time": "2021-08-04T10:38:28.485Z"
   },
   {
    "duration": 29,
    "start_time": "2021-08-04T10:38:30.222Z"
   },
   {
    "duration": 4,
    "start_time": "2021-08-04T10:38:33.704Z"
   },
   {
    "duration": 14452,
    "start_time": "2021-08-04T10:38:51.321Z"
   },
   {
    "duration": 8109,
    "start_time": "2021-08-04T10:40:29.785Z"
   },
   {
    "duration": 37,
    "start_time": "2021-08-04T10:41:41.249Z"
   },
   {
    "duration": 829,
    "start_time": "2021-08-04T10:42:13.965Z"
   },
   {
    "duration": 34,
    "start_time": "2021-08-04T10:43:49.408Z"
   },
   {
    "duration": 242,
    "start_time": "2021-08-04T10:44:13.831Z"
   },
   {
    "duration": 238,
    "start_time": "2021-08-04T10:44:19.965Z"
   },
   {
    "duration": 10540,
    "start_time": "2021-08-04T10:44:46.773Z"
   },
   {
    "duration": 2540,
    "start_time": "2021-08-04T10:45:04.266Z"
   },
   {
    "duration": 1145,
    "start_time": "2021-08-04T10:45:17.485Z"
   },
   {
    "duration": 8,
    "start_time": "2021-08-04T10:45:32.398Z"
   },
   {
    "duration": 7,
    "start_time": "2021-08-04T10:47:13.827Z"
   },
   {
    "duration": 10,
    "start_time": "2021-08-04T10:47:22.530Z"
   },
   {
    "duration": 8039,
    "start_time": "2021-08-04T10:48:04.207Z"
   },
   {
    "duration": 7,
    "start_time": "2021-08-04T10:51:13.682Z"
   },
   {
    "duration": 144,
    "start_time": "2021-08-04T10:51:19.098Z"
   },
   {
    "duration": 7,
    "start_time": "2021-08-04T10:51:23.742Z"
   },
   {
    "duration": 14448,
    "start_time": "2021-08-04T10:54:07.387Z"
   },
   {
    "duration": 1569,
    "start_time": "2021-08-04T10:54:27.321Z"
   },
   {
    "duration": 8,
    "start_time": "2021-08-04T10:54:32.254Z"
   },
   {
    "duration": 1098,
    "start_time": "2021-08-04T10:54:33.891Z"
   },
   {
    "duration": 8789,
    "start_time": "2021-08-04T10:54:56.967Z"
   },
   {
    "duration": 8599,
    "start_time": "2021-08-04T10:55:44.320Z"
   },
   {
    "duration": 7504,
    "start_time": "2021-08-04T11:00:59.723Z"
   },
   {
    "duration": 10121,
    "start_time": "2021-08-04T11:01:44.323Z"
   },
   {
    "duration": 130,
    "start_time": "2021-08-04T11:06:55.995Z"
   },
   {
    "duration": 10,
    "start_time": "2021-08-04T11:07:25.504Z"
   },
   {
    "duration": 7873,
    "start_time": "2021-08-04T12:06:16.689Z"
   },
   {
    "duration": 7564,
    "start_time": "2021-08-04T12:07:52.967Z"
   },
   {
    "duration": 142,
    "start_time": "2021-08-04T12:09:54.918Z"
   },
   {
    "duration": 7518,
    "start_time": "2021-08-04T12:10:16.769Z"
   },
   {
    "duration": 715,
    "start_time": "2021-08-04T12:18:43.522Z"
   },
   {
    "duration": 712,
    "start_time": "2021-08-04T12:19:16.297Z"
   },
   {
    "duration": 20,
    "start_time": "2021-08-04T12:19:19.680Z"
   },
   {
    "duration": 22,
    "start_time": "2021-08-04T12:19:20.716Z"
   },
   {
    "duration": 7,
    "start_time": "2021-08-04T12:19:23.343Z"
   },
   {
    "duration": 8022,
    "start_time": "2021-08-04T12:19:26.684Z"
   },
   {
    "duration": 1591,
    "start_time": "2021-08-04T12:19:42.214Z"
   },
   {
    "duration": 10,
    "start_time": "2021-08-04T12:19:48.912Z"
   },
   {
    "duration": 19182,
    "start_time": "2021-08-04T12:19:52.441Z"
   },
   {
    "duration": 728,
    "start_time": "2021-08-04T12:20:34.629Z"
   },
   {
    "duration": 746,
    "start_time": "2021-08-04T12:20:47.957Z"
   },
   {
    "duration": 24,
    "start_time": "2021-08-04T12:20:49.602Z"
   },
   {
    "duration": 21,
    "start_time": "2021-08-04T12:20:50.372Z"
   },
   {
    "duration": 6,
    "start_time": "2021-08-04T12:20:51.056Z"
   },
   {
    "duration": 7717,
    "start_time": "2021-08-04T12:20:52.385Z"
   },
   {
    "duration": 1751,
    "start_time": "2021-08-04T12:21:00.105Z"
   },
   {
    "duration": 10,
    "start_time": "2021-08-04T12:21:01.860Z"
   },
   {
    "duration": 1106,
    "start_time": "2021-08-04T12:21:01.872Z"
   },
   {
    "duration": 10468,
    "start_time": "2021-08-04T12:21:12.570Z"
   },
   {
    "duration": 58,
    "start_time": "2021-08-04T12:21:36.369Z"
   },
   {
    "duration": 23,
    "start_time": "2021-08-04T12:21:42.166Z"
   },
   {
    "duration": 6,
    "start_time": "2021-08-04T12:21:50.281Z"
   },
   {
    "duration": 212,
    "start_time": "2021-08-04T12:21:53.887Z"
   },
   {
    "duration": 720,
    "start_time": "2021-08-04T12:22:07.220Z"
   },
   {
    "duration": 745,
    "start_time": "2021-08-04T12:22:41.420Z"
   },
   {
    "duration": 796,
    "start_time": "2021-08-04T12:22:55.636Z"
   },
   {
    "duration": 739,
    "start_time": "2021-08-04T12:23:00.301Z"
   },
   {
    "duration": 806,
    "start_time": "2021-08-04T12:23:20.334Z"
   },
   {
    "duration": 7,
    "start_time": "2021-08-04T12:23:39.043Z"
   },
   {
    "duration": 10,
    "start_time": "2021-08-04T12:24:17.299Z"
   },
   {
    "duration": 6,
    "start_time": "2021-08-04T12:24:24.690Z"
   },
   {
    "duration": 14,
    "start_time": "2021-08-04T12:24:30.477Z"
   },
   {
    "duration": 780,
    "start_time": "2021-08-04T12:25:24.391Z"
   },
   {
    "duration": 780,
    "start_time": "2021-08-04T12:25:38.665Z"
   },
   {
    "duration": 8,
    "start_time": "2021-08-04T12:26:32.795Z"
   },
   {
    "duration": 6,
    "start_time": "2021-08-04T12:26:39.287Z"
   },
   {
    "duration": 7,
    "start_time": "2021-08-04T12:26:47.467Z"
   },
   {
    "duration": 7,
    "start_time": "2021-08-04T12:26:55.363Z"
   },
   {
    "duration": 418,
    "start_time": "2021-08-04T12:27:23.805Z"
   },
   {
    "duration": 10,
    "start_time": "2021-08-04T12:27:27.779Z"
   },
   {
    "duration": 235,
    "start_time": "2021-08-04T12:28:06.748Z"
   },
   {
    "duration": 218,
    "start_time": "2021-08-04T12:28:10.892Z"
   },
   {
    "duration": 24,
    "start_time": "2021-08-04T12:28:37.070Z"
   },
   {
    "duration": 729,
    "start_time": "2021-08-04T12:30:24.012Z"
   },
   {
    "duration": 209,
    "start_time": "2021-08-04T12:30:32.789Z"
   },
   {
    "duration": 20,
    "start_time": "2021-08-04T12:30:42.834Z"
   },
   {
    "duration": 20,
    "start_time": "2021-08-04T12:30:58.494Z"
   },
   {
    "duration": 203,
    "start_time": "2021-08-04T12:31:04.288Z"
   },
   {
    "duration": 718,
    "start_time": "2021-08-04T12:31:22.459Z"
   },
   {
    "duration": 21,
    "start_time": "2021-08-04T12:31:24.318Z"
   },
   {
    "duration": 21,
    "start_time": "2021-08-04T12:31:25.312Z"
   },
   {
    "duration": 208,
    "start_time": "2021-08-04T12:31:26.638Z"
   },
   {
    "duration": 16,
    "start_time": "2021-08-04T12:32:16.160Z"
   },
   {
    "duration": 197,
    "start_time": "2021-08-04T12:32:55.966Z"
   },
   {
    "duration": 15,
    "start_time": "2021-08-04T12:33:10.207Z"
   },
   {
    "duration": 4,
    "start_time": "2021-08-04T12:33:30.162Z"
   },
   {
    "duration": 29,
    "start_time": "2021-08-04T12:35:29.610Z"
   },
   {
    "duration": 3,
    "start_time": "2021-08-04T12:35:33.705Z"
   },
   {
    "duration": 715,
    "start_time": "2021-08-04T12:35:42.582Z"
   },
   {
    "duration": 702,
    "start_time": "2021-08-04T12:36:10.914Z"
   },
   {
    "duration": 783,
    "start_time": "2021-08-04T12:36:49.045Z"
   },
   {
    "duration": 461,
    "start_time": "2021-08-04T12:44:46.312Z"
   },
   {
    "duration": 11,
    "start_time": "2021-08-04T12:44:56.335Z"
   },
   {
    "duration": 9,
    "start_time": "2021-08-04T12:45:00.971Z"
   },
   {
    "duration": 10,
    "start_time": "2021-08-04T12:45:07.095Z"
   },
   {
    "duration": 15,
    "start_time": "2021-08-04T12:47:44.361Z"
   },
   {
    "duration": 21,
    "start_time": "2021-08-04T12:49:21.809Z"
   },
   {
    "duration": 205,
    "start_time": "2021-08-04T12:49:50.077Z"
   },
   {
    "duration": 5,
    "start_time": "2021-08-04T12:50:30.572Z"
   },
   {
    "duration": 29,
    "start_time": "2021-08-04T12:50:31.466Z"
   },
   {
    "duration": 28,
    "start_time": "2021-08-04T12:50:47.331Z"
   },
   {
    "duration": 709,
    "start_time": "2021-08-04T12:50:47.925Z"
   },
   {
    "duration": 10,
    "start_time": "2021-08-04T12:50:50.567Z"
   },
   {
    "duration": 15,
    "start_time": "2021-08-04T12:50:50.979Z"
   },
   {
    "duration": 20,
    "start_time": "2021-08-04T12:50:52.432Z"
   },
   {
    "duration": 444,
    "start_time": "2021-08-04T12:56:26.430Z"
   },
   {
    "duration": 20,
    "start_time": "2021-08-04T12:56:42.056Z"
   },
   {
    "duration": 25,
    "start_time": "2021-08-04T12:58:32.315Z"
   },
   {
    "duration": 12,
    "start_time": "2021-08-04T13:00:18.882Z"
   },
   {
    "duration": 19,
    "start_time": "2021-08-04T13:00:28.807Z"
   },
   {
    "duration": 15,
    "start_time": "2021-08-04T13:01:06.413Z"
   },
   {
    "duration": 18,
    "start_time": "2021-08-04T13:01:14.793Z"
   },
   {
    "duration": 439,
    "start_time": "2021-08-04T13:01:22.823Z"
   },
   {
    "duration": 14,
    "start_time": "2021-08-04T13:01:42.254Z"
   },
   {
    "duration": 20,
    "start_time": "2021-08-04T13:01:51.923Z"
   },
   {
    "duration": 4543,
    "start_time": "2021-08-04T13:04:01.076Z"
   },
   {
    "duration": 4259,
    "start_time": "2021-08-04T13:04:44.647Z"
   },
   {
    "duration": 4530,
    "start_time": "2021-08-04T13:05:09.921Z"
   },
   {
    "duration": 7947,
    "start_time": "2021-08-04T13:05:36.808Z"
   },
   {
    "duration": 4504,
    "start_time": "2021-08-04T13:09:07.972Z"
   },
   {
    "duration": 1360,
    "start_time": "2021-08-04T13:09:26.772Z"
   },
   {
    "duration": 4523,
    "start_time": "2021-08-04T13:09:43.536Z"
   },
   {
    "duration": 1351,
    "start_time": "2021-08-04T13:10:13.462Z"
   },
   {
    "duration": 1349,
    "start_time": "2021-08-04T13:10:32.012Z"
   },
   {
    "duration": 1371,
    "start_time": "2021-08-04T13:10:40.016Z"
   },
   {
    "duration": 3987,
    "start_time": "2021-08-04T13:10:55.596Z"
   },
   {
    "duration": 3764,
    "start_time": "2021-08-04T13:12:30.075Z"
   },
   {
    "duration": 3723,
    "start_time": "2021-08-04T13:12:48.951Z"
   },
   {
    "duration": 3602,
    "start_time": "2021-08-04T13:13:03.965Z"
   },
   {
    "duration": 3005,
    "start_time": "2021-08-04T13:13:24.665Z"
   },
   {
    "duration": 2485,
    "start_time": "2021-08-04T13:13:34.226Z"
   },
   {
    "duration": 8,
    "start_time": "2021-08-04T13:15:06.583Z"
   },
   {
    "duration": 8,
    "start_time": "2021-08-04T13:26:54.534Z"
   },
   {
    "duration": 2525,
    "start_time": "2021-08-04T13:39:29.284Z"
   },
   {
    "duration": 1581,
    "start_time": "2021-08-04T13:39:31.812Z"
   },
   {
    "duration": 8,
    "start_time": "2021-08-04T13:39:33.396Z"
   },
   {
    "duration": 1029,
    "start_time": "2021-08-04T13:39:34.865Z"
   },
   {
    "duration": 10558,
    "start_time": "2021-08-04T13:39:37.913Z"
   },
   {
    "duration": 10215,
    "start_time": "2021-08-04T13:40:20.841Z"
   },
   {
    "duration": 1127,
    "start_time": "2021-08-04T13:48:17.962Z"
   },
   {
    "duration": 485,
    "start_time": "2021-08-04T13:48:28.418Z"
   },
   {
    "duration": 549,
    "start_time": "2021-08-04T13:48:44.536Z"
   },
   {
    "duration": 1037,
    "start_time": "2021-08-04T13:50:33.240Z"
   },
   {
    "duration": 14,
    "start_time": "2021-08-04T13:50:36.882Z"
   },
   {
    "duration": 14,
    "start_time": "2021-08-04T13:50:38.753Z"
   },
   {
    "duration": 20,
    "start_time": "2021-08-04T13:50:45.436Z"
   },
   {
    "duration": 213,
    "start_time": "2021-08-04T13:50:47.534Z"
   },
   {
    "duration": 2759,
    "start_time": "2021-08-04T13:51:03.902Z"
   },
   {
    "duration": 605,
    "start_time": "2021-08-04T13:53:36.260Z"
   },
   {
    "duration": 1502,
    "start_time": "2021-08-04T13:53:44.725Z"
   },
   {
    "duration": 581,
    "start_time": "2021-08-04T13:54:22.867Z"
   },
   {
    "duration": 534,
    "start_time": "2021-08-04T13:54:30.485Z"
   },
   {
    "duration": 538,
    "start_time": "2021-08-04T13:54:47.403Z"
   },
   {
    "duration": 527,
    "start_time": "2021-08-04T13:55:35.024Z"
   },
   {
    "duration": 529,
    "start_time": "2021-08-04T13:55:42.822Z"
   },
   {
    "duration": 533,
    "start_time": "2021-08-04T13:55:53.509Z"
   },
   {
    "duration": 539,
    "start_time": "2021-08-04T13:55:57.683Z"
   },
   {
    "duration": 8,
    "start_time": "2021-08-04T13:57:14.727Z"
   },
   {
    "duration": 5,
    "start_time": "2021-08-04T14:06:07.295Z"
   },
   {
    "duration": 375,
    "start_time": "2021-08-04T14:06:31.728Z"
   },
   {
    "duration": 366,
    "start_time": "2021-08-04T14:06:35.715Z"
   },
   {
    "duration": 391,
    "start_time": "2021-08-04T14:13:00.305Z"
   },
   {
    "duration": 5,
    "start_time": "2021-08-04T14:13:05.226Z"
   },
   {
    "duration": 4690,
    "start_time": "2021-08-04T14:13:06.676Z"
   },
   {
    "duration": 6,
    "start_time": "2021-08-04T14:13:49.981Z"
   },
   {
    "duration": 4,
    "start_time": "2021-08-04T14:15:03.866Z"
   },
   {
    "duration": 2161,
    "start_time": "2021-08-04T14:15:04.373Z"
   },
   {
    "duration": 4,
    "start_time": "2021-08-04T14:15:18.584Z"
   },
   {
    "duration": 5071,
    "start_time": "2021-08-04T14:15:19.355Z"
   },
   {
    "duration": 6,
    "start_time": "2021-08-04T14:15:25.316Z"
   },
   {
    "duration": 5,
    "start_time": "2021-08-04T14:15:34.525Z"
   },
   {
    "duration": 5,
    "start_time": "2021-08-04T14:15:37.380Z"
   },
   {
    "duration": 7,
    "start_time": "2021-08-04T14:15:40.782Z"
   },
   {
    "duration": 5,
    "start_time": "2021-08-04T14:15:44.128Z"
   },
   {
    "duration": 4,
    "start_time": "2021-08-04T14:15:49.617Z"
   },
   {
    "duration": 5,
    "start_time": "2021-08-04T14:15:57.884Z"
   },
   {
    "duration": 5,
    "start_time": "2021-08-04T14:16:02.370Z"
   },
   {
    "duration": 5,
    "start_time": "2021-08-04T14:16:11.673Z"
   },
   {
    "duration": 7,
    "start_time": "2021-08-04T14:16:50.177Z"
   },
   {
    "duration": 5,
    "start_time": "2021-08-04T14:17:05.625Z"
   },
   {
    "duration": 4921,
    "start_time": "2021-08-04T15:10:04.612Z"
   },
   {
    "duration": 7,
    "start_time": "2021-08-04T15:10:10.647Z"
   },
   {
    "duration": 1580,
    "start_time": "2021-08-05T08:19:00.214Z"
   },
   {
    "duration": 44,
    "start_time": "2021-08-05T08:19:05.677Z"
   },
   {
    "duration": 740,
    "start_time": "2021-08-05T08:19:06.705Z"
   },
   {
    "duration": 11,
    "start_time": "2021-08-05T08:19:08.568Z"
   },
   {
    "duration": 15,
    "start_time": "2021-08-05T08:19:14.067Z"
   },
   {
    "duration": 21,
    "start_time": "2021-08-05T08:19:15.948Z"
   },
   {
    "duration": 240,
    "start_time": "2021-08-05T08:19:16.999Z"
   },
   {
    "duration": 2628,
    "start_time": "2021-08-05T08:19:23.867Z"
   },
   {
    "duration": 593,
    "start_time": "2021-08-05T08:19:30.968Z"
   },
   {
    "duration": 8,
    "start_time": "2021-08-05T08:19:34.057Z"
   },
   {
    "duration": 43,
    "start_time": "2021-08-05T08:20:38.099Z"
   },
   {
    "duration": 21,
    "start_time": "2021-08-05T08:20:43.045Z"
   },
   {
    "duration": 4,
    "start_time": "2021-08-05T08:20:46.382Z"
   },
   {
    "duration": 6570,
    "start_time": "2021-08-05T08:20:48.194Z"
   },
   {
    "duration": 7,
    "start_time": "2021-08-05T08:20:54.766Z"
   },
   {
    "duration": 856,
    "start_time": "2021-08-05T08:26:41.006Z"
   },
   {
    "duration": 20,
    "start_time": "2021-08-05T08:27:08.666Z"
   },
   {
    "duration": 377,
    "start_time": "2021-08-05T08:27:48.360Z"
   },
   {
    "duration": 361,
    "start_time": "2021-08-05T08:27:51.452Z"
   },
   {
    "duration": 42,
    "start_time": "2021-08-05T08:28:05.473Z"
   },
   {
    "duration": 4,
    "start_time": "2021-08-05T08:28:06.312Z"
   },
   {
    "duration": 30,
    "start_time": "2021-08-05T08:28:06.887Z"
   },
   {
    "duration": 3,
    "start_time": "2021-08-05T08:28:19.836Z"
   },
   {
    "duration": 6,
    "start_time": "2021-08-05T08:28:39.551Z"
   },
   {
    "duration": 357,
    "start_time": "2021-08-05T08:28:51.653Z"
   },
   {
    "duration": 5,
    "start_time": "2021-08-05T08:29:01.012Z"
   },
   {
    "duration": 4898,
    "start_time": "2021-08-05T08:29:01.792Z"
   },
   {
    "duration": 369,
    "start_time": "2021-08-05T08:29:34.180Z"
   },
   {
    "duration": 5,
    "start_time": "2021-08-05T08:29:39.536Z"
   },
   {
    "duration": 5543,
    "start_time": "2021-08-05T08:30:08.752Z"
   },
   {
    "duration": 18,
    "start_time": "2021-08-05T08:30:34.782Z"
   },
   {
    "duration": 10424,
    "start_time": "2021-08-05T08:30:35.169Z"
   },
   {
    "duration": 8,
    "start_time": "2021-08-05T08:30:51.404Z"
   },
   {
    "duration": 6,
    "start_time": "2021-08-05T08:31:08.976Z"
   },
   {
    "duration": 6,
    "start_time": "2021-08-05T08:31:22.120Z"
   },
   {
    "duration": 8,
    "start_time": "2021-08-05T08:31:26.618Z"
   },
   {
    "duration": 6,
    "start_time": "2021-08-05T08:31:31.648Z"
   },
   {
    "duration": 31,
    "start_time": "2021-08-05T08:31:38.758Z"
   },
   {
    "duration": 6,
    "start_time": "2021-08-05T08:32:21.805Z"
   },
   {
    "duration": -1905,
    "start_time": "2021-08-05T08:32:52.639Z"
   },
   {
    "duration": 14,
    "start_time": "2021-08-05T08:33:12.032Z"
   },
   {
    "duration": 377,
    "start_time": "2021-08-05T08:33:21.782Z"
   },
   {
    "duration": 25,
    "start_time": "2021-08-05T08:33:52.972Z"
   },
   {
    "duration": 4,
    "start_time": "2021-08-05T08:33:53.702Z"
   },
   {
    "duration": 13,
    "start_time": "2021-08-05T08:33:55.272Z"
   },
   {
    "duration": 16,
    "start_time": "2021-08-05T08:33:55.660Z"
   },
   {
    "duration": 9852,
    "start_time": "2021-08-05T08:33:56.139Z"
   },
   {
    "duration": 9,
    "start_time": "2021-08-05T08:34:05.994Z"
   },
   {
    "duration": 7414,
    "start_time": "2021-08-05T08:34:06.005Z"
   },
   {
    "duration": 2399,
    "start_time": "2021-08-05T08:35:46.657Z"
   },
   {
    "duration": 7464,
    "start_time": "2021-08-05T08:36:22.070Z"
   },
   {
    "duration": 6,
    "start_time": "2021-08-05T08:36:40.118Z"
   },
   {
    "duration": 2967,
    "start_time": "2021-08-05T08:36:41.350Z"
   },
   {
    "duration": 7816,
    "start_time": "2021-08-05T08:37:07.510Z"
   },
   {
    "duration": 2262,
    "start_time": "2021-08-05T08:37:15.329Z"
   },
   {
    "duration": 20,
    "start_time": "2021-08-05T08:38:15.736Z"
   },
   {
    "duration": 6,
    "start_time": "2021-08-05T08:38:16.903Z"
   },
   {
    "duration": 5196,
    "start_time": "2021-08-05T08:38:17.183Z"
   },
   {
    "duration": 6,
    "start_time": "2021-08-05T08:38:22.382Z"
   },
   {
    "duration": 26,
    "start_time": "2021-08-05T08:38:22.406Z"
   },
   {
    "duration": 6,
    "start_time": "2021-08-05T08:38:22.436Z"
   },
   {
    "duration": 16,
    "start_time": "2021-08-05T08:38:22.444Z"
   },
   {
    "duration": 60,
    "start_time": "2021-08-05T08:38:22.462Z"
   },
   {
    "duration": 10809,
    "start_time": "2021-08-05T08:38:22.526Z"
   },
   {
    "duration": 8,
    "start_time": "2021-08-05T08:38:33.338Z"
   },
   {
    "duration": 6977,
    "start_time": "2021-08-05T08:38:33.349Z"
   },
   {
    "duration": 2171,
    "start_time": "2021-08-05T08:38:40.329Z"
   },
   {
    "duration": 22,
    "start_time": "2021-08-05T08:39:02.677Z"
   },
   {
    "duration": 2030,
    "start_time": "2021-08-05T08:39:08.045Z"
   },
   {
    "duration": 402,
    "start_time": "2021-08-05T08:43:42.344Z"
   },
   {
    "duration": 3,
    "start_time": "2021-08-05T08:44:00.056Z"
   },
   {
    "duration": 10,
    "start_time": "2021-08-05T08:44:00.503Z"
   },
   {
    "duration": 374,
    "start_time": "2021-08-05T08:44:34.515Z"
   },
   {
    "duration": 1782,
    "start_time": "2021-08-05T08:44:42.990Z"
   },
   {
    "duration": 115,
    "start_time": "2021-08-05T08:45:51.518Z"
   },
   {
    "duration": 8,
    "start_time": "2021-08-05T08:45:56.358Z"
   },
   {
    "duration": 1659,
    "start_time": "2021-08-05T08:45:57.884Z"
   },
   {
    "duration": 5,
    "start_time": "2021-08-05T08:54:51.801Z"
   },
   {
    "duration": 707,
    "start_time": "2021-08-05T08:55:20.334Z"
   },
   {
    "duration": 620,
    "start_time": "2021-08-05T08:57:18.510Z"
   },
   {
    "duration": 1804,
    "start_time": "2021-08-05T08:57:34.520Z"
   },
   {
    "duration": 4,
    "start_time": "2021-08-05T08:58:06.553Z"
   },
   {
    "duration": 5018,
    "start_time": "2021-08-05T08:58:07.455Z"
   },
   {
    "duration": 8,
    "start_time": "2021-08-05T08:58:21.316Z"
   },
   {
    "duration": 4,
    "start_time": "2021-08-05T09:00:17.451Z"
   },
   {
    "duration": 1013,
    "start_time": "2021-08-05T09:00:57.956Z"
   },
   {
    "duration": 33,
    "start_time": "2021-08-05T09:00:58.973Z"
   },
   {
    "duration": 521064,
    "start_time": "2021-08-05T09:01:53.184Z"
   },
   {
    "duration": 6,
    "start_time": "2021-08-05T09:10:34.250Z"
   },
   {
    "duration": 6,
    "start_time": "2021-08-05T09:10:39.932Z"
   },
   {
    "duration": 43,
    "start_time": "2021-08-05T09:10:55.737Z"
   },
   {
    "duration": 9959,
    "start_time": "2021-08-05T09:11:23.463Z"
   },
   {
    "duration": 9846,
    "start_time": "2021-08-05T09:13:22.342Z"
   },
   {
    "duration": 9724,
    "start_time": "2021-08-05T09:13:39.528Z"
   },
   {
    "duration": 1644,
    "start_time": "2021-08-05T09:13:54.260Z"
   },
   {
    "duration": 11294,
    "start_time": "2021-08-05T09:14:01.121Z"
   },
   {
    "duration": 267,
    "start_time": "2021-08-05T09:14:36.425Z"
   },
   {
    "duration": 30141,
    "start_time": "2021-08-05T09:14:42.156Z"
   },
   {
    "duration": 6,
    "start_time": "2021-08-05T09:15:12.303Z"
   },
   {
    "duration": 30,
    "start_time": "2021-08-05T09:15:12.312Z"
   },
   {
    "duration": 708,
    "start_time": "2021-08-05T09:15:12.344Z"
   },
   {
    "duration": 9084,
    "start_time": "2021-08-05T09:15:23.896Z"
   },
   {
    "duration": 151284,
    "start_time": "2021-08-05T09:16:24.573Z"
   },
   {
    "duration": 5885,
    "start_time": "2021-08-05T09:21:18.502Z"
   },
   {
    "duration": 10235,
    "start_time": "2021-08-05T09:21:34.903Z"
   },
   {
    "duration": 10373,
    "start_time": "2021-08-05T09:22:06.021Z"
   },
   {
    "duration": 11730,
    "start_time": "2021-08-05T09:22:25.155Z"
   },
   {
    "duration": 2881,
    "start_time": "2021-08-05T09:22:38.824Z"
   },
   {
    "duration": 16052,
    "start_time": "2021-08-05T09:22:57.052Z"
   },
   {
    "duration": 17626,
    "start_time": "2021-08-05T09:23:25.805Z"
   },
   {
    "duration": 313928,
    "start_time": "2021-08-05T09:23:43.434Z"
   },
   {
    "duration": 15891,
    "start_time": "2021-08-05T09:28:57.365Z"
   },
   {
    "duration": 169676,
    "start_time": "2021-08-05T09:29:18.894Z"
   },
   {
    "duration": 13369,
    "start_time": "2021-08-05T09:33:04.006Z"
   },
   {
    "duration": 22079,
    "start_time": "2021-08-05T09:33:42.078Z"
   },
   {
    "duration": 11442,
    "start_time": "2021-08-05T09:34:24.325Z"
   },
   {
    "duration": 320890,
    "start_time": "2021-08-05T09:35:10.730Z"
   },
   {
    "duration": 7998,
    "start_time": "2021-08-05T09:45:46.277Z"
   },
   {
    "duration": 68131,
    "start_time": "2021-08-05T09:46:14.365Z"
   },
   {
    "duration": 29922,
    "start_time": "2021-08-05T09:47:41.263Z"
   },
   {
    "duration": 57370,
    "start_time": "2021-08-05T09:48:23.268Z"
   },
   {
    "duration": 80874,
    "start_time": "2021-08-05T09:49:30.593Z"
   },
   {
    "duration": 41754,
    "start_time": "2021-08-05T09:50:54.607Z"
   },
   {
    "duration": 8554,
    "start_time": "2021-08-05T09:52:20.306Z"
   },
   {
    "duration": 13947,
    "start_time": "2021-08-05T09:52:35.346Z"
   },
   {
    "duration": 467,
    "start_time": "2021-08-05T09:52:59.655Z"
   },
   {
    "duration": 53,
    "start_time": "2021-08-05T09:53:16.683Z"
   },
   {
    "duration": 12,
    "start_time": "2021-08-05T09:55:46.567Z"
   },
   {
    "duration": 2678,
    "start_time": "2021-08-05T09:58:43.799Z"
   },
   {
    "duration": 49,
    "start_time": "2021-08-05T09:58:46.481Z"
   },
   {
    "duration": 770,
    "start_time": "2021-08-05T09:58:46.533Z"
   },
   {
    "duration": 12,
    "start_time": "2021-08-05T09:58:47.311Z"
   },
   {
    "duration": 14,
    "start_time": "2021-08-05T09:58:47.325Z"
   },
   {
    "duration": 23,
    "start_time": "2021-08-05T09:58:47.342Z"
   },
   {
    "duration": 269,
    "start_time": "2021-08-05T09:58:47.367Z"
   },
   {
    "duration": 2711,
    "start_time": "2021-08-05T09:58:47.639Z"
   },
   {
    "duration": 594,
    "start_time": "2021-08-05T09:58:50.354Z"
   },
   {
    "duration": 9,
    "start_time": "2021-08-05T09:58:50.950Z"
   },
   {
    "duration": 5,
    "start_time": "2021-08-05T09:58:50.961Z"
   },
   {
    "duration": 1733,
    "start_time": "2021-08-05T09:58:50.968Z"
   },
   {
    "duration": 23,
    "start_time": "2021-08-05T09:58:52.705Z"
   },
   {
    "duration": 5340,
    "start_time": "2021-08-05T09:58:52.731Z"
   },
   {
    "duration": 7,
    "start_time": "2021-08-05T09:58:58.073Z"
   },
   {
    "duration": 560684,
    "start_time": "2021-08-05T09:58:58.082Z"
   },
   {
    "duration": 6,
    "start_time": "2021-08-05T10:08:18.768Z"
   },
   {
    "duration": 62,
    "start_time": "2021-08-05T10:08:18.776Z"
   },
   {
    "duration": 10493,
    "start_time": "2021-08-05T10:08:18.840Z"
   },
   {
    "duration": 1777,
    "start_time": "2021-08-05T10:08:29.336Z"
   },
   {
    "duration": 9755,
    "start_time": "2021-08-05T10:08:31.115Z"
   },
   {
    "duration": 11777,
    "start_time": "2021-08-05T10:08:40.872Z"
   },
   {
    "duration": 175981,
    "start_time": "2021-08-05T10:08:52.653Z"
   },
   {
    "duration": 34,
    "start_time": "2021-08-05T10:11:48.637Z"
   },
   {
    "duration": 36,
    "start_time": "2021-08-05T10:12:04.156Z"
   },
   {
    "duration": 33,
    "start_time": "2021-08-05T10:12:07.825Z"
   },
   {
    "duration": 10784,
    "start_time": "2021-08-05T10:12:22.981Z"
   },
   {
    "duration": 14727,
    "start_time": "2021-08-05T10:33:03.797Z"
   },
   {
    "duration": 23721,
    "start_time": "2021-08-05T10:35:54.125Z"
   },
   {
    "duration": 41745,
    "start_time": "2021-08-05T10:36:30.208Z"
   },
   {
    "duration": 21853,
    "start_time": "2021-08-05T10:37:20.904Z"
   },
   {
    "duration": 41598,
    "start_time": "2021-08-05T10:37:55.749Z"
   },
   {
    "duration": 68542,
    "start_time": "2021-08-05T10:41:53.672Z"
   },
   {
    "duration": 42790,
    "start_time": "2021-08-05T10:45:25.169Z"
   },
   {
    "duration": 9564,
    "start_time": "2021-08-05T10:47:00.870Z"
   },
   {
    "duration": 42388,
    "start_time": "2021-08-05T10:47:19.421Z"
   },
   {
    "duration": 1751,
    "start_time": "2021-08-05T11:00:08.173Z"
   },
   {
    "duration": 585,
    "start_time": "2021-08-05T11:08:57.092Z"
   },
   {
    "duration": 43,
    "start_time": "2021-08-05T11:09:03.842Z"
   },
   {
    "duration": 384,
    "start_time": "2021-08-05T11:09:07.292Z"
   },
   {
    "duration": 8,
    "start_time": "2021-08-05T11:09:39.299Z"
   },
   {
    "duration": 10,
    "start_time": "2021-08-05T11:09:57.486Z"
   },
   {
    "duration": 10,
    "start_time": "2021-08-05T11:10:42.562Z"
   },
   {
    "duration": 373,
    "start_time": "2021-08-05T11:11:56.521Z"
   },
   {
    "duration": 155,
    "start_time": "2021-08-05T11:12:03.894Z"
   },
   {
    "duration": 9,
    "start_time": "2021-08-05T11:12:35.711Z"
   },
   {
    "duration": 26,
    "start_time": "2021-08-05T11:13:35.186Z"
   },
   {
    "duration": 214,
    "start_time": "2021-08-05T11:14:10.348Z"
   },
   {
    "duration": 11,
    "start_time": "2021-08-05T11:16:21.304Z"
   },
   {
    "duration": 39,
    "start_time": "2021-08-05T11:20:03.976Z"
   },
   {
    "duration": 9,
    "start_time": "2021-08-05T11:24:26.524Z"
   },
   {
    "duration": 9,
    "start_time": "2021-08-05T11:25:32.657Z"
   },
   {
    "duration": 9,
    "start_time": "2021-08-05T11:25:39.065Z"
   },
   {
    "duration": 11,
    "start_time": "2021-08-05T11:25:44.175Z"
   },
   {
    "duration": 10,
    "start_time": "2021-08-05T11:25:54.247Z"
   },
   {
    "duration": 10,
    "start_time": "2021-08-05T11:26:14.550Z"
   },
   {
    "duration": 9,
    "start_time": "2021-08-05T11:26:22.159Z"
   },
   {
    "duration": 9,
    "start_time": "2021-08-05T11:26:33.146Z"
   },
   {
    "duration": 41,
    "start_time": "2021-08-05T11:36:45.224Z"
   },
   {
    "duration": 10,
    "start_time": "2021-08-05T11:36:55.268Z"
   },
   {
    "duration": 42,
    "start_time": "2021-08-05T11:39:15.165Z"
   },
   {
    "duration": 493,
    "start_time": "2021-08-05T11:40:23.644Z"
   },
   {
    "duration": 2941,
    "start_time": "2021-08-05T12:01:24.078Z"
   },
   {
    "duration": 32,
    "start_time": "2021-08-05T12:01:27.022Z"
   },
   {
    "duration": 809,
    "start_time": "2021-08-05T12:01:27.057Z"
   },
   {
    "duration": 10,
    "start_time": "2021-08-05T12:01:27.869Z"
   },
   {
    "duration": 35,
    "start_time": "2021-08-05T12:01:27.881Z"
   },
   {
    "duration": 21,
    "start_time": "2021-08-05T12:01:27.920Z"
   },
   {
    "duration": 241,
    "start_time": "2021-08-05T12:01:27.944Z"
   },
   {
    "duration": 713,
    "start_time": "2021-08-05T12:01:28.189Z"
   },
   {
    "duration": -1713,
    "start_time": "2021-08-05T12:01:30.619Z"
   },
   {
    "duration": -1752,
    "start_time": "2021-08-05T12:01:30.660Z"
   },
   {
    "duration": -1766,
    "start_time": "2021-08-05T12:01:30.677Z"
   },
   {
    "duration": -1780,
    "start_time": "2021-08-05T12:01:30.693Z"
   },
   {
    "duration": -1798,
    "start_time": "2021-08-05T12:01:30.712Z"
   },
   {
    "duration": -1802,
    "start_time": "2021-08-05T12:01:30.718Z"
   },
   {
    "duration": -1816,
    "start_time": "2021-08-05T12:01:30.733Z"
   },
   {
    "duration": -1818,
    "start_time": "2021-08-05T12:01:30.738Z"
   },
   {
    "duration": -1829,
    "start_time": "2021-08-05T12:01:30.751Z"
   },
   {
    "duration": -1831,
    "start_time": "2021-08-05T12:01:30.755Z"
   },
   {
    "duration": -1835,
    "start_time": "2021-08-05T12:01:30.760Z"
   },
   {
    "duration": -1845,
    "start_time": "2021-08-05T12:01:30.771Z"
   },
   {
    "duration": -1849,
    "start_time": "2021-08-05T12:01:30.777Z"
   },
   {
    "duration": -1853,
    "start_time": "2021-08-05T12:01:30.782Z"
   },
   {
    "duration": -1862,
    "start_time": "2021-08-05T12:01:30.792Z"
   },
   {
    "duration": -1864,
    "start_time": "2021-08-05T12:01:30.796Z"
   },
   {
    "duration": -1875,
    "start_time": "2021-08-05T12:01:30.808Z"
   },
   {
    "duration": -1878,
    "start_time": "2021-08-05T12:01:30.813Z"
   },
   {
    "duration": -1882,
    "start_time": "2021-08-05T12:01:30.818Z"
   },
   {
    "duration": 7,
    "start_time": "2021-08-05T12:01:53.214Z"
   },
   {
    "duration": 2491,
    "start_time": "2021-08-05T12:02:03.891Z"
   },
   {
    "duration": 49,
    "start_time": "2021-08-05T12:02:06.385Z"
   },
   {
    "duration": 806,
    "start_time": "2021-08-05T12:02:06.437Z"
   },
   {
    "duration": 9,
    "start_time": "2021-08-05T12:02:07.246Z"
   },
   {
    "duration": 26,
    "start_time": "2021-08-05T12:02:07.257Z"
   },
   {
    "duration": 48,
    "start_time": "2021-08-05T12:02:07.286Z"
   },
   {
    "duration": 245,
    "start_time": "2021-08-05T12:02:07.337Z"
   },
   {
    "duration": 2715,
    "start_time": "2021-08-05T12:02:07.586Z"
   },
   {
    "duration": 650,
    "start_time": "2021-08-05T12:02:10.307Z"
   },
   {
    "duration": 11,
    "start_time": "2021-08-05T12:02:10.960Z"
   },
   {
    "duration": 26,
    "start_time": "2021-08-05T12:02:10.974Z"
   },
   {
    "duration": 1663,
    "start_time": "2021-08-05T12:02:11.005Z"
   },
   {
    "duration": 30,
    "start_time": "2021-08-05T12:02:12.671Z"
   },
   {
    "duration": 4961,
    "start_time": "2021-08-05T12:02:12.704Z"
   },
   {
    "duration": 8,
    "start_time": "2021-08-05T12:02:17.668Z"
   },
   {
    "duration": 541907,
    "start_time": "2021-08-05T12:02:17.678Z"
   },
   {
    "duration": 16,
    "start_time": "2021-08-05T12:11:19.587Z"
   },
   {
    "duration": 64,
    "start_time": "2021-08-05T12:11:19.606Z"
   },
   {
    "duration": 13301,
    "start_time": "2021-08-05T12:11:19.672Z"
   },
   {
    "duration": 1771,
    "start_time": "2021-08-05T12:11:32.976Z"
   },
   {
    "duration": 10473,
    "start_time": "2021-08-05T12:11:34.750Z"
   },
   {
    "duration": 44509,
    "start_time": "2021-08-05T12:11:45.226Z"
   },
   {
    "duration": 176863,
    "start_time": "2021-08-05T12:12:29.744Z"
   },
   {
    "duration": 42,
    "start_time": "2021-08-05T12:15:26.612Z"
   },
   {
    "duration": 10,
    "start_time": "2021-08-05T12:15:26.657Z"
   },
   {
    "duration": 201,
    "start_time": "2021-08-05T12:15:26.701Z"
   },
   {
    "duration": 568,
    "start_time": "2021-08-05T12:15:26.905Z"
   },
   {
    "duration": 25,
    "start_time": "2021-08-05T12:15:27.477Z"
   },
   {
    "duration": 8,
    "start_time": "2021-08-05T12:23:25.983Z"
   },
   {
    "duration": 795,
    "start_time": "2021-08-05T12:23:26.519Z"
   },
   {
    "duration": 6,
    "start_time": "2021-08-05T12:23:39.245Z"
   },
   {
    "duration": 572,
    "start_time": "2021-08-05T12:23:40.951Z"
   },
   {
    "duration": 5,
    "start_time": "2021-08-05T12:24:21.952Z"
   },
   {
    "duration": 29,
    "start_time": "2021-08-05T12:24:23.280Z"
   },
   {
    "duration": 22,
    "start_time": "2021-08-05T12:24:47.876Z"
   },
   {
    "duration": 62515,
    "start_time": "2021-08-05T12:24:53.362Z"
   },
   {
    "duration": 682,
    "start_time": "2021-08-05T12:26:21.843Z"
   },
   {
    "duration": 170950,
    "start_time": "2021-08-05T12:26:27.941Z"
   },
   {
    "duration": 6346,
    "start_time": "2021-08-05T12:29:18.894Z"
   },
   {
    "duration": 435,
    "start_time": "2021-08-05T12:29:38.650Z"
   },
   {
    "duration": 356,
    "start_time": "2021-08-05T12:30:34.928Z"
   },
   {
    "duration": 372,
    "start_time": "2021-08-05T12:30:40.414Z"
   },
   {
    "duration": 1045,
    "start_time": "2021-08-05T12:30:48.241Z"
   },
   {
    "duration": 715,
    "start_time": "2021-08-05T12:30:55.068Z"
   },
   {
    "duration": 5,
    "start_time": "2021-08-05T12:31:56.726Z"
   },
   {
    "duration": 350,
    "start_time": "2021-08-05T12:32:04.814Z"
   },
   {
    "duration": 4,
    "start_time": "2021-08-05T12:32:16.980Z"
   },
   {
    "duration": 6083,
    "start_time": "2021-08-05T12:32:26.823Z"
   },
   {
    "duration": 2617,
    "start_time": "2021-08-05T12:32:47.926Z"
   },
   {
    "duration": 33,
    "start_time": "2021-08-05T12:32:50.546Z"
   },
   {
    "duration": 778,
    "start_time": "2021-08-05T12:32:50.582Z"
   },
   {
    "duration": 13,
    "start_time": "2021-08-05T12:32:51.364Z"
   },
   {
    "duration": 36,
    "start_time": "2021-08-05T12:32:51.380Z"
   },
   {
    "duration": 22,
    "start_time": "2021-08-05T12:32:51.419Z"
   },
   {
    "duration": 247,
    "start_time": "2021-08-05T12:32:51.444Z"
   },
   {
    "duration": 2655,
    "start_time": "2021-08-05T12:32:51.694Z"
   },
   {
    "duration": 579,
    "start_time": "2021-08-05T12:32:54.352Z"
   },
   {
    "duration": 7,
    "start_time": "2021-08-05T12:32:54.933Z"
   },
   {
    "duration": 8,
    "start_time": "2021-08-05T12:32:54.943Z"
   },
   {
    "duration": 1574,
    "start_time": "2021-08-05T12:32:54.953Z"
   },
   {
    "duration": 23,
    "start_time": "2021-08-05T12:32:56.530Z"
   },
   {
    "duration": 5960,
    "start_time": "2021-08-05T12:32:56.555Z"
   },
   {
    "duration": 6,
    "start_time": "2021-08-05T12:33:02.517Z"
   },
   {
    "duration": 584404,
    "start_time": "2021-08-05T12:33:02.526Z"
   },
   {
    "duration": 5,
    "start_time": "2021-08-05T12:42:46.933Z"
   },
   {
    "duration": 74,
    "start_time": "2021-08-05T12:42:46.940Z"
   },
   {
    "duration": 10502,
    "start_time": "2021-08-05T12:42:47.017Z"
   },
   {
    "duration": 1699,
    "start_time": "2021-08-05T12:42:57.522Z"
   },
   {
    "duration": 11376,
    "start_time": "2021-08-05T12:42:59.224Z"
   },
   {
    "duration": 43876,
    "start_time": "2021-08-05T12:43:10.604Z"
   },
   {
    "duration": 175656,
    "start_time": "2021-08-05T12:43:54.486Z"
   },
   {
    "duration": 58,
    "start_time": "2021-08-05T12:46:50.145Z"
   },
   {
    "duration": 10,
    "start_time": "2021-08-05T12:46:50.205Z"
   },
   {
    "duration": 188,
    "start_time": "2021-08-05T12:46:50.217Z"
   },
   {
    "duration": 556,
    "start_time": "2021-08-05T12:46:50.408Z"
   },
   {
    "duration": 5,
    "start_time": "2021-08-05T12:57:26.988Z"
   },
   {
    "duration": 44194,
    "start_time": "2021-08-06T10:47:13.347Z"
   },
   {
    "duration": 19,
    "start_time": "2021-08-06T10:47:57.543Z"
   },
   {
    "duration": 567,
    "start_time": "2021-08-06T10:47:57.564Z"
   },
   {
    "duration": 6,
    "start_time": "2021-08-06T10:47:58.133Z"
   },
   {
    "duration": 7,
    "start_time": "2021-08-06T10:47:58.140Z"
   },
   {
    "duration": 12,
    "start_time": "2021-08-06T10:47:58.149Z"
   },
   {
    "duration": 181,
    "start_time": "2021-08-06T10:47:58.163Z"
   },
   {
    "duration": 2025,
    "start_time": "2021-08-06T10:47:58.347Z"
   },
   {
    "duration": 567,
    "start_time": "2021-08-06T10:48:00.374Z"
   },
   {
    "duration": 5,
    "start_time": "2021-08-06T10:48:00.943Z"
   },
   {
    "duration": 17,
    "start_time": "2021-08-06T10:48:00.950Z"
   },
   {
    "duration": 575,
    "start_time": "2021-08-06T10:48:00.969Z"
   },
   {
    "duration": 13,
    "start_time": "2021-08-06T10:48:01.545Z"
   },
   {
    "duration": 3609,
    "start_time": "2021-08-06T10:48:01.560Z"
   },
   {
    "duration": 5,
    "start_time": "2021-08-06T10:48:05.171Z"
   },
   {
    "duration": 347572,
    "start_time": "2021-08-06T10:48:05.177Z"
   },
   {
    "duration": 3,
    "start_time": "2021-08-06T10:53:52.751Z"
   },
   {
    "duration": 50,
    "start_time": "2021-08-06T10:53:52.756Z"
   },
   {
    "duration": 6311,
    "start_time": "2021-08-06T10:53:52.808Z"
   },
   {
    "duration": 1140,
    "start_time": "2021-08-06T10:53:59.120Z"
   },
   {
    "duration": 8734,
    "start_time": "2021-08-06T10:54:00.262Z"
   },
   {
    "duration": 24731,
    "start_time": "2021-08-06T10:54:08.997Z"
   },
   {
    "duration": 123013,
    "start_time": "2021-08-06T10:54:33.730Z"
   },
   {
    "duration": 27,
    "start_time": "2021-08-06T10:56:36.745Z"
   },
   {
    "duration": 22,
    "start_time": "2021-08-06T10:56:36.773Z"
   },
   {
    "duration": 28,
    "start_time": "2021-08-06T10:56:36.796Z"
   },
   {
    "duration": 402,
    "start_time": "2021-08-06T10:56:36.825Z"
   }
  ],
  "kernelspec": {
   "display_name": "Python 3",
   "language": "python",
   "name": "python3"
  },
  "language_info": {
   "codemirror_mode": {
    "name": "ipython",
    "version": 3
   },
   "file_extension": ".py",
   "mimetype": "text/x-python",
   "name": "python",
   "nbconvert_exporter": "python",
   "pygments_lexer": "ipython3",
   "version": "3.8.10"
  },
  "toc": {
   "base_numbering": 1,
   "nav_menu": {},
   "number_sections": true,
   "sideBar": true,
   "skip_h1_title": true,
   "title_cell": "Table of Contents",
   "title_sidebar": "Contents",
   "toc_cell": false,
   "toc_position": {
    "height": "calc(100% - 180px)",
    "left": "10px",
    "top": "150px",
    "width": "165px"
   },
   "toc_section_display": true,
   "toc_window_display": true
  }
 },
 "nbformat": 4,
 "nbformat_minor": 4
}
